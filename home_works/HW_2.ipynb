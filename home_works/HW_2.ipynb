{
 "cells": [
  {
   "cell_type": "markdown",
   "metadata": {},
   "source": [
    "# Домашнее задание по курсу анализа данных # 2\n",
    "Версия от 14.11.2021\n",
    "\n",
    "Всего 50 баллов = 50 основных + 10 дополнительных\n",
    "\n",
    "**Оценка**  = (Количество баллов за работу*2 + 20)/10\n",
    "\n",
    "**Мягкий дедлайн: 06.12.2021  23:59**\n",
    "\n",
    "**Жесткий дедлайн: 11.12.2021  23:59**\n",
    "\n",
    "Присылать решение ссылкой на ваш **github** в телеграмм **@Aleron75** или на почту **milenkin.aa@phystech.edu**\n",
    "\n",
    "**Автор:** Миленькин Александр"
   ]
  },
  {
   "cell_type": "code",
   "execution_count": null,
   "metadata": {},
   "outputs": [],
   "source": []
  },
  {
   "cell_type": "markdown",
   "metadata": {},
   "source": [
    "# Парсим рейтинг преподавателей с Вики-Физтех"
   ]
  },
  {
   "cell_type": "markdown",
   "metadata": {},
   "source": [
    "<div class=\"alert alert-info\">\n",
    "    \n",
    "Итак, перед вами **VIKI-MIPT** - сборник отзывов о кафедрах и преподавателях МФТИ: ` http://wikimipt.org/wiki/ `\n",
    "\n",
    "Эта кладезь отзывов не раз давала студентам оценить психологический портрет потенциальных экзаменаторов и преподавателей. \n",
    "    \n",
    "    \n",
    "<img src=\"../lessons/images/wiki_mipt_front.PNG\" height=\"300\" width=\"1300\"> \n",
    "\n"
   ]
  },
  {
   "cell_type": "markdown",
   "metadata": {},
   "source": [
    "# Описание задачи: "
   ]
  },
  {
   "cell_type": "markdown",
   "metadata": {},
   "source": [
    "**Задача** - собрать данные по всем текущим преподавателям всех `институтских кафедр` МФТИ.\n",
    "\n",
    "Собранный датасет должен представлять из себя `.csv` файл со следующими полями:\n",
    "\n",
    "* `full_name` - ФИО преподавателя\n",
    "* `birth_day` - Дата рождения преподавателя\n",
    "*  `teach_place` - Кафедра\n",
    "*  `degree`- Ученая Степень\n",
    "* `knowledge` - Знания\n",
    "*  `teaching_skill` - Умение преподавать\t\n",
    "* `commication_skill` - В общении\t\n",
    "* `easy_exam` - «Халявность»\t\n",
    "* `overall_score` - Общая оценка"
   ]
  },
  {
   "cell_type": "markdown",
   "metadata": {},
   "source": [
    "<img src=\"../lessons/images/wiki_mipt_info.PNG\" height=\"300\" width=\"300\"> \n",
    "\n",
    "**Комментарий:** - Знание, умение преподавать, в общение, \"Халявность\" и Общая оценка можно найти странице каждого преподавателя. "
   ]
  },
  {
   "cell_type": "markdown",
   "metadata": {},
   "source": [
    "<div class=\"alert alert-warning\">\n",
    "    \n",
    "Финальный балл складывается из трех частей:\n",
    "\n",
    "* Cобранный датасет (выложить архивом на гитхаб)\n",
    "* python кода, которым был собран датасет (выложить на гитхаб)\n",
    "* Окуратный и понятный код с комментариями\n",
    "    \n",
    "    \n",
    "**Дополнительные + 10 баллов можно получить за кластеризацию преподавателей, используя только оценки из собранных данных**"
   ]
  },
  {
   "cell_type": "markdown",
   "metadata": {},
   "source": [
    "# Возможный алгоритм обхода для сбора данных:"
   ]
  },
  {
   "cell_type": "code",
   "execution_count": null,
   "metadata": {},
   "outputs": [],
   "source": [
    "# 0 - Открываем с помощью Selenium клавную страницу вики-Физтех- http://wikimipt.org/wiki/   \n",
    "# 1 - Получаем список кафедр с главной страницу вики-Физтех    \n",
    "# Обходя список кафедр, \"проваливаемся\" в каждую страницу кафедру кликом по названию кафедры\n",
    "#     2 - Получаем список преподавателей\n",
    "#         Обходя список преподавателей \"Проваливаемся\" на страницу преподавателя по ФИО преподавателя\n",
    "#             3 - Получаем табличку данных с характеристмиками преподавателями и прочу необходимую информацию. \n",
    "#             Записываем в pandas dataframe\n",
    "# Сохраняем данные в .csv файл"
   ]
  },
  {
   "cell_type": "code",
   "execution_count": null,
   "metadata": {},
   "outputs": [],
   "source": []
  },
  {
   "cell_type": "markdown",
   "metadata": {},
   "source": [
    "# Вспомогательные элементы для майнинга данных"
   ]
  },
  {
   "cell_type": "markdown",
   "metadata": {},
   "source": [
    "* Библиотека `Selenium`: https://selenium-python.readthedocs.io/\n",
    "\n",
    "Полезные методы и рекомендации:\n",
    "    \n",
    "* `element = browser.find_elements_by_*что угодно*()` # Поиск элемента на странице\n",
    "* `element.click()` # Кликнуть по элементу (провалится по ссылке / расскрыть банер)\n",
    "* `browser.back()` # Вернуться назад \n",
    "* `pd.read_html()` # Способ загрузить таблицку из html сразу в Pandas\n",
    "* Спрашивать в чате или гуглить"
   ]
  },
  {
   "cell_type": "code",
   "execution_count": null,
   "metadata": {},
   "outputs": [],
   "source": []
  }
 ],
 "metadata": {
  "kernelspec": {
   "display_name": "Python 3",
   "language": "python",
   "name": "python3"
  },
  "language_info": {
   "codemirror_mode": {
    "name": "ipython",
    "version": 3
   },
   "file_extension": ".py",
   "mimetype": "text/x-python",
   "name": "python",
   "nbconvert_exporter": "python",
   "pygments_lexer": "ipython3",
   "version": "3.8.5"
  },
  "toc": {
   "base_numbering": 1,
   "nav_menu": {},
   "number_sections": true,
   "sideBar": true,
   "skip_h1_title": false,
   "title_cell": "Table of Contents",
   "title_sidebar": "Contents",
   "toc_cell": false,
   "toc_position": {},
   "toc_section_display": true,
   "toc_window_display": false
  }
 },
 "nbformat": 4,
 "nbformat_minor": 4
}
