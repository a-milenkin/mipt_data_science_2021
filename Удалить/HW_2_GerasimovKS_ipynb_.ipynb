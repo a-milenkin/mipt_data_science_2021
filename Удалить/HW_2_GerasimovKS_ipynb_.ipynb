{
  "cells": [
    {
      "cell_type": "markdown",
      "metadata": {
        "id": "KOoWebs7LiuD"
      },
      "source": [
        "# Домашнее задание по курсу анализа данных # 2\n",
        "Версия от 14.11.2021\n",
        "\n",
        "Всего 50 баллов = 50 основных + 10 дополнительных\n",
        "\n",
        "**Оценка**  = (Количество баллов за работу*2 + 20)/10\n",
        "\n",
        "**Мягкий дедлайн: 06.12.2021  23:59**\n",
        "\n",
        "**Жесткий дедлайн: 11.12.2021  23:59**\n",
        "\n",
        "Присылать решение ссылкой на ваш **github** в телеграмм **@Aleron75** или на почту **milenkin.aa@phystech.edu**\n",
        "\n",
        "**Автор:** Миленькин Александр"
      ]
    },
    {
      "cell_type": "code",
      "execution_count": null,
      "metadata": {
        "id": "aiuZ_RGNLiuK"
      },
      "outputs": [],
      "source": [
        ""
      ]
    },
    {
      "cell_type": "markdown",
      "metadata": {
        "id": "XAOXPRHuLiuL"
      },
      "source": [
        "# Парсим рейтинг преподавателей с Вики-Физтех"
      ]
    },
    {
      "cell_type": "markdown",
      "metadata": {
        "id": "fJ71pWFJLiuL"
      },
      "source": [
        "<div class=\"alert alert-info\">\n",
        "    \n",
        "Итак, перед вами **VIKI-MIPT** - сборник отзывов о кафедрах и преподавателях МФТИ: ` http://wikimipt.org/wiki/ `\n",
        "\n",
        "Эта кладезь отзывов не раз давала студентам оценить психологический портрет потенциальных экзаменаторов и преподавателей. \n",
        "    \n",
        "    \n",
        "<img src=\"https://github.com/Gerakir/mipt_data_science_2021/blob/main/lessons/images/wiki_mipt_front.PNG?raw=1\" height=\"300\" width=\"1300\"> \n",
        "\n"
      ]
    },
    {
      "cell_type": "markdown",
      "metadata": {
        "id": "Yr5gFZLKLiuM"
      },
      "source": [
        "# Описание задачи: "
      ]
    },
    {
      "cell_type": "markdown",
      "metadata": {
        "id": "XIMkhf4CLiuM"
      },
      "source": [
        "**Задача** - собрать данные по всем текущим преподавателям всех `институтских кафедр` МФТИ.\n",
        "\n",
        "Собранный датасет должен представлять из себя `.csv` файл со следующими полями:\n",
        "\n",
        "* `full_name` - ФИО преподавателя\n",
        "* `birth_day` - Дата рождения преподавателя\n",
        "*  `teach_place` - Кафедра\n",
        "*  `degree`- Ученая Степень\n",
        "* `knowledge` - Знания\n",
        "*  `teaching_skill` - Умение преподавать\t\n",
        "* `commication_skill` - В общении\t\n",
        "* `easy_exam` - «Халявность»\t\n",
        "* `overall_score` - Общая оценка"
      ]
    },
    {
      "cell_type": "markdown",
      "metadata": {
        "id": "UccoskWRLiuN"
      },
      "source": [
        "<img src=\"https://github.com/Gerakir/mipt_data_science_2021/blob/main/lessons/images/wiki_mipt_info.PNG?raw=1\" height=\"300\" width=\"300\"> \n",
        "\n",
        "**Комментарий:** - Знание, умение преподавать, в общение, \"Халявность\" и Общая оценка можно найти странице каждого преподавателя. "
      ]
    },
    {
      "cell_type": "markdown",
      "metadata": {
        "id": "zyeGFHBJLiuO"
      },
      "source": [
        "<div class=\"alert alert-warning\">\n",
        "    \n",
        "Финальный балл складывается из трех частей:\n",
        "\n",
        "* Cобранный датасет (выложить архивом на гитхаб)\n",
        "* python кода, которым был собран датасет (выложить на гитхаб)\n",
        "* Окуратный и понятный код с комментариями\n",
        "    \n",
        "    \n",
        "**Дополнительные + 10 баллов можно получить за кластеризацию преподавателей, используя только оценки из собранных данных**"
      ]
    },
    {
      "cell_type": "markdown",
      "metadata": {
        "id": "TJRpvwBELiuP"
      },
      "source": [
        "# Возможный алгоритм обхода для сбора данных:"
      ]
    },
    {
      "cell_type": "code",
      "execution_count": null,
      "metadata": {
        "id": "sSUYleu6LiuQ"
      },
      "outputs": [],
      "source": [
        "# 0 - Открываем с помощью Selenium клавную страницу вики-Физтех- http://wikimipt.org/wiki/   \n",
        "# 1 - Получаем список кафедр с главной страницу вики-Физтех    \n",
        "# Обходя список кафедр, \"проваливаемся\" в каждую страницу кафедру кликом по названию кафедры\n",
        "#     2 - Получаем список преподавателей\n",
        "#         Обходя список преподавателей \"Проваливаемся\" на страницу преподавателя по ФИО преподавателя\n",
        "#             3 - Получаем табличку данных с характеристмиками преподавателями и прочу необходимую информацию. \n",
        "#             Записываем в pandas dataframe\n",
        "# Сохраняем данные в .csv файл"
      ]
    },
    {
      "cell_type": "code",
      "execution_count": null,
      "metadata": {
        "id": "THFx3IN2LiuR"
      },
      "outputs": [],
      "source": [
        ""
      ]
    },
    {
      "cell_type": "markdown",
      "metadata": {
        "id": "40PkD9WXLiuS"
      },
      "source": [
        "# Вспомогательные элементы для майнинга данных"
      ]
    },
    {
      "cell_type": "markdown",
      "metadata": {
        "id": "yakTF2quLiuS"
      },
      "source": [
        "* Библиотека `Selenium`: https://selenium-python.readthedocs.io/\n",
        "\n",
        "Полезные методы и рекомендации:\n",
        "    \n",
        "* `element = browser.find_elements_by_*что угодно*()` # Поиск элемента на странице\n",
        "* `element.click()` # Кликнуть по элементу (провалится по ссылке / расскрыть банер)\n",
        "* `browser.back()` # Вернуться назад \n",
        "* `pd.read_html()` # Способ загрузить таблицку из html сразу в Pandas\n",
        "* Спрашивать в чате или гуглить"
      ]
    },
    {
      "cell_type": "markdown",
      "source": [
        "# Работа"
      ],
      "metadata": {
        "id": "qXXHCh1tAggv"
      }
    },
    {
      "cell_type": "markdown",
      "source": [
        "##  Посмотрим на код заглавной страницы"
      ],
      "metadata": {
        "id": "_0Wc6pTvAsiZ"
      }
    },
    {
      "cell_type": "code",
      "execution_count": 1,
      "metadata": {
        "id": "LtgNQhZCLiuT",
        "outputId": "f203aca0-3443-497f-a08a-97e94565fbc7",
        "colab": {
          "base_uri": "https://localhost:8080/"
        }
      },
      "outputs": [
        {
          "output_type": "execute_result",
          "data": {
            "text/plain": [
              "<!DOCTYPE html>\n",
              "\n",
              "<html class=\"client-nojs\" dir=\"ltr\" lang=\"ru\">\n",
              "<head>\n",
              "<meta charset=\"utf-8\"/>\n",
              "<title>викиФизтех</title>\n",
              "<script>document.documentElement.className = document.documentElement.className.replace( /(^|\\s)client-nojs(\\s|$)/, \"$1client-js$2\" );</script>\n",
              "<script>window.RLQ = window.RLQ || []; window.RLQ.push( function () {\n",
              "mw.config.set({\"wgCanonicalNamespace\":\"\",\"wgCanonicalSpecialPageName\":!1,\"wgNamespaceNumber\":0,\"wgPageName\":\"Заглавная_страница\",\"wgTitle\":\"Заглавная страница\",\"wgCurRevisionId\":9210,\"wgRevisionId\":9210,\"wgArticleId\":1,\"wgIsArticle\":!0,\"wgIsRedirect\":!1,\"wgAction\":\"view\",\"wgUserName\":null,\"wgUserGroups\":[\"*\"],\"wgCategories\":[],\"wgBreakFrames\":!1,\"wgPageContentLanguage\":\"ru\",\"wgPageContentModel\":\"wikitext\",\"wgSeparatorTransformTable\":[\",\\t.\",\" \\t,\"],\"wgDigitTransformTable\":[\"\",\"\"],\"wgDefaultDateFormat\":\"dmy\",\"wgMonthNames\":[\"\",\"январь\",\"февраль\",\"март\",\"апрель\",\"май\",\"июнь\",\"июль\",\"август\",\"сентябрь\",\"октябрь\",\"ноябрь\",\"декабрь\"],\"wgMonthNamesShort\":[\"\",\"янв\",\"фев\",\"мар\",\"апр\",\"май\",\"июн\",\"июл\",\"авг\",\"сен\",\"окт\",\"ноя\",\"дек\"],\"wgRelevantPageName\":\"Заглавная_страница\",\"wgRelevantArticleId\":1,\"wgIsProbablyEditable\":!1,\n",
              "\"wgRestrictionEdit\":[\"autoconfirmed\"],\"wgRestrictionMove\":[\"autoconfirmed\"],\"wgIsMainPage\":!0,\"sfgAutocompleteValues\":[],\"sfgAutocompleteOnAllChars\":!1,\"sfgFieldProperties\":[],\"sfgCargoFields\":[],\"sfgDependentFields\":[],\"sfgShowOnSelect\":[],\"sfgScriptPath\":\"/extensions/SemanticForms\",\"edgValues\":null,\"sfgEDSettings\":null});mw.loader.implement(\"user.options\",function($,jQuery){mw.user.options.set({\"variant\":\"ru\"});});mw.loader.implement(\"user.tokens\",function($,jQuery){mw.user.tokens.set({\"editToken\":\"+\\\\\",\"patrolToken\":\"+\\\\\",\"watchToken\":\"+\\\\\"});});mw.loader.load([\"ext.smw.style\",\"mediawiki.page.startup\",\"mediawiki.legacy.wikibits\",\"ext.widgetsFramework.css\",\"skins.vector.js\"]);\n",
              "} );</script>\n",
              "<link href=\"/load.php?debug=false&amp;lang=ru&amp;modules=ext.smw.style%7Cext.smw.tooltip.styles&amp;only=styles&amp;skin=vector\" rel=\"stylesheet\"/>\n",
              "<link href=\"/load.php?debug=false&amp;lang=ru&amp;modules=mediawiki.legacy.commonPrint%2Cshared%7Cmediawiki.page.gallery.styles%7Cmediawiki.sectionAnchor%7Cmediawiki.skinning.interface%7Cskins.vector.styles&amp;only=styles&amp;skin=vector\" rel=\"stylesheet\"/>\n",
              "<meta content=\"\" name=\"ResourceLoaderDynamicStyles\"/>\n",
              "<link href=\"/load.php?debug=false&amp;lang=ru&amp;modules=site&amp;only=styles&amp;skin=vector\" rel=\"stylesheet\"/>\n",
              "<style>a:lang(ar),a:lang(kk-arab),a:lang(mzn),a:lang(ps),a:lang(ur){text-decoration:none}</style>\n",
              "<script async=\"\" src=\"/load.php?debug=false&amp;lang=ru&amp;modules=startup&amp;only=scripts&amp;skin=vector\"></script>\n",
              "<meta content=\"MediaWiki 1.26.2\" name=\"generator\"/>\n",
              "<link href=\"/index.php?title=%D0%A1%D0%BB%D1%83%D0%B6%D0%B5%D0%B1%D0%BD%D0%B0%D1%8F:ExportRDF/%D0%97%D0%B0%D0%B3%D0%BB%D0%B0%D0%B2%D0%BD%D0%B0%D1%8F_%D1%81%D1%82%D1%80%D0%B0%D0%BD%D0%B8%D1%86%D0%B0&amp;xmlmime=rdf\" rel=\"ExportRDF\" title=\"Заглавная страница\" type=\"application/rdf+xml\"/>\n",
              "<link href=\"/favicon.ico\" rel=\"shortcut icon\"/>\n",
              "<link href=\"/opensearch_desc.php\" rel=\"search\" title=\"викиФизтех (ru)\" type=\"application/opensearchdescription+xml\"/>\n",
              "<link href=\"http://wikimipt.org/api.php?action=rsd\" rel=\"EditURI\" type=\"application/rsd+xml\"/>\n",
              "<link href=\"http://creativecommons.org/licenses/by-sa/3.0/\" rel=\"copyright\"/>\n",
              "<link href=\"/index.php?title=%D0%A1%D0%BB%D1%83%D0%B6%D0%B5%D0%B1%D0%BD%D0%B0%D1%8F:%D0%A1%D0%B2%D0%B5%D0%B6%D0%B8%D0%B5_%D0%BF%D1%80%D0%B0%D0%B2%D0%BA%D0%B8&amp;feed=atom\" rel=\"alternate\" title=\"викиФизтех — Atom-лента\" type=\"application/atom+xml\"/>\n",
              "<link href=\"http://wikimipt.org/wiki/%D0%97%D0%B0%D0%B3%D0%BB%D0%B0%D0%B2%D0%BD%D0%B0%D1%8F_%D1%81%D1%82%D1%80%D0%B0%D0%BD%D0%B8%D1%86%D0%B0\" rel=\"canonical\"/>\n",
              "<script>window.RLQ = window.RLQ || []; window.RLQ.push( function () {\n",
              "mw.config.set({\"srf.options\":{\"srfgScriptPath\":\"/extensions/SemanticResultFormats\",\"srfVersion\":\"2.3\"}});\n",
              "} );</script>\n",
              "<meta content=\"ВикиФизтех -- о преподавателях МФТИ и не только!\" property=\"og:site_name\"/>\n",
              "<script src=\"//s7.addthis.com/js/300/addthis_widget.js#pubid=ra-4e99af56101b9b4f\" type=\"text/javascript\"></script>\n",
              "<script src=\"//vk.com/js/api/openapi.js\" type=\"text/javascript\"></script>\n",
              "</head>\n",
              "<body class=\"mediawiki ltr sitedir-ltr ns-0 ns-subject page-Заглавная_страница skin-vector action-view\">\n",
              "<div class=\"noprint\" id=\"mw-page-base\"></div>\n",
              "<div class=\"noprint\" id=\"mw-head-base\"></div>\n",
              "<div class=\"mw-body\" id=\"content\" role=\"main\">\n",
              "<a id=\"top\"></a>\n",
              "<div class=\"mw-indicators\">\n",
              "</div>\n",
              "<h1 class=\"firstHeading\" id=\"firstHeading\" lang=\"ru\">Заглавная страница</h1>\n",
              "<div class=\"mw-body-content\" id=\"bodyContent\">\n",
              "<div id=\"siteSub\">Материал из викиФизтех</div>\n",
              "<div id=\"contentSub\"></div>\n",
              "<div class=\"mw-jump\" id=\"jump-to-nav\">\n",
              "\t\t\t\t\tПерейти к:\t\t\t\t\t<a href=\"#mw-head\">навигация</a>, \t\t\t\t\t<a href=\"#p-search\">поиск</a>\n",
              "</div>\n",
              "<div class=\"mw-content-ltr\" dir=\"ltr\" id=\"mw-content-text\" lang=\"ru\"><div class=\"hf-nsheader\"></div><div class=\"hf-header\"></div><h2><span class=\"mw-headline\" id=\".D0.94.D0.BE.D0.B1.D1.80.D0.BE_.D0.BF.D0.BE.D0.B6.D0.B0.D0.BB.D0.BE.D0.B2.D0.B0.D1.82.D1.8C_.D0.BD.D0.B0_.D0.92.D0.B8.D0.BA.D0.B8.D0.A4.D0.B8.D0.B7.D1.82.D0.B5.D1.85:_.D1.81.D0.B0.D0.B9.D1.82_.D0.BE_.D0.BF.D1.80.D0.B5.D0.BF.D0.BE.D0.B4.D0.B0.D0.B2.D0.B0.D1.82.D0.B5.D0.BB.D1.8F.D1.85_.D0.9C.D0.A4.D0.A2.D0.98_.D0.B8_.D0.BD.D0.B5_.D1.82.D0.BE.D0.BB.D1.8C.D0.BA.D0.BE.21\">Добро пожаловать на ВикиФизтех: сайт о преподавателях МФТИ и не только!</span></h2>\n",
              "<h3><span class=\"mw-headline\" id=\".D0.9D.D0.B0.D1.88.D0.B8_.D1.84.D0.B0.D0.BA.D1.83.D0.BB.D1.8C.D1.82.D0.B5.D1.82.D1.8B\">Наши факультеты</span></h3>\n",
              "<table cellpadding=\"5px\">\n",
              "<tr>\n",
              "<th width=\"5%\"> <a class=\"image\" href=\"/wiki/%D0%A4%D0%B0%D0%B9%D0%BB:%D0%A4%D0%B0%D0%BA%D1%83%D0%BB%D1%8C%D1%82%D0%B5%D1%82_%D1%80%D0%B0%D0%B4%D0%B8%D0%BE%D1%82%D0%B5%D1%85%D0%BD%D0%B8%D0%BA%D0%B8_%D0%B8_%D0%BA%D0%B8%D0%B1%D0%B5%D1%80%D0%BD%D0%B5%D1%82%D0%B8%D0%BA%D0%B8.jpeg\"><img alt=\"Факультет радиотехники и кибернетики.jpeg\" height=\"39\" src=\"/images/thumb/4/47/%D0%A4%D0%B0%D0%BA%D1%83%D0%BB%D1%8C%D1%82%D0%B5%D1%82_%D1%80%D0%B0%D0%B4%D0%B8%D0%BE%D1%82%D0%B5%D1%85%D0%BD%D0%B8%D0%BA%D0%B8_%D0%B8_%D0%BA%D0%B8%D0%B1%D0%B5%D1%80%D0%BD%D0%B5%D1%82%D0%B8%D0%BA%D0%B8.jpeg/75px-%D0%A4%D0%B0%D0%BA%D1%83%D0%BB%D1%8C%D1%82%D0%B5%D1%82_%D1%80%D0%B0%D0%B4%D0%B8%D0%BE%D1%82%D0%B5%D1%85%D0%BD%D0%B8%D0%BA%D0%B8_%D0%B8_%D0%BA%D0%B8%D0%B1%D0%B5%D1%80%D0%BD%D0%B5%D1%82%D0%B8%D0%BA%D0%B8.jpeg\" srcset=\"/images/thumb/4/47/%D0%A4%D0%B0%D0%BA%D1%83%D0%BB%D1%8C%D1%82%D0%B5%D1%82_%D1%80%D0%B0%D0%B4%D0%B8%D0%BE%D1%82%D0%B5%D1%85%D0%BD%D0%B8%D0%BA%D0%B8_%D0%B8_%D0%BA%D0%B8%D0%B1%D0%B5%D1%80%D0%BD%D0%B5%D1%82%D0%B8%D0%BA%D0%B8.jpeg/113px-%D0%A4%D0%B0%D0%BA%D1%83%D0%BB%D1%8C%D1%82%D0%B5%D1%82_%D1%80%D0%B0%D0%B4%D0%B8%D0%BE%D1%82%D0%B5%D1%85%D0%BD%D0%B8%D0%BA%D0%B8_%D0%B8_%D0%BA%D0%B8%D0%B1%D0%B5%D1%80%D0%BD%D0%B5%D1%82%D0%B8%D0%BA%D0%B8.jpeg 1.5x, /images/thumb/4/47/%D0%A4%D0%B0%D0%BA%D1%83%D0%BB%D1%8C%D1%82%D0%B5%D1%82_%D1%80%D0%B0%D0%B4%D0%B8%D0%BE%D1%82%D0%B5%D1%85%D0%BD%D0%B8%D0%BA%D0%B8_%D0%B8_%D0%BA%D0%B8%D0%B1%D0%B5%D1%80%D0%BD%D0%B5%D1%82%D0%B8%D0%BA%D0%B8.jpeg/150px-%D0%A4%D0%B0%D0%BA%D1%83%D0%BB%D1%8C%D1%82%D0%B5%D1%82_%D1%80%D0%B0%D0%B4%D0%B8%D0%BE%D1%82%D0%B5%D1%85%D0%BD%D0%B8%D0%BA%D0%B8_%D0%B8_%D0%BA%D0%B8%D0%B1%D0%B5%D1%80%D0%BD%D0%B5%D1%82%D0%B8%D0%BA%D0%B8.jpeg 2x\" width=\"75\"/></a>\n",
              "</th>\n",
              "<td width=\"20%\"> <a href=\"/wiki/%D0%A4%D0%B0%D0%BA%D1%83%D0%BB%D1%8C%D1%82%D0%B5%D1%82_%D1%80%D0%B0%D0%B4%D0%B8%D0%BE%D1%82%D0%B5%D1%85%D0%BD%D0%B8%D0%BA%D0%B8_%D0%B8_%D0%BA%D0%B8%D0%B1%D0%B5%D1%80%D0%BD%D0%B5%D1%82%D0%B8%D0%BA%D0%B8\" title=\"Факультет радиотехники и кибернетики\">Факультет радиотехники и кибернетики</a>\n",
              "</td>\n",
              "<th width=\"5%\"> <a class=\"image\" href=\"/wiki/%D0%A4%D0%B0%D0%B9%D0%BB:%D0%A4%D0%B0%D0%BA%D1%83%D0%BB%D1%8C%D1%82%D0%B5%D1%82_%D0%BE%D0%B1%D1%89%D0%B5%D0%B9_%D0%B8_%D0%BF%D1%80%D0%B8%D0%BA%D0%BB%D0%B0%D0%B4%D0%BD%D0%BE%D0%B9_%D1%84%D0%B8%D0%B7%D0%B8%D0%BA%D0%B8.jpeg\"><img alt=\"Факультет общей и прикладной физики.jpeg\" height=\"50\" src=\"/images/thumb/0/07/%D0%A4%D0%B0%D0%BA%D1%83%D0%BB%D1%8C%D1%82%D0%B5%D1%82_%D0%BE%D0%B1%D1%89%D0%B5%D0%B9_%D0%B8_%D0%BF%D1%80%D0%B8%D0%BA%D0%BB%D0%B0%D0%B4%D0%BD%D0%BE%D0%B9_%D1%84%D0%B8%D0%B7%D0%B8%D0%BA%D0%B8.jpeg/51px-%D0%A4%D0%B0%D0%BA%D1%83%D0%BB%D1%8C%D1%82%D0%B5%D1%82_%D0%BE%D0%B1%D1%89%D0%B5%D0%B9_%D0%B8_%D0%BF%D1%80%D0%B8%D0%BA%D0%BB%D0%B0%D0%B4%D0%BD%D0%BE%D0%B9_%D1%84%D0%B8%D0%B7%D0%B8%D0%BA%D0%B8.jpeg\" srcset=\"/images/thumb/0/07/%D0%A4%D0%B0%D0%BA%D1%83%D0%BB%D1%8C%D1%82%D0%B5%D1%82_%D0%BE%D0%B1%D1%89%D0%B5%D0%B9_%D0%B8_%D0%BF%D1%80%D0%B8%D0%BA%D0%BB%D0%B0%D0%B4%D0%BD%D0%BE%D0%B9_%D1%84%D0%B8%D0%B7%D0%B8%D0%BA%D0%B8.jpeg/76px-%D0%A4%D0%B0%D0%BA%D1%83%D0%BB%D1%8C%D1%82%D0%B5%D1%82_%D0%BE%D0%B1%D1%89%D0%B5%D0%B9_%D0%B8_%D0%BF%D1%80%D0%B8%D0%BA%D0%BB%D0%B0%D0%B4%D0%BD%D0%BE%D0%B9_%D1%84%D0%B8%D0%B7%D0%B8%D0%BA%D0%B8.jpeg 1.5x, /images/thumb/0/07/%D0%A4%D0%B0%D0%BA%D1%83%D0%BB%D1%8C%D1%82%D0%B5%D1%82_%D0%BE%D0%B1%D1%89%D0%B5%D0%B9_%D0%B8_%D0%BF%D1%80%D0%B8%D0%BA%D0%BB%D0%B0%D0%B4%D0%BD%D0%BE%D0%B9_%D1%84%D0%B8%D0%B7%D0%B8%D0%BA%D0%B8.jpeg/101px-%D0%A4%D0%B0%D0%BA%D1%83%D0%BB%D1%8C%D1%82%D0%B5%D1%82_%D0%BE%D0%B1%D1%89%D0%B5%D0%B9_%D0%B8_%D0%BF%D1%80%D0%B8%D0%BA%D0%BB%D0%B0%D0%B4%D0%BD%D0%BE%D0%B9_%D1%84%D0%B8%D0%B7%D0%B8%D0%BA%D0%B8.jpeg 2x\" width=\"51\"/></a>\n",
              "</th>\n",
              "<td width=\"20%\"> <a href=\"/wiki/%D0%A4%D0%B0%D0%BA%D1%83%D0%BB%D1%8C%D1%82%D0%B5%D1%82_%D0%BE%D0%B1%D1%89%D0%B5%D0%B9_%D0%B8_%D0%BF%D1%80%D0%B8%D0%BA%D0%BB%D0%B0%D0%B4%D0%BD%D0%BE%D0%B9_%D1%84%D0%B8%D0%B7%D0%B8%D0%BA%D0%B8\" title=\"Факультет общей и прикладной физики\">Факультет общей и прикладной физики</a>\n",
              "</td>\n",
              "<th width=\"5%\"> <a class=\"image\" href=\"/wiki/%D0%A4%D0%B0%D0%B9%D0%BB:%D0%A4%D0%B0%D0%BA%D1%83%D0%BB%D1%8C%D1%82%D0%B5%D1%82_%D0%B0%D1%8D%D1%80%D0%BE%D1%84%D0%B8%D0%B7%D0%B8%D0%BA%D0%B8_%D0%B8_%D0%BA%D0%BE%D1%81%D0%BC%D0%B8%D1%87%D0%B5%D1%81%D0%BA%D0%B8%D1%85_%D0%B8%D1%81%D1%81%D0%BB%D0%B5%D0%B4%D0%BE%D0%B2%D0%B0%D0%BD%D0%B8%D0%B9_%D0%BB%D0%BE%D0%B3%D0%BE.jpeg\"><img alt=\"Факультет аэрофизики и космических исследований лого.jpeg\" height=\"21\" src=\"/images/thumb/6/6e/%D0%A4%D0%B0%D0%BA%D1%83%D0%BB%D1%8C%D1%82%D0%B5%D1%82_%D0%B0%D1%8D%D1%80%D0%BE%D1%84%D0%B8%D0%B7%D0%B8%D0%BA%D0%B8_%D0%B8_%D0%BA%D0%BE%D1%81%D0%BC%D0%B8%D1%87%D0%B5%D1%81%D0%BA%D0%B8%D1%85_%D0%B8%D1%81%D1%81%D0%BB%D0%B5%D0%B4%D0%BE%D0%B2%D0%B0%D0%BD%D0%B8%D0%B9_%D0%BB%D0%BE%D0%B3%D0%BE.jpeg/75px-%D0%A4%D0%B0%D0%BA%D1%83%D0%BB%D1%8C%D1%82%D0%B5%D1%82_%D0%B0%D1%8D%D1%80%D0%BE%D1%84%D0%B8%D0%B7%D0%B8%D0%BA%D0%B8_%D0%B8_%D0%BA%D0%BE%D1%81%D0%BC%D0%B8%D1%87%D0%B5%D1%81%D0%BA%D0%B8%D1%85_%D0%B8%D1%81%D1%81%D0%BB%D0%B5%D0%B4%D0%BE%D0%B2%D0%B0%D0%BD%D0%B8%D0%B9_%D0%BB%D0%BE%D0%B3%D0%BE.jpeg\" srcset=\"/images/thumb/6/6e/%D0%A4%D0%B0%D0%BA%D1%83%D0%BB%D1%8C%D1%82%D0%B5%D1%82_%D0%B0%D1%8D%D1%80%D0%BE%D1%84%D0%B8%D0%B7%D0%B8%D0%BA%D0%B8_%D0%B8_%D0%BA%D0%BE%D1%81%D0%BC%D0%B8%D1%87%D0%B5%D1%81%D0%BA%D0%B8%D1%85_%D0%B8%D1%81%D1%81%D0%BB%D0%B5%D0%B4%D0%BE%D0%B2%D0%B0%D0%BD%D0%B8%D0%B9_%D0%BB%D0%BE%D0%B3%D0%BE.jpeg/113px-%D0%A4%D0%B0%D0%BA%D1%83%D0%BB%D1%8C%D1%82%D0%B5%D1%82_%D0%B0%D1%8D%D1%80%D0%BE%D1%84%D0%B8%D0%B7%D0%B8%D0%BA%D0%B8_%D0%B8_%D0%BA%D0%BE%D1%81%D0%BC%D0%B8%D1%87%D0%B5%D1%81%D0%BA%D0%B8%D1%85_%D0%B8%D1%81%D1%81%D0%BB%D0%B5%D0%B4%D0%BE%D0%B2%D0%B0%D0%BD%D0%B8%D0%B9_%D0%BB%D0%BE%D0%B3%D0%BE.jpeg 1.5x, /images/thumb/6/6e/%D0%A4%D0%B0%D0%BA%D1%83%D0%BB%D1%8C%D1%82%D0%B5%D1%82_%D0%B0%D1%8D%D1%80%D0%BE%D1%84%D0%B8%D0%B7%D0%B8%D0%BA%D0%B8_%D0%B8_%D0%BA%D0%BE%D1%81%D0%BC%D0%B8%D1%87%D0%B5%D1%81%D0%BA%D0%B8%D1%85_%D0%B8%D1%81%D1%81%D0%BB%D0%B5%D0%B4%D0%BE%D0%B2%D0%B0%D0%BD%D0%B8%D0%B9_%D0%BB%D0%BE%D0%B3%D0%BE.jpeg/150px-%D0%A4%D0%B0%D0%BA%D1%83%D0%BB%D1%8C%D1%82%D0%B5%D1%82_%D0%B0%D1%8D%D1%80%D0%BE%D1%84%D0%B8%D0%B7%D0%B8%D0%BA%D0%B8_%D0%B8_%D0%BA%D0%BE%D1%81%D0%BC%D0%B8%D1%87%D0%B5%D1%81%D0%BA%D0%B8%D1%85_%D0%B8%D1%81%D1%81%D0%BB%D0%B5%D0%B4%D0%BE%D0%B2%D0%B0%D0%BD%D0%B8%D0%B9_%D0%BB%D0%BE%D0%B3%D0%BE.jpeg 2x\" width=\"75\"/></a>\n",
              "</th>\n",
              "<td width=\"20%\"> <a href=\"/wiki/%D0%A4%D0%B0%D0%BA%D1%83%D0%BB%D1%8C%D1%82%D0%B5%D1%82_%D0%B0%D1%8D%D1%80%D0%BE%D1%84%D0%B8%D0%B7%D0%B8%D0%BA%D0%B8_%D0%B8_%D0%BA%D0%BE%D1%81%D0%BC%D0%B8%D1%87%D0%B5%D1%81%D0%BA%D0%B8%D1%85_%D0%B8%D1%81%D1%81%D0%BB%D0%B5%D0%B4%D0%BE%D0%B2%D0%B0%D0%BD%D0%B8%D0%B9\" title=\"Факультет аэрофизики и космических исследований\">Факультет аэрофизики и космических исследований</a>\n",
              "</td>\n",
              "<th width=\"5%\"> <a class=\"image\" href=\"/wiki/%D0%A4%D0%B0%D0%B9%D0%BB:FMKh.jpg\"><img alt=\"FMKh.jpg\" height=\"50\" src=\"/images/thumb/e/e6/FMKh.jpg/43px-FMKh.jpg\" srcset=\"/images/thumb/e/e6/FMKh.jpg/65px-FMKh.jpg 1.5x, /images/thumb/e/e6/FMKh.jpg/87px-FMKh.jpg 2x\" width=\"43\"/></a>\n",
              "</th>\n",
              "<td width=\"20%\"> <a href=\"/wiki/%D0%A4%D0%B0%D0%BA%D1%83%D0%BB%D1%8C%D1%82%D0%B5%D1%82_%D0%BC%D0%BE%D0%BB%D0%B5%D0%BA%D1%83%D0%BB%D1%8F%D1%80%D0%BD%D0%BE%D0%B9_%D0%B8_%D1%85%D0%B8%D0%BC%D0%B8%D1%87%D0%B5%D1%81%D0%BA%D0%BE%D0%B9_%D1%84%D0%B8%D0%B7%D0%B8%D0%BA%D0%B8\" title=\"Факультет молекулярной и химической физики\">Факультет молекулярной и химической физики</a>\n",
              "</td></tr>\n",
              "<tr>\n",
              "<th> <a class=\"image\" href=\"/wiki/%D0%A4%D0%B0%D0%B9%D0%BB:%D0%A4%D0%B0%D0%BA%D1%83%D0%BB%D1%8C%D1%82%D0%B5%D1%82_%D1%84%D0%B8%D0%B7%D0%B8%D1%87%D0%B5%D1%81%D0%BA%D0%BE%D0%B9_%D0%B8_%D0%BA%D0%B2%D0%B0%D0%BD%D1%82%D0%BE%D0%B2%D0%BE%D0%B9_%D1%8D%D0%BB%D0%B5%D0%BA%D1%82%D1%80%D0%BE%D0%BD%D0%B8%D0%BA%D0%B8.jpeg\"><img alt=\"Факультет физической и квантовой электроники.jpeg\" height=\"50\" src=\"/images/thumb/b/b2/%D0%A4%D0%B0%D0%BA%D1%83%D0%BB%D1%8C%D1%82%D0%B5%D1%82_%D1%84%D0%B8%D0%B7%D0%B8%D1%87%D0%B5%D1%81%D0%BA%D0%BE%D0%B9_%D0%B8_%D0%BA%D0%B2%D0%B0%D0%BD%D1%82%D0%BE%D0%B2%D0%BE%D0%B9_%D1%8D%D0%BB%D0%B5%D0%BA%D1%82%D1%80%D0%BE%D0%BD%D0%B8%D0%BA%D0%B8.jpeg/44px-%D0%A4%D0%B0%D0%BA%D1%83%D0%BB%D1%8C%D1%82%D0%B5%D1%82_%D1%84%D0%B8%D0%B7%D0%B8%D1%87%D0%B5%D1%81%D0%BA%D0%BE%D0%B9_%D0%B8_%D0%BA%D0%B2%D0%B0%D0%BD%D1%82%D0%BE%D0%B2%D0%BE%D0%B9_%D1%8D%D0%BB%D0%B5%D0%BA%D1%82%D1%80%D0%BE%D0%BD%D0%B8%D0%BA%D0%B8.jpeg\" srcset=\"/images/thumb/b/b2/%D0%A4%D0%B0%D0%BA%D1%83%D0%BB%D1%8C%D1%82%D0%B5%D1%82_%D1%84%D0%B8%D0%B7%D0%B8%D1%87%D0%B5%D1%81%D0%BA%D0%BE%D0%B9_%D0%B8_%D0%BA%D0%B2%D0%B0%D0%BD%D1%82%D0%BE%D0%B2%D0%BE%D0%B9_%D1%8D%D0%BB%D0%B5%D0%BA%D1%82%D1%80%D0%BE%D0%BD%D0%B8%D0%BA%D0%B8.jpeg/66px-%D0%A4%D0%B0%D0%BA%D1%83%D0%BB%D1%8C%D1%82%D0%B5%D1%82_%D1%84%D0%B8%D0%B7%D0%B8%D1%87%D0%B5%D1%81%D0%BA%D0%BE%D0%B9_%D0%B8_%D0%BA%D0%B2%D0%B0%D0%BD%D1%82%D0%BE%D0%B2%D0%BE%D0%B9_%D1%8D%D0%BB%D0%B5%D0%BA%D1%82%D1%80%D0%BE%D0%BD%D0%B8%D0%BA%D0%B8.jpeg 1.5x, /images/thumb/b/b2/%D0%A4%D0%B0%D0%BA%D1%83%D0%BB%D1%8C%D1%82%D0%B5%D1%82_%D1%84%D0%B8%D0%B7%D0%B8%D1%87%D0%B5%D1%81%D0%BA%D0%BE%D0%B9_%D0%B8_%D0%BA%D0%B2%D0%B0%D0%BD%D1%82%D0%BE%D0%B2%D0%BE%D0%B9_%D1%8D%D0%BB%D0%B5%D0%BA%D1%82%D1%80%D0%BE%D0%BD%D0%B8%D0%BA%D0%B8.jpeg/88px-%D0%A4%D0%B0%D0%BA%D1%83%D0%BB%D1%8C%D1%82%D0%B5%D1%82_%D1%84%D0%B8%D0%B7%D0%B8%D1%87%D0%B5%D1%81%D0%BA%D0%BE%D0%B9_%D0%B8_%D0%BA%D0%B2%D0%B0%D0%BD%D1%82%D0%BE%D0%B2%D0%BE%D0%B9_%D1%8D%D0%BB%D0%B5%D0%BA%D1%82%D1%80%D0%BE%D0%BD%D0%B8%D0%BA%D0%B8.jpeg 2x\" width=\"44\"/></a>\n",
              "</th>\n",
              "<td> <a href=\"/wiki/%D0%A4%D0%B0%D0%BA%D1%83%D0%BB%D1%8C%D1%82%D0%B5%D1%82_%D1%84%D0%B8%D0%B7%D0%B8%D1%87%D0%B5%D1%81%D0%BA%D0%BE%D0%B9_%D0%B8_%D0%BA%D0%B2%D0%B0%D0%BD%D1%82%D0%BE%D0%B2%D0%BE%D0%B9_%D1%8D%D0%BB%D0%B5%D0%BA%D1%82%D1%80%D0%BE%D0%BD%D0%B8%D0%BA%D0%B8\" title=\"Факультет физической и квантовой электроники\">Факультет физической и квантовой электроники</a>\n",
              "</td>\n",
              "<th> <a class=\"image\" href=\"/wiki/%D0%A4%D0%B0%D0%B9%D0%BB:%D0%A4%D0%90%D0%9B%D0%A2_%D0%9D%D0%9E%D0%921.JPG\"><img alt=\"ФАЛТ НОВ1.JPG\" height=\"50\" src=\"/images/thumb/7/77/%D0%A4%D0%90%D0%9B%D0%A2_%D0%9D%D0%9E%D0%921.JPG/60px-%D0%A4%D0%90%D0%9B%D0%A2_%D0%9D%D0%9E%D0%921.JPG\" srcset=\"/images/thumb/7/77/%D0%A4%D0%90%D0%9B%D0%A2_%D0%9D%D0%9E%D0%921.JPG/89px-%D0%A4%D0%90%D0%9B%D0%A2_%D0%9D%D0%9E%D0%921.JPG 1.5x, /images/7/77/%D0%A4%D0%90%D0%9B%D0%A2_%D0%9D%D0%9E%D0%921.JPG 2x\" width=\"60\"/></a>\n",
              "</th>\n",
              "<td> <a href=\"/wiki/%D0%A4%D0%B0%D0%BA%D1%83%D0%BB%D1%8C%D1%82%D0%B5%D1%82_%D0%B0%D1%8D%D1%80%D0%BE%D0%BC%D0%B5%D1%85%D0%B0%D0%BD%D0%B8%D0%BA%D0%B8_%D0%B8_%D0%BB%D0%B5%D1%82%D0%B0%D1%82%D0%B5%D0%BB%D1%8C%D0%BD%D0%BE%D0%B9_%D1%82%D0%B5%D1%85%D0%BD%D0%B8%D0%BA%D0%B8\" title=\"Факультет аэромеханики и летательной техники\">Факультет аэромеханики и летательной техники</a>\n",
              "</td>\n",
              "<th> <a class=\"image\" href=\"/wiki/%D0%A4%D0%B0%D0%B9%D0%BB:Fupm_100.jpg\"><img alt=\"Fupm 100.jpg\" height=\"42\" src=\"/images/thumb/b/b2/Fupm_100.jpg/75px-Fupm_100.jpg\" srcset=\"/images/b/b2/Fupm_100.jpg 1.5x, /images/b/b2/Fupm_100.jpg 2x\" width=\"75\"/></a>\n",
              "</th>\n",
              "<td> <a href=\"/wiki/%D0%A4%D0%B0%D0%BA%D1%83%D0%BB%D1%8C%D1%82%D0%B5%D1%82_%D1%83%D0%BF%D1%80%D0%B0%D0%B2%D0%BB%D0%B5%D0%BD%D0%B8%D1%8F_%D0%B8_%D0%BF%D1%80%D0%B8%D0%BA%D0%BB%D0%B0%D0%B4%D0%BD%D0%BE%D0%B9_%D0%BC%D0%B0%D1%82%D0%B5%D0%BC%D0%B0%D1%82%D0%B8%D0%BA%D0%B8\" title=\"Факультет управления и прикладной математики\">Факультет управления и прикладной математики</a>\n",
              "</td>\n",
              "<th> <a class=\"image\" href=\"/wiki/%D0%A4%D0%B0%D0%B9%D0%BB:%D0%A4%D0%B0%D0%BA%D1%83%D0%BB%D1%8C%D1%82%D0%B5%D1%82_%D0%BF%D1%80%D0%BE%D0%B1%D0%BB%D0%B5%D0%BC_%D1%84%D0%B8%D0%B7%D0%B8%D0%BA%D0%B8_%D0%B8_%D1%8D%D0%BD%D0%B5%D1%80%D0%B3%D0%B5%D1%82%D0%B8%D0%BA%D0%B8.gif\"><img alt=\"Факультет проблем физики и энергетики.gif\" height=\"50\" src=\"/images/thumb/b/ba/%D0%A4%D0%B0%D0%BA%D1%83%D0%BB%D1%8C%D1%82%D0%B5%D1%82_%D0%BF%D1%80%D0%BE%D0%B1%D0%BB%D0%B5%D0%BC_%D1%84%D0%B8%D0%B7%D0%B8%D0%BA%D0%B8_%D0%B8_%D1%8D%D0%BD%D0%B5%D1%80%D0%B3%D0%B5%D1%82%D0%B8%D0%BA%D0%B8.gif/50px-%D0%A4%D0%B0%D0%BA%D1%83%D0%BB%D1%8C%D1%82%D0%B5%D1%82_%D0%BF%D1%80%D0%BE%D0%B1%D0%BB%D0%B5%D0%BC_%D1%84%D0%B8%D0%B7%D0%B8%D0%BA%D0%B8_%D0%B8_%D1%8D%D0%BD%D0%B5%D1%80%D0%B3%D0%B5%D1%82%D0%B8%D0%BA%D0%B8.gif\" srcset=\"/images/thumb/b/ba/%D0%A4%D0%B0%D0%BA%D1%83%D0%BB%D1%8C%D1%82%D0%B5%D1%82_%D0%BF%D1%80%D0%BE%D0%B1%D0%BB%D0%B5%D0%BC_%D1%84%D0%B8%D0%B7%D0%B8%D0%BA%D0%B8_%D0%B8_%D1%8D%D0%BD%D0%B5%D1%80%D0%B3%D0%B5%D1%82%D0%B8%D0%BA%D0%B8.gif/75px-%D0%A4%D0%B0%D0%BA%D1%83%D0%BB%D1%8C%D1%82%D0%B5%D1%82_%D0%BF%D1%80%D0%BE%D0%B1%D0%BB%D0%B5%D0%BC_%D1%84%D0%B8%D0%B7%D0%B8%D0%BA%D0%B8_%D0%B8_%D1%8D%D0%BD%D0%B5%D1%80%D0%B3%D0%B5%D1%82%D0%B8%D0%BA%D0%B8.gif 1.5x, /images/thumb/b/ba/%D0%A4%D0%B0%D0%BA%D1%83%D0%BB%D1%8C%D1%82%D0%B5%D1%82_%D0%BF%D1%80%D0%BE%D0%B1%D0%BB%D0%B5%D0%BC_%D1%84%D0%B8%D0%B7%D0%B8%D0%BA%D0%B8_%D0%B8_%D1%8D%D0%BD%D0%B5%D1%80%D0%B3%D0%B5%D1%82%D0%B8%D0%BA%D0%B8.gif/100px-%D0%A4%D0%B0%D0%BA%D1%83%D0%BB%D1%8C%D1%82%D0%B5%D1%82_%D0%BF%D1%80%D0%BE%D0%B1%D0%BB%D0%B5%D0%BC_%D1%84%D0%B8%D0%B7%D0%B8%D0%BA%D0%B8_%D0%B8_%D1%8D%D0%BD%D0%B5%D1%80%D0%B3%D0%B5%D1%82%D0%B8%D0%BA%D0%B8.gif 2x\" width=\"50\"/></a>\n",
              "</th>\n",
              "<td> <a href=\"/wiki/%D0%A4%D0%B0%D0%BA%D1%83%D0%BB%D1%8C%D1%82%D0%B5%D1%82_%D0%BF%D1%80%D0%BE%D0%B1%D0%BB%D0%B5%D0%BC_%D1%84%D0%B8%D0%B7%D0%B8%D0%BA%D0%B8_%D0%B8_%D1%8D%D0%BD%D0%B5%D1%80%D0%B3%D0%B5%D1%82%D0%B8%D0%BA%D0%B8\" title=\"Факультет проблем физики и энергетики\">Факультет проблем физики и энергетики</a>\n",
              "</td></tr>\n",
              "<tr>\n",
              "<th> <a class=\"image\" href=\"/wiki/%D0%A4%D0%B0%D0%B9%D0%BB:Fivt_logo.jpg\"><img alt=\"Fivt logo.jpg\" height=\"25\" src=\"/images/thumb/a/a1/Fivt_logo.jpg/75px-Fivt_logo.jpg\" srcset=\"/images/thumb/a/a1/Fivt_logo.jpg/113px-Fivt_logo.jpg 1.5x, /images/thumb/a/a1/Fivt_logo.jpg/150px-Fivt_logo.jpg 2x\" width=\"75\"/></a>\n",
              "</th>\n",
              "<td> <a href=\"/wiki/%D0%A4%D0%B0%D0%BA%D1%83%D0%BB%D1%8C%D1%82%D0%B5%D1%82_%D0%B8%D0%BD%D0%BD%D0%BE%D0%B2%D0%B0%D1%86%D0%B8%D0%B9_%D0%B8_%D0%B2%D1%8B%D1%81%D0%BE%D0%BA%D0%B8%D1%85_%D1%82%D0%B5%D1%85%D0%BD%D0%BE%D0%BB%D0%BE%D0%B3%D0%B8%D0%B9\" title=\"Факультет инноваций и высоких технологий\">Факультет инноваций и высоких технологий</a>\n",
              "</td>\n",
              "<th> <a class=\"image\" href=\"/wiki/%D0%A4%D0%B0%D0%B9%D0%BB:%D0%A4%D0%9D%D0%91%D0%98%D0%9A.jpg\"><img alt=\"ФНБИК.jpg\" height=\"42\" src=\"/images/thumb/5/50/%D0%A4%D0%9D%D0%91%D0%98%D0%9A.jpg/75px-%D0%A4%D0%9D%D0%91%D0%98%D0%9A.jpg\" srcset=\"/images/thumb/5/50/%D0%A4%D0%9D%D0%91%D0%98%D0%9A.jpg/113px-%D0%A4%D0%9D%D0%91%D0%98%D0%9A.jpg 1.5x, /images/thumb/5/50/%D0%A4%D0%9D%D0%91%D0%98%D0%9A.jpg/150px-%D0%A4%D0%9D%D0%91%D0%98%D0%9A.jpg 2x\" width=\"75\"/></a>\n",
              "</th>\n",
              "<td> <a href=\"/wiki/%D0%A4%D0%B0%D0%BA%D1%83%D0%BB%D1%8C%D1%82%D0%B5%D1%82_%D0%BD%D0%B0%D0%BD%D0%BE-,_%D0%B1%D0%B8%D0%BE-,_%D0%B8%D0%BD%D1%84%D0%BE%D1%80%D0%BC%D0%B0%D1%86%D0%B8%D0%BE%D0%BD%D0%BD%D1%8B%D1%85_%D0%B8_%D0%BA%D0%BE%D0%B3%D0%BD%D0%B8%D1%82%D0%B8%D0%B2%D0%BD%D1%8B%D1%85_%D1%82%D0%B5%D1%85%D0%BD%D0%BE%D0%BB%D0%BE%D0%B3%D0%B8%D0%B9\" title=\"Факультет нано-, био-, информационных и когнитивных технологий\">Факультет нано-, био-, информационных и когнитивных технологий</a>\n",
              "</td>\n",
              "<th> <a class=\"image\" href=\"/wiki/%D0%A4%D0%B0%D0%B9%D0%BB:%D0%A4%D0%B0%D0%BA%D1%83%D0%BB%D1%8C%D1%82%D0%B5%D1%82_%D0%B1%D0%B8%D0%BE%D0%BB%D0%BE%D0%B3%D0%B8%D1%87%D0%B5%D1%81%D0%BA%D0%BE%D0%B9_%D0%B8_%D0%BC%D0%B5%D0%B4%D0%B8%D1%86%D0%B8%D0%BD%D1%81%D0%BA%D0%BE%D0%B9_%D1%84%D0%B8%D0%B7%D0%B8%D0%BA%D0%B8.png\"><img alt=\"Факультет биологической и медицинской физики.png\" height=\"47\" src=\"/images/thumb/9/91/%D0%A4%D0%B0%D0%BA%D1%83%D0%BB%D1%8C%D1%82%D0%B5%D1%82_%D0%B1%D0%B8%D0%BE%D0%BB%D0%BE%D0%B3%D0%B8%D1%87%D0%B5%D1%81%D0%BA%D0%BE%D0%B9_%D0%B8_%D0%BC%D0%B5%D0%B4%D0%B8%D1%86%D0%B8%D0%BD%D1%81%D0%BA%D0%BE%D0%B9_%D1%84%D0%B8%D0%B7%D0%B8%D0%BA%D0%B8.png/75px-%D0%A4%D0%B0%D0%BA%D1%83%D0%BB%D1%8C%D1%82%D0%B5%D1%82_%D0%B1%D0%B8%D0%BE%D0%BB%D0%BE%D0%B3%D0%B8%D1%87%D0%B5%D1%81%D0%BA%D0%BE%D0%B9_%D0%B8_%D0%BC%D0%B5%D0%B4%D0%B8%D1%86%D0%B8%D0%BD%D1%81%D0%BA%D0%BE%D0%B9_%D1%84%D0%B8%D0%B7%D0%B8%D0%BA%D0%B8.png\" srcset=\"/images/thumb/9/91/%D0%A4%D0%B0%D0%BA%D1%83%D0%BB%D1%8C%D1%82%D0%B5%D1%82_%D0%B1%D0%B8%D0%BE%D0%BB%D0%BE%D0%B3%D0%B8%D1%87%D0%B5%D1%81%D0%BA%D0%BE%D0%B9_%D0%B8_%D0%BC%D0%B5%D0%B4%D0%B8%D1%86%D0%B8%D0%BD%D1%81%D0%BA%D0%BE%D0%B9_%D1%84%D0%B8%D0%B7%D0%B8%D0%BA%D0%B8.png/113px-%D0%A4%D0%B0%D0%BA%D1%83%D0%BB%D1%8C%D1%82%D0%B5%D1%82_%D0%B1%D0%B8%D0%BE%D0%BB%D0%BE%D0%B3%D0%B8%D1%87%D0%B5%D1%81%D0%BA%D0%BE%D0%B9_%D0%B8_%D0%BC%D0%B5%D0%B4%D0%B8%D1%86%D0%B8%D0%BD%D1%81%D0%BA%D0%BE%D0%B9_%D1%84%D0%B8%D0%B7%D0%B8%D0%BA%D0%B8.png 1.5x, /images/thumb/9/91/%D0%A4%D0%B0%D0%BA%D1%83%D0%BB%D1%8C%D1%82%D0%B5%D1%82_%D0%B1%D0%B8%D0%BE%D0%BB%D0%BE%D0%B3%D0%B8%D1%87%D0%B5%D1%81%D0%BA%D0%BE%D0%B9_%D0%B8_%D0%BC%D0%B5%D0%B4%D0%B8%D1%86%D0%B8%D0%BD%D1%81%D0%BA%D0%BE%D0%B9_%D1%84%D0%B8%D0%B7%D0%B8%D0%BA%D0%B8.png/150px-%D0%A4%D0%B0%D0%BA%D1%83%D0%BB%D1%8C%D1%82%D0%B5%D1%82_%D0%B1%D0%B8%D0%BE%D0%BB%D0%BE%D0%B3%D0%B8%D1%87%D0%B5%D1%81%D0%BA%D0%BE%D0%B9_%D0%B8_%D0%BC%D0%B5%D0%B4%D0%B8%D1%86%D0%B8%D0%BD%D1%81%D0%BA%D0%BE%D0%B9_%D1%84%D0%B8%D0%B7%D0%B8%D0%BA%D0%B8.png 2x\" width=\"75\"/></a>\n",
              "</th>\n",
              "<td> <a href=\"/wiki/%D0%A4%D0%B0%D0%BA%D1%83%D0%BB%D1%8C%D1%82%D0%B5%D1%82_%D0%B1%D0%B8%D0%BE%D0%BB%D0%BE%D0%B3%D0%B8%D1%87%D0%B5%D1%81%D0%BA%D0%BE%D0%B9_%D0%B8_%D0%BC%D0%B5%D0%B4%D0%B8%D1%86%D0%B8%D0%BD%D1%81%D0%BA%D0%BE%D0%B9_%D1%84%D0%B8%D0%B7%D0%B8%D0%BA%D0%B8\" title=\"Факультет биологической и медицинской физики\">Факультет биологической и медицинской физики</a>\n",
              "</td>\n",
              "<th>\n",
              "</th>\n",
              "<td> <a class=\"mw-redirect\" href=\"/wiki/%D0%A4%D0%B0%D0%BA%D1%83%D0%BB%D1%8C%D1%82%D0%B5%D1%82_%D0%B3%D1%83%D0%BC%D0%B0%D0%BD%D0%B8%D1%82%D0%B0%D1%80%D0%BD%D1%8B%D1%85_%D0%BD%D0%B0%D1%83%D0%BA\" title=\"Факультет гуманитарных наук\">Факультет гуманитарных наук</a>\n",
              "</td></tr></table>\n",
              "<h3><span class=\"mw-headline\" id=\".D0.98.D0.BD.D1.81.D1.82.D0.B8.D1.82.D1.83.D1.82.D1.81.D0.BA.D0.B8.D0.B5_.D0.BA.D0.B0.D1.84.D0.B5.D0.B4.D1.80.D1.8B\">Институтские кафедры</span></h3>\n",
              "<div style=\"-moz-column-count:3; column-count:3; -webkit-column-count:3\">\n",
              "<ul><li> <a href=\"/wiki/%D0%9A%D0%B0%D1%84%D0%B5%D0%B4%D1%80%D0%B0_%D0%B2%D1%8B%D1%81%D1%88%D0%B5%D0%B9_%D0%BC%D0%B0%D1%82%D0%B5%D0%BC%D0%B0%D1%82%D0%B8%D0%BA%D0%B8\" title=\"Кафедра высшей математики\">Кафедра высшей математики</a></li>\n",
              "<li> <a href=\"/wiki/%D0%9A%D0%B0%D1%84%D0%B5%D0%B4%D1%80%D0%B0_%D0%BE%D0%B1%D1%89%D0%B5%D0%B9_%D1%84%D0%B8%D0%B7%D0%B8%D0%BA%D0%B8\" title=\"Кафедра общей физики\">Кафедра общей физики</a></li>\n",
              "<li> <a href=\"/wiki/%D0%9A%D0%B0%D1%84%D0%B5%D0%B4%D1%80%D0%B0_%D0%BE%D0%B1%D1%89%D0%B5%D0%B9_%D1%85%D0%B8%D0%BC%D0%B8%D0%B8\" title=\"Кафедра общей химии\">Кафедра общей химии</a></li>\n",
              "<li> <a href=\"/wiki/%D0%9A%D0%B0%D1%84%D0%B5%D0%B4%D1%80%D0%B0_%D0%B8%D0%BD%D1%84%D0%BE%D1%80%D0%BC%D0%B0%D1%82%D0%B8%D0%BA%D0%B8\" title=\"Кафедра информатики\">Кафедра информатики</a></li>\n",
              "<li> <a href=\"/wiki/%D0%9A%D0%B0%D1%84%D0%B5%D0%B4%D1%80%D0%B0_%D0%B8%D0%BD%D0%BE%D1%81%D1%82%D1%80%D0%B0%D0%BD%D0%BD%D1%8B%D1%85_%D1%8F%D0%B7%D1%8B%D0%BA%D0%BE%D0%B2\" title=\"Кафедра иностранных языков\">Кафедра иностранных языков</a></li>\n",
              "<li> <a class=\"mw-redirect\" href=\"/wiki/%D0%9A%D0%B0%D1%84%D0%B5%D0%B4%D1%80%D0%B0_%D0%B2%D1%8B%D1%87%D0%B8%D1%81%D0%BB%D0%B8%D1%82%D0%B5%D0%BB%D1%8C%D0%BD%D0%BE%D0%B9_%D0%BC%D0%B0%D1%82%D0%B5%D0%BC%D0%B0%D1%82%D0%B8%D0%BA%D0%B8\" title=\"Кафедра вычислительной математики\">Кафедра вычислительной математики</a></li>\n",
              "<li> <a href=\"/wiki/%D0%9A%D0%B0%D1%84%D0%B5%D0%B4%D1%80%D0%B0_%D1%82%D0%B5%D0%BE%D1%80%D0%B5%D1%82%D0%B8%D1%87%D0%B5%D1%81%D0%BA%D0%BE%D0%B9_%D1%84%D0%B8%D0%B7%D0%B8%D0%BA%D0%B8\" title=\"Кафедра теоретической физики\">Кафедра теоретической физики</a></li>\n",
              "<li> <a href=\"/wiki/%D0%9A%D0%B0%D1%84%D0%B5%D0%B4%D1%80%D0%B0_%D1%82%D0%B5%D0%BE%D1%80%D0%B5%D1%82%D0%B8%D1%87%D0%B5%D1%81%D0%BA%D0%BE%D0%B9_%D0%BC%D0%B5%D1%85%D0%B0%D0%BD%D0%B8%D0%BA%D0%B8\" title=\"Кафедра теоретической механики\">Кафедра теоретической механики</a></li>\n",
              "<li> <a class=\"mw-redirect\" href=\"/wiki/%D0%9A%D0%B0%D1%84%D0%B5%D0%B4%D1%80%D0%B0_%D1%80%D0%B0%D0%B4%D0%B8%D0%BE%D1%82%D0%B5%D1%85%D0%BD%D0%B8%D0%BA%D0%B8_%D0%B8_%D1%82%D0%B5%D0%BB%D0%B5%D0%BA%D0%BE%D0%BC%D0%BC%D1%83%D0%BD%D0%B8%D0%BA%D0%B0%D1%86%D0%B8%D0%B9\" title=\"Кафедра радиотехники и телекоммуникаций\">Кафедра радиотехники и телекоммуникаций</a></li>\n",
              "<li> <a href=\"/wiki/%D0%9A%D0%B0%D1%84%D0%B5%D0%B4%D1%80%D0%B0_%D0%BF%D1%80%D0%B8%D0%BA%D0%BB%D0%B0%D0%B4%D0%BD%D0%BE%D0%B9_%D0%BC%D0%B5%D1%85%D0%B0%D0%BD%D0%B8%D0%BA%D0%B8\" title=\"Кафедра прикладной механики\">Кафедра прикладной механики</a></li>\n",
              "<li> <a href=\"/wiki/%D0%9A%D0%B0%D1%84%D0%B5%D0%B4%D1%80%D0%B0_%D0%BF%D1%80%D0%B0%D0%B2%D0%B0\" title=\"Кафедра права\">Кафедра права</a></li>\n",
              "<li> <a href=\"/wiki/%D0%9A%D0%B0%D1%84%D0%B5%D0%B4%D1%80%D0%B0_%D1%84%D0%B8%D0%B7%D0%B8%D1%87%D0%B5%D1%81%D0%BA%D0%BE%D0%B3%D0%BE_%D0%B2%D0%BE%D1%81%D0%BF%D0%B8%D1%82%D0%B0%D0%BD%D0%B8%D1%8F_%D0%B8_%D1%81%D0%BF%D0%BE%D1%80%D1%82%D0%B0\" title=\"Кафедра физического воспитания и спорта\">Кафедра физического воспитания и спорта</a></li>\n",
              "<li> <a class=\"new\" href=\"/wiki/%D0%A1%D0%BB%D1%83%D0%B6%D0%B5%D0%B1%D0%BD%D0%B0%D1%8F:FormEdit/Кафедра/%D0%9A%D0%B0%D1%84%D0%B5%D0%B4%D1%80%D0%B0_%D0%B1%D0%B8%D0%BE%D1%84%D0%B8%D0%B7%D0%B8%D0%BA%D0%B8_%D0%B8_%D1%8D%D0%BA%D0%BE%D0%BB%D0%BE%D0%B3%D0%B8%D0%B8?redlink=1\" title=\"Кафедра биофизики и экологии (страница не существует)\">Кафедра биофизики и экологии</a></li>\n",
              "<li> <a href=\"/wiki/%D0%9A%D0%B0%D1%84%D0%B5%D0%B4%D1%80%D0%B0_%D1%81%D0%B8%D1%81%D1%82%D0%B5%D0%BC%D0%BD%D0%BE%D0%B3%D0%BE_%D0%B0%D0%BD%D0%B0%D0%BB%D0%B8%D0%B7%D0%B0_%D1%8D%D0%BA%D0%BE%D0%BD%D0%BE%D0%BC%D0%B8%D0%BA%D0%B8\" title=\"Кафедра системного анализа экономики\">Кафедра системного анализа экономики</a></li>\n",
              "<li> <a href=\"/wiki/%D0%92%D0%BE%D0%B5%D0%BD%D0%BD%D0%B0%D1%8F_%D0%BA%D0%B0%D1%84%D0%B5%D0%B4%D1%80%D0%B0\" title=\"Военная кафедра\">Военная кафедра</a></li>\n",
              "<li> <a href=\"/wiki/%D0%9A%D0%B0%D1%84%D0%B5%D0%B4%D1%80%D0%B0_%D1%84%D0%B8%D0%BB%D0%BE%D1%81%D0%BE%D1%84%D0%B8%D0%B8\" title=\"Кафедра философии\">Кафедра философии</a></li>\n",
              "<li> <a href=\"/wiki/%D0%92%D1%8B%D1%81%D1%88%D0%B0%D1%8F_%D1%88%D0%BA%D0%BE%D0%BB%D0%B0_%D1%81%D0%B8%D1%81%D1%82%D0%B5%D0%BC%D0%BD%D0%BE%D0%B3%D0%BE_%D0%B8%D0%BD%D0%B6%D0%B8%D0%BD%D0%B8%D1%80%D0%B8%D0%BD%D0%B3%D0%B0\" title=\"Высшая школа системного инжиниринга\">Высшая школа системного инжиниринга</a></li></ul>\n",
              "</div>\n",
              "<h3><span class=\"mw-headline\" id=\".D0.A1.D0.B2.D0.B5.D0.B6.D0.B5.D0.B5_.D1.81_.C2.AB.D0.9F.D0.BE.D1.82.D0.BE.D0.BA.D0.B0.C2.BB\">Свежее с «<a href=\"/wiki/%D0%9F%D0%BE%D1%82%D0%BE%D0%BA\" title=\"Поток\">Потока</a>»</span></h3>\n",
              "<dl><dd> <a class=\"external text\" href=\"http://miptstream.ru/2021/09/07/atomic-physics-lab-and-jetbrains-courses/\" rel=\"nofollow\">Образовательные курсы и практики от лаборатории методов ядерно-физических экспериментов ЛФИ МФТИ и компании JetBrains</a> (7 September 2021)</dd></dl>\n",
              "<dl><dd> <a class=\"external text\" href=\"http://miptstream.ru/2021/09/03/phystech-alpha-autumn-2021/\" rel=\"nofollow\">Cбор заявок на благотворительную премию-конкурс «Phystech-Alpha»</a> (3 September 2021)</dd></dl>\n",
              "<dl><dd> <a class=\"external text\" href=\"http://miptstream.ru/2021/09/03/miptbase-free-internet-autumn-2021/\" rel=\"nofollow\">Фонд MIPTBASE проводит раздачу интернета первокурсникам</a> (2 September 2021)</dd></dl>\n",
              "<p><!-- \n",
              "NewPP limit report\n",
              "Cached time: 19691231235959\n",
              "Cache expiry: 0\n",
              "Dynamic content: true\n",
              "CPU time usage: 0.005 seconds\n",
              "Real time usage: 0.006 seconds\n",
              "Preprocessor visited node count: 8/1000000\n",
              "Preprocessor generated node count: 227/1000000\n",
              "Post‐expand include size: 0/2097152 bytes\n",
              "Template argument size: 0/2097152 bytes\n",
              "Highest expansion depth: 2/40\n",
              "Expensive parser function count: 0/100\n",
              "-->\n",
              "</p><p><!-- \n",
              "Transclusion expansion time report (%,ms,calls,template)\n",
              "100.00%    0.000      1 - -total\n",
              "-->\n",
              "</p>\n",
              "<dl><dd> <a href=\"/wiki/%D0%92%D0%B8%D0%BA%D0%B8%D0%A4%D0%B8%D0%B7%D1%82%D0%B5%D1%85:%D0%A2%D0%B5%D0%BA%D1%83%D1%89%D0%B8%D0%B5_%D1%81%D0%BE%D0%B1%D1%8B%D1%82%D0%B8%D1%8F\" title=\"ВикиФизтех:Текущие события\">ещё новости...</a></dd></dl>\n",
              "<h3><span class=\"mw-headline\" id=\".D0.9D.D0.B0.D1.88.D0.B8_.D0.BF.D1.80.D0.B5.D0.BF.D0.BE.D0.B4.D0.B0.D0.B2.D0.B0.D1.82.D0.B5.D0.BB.D0.B8\">Наши преподаватели</span></h3>\n",
              "<table style=\"width: 100%; vertical-align: top;\">\n",
              "<tr>\n",
              "<td valign=\"top\" width=\"33%\">\n",
              "<h4><span class=\"mw-headline\" id=\".D0.91.D0.BB.D0.B8.D0.B6.D0.B0.D0.B9.D1.88.D0.B8.D0.B5_.D0.B4.D0.BD.D0.B8_.D1.80.D0.BE.D0.B6.D0.B4.D0.B5.D0.BD.D0.B8.D1.8F:\">Ближайшие дни рождения:</span></h4>\n",
              "<ul>\n",
              "<li><span style=\"white-space: nowrap;\"><a href=\"/wiki/%D0%A2%D1%80%D1%83%D1%88%D0%B8%D0%BD_%D0%91%D0%BE%D1%80%D0%B8%D1%81_%D0%92%D0%B8%D0%BA%D1%82%D0%BE%D1%80%D0%BE%D0%B2%D0%B8%D1%87\" title=\"Трушин Борис Викторович\">Трушин Борис Викторович</a></span> <span style=\"white-space: nowrap;\">(14 декабря)</span></li>\n",
              "<li><span style=\"white-space: nowrap;\"><a href=\"/wiki/%D0%A7%D0%B8%D0%B7%D0%BC%D0%B0%D0%B4%D0%B6%D0%B5%D0%B2_%D0%AE%D1%80%D0%B8%D0%B9_%D0%90%D0%BB%D0%B5%D0%BA%D1%81%D0%B0%D0%BD%D0%B4%D1%80%D0%BE%D0%B2%D0%B8%D1%87\" title=\"Чизмаджев Юрий Александрович\">Чизмаджев Юрий Александрович</a></span> <span style=\"white-space: nowrap;\">(15 декабря)</span></li>\n",
              "<li><span style=\"white-space: nowrap;\"><a href=\"/wiki/%D0%A0%D0%B0%D1%81%D1%81%D0%BE%D1%85%D0%B0_%D0%90%D0%BD%D0%B0%D1%81%D1%82%D0%B0%D1%81%D0%B8%D1%8F_%D0%92%D0%BB%D0%B0%D0%B4%D0%B8%D0%BC%D0%B8%D1%80%D0%BE%D0%B2%D0%BD%D0%B0\" title=\"Рассоха Анастасия Владимировна\">Рассоха Анастасия Владимировна</a></span> <span style=\"white-space: nowrap;\">(15 декабря)</span></li>\n",
              "</ul>\n",
              "<dl><dd> <a href=\"/wiki/%D0%92%D0%B8%D0%BA%D0%B8%D0%A4%D0%B8%D0%B7%D1%82%D0%B5%D1%85:%D0%A2%D0%B5%D0%BA%D1%83%D1%89%D0%B8%D0%B5_%D1%81%D0%BE%D0%B1%D1%8B%D1%82%D0%B8%D1%8F\" title=\"ВикиФизтех:Текущие события\">ещё...</a></dd></dl>\n",
              "</td>\n",
              "<td valign=\"top\" width=\"33%\">\n",
              "<h4><span class=\"mw-headline\" id=\".D0.A1.D0.B0.D0.BC.D1.8B.D0.B5_.C2.AB.D1.85.D0.B0.D0.BB.D1.8F.D0.B2.D0.BD.D1.8B.D0.B5.C2.BB:\">Самые «халявные»:</span></h4>\n",
              "<ul><li class=\"ratings-top-item\" data-count=\"79\" data-mark=\"4.82\"><a href=\"http://wikimipt.org/wiki/%D0%96%D0%BE%D1%82%D0%B8%D0%BA%D0%BE%D0%B2_%D0%92%D0%B0%D0%B4%D0%B8%D0%BC_%D0%93%D0%B5%D0%BD%D0%BD%D0%B0%D0%B4%D1%8C%D0%B5%D0%B2%D0%B8%D1%87\" title=\"Жотиков Вадим Геннадьевич\">Жотиков Вадим Геннадьевич</a></li><li class=\"ratings-top-item\" data-count=\"63\" data-mark=\"4.81\"><a href=\"http://wikimipt.org/wiki/%D0%90%D0%B3%D0%B0%D1%85%D0%B0%D0%BD%D0%BE%D0%B2%D0%B0_%D0%AF%D0%BD%D0%B0_%D0%A1%D0%B5%D1%80%D0%B3%D0%B5%D0%B5%D0%B2%D0%BD%D0%B0\" title=\"Агаханова Яна Сергеевна\">Агаханова Яна Сергеевна</a></li><li class=\"ratings-top-item\" data-count=\"53\" data-mark=\"4.79\"><a href=\"http://wikimipt.org/wiki/%D0%94%D0%B0%D1%88%D0%BA%D0%BE%D0%B2_%D0%95%D0%B2%D0%B3%D0%B5%D0%BD%D0%B8%D0%B9_%D0%92%D0%BB%D0%B0%D0%B4%D0%B8%D0%BC%D0%B8%D1%80%D0%BE%D0%B2%D0%B8%D1%87\" title=\"Дашков Евгений Владимирович\">Дашков Евгений Владимирович</a></li></ul>\n",
              "<dl><dd> <a href=\"/wiki/%D0%92%D0%B8%D0%BA%D0%B8%D0%A4%D0%B8%D0%B7%D1%82%D0%B5%D1%85:%D0%A0%D0%B5%D0%B9%D1%82%D0%B8%D0%BD%D0%B3_%D0%BF%D1%80%D0%B5%D0%BF%D0%BE%D0%B4%D0%B0%D0%B2%D0%B0%D1%82%D0%B5%D0%BB%D0%B5%D0%B9\" title=\"ВикиФизтех:Рейтинг преподавателей\">ещё...</a></dd></dl>\n",
              "</td>\n",
              "<td valign=\"top\" width=\"33%\">\n",
              "<h4><span class=\"mw-headline\" id=\".D0.A1.D0.B0.D0.BC.D1.8B.D0.B5_.D1.81.D1.82.D1.80.D0.BE.D0.B3.D0.B8.D0.B5:\">Самые строгие:</span></h4>\n",
              "<ul><li class=\"ratings-top-item\" data-count=\"8\" data-mark=\"1\"><a href=\"http://wikimipt.org/wiki/%D0%A7%D0%B5%D1%80%D0%BA%D0%B0%D1%81%D0%BE%D0%B2_%D0%90%D0%BB%D0%B5%D0%BA%D1%81%D0%B5%D0%B9_%D0%9C%D0%B8%D1%85%D0%B0%D0%B9%D0%BB%D0%BE%D0%B2%D0%B8%D1%87\" title=\"Черкасов Алексей Михайлович\">Черкасов Алексей Михайлович</a></li><li class=\"ratings-top-item\" data-count=\"84\" data-mark=\"1.61\"><a href=\"http://wikimipt.org/wiki/%D0%A3%D0%BC%D0%BD%D0%BE%D0%B2_%D0%95%D0%B3%D0%BE%D1%80_%D0%90%D0%BB%D0%B5%D0%BA%D1%81%D0%B0%D0%BD%D0%B4%D1%80%D0%BE%D0%B2%D0%B8%D1%87\" title=\"Умнов Егор Александрович\">Умнов Егор Александрович</a></li><li class=\"ratings-top-item\" data-count=\"26\" data-mark=\"1.65\"><a href=\"http://wikimipt.org/wiki/%D0%A3%D0%BC%D0%BD%D0%BE%D0%B2_%D0%95%D0%B2%D0%B3%D0%B5%D0%BD%D0%B8%D0%B9_%D0%90%D0%BB%D0%B5%D0%BA%D1%81%D0%B0%D0%BD%D0%B4%D1%80%D0%BE%D0%B2%D0%B8%D1%87\" title=\"Умнов Евгений Александрович\">Умнов Евгений Александрович</a></li></ul>\n",
              "<dl><dd> <a href=\"/wiki/%D0%92%D0%B8%D0%BA%D0%B8%D0%A4%D0%B8%D0%B7%D1%82%D0%B5%D1%85:%D0%A0%D0%B5%D0%B9%D1%82%D0%B8%D0%BD%D0%B3_%D0%BF%D1%80%D0%B5%D0%BF%D0%BE%D0%B4%D0%B0%D0%B2%D0%B0%D1%82%D0%B5%D0%BB%D0%B5%D0%B9\" title=\"ВикиФизтех:Рейтинг преподавателей\">ещё...</a></dd></dl>\n",
              "</td></tr></table>\n",
              "<table style=\"width: 100%; vertical-align: top;\">\n",
              "<tr>\n",
              "<td valign=\"top\" width=\"33%\">\n",
              "<div style=\"float: right;\"><a class=\"external text\" href=\"http://wikimipt.org/index.php?title=%D0%97%D0%B0%D0%B3%D0%BB%D0%B0%D0%B2%D0%BD%D0%B0%D1%8F_%D1%81%D1%82%D1%80%D0%B0%D0%BD%D0%B8%D1%86%D0%B0&amp;action=purge\" rel=\"nofollow\">[обновить</a>]</div>\n",
              "<h3><span class=\"mw-headline\" id=\".D0.9F.D0.BE.D1.81.D0.BB.D0.B5.D0.B4.D0.BD.D0.B8.D0.B5_.D0.BA.D0.BE.D0.BC.D0.BC.D0.B5.D0.BD.D1.82.D0.B0.D1.80.D0.B8.D0.B8\"><a href=\"/wiki/%D0%92%D0%B8%D0%BA%D0%B8%D0%A4%D0%B8%D0%B7%D1%82%D0%B5%D1%85:%D0%9F%D0%BE%D1%81%D0%BB%D0%B5%D0%B4%D0%BD%D0%B8%D0%B5_%D0%BA%D0%BE%D0%BC%D0%BC%D0%B5%D0%BD%D1%82%D0%B0%D1%80%D0%B8%D0%B8\" title=\"ВикиФизтех:Последние комментарии\">Последние комментарии</a></span></h3>\n",
              "<ul><li><a href=\"http://wikimipt.org/wiki/%D0%A1%D0%B0%D1%83%D0%BB%D0%B8%D0%BD_%D0%A1%D0%B5%D1%80%D0%B3%D0%B5%D0%B9_%D0%9C%D0%B8%D1%85%D0%B0%D0%B9%D0%BB%D0%BE%D0%B2%D0%B8%D1%87\" title=\"Саулин Сергей Михайлович\">Саулин Сергей Михайлович</a></li><li><a href=\"http://wikimipt.org/wiki/%D0%A2%D0%BE%D0%BA%D1%83%D0%BD%D0%BE%D0%B2_%D0%AE%D1%80%D0%B8%D0%B9_%D0%9C%D0%B0%D1%82%D0%B2%D0%B5%D0%B5%D0%B2%D0%B8%D1%87\" title=\"Токунов Юрий Матвеевич\">Токунов Юрий Матвеевич</a></li><li><a href=\"http://wikimipt.org/wiki/%D0%96%D0%B0%D0%B1%D0%B8%D0%BD_%D0%A1%D0%B5%D1%80%D0%B3%D0%B5%D0%B9_%D0%9D%D0%B8%D0%BA%D0%BE%D0%BB%D0%B0%D0%B5%D0%B2%D0%B8%D1%87\" title=\"Жабин Сергей Николаевич\">Жабин Сергей Николаевич</a></li><li><a href=\"http://wikimipt.org/wiki/%D0%93%D0%BE%D1%80%D1%88%D0%BA%D0%BE%D0%B2_%D0%A2%D0%B8%D0%BC%D0%BE%D1%84%D0%B5%D0%B9_%D0%92%D0%BB%D0%B0%D0%B4%D0%B8%D0%BC%D0%B8%D1%80%D0%BE%D0%B2%D0%B8%D1%87\" title=\"Горшков Тимофей Владимирович\">Горшков Тимофей Владимирович</a></li><li><a href=\"http://wikimipt.org/wiki/%D0%9B%D0%B5%D0%B3%D0%B0_%D0%92%D0%B8%D0%BA%D1%82%D0%BE%D1%80_%D0%9F%D0%B5%D1%82%D1%80%D0%BE%D0%B2%D0%B8%D1%87\" title=\"Лега Виктор Петрович\">Лега Виктор Петрович</a></li><li><a href=\"http://wikimipt.org/wiki/%D0%91%D1%83%D1%80%D1%86%D0%B5%D0%B2_%D0%90%D0%BB%D0%B5%D0%BA%D1%81%D0%B5%D0%B9_%D0%90%D0%BD%D0%B0%D1%82%D0%BE%D0%BB%D1%8C%D0%B5%D0%B2%D0%B8%D1%87\" title=\"Бурцев Алексей Анатольевич\">Бурцев Алексей Анатольевич</a></li><li><a href=\"http://wikimipt.org/wiki/%D0%9B%D0%B5%D0%B2_%D0%9D%D0%B8%D0%BA%D0%BE%D0%BB%D0%B0%D0%B5%D0%B2%D0%B8%D1%87_%D0%90%D1%81%D1%82%D1%80%D0%B0%D1%85%D0%B0%D0%BD%D1%86%D0%B5%D0%B2\" title=\"Лев Николаевич Астраханцев\">Лев Николаевич Астраханцев</a></li><li><a href=\"http://wikimipt.org/wiki/%D0%A1%D0%B8%D0%B7%D1%8B%D1%85_%D0%93%D1%80%D0%B8%D0%B3%D0%BE%D1%80%D0%B8%D0%B9_%D0%91%D0%BE%D1%80%D0%B8%D1%81%D0%BE%D0%B2%D0%B8%D1%87\" title=\"Сизых Григорий Борисович\">Сизых Григорий Борисович</a></li><li><a href=\"http://wikimipt.org/wiki/%D0%A4%D0%B0%D0%BA%D1%83%D0%BB%D1%8C%D1%82%D0%B5%D1%82_%D1%80%D0%B0%D0%B4%D0%B8%D0%BE%D1%82%D0%B5%D1%85%D0%BD%D0%B8%D0%BA%D0%B8_%D0%B8_%D0%BA%D0%B8%D0%B1%D0%B5%D1%80%D0%BD%D0%B5%D1%82%D0%B8%D0%BA%D0%B8\" title=\"Факультет радиотехники и кибернетики\">Факультет радиотехники и кибернетики</a></li><li><a href=\"http://wikimipt.org/wiki/%D0%98%D0%B2%D0%B0%D0%BD%D0%BE%D0%B2_%D0%90%D0%BB%D0%B5%D0%BA%D1%81%D0%B0%D0%BD%D0%B4%D1%80_%D0%9F%D0%B0%D0%B2%D0%BB%D0%BE%D0%B2%D0%B8%D1%87\" title=\"Иванов Александр Павлович\">Иванов Александр Павлович</a></li></ul>\n",
              "</td>\n",
              "<td valign=\"top\" width=\"33%\">\n",
              "<h3><span class=\"mw-headline\" id=\".D0.9F.D0.BE.D1.81.D0.BB.D0.B5.D0.B4.D0.BD.D0.B8.D0.B5_.D0.BE.D0.B1.D0.BD.D0.BE.D0.B2.D0.BB.D0.B5.D0.BD.D0.B8.D1.8F\">Последние обновления</span></h3>\n",
              "<ul>\n",
              "<li data-sortkey=\"Е\"><a href=\"/wiki/%D0%95%D1%80%D1%88%D0%BE%D0%B2_%D0%90%D0%BD%D0%B4%D1%80%D0%B5%D0%B9_%D0%92%D0%BB%D0%B0%D0%B4%D0%B8%D0%BC%D0%B8%D1%80%D0%BE%D0%B2%D0%B8%D1%87\" title=\"Ершов Андрей Владимирович\">Ершов Андрей Владимирович</a></li>\n",
              "<li data-sortkey=\"Я\"><a href=\"/wiki/%D0%AF%D0%BA%D0%BE%D0%B2%D0%B5%D0%BD%D0%BA%D0%BE_%D0%93%D0%B5%D0%BD%D0%BD%D0%B0%D0%B4%D0%B8%D0%B9_%D0%9D%D0%B8%D0%BA%D0%BE%D0%BB%D0%B0%D0%B5%D0%B2%D0%B8%D1%87\" title=\"Яковенко Геннадий Николаевич\">Яковенко Геннадий Николаевич</a></li>\n",
              "<li data-sortkey=\"Ф\"><a href=\"/wiki/%D0%A4%D0%B5%D0%B4%D0%B8%D1%87%D0%B5%D0%B2_%D0%9E%D0%BB%D0%B5%D0%B3_%D0%91%D0%BE%D1%80%D0%B8%D1%81%D0%BE%D0%B2%D0%B8%D1%87\" title=\"Федичев Олег Борисович\">Федичев Олег Борисович</a></li>\n",
              "<li data-sortkey=\"П\"><a href=\"/wiki/%D0%9F%D0%B5%D1%82%D1%83%D1%85%D0%BE%D0%B2_%D0%92%D0%BB%D0%B0%D0%B4%D0%B8%D0%BC%D0%B8%D1%80_%D0%90%D0%BD%D0%B4%D1%80%D0%B5%D0%B5%D0%B2%D0%B8%D1%87\" title=\"Петухов Владимир Андреевич\">Петухов Владимир Андреевич</a></li>\n",
              "<li data-sortkey=\"М\"><a href=\"/wiki/%D0%9C%D0%B8%D1%85%D0%B0%D0%B9%D0%BB%D0%BE%D0%B2%D0%B0_%D0%A2%D0%B0%D1%82%D1%8C%D1%8F%D0%BD%D0%B0_%D0%92%D0%B0%D0%BB%D0%B5%D0%BD%D1%82%D0%B8%D0%BD%D0%BE%D0%B2%D0%BD%D0%B0\" title=\"Михайлова Татьяна Валентиновна\">Михайлова Татьяна Валентиновна</a></li>\n",
              "<li data-sortkey=\"К\"><a href=\"/wiki/%D0%9A%D0%B8%D1%80%D0%BA%D0%B8%D0%BD%D1%81%D0%BA%D0%B8%D0%B9_%D0%90%D0%BB%D0%B5%D0%BA%D1%81%D0%B0%D0%BD%D0%B4%D1%80_%D0%98%D0%BD%D0%BD%D0%BE%D0%BA%D0%B5%D0%BD%D1%82%D1%8C%D0%B5%D0%B2%D0%B8%D1%87\" title=\"Киркинский Александр Иннокентьевич\">Киркинский Александр Иннокентьевич</a></li>\n",
              "<li data-sortkey=\"З\"><a href=\"/wiki/%D0%97%D1%83%D0%B1%D0%BE%D0%B2%D0%B8%D1%87_%D0%9D%D0%B0%D1%82%D0%B0%D0%BB%D1%8C%D1%8F_%D0%AE%D1%80%D1%8C%D0%B5%D0%B2%D0%BD%D0%B0\" title=\"Зубович Наталья Юрьевна\">Зубович Наталья Юрьевна</a></li>\n",
              "<li data-sortkey=\"Д\"><a href=\"/wiki/%D0%94%D1%8C%D1%8F%D0%BA%D0%BE%D0%B2_%D0%90%D0%BD%D0%B0%D1%82%D0%BE%D0%BB%D0%B8%D0%B9_%D0%A1%D1%82%D0%B5%D0%BF%D0%B0%D0%BD%D0%BE%D0%B2%D0%B8%D1%87\" title=\"Дьяков Анатолий Степанович\">Дьяков Анатолий Степанович</a></li>\n",
              "<li data-sortkey=\"Д\"><a href=\"/wiki/%D0%94%D1%83%D0%B1%D0%B8%D0%BD%D1%81%D0%BA%D0%B0%D1%8F_%D0%92%D0%B5%D1%80%D0%B0_%D0%AE%D0%BB%D1%8C%D0%B5%D0%B2%D0%BD%D0%B0\" title=\"Дубинская Вера Юльевна\">Дубинская Вера Юльевна</a></li>\n",
              "<li data-sortkey=\"К\"><a href=\"/wiki/%D0%9A%D0%B0%D1%84%D0%B5%D0%B4%D1%80%D0%B0_%D1%84%D0%B8%D0%B7%D0%B8%D0%BA%D0%B8_%D1%82%D0%B2%D1%91%D1%80%D0%B4%D0%BE%D0%B3%D0%BE_%D1%82%D0%B5%D0%BB%D0%B0\" title=\"Кафедра физики твёрдого тела\">Кафедра физики твёрдого тела</a></li>\n",
              "</ul>\n",
              "<p><br/>\n",
              "</p>\n",
              "</td>\n",
              "<td valign=\"top\" width=\"33%\">\n",
              "<h3><span class=\"mw-headline\" id=\".D0.9D.D0.BE.D0.B2.D1.8B.D0.B5_.D1.81.D1.82.D1.80.D0.B0.D0.BD.D0.B8.D1.86.D1.8B\">Новые страницы</span></h3>\n",
              "<ul>\n",
              "<li data-sortkey=\"Ч\"><a href=\"/wiki/%D0%A7%D0%B5%D1%80%D0%BA%D0%B0%D1%81%D0%BE%D0%B2_%D0%90%D0%BB%D0%B5%D0%BA%D1%81%D0%B5%D0%B9_%D0%9C%D0%B8%D1%85%D0%B0%D0%B9%D0%BB%D0%BE%D0%B2%D0%B8%D1%87\" title=\"Черкасов Алексей Михайлович\">Черкасов Алексей Михайлович</a></li>\n",
              "<li data-sortkey=\"В\"><a href=\"/wiki/%D0%92%D0%9C%D0%9A_%D0%9C%D0%93%D0%A3\" title=\"ВМК МГУ\">ВМК МГУ</a></li>\n",
              "<li data-sortkey=\"В\"><a href=\"/wiki/%D0%92%D0%B8%D0%BA%D1%82%D0%BE%D1%80_%D0%92%D0%BB%D0%B0%D0%B4%D0%B8%D0%BC%D0%B8%D1%80%D0%BE%D0%B2%D0%B8%D1%87_%D0%9F%D0%B0%D0%BD%D0%BA%D1%80%D0%B0%D1%82%D0%BE%D0%B2\" title=\"Виктор Владимирович Панкратов\">Виктор Владимирович Панкратов</a></li>\n",
              "<li data-sortkey=\"М\"><a href=\"/wiki/%D0%9C%D0%B5%D1%82%D0%BE%D0%B4%D1%8B_%D0%BF%D1%80%D0%BE%D0%B3%D1%80%D0%B0%D0%BC%D0%BC%D0%B8%D1%80%D0%BE%D0%B2%D0%B0%D0%BD%D0%B8%D1%8F_%D0%B2_%D0%BC%D0%BE%D0%B4%D0%B5%D0%BB%D0%B8%D1%80%D0%BE%D0%B2%D0%B0%D0%BD%D0%B8%D0%B8_%D1%84%D0%B8%D0%B7%D0%B8%D1%87%D0%B5%D1%81%D0%BA%D0%B8%D1%85_%D0%BF%D1%80%D0%BE%D1%86%D0%B5%D1%81%D1%81%D0%BE%D0%B2\" title=\"Методы программирования в моделировании физических процессов\">Методы программирования в моделировании физических процессов</a></li>\n",
              "<li data-sortkey=\"М\"><a href=\"/wiki/%D0%9C%D0%B5%D1%82%D0%BE%D0%B4%D1%8B_%D0%BC%D0%BE%D0%B4%D0%B5%D0%BB%D0%B8%D1%80%D0%BE%D0%B2%D0%B0%D0%BD%D0%B8%D1%8F_%D0%B2_%D0%BC%D0%BE%D0%BB%D0%B5%D0%BA%D1%83%D0%BB%D1%8F%D1%80%D0%BD%D0%BE%D0%B9_%D1%84%D0%B8%D0%B7%D0%B8%D0%BA%D0%B5\" title=\"Методы моделирования в молекулярной физике\">Методы моделирования в молекулярной физике</a></li>\n",
              "<li data-sortkey=\"П\"><a href=\"/wiki/%D0%9F%D1%80%D0%B0%D0%BA%D1%82%D0%B8%D0%BA%D1%83%D0%BC_%D0%BF%D0%BE_%D0%B2%D1%8B%D1%87%D0%B8%D1%81%D0%BB%D0%B8%D1%82%D0%B5%D0%BB%D1%8C%D0%BD%D0%BE%D0%B9_%D1%82%D0%B5%D0%BF%D0%BB%D0%BE%D1%84%D0%B8%D0%B7%D0%B8%D0%BA%D0%B5\" title=\"Практикум по вычислительной теплофизике\">Практикум по вычислительной теплофизике</a></li>\n",
              "<li data-sortkey=\"К\"><a href=\"/wiki/%D0%9A%D0%B0%D1%84%D0%B5%D0%B4%D1%80%D0%B0_%D1%84%D0%B8%D0%B7%D0%B8%D0%BA%D0%B8_%D0%B2%D1%8B%D1%81%D0%BE%D0%BA%D0%BE%D1%82%D0%B5%D0%BC%D0%BF%D0%B5%D1%80%D0%B0%D1%82%D1%83%D1%80%D0%BD%D1%8B%D1%85_%D0%BF%D1%80%D0%BE%D1%86%D0%B5%D1%81%D1%81%D0%BE%D0%B2\" title=\"Кафедра физики высокотемпературных процессов\">Кафедра физики высокотемпературных процессов</a></li>\n",
              "<li data-sortkey=\"К\"><a href=\"/wiki/%D0%9A%D0%BE%D1%81%D0%B8%D1%86%D1%8B%D0%BD_%D0%9F%D0%B0%D0%B2%D0%B5%D0%BB_%D0%90%D0%BD%D0%B4%D1%80%D0%B5%D0%B5%D0%B2%D0%B8%D1%87\" title=\"Косицын Павел Андреевич\">Косицын Павел Андреевич</a></li>\n",
              "<li data-sortkey=\"Ф\"><a href=\"/wiki/%D0%A4%D0%B5%D0%B4%D0%B8%D1%87%D0%BA%D0%B8%D0%BD_%D0%9B%D0%B5%D0%BE%D0%BD%D0%B8%D0%B4_%D0%95%D0%B2%D0%B3%D0%B5%D0%BD%D1%8C%D0%B5%D0%B2%D0%B8%D1%87\" title=\"Федичкин Леонид Евгеньевич\">Федичкин Леонид Евгеньевич</a></li>\n",
              "<li data-sortkey=\"И\"><a href=\"/wiki/%D0%98%D0%A1%D0%90_%D0%A0%D0%90%D0%9D\" title=\"ИСА РАН\">ИСА РАН</a></li>\n",
              "</ul>\n",
              "<p><br/>\n",
              "</p>\n",
              "</td></tr></table>\n",
              "<h3><span class=\"mw-headline\" id=\".D0.9F.D0.BE.D1.81.D0.BB.D0.B5.D0.B4.D0.BD.D0.B8.D0.B5_.D0.B7.D0.B0.D0.B3.D1.80.D1.83.D0.B6.D0.B5.D0.BD.D0.BD.D1.8B.D0.B5_.D1.84.D0.B0.D0.B9.D0.BB.D1.8B\">Последние загруженные файлы</span></h3>\n",
              "<div class=\"gallery-latest\" style=\"overflow: hidden; left: 0; right: 0; height: 126px;\">\n",
              "<div align=\"justify\" class=\"srf-gallery\" data-ns-text=\"Файл\" data-redirect-type=\"_wpg\"><ul class=\"gallery mw-gallery-traditional\" id=\"61b86dce72b6a\">\n",
              "<li class=\"gallerybox\" style=\"width: 155px\"><div style=\"width: 155px\">\n",
              "<div class=\"thumb\" style=\"width: 150px;\"><div style=\"margin:15px auto;\"><a class=\"image\" href=\"/wiki/%D0%A4%D0%B0%D0%B9%D0%BB:%D0%9A%D1%80%D0%B0%D0%B9%D0%BD%D0%BE%D0%B2_%D0%92%D0%BB%D0%B0%D0%B4%D0%B8%D0%BC%D0%B8%D1%80_%D0%9F%D0%B0%D0%B2%D0%BB%D0%BE%D0%B2%D0%B8%D1%87.jpg\"><img alt=\"\" height=\"120\" src=\"/images/thumb/0/00/%D0%9A%D1%80%D0%B0%D0%B9%D0%BD%D0%BE%D0%B2_%D0%92%D0%BB%D0%B0%D0%B4%D0%B8%D0%BC%D0%B8%D1%80_%D0%9F%D0%B0%D0%B2%D0%BB%D0%BE%D0%B2%D0%B8%D1%87.jpg/89px-%D0%9A%D1%80%D0%B0%D0%B9%D0%BD%D0%BE%D0%B2_%D0%92%D0%BB%D0%B0%D0%B4%D0%B8%D0%BC%D0%B8%D1%80_%D0%9F%D0%B0%D0%B2%D0%BB%D0%BE%D0%B2%D0%B8%D1%87.jpg\" srcset=\"/images/thumb/0/00/%D0%9A%D1%80%D0%B0%D0%B9%D0%BD%D0%BE%D0%B2_%D0%92%D0%BB%D0%B0%D0%B4%D0%B8%D0%BC%D0%B8%D1%80_%D0%9F%D0%B0%D0%B2%D0%BB%D0%BE%D0%B2%D0%B8%D1%87.jpg/133px-%D0%9A%D1%80%D0%B0%D0%B9%D0%BD%D0%BE%D0%B2_%D0%92%D0%BB%D0%B0%D0%B4%D0%B8%D0%BC%D0%B8%D1%80_%D0%9F%D0%B0%D0%B2%D0%BB%D0%BE%D0%B2%D0%B8%D1%87.jpg 1.5x, /images/thumb/0/00/%D0%9A%D1%80%D0%B0%D0%B9%D0%BD%D0%BE%D0%B2_%D0%92%D0%BB%D0%B0%D0%B4%D0%B8%D0%BC%D0%B8%D1%80_%D0%9F%D0%B0%D0%B2%D0%BB%D0%BE%D0%B2%D0%B8%D1%87.jpg/177px-%D0%9A%D1%80%D0%B0%D0%B9%D0%BD%D0%BE%D0%B2_%D0%92%D0%BB%D0%B0%D0%B4%D0%B8%D0%BC%D0%B8%D1%80_%D0%9F%D0%B0%D0%B2%D0%BB%D0%BE%D0%B2%D0%B8%D1%87.jpg 2x\" width=\"89\"/></a></div></div>\n",
              "<div class=\"gallerytext\">\n",
              "<p>Крайнов Владимир Павлович\n",
              "</p>\n",
              "</div>\n",
              "</div></li>\n",
              "<li class=\"gallerybox\" style=\"width: 155px\"><div style=\"width: 155px\">\n",
              "<div class=\"thumb\" style=\"width: 150px;\"><div style=\"margin:53.5px auto;\"><a class=\"image\" href=\"/wiki/%D0%A4%D0%B0%D0%B9%D0%BB:Issp.png\"><img alt=\"\" height=\"43\" src=\"/images/thumb/d/da/Issp.png/120px-Issp.png\" srcset=\"/images/thumb/d/da/Issp.png/180px-Issp.png 1.5x, /images/thumb/d/da/Issp.png/240px-Issp.png 2x\" width=\"120\"/></a></div></div>\n",
              "<div class=\"gallerytext\">\n",
              "<p>Issp\n",
              "</p>\n",
              "</div>\n",
              "</div></li>\n",
              "<li class=\"gallerybox\" style=\"width: 155px\"><div style=\"width: 155px\">\n",
              "<div class=\"thumb\" style=\"width: 150px;\"><div style=\"margin:30px auto;\"><a class=\"image\" href=\"/wiki/%D0%A4%D0%B0%D0%B9%D0%BB:AMC.png\"><img alt=\"\" height=\"90\" src=\"/images/thumb/a/a4/AMC.png/120px-AMC.png\" srcset=\"/images/thumb/a/a4/AMC.png/180px-AMC.png 1.5x, /images/thumb/a/a4/AMC.png/240px-AMC.png 2x\" width=\"120\"/></a></div></div>\n",
              "<div class=\"gallerytext\">\n",
              "<p>AMC\n",
              "</p>\n",
              "</div>\n",
              "</div></li>\n",
              "<li class=\"gallerybox\" style=\"width: 155px\"><div style=\"width: 155px\">\n",
              "<div class=\"thumb\" style=\"width: 150px;\"><div style=\"margin:30px auto;\"><a class=\"image\" href=\"/wiki/%D0%A4%D0%B0%D0%B9%D0%BB:%D0%A7%D0%B5%D1%80%D0%BA%D0%B0%D1%81%D0%BE%D0%B2_%D0%90%D0%BB%D0%B5%D0%BA%D1%81%D0%B5%D0%B9_%D0%9C%D0%B8%D1%85%D0%B0%D0%B9%D0%BB%D0%BE%D0%B2%D0%B8%D1%87.jpeg\"><img alt=\"\" height=\"90\" src=\"/images/thumb/e/e2/%D0%A7%D0%B5%D1%80%D0%BA%D0%B0%D1%81%D0%BE%D0%B2_%D0%90%D0%BB%D0%B5%D0%BA%D1%81%D0%B5%D0%B9_%D0%9C%D0%B8%D1%85%D0%B0%D0%B9%D0%BB%D0%BE%D0%B2%D0%B8%D1%87.jpeg/120px-%D0%A7%D0%B5%D1%80%D0%BA%D0%B0%D1%81%D0%BE%D0%B2_%D0%90%D0%BB%D0%B5%D0%BA%D1%81%D0%B5%D0%B9_%D0%9C%D0%B8%D1%85%D0%B0%D0%B9%D0%BB%D0%BE%D0%B2%D0%B8%D1%87.jpeg\" srcset=\"/images/thumb/e/e2/%D0%A7%D0%B5%D1%80%D0%BA%D0%B0%D1%81%D0%BE%D0%B2_%D0%90%D0%BB%D0%B5%D0%BA%D1%81%D0%B5%D0%B9_%D0%9C%D0%B8%D1%85%D0%B0%D0%B9%D0%BB%D0%BE%D0%B2%D0%B8%D1%87.jpeg/180px-%D0%A7%D0%B5%D1%80%D0%BA%D0%B0%D1%81%D0%BE%D0%B2_%D0%90%D0%BB%D0%B5%D0%BA%D1%81%D0%B5%D0%B9_%D0%9C%D0%B8%D1%85%D0%B0%D0%B9%D0%BB%D0%BE%D0%B2%D0%B8%D1%87.jpeg 1.5x, /images/thumb/e/e2/%D0%A7%D0%B5%D1%80%D0%BA%D0%B0%D1%81%D0%BE%D0%B2_%D0%90%D0%BB%D0%B5%D0%BA%D1%81%D0%B5%D0%B9_%D0%9C%D0%B8%D1%85%D0%B0%D0%B9%D0%BB%D0%BE%D0%B2%D0%B8%D1%87.jpeg/240px-%D0%A7%D0%B5%D1%80%D0%BA%D0%B0%D1%81%D0%BE%D0%B2_%D0%90%D0%BB%D0%B5%D0%BA%D1%81%D0%B5%D0%B9_%D0%9C%D0%B8%D1%85%D0%B0%D0%B9%D0%BB%D0%BE%D0%B2%D0%B8%D1%87.jpeg 2x\" width=\"120\"/></a></div></div>\n",
              "<div class=\"gallerytext\">\n",
              "<p>Черкасов Алексей Михайлович\n",
              "</p>\n",
              "</div>\n",
              "</div></li>\n",
              "<li class=\"gallerybox\" style=\"width: 155px\"><div style=\"width: 155px\">\n",
              "<div class=\"thumb\" style=\"width: 150px;\"><div style=\"margin:15px auto;\"><a class=\"image\" href=\"/wiki/%D0%A4%D0%B0%D0%B9%D0%BB:%D0%A8%D0%B8%D1%82%D0%BE%D0%B2_%D0%AF%D1%80%D0%BE%D1%81%D0%BB%D0%B0%D0%B2_%D0%9D%D0%B8%D0%BA%D0%BE%D0%BB%D0%B0%D0%B5%D0%B2%D0%B8%D1%87.jpg\"><img alt=\"\" height=\"120\" src=\"/images/thumb/7/72/%D0%A8%D0%B8%D1%82%D0%BE%D0%B2_%D0%AF%D1%80%D0%BE%D1%81%D0%BB%D0%B0%D0%B2_%D0%9D%D0%B8%D0%BA%D0%BE%D0%BB%D0%B0%D0%B5%D0%B2%D0%B8%D1%87.jpg/79px-%D0%A8%D0%B8%D1%82%D0%BE%D0%B2_%D0%AF%D1%80%D0%BE%D1%81%D0%BB%D0%B0%D0%B2_%D0%9D%D0%B8%D0%BA%D0%BE%D0%BB%D0%B0%D0%B5%D0%B2%D0%B8%D1%87.jpg\" srcset=\"/images/thumb/7/72/%D0%A8%D0%B8%D1%82%D0%BE%D0%B2_%D0%AF%D1%80%D0%BE%D1%81%D0%BB%D0%B0%D0%B2_%D0%9D%D0%B8%D0%BA%D0%BE%D0%BB%D0%B0%D0%B5%D0%B2%D0%B8%D1%87.jpg/119px-%D0%A8%D0%B8%D1%82%D0%BE%D0%B2_%D0%AF%D1%80%D0%BE%D1%81%D0%BB%D0%B0%D0%B2_%D0%9D%D0%B8%D0%BA%D0%BE%D0%BB%D0%B0%D0%B5%D0%B2%D0%B8%D1%87.jpg 1.5x, /images/thumb/7/72/%D0%A8%D0%B8%D1%82%D0%BE%D0%B2_%D0%AF%D1%80%D0%BE%D1%81%D0%BB%D0%B0%D0%B2_%D0%9D%D0%B8%D0%BA%D0%BE%D0%BB%D0%B0%D0%B5%D0%B2%D0%B8%D1%87.jpg/158px-%D0%A8%D0%B8%D1%82%D0%BE%D0%B2_%D0%AF%D1%80%D0%BE%D1%81%D0%BB%D0%B0%D0%B2_%D0%9D%D0%B8%D0%BA%D0%BE%D0%BB%D0%B0%D0%B5%D0%B2%D0%B8%D1%87.jpg 2x\" width=\"79\"/></a></div></div>\n",
              "<div class=\"gallerytext\">\n",
              "<p>Шитов Ярослав Николаевич\n",
              "</p>\n",
              "</div>\n",
              "</div></li>\n",
              "<li class=\"gallerybox\" style=\"width: 155px\"><div style=\"width: 155px\">\n",
              "<div class=\"thumb\" style=\"width: 150px;\"><div style=\"margin:30px auto;\"><a class=\"image\" href=\"/wiki/%D0%A4%D0%B0%D0%B9%D0%BB:Gushchin.jpeg\"><img alt=\"\" height=\"90\" src=\"/images/thumb/f/f2/Gushchin.jpeg/120px-Gushchin.jpeg\" srcset=\"/images/thumb/f/f2/Gushchin.jpeg/180px-Gushchin.jpeg 1.5x, /images/thumb/f/f2/Gushchin.jpeg/240px-Gushchin.jpeg 2x\" width=\"120\"/></a></div></div>\n",
              "<div class=\"gallerytext\">\n",
              "<p>Gushchin\n",
              "</p>\n",
              "</div>\n",
              "</div></li>\n",
              "<li class=\"gallerybox\" style=\"width: 155px\"><div style=\"width: 155px\">\n",
              "<div class=\"thumb\" style=\"width: 150px;\"><div style=\"margin:15px auto;\"><a class=\"image\" href=\"/wiki/%D0%A4%D0%B0%D0%B9%D0%BB:%D0%9A%D0%BE%D1%81%D0%B8%D1%86%D1%8B%D0%BD_%D0%9F%D0%B0%D0%B2%D0%B5%D0%BB_%D0%90%D0%BD%D0%B4%D1%80%D0%B5%D0%B5%D0%B2%D0%B8%D1%87.jpeg\"><img alt=\"\" height=\"120\" src=\"/images/thumb/1/18/%D0%9A%D0%BE%D1%81%D0%B8%D1%86%D1%8B%D0%BD_%D0%9F%D0%B0%D0%B2%D0%B5%D0%BB_%D0%90%D0%BD%D0%B4%D1%80%D0%B5%D0%B5%D0%B2%D0%B8%D1%87.jpeg/83px-%D0%9A%D0%BE%D1%81%D0%B8%D1%86%D1%8B%D0%BD_%D0%9F%D0%B0%D0%B2%D0%B5%D0%BB_%D0%90%D0%BD%D0%B4%D1%80%D0%B5%D0%B5%D0%B2%D0%B8%D1%87.jpeg\" srcset=\"/images/thumb/1/18/%D0%9A%D0%BE%D1%81%D0%B8%D1%86%D1%8B%D0%BD_%D0%9F%D0%B0%D0%B2%D0%B5%D0%BB_%D0%90%D0%BD%D0%B4%D1%80%D0%B5%D0%B5%D0%B2%D0%B8%D1%87.jpeg/125px-%D0%9A%D0%BE%D1%81%D0%B8%D1%86%D1%8B%D0%BD_%D0%9F%D0%B0%D0%B2%D0%B5%D0%BB_%D0%90%D0%BD%D0%B4%D1%80%D0%B5%D0%B5%D0%B2%D0%B8%D1%87.jpeg 1.5x, /images/thumb/1/18/%D0%9A%D0%BE%D1%81%D0%B8%D1%86%D1%8B%D0%BD_%D0%9F%D0%B0%D0%B2%D0%B5%D0%BB_%D0%90%D0%BD%D0%B4%D1%80%D0%B5%D0%B5%D0%B2%D0%B8%D1%87.jpeg/167px-%D0%9A%D0%BE%D1%81%D0%B8%D1%86%D1%8B%D0%BD_%D0%9F%D0%B0%D0%B2%D0%B5%D0%BB_%D0%90%D0%BD%D0%B4%D1%80%D0%B5%D0%B5%D0%B2%D0%B8%D1%87.jpeg 2x\" width=\"83\"/></a></div></div>\n",
              "<div class=\"gallerytext\">\n",
              "<p>Косицын Павел Андреевич\n",
              "</p>\n",
              "</div>\n",
              "</div></li>\n",
              "<li class=\"gallerybox\" style=\"width: 155px\"><div style=\"width: 155px\">\n",
              "<div class=\"thumb\" style=\"width: 150px;\"><div style=\"margin:15px auto;\"><a class=\"image\" href=\"/wiki/%D0%A4%D0%B0%D0%B9%D0%BB:%D0%A4%D0%B5%D0%B4%D0%B8%D1%87%D0%BA%D0%B8%D0%BD_%D0%9B%D0%B5%D0%BE%D0%BD%D0%B8%D0%B4_%D0%95%D0%B2%D0%B3%D0%B5%D0%BD%D1%8C%D0%B5%D0%B2%D0%B8%D1%87.jpeg\"><img alt=\"\" height=\"120\" src=\"/images/thumb/2/2a/%D0%A4%D0%B5%D0%B4%D0%B8%D1%87%D0%BA%D0%B8%D0%BD_%D0%9B%D0%B5%D0%BE%D0%BD%D0%B8%D0%B4_%D0%95%D0%B2%D0%B3%D0%B5%D0%BD%D1%8C%D0%B5%D0%B2%D0%B8%D1%87.jpeg/67px-%D0%A4%D0%B5%D0%B4%D0%B8%D1%87%D0%BA%D0%B8%D0%BD_%D0%9B%D0%B5%D0%BE%D0%BD%D0%B8%D0%B4_%D0%95%D0%B2%D0%B3%D0%B5%D0%BD%D1%8C%D0%B5%D0%B2%D0%B8%D1%87.jpeg\" srcset=\"/images/thumb/2/2a/%D0%A4%D0%B5%D0%B4%D0%B8%D1%87%D0%BA%D0%B8%D0%BD_%D0%9B%D0%B5%D0%BE%D0%BD%D0%B8%D0%B4_%D0%95%D0%B2%D0%B3%D0%B5%D0%BD%D1%8C%D0%B5%D0%B2%D0%B8%D1%87.jpeg/101px-%D0%A4%D0%B5%D0%B4%D0%B8%D1%87%D0%BA%D0%B8%D0%BD_%D0%9B%D0%B5%D0%BE%D0%BD%D0%B8%D0%B4_%D0%95%D0%B2%D0%B3%D0%B5%D0%BD%D1%8C%D0%B5%D0%B2%D0%B8%D1%87.jpeg 1.5x, /images/thumb/2/2a/%D0%A4%D0%B5%D0%B4%D0%B8%D1%87%D0%BA%D0%B8%D0%BD_%D0%9B%D0%B5%D0%BE%D0%BD%D0%B8%D0%B4_%D0%95%D0%B2%D0%B3%D0%B5%D0%BD%D1%8C%D0%B5%D0%B2%D0%B8%D1%87.jpeg/135px-%D0%A4%D0%B5%D0%B4%D0%B8%D1%87%D0%BA%D0%B8%D0%BD_%D0%9B%D0%B5%D0%BE%D0%BD%D0%B8%D0%B4_%D0%95%D0%B2%D0%B3%D0%B5%D0%BD%D1%8C%D0%B5%D0%B2%D0%B8%D1%87.jpeg 2x\" width=\"67\"/></a></div></div>\n",
              "<div class=\"gallerytext\">\n",
              "<p>Федичкин Леонид Евгеньевич\n",
              "</p>\n",
              "</div>\n",
              "</div></li>\n",
              "<li class=\"gallerybox\" style=\"width: 155px\"><div style=\"width: 155px\">\n",
              "<div class=\"thumb\" style=\"width: 150px;\"><div style=\"margin:15px auto;\"><a class=\"image\" href=\"/wiki/%D0%A4%D0%B0%D0%B9%D0%BB:%D0%9F%D1%80%D1%83%D1%82_%D0%AD%D0%B4%D1%83%D0%B0%D1%80%D0%B4_%D0%92%D0%B5%D0%BD%D0%B8%D0%B0%D0%BC%D0%B8%D0%BD%D0%BE%D0%B2%D0%B8%D1%87.jpg\"><img alt=\"\" height=\"120\" src=\"/images/thumb/4/4c/%D0%9F%D1%80%D1%83%D1%82_%D0%AD%D0%B4%D1%83%D0%B0%D1%80%D0%B4_%D0%92%D0%B5%D0%BD%D0%B8%D0%B0%D0%BC%D0%B8%D0%BD%D0%BE%D0%B2%D0%B8%D1%87.jpg/120px-%D0%9F%D1%80%D1%83%D1%82_%D0%AD%D0%B4%D1%83%D0%B0%D1%80%D0%B4_%D0%92%D0%B5%D0%BD%D0%B8%D0%B0%D0%BC%D0%B8%D0%BD%D0%BE%D0%B2%D0%B8%D1%87.jpg\" srcset=\"/images/thumb/4/4c/%D0%9F%D1%80%D1%83%D1%82_%D0%AD%D0%B4%D1%83%D0%B0%D1%80%D0%B4_%D0%92%D0%B5%D0%BD%D0%B8%D0%B0%D0%BC%D0%B8%D0%BD%D0%BE%D0%B2%D0%B8%D1%87.jpg/180px-%D0%9F%D1%80%D1%83%D1%82_%D0%AD%D0%B4%D1%83%D0%B0%D1%80%D0%B4_%D0%92%D0%B5%D0%BD%D0%B8%D0%B0%D0%BC%D0%B8%D0%BD%D0%BE%D0%B2%D0%B8%D1%87.jpg 1.5x, /images/thumb/4/4c/%D0%9F%D1%80%D1%83%D1%82_%D0%AD%D0%B4%D1%83%D0%B0%D1%80%D0%B4_%D0%92%D0%B5%D0%BD%D0%B8%D0%B0%D0%BC%D0%B8%D0%BD%D0%BE%D0%B2%D0%B8%D1%87.jpg/240px-%D0%9F%D1%80%D1%83%D1%82_%D0%AD%D0%B4%D1%83%D0%B0%D1%80%D0%B4_%D0%92%D0%B5%D0%BD%D0%B8%D0%B0%D0%BC%D0%B8%D0%BD%D0%BE%D0%B2%D0%B8%D1%87.jpg 2x\" width=\"120\"/></a></div></div>\n",
              "<div class=\"gallerytext\">\n",
              "<p>Прут Эдуард Вениаминович\n",
              "</p>\n",
              "</div>\n",
              "</div></li>\n",
              "<li class=\"gallerybox\" style=\"width: 155px\"><div style=\"width: 155px\">\n",
              "<div class=\"thumb\" style=\"width: 150px;\"><div style=\"margin:15px auto;\"><a class=\"image\" href=\"/wiki/%D0%A4%D0%B0%D0%B9%D0%BB:%D0%A6%D0%B8%D0%B1%D1%83%D0%BB%D0%B8%D0%BD_%D0%98%D0%B2%D0%B0%D0%BD_%D0%92%D0%BB%D0%B0%D0%B4%D0%B8%D0%BC%D0%B8%D1%80%D0%BE%D0%B2%D0%B8%D1%87.jpg\"><img alt=\"\" height=\"120\" src=\"/images/thumb/0/01/%D0%A6%D0%B8%D0%B1%D1%83%D0%BB%D0%B8%D0%BD_%D0%98%D0%B2%D0%B0%D0%BD_%D0%92%D0%BB%D0%B0%D0%B4%D0%B8%D0%BC%D0%B8%D1%80%D0%BE%D0%B2%D0%B8%D1%87.jpg/115px-%D0%A6%D0%B8%D0%B1%D1%83%D0%BB%D0%B8%D0%BD_%D0%98%D0%B2%D0%B0%D0%BD_%D0%92%D0%BB%D0%B0%D0%B4%D0%B8%D0%BC%D0%B8%D1%80%D0%BE%D0%B2%D0%B8%D1%87.jpg\" srcset=\"/images/thumb/0/01/%D0%A6%D0%B8%D0%B1%D1%83%D0%BB%D0%B8%D0%BD_%D0%98%D0%B2%D0%B0%D0%BD_%D0%92%D0%BB%D0%B0%D0%B4%D0%B8%D0%BC%D0%B8%D1%80%D0%BE%D0%B2%D0%B8%D1%87.jpg/172px-%D0%A6%D0%B8%D0%B1%D1%83%D0%BB%D0%B8%D0%BD_%D0%98%D0%B2%D0%B0%D0%BD_%D0%92%D0%BB%D0%B0%D0%B4%D0%B8%D0%BC%D0%B8%D1%80%D0%BE%D0%B2%D0%B8%D1%87.jpg 1.5x, /images/0/01/%D0%A6%D0%B8%D0%B1%D1%83%D0%BB%D0%B8%D0%BD_%D0%98%D0%B2%D0%B0%D0%BD_%D0%92%D0%BB%D0%B0%D0%B4%D0%B8%D0%BC%D0%B8%D1%80%D0%BE%D0%B2%D0%B8%D1%87.jpg 2x\" width=\"115\"/></a></div></div>\n",
              "<div class=\"gallerytext\">\n",
              "<p>Цибулин Иван Владимирович\n",
              "</p>\n",
              "</div>\n",
              "</div></li>\n",
              "<li class=\"gallerybox\" style=\"width: 155px\"><div style=\"width: 155px\">\n",
              "<div class=\"thumb\" style=\"width: 150px;\"><div style=\"margin:15px auto;\"><a class=\"image\" href=\"/wiki/%D0%A4%D0%B0%D0%B9%D0%BB:%D0%9B%D0%BE%D1%85%D0%BE%D0%B2_%D0%93%D0%B5%D0%BE%D1%80%D0%B3%D0%B8%D0%B9_%D0%9C%D0%B8%D1%85%D0%B0%D0%B9%D0%BB%D0%BE%D0%B2%D0%B8%D1%87.jpg\"><img alt=\"\" height=\"120\" src=\"/images/thumb/a/a3/%D0%9B%D0%BE%D1%85%D0%BE%D0%B2_%D0%93%D0%B5%D0%BE%D1%80%D0%B3%D0%B8%D0%B9_%D0%9C%D0%B8%D1%85%D0%B0%D0%B9%D0%BB%D0%BE%D0%B2%D0%B8%D1%87.jpg/82px-%D0%9B%D0%BE%D1%85%D0%BE%D0%B2_%D0%93%D0%B5%D0%BE%D1%80%D0%B3%D0%B8%D0%B9_%D0%9C%D0%B8%D1%85%D0%B0%D0%B9%D0%BB%D0%BE%D0%B2%D0%B8%D1%87.jpg\" srcset=\"/images/thumb/a/a3/%D0%9B%D0%BE%D1%85%D0%BE%D0%B2_%D0%93%D0%B5%D0%BE%D1%80%D0%B3%D0%B8%D0%B9_%D0%9C%D0%B8%D1%85%D0%B0%D0%B9%D0%BB%D0%BE%D0%B2%D0%B8%D1%87.jpg/122px-%D0%9B%D0%BE%D1%85%D0%BE%D0%B2_%D0%93%D0%B5%D0%BE%D1%80%D0%B3%D0%B8%D0%B9_%D0%9C%D0%B8%D1%85%D0%B0%D0%B9%D0%BB%D0%BE%D0%B2%D0%B8%D1%87.jpg 1.5x, /images/thumb/a/a3/%D0%9B%D0%BE%D1%85%D0%BE%D0%B2_%D0%93%D0%B5%D0%BE%D1%80%D0%B3%D0%B8%D0%B9_%D0%9C%D0%B8%D1%85%D0%B0%D0%B9%D0%BB%D0%BE%D0%B2%D0%B8%D1%87.jpg/163px-%D0%9B%D0%BE%D1%85%D0%BE%D0%B2_%D0%93%D0%B5%D0%BE%D1%80%D0%B3%D0%B8%D0%B9_%D0%9C%D0%B8%D1%85%D0%B0%D0%B9%D0%BB%D0%BE%D0%B2%D0%B8%D1%87.jpg 2x\" width=\"82\"/></a></div></div>\n",
              "<div class=\"gallerytext\">\n",
              "<p>Лохов Георгий Михайлович\n",
              "</p>\n",
              "</div>\n",
              "</div></li>\n",
              "<li class=\"gallerybox\" style=\"width: 155px\"><div style=\"width: 155px\">\n",
              "<div class=\"thumb\" style=\"width: 150px;\"><div style=\"margin:15px auto;\"><a class=\"image\" href=\"/wiki/%D0%A4%D0%B0%D0%B9%D0%BB:%D0%9B%D0%BE%D0%B1%D0%B0%D0%BD%D0%BE%D0%B2_%D0%90%D0%BB%D0%B5%D0%BA%D1%81%D0%B5%D0%B9_%D0%98%D0%B2%D0%B0%D0%BD%D0%BE%D0%B2%D0%B8%D1%87-2021.jpg\"><img alt=\"\" height=\"120\" src=\"/images/thumb/1/10/%D0%9B%D0%BE%D0%B1%D0%B0%D0%BD%D0%BE%D0%B2_%D0%90%D0%BB%D0%B5%D0%BA%D1%81%D0%B5%D0%B9_%D0%98%D0%B2%D0%B0%D0%BD%D0%BE%D0%B2%D0%B8%D1%87-2021.jpg/120px-%D0%9B%D0%BE%D0%B1%D0%B0%D0%BD%D0%BE%D0%B2_%D0%90%D0%BB%D0%B5%D0%BA%D1%81%D0%B5%D0%B9_%D0%98%D0%B2%D0%B0%D0%BD%D0%BE%D0%B2%D0%B8%D1%87-2021.jpg\" srcset=\"/images/1/10/%D0%9B%D0%BE%D0%B1%D0%B0%D0%BD%D0%BE%D0%B2_%D0%90%D0%BB%D0%B5%D0%BA%D1%81%D0%B5%D0%B9_%D0%98%D0%B2%D0%B0%D0%BD%D0%BE%D0%B2%D0%B8%D1%87-2021.jpg 1.5x, /images/1/10/%D0%9B%D0%BE%D0%B1%D0%B0%D0%BD%D0%BE%D0%B2_%D0%90%D0%BB%D0%B5%D0%BA%D1%81%D0%B5%D0%B9_%D0%98%D0%B2%D0%B0%D0%BD%D0%BE%D0%B2%D0%B8%D1%87-2021.jpg 2x\" width=\"120\"/></a></div></div>\n",
              "<div class=\"gallerytext\">\n",
              "<p>Лобанов Алексей Иванович-2021\n",
              "</p>\n",
              "</div>\n",
              "</div></li>\n",
              "<li class=\"gallerybox\" style=\"width: 155px\"><div style=\"width: 155px\">\n",
              "<div class=\"thumb\" style=\"width: 150px;\"><div style=\"margin:15px auto;\"><a class=\"image\" href=\"/wiki/%D0%A4%D0%B0%D0%B9%D0%BB:%D0%92%D1%8F%D0%B7%D0%BE%D0%B2%D0%B8%D0%BA_%D0%9D%D0%B8%D0%BA%D0%BE%D0%BB%D0%B0%D0%B9.jpg\"><img alt=\"\" height=\"120\" src=\"/images/thumb/0/0a/%D0%92%D1%8F%D0%B7%D0%BE%D0%B2%D0%B8%D0%BA_%D0%9D%D0%B8%D0%BA%D0%BE%D0%BB%D0%B0%D0%B9.jpg/120px-%D0%92%D1%8F%D0%B7%D0%BE%D0%B2%D0%B8%D0%BA_%D0%9D%D0%B8%D0%BA%D0%BE%D0%BB%D0%B0%D0%B9.jpg\" srcset=\"/images/thumb/0/0a/%D0%92%D1%8F%D0%B7%D0%BE%D0%B2%D0%B8%D0%BA_%D0%9D%D0%B8%D0%BA%D0%BE%D0%BB%D0%B0%D0%B9.jpg/180px-%D0%92%D1%8F%D0%B7%D0%BE%D0%B2%D0%B8%D0%BA_%D0%9D%D0%B8%D0%BA%D0%BE%D0%BB%D0%B0%D0%B9.jpg 1.5x, /images/0/0a/%D0%92%D1%8F%D0%B7%D0%BE%D0%B2%D0%B8%D0%BA_%D0%9D%D0%B8%D0%BA%D0%BE%D0%BB%D0%B0%D0%B9.jpg 2x\" width=\"120\"/></a></div></div>\n",
              "<div class=\"gallerytext\">\n",
              "<p>Вязовик Николай\n",
              "</p>\n",
              "</div>\n",
              "</div></li>\n",
              "<li class=\"gallerybox\" style=\"width: 155px\"><div style=\"width: 155px\">\n",
              "<div class=\"thumb\" style=\"width: 150px;\"><div style=\"margin:15px auto;\"><a class=\"image\" href=\"/wiki/%D0%A4%D0%B0%D0%B9%D0%BB:%D0%A4%D0%B0%D0%B4%D0%B5%D0%B5%D0%B2_%D0%90%D0%BB%D0%B5%D0%BA%D1%81%D0%B5%D0%B9_%D0%AE%D1%80%D1%8C%D0%B5%D0%B2%D0%B8%D1%87-2015.jpg\"><img alt=\"\" height=\"120\" src=\"/images/thumb/8/81/%D0%A4%D0%B0%D0%B4%D0%B5%D0%B5%D0%B2_%D0%90%D0%BB%D0%B5%D0%BA%D1%81%D0%B5%D0%B9_%D0%AE%D1%80%D1%8C%D0%B5%D0%B2%D0%B8%D1%87-2015.jpg/120px-%D0%A4%D0%B0%D0%B4%D0%B5%D0%B5%D0%B2_%D0%90%D0%BB%D0%B5%D0%BA%D1%81%D0%B5%D0%B9_%D0%AE%D1%80%D1%8C%D0%B5%D0%B2%D0%B8%D1%87-2015.jpg\" srcset=\"/images/thumb/8/81/%D0%A4%D0%B0%D0%B4%D0%B5%D0%B5%D0%B2_%D0%90%D0%BB%D0%B5%D0%BA%D1%81%D0%B5%D0%B9_%D0%AE%D1%80%D1%8C%D0%B5%D0%B2%D0%B8%D1%87-2015.jpg/180px-%D0%A4%D0%B0%D0%B4%D0%B5%D0%B5%D0%B2_%D0%90%D0%BB%D0%B5%D0%BA%D1%81%D0%B5%D0%B9_%D0%AE%D1%80%D1%8C%D0%B5%D0%B2%D0%B8%D1%87-2015.jpg 1.5x, /images/thumb/8/81/%D0%A4%D0%B0%D0%B4%D0%B5%D0%B5%D0%B2_%D0%90%D0%BB%D0%B5%D0%BA%D1%81%D0%B5%D0%B9_%D0%AE%D1%80%D1%8C%D0%B5%D0%B2%D0%B8%D1%87-2015.jpg/240px-%D0%A4%D0%B0%D0%B4%D0%B5%D0%B5%D0%B2_%D0%90%D0%BB%D0%B5%D0%BA%D1%81%D0%B5%D0%B9_%D0%AE%D1%80%D1%8C%D0%B5%D0%B2%D0%B8%D1%87-2015.jpg 2x\" width=\"120\"/></a></div></div>\n",
              "<div class=\"gallerytext\">\n",
              "<p>Фадеев Алексей Юрьевич-2015\n",
              "</p>\n",
              "</div>\n",
              "</div></li>\n",
              "<li class=\"gallerybox\" style=\"width: 155px\"><div style=\"width: 155px\">\n",
              "<div class=\"thumb\" style=\"width: 150px;\"><div style=\"margin:15px auto;\"><a class=\"image\" href=\"/wiki/%D0%A4%D0%B0%D0%B9%D0%BB:%D0%91%D0%B0%D0%B1%D0%B8%D0%BD%D1%86%D0%B5%D0%B2_%D0%92%D0%BB%D0%B0%D0%B4_%D0%90%D0%BB%D1%80_%D0%B2_%D0%A1%D0%BE%D1%87%D0%B8.jpg\"><img alt=\"\" height=\"120\" src=\"/images/thumb/d/df/%D0%91%D0%B0%D0%B1%D0%B8%D0%BD%D1%86%D0%B5%D0%B2_%D0%92%D0%BB%D0%B0%D0%B4_%D0%90%D0%BB%D1%80_%D0%B2_%D0%A1%D0%BE%D1%87%D0%B8.jpg/101px-%D0%91%D0%B0%D0%B1%D0%B8%D0%BD%D1%86%D0%B5%D0%B2_%D0%92%D0%BB%D0%B0%D0%B4_%D0%90%D0%BB%D1%80_%D0%B2_%D0%A1%D0%BE%D1%87%D0%B8.jpg\" srcset=\"/images/thumb/d/df/%D0%91%D0%B0%D0%B1%D0%B8%D0%BD%D1%86%D0%B5%D0%B2_%D0%92%D0%BB%D0%B0%D0%B4_%D0%90%D0%BB%D1%80_%D0%B2_%D0%A1%D0%BE%D1%87%D0%B8.jpg/151px-%D0%91%D0%B0%D0%B1%D0%B8%D0%BD%D1%86%D0%B5%D0%B2_%D0%92%D0%BB%D0%B0%D0%B4_%D0%90%D0%BB%D1%80_%D0%B2_%D0%A1%D0%BE%D1%87%D0%B8.jpg 1.5x, /images/thumb/d/df/%D0%91%D0%B0%D0%B1%D0%B8%D0%BD%D1%86%D0%B5%D0%B2_%D0%92%D0%BB%D0%B0%D0%B4_%D0%90%D0%BB%D1%80_%D0%B2_%D0%A1%D0%BE%D1%87%D0%B8.jpg/202px-%D0%91%D0%B0%D0%B1%D0%B8%D0%BD%D1%86%D0%B5%D0%B2_%D0%92%D0%BB%D0%B0%D0%B4_%D0%90%D0%BB%D1%80_%D0%B2_%D0%A1%D0%BE%D1%87%D0%B8.jpg 2x\" width=\"101\"/></a></div></div>\n",
              "<div class=\"gallerytext\">\n",
              "<p>Бабинцев Влад Алр в Сочи\n",
              "</p>\n",
              "</div>\n",
              "</div></li>\n",
              "<li class=\"gallerybox\" style=\"width: 155px\"><div style=\"width: 155px\">\n",
              "<div class=\"thumb\" style=\"width: 150px;\"><div style=\"margin:31px auto;\"><a class=\"image\" href=\"/wiki/%D0%A4%D0%B0%D0%B9%D0%BB:%D0%9F%D1%83%D0%B4%D0%B3%D0%BE%D1%80%D0%BE%D0%B4%D1%81%D0%BA%D0%B8%D0%B9_%D0%AE%D1%80%D0%B8%D0%B9_%D0%90%D0%BD%D0%B4%D1%80%D0%B5%D0%B5%D0%B2%D0%B8%D1%87.jpg\"><img alt=\"\" height=\"88\" src=\"/images/thumb/e/ea/%D0%9F%D1%83%D0%B4%D0%B3%D0%BE%D1%80%D0%BE%D0%B4%D1%81%D0%BA%D0%B8%D0%B9_%D0%AE%D1%80%D0%B8%D0%B9_%D0%90%D0%BD%D0%B4%D1%80%D0%B5%D0%B5%D0%B2%D0%B8%D1%87.jpg/120px-%D0%9F%D1%83%D0%B4%D0%B3%D0%BE%D1%80%D0%BE%D0%B4%D1%81%D0%BA%D0%B8%D0%B9_%D0%AE%D1%80%D0%B8%D0%B9_%D0%90%D0%BD%D0%B4%D1%80%D0%B5%D0%B5%D0%B2%D0%B8%D1%87.jpg\" srcset=\"/images/thumb/e/ea/%D0%9F%D1%83%D0%B4%D0%B3%D0%BE%D1%80%D0%BE%D0%B4%D1%81%D0%BA%D0%B8%D0%B9_%D0%AE%D1%80%D0%B8%D0%B9_%D0%90%D0%BD%D0%B4%D1%80%D0%B5%D0%B5%D0%B2%D0%B8%D1%87.jpg/180px-%D0%9F%D1%83%D0%B4%D0%B3%D0%BE%D1%80%D0%BE%D0%B4%D1%81%D0%BA%D0%B8%D0%B9_%D0%AE%D1%80%D0%B8%D0%B9_%D0%90%D0%BD%D0%B4%D1%80%D0%B5%D0%B5%D0%B2%D0%B8%D1%87.jpg 1.5x, /images/thumb/e/ea/%D0%9F%D1%83%D0%B4%D0%B3%D0%BE%D1%80%D0%BE%D0%B4%D1%81%D0%BA%D0%B8%D0%B9_%D0%AE%D1%80%D0%B8%D0%B9_%D0%90%D0%BD%D0%B4%D1%80%D0%B5%D0%B5%D0%B2%D0%B8%D1%87.jpg/240px-%D0%9F%D1%83%D0%B4%D0%B3%D0%BE%D1%80%D0%BE%D0%B4%D1%81%D0%BA%D0%B8%D0%B9_%D0%AE%D1%80%D0%B8%D0%B9_%D0%90%D0%BD%D0%B4%D1%80%D0%B5%D0%B5%D0%B2%D0%B8%D1%87.jpg 2x\" width=\"120\"/></a></div></div>\n",
              "<div class=\"gallerytext\">\n",
              "<p>Пудгородский Юрий Андреевич\n",
              "</p>\n",
              "</div>\n",
              "</div></li>\n",
              "<li class=\"gallerybox\" style=\"width: 155px\"><div style=\"width: 155px\">\n",
              "<div class=\"thumb\" style=\"width: 150px;\"><div style=\"margin:15px auto;\"><a class=\"image\" href=\"/wiki/%D0%A4%D0%B0%D0%B9%D0%BB:%D0%A1%D1%83%D1%85%D0%B0%D0%BD.jpg\"><img alt=\"\" height=\"120\" src=\"/images/thumb/2/20/%D0%A1%D1%83%D1%85%D0%B0%D0%BD.jpg/90px-%D0%A1%D1%83%D1%85%D0%B0%D0%BD.jpg\" srcset=\"/images/thumb/2/20/%D0%A1%D1%83%D1%85%D0%B0%D0%BD.jpg/134px-%D0%A1%D1%83%D1%85%D0%B0%D0%BD.jpg 1.5x, /images/thumb/2/20/%D0%A1%D1%83%D1%85%D0%B0%D0%BD.jpg/179px-%D0%A1%D1%83%D1%85%D0%B0%D0%BD.jpg 2x\" width=\"90\"/></a></div></div>\n",
              "<div class=\"gallerytext\">\n",
              "<p>Сухан\n",
              "</p>\n",
              "</div>\n",
              "</div></li>\n",
              "<li class=\"gallerybox\" style=\"width: 155px\"><div style=\"width: 155px\">\n",
              "<div class=\"thumb\" style=\"width: 150px;\"><div style=\"margin:15px auto;\"><a class=\"image\" href=\"/wiki/%D0%A4%D0%B0%D0%B9%D0%BB:%D0%A8%D0%B5%D1%81%D1%82%D0%B0%D0%BA%D0%BE%D0%B2_%D0%A1%D0%B5%D1%80%D0%B3%D0%B5%D0%B9_%D0%90%D0%BB%D0%B5%D0%BA%D1%81%D0%B5%D0%B5%D0%B2%D0%B8%D1%87.jpg\"><img alt=\"\" height=\"120\" src=\"/images/thumb/e/eb/%D0%A8%D0%B5%D1%81%D1%82%D0%B0%D0%BA%D0%BE%D0%B2_%D0%A1%D0%B5%D1%80%D0%B3%D0%B5%D0%B9_%D0%90%D0%BB%D0%B5%D0%BA%D1%81%D0%B5%D0%B5%D0%B2%D0%B8%D1%87.jpg/87px-%D0%A8%D0%B5%D1%81%D1%82%D0%B0%D0%BA%D0%BE%D0%B2_%D0%A1%D0%B5%D1%80%D0%B3%D0%B5%D0%B9_%D0%90%D0%BB%D0%B5%D0%BA%D1%81%D0%B5%D0%B5%D0%B2%D0%B8%D1%87.jpg\" srcset=\"/images/thumb/e/eb/%D0%A8%D0%B5%D1%81%D1%82%D0%B0%D0%BA%D0%BE%D0%B2_%D0%A1%D0%B5%D1%80%D0%B3%D0%B5%D0%B9_%D0%90%D0%BB%D0%B5%D0%BA%D1%81%D0%B5%D0%B5%D0%B2%D0%B8%D1%87.jpg/130px-%D0%A8%D0%B5%D1%81%D1%82%D0%B0%D0%BA%D0%BE%D0%B2_%D0%A1%D0%B5%D1%80%D0%B3%D0%B5%D0%B9_%D0%90%D0%BB%D0%B5%D0%BA%D1%81%D0%B5%D0%B5%D0%B2%D0%B8%D1%87.jpg 1.5x, /images/thumb/e/eb/%D0%A8%D0%B5%D1%81%D1%82%D0%B0%D0%BA%D0%BE%D0%B2_%D0%A1%D0%B5%D1%80%D0%B3%D0%B5%D0%B9_%D0%90%D0%BB%D0%B5%D0%BA%D1%81%D0%B5%D0%B5%D0%B2%D0%B8%D1%87.jpg/174px-%D0%A8%D0%B5%D1%81%D1%82%D0%B0%D0%BA%D0%BE%D0%B2_%D0%A1%D0%B5%D1%80%D0%B3%D0%B5%D0%B9_%D0%90%D0%BB%D0%B5%D0%BA%D1%81%D0%B5%D0%B5%D0%B2%D0%B8%D1%87.jpg 2x\" width=\"87\"/></a></div></div>\n",
              "<div class=\"gallerytext\">\n",
              "<p>Шестаков Сергей Алексеевич\n",
              "</p>\n",
              "</div>\n",
              "</div></li>\n",
              "<li class=\"gallerybox\" style=\"width: 155px\"><div style=\"width: 155px\">\n",
              "<div class=\"thumb\" style=\"width: 150px;\"><div style=\"margin:15px auto;\"><a class=\"image\" href=\"/wiki/%D0%A4%D0%B0%D0%B9%D0%BB:%D0%A1%D0%BA%D0%BE%D1%80%D0%BE%D1%85%D0%BE%D0%B4_%D0%A1%D0%B5%D1%80%D0%B3%D0%B5%D0%B9_%D0%90%D0%BD%D0%B0%D1%82%D0%BE%D0%BB%D1%8C%D0%B5%D0%B2%D0%B8%D1%87.png\"><img alt=\"\" height=\"120\" src=\"/images/thumb/b/bc/%D0%A1%D0%BA%D0%BE%D1%80%D0%BE%D1%85%D0%BE%D0%B4_%D0%A1%D0%B5%D1%80%D0%B3%D0%B5%D0%B9_%D0%90%D0%BD%D0%B0%D1%82%D0%BE%D0%BB%D1%8C%D0%B5%D0%B2%D0%B8%D1%87.png/86px-%D0%A1%D0%BA%D0%BE%D1%80%D0%BE%D1%85%D0%BE%D0%B4_%D0%A1%D0%B5%D1%80%D0%B3%D0%B5%D0%B9_%D0%90%D0%BD%D0%B0%D1%82%D0%BE%D0%BB%D1%8C%D0%B5%D0%B2%D0%B8%D1%87.png\" srcset=\"/images/thumb/b/bc/%D0%A1%D0%BA%D0%BE%D1%80%D0%BE%D1%85%D0%BE%D0%B4_%D0%A1%D0%B5%D1%80%D0%B3%D0%B5%D0%B9_%D0%90%D0%BD%D0%B0%D1%82%D0%BE%D0%BB%D1%8C%D0%B5%D0%B2%D0%B8%D1%87.png/129px-%D0%A1%D0%BA%D0%BE%D1%80%D0%BE%D1%85%D0%BE%D0%B4_%D0%A1%D0%B5%D1%80%D0%B3%D0%B5%D0%B9_%D0%90%D0%BD%D0%B0%D1%82%D0%BE%D0%BB%D1%8C%D0%B5%D0%B2%D0%B8%D1%87.png 1.5x, /images/thumb/b/bc/%D0%A1%D0%BA%D0%BE%D1%80%D0%BE%D1%85%D0%BE%D0%B4_%D0%A1%D0%B5%D1%80%D0%B3%D0%B5%D0%B9_%D0%90%D0%BD%D0%B0%D1%82%D0%BE%D0%BB%D1%8C%D0%B5%D0%B2%D0%B8%D1%87.png/173px-%D0%A1%D0%BA%D0%BE%D1%80%D0%BE%D1%85%D0%BE%D0%B4_%D0%A1%D0%B5%D1%80%D0%B3%D0%B5%D0%B9_%D0%90%D0%BD%D0%B0%D1%82%D0%BE%D0%BB%D1%8C%D0%B5%D0%B2%D0%B8%D1%87.png 2x\" width=\"86\"/></a></div></div>\n",
              "<div class=\"gallerytext\">\n",
              "<p>Скороход Сергей Анатольевич\n",
              "</p>\n",
              "</div>\n",
              "</div></li>\n",
              "<li class=\"gallerybox\" style=\"width: 155px\"><div style=\"width: 155px\">\n",
              "<div class=\"thumb\" style=\"width: 150px;\"><div style=\"margin:15px auto;\"><a class=\"image\" href=\"/wiki/%D0%A4%D0%B0%D0%B9%D0%BB:%D0%97%D0%B0%D0%B2%D1%8C%D1%8F%D0%BB%D0%BE%D0%B2%D0%B0_%D0%9D%D0%B0%D1%82%D0%B0%D0%BB%D1%8C%D1%8F_%D0%90%D0%BB%D0%B5%D0%BA%D1%81%D0%B0%D0%BD%D0%B4%D1%80%D0%BE%D0%B2%D0%BD%D0%B0-2021.jpg\"><img alt=\"\" height=\"120\" src=\"/images/thumb/a/a5/%D0%97%D0%B0%D0%B2%D1%8C%D1%8F%D0%BB%D0%BE%D0%B2%D0%B0_%D0%9D%D0%B0%D1%82%D0%B0%D0%BB%D1%8C%D1%8F_%D0%90%D0%BB%D0%B5%D0%BA%D1%81%D0%B0%D0%BD%D0%B4%D1%80%D0%BE%D0%B2%D0%BD%D0%B0-2021.jpg/107px-%D0%97%D0%B0%D0%B2%D1%8C%D1%8F%D0%BB%D0%BE%D0%B2%D0%B0_%D0%9D%D0%B0%D1%82%D0%B0%D0%BB%D1%8C%D1%8F_%D0%90%D0%BB%D0%B5%D0%BA%D1%81%D0%B0%D0%BD%D0%B4%D1%80%D0%BE%D0%B2%D0%BD%D0%B0-2021.jpg\" srcset=\"/images/thumb/a/a5/%D0%97%D0%B0%D0%B2%D1%8C%D1%8F%D0%BB%D0%BE%D0%B2%D0%B0_%D0%9D%D0%B0%D1%82%D0%B0%D0%BB%D1%8C%D1%8F_%D0%90%D0%BB%D0%B5%D0%BA%D1%81%D0%B0%D0%BD%D0%B4%D1%80%D0%BE%D0%B2%D0%BD%D0%B0-2021.jpg/160px-%D0%97%D0%B0%D0%B2%D1%8C%D1%8F%D0%BB%D0%BE%D0%B2%D0%B0_%D0%9D%D0%B0%D1%82%D0%B0%D0%BB%D1%8C%D1%8F_%D0%90%D0%BB%D0%B5%D0%BA%D1%81%D0%B0%D0%BD%D0%B4%D1%80%D0%BE%D0%B2%D0%BD%D0%B0-2021.jpg 1.5x, /images/thumb/a/a5/%D0%97%D0%B0%D0%B2%D1%8C%D1%8F%D0%BB%D0%BE%D0%B2%D0%B0_%D0%9D%D0%B0%D1%82%D0%B0%D0%BB%D1%8C%D1%8F_%D0%90%D0%BB%D0%B5%D0%BA%D1%81%D0%B0%D0%BD%D0%B4%D1%80%D0%BE%D0%B2%D0%BD%D0%B0-2021.jpg/214px-%D0%97%D0%B0%D0%B2%D1%8C%D1%8F%D0%BB%D0%BE%D0%B2%D0%B0_%D0%9D%D0%B0%D1%82%D0%B0%D0%BB%D1%8C%D1%8F_%D0%90%D0%BB%D0%B5%D0%BA%D1%81%D0%B0%D0%BD%D0%B4%D1%80%D0%BE%D0%B2%D0%BD%D0%B0-2021.jpg 2x\" width=\"107\"/></a></div></div>\n",
              "<div class=\"gallerytext\">\n",
              "<p>Завьялова Наталья Александровна-2021\n",
              "</p>\n",
              "</div>\n",
              "</div></li>\n",
              "<li class=\"gallerybox\" style=\"width: 155px\"><div style=\"width: 155px\">\n",
              "<div class=\"thumb\" style=\"width: 150px;\"><div style=\"margin:15px auto;\"><a class=\"image\" href=\"/wiki/%D0%A4%D0%B0%D0%B9%D0%BB:%D0%97%D0%B0%D0%B2%D1%8C%D1%8F%D0%BB%D0%BE%D0%B2%D0%B0_%D0%9D%D0%B0%D1%82%D0%B0%D0%BB%D1%8C%D1%8F_%D0%90%D0%BB%D0%B5%D0%BA%D1%81%D0%B0%D0%BD%D0%B4%D1%80%D0%BE%D0%B2%D0%BD%D0%B0.png\"><img alt=\"\" height=\"120\" src=\"/images/thumb/1/1d/%D0%97%D0%B0%D0%B2%D1%8C%D1%8F%D0%BB%D0%BE%D0%B2%D0%B0_%D0%9D%D0%B0%D1%82%D0%B0%D0%BB%D1%8C%D1%8F_%D0%90%D0%BB%D0%B5%D0%BA%D1%81%D0%B0%D0%BD%D0%B4%D1%80%D0%BE%D0%B2%D0%BD%D0%B0.png/86px-%D0%97%D0%B0%D0%B2%D1%8C%D1%8F%D0%BB%D0%BE%D0%B2%D0%B0_%D0%9D%D0%B0%D1%82%D0%B0%D0%BB%D1%8C%D1%8F_%D0%90%D0%BB%D0%B5%D0%BA%D1%81%D0%B0%D0%BD%D0%B4%D1%80%D0%BE%D0%B2%D0%BD%D0%B0.png\" srcset=\"/images/thumb/1/1d/%D0%97%D0%B0%D0%B2%D1%8C%D1%8F%D0%BB%D0%BE%D0%B2%D0%B0_%D0%9D%D0%B0%D1%82%D0%B0%D0%BB%D1%8C%D1%8F_%D0%90%D0%BB%D0%B5%D0%BA%D1%81%D0%B0%D0%BD%D0%B4%D1%80%D0%BE%D0%B2%D0%BD%D0%B0.png/129px-%D0%97%D0%B0%D0%B2%D1%8C%D1%8F%D0%BB%D0%BE%D0%B2%D0%B0_%D0%9D%D0%B0%D1%82%D0%B0%D0%BB%D1%8C%D1%8F_%D0%90%D0%BB%D0%B5%D0%BA%D1%81%D0%B0%D0%BD%D0%B4%D1%80%D0%BE%D0%B2%D0%BD%D0%B0.png 1.5x, /images/thumb/1/1d/%D0%97%D0%B0%D0%B2%D1%8C%D1%8F%D0%BB%D0%BE%D0%B2%D0%B0_%D0%9D%D0%B0%D1%82%D0%B0%D0%BB%D1%8C%D1%8F_%D0%90%D0%BB%D0%B5%D0%BA%D1%81%D0%B0%D0%BD%D0%B4%D1%80%D0%BE%D0%B2%D0%BD%D0%B0.png/173px-%D0%97%D0%B0%D0%B2%D1%8C%D1%8F%D0%BB%D0%BE%D0%B2%D0%B0_%D0%9D%D0%B0%D1%82%D0%B0%D0%BB%D1%8C%D1%8F_%D0%90%D0%BB%D0%B5%D0%BA%D1%81%D0%B0%D0%BD%D0%B4%D1%80%D0%BE%D0%B2%D0%BD%D0%B0.png 2x\" width=\"86\"/></a></div></div>\n",
              "<div class=\"gallerytext\">\n",
              "<p>Завьялова Наталья Александровна\n",
              "</p>\n",
              "</div>\n",
              "</div></li>\n",
              "<li class=\"gallerybox\" style=\"width: 155px\"><div style=\"width: 155px\">\n",
              "<div class=\"thumb\" style=\"width: 150px;\"><div style=\"margin:15px auto;\"><a class=\"image\" href=\"/wiki/%D0%A4%D0%B0%D0%B9%D0%BB:%D0%91%D1%8B%D0%BA%D0%BE%D0%B2_%D0%90%D0%BB%D0%B5%D0%BA%D1%81%D0%B0%D0%BD%D0%B4%D1%80_%D0%90%D0%BD%D0%B4%D1%80%D0%B5%D0%B5%D0%B2%D0%B8%D1%87.png\"><img alt=\"\" height=\"120\" src=\"/images/thumb/e/e6/%D0%91%D1%8B%D0%BA%D0%BE%D0%B2_%D0%90%D0%BB%D0%B5%D0%BA%D1%81%D0%B0%D0%BD%D0%B4%D1%80_%D0%90%D0%BD%D0%B4%D1%80%D0%B5%D0%B5%D0%B2%D0%B8%D1%87.png/86px-%D0%91%D1%8B%D0%BA%D0%BE%D0%B2_%D0%90%D0%BB%D0%B5%D0%BA%D1%81%D0%B0%D0%BD%D0%B4%D1%80_%D0%90%D0%BD%D0%B4%D1%80%D0%B5%D0%B5%D0%B2%D0%B8%D1%87.png\" srcset=\"/images/thumb/e/e6/%D0%91%D1%8B%D0%BA%D0%BE%D0%B2_%D0%90%D0%BB%D0%B5%D0%BA%D1%81%D0%B0%D0%BD%D0%B4%D1%80_%D0%90%D0%BD%D0%B4%D1%80%D0%B5%D0%B5%D0%B2%D0%B8%D1%87.png/129px-%D0%91%D1%8B%D0%BA%D0%BE%D0%B2_%D0%90%D0%BB%D0%B5%D0%BA%D1%81%D0%B0%D0%BD%D0%B4%D1%80_%D0%90%D0%BD%D0%B4%D1%80%D0%B5%D0%B5%D0%B2%D0%B8%D1%87.png 1.5x, /images/thumb/e/e6/%D0%91%D1%8B%D0%BA%D0%BE%D0%B2_%D0%90%D0%BB%D0%B5%D0%BA%D1%81%D0%B0%D0%BD%D0%B4%D1%80_%D0%90%D0%BD%D0%B4%D1%80%D0%B5%D0%B5%D0%B2%D0%B8%D1%87.png/173px-%D0%91%D1%8B%D0%BA%D0%BE%D0%B2_%D0%90%D0%BB%D0%B5%D0%BA%D1%81%D0%B0%D0%BD%D0%B4%D1%80_%D0%90%D0%BD%D0%B4%D1%80%D0%B5%D0%B5%D0%B2%D0%B8%D1%87.png 2x\" width=\"86\"/></a></div></div>\n",
              "<div class=\"gallerytext\">\n",
              "<p>Быков Александр Андреевич\n",
              "</p>\n",
              "</div>\n",
              "</div></li>\n",
              "<li class=\"gallerybox\" style=\"width: 155px\"><div style=\"width: 155px\">\n",
              "<div class=\"thumb\" style=\"width: 150px;\"><div style=\"margin:16px auto;\"><a class=\"image\" href=\"/wiki/%D0%A4%D0%B0%D0%B9%D0%BB:%D0%9C%D0%B0%D1%80%D0%BA%D0%B5%D0%B5%D0%B2_%D0%90%D0%BD%D0%B0%D1%82%D0%BE%D0%BB%D0%B8%D0%B9_%D0%9F%D0%B0%D0%B2%D0%BB%D0%BE%D0%B2%D0%B8%D1%87_2019.jpg\"><img alt=\"\" height=\"118\" src=\"/images/thumb/1/12/%D0%9C%D0%B0%D1%80%D0%BA%D0%B5%D0%B5%D0%B2_%D0%90%D0%BD%D0%B0%D1%82%D0%BE%D0%BB%D0%B8%D0%B9_%D0%9F%D0%B0%D0%B2%D0%BB%D0%BE%D0%B2%D0%B8%D1%87_2019.jpg/120px-%D0%9C%D0%B0%D1%80%D0%BA%D0%B5%D0%B5%D0%B2_%D0%90%D0%BD%D0%B0%D1%82%D0%BE%D0%BB%D0%B8%D0%B9_%D0%9F%D0%B0%D0%B2%D0%BB%D0%BE%D0%B2%D0%B8%D1%87_2019.jpg\" srcset=\"/images/thumb/1/12/%D0%9C%D0%B0%D1%80%D0%BA%D0%B5%D0%B5%D0%B2_%D0%90%D0%BD%D0%B0%D1%82%D0%BE%D0%BB%D0%B8%D0%B9_%D0%9F%D0%B0%D0%B2%D0%BB%D0%BE%D0%B2%D0%B8%D1%87_2019.jpg/180px-%D0%9C%D0%B0%D1%80%D0%BA%D0%B5%D0%B5%D0%B2_%D0%90%D0%BD%D0%B0%D1%82%D0%BE%D0%BB%D0%B8%D0%B9_%D0%9F%D0%B0%D0%B2%D0%BB%D0%BE%D0%B2%D0%B8%D1%87_2019.jpg 1.5x, /images/thumb/1/12/%D0%9C%D0%B0%D1%80%D0%BA%D0%B5%D0%B5%D0%B2_%D0%90%D0%BD%D0%B0%D1%82%D0%BE%D0%BB%D0%B8%D0%B9_%D0%9F%D0%B0%D0%B2%D0%BB%D0%BE%D0%B2%D0%B8%D1%87_2019.jpg/240px-%D0%9C%D0%B0%D1%80%D0%BA%D0%B5%D0%B5%D0%B2_%D0%90%D0%BD%D0%B0%D1%82%D0%BE%D0%BB%D0%B8%D0%B9_%D0%9F%D0%B0%D0%B2%D0%BB%D0%BE%D0%B2%D0%B8%D1%87_2019.jpg 2x\" width=\"120\"/></a></div></div>\n",
              "<div class=\"gallerytext\">\n",
              "<p>Маркеев Анатолий Павлович 2019\n",
              "</p>\n",
              "</div>\n",
              "</div></li>\n",
              "<li class=\"gallerybox\" style=\"width: 155px\"><div style=\"width: 155px\">\n",
              "<div class=\"thumb\" style=\"width: 150px;\"><div style=\"margin:15px auto;\"><a class=\"image\" href=\"/wiki/%D0%A4%D0%B0%D0%B9%D0%BB:%D0%90%D0%B3%D0%B5%D0%B5%D0%B2_%D0%9D%D0%B8%D0%BA%D0%B8%D1%82%D0%B0_%D0%94%D0%BC%D0%B8%D1%82%D1%80%D0%B8%D0%B5%D0%B2%D0%B8%D1%87.jpg\"><img alt=\"\" height=\"120\" src=\"/images/thumb/5/54/%D0%90%D0%B3%D0%B5%D0%B5%D0%B2_%D0%9D%D0%B8%D0%BA%D0%B8%D1%82%D0%B0_%D0%94%D0%BC%D0%B8%D1%82%D1%80%D0%B8%D0%B5%D0%B2%D0%B8%D1%87.jpg/95px-%D0%90%D0%B3%D0%B5%D0%B5%D0%B2_%D0%9D%D0%B8%D0%BA%D0%B8%D1%82%D0%B0_%D0%94%D0%BC%D0%B8%D1%82%D1%80%D0%B8%D0%B5%D0%B2%D0%B8%D1%87.jpg\" srcset=\"/images/thumb/5/54/%D0%90%D0%B3%D0%B5%D0%B5%D0%B2_%D0%9D%D0%B8%D0%BA%D0%B8%D1%82%D0%B0_%D0%94%D0%BC%D0%B8%D1%82%D1%80%D0%B8%D0%B5%D0%B2%D0%B8%D1%87.jpg/142px-%D0%90%D0%B3%D0%B5%D0%B5%D0%B2_%D0%9D%D0%B8%D0%BA%D0%B8%D1%82%D0%B0_%D0%94%D0%BC%D0%B8%D1%82%D1%80%D0%B8%D0%B5%D0%B2%D0%B8%D1%87.jpg 1.5x, /images/thumb/5/54/%D0%90%D0%B3%D0%B5%D0%B5%D0%B2_%D0%9D%D0%B8%D0%BA%D0%B8%D1%82%D0%B0_%D0%94%D0%BC%D0%B8%D1%82%D1%80%D0%B8%D0%B5%D0%B2%D0%B8%D1%87.jpg/190px-%D0%90%D0%B3%D0%B5%D0%B5%D0%B2_%D0%9D%D0%B8%D0%BA%D0%B8%D1%82%D0%B0_%D0%94%D0%BC%D0%B8%D1%82%D1%80%D0%B8%D0%B5%D0%B2%D0%B8%D1%87.jpg 2x\" width=\"95\"/></a></div></div>\n",
              "<div class=\"gallerytext\">\n",
              "<p>Агеев Никита Дмитриевич\n",
              "</p>\n",
              "</div>\n",
              "</div></li>\n",
              "<li class=\"gallerybox\" style=\"width: 155px\"><div style=\"width: 155px\">\n",
              "<div class=\"thumb\" style=\"width: 150px;\"><div style=\"margin:15px auto;\"><a class=\"image\" href=\"/wiki/%D0%A4%D0%B0%D0%B9%D0%BB:%D0%90%D0%B3%D0%B0%D1%84%D0%BE%D0%BD%D0%BE%D0%B2_%D0%90%D1%80%D1%82%D1%91%D0%BC_%D0%94%D0%BC%D0%B8%D1%82%D1%80%D0%B8%D0%B5%D0%B2%D0%B8%D1%87.jpg\"><img alt=\"\" height=\"120\" src=\"/images/thumb/6/61/%D0%90%D0%B3%D0%B0%D1%84%D0%BE%D0%BD%D0%BE%D0%B2_%D0%90%D1%80%D1%82%D1%91%D0%BC_%D0%94%D0%BC%D0%B8%D1%82%D1%80%D0%B8%D0%B5%D0%B2%D0%B8%D1%87.jpg/95px-%D0%90%D0%B3%D0%B0%D1%84%D0%BE%D0%BD%D0%BE%D0%B2_%D0%90%D1%80%D1%82%D1%91%D0%BC_%D0%94%D0%BC%D0%B8%D1%82%D1%80%D0%B8%D0%B5%D0%B2%D0%B8%D1%87.jpg\" srcset=\"/images/thumb/6/61/%D0%90%D0%B3%D0%B0%D1%84%D0%BE%D0%BD%D0%BE%D0%B2_%D0%90%D1%80%D1%82%D1%91%D0%BC_%D0%94%D0%BC%D0%B8%D1%82%D1%80%D0%B8%D0%B5%D0%B2%D0%B8%D1%87.jpg/143px-%D0%90%D0%B3%D0%B0%D1%84%D0%BE%D0%BD%D0%BE%D0%B2_%D0%90%D1%80%D1%82%D1%91%D0%BC_%D0%94%D0%BC%D0%B8%D1%82%D1%80%D0%B8%D0%B5%D0%B2%D0%B8%D1%87.jpg 1.5x, /images/thumb/6/61/%D0%90%D0%B3%D0%B0%D1%84%D0%BE%D0%BD%D0%BE%D0%B2_%D0%90%D1%80%D1%82%D1%91%D0%BC_%D0%94%D0%BC%D0%B8%D1%82%D1%80%D0%B8%D0%B5%D0%B2%D0%B8%D1%87.jpg/190px-%D0%90%D0%B3%D0%B0%D1%84%D0%BE%D0%BD%D0%BE%D0%B2_%D0%90%D1%80%D1%82%D1%91%D0%BC_%D0%94%D0%BC%D0%B8%D1%82%D1%80%D0%B8%D0%B5%D0%B2%D0%B8%D1%87.jpg 2x\" width=\"95\"/></a></div></div>\n",
              "<div class=\"gallerytext\">\n",
              "<p>Агафонов Артём Дмитриевич\n",
              "</p>\n",
              "</div>\n",
              "</div></li>\n",
              "</ul></div><a href=\"/wiki/%D0%A1%D0%BB%D1%83%D0%B6%D0%B5%D0%B1%D0%BD%D0%B0%D1%8F:Ask/-5B-5B%D0%A4%D0%B0%D0%B9%D0%BB:%2B-5D-5D/-3FNamespace/format%3Dgallery/limit%3D25/sort%3D%D0%94%D0%B0%D1%82%D0%B0-20%D0%BF%D0%BE%D1%81%D0%BB%D0%B5%D0%B4%D0%BD%D0%B5%D0%B9-20%D0%BF%D1%80%D0%B0%D0%B2%D0%BA%D0%B8/order%3Ddescending\" title=\"Служебная:Ask/-5B-5BФайл:+-5D-5D/-3FNamespace/format=gallery/limit=25/sort=Дата-20последней-20правки/order=descending\">… следующие результаты</a>\n",
              "</div>\n",
              "<p>\n",
              "</p>\n",
              "<!-- \n",
              "NewPP limit report\n",
              "Cached time: 19691231235959\n",
              "Cache expiry: 0\n",
              "Dynamic content: true\n",
              "CPU time usage: 0.149 seconds\n",
              "Real time usage: 0.481 seconds\n",
              "Preprocessor visited node count: 210/1000000\n",
              "Preprocessor generated node count: 709/1000000\n",
              "Post‐expand include size: 5158/2097152 bytes\n",
              "Template argument size: 774/2097152 bytes\n",
              "Highest expansion depth: 5/40\n",
              "Expensive parser function count: 0/100\n",
              "-->\n",
              "<!-- \n",
              "Transclusion expansion time report (%,ms,calls,template)\n",
              "100.00%    5.788      1 - -total\n",
              " 95.98%    5.555      3 - Шаблон:Элемент/День_рождения\n",
              " 63.85%    3.696      6 - Шаблон:S\n",
              "-->\n",
              "<div class=\"hf-footer\"></div><div class=\"hf-nsfooter\"></div></div> <div class=\"printfooter\">\n",
              "\t\t\t\t\t\tИсточник — «<a dir=\"ltr\" href=\"http://wikimipt.org/index.php?title=Заглавная_страница&amp;oldid=9210\">http://wikimipt.org/index.php?title=Заглавная_страница&amp;oldid=9210</a>»\t\t\t\t\t</div>\n",
              "<div class=\"catlinks catlinks-allhidden\" id=\"catlinks\"></div> <div class=\"visualClear\"></div>\n",
              "</div>\n",
              "</div>\n",
              "<div id=\"mw-navigation\">\n",
              "<h2>Навигация</h2>\n",
              "<div id=\"mw-head\">\n",
              "<div aria-labelledby=\"p-personal-label\" class=\"\" id=\"p-personal\" role=\"navigation\">\n",
              "<h3 id=\"p-personal-label\">Персональные инструменты</h3>\n",
              "<ul>\n",
              "<li id=\"pt-anonuserpage\"><a accesskey=\".\" class=\"new\" href=\"/wiki/%D0%A3%D1%87%D0%B0%D1%81%D1%82%D0%BD%D0%B8%D0%BA:34.141.201.194\" title=\"Страница участника для моего IP [.]\">34.141.201.194</a></li><li id=\"pt-anontalk\"><a accesskey=\"n\" class=\"new\" href=\"/wiki/%D0%9E%D0%B1%D1%81%D1%83%D0%B6%D0%B4%D0%B5%D0%BD%D0%B8%D0%B5_%D1%83%D1%87%D0%B0%D1%81%D1%82%D0%BD%D0%B8%D0%BA%D0%B0:34.141.201.194\" title=\"Страница обсуждений для моего IP [n]\">Обсуждение для этого IP-адреса</a></li><li id=\"pt-login\"><a accesskey=\"o\" href=\"/index.php?title=%D0%A1%D0%BB%D1%83%D0%B6%D0%B5%D0%B1%D0%BD%D0%B0%D1%8F:%D0%92%D1%85%D0%BE%D0%B4&amp;returnto=%D0%97%D0%B0%D0%B3%D0%BB%D0%B0%D0%B2%D0%BD%D0%B0%D1%8F+%D1%81%D1%82%D1%80%D0%B0%D0%BD%D0%B8%D1%86%D0%B0\" title=\"Здесь можно зарегистрироваться в системе, но это необязательно. [o]\">Войти</a></li> </ul>\n",
              "</div>\n",
              "<div id=\"left-navigation\">\n",
              "<div aria-labelledby=\"p-namespaces-label\" class=\"vectorTabs\" id=\"p-namespaces\" role=\"navigation\">\n",
              "<h3 id=\"p-namespaces-label\">Пространства имён</h3>\n",
              "<ul>\n",
              "<li class=\"selected\" id=\"ca-nstab-main\"><span><a accesskey=\"c\" href=\"/wiki/%D0%97%D0%B0%D0%B3%D0%BB%D0%B0%D0%B2%D0%BD%D0%B0%D1%8F_%D1%81%D1%82%D1%80%D0%B0%D0%BD%D0%B8%D1%86%D0%B0\" title=\"Просмотр основной страницы [c]\">Заглавная страница</a></span></li>\n",
              "<li id=\"ca-talk\"><span><a accesskey=\"t\" href=\"/wiki/%D0%9E%D0%B1%D1%81%D1%83%D0%B6%D0%B4%D0%B5%D0%BD%D0%B8%D0%B5:%D0%97%D0%B0%D0%B3%D0%BB%D0%B0%D0%B2%D0%BD%D0%B0%D1%8F_%D1%81%D1%82%D1%80%D0%B0%D0%BD%D0%B8%D1%86%D0%B0\" rel=\"discussion\" title=\"Обсуждение основной страницы [t]\">Обсуждение</a></span></li>\n",
              "</ul>\n",
              "</div>\n",
              "<div aria-labelledby=\"p-variants-label\" class=\"vectorMenu emptyPortlet\" id=\"p-variants\" role=\"navigation\">\n",
              "<h3 id=\"p-variants-label\">\n",
              "<span>Варианты</span><a href=\"#\"></a>\n",
              "</h3>\n",
              "<div class=\"menu\">\n",
              "<ul>\n",
              "</ul>\n",
              "</div>\n",
              "</div>\n",
              "</div>\n",
              "<div id=\"right-navigation\">\n",
              "<div aria-labelledby=\"p-views-label\" class=\"vectorTabs\" id=\"p-views\" role=\"navigation\">\n",
              "<h3 id=\"p-views-label\">Просмотры</h3>\n",
              "<ul>\n",
              "<li class=\"selected\" id=\"ca-view\"><span><a href=\"/wiki/%D0%97%D0%B0%D0%B3%D0%BB%D0%B0%D0%B2%D0%BD%D0%B0%D1%8F_%D1%81%D1%82%D1%80%D0%B0%D0%BD%D0%B8%D1%86%D0%B0\">Читать</a></span></li>\n",
              "<li id=\"ca-viewsource\"><span><a accesskey=\"e\" href=\"/index.php?title=%D0%97%D0%B0%D0%B3%D0%BB%D0%B0%D0%B2%D0%BD%D0%B0%D1%8F_%D1%81%D1%82%D1%80%D0%B0%D0%BD%D0%B8%D1%86%D0%B0&amp;action=edit\" title=\"Эта страница защищена от изменений, но вы можете посмотреть и скопировать её исходный текст [e]\">Просмотр</a></span></li>\n",
              "<li class=\"collapsible\" id=\"ca-history\"><span><a accesskey=\"h\" href=\"/index.php?title=%D0%97%D0%B0%D0%B3%D0%BB%D0%B0%D0%B2%D0%BD%D0%B0%D1%8F_%D1%81%D1%82%D1%80%D0%B0%D0%BD%D0%B8%D1%86%D0%B0&amp;action=history\" title=\"Журнал изменений страницы [h]\">История</a></span></li>\n",
              "</ul>\n",
              "</div>\n",
              "<div aria-labelledby=\"p-cactions-label\" class=\"vectorMenu emptyPortlet\" id=\"p-cactions\" role=\"navigation\">\n",
              "<h3 id=\"p-cactions-label\"><span>Ещё</span><a href=\"#\"></a></h3>\n",
              "<div class=\"menu\">\n",
              "<ul>\n",
              "</ul>\n",
              "</div>\n",
              "</div>\n",
              "<div id=\"p-search\" role=\"search\">\n",
              "<h3>\n",
              "<label for=\"searchInput\">Поиск</label>\n",
              "</h3>\n",
              "<form action=\"/index.php\" id=\"searchform\">\n",
              "<div id=\"simpleSearch\">\n",
              "<input accesskey=\"f\" id=\"searchInput\" name=\"search\" placeholder=\"Поиск\" title=\"Искать в викиФизтех [f]\" type=\"search\"/><input name=\"title\" type=\"hidden\" value=\"Служебная:Поиск\"/><input class=\"searchButton mw-fallbackSearchButton\" id=\"mw-searchButton\" name=\"fulltext\" title=\"Найти страницы, содержащие указанный текст\" type=\"submit\" value=\"Найти\"/><input class=\"searchButton\" id=\"searchButton\" name=\"go\" title=\"Перейти к странице, имеющей в точности такое название\" type=\"submit\" value=\"Перейти\"/> </div>\n",
              "</form>\n",
              "</div>\n",
              "</div>\n",
              "</div>\n",
              "<div id=\"mw-panel\">\n",
              "<div id=\"p-logo\" role=\"banner\"><a class=\"mw-wiki-logo\" href=\"/wiki/%D0%97%D0%B0%D0%B3%D0%BB%D0%B0%D0%B2%D0%BD%D0%B0%D1%8F_%D1%81%D1%82%D1%80%D0%B0%D0%BD%D0%B8%D1%86%D0%B0\" title=\"Перейти на заглавную страницу\"></a></div>\n",
              "<div aria-labelledby=\"p-navigation-label\" class=\"portal\" id=\"p-navigation\" role=\"navigation\">\n",
              "<h3 id=\"p-navigation-label\">Навигация</h3>\n",
              "<div class=\"body\">\n",
              "<ul>\n",
              "<li id=\"n-mainpage-description\"><a accesskey=\"z\" href=\"/wiki/%D0%97%D0%B0%D0%B3%D0%BB%D0%B0%D0%B2%D0%BD%D0%B0%D1%8F_%D1%81%D1%82%D1%80%D0%B0%D0%BD%D0%B8%D1%86%D0%B0\" title=\"Перейти на заглавную страницу [z]\">Заглавная страница</a></li><li id=\"n-currentevents\"><a href=\"/wiki/%D0%92%D0%B8%D0%BA%D0%B8%D0%A4%D0%B8%D0%B7%D1%82%D0%B5%D1%85:%D0%A2%D0%B5%D0%BA%D1%83%D1%89%D0%B8%D0%B5_%D1%81%D0%BE%D0%B1%D1%8B%D1%82%D0%B8%D1%8F\" title=\"Информация о текущих событиях\">Текущие события</a></li><li id=\"n-recentchanges\"><a accesskey=\"r\" href=\"/wiki/%D0%A1%D0%BB%D1%83%D0%B6%D0%B5%D0%B1%D0%BD%D0%B0%D1%8F:%D0%A1%D0%B2%D0%B5%D0%B6%D0%B8%D0%B5_%D0%BF%D1%80%D0%B0%D0%B2%D0%BA%D0%B8\" title=\"Список последних изменений [r]\">Свежие правки</a></li><li id=\"n-.D0.9D.D0.BE.D0.B2.D1.8B.D0.B5-.D1.81.D1.82.D1.80.D0.B0.D0.BD.D0.B8.D1.86.D1.8B\"><a href=\"/wiki/%D0%A1%D0%BB%D1%83%D0%B6%D0%B5%D0%B1%D0%BD%D0%B0%D1%8F:%D0%9D%D0%BE%D0%B2%D1%8B%D0%B5_%D1%81%D1%82%D1%80%D0%B0%D0%BD%D0%B8%D1%86%D1%8B\">Новые страницы</a></li><li id=\"n-randompage\"><a accesskey=\"x\" href=\"/wiki/%D0%A1%D0%BB%D1%83%D0%B6%D0%B5%D0%B1%D0%BD%D0%B0%D1%8F:%D0%A1%D0%BB%D1%83%D1%87%D0%B0%D0%B9%D0%BD%D0%B0%D1%8F_%D1%81%D1%82%D1%80%D0%B0%D0%BD%D0%B8%D1%86%D0%B0\" title=\"Посмотреть случайно выбранную страницу [x]\">Случайная статья</a></li> </ul>\n",
              "</div>\n",
              "</div>\n",
              "<div aria-labelledby=\"p-.D0.A1.D0.BE.D0.B4.D0.B5.D1.80.D0.B6.D0.B0.D0.BD.D0.B8.D0.B5-label\" class=\"portal\" id=\"p-.D0.A1.D0.BE.D0.B4.D0.B5.D1.80.D0.B6.D0.B0.D0.BD.D0.B8.D0.B5\" role=\"navigation\">\n",
              "<h3 id=\"p-.D0.A1.D0.BE.D0.B4.D0.B5.D1.80.D0.B6.D0.B0.D0.BD.D0.B8.D0.B5-label\">Содержание</h3>\n",
              "<div class=\"body\">\n",
              "<ul>\n",
              "<li id=\"n-.D0.A4.D0.B0.D0.BA.D1.83.D0.BB.D1.8C.D1.82.D0.B5.D1.82.D1.8B\"><a href=\"/wiki/%D0%9A%D0%B0%D1%82%D0%B5%D0%B3%D0%BE%D1%80%D0%B8%D1%8F:%D0%A4%D0%B0%D0%BA%D1%83%D0%BB%D1%8C%D1%82%D0%B5%D1%82%D1%8B\">Факультеты</a></li><li id=\"n-.D0.9A.D0.B0.D1.84.D0.B5.D0.B4.D1.80.D1.8B\"><a href=\"/wiki/%D0%9A%D0%B0%D1%82%D0%B5%D0%B3%D0%BE%D1%80%D0%B8%D1%8F:%D0%9A%D0%B0%D1%84%D0%B5%D0%B4%D1%80%D1%8B_%D0%BF%D0%BE_%D0%B0%D0%BB%D1%84%D0%B0%D0%B2%D0%B8%D1%82%D1%83\">Кафедры</a></li><li id=\"n-.D0.9F.D1.80.D0.B5.D0.B4.D0.BC.D0.B5.D1.82.D1.8B\"><a href=\"/wiki/%D0%9A%D0%B0%D1%82%D0%B5%D0%B3%D0%BE%D1%80%D0%B8%D1%8F:%D0%9F%D1%80%D0%B5%D0%B4%D0%BC%D0%B5%D1%82%D1%8B_%D0%BF%D0%BE_%D0%B0%D0%BB%D1%84%D0%B0%D0%B2%D0%B8%D1%82%D1%83\">Предметы</a></li><li id=\"n-.D0.9F.D1.80.D0.B5.D0.BF.D0.BE.D0.B4.D0.B0.D0.B2.D0.B0.D1.82.D0.B5.D0.BB.D0.B8\"><a href=\"/wiki/%D0%9A%D0%B0%D1%82%D0%B5%D0%B3%D0%BE%D1%80%D0%B8%D1%8F:%D0%9F%D1%80%D0%B5%D0%BF%D0%BE%D0%B4%D0%B0%D0%B2%D0%B0%D1%82%D0%B5%D0%BB%D0%B8_%D0%BF%D0%BE_%D0%B0%D0%BB%D1%84%D0%B0%D0%B2%D0%B8%D1%82%D1%83\">Преподаватели</a></li><li id=\"n-.D0.A0.D0.B5.D0.B9.D1.82.D0.B8.D0.BD.D0.B3\"><a href=\"/wiki/%D0%92%D0%B8%D0%BA%D0%B8%D0%A4%D0%B8%D0%B7%D1%82%D0%B5%D1%85:%D0%A0%D0%B5%D0%B9%D1%82%D0%B8%D0%BD%D0%B3_%D0%BF%D1%80%D0%B5%D0%BF%D0%BE%D0%B4%D0%B0%D0%B2%D0%B0%D1%82%D0%B5%D0%BB%D0%B5%D0%B9\">Рейтинг</a></li><li id=\"n-.D0.9A.D0.BD.D0.B8.D0.B3.D0.B8\"><a href=\"/wiki/%D0%9A%D0%B0%D1%82%D0%B5%D0%B3%D0%BE%D1%80%D0%B8%D1%8F:%D0%9A%D0%BD%D0%B8%D0%B3%D0%B8\">Книги</a></li><li id=\"n-.D0.A4.D0.BE.D0.BB.D1.8C.D0.BA.D0.BB.D0.BE.D1.80\"><a href=\"/wiki/%D0%9A%D0%B0%D1%82%D0%B5%D0%B3%D0%BE%D1%80%D0%B8%D1%8F:%D0%A4%D0%B8%D0%B7%D1%82%D0%B5%D1%85%D0%BE%D0%B2%D1%81%D0%BA%D0%B8%D0%B9_%D1%84%D0%BE%D0%BB%D1%8C%D0%BA%D0%BB%D0%BE%D1%80\">Фольклор</a></li><li id=\"n-.D0.9E.D1.80.D0.B3.D0.B0.D0.BD.D0.B8.D0.B7.D0.B0.D1.86.D0.B8.D0.B8\"><a href=\"/wiki/%D0%9A%D0%B0%D1%82%D0%B5%D0%B3%D0%BE%D1%80%D0%B8%D1%8F:%D0%9E%D1%80%D0%B3%D0%B0%D0%BD%D0%B8%D0%B7%D0%B0%D1%86%D0%B8%D0%B8\">Организации</a></li><li id=\"n-.D0.9F.D0.B0.D0.BC.D1.8F.D1.82.D0.BA.D0.B8\"><a href=\"/wiki/%D0%9A%D0%B0%D1%82%D0%B5%D0%B3%D0%BE%D1%80%D0%B8%D1%8F:%D0%9F%D0%B0%D0%BC%D1%8F%D1%82%D0%BA%D0%B8_%D0%B8_%D0%B8%D0%BD%D1%81%D1%82%D1%80%D1%83%D0%BA%D1%86%D0%B8%D0%B8\">Памятки</a></li><li id=\"n-.D0.9F.D1.83.D1.82.D0.B5.D0.B2.D0.BE.D0.B4.D0.B8.D1.82.D0.B5.D0.BB.D1.8C\"><a href=\"/wiki/%D0%9A%D0%B0%D1%82%D0%B5%D0%B3%D0%BE%D1%80%D0%B8%D1%8F:%D0%9F%D1%83%D1%82%D0%B5%D0%B2%D0%BE%D0%B4%D0%B8%D1%82%D0%B5%D0%BB%D1%8C\">Путеводитель</a></li> </ul>\n",
              "</div>\n",
              "</div>\n",
              "<div aria-labelledby=\"p-.D0.94.D0.BE.D0.B1.D0.B0.D0.B2.D0.B8.D1.82.D1.8C...-label\" class=\"portal\" id=\"p-.D0.94.D0.BE.D0.B1.D0.B0.D0.B2.D0.B8.D1.82.D1.8C...\" role=\"navigation\">\n",
              "<h3 id=\"p-.D0.94.D0.BE.D0.B1.D0.B0.D0.B2.D0.B8.D1.82.D1.8C...-label\">Добавить...</h3>\n",
              "<div class=\"body\">\n",
              "<ul>\n",
              "<li id=\"n-.D0.94.D0.BE.D0.B1.D0.B0.D0.B2.D0.B8.D1.82.D1.8C-.D1.84.D0.B0.D0.BA.D1.83.D0.BB.D1.8C.D1.82.D0.B5.D1.82\"><a href=\"/wiki/%D0%A4%D0%BE%D1%80%D0%BC%D0%B0:%D0%A4%D0%B0%D0%BA%D1%83%D0%BB%D1%8C%D1%82%D0%B5%D1%82\">Добавить факультет</a></li><li id=\"n-.D0.94.D0.BE.D0.B1.D0.B0.D0.B2.D0.B8.D1.82.D1.8C-.D0.BF.D1.80.D0.B5.D0.BF.D0.BE.D0.B4.D0.B0.D0.B2.D0.B0.D1.82.D0.B5.D0.BB.D1.8F\"><a href=\"/wiki/%D0%A4%D0%BE%D1%80%D0%BC%D0%B0:%D0%9F%D1%80%D0%B5%D0%BF%D0%BE%D0%B4%D0%B0%D0%B2%D0%B0%D1%82%D0%B5%D0%BB%D1%8C\">Добавить преподавателя</a></li><li id=\"n-.D0.94.D0.BE.D0.B1.D0.B0.D0.B2.D0.B8.D1.82.D1.8C-.D0.BA.D0.B0.D1.84.D0.B5.D0.B4.D1.80.D1.83\"><a href=\"/wiki/%D0%A4%D0%BE%D1%80%D0%BC%D0%B0:%D0%9A%D0%B0%D1%84%D0%B5%D0%B4%D1%80%D0%B0\">Добавить кафедру</a></li><li id=\"n-.D0.94.D0.BE.D0.B1.D0.B0.D0.B2.D0.B8.D1.82.D1.8C-.D0.BF.D1.80.D0.B5.D0.B4.D0.BC.D0.B5.D1.82\"><a href=\"/wiki/%D0%A4%D0%BE%D1%80%D0%BC%D0%B0:%D0%9F%D1%80%D0%B5%D0%B4%D0%BC%D0%B5%D1%82\">Добавить предмет</a></li><li id=\"n-.D0.94.D0.BE.D0.B1.D0.B0.D0.B2.D0.B8.D1.82.D1.8C-.D0.BA.D0.BD.D0.B8.D0.B3.D1.83\"><a href=\"/wiki/%D0%A4%D0%BE%D1%80%D0%BC%D0%B0:%D0%9A%D0%BD%D0%B8%D0%B3%D0%B0\">Добавить книгу</a></li><li id=\"n-.D0.94.D0.BE.D0.B1.D0.B0.D0.B2.D0.B8.D1.82.D1.8C-.D1.84.D0.B8.D0.B7.D1.82.D0.B5.D1.85.D0.B0\"><a href=\"/wiki/%D0%A4%D0%BE%D1%80%D0%BC%D0%B0:%D0%A4%D0%B8%D0%B7%D1%82%D0%B5%D1%85\">Добавить физтеха</a></li> </ul>\n",
              "</div>\n",
              "</div>\n",
              "<div aria-labelledby=\"p-tb-label\" class=\"portal\" id=\"p-tb\" role=\"navigation\">\n",
              "<h3 id=\"p-tb-label\">Инструменты</h3>\n",
              "<div class=\"body\">\n",
              "<ul>\n",
              "<li id=\"t-whatlinkshere\"><a accesskey=\"j\" href=\"/wiki/%D0%A1%D0%BB%D1%83%D0%B6%D0%B5%D0%B1%D0%BD%D0%B0%D1%8F:%D0%A1%D1%81%D1%8B%D0%BB%D0%BA%D0%B8_%D1%81%D1%8E%D0%B4%D0%B0/%D0%97%D0%B0%D0%B3%D0%BB%D0%B0%D0%B2%D0%BD%D0%B0%D1%8F_%D1%81%D1%82%D1%80%D0%B0%D0%BD%D0%B8%D1%86%D0%B0\" title=\"Список всех страниц, ссылающихся на данную [j]\">Ссылки сюда</a></li><li id=\"t-recentchangeslinked\"><a accesskey=\"k\" href=\"/wiki/%D0%A1%D0%BB%D1%83%D0%B6%D0%B5%D0%B1%D0%BD%D0%B0%D1%8F:%D0%A1%D0%B2%D1%8F%D0%B7%D0%B0%D0%BD%D0%BD%D1%8B%D0%B5_%D0%BF%D1%80%D0%B0%D0%B2%D0%BA%D0%B8/%D0%97%D0%B0%D0%B3%D0%BB%D0%B0%D0%B2%D0%BD%D0%B0%D1%8F_%D1%81%D1%82%D1%80%D0%B0%D0%BD%D0%B8%D1%86%D0%B0\" title=\"Последние изменения в страницах, на которые ссылается эта страница [k]\">Связанные правки</a></li><li id=\"t-specialpages\"><a accesskey=\"q\" href=\"/wiki/%D0%A1%D0%BB%D1%83%D0%B6%D0%B5%D0%B1%D0%BD%D0%B0%D1%8F:%D0%A1%D0%BF%D0%B5%D1%86%D1%81%D1%82%D1%80%D0%B0%D0%BD%D0%B8%D1%86%D1%8B\" title=\"Список служебных страниц [q]\">Спецстраницы</a></li><li id=\"t-print\"><a accesskey=\"p\" href=\"/index.php?title=%D0%97%D0%B0%D0%B3%D0%BB%D0%B0%D0%B2%D0%BD%D0%B0%D1%8F_%D1%81%D1%82%D1%80%D0%B0%D0%BD%D0%B8%D1%86%D0%B0&amp;printable=yes\" rel=\"alternate\" title=\"Версия этой страницы для печати [p]\">Версия для печати</a></li><li id=\"t-permalink\"><a href=\"/index.php?title=%D0%97%D0%B0%D0%B3%D0%BB%D0%B0%D0%B2%D0%BD%D0%B0%D1%8F_%D1%81%D1%82%D1%80%D0%B0%D0%BD%D0%B8%D1%86%D0%B0&amp;oldid=9210\" title=\"Постоянная ссылка на эту версию страницы\">Постоянная ссылка</a></li><li id=\"t-info\"><a href=\"/index.php?title=%D0%97%D0%B0%D0%B3%D0%BB%D0%B0%D0%B2%D0%BD%D0%B0%D1%8F_%D1%81%D1%82%D1%80%D0%B0%D0%BD%D0%B8%D1%86%D0%B0&amp;action=info\" title=\"Подробнее об этой странице\">Сведения о странице</a></li><li id=\"t-smwbrowselink\"><a href=\"/wiki/%D0%A1%D0%BB%D1%83%D0%B6%D0%B5%D0%B1%D0%BD%D0%B0%D1%8F:Browse/%D0%97%D0%B0%D0%B3%D0%BB%D0%B0%D0%B2%D0%BD%D0%B0%D1%8F_%D1%81%D1%82%D1%80%D0%B0%D0%BD%D0%B8%D1%86%D0%B0\" rel=\"smw-browse\">Просмотреть свойства</a></li> </ul>\n",
              "</div>\n",
              "</div>\n",
              "</div>\n",
              "</div>\n",
              "<div id=\"footer\" role=\"contentinfo\">\n",
              "<ul id=\"footer-info\">\n",
              "<li id=\"footer-info-lastmod\"> Последнее изменение этой страницы: 16:13, 24 июля 2017.</li>\n",
              "<li id=\"footer-info-copyright\">Содержимое доступно по лицензии <a class=\"external\" href=\"http://creativecommons.org/licenses/by-sa/3.0/\" rel=\"nofollow\">Creative Commons Attribution Share Alike</a> (если не указано иное).</li>\n",
              "</ul>\n",
              "<ul id=\"footer-places\">\n",
              "<li id=\"footer-places-privacy\"><a href=\"/wiki/%D0%92%D0%B8%D0%BA%D0%B8%D0%A4%D0%B8%D0%B7%D1%82%D0%B5%D1%85:%D0%9F%D0%BE%D0%BB%D0%B8%D1%82%D0%B8%D0%BA%D0%B0_%D0%BA%D0%BE%D0%BD%D1%84%D0%B8%D0%B4%D0%B5%D0%BD%D1%86%D0%B8%D0%B0%D0%BB%D1%8C%D0%BD%D0%BE%D1%81%D1%82%D0%B8\" title=\"ВикиФизтех:Политика конфиденциальности\">Политика конфиденциальности</a></li>\n",
              "<li id=\"footer-places-about\"><a href=\"/wiki/%D0%92%D0%B8%D0%BA%D0%B8%D0%A4%D0%B8%D0%B7%D1%82%D0%B5%D1%85:%D0%9E%D0%BF%D0%B8%D1%81%D0%B0%D0%BD%D0%B8%D0%B5\" title=\"ВикиФизтех:Описание\">Описание викиФизтех</a></li>\n",
              "<li id=\"footer-places-disclaimer\"><a href=\"/wiki/%D0%92%D0%B8%D0%BA%D0%B8%D0%A4%D0%B8%D0%B7%D1%82%D0%B5%D1%85:%D0%9E%D1%82%D0%BA%D0%B0%D0%B7_%D0%BE%D1%82_%D0%BE%D1%82%D0%B2%D0%B5%D1%82%D1%81%D1%82%D0%B2%D0%B5%D0%BD%D0%BD%D0%BE%D1%81%D1%82%D0%B8\" title=\"ВикиФизтех:Отказ от ответственности\">Отказ от ответственности</a></li>\n",
              "<li id=\"footer-places-contactus\"><a href=\"/wiki/%D0%92%D0%B8%D0%BA%D0%B8%D0%A4%D0%B8%D0%B7%D1%82%D0%B5%D1%85:%D0%A1%D0%B2%D1%8F%D0%B7%D0%B0%D1%82%D1%8C%D1%81%D1%8F_%D1%81_%D1%80%D0%B5%D0%B4%D0%B0%D0%BA%D1%86%D0%B8%D0%B5%D0%B9\" title=\"ВикиФизтех:Связаться с редакцией\">Связаться с редакцией</a></li>\n",
              "</ul>\n",
              "<ul class=\"noprint\" id=\"footer-icons\">\n",
              "<li id=\"footer-copyrightico\">\n",
              "<a href=\"http://creativecommons.org/licenses/by-sa/3.0/\"><img alt=\"Creative Commons Attribution Share Alike\" height=\"31\" src=\"/resources/assets/licenses/cc-by-sa.png\" width=\"88\"/></a> </li>\n",
              "<li id=\"footer-poweredbyico\">\n",
              "<a href=\"//www.mediawiki.org/\"><img alt=\"Powered by MediaWiki\" height=\"31\" src=\"/resources/assets/poweredby_mediawiki_88x31.png\" srcset=\"/resources/assets/poweredby_mediawiki_132x47.png 1.5x, /resources/assets/poweredby_mediawiki_176x62.png 2x\" width=\"88\"/></a><a href=\"https://www.semantic-mediawiki.org/wiki/Semantic_MediaWiki\"><img alt=\"Powered by Semantic MediaWiki\" height=\"31\" src=\"/extensions/SemanticMediaWiki/includes/../res/images/smw_button.png\" width=\"88\"/></a> </li>\n",
              "</ul>\n",
              "<div style=\"clear:both\"></div>\n",
              "</div>\n",
              "<script>window.RLQ = window.RLQ || []; window.RLQ.push( function () {\n",
              "mw.loader.state({\"user\":\"ready\",\"user.groups\":\"ready\"});mw.loader.load([\"ext.smw.tooltips\",\"mediawiki.action.view.postEdit\",\"site\",\"mediawiki.user\",\"mediawiki.hidpi\",\"mediawiki.page.ready\",\"mediawiki.searchSuggest\"]);\n",
              "} );</script><script>\n",
              "  (function(i,s,o,g,r,a,m){i['GoogleAnalyticsObject']=r;i[r]=i[r]||function(){\n",
              "  (i[r].q=i[r].q||[]).push(arguments)},i[r].l=1*new Date();a=s.createElement(o),\n",
              "  m=s.getElementsByTagName(o)[0];a.async=1;a.src=g;m.parentNode.insertBefore(a,m)\n",
              "  })(window,document,'script','//www.google-analytics.com/analytics.js','ga');\n",
              "\n",
              "  ga('create', 'UA-37102015-1', 'auto');\n",
              "  ga('send', 'pageview');\n",
              "\n",
              "</script><script>window.RLQ = window.RLQ || []; window.RLQ.push( function () {\n",
              "mw.config.set({\"wgBackendResponseTime\":652});\n",
              "} );</script>\n",
              "</body>\n",
              "</html>"
            ]
          },
          "metadata": {},
          "execution_count": 1
        }
      ],
      "source": [
        "import requests\n",
        "from bs4 import BeautifulSoup\n",
        "\n",
        "URL = 'http://wikimipt.org/wiki/'\n",
        "page = requests.get(URL)\n",
        "soup = BeautifulSoup(page.content, 'html.parser')\n",
        "soup"
      ]
    },
    {
      "cell_type": "markdown",
      "source": [
        "## Посмотрим на код страницы какой-нибудь кафедры"
      ],
      "metadata": {
        "id": "OlSNtQU2Z2gg"
      }
    },
    {
      "cell_type": "code",
      "source": [
        "URL1 = 'http://wikimipt.org/wiki/Кафедра_высшей_математики'\n",
        "page1 = requests.get(URL1)\n",
        "soup1 = BeautifulSoup(page1.content, 'html.parser')\n",
        "soup1"
      ],
      "metadata": {
        "colab": {
          "base_uri": "https://localhost:8080/"
        },
        "id": "FQ0BoUJPaO3N",
        "outputId": "88949ce6-d05e-4424-95a6-a23151430ba8"
      },
      "execution_count": 2,
      "outputs": [
        {
          "output_type": "execute_result",
          "data": {
            "text/plain": [
              "<!DOCTYPE html>\n",
              "\n",
              "<html class=\"client-nojs\" dir=\"ltr\" lang=\"ru\">\n",
              "<head>\n",
              "<meta charset=\"utf-8\"/>\n",
              "<title>Кафедра высшей математики — вики-Физтех. О преподавателях МФТИ и не только!</title>\n",
              "<script>document.documentElement.className = document.documentElement.className.replace( /(^|\\s)client-nojs(\\s|$)/, \"$1client-js$2\" );</script>\n",
              "<script>window.RLQ = window.RLQ || []; window.RLQ.push( function () {\n",
              "mw.config.set({\"wgCanonicalNamespace\":\"\",\"wgCanonicalSpecialPageName\":!1,\"wgNamespaceNumber\":0,\"wgPageName\":\"Кафедра_высшей_математики\",\"wgTitle\":\"Кафедра высшей математики\",\"wgCurRevisionId\":12534,\"wgRevisionId\":12534,\"wgArticleId\":23,\"wgIsArticle\":!0,\"wgIsRedirect\":!1,\"wgAction\":\"view\",\"wgUserName\":null,\"wgUserGroups\":[\"*\"],\"wgCategories\":[\"Кафедры по алфавиту\"],\"wgBreakFrames\":!1,\"wgPageContentLanguage\":\"ru\",\"wgPageContentModel\":\"wikitext\",\"wgSeparatorTransformTable\":[\",\\t.\",\" \\t,\"],\"wgDigitTransformTable\":[\"\",\"\"],\"wgDefaultDateFormat\":\"dmy\",\"wgMonthNames\":[\"\",\"январь\",\"февраль\",\"март\",\"апрель\",\"май\",\"июнь\",\"июль\",\"август\",\"сентябрь\",\"октябрь\",\"ноябрь\",\"декабрь\"],\"wgMonthNamesShort\":[\"\",\"янв\",\"фев\",\"мар\",\"апр\",\"май\",\"июн\",\"июл\",\"авг\",\"сен\",\"окт\",\"ноя\",\"дек\"],\"wgRelevantPageName\":\n",
              "\"Кафедра_высшей_математики\",\"wgRelevantArticleId\":23,\"wgIsProbablyEditable\":!1,\"wgRestrictionEdit\":[],\"wgRestrictionMove\":[],\"sfgAutocompleteValues\":[],\"sfgAutocompleteOnAllChars\":!1,\"sfgFieldProperties\":[],\"sfgCargoFields\":[],\"sfgDependentFields\":[],\"sfgShowOnSelect\":[],\"sfgScriptPath\":\"/extensions/SemanticForms\",\"edgValues\":null,\"sfgEDSettings\":null});mw.loader.implement(\"user.options\",function($,jQuery){mw.user.options.set({\"variant\":\"ru\"});});mw.loader.implement(\"user.tokens\",function($,jQuery){mw.user.tokens.set({\"editToken\":\"+\\\\\",\"patrolToken\":\"+\\\\\",\"watchToken\":\"+\\\\\"});});mw.loader.load([\"ext.smw.style\",\"ext.comments\",\"mediawiki.page.startup\",\"mediawiki.legacy.wikibits\",\"ext.widgetsFramework.css\",\"skins.vector.js\"]);\n",
              "} );</script>\n",
              "<link href=\"/load.php?debug=false&amp;lang=ru&amp;modules=ext.smw.style%7Cext.smw.tooltip.styles&amp;only=styles&amp;skin=vector\" rel=\"stylesheet\"/>\n",
              "<link href=\"/load.php?debug=false&amp;lang=ru&amp;modules=mediawiki.legacy.commonPrint%2Cshared%7Cmediawiki.sectionAnchor%7Cmediawiki.skinning.interface%7Cskins.vector.styles&amp;only=styles&amp;skin=vector\" rel=\"stylesheet\"/>\n",
              "<meta content=\"\" name=\"ResourceLoaderDynamicStyles\"/>\n",
              "<link href=\"/load.php?debug=false&amp;lang=ru&amp;modules=site&amp;only=styles&amp;skin=vector\" rel=\"stylesheet\"/>\n",
              "<style>a:lang(ar),a:lang(kk-arab),a:lang(mzn),a:lang(ps),a:lang(ur){text-decoration:none}</style>\n",
              "<script async=\"\" src=\"/load.php?debug=false&amp;lang=ru&amp;modules=startup&amp;only=scripts&amp;skin=vector\"></script>\n",
              "<meta content=\"MediaWiki 1.26.2\" name=\"generator\"/>\n",
              "<link href=\"/index.php?title=%D0%A1%D0%BB%D1%83%D0%B6%D0%B5%D0%B1%D0%BD%D0%B0%D1%8F:ExportRDF/%D0%9A%D0%B0%D1%84%D0%B5%D0%B4%D1%80%D0%B0_%D0%B2%D1%8B%D1%81%D1%88%D0%B5%D0%B9_%D0%BC%D0%B0%D1%82%D0%B5%D0%BC%D0%B0%D1%82%D0%B8%D0%BA%D0%B8&amp;xmlmime=rdf\" rel=\"ExportRDF\" title=\"Кафедра высшей математики\" type=\"application/rdf+xml\"/>\n",
              "<link href=\"/favicon.ico\" rel=\"shortcut icon\"/>\n",
              "<link href=\"/opensearch_desc.php\" rel=\"search\" title=\"викиФизтех (ru)\" type=\"application/opensearchdescription+xml\"/>\n",
              "<link href=\"http://wikimipt.org/api.php?action=rsd\" rel=\"EditURI\" type=\"application/rsd+xml\"/>\n",
              "<link href=\"http://creativecommons.org/licenses/by-sa/3.0/\" rel=\"copyright\"/>\n",
              "<link href=\"/index.php?title=%D0%A1%D0%BB%D1%83%D0%B6%D0%B5%D0%B1%D0%BD%D0%B0%D1%8F:%D0%A1%D0%B2%D0%B5%D0%B6%D0%B8%D0%B5_%D0%BF%D1%80%D0%B0%D0%B2%D0%BA%D0%B8&amp;feed=atom\" rel=\"alternate\" title=\"викиФизтех — Atom-лента\" type=\"application/atom+xml\"/>\n",
              "<link href=\"http://wikimipt.org/wiki/%D0%9A%D0%B0%D1%84%D0%B5%D0%B4%D1%80%D0%B0_%D0%B2%D1%8B%D1%81%D1%88%D0%B5%D0%B9_%D0%BC%D0%B0%D1%82%D0%B5%D0%BC%D0%B0%D1%82%D0%B8%D0%BA%D0%B8\" rel=\"canonical\"/>\n",
              "<meta content=\"ВикиФизтех -- о преподавателях МФТИ и не только!\" property=\"og:site_name\"/>\n",
              "<script src=\"//s7.addthis.com/js/300/addthis_widget.js#pubid=ra-4e99af56101b9b4f\" type=\"text/javascript\"></script>\n",
              "<script src=\"//vk.com/js/api/openapi.js\" type=\"text/javascript\"></script>\n",
              "</head>\n",
              "<body class=\"mediawiki ltr sitedir-ltr ns-0 ns-subject page-Кафедра_высшей_математики skin-vector action-view\">\n",
              "<div class=\"noprint\" id=\"mw-page-base\"></div>\n",
              "<div class=\"noprint\" id=\"mw-head-base\"></div>\n",
              "<div class=\"mw-body\" id=\"content\" role=\"main\">\n",
              "<a id=\"top\"></a>\n",
              "<div class=\"mw-indicators\">\n",
              "</div>\n",
              "<h1 class=\"firstHeading\" id=\"firstHeading\" lang=\"ru\">Кафедра высшей математики</h1>\n",
              "<div class=\"mw-body-content\" id=\"bodyContent\">\n",
              "<div id=\"siteSub\">Материал из викиФизтех</div>\n",
              "<div id=\"contentSub\"></div>\n",
              "<div class=\"mw-jump\" id=\"jump-to-nav\">\n",
              "\t\t\t\t\tПерейти к:\t\t\t\t\t<a href=\"#mw-head\">навигация</a>, \t\t\t\t\t<a href=\"#p-search\">поиск</a>\n",
              "</div>\n",
              "<div class=\"mw-content-ltr\" dir=\"ltr\" id=\"mw-content-text\" lang=\"ru\"><div class=\"hf-nsheader\"></div><div class=\"hf-header\"></div><table class=\"wikitable card\">\n",
              "<tr>\n",
              "<th colspan=\"2\"> Кафедра высшей математики\n",
              "</th></tr>\n",
              "<tr>\n",
              "<th> Тип\n",
              "</th>\n",
              "<td>  институтская\n",
              "</td></tr>\n",
              "<tr>\n",
              "<th> Заведующий кафедрой\n",
              "</th>\n",
              "<td> <a href=\"/wiki/%D0%98%D0%B2%D0%B0%D0%BD%D0%BE%D0%B2_%D0%93%D1%80%D0%B8%D0%B3%D0%BE%D1%80%D0%B8%D0%B9_%D0%95%D0%B2%D0%B3%D0%B5%D0%BD%D1%8C%D0%B5%D0%B2%D0%B8%D1%87\" title=\"Иванов Григорий Евгеньевич\">Иванов Григорий Евгеньевич</a>\n",
              "</td></tr>\n",
              "<tr>\n",
              "<th colspan=\"2\"> <a class=\"external text\" href=\"https://mipt.ru/education/chair/mathematics/\" rel=\"nofollow\">Сайт кафедры</a>\n",
              "</th></tr>\n",
              "<tr>\n",
              "<th> Курсы:\n",
              "</th>\n",
              "<td>\n",
              "<ul>\n",
              "<li data-sortkey=\"А\"><a href=\"/wiki/%D0%90%D0%BD%D0%B0%D0%BB%D0%B8%D1%82%D0%B8%D1%87%D0%B5%D1%81%D0%BA%D0%B0%D1%8F_%D0%B3%D0%B5%D0%BE%D0%BC%D0%B5%D1%82%D1%80%D0%B8%D1%8F_%D0%B8_%D0%BB%D0%B8%D0%BD%D0%B5%D0%B9%D0%BD%D0%B0%D1%8F_%D0%B0%D0%BB%D0%B3%D0%B5%D0%B1%D1%80%D0%B0\" title=\"Аналитическая геометрия и линейная алгебра\">Аналитическая геометрия и линейная алгебра</a></li>\n",
              "<li data-sortkey=\"Д\"><a href=\"/wiki/%D0%94%D0%B8%D1%84%D1%84%D0%B5%D1%80%D0%B5%D0%BD%D1%86%D0%B8%D0%B0%D0%BB%D1%8C%D0%BD%D1%8B%D0%B5_%D1%83%D1%80%D0%B0%D0%B2%D0%BD%D0%B5%D0%BD%D0%B8%D1%8F\" title=\"Дифференциальные уравнения\">Дифференциальные уравнения</a></li>\n",
              "<li data-sortkey=\"М\"><a href=\"/wiki/%D0%9C%D0%B0%D1%82%D0%B5%D0%BC%D0%B0%D1%82%D0%B8%D1%87%D0%B5%D1%81%D0%BA%D0%B8%D0%B9_%D0%B0%D0%BD%D0%B0%D0%BB%D0%B8%D0%B7\" title=\"Математический анализ\">Математический анализ</a></li>\n",
              "<li data-sortkey=\"Т\"><a href=\"/wiki/%D0%A2%D0%B5%D0%BE%D1%80%D0%B8%D1%8F_%D1%84%D1%83%D0%BD%D0%BA%D1%86%D0%B8%D0%B9_%D0%BA%D0%BE%D0%BC%D0%BF%D0%BB%D0%B5%D0%BA%D1%81%D0%BD%D0%BE%D0%B3%D0%BE_%D0%BF%D0%B5%D1%80%D0%B5%D0%BC%D0%B5%D0%BD%D0%BD%D0%BE%D0%B3%D0%BE\" title=\"Теория функций комплексного переменного\">Теория функций комплексного переменного</a></li>\n",
              "<li data-sortkey=\"У\"><a href=\"/wiki/%D0%A3%D1%80%D0%B0%D0%B2%D0%BD%D0%B5%D0%BD%D0%B8%D1%8F_%D0%BC%D0%B0%D1%82%D0%B5%D0%BC%D0%B0%D1%82%D0%B8%D1%87%D0%B5%D1%81%D0%BA%D0%BE%D0%B9_%D1%84%D0%B8%D0%B7%D0%B8%D0%BA%D0%B8\" title=\"Уравнения математической физики\">Уравнения математической физики</a></li>\n",
              "<li data-sortkey=\"Ф\"><a href=\"/wiki/%D0%A4%D1%83%D0%BD%D0%BA%D1%86%D0%B8%D0%BE%D0%BD%D0%B0%D0%BB%D1%8C%D0%BD%D1%8B%D0%B9_%D0%B0%D0%BD%D0%B0%D0%BB%D0%B8%D0%B7\" title=\"Функциональный анализ\">Функциональный анализ</a></li>\n",
              "</ul>\n",
              "</td></tr></table>\n",
              "<p>Кафедра высшей математики является учебной кафедрой Московского физико-технического института (МФТИ). Она была основана одновременно с МФТИ. Основы математического образования в МФТИ были заложены академиками <a class=\"external text\" href=\"https://ru.wikipedia.org/wiki/Делоне,_Борис_Николаевич\" rel=\"nofollow\">Б.Н. Делоне</a>, <a class=\"external text\" href=\"https://ru.wikipedia.org/wiki/Петровский,_Иван_Георгиевич\" rel=\"nofollow\">И.Г. Петровским</a>, <a class=\"external text\" href=\"https://ru.wikipedia.org/wiki/Соболев,_Сергей_Львович\" rel=\"nofollow\">С.Л. Соболевым</a>, <a class=\"external text\" href=\"https://ru.wikipedia.org/wiki/Векуа,_Илья_Несторович\" rel=\"nofollow\">И.Н. Векуа</a>, <a href=\"/wiki/%D0%94%D0%BE%D1%80%D0%BE%D0%B4%D0%BD%D0%B8%D1%86%D1%8B%D0%BD_%D0%90%D0%BD%D0%B0%D1%82%D0%BE%D0%BB%D0%B8%D0%B9_%D0%90%D0%BB%D0%B5%D0%BA%D1%81%D0%B5%D0%B5%D0%B2%D0%B8%D1%87\" title=\"Дородницын Анатолий Алексеевич\">А.А. Дородницыным</a>, <a class=\"external text\" href=\"https://ru.wikipedia.org/wiki/Владимиров,_Василий_Сергеевич\" rel=\"nofollow\">В.С. Владимировым</a>, <a class=\"external text\" href=\"https://ru.wikipedia.org/wiki/Моисеев,_Никита_Николаевич\" rel=\"nofollow\">Н.Н. Моисеевым</a>, <a class=\"external text\" href=\"https://ru.wikipedia.org/wiki/Мищенко,_Евгений_Фролович\" rel=\"nofollow\">Е.Ф. Мищенко</a>, <a class=\"external text\" href=\"https://ru.wikipedia.org/wiki/Овсянников,_Лев_Васильевич\" rel=\"nofollow\">Л.В. Овсянниковым</a>, <a href=\"/wiki/%D0%91%D0%BE%D0%BB%D0%B8%D0%B1%D1%80%D1%83%D1%85_%D0%90%D0%BD%D0%B4%D1%80%D0%B5%D0%B9_%D0%90%D0%BD%D0%B4%D1%80%D0%B5%D0%B5%D0%B2%D0%B8%D1%87\" title=\"Болибрух Андрей Андреевич\">А.А. Болибрухом</a>, и продолжены академиком РАН <a href=\"/wiki/%D0%9D%D0%B8%D0%BA%D0%BE%D0%BB%D1%8C%D1%81%D0%BA%D0%B8%D0%B9_%D0%A1%D0%B5%D1%80%D0%B3%D0%B5%D0%B9_%D0%9C%D0%B8%D1%85%D0%B0%D0%B9%D0%BB%D0%BE%D0%B2%D0%B8%D1%87\" title=\"Никольский Сергей Михайлович\">С.М. Никольским</a>, членами-корреспондентами РАН <a href=\"/wiki/%D0%9A%D1%83%D0%B4%D1%80%D1%8F%D0%B2%D1%86%D0%B5%D0%B2_%D0%9B%D0%B5%D0%B2_%D0%94%D0%BC%D0%B8%D1%82%D1%80%D0%B8%D0%B5%D0%B2%D0%B8%D1%87\" title=\"Кудрявцев Лев Дмитриевич\">Л.Д. Кудрявцевым</a> и <a href=\"/wiki/%D0%91%D0%B5%D1%81%D0%BE%D0%B2_%D0%9E%D0%BB%D0%B5%D0%B3_%D0%92%D0%BB%D0%B0%D0%B4%D0%B8%D0%BC%D0%B8%D1%80%D0%BE%D0%B2%D0%B8%D1%87\" title=\"Бесов Олег Владимирович\">О.В. Бесовым</a> и членом-корреспондентом РАО <a href=\"/wiki/%D0%AF%D0%BA%D0%BE%D0%B2%D0%BB%D0%B5%D0%B2_%D0%93%D0%B5%D0%BD%D0%BD%D0%B0%D0%B4%D0%B8%D0%B9_%D0%9D%D0%B8%D0%BA%D0%BE%D0%BB%D0%B0%D0%B5%D0%B2%D0%B8%D1%87\" title=\"Яковлев Геннадий Николаевич\">Г.Н. Яковлевым</a>. Многие поколения студентов учились по их учебникам и монографиям. \n",
              "</p><p>Сегодня на кафедре работают более 80 преподавателей, из них более 25 профессоров и докторов наук.\n",
              "</p>\n",
              "<h2><span class=\"mw-headline\" id=\".D0.A1.D0.BC._.D1.82.D0.B0.D0.BA.D0.B6.D0.B5\">См. также</span></h2>\n",
              "<ul><li> <a class=\"external text\" href=\"https://mipt.ru/education/chair/mathematics/study/uchebniki/\" rel=\"nofollow\">Методич. материалы Каф. ВМ</a> // МФТИ</li></ul>\n",
              "<h2><span class=\"mw-headline\" id=\".D0.9F.D1.80.D0.B5.D0.BF.D0.BE.D0.B4.D0.B0.D0.B2.D0.B0.D1.82.D0.B5.D0.BB.D0.B8_.D0.BA.D0.B0.D1.84.D0.B5.D0.B4.D1.80.D1.8B\">Преподаватели кафедры</span></h2>\n",
              "<div style=\"-moz-column-count:3; column-count:3; -webkit-column-count:3\"><ul>\n",
              "<li data-sortkey=\"А\"><a href=\"/wiki/%D0%90%D0%B3%D0%B0%D1%85%D0%B0%D0%BD%D0%BE%D0%B2_%D0%9D%D0%B0%D0%B7%D0%B0%D1%80_%D0%A5%D0%B0%D0%BD%D0%B3%D0%B5%D0%BB%D1%8C%D0%B4%D1%8B%D0%B5%D0%B2%D0%B8%D1%87\" title=\"Агаханов Назар Хангельдыевич\">Агаханов Назар Хангельдыевич</a></li>\n",
              "<li data-sortkey=\"А\"><a href=\"/wiki/%D0%90%D0%B3%D0%B0%D1%85%D0%B0%D0%BD%D0%BE%D0%B2%D0%B0_%D0%AF%D0%BD%D0%B0_%D0%A1%D0%B5%D1%80%D0%B3%D0%B5%D0%B5%D0%B2%D0%BD%D0%B0\" title=\"Агаханова Яна Сергеевна\">Агаханова Яна Сергеевна</a></li>\n",
              "<li data-sortkey=\"А\"><a href=\"/wiki/%D0%90%D0%BB%D0%B5%D0%BA%D1%81%D0%B5%D0%B5%D0%B2_%D0%92%D0%B0%D1%81%D0%B8%D0%BB%D0%B8%D0%B9_%D0%90%D0%BD%D1%82%D0%BE%D0%BD%D0%BE%D0%B2%D0%B8%D1%87\" title=\"Алексеев Василий Антонович\">Алексеев Василий Антонович</a></li>\n",
              "<li data-sortkey=\"А\"><a href=\"/wiki/%D0%90%D0%BC%D0%BE%D1%81%D0%BE%D0%B2_%D0%93%D1%80%D0%B8%D0%B3%D0%BE%D1%80%D0%B8%D0%B9_%D0%93%D0%B5%D0%BD%D0%BD%D0%B0%D0%B4%D1%8C%D0%B5%D0%B2%D0%B8%D1%87\" title=\"Амосов Григорий Геннадьевич\">Амосов Григорий Геннадьевич</a></li>\n",
              "<li data-sortkey=\"А\"><a href=\"/wiki/%D0%90%D0%BD%D0%B4%D1%80%D0%B5%D0%B5%D0%B2_%D0%9C%D0%B8%D1%85%D0%B0%D0%B8%D0%BB_%D0%AE%D1%80%D1%8C%D0%B5%D0%B2%D0%B8%D1%87\" title=\"Андреев Михаил Юрьевич\">Андреев Михаил Юрьевич</a></li>\n",
              "<li data-sortkey=\"А\"><a href=\"/wiki/%D0%90%D1%80%D1%83%D1%82%D1%8E%D0%BD%D0%BE%D0%B2_%D0%90%D0%BD%D0%B4%D1%80%D0%BE%D0%BD%D0%B8%D0%BA_%D0%90%D1%80%D0%B0%D0%BC%D0%BE%D0%B2%D0%B8%D1%87\" title=\"Арутюнов Андроник Арамович\">Арутюнов Андроник Арамович</a></li>\n",
              "<li data-sortkey=\"А\"><a href=\"/wiki/%D0%90%D1%80%D1%83%D1%82%D1%8E%D0%BD%D0%BE%D0%B2_%D0%90%D1%80%D0%B0%D0%BC_%D0%92%D0%BB%D0%B0%D0%B4%D0%B8%D0%BC%D0%B8%D1%80%D0%BE%D0%B2%D0%B8%D1%87\" title=\"Арутюнов Арам Владимирович\">Арутюнов Арам Владимирович</a></li>\n",
              "<li data-sortkey=\"А\"><a href=\"/wiki/%D0%90%D1%81%D1%82%D0%B0%D1%84%D1%83%D1%80%D0%BE%D0%B2_%D0%93%D0%BB%D0%B5%D0%B1_%D0%9E%D0%BB%D0%B5%D0%B3%D0%BE%D0%B2%D0%B8%D1%87\" title=\"Астафуров Глеб Олегович\">Астафуров Глеб Олегович</a></li>\n",
              "<li data-sortkey=\"Б\"><a href=\"/wiki/%D0%91%D0%B0%D0%BB%D0%B0%D0%B1%D0%B0%D0%BD%D0%BE%D0%B2_%D0%AE%D1%80%D0%B8%D0%B9_%D0%92%D1%8F%D1%87%D0%B5%D1%81%D0%BB%D0%B0%D0%B2%D0%BE%D0%B2%D0%B8%D1%87\" title=\"Балабанов Юрий Вячеславович\">Балабанов Юрий Вячеславович</a></li>\n",
              "<li data-sortkey=\"Б\"><a href=\"/wiki/%D0%91%D0%B0%D0%BB%D0%B8%D1%86%D0%BA%D0%B8%D0%B9_%D0%90%D0%BB%D0%B5%D0%BA%D1%81%D0%B5%D0%B9_%D0%9C%D0%B8%D1%85%D0%B0%D0%B9%D0%BB%D0%BE%D0%B2%D0%B8%D1%87\" title=\"Балицкий Алексей Михайлович\">Балицкий Алексей Михайлович</a></li>\n",
              "<li data-sortkey=\"Б\"><a href=\"/wiki/%D0%91%D0%B5%D0%BB%D1%8F%D0%B5%D0%B2_%D0%92%D0%B8%D1%81%D1%81%D0%B0%D1%80%D0%B8%D0%BE%D0%BD_%D0%92%D0%B8%D0%BA%D1%82%D0%BE%D1%80%D0%BE%D0%B2%D0%B8%D1%87\" title=\"Беляев Виссарион Викторович\">Беляев Виссарион Викторович</a></li>\n",
              "<li data-sortkey=\"Б\"><a href=\"/wiki/%D0%91%D0%B5%D0%BB%D1%8F%D0%B5%D0%B2_%D0%A1%D0%B5%D1%80%D0%B3%D0%B5%D0%B9_%D0%90%D0%BD%D0%B0%D1%82%D0%BE%D0%BB%D1%8C%D0%B5%D0%B2%D0%B8%D1%87\" title=\"Беляев Сергей Анатольевич\">Беляев Сергей Анатольевич</a></li>\n",
              "<li data-sortkey=\"Б\"><a href=\"/wiki/%D0%91%D0%B5%D1%81%D0%BE%D0%B2_%D0%9E%D0%BB%D0%B5%D0%B3_%D0%92%D0%BB%D0%B0%D0%B4%D0%B8%D0%BC%D0%B8%D1%80%D0%BE%D0%B2%D0%B8%D1%87\" title=\"Бесов Олег Владимирович\">Бесов Олег Владимирович</a></li>\n",
              "<li data-sortkey=\"Б\"><a href=\"/wiki/%D0%91%D0%B5%D1%81%D0%BF%D0%BE%D1%80%D1%82%D0%BE%D1%87%D0%BD%D1%8B%D0%B9_%D0%90%D0%BB%D0%B5%D0%BA%D1%81%D0%B0%D0%BD%D0%B4%D1%80_%D0%98%D0%B2%D0%B0%D0%BD%D0%BE%D0%B2%D0%B8%D1%87\" title=\"Беспорточный Александр Иванович\">Беспорточный Александр Иванович</a></li>\n",
              "<li data-sortkey=\"Б\"><a href=\"/wiki/%D0%91%D0%B8%D1%88%D0%B0%D0%B5%D0%B2_%D0%90%D0%BB%D0%B5%D0%BA%D1%81%D0%B0%D0%BD%D0%B4%D1%80_%D0%9C%D0%B8%D1%85%D0%B0%D0%B9%D0%BB%D0%BE%D0%B2%D0%B8%D1%87\" title=\"Бишаев Александр Михайлович\">Бишаев Александр Михайлович</a></li>\n",
              "<li data-sortkey=\"Б\"><a href=\"/wiki/%D0%91%D0%BE%D0%B3%D0%B4%D0%B0%D0%BD%D0%BE%D0%B2_%D0%98%D0%BB%D1%8C%D1%8F_%D0%98%D0%B3%D0%BE%D1%80%D0%B5%D0%B2%D0%B8%D1%87\" title=\"Богданов Илья Игоревич\">Богданов Илья Игоревич</a></li>\n",
              "<li data-sortkey=\"Б\"><a href=\"/wiki/%D0%91%D0%BE%D0%B3%D0%BE%D0%B2%D1%81%D0%BA%D0%B8%D0%B9_%D0%9C%D0%B8%D1%85%D0%B0%D0%B8%D0%BB_%D0%95%D0%B2%D0%B3%D0%B5%D0%BD%D1%8C%D0%B5%D0%B2%D0%B8%D1%87\" title=\"Боговский Михаил Евгеньевич\">Боговский Михаил Евгеньевич</a></li>\n",
              "<li data-sortkey=\"Б\"><a href=\"/wiki/%D0%91%D1%80%D0%B0%D0%BD%D0%B8%D1%86%D0%BA%D0%B0%D1%8F_%D0%9B%D0%B8%D0%B4%D0%B8%D1%8F_%D0%9B%D0%B5%D0%BE%D0%BD%D0%B8%D0%B4%D0%BE%D0%B2%D0%BD%D0%B0\" title=\"Браницкая Лидия Леонидовна\">Браницкая Лидия Леонидовна</a></li>\n",
              "<li data-sortkey=\"Б\"><a href=\"/wiki/%D0%91%D1%83%D0%BB%D0%B8%D0%BD%D1%81%D0%BA%D0%B8%D0%B9_%D0%90%D0%BD%D0%B4%D1%80%D0%B5%D0%B9_%D0%92%D0%B0%D0%B4%D0%B8%D0%BC%D0%BE%D0%B2%D0%B8%D1%87\" title=\"Булинский Андрей Вадимович\">Булинский Андрей Вадимович</a></li>\n",
              "<li data-sortkey=\"Б\"><a href=\"/wiki/%D0%91%D1%83%D0%BD%D0%B0%D0%BA%D0%BE%D0%B2_%D0%90%D0%BD%D0%B4%D1%80%D0%B5%D0%B9_%D0%AD%D1%80%D0%B8%D0%BA%D0%BE%D0%B2%D0%B8%D1%87\" title=\"Бунаков Андрей Эрикович\">Бунаков Андрей Эрикович</a></li>\n",
              "<li data-sortkey=\"Б\"><a href=\"/wiki/%D0%91%D1%83%D1%80%D0%BC%D0%B8%D1%81%D1%82%D1%80%D0%BE%D0%B2_%D0%90%D0%BB%D0%B5%D0%BA%D1%81%D0%B0%D0%BD%D0%B4%D1%80_%D0%9D%D0%B8%D0%BA%D0%BE%D0%BB%D0%B0%D0%B5%D0%B2%D0%B8%D1%87\" title=\"Бурмистров Александр Николаевич\">Бурмистров Александр Николаевич</a></li>\n",
              "<li data-sortkey=\"Б\"><a href=\"/wiki/%D0%91%D1%83%D1%80%D1%81%D0%BA%D0%B8%D0%B9_%D0%92%D0%BB%D0%B0%D0%B4%D0%B8%D0%BC%D0%B8%D1%80_%D0%9F%D0%B5%D1%82%D1%80%D0%BE%D0%B2%D0%B8%D1%87\" title=\"Бурский Владимир Петрович\">Бурский Владимир Петрович</a></li>\n",
              "<li data-sortkey=\"Б\"><a href=\"/wiki/%D0%91%D1%83%D1%80%D1%86%D0%B5%D0%B2_%D0%90%D0%BB%D0%B5%D0%BA%D1%81%D0%B5%D0%B9_%D0%90%D0%BD%D0%B0%D1%82%D0%BE%D0%BB%D1%8C%D0%B5%D0%B2%D0%B8%D1%87\" title=\"Бурцев Алексей Анатольевич\">Бурцев Алексей Анатольевич</a></li>\n",
              "<li data-sortkey=\"Б\"><a href=\"/wiki/%D0%91%D1%8B%D1%87%D0%BA%D0%BE%D0%B2_%D0%90%D0%BB%D0%B5%D0%BA%D1%81%D0%B5%D0%B9_%D0%A1%D1%82%D0%B0%D0%BD%D0%B8%D1%81%D0%BB%D0%B0%D0%B2%D0%BE%D0%B2%D0%B8%D1%87\" title=\"Бычков Алексей Станиславович\">Бычков Алексей Станиславович</a></li>\n",
              "<li data-sortkey=\"В\"><a href=\"/wiki/%D0%92%D0%B8%D1%81%D0%BA%D0%BE%D0%B2_%D0%9E%D0%BB%D0%B5%D0%B3_%D0%92%D0%B8%D0%BA%D1%82%D0%BE%D1%80%D0%BE%D0%B2%D0%B8%D1%87\" title=\"Висков Олег Викторович\">Висков Олег Викторович</a></li>\n",
              "<li data-sortkey=\"В\"><a href=\"/wiki/%D0%92%D0%BE%D0%BB%D0%BA%D0%BE%D0%B2_%D0%91%D0%BE%D1%80%D0%B8%D1%81_%D0%9E%D0%BB%D0%B5%D0%B3%D0%BE%D0%B2%D0%B8%D1%87\" title=\"Волков Борис Олегович\">Волков Борис Олегович</a></li>\n",
              "<li data-sortkey=\"Г\"><a href=\"/wiki/%D0%93%D0%B0%D0%B1%D0%B4%D1%83%D1%80%D0%B0%D1%84%D0%B8%D0%BA%D0%BE%D0%B2%D0%B0_(%D0%9A%D0%BE%D1%87%D0%B5%D1%80%D0%BE%D0%B2%D0%B0)_%D0%90%D0%BD%D0%BD%D0%B0_%D0%A1%D0%B5%D1%80%D0%B3%D0%B5%D0%B5%D0%B2%D0%BD%D0%B0\" title=\"Габдурафикова (Кочерова) Анна Сергеевна\">Габдурафикова (Кочерова) Анна Сергеевна</a></li>\n",
              "<li data-sortkey=\"Г\"><a href=\"/wiki/%D0%93%D0%B0%D1%80%D0%B1%D0%B5%D1%80_%D0%90%D0%BB%D0%B5%D0%BA%D1%81%D0%B5%D0%B9_%D0%98%D0%B3%D0%BE%D1%80%D0%B5%D0%B2%D0%B8%D1%87\" title=\"Гарбер Алексей Игоревич\">Гарбер Алексей Игоревич</a></li>\n",
              "<li data-sortkey=\"Г\"><a href=\"/wiki/%D0%93%D0%B8%D0%BC%D0%B0%D0%B4%D0%B5%D0%B5%D0%B2_%D0%A0%D0%B5%D0%BD%D0%B0%D1%82_%D0%90%D0%B9%D1%80%D0%B0%D1%82%D0%BE%D0%B2%D0%B8%D1%87\" title=\"Гимадеев Ренат Айратович\">Гимадеев Ренат Айратович</a></li>\n",
              "<li data-sortkey=\"Г\"><a href=\"/wiki/%D0%93%D0%BB%D1%83%D1%85%D0%BE%D0%B2_%D0%98%D0%BB%D1%8C%D1%8F_%D0%92%D0%B8%D0%BA%D1%82%D0%BE%D1%80%D0%BE%D0%B2%D0%B8%D1%87\" title=\"Глухов Илья Викторович\">Глухов Илья Викторович</a></li>\n",
              "<li data-sortkey=\"Г\"><a href=\"/wiki/%D0%93%D0%BE%D0%BB%D0%BE%D0%B2%D0%B0%D0%BD%D0%BE%D0%B2_%D0%AE%D1%80%D0%B8%D0%B9_%D0%92%D1%8F%D1%87%D0%B5%D1%81%D0%BB%D0%B0%D0%B2%D0%BE%D0%B2%D0%B8%D1%87\" title=\"Голованов Юрий Вячеславович\">Голованов Юрий Вячеславович</a></li>\n",
              "<li data-sortkey=\"Г\"><a href=\"/wiki/%D0%93%D0%BE%D0%BB%D0%BE%D0%B2%D0%BA%D0%BE_%D0%90%D0%BD%D0%B4%D1%80%D0%B5%D0%B9_%D0%AE%D1%80%D1%8C%D0%B5%D0%B2%D0%B8%D1%87\" title=\"Головко Андрей Юрьевич\">Головко Андрей Юрьевич</a></li>\n",
              "<li data-sortkey=\"Г\"><a href=\"/wiki/%D0%93%D0%BE%D0%BB%D1%83%D0%B1%D0%B5%D0%B2_%D0%9C%D0%B0%D0%BA%D1%81%D0%B8%D0%BC_%D0%9E%D0%BB%D0%B5%D0%B3%D0%BE%D0%B2%D0%B8%D1%87\" title=\"Голубев Максим Олегович\">Голубев Максим Олегович</a></li>\n",
              "<li data-sortkey=\"Г\"><a href=\"/wiki/%D0%93%D0%BE%D0%BB%D1%83%D0%B1%D0%BE%D0%B2_%D0%91%D0%BE%D1%80%D0%B8%D1%81_%D0%98%D0%B2%D0%B0%D0%BD%D0%BE%D0%B2%D0%B8%D1%87\" title=\"Голубов Борис Иванович\">Голубов Борис Иванович</a></li>\n",
              "<li data-sortkey=\"Г\"><a href=\"/wiki/%D0%93%D0%BE%D1%80%D0%BE%D0%B4%D0%B5%D1%86%D0%BA%D0%B8%D0%B9_%D0%A1%D0%B5%D1%80%D0%B3%D0%B5%D0%B9_%D0%95%D0%B2%D0%B3%D0%B5%D0%BD%D1%8C%D0%B5%D0%B2%D0%B8%D1%87\" title=\"Городецкий Сергей Евгеньевич\">Городецкий Сергей Евгеньевич</a></li>\n",
              "<li data-sortkey=\"Г\"><a href=\"/wiki/%D0%93%D0%BE%D1%80%D1%8F%D0%B9%D0%BD%D0%BE%D0%B2_%D0%92%D0%B8%D0%BA%D1%82%D0%BE%D1%80_%D0%92%D0%BB%D0%B0%D0%B4%D0%B8%D0%BC%D0%B8%D1%80%D0%BE%D0%B2%D0%B8%D1%87\" title=\"Горяйнов Виктор Владимирович\">Горяйнов Виктор Владимирович</a></li>\n",
              "<li data-sortkey=\"Г\"><a href=\"/wiki/%D0%93%D1%80%D0%B8%D0%BD%D0%B5%D0%B2%D0%B8%D1%87_%D0%90%D0%BB%D0%B5%D0%BA%D1%81%D0%B5%D0%B9_%D0%98%D0%B2%D0%B0%D0%BD%D0%BE%D0%B2%D0%B8%D1%87\" title=\"Гриневич Алексей Иванович\">Гриневич Алексей Иванович</a></li>\n",
              "<li data-sortkey=\"Г\"><a href=\"/wiki/%D0%93%D1%80%D0%B8%D1%86%D0%B5%D0%BD%D0%BA%D0%BE_%D0%A1%D0%B5%D1%80%D0%B3%D0%B5%D0%B9_%D0%90%D0%BB%D0%B5%D0%BA%D1%81%D0%B0%D0%BD%D0%B4%D1%80%D0%BE%D0%B2%D0%B8%D1%87\" title=\"Гриценко Сергей Александрович\">Гриценко Сергей Александрович</a></li>\n",
              "<li data-sortkey=\"Г\"><a href=\"/wiki/%D0%93%D1%83%D0%BB%D1%8C%D0%B4%D0%B0%D1%80%D1%8C%D1%8F_%D0%A8%D0%B0%D0%BC%D0%B1%D0%B8%D0%BB%D0%BE%D0%B2%D0%B0\" title=\"Гульдарья Шамбилова\">Гульдарья Шамбилова</a></li>\n",
              "<li data-sortkey=\"Г\"><a href=\"/wiki/%D0%93%D1%83%D1%81%D0%B5%D0%B2_%D0%9D%D0%B8%D0%BA%D0%BE%D0%BB%D0%B0%D0%B9_%D0%90%D0%BD%D0%B0%D1%82%D0%BE%D0%BB%D1%8C%D0%B5%D0%B2%D0%B8%D1%87\" title=\"Гусев Николай Анатольевич\">Гусев Николай Анатольевич</a></li>\n",
              "<li data-sortkey=\"Г\"><a href=\"/wiki/%D0%93%D1%83%D1%81%D1%8F%D1%82%D0%BD%D0%B8%D0%BA%D0%BE%D0%B2_%D0%9F%D1%91%D1%82%D1%80_%D0%91%D0%BE%D1%80%D0%B8%D1%81%D0%BE%D0%B2%D0%B8%D1%87\" title=\"Гусятников Пётр Борисович\">Гусятников Пётр Борисович</a></li>\n",
              "<li data-sortkey=\"Г\"><a href=\"/wiki/%D0%93%D1%83%D1%89%D0%B8%D0%BD_%D0%92%D0%B0%D0%BB%D0%B5%D0%BD%D1%82%D0%B8%D0%BD_%D0%90%D0%BD%D0%B0%D1%82%D0%BE%D0%BB%D1%8C%D0%B5%D0%B2%D0%B8%D1%87\" title=\"Гущин Валентин Анатольевич\">Гущин Валентин Анатольевич</a></li>\n",
              "<li data-sortkey=\"Г\"><a href=\"/wiki/%D0%93%D1%83%D1%89%D0%B8%D0%BD_%D0%94%D0%BC%D0%B8%D1%82%D1%80%D0%B8%D0%B9_%D0%94%D0%B5%D0%BD%D0%B8%D1%81%D0%BE%D0%B2%D0%B8%D1%87\" title=\"Гущин Дмитрий Денисович\">Гущин Дмитрий Денисович</a></li>\n",
              "<li data-sortkey=\"Д\"><a href=\"/wiki/%D0%94%D0%BD%D0%B5%D1%81%D1%82%D1%80%D1%8F%D0%BD_%D0%90%D0%BD%D0%B4%D1%80%D0%B5%D0%B9_%D0%98%D0%B3%D0%BE%D1%80%D0%B5%D0%B2%D0%B8%D1%87\" title=\"Днестрян Андрей Игоревич\">Днестрян Андрей Игоревич</a></li>\n",
              "<li data-sortkey=\"Д\"><a href=\"/wiki/%D0%94%D0%BE%D0%BC%D1%8B%D1%88%D0%B5%D0%B2%D0%B0_%D0%9B%D1%8E%D0%B4%D0%BC%D0%B8%D0%BB%D0%B0_%D0%9D%D0%B8%D0%BA%D0%BE%D0%BB%D0%B0%D0%B5%D0%B2%D0%BD%D0%B0\" title=\"Домышева Людмила Николаевна\">Домышева Людмила Николаевна</a></li>\n",
              "<li data-sortkey=\"Д\"><a href=\"/wiki/%D0%94%D1%83%D0%B1%D0%B8%D0%BD%D1%81%D0%BA%D0%B0%D1%8F_%D0%92%D0%B5%D1%80%D0%B0_%D0%AE%D0%BB%D1%8C%D0%B5%D0%B2%D0%BD%D0%B0\" title=\"Дубинская Вера Юльевна\">Дубинская Вера Юльевна</a></li>\n",
              "<li data-sortkey=\"Д\"><a href=\"/wiki/%D0%94%D1%8B%D0%BC%D0%B0%D1%80%D1%81%D0%BA%D0%B8%D0%B9_%D0%AF%D0%BA%D0%BE%D0%B2_%D0%9C%D0%B8%D1%85%D0%B0%D0%B9%D0%BB%D0%BE%D0%B2%D0%B8%D1%87\" title=\"Дымарский Яков Михайлович\">Дымарский Яков Михайлович</a></li>\n",
              "<li data-sortkey=\"Д\"><a href=\"/wiki/%D0%94%D1%8C%D1%8F%D1%87%D0%BA%D0%BE%D0%B2_%D0%90%D0%BB%D0%B5%D0%BA%D1%81%D0%B0%D0%BD%D0%B4%D1%80_%D0%9C%D0%B8%D1%85%D0%B0%D0%B9%D0%BB%D0%BE%D0%B2%D0%B8%D1%87\" title=\"Дьячков Александр Михайлович\">Дьячков Александр Михайлович</a></li>\n",
              "<li data-sortkey=\"Е\"><a href=\"/wiki/%D0%95%D0%B3%D0%BE%D1%80%D0%BE%D0%B2_%D0%90%D0%BB%D0%B5%D0%BA%D1%81%D0%B0%D0%BD%D0%B4%D1%80_%D0%98%D0%B2%D0%B0%D0%BD%D0%BE%D0%B2%D0%B8%D1%87\" title=\"Егоров Александр Иванович\">Егоров Александр Иванович</a></li>\n",
              "<li data-sortkey=\"Е\"><a href=\"/wiki/%D0%95%D1%80%D1%88%D0%BE%D0%B2_%D0%90%D0%BD%D0%B4%D1%80%D0%B5%D0%B9_%D0%92%D0%BB%D0%B0%D0%B4%D0%B8%D0%BC%D0%B8%D1%80%D0%BE%D0%B2%D0%B8%D1%87\" title=\"Ершов Андрей Владимирович\">Ершов Андрей Владимирович</a></li>\n",
              "<li data-sortkey=\"Ж\"><a href=\"/wiki/%D0%96%D0%B4%D0%B0%D0%BD%D0%BE%D0%B2%D1%81%D0%BA%D0%B8%D0%B9_%D0%98%D0%BB%D1%8C%D1%8F_%D0%AE%D1%80%D1%8C%D0%B5%D0%B2%D0%B8%D1%87\" title=\"Ждановский Илья Юрьевич\">Ждановский Илья Юрьевич</a></li>\n",
              "<li data-sortkey=\"Ж\"><a href=\"/wiki/%D0%96%D0%B5%D1%81%D1%82%D0%BA%D0%BE%D0%B2_%D0%A1%D0%B5%D1%80%D0%B3%D0%B5%D0%B9_%D0%90%D0%BD%D0%B4%D1%80%D0%B5%D0%B5%D0%B2%D0%B8%D1%87\" title=\"Жестков Сергей Андреевич\">Жестков Сергей Андреевич</a></li>\n",
              "<li data-sortkey=\"Ж\"><a href=\"/wiki/%D0%96%D0%B8%D0%B2%D0%BE%D1%82%D0%BE%D0%B2_%D0%A1%D0%B5%D1%80%D0%B3%D0%B5%D0%B9_%D0%94%D0%BC%D0%B8%D1%82%D1%80%D0%B8%D0%B5%D0%B2%D0%B8%D1%87\" title=\"Животов Сергей Дмитриевич\">Животов Сергей Дмитриевич</a></li>\n",
              "<li data-sortkey=\"З\"><a href=\"/wiki/%D0%97%D0%B0%D0%B2%D0%B0%D0%B4%D1%81%D0%BA%D0%B8%D0%B9_%D0%94%D0%BC%D0%B8%D1%82%D1%80%D0%B8%D0%B9_%D0%92%D0%B8%D0%BA%D1%82%D0%BE%D1%80%D0%BE%D0%B2%D0%B8%D1%87\" title=\"Завадский Дмитрий Викторович\">Завадский Дмитрий Викторович</a></li>\n",
              "<li data-sortkey=\"З\"><a href=\"/wiki/%D0%97%D0%B0%D0%B3%D1%80%D1%8F%D0%B4%D1%81%D0%BA%D0%B8%D0%B9_%D0%9E%D0%BB%D0%B5%D0%B3_%D0%90%D0%BB%D0%B5%D0%BA%D1%81%D0%B0%D0%BD%D0%B4%D1%80%D0%BE%D0%B2%D0%B8%D1%87\" title=\"Загрядский Олег Александрович\">Загрядский Олег Александрович</a></li>\n",
              "<li data-sortkey=\"З\"><a href=\"/wiki/%D0%97%D0%B4%D0%BE%D1%80_%D0%90%D0%BB%D0%B5%D0%BA%D1%81%D0%B0%D0%BD%D0%B4%D1%80_%D0%93%D0%B5%D0%BD%D0%BD%D0%B0%D0%B4%D1%8C%D0%B5%D0%B2%D0%B8%D1%87\" title=\"Здор Александр Геннадьевич\">Здор Александр Геннадьевич</a></li>\n",
              "<li data-sortkey=\"З\"><a href=\"/wiki/%D0%97%D0%BD%D0%B0%D0%BC%D0%B5%D0%BD%D1%81%D0%BA%D0%B0%D1%8F_%D0%9B%D1%8E%D0%B4%D0%BC%D0%B8%D0%BB%D0%B0_%D0%9D%D0%B8%D0%BA%D0%BE%D0%BB%D0%B0%D0%B5%D0%B2%D0%BD%D0%B0\" title=\"Знаменская Людмила Николаевна\">Знаменская Людмила Николаевна</a></li>\n",
              "<li data-sortkey=\"З\"><a href=\"/wiki/%D0%97%D1%83%D0%B1%D0%BE%D0%B2_%D0%92%D0%BB%D0%B0%D0%B4%D0%B8%D0%BC%D0%B8%D1%80_%D0%98%D0%B2%D0%B0%D0%BD%D0%BE%D0%B2%D0%B8%D1%87\" title=\"Зубов Владимир Иванович\">Зубов Владимир Иванович</a></li>\n",
              "<li data-sortkey=\"З\"><a href=\"/wiki/%D0%97%D1%83%D1%85%D0%B1%D0%B0_%D0%A0%D0%B0%D1%81%D0%B8%D0%BC_%D0%94%D0%B0%D1%83%D1%80%D0%BE%D0%B2%D0%B8%D1%87\" title=\"Зухба Расим Даурович\">Зухба Расим Даурович</a></li>\n",
              "<li data-sortkey=\"И\"><a href=\"/wiki/%D0%98%D0%B2%D0%B0%D0%BD%D0%BE%D0%B2_%D0%93%D1%80%D0%B8%D0%B3%D0%BE%D1%80%D0%B8%D0%B9_%D0%95%D0%B2%D0%B3%D0%B5%D0%BD%D1%8C%D0%B5%D0%B2%D0%B8%D1%87\" title=\"Иванов Григорий Евгеньевич\">Иванов Григорий Евгеньевич</a></li>\n",
              "<li data-sortkey=\"И\"><a href=\"/wiki/%D0%98%D0%B2%D0%B0%D0%BD%D0%BE%D0%B2_%D0%93%D1%80%D0%B8%D0%B3%D0%BE%D1%80%D0%B8%D0%B9_%D0%9C%D0%B8%D1%85%D0%B0%D0%B9%D0%BB%D0%BE%D0%B2%D0%B8%D1%87\" title=\"Иванов Григорий Михайлович\">Иванов Григорий Михайлович</a></li>\n",
              "<li data-sortkey=\"И\"><a href=\"/wiki/%D0%98%D0%B2%D0%B0%D0%BD%D0%BE%D0%B2%D0%B0_%D0%A1%D0%B2%D0%B5%D1%82%D0%BB%D0%B0%D0%BD%D0%B0_%D0%92%D0%BB%D0%B0%D0%B4%D0%B8%D0%BC%D0%B8%D1%80%D0%BE%D0%B2%D0%BD%D0%B0\" title=\"Иванова Светлана Владимировна\">Иванова Светлана Владимировна</a></li>\n",
              "<li data-sortkey=\"К\"><a href=\"/wiki/%D0%9A%D0%B0%D0%BB%D0%B0%D1%88%D0%BD%D0%B8%D0%BA%D0%BE%D0%B2_%D0%A1%D0%B5%D1%80%D0%B3%D0%B5%D0%B9_%D0%92%D0%BB%D0%B0%D0%B4%D0%B8%D0%BC%D0%B8%D1%80%D0%BE%D0%B2%D0%B8%D1%87\" title=\"Калашников Сергей Владимирович\">Калашников Сергей Владимирович</a></li>\n",
              "<li data-sortkey=\"К\"><a href=\"/wiki/%D0%9A%D0%B0%D0%BB%D0%B8%D0%BD%D0%B8%D1%87%D0%B5%D0%BD%D0%BA%D0%BE_%D0%90%D1%80%D1%82%D1%91%D0%BC_%D0%90%D0%BB%D0%B5%D0%BA%D1%81%D0%B0%D0%BD%D0%B4%D1%80%D0%BE%D0%B2%D0%B8%D1%87\" title=\"Калиниченко Артём Александрович\">Калиниченко Артём Александрович</a></li>\n",
              "<li data-sortkey=\"К\"><a href=\"/wiki/%D0%9A%D0%B0%D0%BB%D1%8C%D0%BC%D0%B5%D1%82%D1%8C%D0%B5%D0%B2_%D0%A0%D1%83%D1%81%D1%82%D0%B5%D0%BC_%D0%A8%D0%B0%D0%B9%D0%BD%D1%83%D1%80%D0%BE%D0%B2%D0%B8%D1%87\" title=\"Кальметьев Рустем Шайнурович\">Кальметьев Рустем Шайнурович</a></li>\n",
              "<li data-sortkey=\"К\"><a href=\"/wiki/%D0%9A%D0%B0%D0%BF%D1%80%D0%B0%D0%BB%D0%BE%D0%B2_%D0%9A%D0%B8%D1%80%D0%B8%D0%BB%D0%BB_%D0%9D%D0%B8%D0%BA%D0%BE%D0%BB%D0%B0%D0%B5%D0%B2%D0%B8%D1%87\" title=\"Капралов Кирилл Николаевич\">Капралов Кирилл Николаевич</a></li>\n",
              "<li data-sortkey=\"К\"><a href=\"/wiki/%D0%9A%D0%B0%D1%80%D0%B0%D1%81%D1%91%D0%B2_%D0%A0%D0%BE%D0%BC%D0%B0%D0%BD_%D0%9D%D0%B8%D0%BA%D0%BE%D0%BB%D0%B0%D0%B5%D0%B2%D0%B8%D1%87\" title=\"Карасёв Роман Николаевич\">Карасёв Роман Николаевич</a></li>\n",
              "<li data-sortkey=\"К\"><a href=\"/wiki/%D0%9A%D0%B0%D1%80%D0%B6%D0%B5%D0%BC%D0%B0%D0%BD%D0%BE%D0%B2_%D0%98%D0%BB%D1%8C%D1%8F_%D0%92%D1%8F%D1%87%D0%B5%D1%81%D0%BB%D0%B0%D0%B2%D0%BE%D0%B2%D0%B8%D1%87\" title=\"Каржеманов Илья Вячеславович\">Каржеманов Илья Вячеславович</a></li>\n",
              "<li data-sortkey=\"К\"><a href=\"/wiki/%D0%9A%D0%B0%D1%80%D0%BB%D0%BE%D0%B2_%D0%9C%D0%B8%D1%85%D0%B0%D0%B8%D0%BB_%D0%98%D0%B2%D0%B0%D0%BD%D0%BE%D0%B2%D0%B8%D1%87\" title=\"Карлов Михаил Иванович\">Карлов Михаил Иванович</a></li>\n",
              "<li data-sortkey=\"К\"><a href=\"/wiki/%D0%9A%D0%B8%D1%80%D0%B5%D0%B5%D0%BD%D0%BA%D0%BE%D0%B2_%D0%90%D0%BB%D0%B5%D0%BA%D1%81%D0%B5%D0%B9_%D0%90%D0%BB%D1%8C%D0%B1%D0%B5%D1%80%D1%82%D0%BE%D0%B2%D0%B8%D1%87\" title=\"Киреенков Алексей Альбертович\">Киреенков Алексей Альбертович</a></li>\n",
              "<li data-sortkey=\"К\"><a href=\"/wiki/%D0%9A%D0%BE%D0%B2%D0%B0%D0%BB%D1%91%D0%B2_%D0%92%D0%B8%D1%82%D0%B0%D0%BB%D0%B8%D0%B9_%D0%9F%D0%B5%D1%82%D1%80%D0%BE%D0%B2%D0%B8%D1%87\" title=\"Ковалёв Виталий Петрович\">Ковалёв Виталий Петрович</a></li>\n",
              "<li data-sortkey=\"К\"><a href=\"/wiki/%D0%9A%D0%BE%D0%B6%D0%B5%D0%B2%D0%BD%D0%B8%D0%BA%D0%BE%D0%B2_%D0%9F%D0%B0%D0%B2%D0%B5%D0%BB_%D0%90%D0%BB%D0%B5%D0%BA%D1%81%D0%B0%D0%BD%D0%B4%D1%80%D0%BE%D0%B2%D0%B8%D1%87\" title=\"Кожевников Павел Александрович\">Кожевников Павел Александрович</a></li>\n",
              "<li data-sortkey=\"К\"><a href=\"/wiki/%D0%9A%D0%BE%D0%B7%D0%B8%D1%86%D0%B8%D0%BD_%D0%98%D0%B2%D0%B0%D0%BD_%D0%92%D0%BB%D0%B0%D0%B4%D0%B8%D0%BC%D0%B8%D1%80%D0%BE%D0%B2%D0%B8%D1%87\" title=\"Козицин Иван Владимирович\">Козицин Иван Владимирович</a></li>\n",
              "<li data-sortkey=\"К\"><a href=\"/wiki/%D0%9A%D0%BE%D0%BD%D0%B4%D1%80%D0%B0%D1%88%D0%BE%D0%B2_%D0%9E%D0%BB%D0%B5%D0%B3_%D0%92%D0%B0%D1%81%D0%B8%D0%BB%D1%8C%D0%B5%D0%B2%D0%B8%D1%87\" title=\"Кондрашов Олег Васильевич\">Кондрашов Олег Васильевич</a></li>\n",
              "<li data-sortkey=\"К\"><a href=\"/wiki/%D0%9A%D0%BE%D0%BD%D0%BE%D0%B2%D0%B0%D0%BB%D0%BE%D0%B2_%D0%A1%D0%B5%D1%80%D0%B3%D0%B5%D0%B9_%D0%9F%D0%B5%D1%82%D1%80%D0%BE%D0%B2%D0%B8%D1%87\" title=\"Коновалов Сергей Петрович\">Коновалов Сергей Петрович</a></li>\n",
              "<li data-sortkey=\"К\"><a href=\"/wiki/%D0%9A%D0%BE%D0%BD%D1%81%D1%82%D0%B0%D0%BD%D1%82%D0%B8%D0%BD%D0%BE%D0%B2_%D0%A0%D0%BE%D0%BC%D0%B0%D0%BD_%D0%92%D0%B8%D0%BA%D1%82%D0%BE%D1%80%D0%BE%D0%B2%D0%B8%D1%87\" title=\"Константинов Роман Викторович\">Константинов Роман Викторович</a></li>\n",
              "<li data-sortkey=\"К\"><a href=\"/wiki/%D0%9A%D0%BE%D1%80%D0%BE%D0%BB%D1%91%D0%B2_%D0%9D%D0%B8%D0%BA%D0%BE%D0%BB%D0%B0%D0%B9_%D0%AE%D1%80%D1%8C%D0%B5%D0%B2%D0%B8%D1%87\" title=\"Королёв Николай Юрьевич\">Королёв Николай Юрьевич</a></li>\n",
              "<li data-sortkey=\"К\"><a href=\"/wiki/%D0%9A%D0%BE%D1%80%D0%BE%D1%82%D0%B5%D0%B5%D0%B2_%D0%9C%D0%B0%D0%BA%D1%81%D0%B8%D0%BC_%D0%92%D0%B0%D0%BB%D0%B5%D1%80%D1%8C%D0%B5%D0%B2%D0%B8%D1%87\" title=\"Коротеев Максим Валерьевич\">Коротеев Максим Валерьевич</a></li>\n",
              "<li data-sortkey=\"К\"><a href=\"/wiki/%D0%9A%D1%80%D1%8B%D0%BC%D0%BE%D0%B2_%D0%A0%D0%BE%D0%BC%D0%B0%D0%BD_%D0%90%D0%BB%D0%B5%D0%BA%D1%81%D0%B5%D0%B5%D0%B2%D0%B8%D1%87\" title=\"Крымов Роман Алексеевич\">Крымов Роман Алексеевич</a></li>\n",
              "<li data-sortkey=\"К\"><a href=\"/wiki/%D0%9A%D1%83%D0%B7%D0%BD%D0%B5%D1%86%D0%BE%D0%B2_%D0%90%D0%BB%D0%B5%D0%BA%D1%81%D0%B0%D0%BD%D0%B4%D1%80_%D0%90%D0%BB%D0%B5%D0%BA%D1%81%D0%B5%D0%B5%D0%B2%D0%B8%D1%87\" title=\"Кузнецов Александр Алексеевич\">Кузнецов Александр Алексеевич</a></li>\n",
              "<li data-sortkey=\"К\"><a href=\"/wiki/%D0%9A%D1%83%D0%B7%D0%BE%D0%B2%D0%BA%D0%B8%D0%BD_%D0%94%D0%BC%D0%B8%D1%82%D1%80%D0%B8%D0%B9_%D0%9F%D0%B5%D1%82%D1%80%D0%BE%D0%B2%D0%B8%D1%87\" title=\"Кузовкин Дмитрий Петрович\">Кузовкин Дмитрий Петрович</a></li>\n",
              "<li data-sortkey=\"К\"><a href=\"/wiki/%D0%9A%D1%83%D0%B7%D1%8C%D0%BC%D0%B5%D0%BD%D0%BA%D0%BE_%D0%AE%D1%80%D0%B8%D0%B9_%D0%92%D0%BB%D0%B0%D0%B4%D0%B8%D0%BC%D0%B8%D1%80%D0%BE%D0%B2%D0%B8%D1%87\" title=\"Кузьменко Юрий Владимирович\">Кузьменко Юрий Владимирович</a></li>\n",
              "<li data-sortkey=\"К\"><a href=\"/wiki/%D0%9A%D1%83%D0%BB%D0%B8%D0%BA%D0%BE%D0%B2_%D0%90%D0%BB%D0%B5%D0%BA%D1%81%D0%B0%D0%BD%D0%B4%D1%80_%D0%92%D0%BB%D0%B0%D0%B4%D0%B8%D0%BC%D0%B8%D1%80%D0%BE%D0%B2%D0%B8%D1%87\" title=\"Куликов Александр Владимирович\">Куликов Александр Владимирович</a></li>\n",
              "<li data-sortkey=\"К\"><a href=\"/wiki/%D0%9A%D1%83%D1%80%D0%BE%D1%87%D0%BA%D0%B8%D0%BD%D0%B0_%D0%9B%D0%B8%D0%B0%D0%BD%D0%B0_%D0%92%D0%B0%D1%81%D0%B8%D0%BB%D1%8C%D0%B5%D0%B2%D0%BD%D0%B0\" title=\"Курочкина Лиана Васильевна\">Курочкина Лиана Васильевна</a></li>\n",
              "<li data-sortkey=\"Л\"><a href=\"/wiki/%D0%9B%D0%B0%D0%BF%D0%B8%D0%BA_%D0%9C%D0%B0%D1%80%D0%B8%D1%8F_%D0%90%D0%BB%D0%B5%D0%BA%D1%81%D0%B0%D0%BD%D0%B4%D1%80%D0%BE%D0%B2%D0%BD%D0%B0\" title=\"Лапик Мария Александровна\">Лапик Мария Александровна</a></li>\n",
              "<li data-sortkey=\"Л\"><a href=\"/wiki/%D0%9B%D0%B0%D0%BF%D0%BA%D0%BE_%D0%A1%D0%B5%D1%80%D0%B3%D0%B5%D0%B9_%D0%92%D0%B5%D0%BD%D0%B8%D0%B0%D0%BC%D0%B8%D0%BD%D0%BE%D0%B2%D0%B8%D1%87\" title=\"Лапко Сергей Вениаминович\">Лапко Сергей Вениаминович</a></li>\n",
              "<li data-sortkey=\"Л\"><a href=\"/wiki/%D0%9B%D0%B5%D0%BE%D0%BD%D1%82%D1%8C%D0%B5%D0%B2%D0%B0_%D0%9B%D0%B0%D1%80%D0%B8%D1%81%D0%B0_%D0%90%D0%BB%D0%B5%D0%BA%D1%81%D0%B5%D0%B5%D0%B2%D0%BD%D0%B0\" title=\"Леонтьева Лариса Алексеевна\">Леонтьева Лариса Алексеевна</a></li>\n",
              "<li data-sortkey=\"Л\"><a href=\"/wiki/%D0%9B%D0%B8%D0%B7%D1%83%D0%BD%D0%BE%D0%B2_%D0%90%D0%BD%D1%82%D0%BE%D0%BD_%D0%AE%D1%80%D1%8C%D0%B5%D0%B2%D0%B8%D1%87\" title=\"Лизунов Антон Юрьевич\">Лизунов Антон Юрьевич</a></li>\n",
              "<li data-sortkey=\"Л\"><a href=\"/wiki/%D0%9B%D0%BE%D0%BF%D1%83%D1%88%D0%B0%D0%BD%D1%81%D0%BA%D0%B8_%D0%9C%D0%B0%D1%80%D0%B8%D0%B0%D0%BD%D0%B0_%D0%A1%D0%B5%D1%80%D0%B3%D0%B5%D0%B5%D0%B2%D0%BD%D0%B0\" title=\"Лопушански Мариана Сергеевна\">Лопушански Мариана Сергеевна</a></li>\n",
              "<li data-sortkey=\"Л\"><a href=\"/wiki/%D0%9B%D1%83%D0%BA%D0%B0%D1%88%D0%BE%D0%B2_%D0%90%D0%BB%D0%B5%D0%BA%D1%81%D0%B5%D0%B9_%D0%9B%D0%B5%D0%BE%D0%BD%D0%B8%D0%B4%D0%BE%D0%B2%D0%B8%D1%87\" title=\"Лукашов Алексей Леонидович\">Лукашов Алексей Леонидович</a></li>\n",
              "<li data-sortkey=\"Л\"><a href=\"/wiki/%D0%9B%D1%83%D0%BD%D0%B8%D0%BD%D0%B0_%D0%9C%D0%B0%D1%80%D0%B8%D1%8F_%D0%90%D0%BB%D0%B5%D0%BA%D1%81%D0%B0%D0%BD%D0%B4%D1%80%D0%BE%D0%B2%D0%BD%D0%B0\" title=\"Лунина Мария Александровна\">Лунина Мария Александровна</a></li>\n",
              "<li data-sortkey=\"Л\"><a href=\"/wiki/%D0%9B%D1%8B%D1%81%D0%BE%D0%B2_%D0%92%D0%BB%D0%B0%D0%B4%D0%B8%D0%BC%D0%B8%D1%80_%D0%93%D0%B5%D0%BD%D1%80%D0%B8%D1%85%D0%BE%D0%B2%D0%B8%D1%87\" title=\"Лысов Владимир Генрихович\">Лысов Владимир Генрихович</a></li>\n",
              "<li data-sortkey=\"М\"><a href=\"/wiki/%D0%9C%D0%B0%D1%80%D0%BA%D0%B0%D1%88%D0%B5%D0%B2%D0%B0_%D0%92%D0%B5%D1%80%D0%B0_%D0%90%D0%BB%D0%B5%D0%BA%D1%81%D0%B5%D0%B5%D0%B2%D0%BD%D0%B0\" title=\"Маркашева Вера Алексеевна\">Маркашева Вера Алексеевна</a></li>\n",
              "<li data-sortkey=\"М\"><a href=\"/wiki/%D0%9C%D0%B0%D1%80%D0%BA%D0%BE%D0%B2%D1%86%D0%B5%D0%B2_%D0%94%D0%B5%D0%BD%D0%B8%D1%81_%D0%90%D0%BD%D0%B0%D1%82%D0%BE%D0%BB%D1%8C%D0%B5%D0%B2%D0%B8%D1%87\" title=\"Марковцев Денис Анатольевич\">Марковцев Денис Анатольевич</a></li>\n",
              "<li data-sortkey=\"М\"><a href=\"/wiki/%D0%9C%D0%B0%D1%80%D1%82%D1%8B%D0%BD%D0%BE%D0%B2_%D0%92%D0%BB%D0%B0%D0%B4%D0%B8%D0%BC%D0%B8%D1%80_%D0%92%D0%BB%D0%B0%D0%B4%D0%B8%D0%BC%D0%B8%D1%80%D0%BE%D0%B2%D0%B8%D1%87\" title=\"Мартынов Владимир Владимирович\">Мартынов Владимир Владимирович</a></li>\n",
              "<li data-sortkey=\"М\"><a href=\"/wiki/%D0%9C%D0%B5%D0%BB%D1%8C%D0%BD%D0%B8%D0%BA%D0%BE%D0%B2_%D0%90%D1%80%D1%82%D0%B5%D0%BC_%D0%90%D0%BD%D0%B4%D1%80%D0%B5%D0%B5%D0%B2%D0%B8%D1%87\" title=\"Мельников Артем Андреевич\">Мельников Артем Андреевич</a></li>\n",
              "<li data-sortkey=\"М\"><a href=\"/wiki/%D0%9C%D0%B8%D0%BD%D0%B5%D0%B5%D0%B2_%D0%9C%D0%B8%D1%85%D0%B0%D0%B8%D0%BB_%D0%9F%D0%B5%D1%82%D1%80%D0%BE%D0%B2%D0%B8%D1%87\" title=\"Минеев Михаил Петрович\">Минеев Михаил Петрович</a></li>\n",
              "<li data-sortkey=\"М\"><a href=\"/wiki/%D0%9C%D0%B8%D1%80%D0%BE%D0%BD%D0%B5%D0%BD%D0%BA%D0%BE_%D0%9F%D0%B0%D0%B2%D0%B5%D0%BB_%D0%9F%D0%B0%D0%B2%D0%BB%D0%BE%D0%B2%D0%B8%D1%87\" title=\"Мироненко Павел Павлович\">Мироненко Павел Павлович</a></li>\n",
              "<li data-sortkey=\"М\"><a href=\"/wiki/%D0%9C%D0%B8%D1%85%D0%B0%D0%B9%D0%BB%D0%BE%D0%B2%D0%B0_%D0%A2%D0%B0%D1%82%D1%8C%D1%8F%D0%BD%D0%B0_%D0%92%D0%B0%D0%BB%D0%B5%D0%BD%D1%82%D0%B8%D0%BD%D0%BE%D0%B2%D0%BD%D0%B0\" title=\"Михайлова Татьяна Валентиновна\">Михайлова Татьяна Валентиновна</a></li>\n",
              "<li data-sortkey=\"М\"><a href=\"/wiki/%D0%9C%D0%BE%D0%BB%D1%87%D0%B0%D0%BD%D0%BE%D0%B2_%D0%95%D0%B2%D0%B3%D0%B5%D0%BD%D0%B8%D0%B9_%D0%93%D0%B5%D0%BD%D0%BD%D0%B0%D0%B4%D1%8C%D0%B5%D0%B2%D0%B8%D1%87\" title=\"Молчанов Евгений Геннадьевич\">Молчанов Евгений Геннадьевич</a></li>\n",
              "<li data-sortkey=\"М\"><a href=\"/wiki/%D0%9C%D1%83%D1%85%D0%B8%D0%BD_%D0%93%D0%B5%D0%BD%D0%BD%D0%B0%D0%B4%D0%B8%D0%B9_%D0%92%D0%B0%D0%BB%D0%B5%D0%BD%D1%82%D0%B8%D0%BD%D0%BE%D0%B2%D0%B8%D1%87\" title=\"Мухин Геннадий Валентинович\">Мухин Геннадий Валентинович</a></li>\n",
              "<li data-sortkey=\"Н\"><a href=\"/wiki/%D0%9D%D0%B8%D0%BA%D0%B8%D1%82%D1%87%D1%83%D0%BA_%D0%91%D0%BE%D0%B3%D0%B4%D0%B0%D0%BD_%D0%AF%D1%80%D0%BE%D1%81%D0%BB%D0%B0%D0%B2%D0%BE%D0%B2%D0%B8%D1%87\" title=\"Никитчук Богдан Ярославович\">Никитчук Богдан Ярославович</a></li>\n",
              "<li data-sortkey=\"Н\"><a href=\"/wiki/%D0%9D%D0%B8%D0%BA%D0%BE%D0%BB%D0%B0%D0%B5%D0%B2_%D0%92%D0%BB%D0%B0%D0%B4%D0%B8%D0%BC%D0%B8%D1%80_%D0%A1%D1%82%D0%B5%D0%BF%D0%B0%D0%BD%D0%BE%D0%B2%D0%B8%D1%87\" title=\"Николаев Владимир Степанович\">Николаев Владимир Степанович</a></li>\n",
              "<li data-sortkey=\"Н\"><a href=\"/wiki/%D0%9D%D0%B8%D0%BA%D0%BE%D0%BB%D0%B0%D0%B5%D0%BD%D0%BA%D0%BE_%D0%A1%D1%82%D0%B0%D0%BD%D0%B8%D1%81%D0%BB%D0%B0%D0%B2_%D0%A1%D0%B5%D1%80%D0%B3%D0%B5%D0%B5%D0%B2%D0%B8%D1%87\" title=\"Николаенко Станислав Сергеевич\">Николаенко Станислав Сергеевич</a></li>\n",
              "<li data-sortkey=\"Н\"><a href=\"/wiki/%D0%9D%D0%BE%D0%B0%D1%80%D0%BE%D0%B2_%D0%90%D0%BB%D0%B5%D0%BA%D1%81%D0%B0%D0%BD%D0%B4%D1%80_%D0%98%D0%B3%D0%BE%D1%80%D0%B5%D0%B2%D0%B8%D1%87\" title=\"Ноаров Александр Игоревич\">Ноаров Александр Игоревич</a></li>\n",
              "<li data-sortkey=\"Н\"><a href=\"/wiki/%D0%9D%D0%BE%D1%85%D1%80%D0%B8%D0%BD%D0%B0_%D0%95%D0%BB%D0%B5%D0%BD%D0%B0_%D0%95%D0%B2%D0%B3%D0%B5%D0%BD%D1%8C%D0%B5%D0%B2%D0%BD%D0%B0\" title=\"Нохрина Елена Евгеньевна\">Нохрина Елена Евгеньевна</a></li>\n",
              "<li data-sortkey=\"О\"><a href=\"/wiki/%D0%9E%D0%B3%D0%B0%D1%80%D0%BA%D0%BE%D0%B2_%D0%A1%D1%82%D0%B0%D0%BD%D0%B8%D1%81%D0%BB%D0%B0%D0%B2_%D0%9B%D0%B5%D0%BE%D0%BD%D0%B8%D0%B4%D0%BE%D0%B2%D0%B8%D1%87\" title=\"Огарков Станислав Леонидович\">Огарков Станислав Леонидович</a></li>\n",
              "<li data-sortkey=\"О\"><a href=\"/wiki/%D0%9E%D0%BB%D0%B5%D0%B9%D0%BD%D0%B8%D0%BA_%D0%A0%D0%BE%D0%BC%D0%B0%D0%BD_%D0%94%D0%BC%D0%B8%D1%82%D1%80%D0%B8%D0%B5%D0%B2%D0%B8%D1%87\" title=\"Олейник Роман Дмитриевич\">Олейник Роман Дмитриевич</a></li>\n",
              "<li data-sortkey=\"О\"><a href=\"/wiki/%D0%9E%D1%80%D0%BB%D0%BE%D0%B2_%D0%AE%D1%80%D0%B8%D0%B9_%D0%9D%D0%B8%D0%BA%D0%BE%D0%BB%D0%B0%D0%B5%D0%B2%D0%B8%D1%87\" title=\"Орлов Юрий Николаевич\">Орлов Юрий Николаевич</a></li>\n",
              "<li data-sortkey=\"О\"><a href=\"/wiki/%D0%9E%D1%80%D1%91%D0%BB_%D0%9E%D0%BB%D1%8C%D0%B3%D0%B0_%D0%95%D0%B2%D0%B3%D0%B5%D0%BD%D1%8C%D0%B5%D0%B2%D0%BD%D0%B0\" title=\"Орёл Ольга Евгеньевна\">Орёл Ольга Евгеньевна</a></li>\n",
              "<li data-sortkey=\"О\"><a href=\"/wiki/%D0%9E%D1%81%D1%82%D0%B0%D0%BD%D0%B8%D0%BD_%D0%9F%D0%B0%D0%B2%D0%B5%D0%BB_%D0%90%D0%BD%D1%82%D0%BE%D0%BD%D0%BE%D0%B2%D0%B8%D1%87\" title=\"Останин Павел Антонович\">Останин Павел Антонович</a></li>\n",
              "<li data-sortkey=\"П\"><a href=\"/wiki/%D0%9F%D0%B0%D0%BD%D0%BA%D1%80%D0%B0%D1%82%D0%BE%D0%B2_%D0%9B%D0%B5%D0%BE%D0%BD%D0%B8%D0%B4_%D0%A1%D0%B5%D1%80%D0%B3%D0%B5%D0%B5%D0%B2%D0%B8%D1%87\" title=\"Панкратов Леонид Сергеевич\">Панкратов Леонид Сергеевич</a></li>\n",
              "<li data-sortkey=\"П\"><a href=\"/wiki/%D0%9F%D0%B5%D1%82%D1%80%D0%BE%D0%B2%D0%B0_%D0%A2%D0%B0%D1%82%D1%8C%D1%8F%D0%BD%D0%B0_%D0%AE%D1%80%D1%8C%D0%B5%D0%B2%D0%BD%D0%B0\" title=\"Петрова Татьяна Юрьевна\">Петрова Татьяна Юрьевна</a></li>\n",
              "<li data-sortkey=\"П\"><a href=\"/wiki/%D0%9F%D0%B5%D1%82%D1%80%D0%BE%D0%B2%D0%B8%D1%87_%D0%90%D0%BB%D0%B5%D0%BA%D1%81%D0%B0%D0%BD%D0%B4%D1%80_%D0%AE%D1%80%D1%8C%D0%B5%D0%B2%D0%B8%D1%87\" title=\"Петрович Александр Юрьевич\">Петрович Александр Юрьевич</a></li>\n",
              "<li data-sortkey=\"П\"><a href=\"/wiki/%D0%9F%D0%B5%D1%82%D1%80%D0%BE%D0%B2%D0%B8%D1%87_%D0%90%D0%BD%D0%BD%D0%B0_%D0%90%D0%BB%D0%B5%D0%BA%D1%81%D0%B0%D0%BD%D0%B4%D1%80%D0%BE%D0%B2%D0%BD%D0%B0\" title=\"Петрович Анна Александровна\">Петрович Анна Александровна</a></li>\n",
              "<li data-sortkey=\"П\"><a href=\"/wiki/%D0%9F%D0%B5%D1%82%D1%83%D1%85%D0%BE%D0%B2%D0%B0_%D0%9D%D0%B0%D1%82%D0%B0%D0%BB%D1%8C%D1%8F_%D0%AE%D1%80%D1%8C%D0%B5%D0%B2%D0%BD%D0%B0\" title=\"Петухова Наталья Юрьевна\">Петухова Наталья Юрьевна</a></li>\n",
              "<li data-sortkey=\"П\"><a href=\"/wiki/%D0%9F%D0%B8%D0%B3%D0%BE%D0%BB%D0%BA%D0%B8%D0%BD%D0%B0_%D0%A2%D0%B0%D1%82%D1%8C%D1%8F%D0%BD%D0%B0_%D0%A1%D0%B5%D1%80%D0%B3%D0%B5%D0%B5%D0%B2%D0%BD%D0%B0\" title=\"Пиголкина Татьяна Сергеевна\">Пиголкина Татьяна Сергеевна</a></li>\n",
              "<li data-sortkey=\"П\"><a href=\"/wiki/%D0%9F%D0%BE%D0%B4%D0%BB%D0%B8%D0%BF%D1%81%D0%BA%D0%B0%D1%8F_%D0%9E%D0%BB%D1%8C%D0%B3%D0%B0_%D0%93%D0%B5%D0%BD%D0%BD%D0%B0%D0%B4%D1%8C%D0%B5%D0%B2%D0%BD%D0%B0\" title=\"Подлипская Ольга Геннадьевна\">Подлипская Ольга Геннадьевна</a></li>\n",
              "<li data-sortkey=\"П\"><a href=\"/wiki/%D0%9F%D0%BE%D0%B4%D0%BB%D0%B8%D0%BF%D1%81%D0%BA%D0%B8%D0%B9_%D0%9E%D0%BB%D0%B5%D0%B3_%D0%9A%D0%BE%D0%BD%D1%81%D1%82%D0%B0%D0%BD%D1%82%D0%B8%D0%BD%D0%BE%D0%B2%D0%B8%D1%87\" title=\"Подлипский Олег Константинович\">Подлипский Олег Константинович</a></li>\n",
              "<li data-sortkey=\"П\"><a href=\"/wiki/%D0%9F%D0%BE%D0%BB%D0%BE%D0%B2%D0%B8%D0%BD%D0%BA%D0%B8%D0%BD_%D0%90%D0%BB%D0%B5%D0%BA%D1%81%D0%B5%D0%B9_%D0%95%D0%B2%D0%B3%D0%B5%D0%BD%D0%B8%D0%B5%D0%B2%D0%B8%D1%87\" title=\"Половинкин Алексей Евгениевич\">Половинкин Алексей Евгениевич</a></li>\n",
              "<li data-sortkey=\"П\"><a href=\"/wiki/%D0%9F%D0%BE%D0%BB%D0%BE%D0%B2%D0%B8%D0%BD%D0%BA%D0%B8%D0%BD_%D0%95%D0%B2%D0%B3%D0%B5%D0%BD%D0%B8%D0%B9_%D0%A1%D0%B5%D1%80%D0%B3%D0%B5%D0%B5%D0%B2%D0%B8%D1%87\" title=\"Половинкин Евгений Сергеевич\">Половинкин Евгений Сергеевич</a></li>\n",
              "<li data-sortkey=\"П\"><a href=\"/wiki/%D0%9F%D0%BE%D0%BB%D1%8F%D0%BD%D1%81%D0%BA%D0%B8%D0%B9_%D0%90%D0%BB%D0%B5%D0%BA%D1%81%D0%B0%D0%BD%D0%B4%D1%80_%D0%90%D0%BD%D0%B4%D1%80%D0%B5%D0%B5%D0%B2%D0%B8%D1%87\" title=\"Полянский Александр Андреевич\">Полянский Александр Андреевич</a></li>\n",
              "<li data-sortkey=\"П\"><a href=\"/wiki/%D0%9F%D1%8B%D1%80%D0%BA%D0%BE%D0%B2%D0%B0_%D0%9E%D0%BB%D1%8C%D0%B3%D0%B0_%D0%90%D0%BD%D0%B0%D1%82%D0%BE%D0%BB%D1%8C%D0%B5%D0%B2%D0%BD%D0%B0\" title=\"Пыркова Ольга Анатольевна\">Пыркова Ольга Анатольевна</a></li>\n",
              "<li data-sortkey=\"Р\"><a href=\"/wiki/%D0%A0%D0%B0%D1%81%D1%81%D0%BE%D1%85%D0%B0_%D0%90%D0%BD%D0%B0%D1%81%D1%82%D0%B0%D1%81%D0%B8%D1%8F_%D0%92%D0%BB%D0%B0%D0%B4%D0%B8%D0%BC%D0%B8%D1%80%D0%BE%D0%B2%D0%BD%D0%B0\" title=\"Рассоха Анастасия Владимировна\">Рассоха Анастасия Владимировна</a></li>\n",
              "<li data-sortkey=\"Р\"><a href=\"/wiki/%D0%A0%D0%B5%D0%B4%D0%BA%D0%BE%D0%B7%D1%83%D0%B1%D0%BE%D0%B2_%D0%92%D0%B0%D0%B4%D0%B8%D0%BC_%D0%92%D0%B8%D1%82%D0%B0%D0%BB%D1%8C%D0%B5%D0%B2%D0%B8%D1%87\" title=\"Редкозубов Вадим Витальевич\">Редкозубов Вадим Витальевич</a></li>\n",
              "<li data-sortkey=\"Р\"><a href=\"/wiki/%D0%A0%D0%B5%D0%B4%D0%BA%D0%BE%D0%B7%D1%83%D0%B1%D0%BE%D0%B2%D0%B0_%D0%95%D0%BB%D0%B5%D0%BD%D0%B0_%D0%AE%D1%80%D1%8C%D0%B5%D0%B2%D0%BD%D0%B0\" title=\"Редкозубова Елена Юрьевна\">Редкозубова Елена Юрьевна</a></li>\n",
              "<li data-sortkey=\"Р\"><a href=\"/wiki/%D0%A0%D0%B5%D0%B7%D0%BD%D0%B8%D1%87%D0%B5%D0%BD%D0%BA%D0%BE_%D0%A1%D0%B5%D1%80%D0%B3%D0%B5%D0%B9_%D0%92%D0%B0%D1%81%D0%B8%D0%BB%D1%8C%D0%B5%D0%B2%D0%B8%D1%87\" title=\"Резниченко Сергей Васильевич\">Резниченко Сергей Васильевич</a></li>\n",
              "<li data-sortkey=\"Р\"><a href=\"/wiki/%D0%A0%D0%BE%D0%B4%D0%B8%D0%BD_%D0%9C%D0%B8%D1%85%D0%B0%D0%B8%D0%BB_%D0%9C%D0%B0%D0%BA%D1%81%D0%B8%D0%BC%D0%BE%D0%B2%D0%B8%D1%87\" title=\"Родин Михаил Максимович\">Родин Михаил Максимович</a></li>\n",
              "<li data-sortkey=\"Р\"><a href=\"/wiki/%D0%A0%D1%83%D0%BC%D1%8F%D0%BD%D1%86%D0%B5%D0%B2_%D0%91%D0%BE%D1%80%D0%B8%D1%81_%D0%9D%D0%B8%D0%BA%D0%BE%D0%BB%D0%B0%D0%B5%D0%B2%D0%B8%D1%87\" title=\"Румянцев Борис Николаевич\">Румянцев Борис Николаевич</a></li>\n",
              "<li data-sortkey=\"С\"><a href=\"/wiki/%D0%A1%D0%B0%D0%BA%D0%B1%D0%B0%D0%B5%D0%B2_%D0%92%D1%81%D0%B5%D0%B2%D0%BE%D0%BB%D0%BE%D0%B4_%D0%96%D0%B0%D0%BD%D0%BE%D0%B2%D0%B8%D1%87\" title=\"Сакбаев Всеволод Жанович\">Сакбаев Всеволод Жанович</a></li>\n",
              "<li data-sortkey=\"С\"><a href=\"/wiki/%D0%A1%D0%B0%D0%BC%D0%B0%D1%80%D0%BE%D0%B2%D0%B0_%D0%A1%D0%B2%D0%B5%D1%82%D0%BB%D0%B0%D0%BD%D0%B0_%D0%A1%D0%B5%D1%80%D0%B3%D0%B5%D0%B5%D0%B2%D0%BD%D0%B0\" title=\"Самарова Светлана Сергеевна\">Самарова Светлана Сергеевна</a></li>\n",
              "<li data-sortkey=\"С\"><a href=\"/wiki/%D0%A1%D0%B0%D1%83%D0%BB%D0%B8%D0%BD_%D0%A1%D0%B5%D1%80%D0%B3%D0%B5%D0%B9_%D0%9C%D0%B8%D1%85%D0%B0%D0%B9%D0%BB%D0%BE%D0%B2%D0%B8%D1%87\" title=\"Саулин Сергей Михайлович\">Саулин Сергей Михайлович</a></li>\n",
              "<li data-sortkey=\"С\"><a href=\"/wiki/%D0%A1%D0%B2%D0%B8%D1%80%D1%89%D0%B5%D0%B2%D1%81%D0%BA%D0%B8%D0%B9_%D0%A1%D0%B5%D1%80%D0%B3%D0%B5%D0%B9_%D0%A0%D0%BE%D1%81%D1%82%D0%B8%D1%81%D0%BB%D0%B0%D0%B2%D0%BE%D0%B2%D0%B8%D1%87\" title=\"Свирщевский Сергей Ростиславович\">Свирщевский Сергей Ростиславович</a></li>\n",
              "<li data-sortkey=\"С\"><a href=\"/wiki/%D0%A1%D0%B5%D0%B4%D0%BE%D0%B2_%D0%92%D0%B0%D0%BB%D0%B5%D1%80%D0%B8%D0%B9_%D0%9D%D0%B8%D0%BA%D0%BE%D0%BB%D0%B0%D0%B5%D0%B2%D0%B8%D1%87\" title=\"Седов Валерий Николаевич\">Седов Валерий Николаевич</a></li>\n",
              "<li data-sortkey=\"С\"><a href=\"/wiki/%D0%A1%D0%B5%D0%BC%D1%91%D0%BD%D0%BE%D0%B2_%D0%90%D0%BD%D0%B4%D1%80%D0%B5%D0%B9_%D0%AE%D1%80%D1%8C%D0%B5%D0%B2%D0%B8%D1%87\" title=\"Семёнов Андрей Юрьевич\">Семёнов Андрей Юрьевич</a></li>\n",
              "<li data-sortkey=\"С\"><a href=\"/wiki/%D0%A1%D0%BA%D1%83%D0%B1%D0%B0%D1%87%D0%B5%D0%B2%D1%81%D0%BA%D0%B8%D0%B9_%D0%90%D0%BD%D1%82%D0%BE%D0%BD_%D0%90%D0%BB%D0%B5%D0%BA%D1%81%D0%B0%D0%BD%D0%B4%D1%80%D0%BE%D0%B2%D0%B8%D1%87\" title=\"Скубачевский Антон Александрович\">Скубачевский Антон Александрович</a></li>\n",
              "<li data-sortkey=\"С\"><a href=\"/wiki/%D0%A1%D1%82%D0%B0%D1%80%D0%BE%D0%B4%D1%83%D0%B1%D1%86%D0%B5%D0%B2_%D0%94%D0%BC%D0%B8%D1%82%D1%80%D0%B8%D0%B9_%D0%95%D0%B2%D0%B3%D0%B5%D0%BD%D1%8C%D0%B5%D0%B2%D0%B8%D1%87\" title=\"Стародубцев Дмитрий Евгеньевич\">Стародубцев Дмитрий Евгеньевич</a></li>\n",
              "<li data-sortkey=\"С\"><a href=\"/wiki/%D0%A1%D1%82%D0%B5%D0%BF%D0%B0%D0%BD%D0%BE%D0%B2_%D0%90%D0%BD%D0%B4%D1%80%D0%B5%D0%B9_%D0%9B%D0%B5%D0%BE%D0%BD%D0%B8%D0%B4%D0%BE%D0%B2%D0%B8%D1%87\" title=\"Степанов Андрей Леонидович\">Степанов Андрей Леонидович</a></li>\n",
              "<li data-sortkey=\"С\"><a href=\"/wiki/%D0%A1%D1%8B%D1%81%D0%BE%D0%B5%D0%B2_%D0%9E%D0%BB%D0%B5%D0%B3_%D0%AE%D1%80%D1%8C%D0%B5%D0%B2%D0%B8%D1%87\" title=\"Сысоев Олег Юрьевич\">Сысоев Олег Юрьевич</a></li>\n",
              "<li data-sortkey=\"Т\"><a href=\"/wiki/%D0%A2%D0%B5%D1%80-%D0%9A%D1%80%D0%B8%D0%BA%D0%BE%D1%80%D0%BE%D0%B2_%D0%90%D0%BB%D0%B5%D0%BA%D1%81%D0%B0%D0%BD%D0%B4%D1%80_%D0%9C%D0%B0%D1%80%D1%82%D1%8B%D0%BD%D0%BE%D0%B2%D0%B8%D1%87\" title=\"Тер-Крикоров Александр Мартынович\">Тер-Крикоров Александр Мартынович</a></li>\n",
              "<li data-sortkey=\"Т\"><a href=\"/wiki/%D0%A2%D0%B5%D1%80%D1%91%D1%88%D0%B8%D0%BD_%D0%94%D0%BC%D0%B8%D1%82%D1%80%D0%B8%D0%B9_%D0%90%D0%BB%D0%B5%D0%BA%D1%81%D0%B0%D0%BD%D0%B4%D1%80%D0%BE%D0%B2%D0%B8%D1%87\" title=\"Терёшин Дмитрий Александрович\">Терёшин Дмитрий Александрович</a></li>\n",
              "<li data-sortkey=\"Т\"><a href=\"/wiki/%D0%A2%D1%80%D0%BE%D1%88%D0%B8%D0%BD_%D0%90%D0%BB%D0%B5%D0%BA%D1%81%D0%B5%D0%B9_%D0%98%D0%B3%D0%BE%D1%80%D0%B5%D0%B2%D0%B8%D1%87\" title=\"Трошин Алексей Игоревич\">Трошин Алексей Игоревич</a></li>\n",
              "<li data-sortkey=\"Т\"><a href=\"/wiki/%D0%A2%D1%80%D1%83%D1%88%D0%B8%D0%BD_%D0%91%D0%BE%D1%80%D0%B8%D1%81_%D0%92%D0%B8%D0%BA%D1%82%D0%BE%D1%80%D0%BE%D0%B2%D0%B8%D1%87\" title=\"Трушин Борис Викторович\">Трушин Борис Викторович</a></li>\n",
              "<li data-sortkey=\"Т\"><a href=\"/wiki/%D0%A2%D1%80%D1%83%D1%88%D0%B8%D0%BD_%D0%92%D0%B8%D0%BA%D1%82%D0%BE%D1%80_%D0%91%D0%BE%D1%80%D0%B8%D1%81%D0%BE%D0%B2%D0%B8%D1%87\" title=\"Трушин Виктор Борисович\">Трушин Виктор Борисович</a></li>\n",
              "<li data-sortkey=\"Т\"><a href=\"/wiki/%D0%A2%D1%83%D0%BC%D0%B0%D0%B9%D0%BA%D0%B8%D0%BD_%D0%98%D0%BB%D1%8C%D1%8F_%D0%9D%D0%B8%D0%BA%D0%BE%D0%BB%D0%B0%D0%B5%D0%B2%D0%B8%D1%87\" title=\"Тумайкин Илья Николаевич\">Тумайкин Илья Николаевич</a></li>\n",
              "<li data-sortkey=\"Т\"><a href=\"/wiki/%D0%A2%D1%8E%D0%BB%D0%B5%D0%BD%D0%B5%D0%B2_%D0%90%D0%BB%D0%B5%D0%BA%D1%81%D0%B0%D0%BD%D0%B4%D1%80_%D0%98%D0%B2%D0%B0%D0%BD%D0%BE%D0%B2%D0%B8%D1%87\" title=\"Тюленев Александр Иванович\">Тюленев Александр Иванович</a></li>\n",
              "<li data-sortkey=\"У\"><a href=\"/wiki/%D0%A3%D0%BC%D0%BD%D0%BE%D0%B2_%D0%90%D0%BB%D0%B5%D0%BA%D1%81%D0%B0%D0%BD%D0%B4%D1%80_%D0%95%D0%B2%D0%B3%D0%B5%D0%BD%D1%8C%D0%B5%D0%B2%D0%B8%D1%87\" title=\"Умнов Александр Евгеньевич\">Умнов Александр Евгеньевич</a></li>\n",
              "<li data-sortkey=\"У\"><a href=\"/wiki/%D0%A3%D0%BC%D0%BD%D0%BE%D0%B2_%D0%95%D0%B3%D0%BE%D1%80_%D0%90%D0%BB%D0%B5%D0%BA%D1%81%D0%B0%D0%BD%D0%B4%D1%80%D0%BE%D0%B2%D0%B8%D1%87\" title=\"Умнов Егор Александрович\">Умнов Егор Александрович</a></li>\n",
              "<li data-sortkey=\"Ф\"><a href=\"/wiki/%D0%A4%D0%B0%D1%81%D1%82%D0%BE%D0%B2%D0%B5%D1%86_%D0%9D%D0%B8%D0%BD%D0%B5%D0%BB%D1%8C_%D0%9E%D0%BB%D0%B5%D0%B3%D0%BE%D0%B2%D0%BD%D0%B0\" title=\"Фастовец Нинель Олеговна\">Фастовец Нинель Олеговна</a></li>\n",
              "<li data-sortkey=\"Ф\"><a href=\"/wiki/%D0%A4%D0%B8%D0%BB%D0%B8%D0%BC%D0%BE%D0%BD%D0%BE%D0%B2_%D0%94%D0%BC%D0%B8%D1%82%D1%80%D0%B8%D0%B9_%D0%90%D0%BD%D0%B4%D1%80%D0%B5%D0%B5%D0%B2%D0%B8%D1%87\" title=\"Филимонов Дмитрий Андреевич\">Филимонов Дмитрий Андреевич</a></li>\n",
              "<li data-sortkey=\"Х\"><a href=\"/wiki/%D0%A5%D0%B0%D1%81%D0%B0%D0%BD%D0%BE%D0%B2_%D0%90%D0%B4%D0%B0%D0%BC_%D0%90%D0%B3%D0%B7%D0%B0%D0%BC%D0%BE%D0%B2%D0%B8%D1%87\" title=\"Хасанов Адам Агзамович\">Хасанов Адам Агзамович</a></li>\n",
              "<li data-sortkey=\"Х\"><a href=\"/wiki/%D0%A5%D0%B8%D0%B7%D0%B3%D0%B8%D1%8F%D0%B5%D0%B2_%D0%A1%D0%B5%D0%BC%D0%B5%D0%BD_%D0%92%D0%BB%D0%B0%D0%B4%D0%B8%D0%BC%D0%B8%D1%80%D0%BE%D0%B2%D0%B8%D1%87\" title=\"Хизгияев Семен Владимирович\">Хизгияев Семен Владимирович</a></li>\n",
              "<li data-sortkey=\"Х\"><a href=\"/wiki/%D0%A5%D0%BE%D1%85%D0%BB%D0%BE%D0%B2_%D0%9C%D0%B8%D1%85%D0%B0%D0%B8%D0%BB_%D0%90%D0%BB%D0%B5%D0%BA%D1%81%D0%B0%D0%BD%D0%B4%D1%80%D0%BE%D0%B2%D0%B8%D1%87\" title=\"Хохлов Михаил Александрович\">Хохлов Михаил Александрович</a></li>\n",
              "<li data-sortkey=\"Ц\"><a href=\"/wiki/%D0%A6%D0%B2%D0%B5%D1%82%D0%BA%D0%BE%D0%B2_%D0%95%D0%B3%D0%BE%D1%80_%D0%90%D0%BB%D0%B5%D0%BA%D1%81%D0%B0%D0%BD%D0%B4%D1%80%D0%BE%D0%B2%D0%B8%D1%87\" title=\"Цветков Егор Александрович\">Цветков Егор Александрович</a></li>\n",
              "<li data-sortkey=\"Ц\"><a href=\"/wiki/%D0%A6%D0%B5%D0%BB%D0%BE%D1%83%D1%81%D0%BE%D0%B2%D0%B0_%D0%90%D0%BD%D0%B0%D1%81%D1%82%D0%B0%D1%81%D0%B8%D1%8F_%D0%90%D0%BB%D0%B5%D0%BA%D1%81%D0%B0%D0%BD%D0%B4%D1%80%D0%BE%D0%B2%D0%BD%D0%B0\" title=\"Целоусова Анастасия Александровна\">Целоусова Анастасия Александровна</a></li>\n",
              "<li data-sortkey=\"Ч\"><a href=\"/wiki/%D0%A7%D0%B5%D0%BA%D0%B0%D1%80%D0%B5%D0%B2_%D0%94%D0%B5%D0%BD%D0%B8%D1%81_%D0%90%D0%BD%D0%B0%D1%82%D0%BE%D0%BB%D1%8C%D0%B5%D0%B2%D0%B8%D1%87\" title=\"Чекарев Денис Анатольевич\">Чекарев Денис Анатольевич</a></li>\n",
              "<li data-sortkey=\"Ч\"><a href=\"/wiki/%D0%A7%D0%B5%D0%BA%D0%BC%D0%B5%D0%BD%D1%91%D0%B2_%D0%90%D0%BB%D0%B5%D0%BA%D1%81%D0%B0%D0%BD%D0%B4%D1%80_%D0%90%D0%BD%D0%B0%D1%82%D0%BE%D0%BB%D1%8C%D0%B5%D0%B2%D0%B8%D1%87\" title=\"Чекменёв Александр Анатольевич\">Чекменёв Александр Анатольевич</a></li>\n",
              "<li data-sortkey=\"Ч\"><a href=\"/wiki/%D0%A7%D0%B5%D1%80%D0%BD%D1%8F%D0%B5%D0%B2_%D0%90%D0%BB%D0%B5%D0%BA%D1%81%D0%B0%D0%BD%D0%B4%D1%80_%D0%9F%D0%B5%D1%82%D1%80%D0%BE%D0%B2%D0%B8%D1%87\" title=\"Черняев Александр Петрович\">Черняев Александр Петрович</a></li>\n",
              "<li data-sortkey=\"Ч\"><a href=\"/wiki/%D0%A7%D1%83%D0%B1%D0%B0%D1%80%D0%BE%D0%B2_%D0%98%D0%B3%D0%BE%D1%80%D1%8C_%D0%90%D0%BD%D0%B4%D1%80%D0%B5%D0%B5%D0%B2%D0%B8%D1%87\" title=\"Чубаров Игорь Андреевич\">Чубаров Игорь Андреевич</a></li>\n",
              "<li data-sortkey=\"Ч\"><a href=\"/wiki/%D0%A7%D1%83%D0%B2%D0%B8%D0%BB%D0%B8%D0%BD_%D0%9A%D0%B8%D1%80%D0%B8%D0%BB%D0%BB_%D0%92%D0%BB%D0%B0%D0%B4%D0%B8%D0%BC%D0%B8%D1%80%D0%BE%D0%B2%D0%B8%D1%87\" title=\"Чувилин Кирилл Владимирович\">Чувилин Кирилл Владимирович</a></li>\n",
              "<li data-sortkey=\"Ч\"><a href=\"/wiki/%D0%A7%D1%83%D1%80%D0%B1%D0%B0%D0%BD%D0%BE%D0%B2_%D0%94%D0%BC%D0%B8%D1%82%D1%80%D0%B8%D0%B9_%D0%92%D0%BB%D0%B0%D0%B4%D0%B8%D0%BC%D0%B8%D1%80%D0%BE%D0%B2%D0%B8%D1%87\" title=\"Чурбанов Дмитрий Владимирович\">Чурбанов Дмитрий Владимирович</a></li>\n",
              "<li data-sortkey=\"Ш\"><a href=\"/wiki/%D0%A8%D0%B0%D0%BC%D0%B0%D1%80%D0%BE%D0%B2_%D0%9D%D0%B8%D0%BA%D0%BE%D0%BB%D0%B0%D0%B9_%D0%9D%D0%B8%D0%BA%D0%BE%D0%BB%D0%B0%D0%B5%D0%B2%D0%B8%D1%87\" title=\"Шамаров Николай Николаевич\">Шамаров Николай Николаевич</a></li>\n",
              "<li data-sortkey=\"Ш\"><a href=\"/wiki/%D0%A8%D0%B0%D0%BD%D1%8C%D0%BA%D0%BE%D0%B2_%D0%92%D0%BB%D0%B0%D0%B4%D0%B8%D0%BC%D0%B8%D1%80_%D0%92%D0%BB%D0%B0%D0%B4%D0%B8%D0%BC%D0%B8%D1%80%D0%BE%D0%B2%D0%B8%D1%87\" title=\"Шаньков Владимир Владимирович\">Шаньков Владимир Владимирович</a></li>\n",
              "<li data-sortkey=\"Ш\"><a href=\"/wiki/%D0%A8%D0%B0%D1%80%D0%BE%D0%B2%D0%B0%D1%82%D0%BE%D0%B2%D0%B0_%D0%AE%D0%BB%D0%B8%D1%8F_%D0%98%D0%B3%D0%BE%D1%80%D0%B5%D0%B2%D0%BD%D0%B0\" title=\"Шароватова Юлия Игоревна\">Шароватова Юлия Игоревна</a></li>\n",
              "<li data-sortkey=\"Ш\"><a href=\"/wiki/%D0%A8%D0%B5%D0%B2%D0%B5%D1%80%D0%BE%D0%B2_%D0%92%D0%BB%D0%B0%D0%B4%D0%B8%D0%BC%D0%B8%D1%80_%D0%93%D1%80%D0%B8%D0%B3%D0%BE%D1%80%D1%8C%D0%B5%D0%B2%D0%B8%D1%87\" title=\"Шеверов Владимир Григорьевич\">Шеверов Владимир Григорьевич</a></li>\n",
              "<li data-sortkey=\"Ш\"><a href=\"/wiki/%D0%A8%D0%B8%D0%B1%D0%B7%D1%83%D1%85%D0%BE%D0%B2_%D0%97%D0%B0%D1%83%D1%80_%D0%9C%D1%83%D1%85%D0%B0%D0%B4%D0%B8%D0%BD%D0%BE%D0%B2%D0%B8%D1%87\" title=\"Шибзухов Заур Мухадинович\">Шибзухов Заур Мухадинович</a></li>\n",
              "<li data-sortkey=\"Ш\"><a href=\"/wiki/%D0%A8%D0%B8%D1%80%D0%BE%D0%BA%D0%BE%D0%B2_%D0%9C%D0%B0%D0%BA%D1%81%D0%B8%D0%BC_%D0%95%D0%B2%D0%B3%D0%B5%D0%BD%D1%8C%D0%B5%D0%B2%D0%B8%D1%87\" title=\"Широков Максим Евгеньевич\">Широков Максим Евгеньевич</a></li>\n",
              "<li data-sortkey=\"Ш\"><a href=\"/wiki/%D0%A8%D0%B8%D1%82%D0%BE%D0%B2_%D0%AF%D1%80%D0%BE%D1%81%D0%BB%D0%B0%D0%B2_%D0%9D%D0%B8%D0%BA%D0%BE%D0%BB%D0%B0%D0%B5%D0%B2%D0%B8%D1%87\" title=\"Шитов Ярослав Николаевич\">Шитов Ярослав Николаевич</a></li>\n",
              "<li data-sortkey=\"Ш\"><a href=\"/wiki/%D0%A8%D0%BB%D1%8F%D1%85%D0%BE%D0%B2_%D0%9D%D0%B8%D0%BA%D0%BE%D0%BB%D0%B0%D0%B9_%D0%9C%D0%B8%D1%85%D0%B0%D0%B9%D0%BB%D0%BE%D0%B2%D0%B8%D1%87\" title=\"Шляхов Николай Михайлович\">Шляхов Николай Михайлович</a></li>\n",
              "<li data-sortkey=\"Ш\"><a href=\"/wiki/%D0%A8%D0%BE%D0%BC%D0%BF%D0%BE%D0%BB%D0%BE%D0%B2_%D0%98%D0%B3%D0%BE%D1%80%D1%8C_%D0%93%D1%80%D0%B8%D0%B3%D0%BE%D1%80%D1%8C%D0%B5%D0%B2%D0%B8%D1%87\" title=\"Шомполов Игорь Григорьевич\">Шомполов Игорь Григорьевич</a></li>\n",
              "<li data-sortkey=\"Ш\"><a href=\"/wiki/%D0%A8%D1%82%D0%B5%D0%BF%D0%B8%D0%BD_%D0%92%D0%B0%D0%B4%D0%B8%D0%BC_%D0%92%D0%BB%D0%B0%D0%B4%D0%B8%D0%BC%D0%B8%D1%80%D0%BE%D0%B2%D0%B8%D1%87\" title=\"Штепин Вадим Владимирович\">Штепин Вадим Владимирович</a></li>\n",
              "<li data-sortkey=\"Ю\"><a href=\"/wiki/%D0%AE%D0%B4%D0%B5%D0%BD%D0%BA%D0%BE%D0%B2%D0%B0_%D0%9C%D0%B0%D1%80%D0%B8%D1%8F_%D0%90%D0%BB%D0%B5%D0%BA%D1%81%D0%B5%D0%B5%D0%B2%D0%BD%D0%B0\" title=\"Юденкова Мария Алексеевна\">Юденкова Мария Алексеевна</a></li>\n",
              "</ul>\n",
              "</div>\n",
              "<h2><span class=\"mw-headline\" id=\".D0.91.D1.8B.D0.B2.D1.88.D0.B8.D0.B5_.D0.BF.D1.80.D0.B5.D0.BF.D0.BE.D0.B4.D0.B0.D0.B2.D0.B0.D1.82.D0.B5.D0.BB.D0.B8_.D0.BA.D0.B0.D1.84.D0.B5.D0.B4.D1.80.D1.8B\">Бывшие преподаватели кафедры</span></h2>\n",
              "<div style=\"-moz-column-count:3; column-count:3; -webkit-column-count:3\"><ul>\n",
              "<li data-sortkey=\"А\"><a href=\"/wiki/%D0%90%D0%B1%D1%80%D0%B0%D0%BC%D0%BE%D0%B2_%D0%90%D0%BB%D0%B5%D0%BA%D1%81%D0%B0%D0%BD%D0%B4%D1%80_%D0%90%D0%BB%D0%B5%D0%BA%D1%81%D0%B0%D0%BD%D0%B4%D1%80%D0%BE%D0%B2%D0%B8%D1%87\" title=\"Абрамов Александр Александрович\">Абрамов Александр Александрович</a></li>\n",
              "<li data-sortkey=\"А\"><a href=\"/wiki/%D0%90%D0%BA%D0%BF%D0%B0%D1%80%D0%BE%D0%B2%D0%B0_%D0%90%D0%BD%D0%BD%D0%B0_%D0%92%D0%B0%D0%BB%D0%B5%D1%80%D1%8C%D0%B5%D0%B2%D0%BD%D0%B0\" title=\"Акпарова Анна Валерьевна\">Акпарова Анна Валерьевна</a></li>\n",
              "<li data-sortkey=\"А\"><a href=\"/wiki/%D0%90%D0%BB%D0%B5%D0%BA%D1%81%D0%B0%D0%BD%D0%B4%D1%80%D0%BE%D0%B2%D0%B8%D1%87_%D0%90%D0%BB%D0%B5%D0%BA%D1%81%D0%B0%D0%BD%D0%B4%D1%80_%D0%98%D0%B2%D0%B0%D0%BD%D0%BE%D0%B2%D0%B8%D1%87\" title=\"Александрович Александр Иванович\">Александрович Александр Иванович</a></li>\n",
              "<li data-sortkey=\"А\"><a href=\"/wiki/%D0%90%D1%81%D0%B5%D0%B5%D0%B2_%D0%9F%D0%B0%D0%B2%D0%B5%D0%BB_%D0%9F%D0%B0%D0%B2%D0%BB%D0%BE%D0%B2%D0%B8%D1%87\" title=\"Асеев Павел Павлович\">Асеев Павел Павлович</a></li>\n",
              "<li data-sortkey=\"Б\"><a href=\"/wiki/%D0%91%D0%B0%D0%BB%D0%B0%D1%88%D0%BE%D0%B2_%D0%9C%D0%B0%D0%BA%D1%81%D0%B8%D0%BC_%D0%92%D0%B8%D0%BA%D1%82%D0%BE%D1%80%D0%BE%D0%B2%D0%B8%D1%87\" title=\"Балашов Максим Викторович\">Балашов Максим Викторович</a></li>\n",
              "<li data-sortkey=\"Б\"><a href=\"/wiki/%D0%91%D0%B0%D1%82%D0%B8%D1%89%D0%B5%D0%B2%D0%B0_%D0%AF%D0%BD%D0%B8%D0%BD%D0%B0_%D0%93%D0%B5%D0%BD%D1%80%D0%B8%D1%85%D0%BE%D0%B2%D0%BD%D0%B0\" title=\"Батищева Янина Генриховна\">Батищева Янина Генриховна</a></li>\n",
              "<li data-sortkey=\"Б\"><a href=\"/wiki/%D0%91%D0%B5%D0%B6%D0%B0%D0%BD%D0%BE%D0%B2_%D0%9A%D0%BE%D0%BD%D1%81%D1%82%D0%B0%D0%BD%D1%82%D0%B8%D0%BD_%D0%90%D0%B2%D0%B5%D1%82%D0%B8%D1%81%D0%BE%D0%B2%D0%B8%D1%87\" title=\"Бежанов Константин Аветисович\">Бежанов Константин Аветисович</a></li>\n",
              "<li data-sortkey=\"Б\"><a href=\"/wiki/%D0%91%D0%B5%D0%BA%D0%BB%D0%B5%D0%BC%D0%B8%D1%88%D0%B5%D0%B2_%D0%94%D0%BC%D0%B8%D1%82%D1%80%D0%B8%D0%B9_%D0%92%D0%BB%D0%B0%D0%B4%D0%B8%D0%BC%D0%B8%D1%80%D0%BE%D0%B2%D0%B8%D1%87\" title=\"Беклемишев Дмитрий Владимирович\">Беклемишев Дмитрий Владимирович</a></li>\n",
              "<li data-sortkey=\"Б\"><a href=\"/wiki/%D0%91%D0%B5%D0%BA%D0%BB%D0%B5%D0%BC%D0%B8%D1%88%D0%B5%D0%B2%D0%B0_%D0%9B%D1%8E%D0%B4%D0%BC%D0%B8%D0%BB%D0%B0_%D0%90%D0%BD%D0%B0%D1%82%D0%BE%D0%BB%D1%8C%D0%B5%D0%B2%D0%BD%D0%B0\" title=\"Беклемишева Людмила Анатольевна\">Беклемишева Людмила Анатольевна</a></li>\n",
              "<li data-sortkey=\"Б\"><a href=\"/wiki/%D0%91%D0%BE%D0%BB%D0%B8%D0%B1%D1%80%D1%83%D1%85_%D0%90%D0%BD%D0%B4%D1%80%D0%B5%D0%B9_%D0%90%D0%BD%D0%B4%D1%80%D0%B5%D0%B5%D0%B2%D0%B8%D1%87\" title=\"Болибрух Андрей Андреевич\">Болибрух Андрей Андреевич</a></li>\n",
              "<li data-sortkey=\"Б\"><a href=\"/wiki/%D0%91%D0%BE%D1%80%D0%B0%D1%87%D0%B8%D0%BD%D1%81%D0%BA%D0%B8%D0%B9_%D0%98%D0%B3%D0%BE%D1%80%D1%8C_%D0%90%D0%B3%D0%B0%D1%84%D0%BE%D0%BD%D0%BE%D0%B2%D0%B8%D1%87\" title=\"Борачинский Игорь Агафонович\">Борачинский Игорь Агафонович</a></li>\n",
              "<li data-sortkey=\"В\"><a href=\"/wiki/%D0%92%D0%BB%D0%B0%D0%B4%D0%B8%D0%BC%D0%B8%D1%80%D0%BE%D0%B2_%D0%90%D0%BD%D1%82%D0%BE%D0%BD_%D0%90%D0%BB%D0%B5%D0%BA%D1%81%D0%B5%D0%B5%D0%B2%D0%B8%D1%87\" title=\"Владимиров Антон Алексеевич\">Владимиров Антон Алексеевич</a></li>\n",
              "<li data-sortkey=\"В\"><a href=\"/wiki/%D0%92%D0%BB%D0%B0%D1%81%D0%BE%D0%B2_%D0%92%D0%B8%D0%BA%D1%82%D0%BE%D1%80_%D0%92%D0%B0%D0%BB%D0%B5%D0%BD%D1%82%D0%B8%D0%BD%D0%BE%D0%B2%D0%B8%D1%87\" title=\"Власов Виктор Валентинович\">Власов Виктор Валентинович</a></li>\n",
              "<li data-sortkey=\"Г\"><a href=\"/wiki/%D0%93%D0%B0%D0%BB%D0%B0%D1%85%D0%BE%D0%B2_%D0%9C%D0%B8%D1%85%D0%B0%D0%B8%D0%BB_%D0%90%D0%BB%D0%B5%D0%BA%D1%81%D0%B5%D0%B5%D0%B2%D0%B8%D1%87\" title=\"Галахов Михаил Алексеевич\">Галахов Михаил Алексеевич</a></li>\n",
              "<li data-sortkey=\"Г\"><a href=\"/wiki/%D0%93%D0%B5%D0%BE%D0%B3%D0%B4%D0%B6%D0%B0%D0%B5%D0%B2_%D0%92%D0%BB%D0%B0%D0%B4%D0%B8%D0%BC%D0%B8%D1%80_%D0%9E%D0%B3%D0%B0%D0%BD%D0%B5%D1%81%D0%BE%D0%B2%D0%B8%D1%87\" title=\"Геогджаев Владимир Оганесович\">Геогджаев Владимир Оганесович</a></li>\n",
              "<li data-sortkey=\"Г\"><a href=\"/wiki/%D0%93%D0%BE%D0%B2%D0%BE%D1%80%D0%BE%D0%B2_%D0%92%D1%8F%D1%87%D0%B5%D1%81%D0%BB%D0%B0%D0%B2_%D0%9B%D0%B5%D0%BE%D0%BD%D0%B8%D0%B4%D0%BE%D0%B2%D0%B8%D1%87\" title=\"Говоров Вячеслав Леонидович\">Говоров Вячеслав Леонидович</a></li>\n",
              "<li data-sortkey=\"Д\"><a href=\"/wiki/%D0%94%D0%B8%D0%B5%D1%81%D0%BF%D0%B5%D1%80%D0%BE%D0%B2_%D0%92%D0%B0%D0%B4%D0%B8%D0%BC_%D0%9D%D0%B8%D0%BA%D0%BE%D0%BB%D0%B0%D0%B5%D0%B2%D0%B8%D1%87\" title=\"Диесперов Вадим Николаевич\">Диесперов Вадим Николаевич</a></li>\n",
              "<li data-sortkey=\"Д\"><a href=\"/wiki/%D0%94%D0%B8%D0%BA%D1%83%D1%81%D0%B0%D1%80_%D0%92%D0%B0%D1%81%D0%B8%D0%BB%D0%B8%D0%B9_%D0%92%D0%B0%D1%81%D0%B8%D0%BB%D1%8C%D0%B5%D0%B2%D0%B8%D1%87\" title=\"Дикусар Василий Васильевич\">Дикусар Василий Васильевич</a></li>\n",
              "<li data-sortkey=\"Ж\"><a href=\"/wiki/%D0%96%D1%83%D0%BA_%D0%92%D0%BB%D0%B0%D0%B4%D0%B8%D0%BC%D0%B8%D1%80_%D0%98%D0%BE%D1%81%D0%B8%D1%84%D0%BE%D0%B2%D0%B8%D1%87\" title=\"Жук Владимир Иосифович\">Жук Владимир Иосифович</a></li>\n",
              "<li data-sortkey=\"З\"><a href=\"/wiki/%D0%97%D1%83%D0%B5%D0%B2_%D0%AE%D1%80%D0%B8%D0%B9_%D0%90%D0%BD%D0%B0%D1%82%D0%BE%D0%BB%D1%8C%D0%B5%D0%B2%D0%B8%D1%87\" title=\"Зуев Юрий Анатольевич\">Зуев Юрий Анатольевич</a></li>\n",
              "<li data-sortkey=\"И\"><a href=\"/wiki/%D0%98%D0%BF%D0%B0%D1%82%D0%BE%D0%B2%D0%B0_%D0%92%D0%B0%D0%BB%D0%B5%D0%BD%D1%82%D0%B8%D0%BD%D0%B0_%D0%9C%D0%B8%D1%85%D0%B0%D0%B9%D0%BB%D0%BE%D0%B2%D0%BD%D0%B0\" title=\"Ипатова Валентина Михайловна\">Ипатова Валентина Михайловна</a></li>\n",
              "<li data-sortkey=\"К\"><a href=\"/wiki/%D0%9A%D0%BE%D0%B2%D0%B0%D0%BB%D0%B5%D0%BD%D0%BA%D0%BE_%D0%9B%D0%B8%D0%B4%D0%B8%D1%8F_%D0%98%D0%B2%D0%B0%D0%BD%D0%BE%D0%B2%D0%BD%D0%B0\" title=\"Коваленко Лидия Ивановна\">Коваленко Лидия Ивановна</a></li>\n",
              "<li data-sortkey=\"К\"><a href=\"/wiki/%D0%9A%D0%BE%D0%BB%D0%B5%D1%81%D0%BD%D0%B8%D0%BA%D0%BE%D0%B2%D0%B0_%D0%A1%D0%BE%D1%84%D1%8C%D1%8F_%D0%98%D0%BB%D1%8C%D0%B8%D0%BD%D0%B8%D1%87%D0%BD%D0%B0\" title=\"Колесникова Софья Ильинична\">Колесникова Софья Ильинична</a></li>\n",
              "<li data-sortkey=\"К\"><a href=\"/wiki/%D0%9A%D0%BE%D1%80%D0%BE%D0%B1%D0%B5%D0%B9%D0%BD%D0%B8%D0%BA%D0%BE%D0%B2_%D0%92%D0%B8%D0%BA%D1%82%D0%BE%D1%80_%D0%9F%D0%B0%D0%B2%D0%BB%D0%BE%D0%B2%D0%B8%D1%87\" title=\"Коробейников Виктор Павлович\">Коробейников Виктор Павлович</a></li>\n",
              "<li data-sortkey=\"К\"><a href=\"/wiki/%D0%9A%D1%80%D0%B0%D1%88%D0%B5%D0%BD%D0%B8%D0%BD%D0%BD%D0%B8%D0%BA%D0%BE%D0%B2_%D0%90%D0%BB%D0%B5%D0%BA%D1%81%D0%B5%D0%B9_%D0%92%D0%B0%D0%B4%D0%B8%D0%BC%D0%BE%D0%B2%D0%B8%D1%87\" title=\"Крашенинников Алексей Вадимович\">Крашенинников Алексей Вадимович</a></li>\n",
              "<li data-sortkey=\"К\"><a href=\"/wiki/%D0%9A%D1%83%D0%B4%D1%80%D1%8F%D0%B2%D1%86%D0%B5%D0%B2_%D0%9B%D0%B5%D0%B2_%D0%94%D0%BC%D0%B8%D1%82%D1%80%D0%B8%D0%B5%D0%B2%D0%B8%D1%87\" title=\"Кудрявцев Лев Дмитриевич\">Кудрявцев Лев Дмитриевич</a></li>\n",
              "<li data-sortkey=\"К\"><a href=\"/wiki/%D0%9A%D1%83%D0%BF%D1%86%D0%BE%D0%B2_%D0%9B%D0%B5%D0%BE%D0%BD%D0%B8%D0%B4_%D0%9F%D0%B5%D1%82%D1%80%D0%BE%D0%B2%D0%B8%D1%87\" title=\"Купцов Леонид Петрович\">Купцов Леонид Петрович</a></li>\n",
              "<li data-sortkey=\"К\"><a href=\"/wiki/%D0%9A%D1%83%D1%80%D0%BE%D1%87%D0%BA%D0%B8%D0%BD_%D0%A1%D0%B5%D1%80%D0%B3%D0%B5%D0%B9_%D0%92%D0%BB%D0%B0%D0%B4%D0%B8%D0%BC%D0%B8%D1%80%D0%BE%D0%B2%D0%B8%D1%87\" title=\"Курочкин Сергей Владимирович\">Курочкин Сергей Владимирович</a></li>\n",
              "<li data-sortkey=\"Л\"><a href=\"/wiki/%D0%9B%D0%B0%D1%85%D1%82%D1%83%D0%BD%D0%BE%D0%B2_%D0%92%D0%B0%D0%B4%D0%B8%D0%BC_%D0%9F%D0%B0%D0%B2%D0%BB%D0%BE%D0%B2%D0%B8%D1%87\" title=\"Лахтунов Вадим Павлович\">Лахтунов Вадим Павлович</a></li>\n",
              "<li data-sortkey=\"Л\"><a href=\"/wiki/%D0%9B%D0%B8%D0%B4%D1%81%D0%BA%D0%B8%D0%B9_%D0%92%D0%B8%D0%BA%D1%82%D0%BE%D1%80_%D0%91%D0%BE%D1%80%D0%B8%D1%81%D0%BE%D0%B2%D0%B8%D1%87\" title=\"Лидский Виктор Борисович\">Лидский Виктор Борисович</a></li>\n",
              "<li data-sortkey=\"М\"><a href=\"/wiki/%D0%9C%D0%B8%D1%85%D0%B0%D0%B9%D0%BB%D0%BE%D0%B2_%D0%92%D0%B0%D0%BB%D0%B5%D0%BD%D1%82%D0%B8%D0%BD_%D0%9F%D0%B5%D1%82%D1%80%D0%BE%D0%B2%D0%B8%D1%87\" title=\"Михайлов Валентин Петрович\">Михайлов Валентин Петрович</a></li>\n",
              "<li data-sortkey=\"Н\"><a href=\"/wiki/%D0%9D%D0%B8%D0%BA%D0%BE%D0%BB%D1%8C%D1%81%D0%BA%D0%B8%D0%B9_%D0%A1%D0%B5%D1%80%D0%B3%D0%B5%D0%B9_%D0%9C%D0%B8%D1%85%D0%B0%D0%B9%D0%BB%D0%BE%D0%B2%D0%B8%D1%87\" title=\"Никольский Сергей Михайлович\">Никольский Сергей Михайлович</a></li>\n",
              "<li data-sortkey=\"П\"><a href=\"/wiki/%D0%9F%D0%B0%D0%BB%D1%8C%D1%86%D0%B5%D0%B2_%D0%91%D0%BE%D1%80%D0%B8%D1%81_%D0%92%D0%B0%D1%81%D0%B8%D0%BB%D1%8C%D0%B5%D0%B2%D0%B8%D1%87\" title=\"Пальцев Борис Васильевич\">Пальцев Борис Васильевич</a></li>\n",
              "<li data-sortkey=\"П\"><a href=\"/wiki/%D0%9F%D0%B5%D1%82%D1%80%D0%BE%D0%B2%D0%B0_%D0%92%D0%B5%D1%80%D0%B0_%D0%A2%D0%B8%D0%BC%D0%BE%D1%84%D0%B5%D0%B5%D0%B2%D0%BD%D0%B0\" title=\"Петрова Вера Тимофеевна\">Петрова Вера Тимофеевна</a></li>\n",
              "<li data-sortkey=\"П\"><a href=\"/wiki/%D0%9F%D0%BE%D1%87%D1%83%D0%B5%D0%B2_%D0%92%D0%BB%D0%B0%D0%B4%D0%B8%D0%BC%D0%B8%D1%80_%D0%A0%D0%BE%D0%BC%D0%B0%D0%BD%D0%BE%D0%B2%D0%B8%D1%87\" title=\"Почуев Владимир Романович\">Почуев Владимир Романович</a></li>\n",
              "<li data-sortkey=\"П\"><a href=\"/wiki/%D0%9F%D1%80%D0%BE%D1%86%D0%B5%D0%BD%D0%BA%D0%BE_%D0%98%D0%B3%D0%BE%D1%80%D1%8C_%D0%93%D0%B5%D0%BD%D0%BD%D0%B0%D0%B4%D1%8C%D0%B5%D0%B2%D0%B8%D1%87\" title=\"Проценко Игорь Геннадьевич\">Проценко Игорь Геннадьевич</a></li>\n",
              "<li data-sortkey=\"Р\"><a href=\"/wiki/%D0%A0%D0%B0%D1%81%D1%82%D1%80%D0%B5%D0%BD%D0%B8%D0%BD_%D0%92%D0%BB%D0%B0%D0%B4%D0%B8%D0%BC%D0%B8%D1%80_%D0%90%D0%BB%D0%B5%D0%BA%D1%81%D0%B0%D0%BD%D0%B4%D1%80%D0%BE%D0%B2%D0%B8%D1%87\" title=\"Растренин Владимир Александрович\">Растренин Владимир Александрович</a></li>\n",
              "<li data-sortkey=\"Р\"><a href=\"/wiki/%D0%A0%D0%BE%D0%BC%D0%B0%D0%BD%D0%BA%D0%BE_%D0%92%D0%B0%D1%81%D0%B8%D0%BB%D0%B8%D0%B9_%D0%9A%D0%B8%D1%80%D0%B8%D0%BB%D0%BB%D0%BE%D0%B2%D0%B8%D1%87\" title=\"Романко Василий Кириллович\">Романко Василий Кириллович</a></li>\n",
              "<li data-sortkey=\"С\"><a href=\"/wiki/%D0%A1%D0%B0%D0%B2%D0%B8%D0%BD_%D0%90%D0%BD%D0%B0%D1%82%D0%BE%D0%BB%D0%B8%D0%B9_%D0%9F%D0%B0%D0%B2%D0%BB%D0%BE%D0%B2%D0%B8%D1%87\" title=\"Савин Анатолий Павлович\">Савин Анатолий Павлович</a></li>\n",
              "<li data-sortkey=\"С\"><a href=\"/wiki/%D0%A1%D0%B8%D0%B4%D0%BE%D1%80%D0%BE%D0%B2_%D0%AE%D1%80%D0%B8%D0%B9_%D0%92%D0%B8%D0%BA%D1%82%D0%BE%D1%80%D0%BE%D0%B2%D0%B8%D1%87\" title=\"Сидоров Юрий Викторович\">Сидоров Юрий Викторович</a></li>\n",
              "<li data-sortkey=\"Т\"><a href=\"/wiki/%D0%A2%D1%83%D1%85%D0%B2%D0%B5%D0%B1%D0%B5%D1%80_%D0%A1%D0%B5%D1%80%D0%B3%D0%B5%D0%B9_%D0%9C%D0%B8%D1%85%D0%B0%D0%B9%D0%BB%D0%BE%D0%B2%D0%B8%D1%87\" title=\"Тухвебер Сергей Михайлович\">Тухвебер Сергей Михайлович</a></li>\n",
              "<li data-sortkey=\"У\"><a href=\"/wiki/%D0%A3%D1%80%D0%BE%D0%B5%D0%B2_%D0%92%D0%BB%D0%B0%D0%B4%D0%B8%D0%BC%D0%B8%D1%80_%D0%9C%D0%B8%D1%85%D0%B0%D0%B9%D0%BB%D0%BE%D0%B2%D0%B8%D1%87\" title=\"Уроев Владимир Михайлович\">Уроев Владимир Михайлович</a></li>\n",
              "<li data-sortkey=\"Ф\"><a href=\"/wiki/%D0%A4%D0%BE%D0%BD%D0%B0%D1%80%D1%91%D0%B2_%D0%90%D0%BD%D0%B0%D1%82%D0%BE%D0%BB%D0%B8%D0%B9_%D0%90%D1%84%D0%B0%D0%BD%D0%B0%D1%81%D1%8C%D0%B5%D0%B2%D0%B8%D1%87\" title=\"Фонарёв Анатолий Афанасьевич\">Фонарёв Анатолий Афанасьевич</a></li>\n",
              "<li data-sortkey=\"Ф\"><a href=\"/wiki/%D0%A4%D0%BE%D1%85%D1%82_%D0%90%D0%BB%D0%B5%D0%BA%D1%81%D0%B0%D0%BD%D0%B4%D1%80_%D0%A1%D0%B5%D1%80%D0%B3%D0%B5%D0%B5%D0%B2%D0%B8%D1%87\" title=\"Фохт Александр Сергеевич\">Фохт Александр Сергеевич</a></li>\n",
              "<li data-sortkey=\"Ч\"><a href=\"/wiki/%D0%A7%D0%B5%D1%85%D0%BB%D0%BE%D0%B2_%D0%92%D0%B0%D0%BB%D0%B5%D1%80%D0%B8%D0%B9_%D0%98%D0%B2%D0%B0%D0%BD%D0%BE%D0%B2%D0%B8%D1%87\" title=\"Чехлов Валерий Иванович\">Чехлов Валерий Иванович</a></li>\n",
              "<li data-sortkey=\"Ш\"><a href=\"/wiki/%D0%A8%D0%B0%D0%B1%D1%83%D0%BD%D0%B8%D0%BD_%D0%9C%D0%B8%D1%85%D0%B0%D0%B8%D0%BB_%D0%98%D0%B2%D0%B0%D0%BD%D0%BE%D0%B2%D0%B8%D1%87\" title=\"Шабунин Михаил Иванович\">Шабунин Михаил Иванович</a></li>\n",
              "<li data-sortkey=\"Ш\"><a href=\"/wiki/%D0%A8%D0%B5%D1%81%D1%82%D0%B0%D0%BA%D0%BE%D0%B2_%D0%A1%D0%B5%D1%80%D0%B3%D0%B5%D0%B9_%D0%90%D0%BB%D0%B5%D0%BA%D1%81%D0%B5%D0%B5%D0%B2%D0%B8%D1%87\" title=\"Шестаков Сергей Алексеевич\">Шестаков Сергей Алексеевич</a></li>\n",
              "<li data-sortkey=\"Я\"><a href=\"/wiki/%D0%AF%D0%BA%D0%BE%D0%B2%D0%BB%D0%B5%D0%B2_%D0%93%D0%B5%D0%BD%D0%BD%D0%B0%D0%B4%D0%B8%D0%B9_%D0%9D%D0%B8%D0%BA%D0%BE%D0%BB%D0%B0%D0%B5%D0%B2%D0%B8%D1%87\" title=\"Яковлев Геннадий Николаевич\">Яковлев Геннадий Николаевич</a></li>\n",
              "<li data-sortkey=\"Я\"><a href=\"/wiki/%D0%AF%D0%BA%D0%BE%D0%B2%D0%BB%D0%B5%D0%B2%D0%B0_%D0%A2%D0%B0%D0%BC%D0%B0%D1%80%D0%B0_%D0%A5%D0%B0%D1%80%D0%B8%D1%82%D0%BE%D0%BD%D0%BE%D0%B2%D0%BD%D0%B0\" title=\"Яковлева Тамара Харитоновна\">Яковлева Тамара Харитоновна</a></li>\n",
              "</ul>\n",
              "</div>\n",
              "<!-- \n",
              "NewPP limit report\n",
              "Cached time: 20211214084643\n",
              "Cache expiry: 86400\n",
              "Dynamic content: false\n",
              "CPU time usage: 0.116 seconds\n",
              "Real time usage: 0.121 seconds\n",
              "Preprocessor visited node count: 282/1000000\n",
              "Preprocessor generated node count: 909/1000000\n",
              "Post‐expand include size: 92474/2097152 bytes\n",
              "Template argument size: 240/2097152 bytes\n",
              "Highest expansion depth: 4/40\n",
              "Expensive parser function count: 0/100\n",
              "-->\n",
              "<!-- \n",
              "Transclusion expansion time report (%,ms,calls,template)\n",
              "100.00%   48.325      1 - -total\n",
              " 54.70%   26.434      1 - Шаблон:Преподаватели_кафедры\n",
              " 44.87%   21.685      1 - Шаблон:Кафедра\n",
              "  1.49%    0.720      1 - Шаблон:!-\n",
              "-->\n",
              "<!-- Saved in parser cache with key preps:pcache:idhash:23-0!*!0!!*!*!* and timestamp 20211214084643 and revision id 12534\n",
              " -->\n",
              "<div class=\"hf-footer\"></div><div class=\"hf-nsfooter\"><div style=\"float: left; width: 530px;\"></div>\n",
              "<div style=\"clear: left;\"></div>\n",
              "<div class=\"addthis_toolbox_mipt addthis_default_style addthis_32x32_style\"></div>\n",
              "<h2><span class=\"mw-headline\" id=\".D0.9A.D0.BE.D0.BC.D0.BC.D0.B5.D0.BD.D1.82.D0.B0.D1.80.D0.B8.D0.B8\">Комментарии</span></h2>\n",
              "<dl><dd> <small><a href=\"#c-form-title\">Перейти к форме добавления комментария</a></small></dd></dl>\n",
              "<div class=\"c-order\">\n",
              "<div class=\"c-order-select\">\n",
              "<p> <form action=\"\" name=\"ChangeOrder\">\n",
              "<select name=\"TheOrder\">\n",
              "<option value=\"0\">Сортировка по дате</option>\n",
              "<option value=\"1\">Сортировка по оценке</option>\n",
              "</select>\n",
              "</form>\n",
              "</p>\n",
              "</div>\n",
              "<div class=\"c-spy\" id=\"spy\">\n",
              "<p> <a href=\"javascript:void(0)\">Включить автопоказ новых комментариев</a>\n",
              "</p>\n",
              "</div>\n",
              "<div class=\"cleared\"></div>\n",
              "</div>\n",
              "<p> <br/>\n",
              "</p>\n",
              "<div id=\"allcomments\"><div class=\"c-item c-comment-hidden full\" id=\"comment-38028\" style=\"\">\n",
              "<div class=\"c-avatar\"><img alt=\"\" border=\"0\" height=\"50\" src=\"https://avatars.dicebear.com/api/gridy/f7a4510288dd84da0f9003b77cd5d016138a0e5d27475336fa3b25aca902e050.svg\" width=\"50\"/></div>\n",
              "<div class=\"c-container\">\n",
              "<div class=\"c-user\">\n",
              "<div class=\"c-score\">\n",
              "</div>\n",
              "<p>Непредставившийся участник #1<span class=\"c-user-level\"></span>\n",
              "</p>\n",
              "<div class=\"c-time\">2019-06-29 14:25:28</div>\n",
              "</div>\n",
              "<div class=\"c-comment f-message\">\n",
              "<!--googleoff: index-->Комментарий скрыт. Для просмотра нужно <a href=\"/index.php?title=%D0%A1%D0%BB%D1%83%D0%B6%D0%B5%D0%B1%D0%BD%D0%B0%D1%8F:%D0%92%D1%85%D0%BE%D0%B4&amp;returnto=Кафедра_высшей_математики\">войти с учётной записью phystech.edu</a><!--googleon: index --></div>\n",
              "</div>\n",
              "<div class=\"cleared\"></div>\n",
              "</div>\n",
              "<div class=\"c-item full\" id=\"comment-34084\" style=\"\">\n",
              "<div class=\"c-avatar\"><img alt=\"\" border=\"0\" height=\"50\" src=\"https://avatars.dicebear.com/api/gridy/93f706fa6fa4163c3eb140a01af4b059eff0a4bc945524bcdac8bf10ba245f9f.svg\" width=\"50\"/></div>\n",
              "<div class=\"c-container\">\n",
              "<div class=\"c-user\">\n",
              "<div class=\"c-score\">\n",
              "<!--googleoff: index--><span class=\"c-score-title\">Оценка <span id=\"Comment34084\">0</span></span><!--googleon: index--><span id=\"CommentBtn34084\"><a href=\"?returnto=Кафедра_высшей_математики\" rel=\"nofollow\"><img alt=\"+\" border=\"0\" src=\"/extensions/Comments/images/thumbs-up.gif\"/></a><a href=\"?returnto=Кафедра_высшей_математики\" rel=\"nofollow\"><img alt=\"-\" border=\"0\" src=\"/extensions/Comments/images/thumbs-down.gif\"/></a></span></div>\n",
              "<p>Непредставившийся участник #2<span class=\"c-user-level\"></span>\n",
              "</p>\n",
              "<div class=\"c-time\">2015-10-22 05:42:28</div>\n",
              "</div>\n",
              "<div class=\"c-comment f-message\">\n",
              "<p>На кафедре преподавали тж: Владимиров Василий Сергеевич, Свирщевский Сергей Ростиславович, Ибрагимов Наиль Хайруллович.\n",
              "Г.Нестеренко\n",
              "</p>\n",
              "</div>\n",
              "<div class=\"c-actions\">\n",
              "<p><a href=\"/wiki/%D0%9A%D0%B0%D1%84%D0%B5%D0%B4%D1%80%D0%B0_%D0%B2%D1%8B%D1%81%D1%88%D0%B5%D0%B9_%D0%BC%D0%B0%D1%82%D0%B5%D0%BC%D0%B0%D1%82%D0%B8%D0%BA%D0%B8#comment-34084\" rel=\"nofollow\">Ссылка</a>  | <a class=\"comments-reply-to\" data-comment-id=\"34084\" data-comments-safe-username=\"Непредставившийся участник\" href=\"#end\" rel=\"nofollow\">Ответить</a>\n",
              "</p>\n",
              "</div>\n",
              "</div>\n",
              "<div class=\"cleared\"></div>\n",
              "</div>\n",
              "<div class=\"c-item reply\" id=\"comment-35994\" style=\"\">\n",
              "<div class=\"c-avatar\"><img alt=\"\" border=\"0\" height=\"50\" src=\"https://avatars.dicebear.com/api/gridy/c6f7de050d881b0e67c0d6b09b16bf6ab78d3a09054a9f4d1438c7f25aef0b2b.svg\" width=\"50\"/></div>\n",
              "<div class=\"c-container\">\n",
              "<div class=\"c-user\">\n",
              "<div class=\"c-score\">\n",
              "<!--googleoff: index--><span class=\"c-score-title\">Оценка <span id=\"Comment35994\">0</span></span><!--googleon: index--><span id=\"CommentBtn35994\"><a href=\"?returnto=Кафедра_высшей_математики\" rel=\"nofollow\"><img alt=\"+\" border=\"0\" src=\"/extensions/Comments/images/thumbs-up.gif\"/></a><a href=\"?returnto=Кафедра_высшей_математики\" rel=\"nofollow\"><img alt=\"-\" border=\"0\" src=\"/extensions/Comments/images/thumbs-down.gif\"/></a></span></div>\n",
              "<p>Непредставившийся участник #3<span class=\"c-user-level\"></span>\n",
              "</p>\n",
              "<div class=\"c-time\">2017-08-12 20:34:54</div>\n",
              "</div>\n",
              "<div class=\"c-comment r-message\">\n",
              "<p>Гена, ну ты посромничал... Сам ведь преподавал.\n",
              "</p>\n",
              "</div></div></div></div></div></div></div></div></body></html><p>Дима Терёшин.\n",
              "</p>\n",
              "<div class=\"c-actions\">\n",
              "<a href=\"/wiki/%D0%9A%D0%B0%D1%84%D0%B5%D0%B4%D1%80%D0%B0_%D0%B2%D1%8B%D1%81%D1%88%D0%B5%D0%B9_%D0%BC%D0%B0%D1%82%D0%B5%D0%BC%D0%B0%D1%82%D0%B8%D0%BA%D0%B8#comment-35994\" rel=\"nofollow\">Ссылка</a> </div>\n",
              "\n",
              "<div class=\"cleared\"></div>\n",
              "\n",
              "<div class=\"c-item full\" id=\"comment-33484\" style=\"\">\n",
              "<div class=\"c-avatar\"><img alt=\"\" border=\"0\" height=\"50\" src=\"https://avatars.dicebear.com/api/gridy/c42f93490a7c32d2f2bf9b038c068139f143b6ff58825ae6e427117ea2eb8563.svg\" width=\"50\"/></div>\n",
              "<div class=\"c-container\">\n",
              "<div class=\"c-user\">\n",
              "<div class=\"c-score\">\n",
              "<!--googleoff: index--><span class=\"c-score-title\">Оценка <span id=\"Comment33484\">0</span></span><!--googleon: index--><span id=\"CommentBtn33484\"><a href=\"?returnto=Кафедра_высшей_математики\" rel=\"nofollow\"><img alt=\"+\" border=\"0\" src=\"/extensions/Comments/images/thumbs-up.gif\"/></a><a href=\"?returnto=Кафедра_высшей_математики\" rel=\"nofollow\"><img alt=\"-\" border=\"0\" src=\"/extensions/Comments/images/thumbs-down.gif\"/></a></span></div>\n",
              "<p>Непредставившийся участник #4<span class=\"c-user-level\"></span>\n",
              "</p>\n",
              "<div class=\"c-time\">2015-05-11 15:59:25</div>\n",
              "</div>\n",
              "<div class=\"c-comment f-message\">\n",
              "<p>А не хотите ключ от квартиры, где деньги лежат? (С)\n",
              "</p>\n",
              "</div>\n",
              "<div class=\"c-actions\">\n",
              "<p><a href=\"/wiki/%D0%9A%D0%B0%D1%84%D0%B5%D0%B4%D1%80%D0%B0_%D0%B2%D1%8B%D1%81%D1%88%D0%B5%D0%B9_%D0%BC%D0%B0%D1%82%D0%B5%D0%BC%D0%B0%D1%82%D0%B8%D0%BA%D0%B8#comment-33484\" rel=\"nofollow\">Ссылка</a>  | <a class=\"comments-reply-to\" data-comment-id=\"33484\" data-comments-safe-username=\"Непредставившийся участник\" href=\"#end\" rel=\"nofollow\">Ответить</a>\n",
              "</p>\n",
              "</div>\n",
              "</div>\n",
              "<div class=\"cleared\"></div>\n",
              "</div>\n",
              "<div class=\"c-item full\" id=\"comment-33482\" style=\"\">\n",
              "<div class=\"c-avatar\"><img alt=\"\" border=\"0\" height=\"50\" src=\"https://avatars.dicebear.com/api/gridy/3e6dbc6b308b1e9f7f6ac12fb9beed046ddec4d63f5a29c0cd0eb0c8d4a7faeb.svg\" width=\"50\"/></div>\n",
              "<div class=\"c-container\">\n",
              "<div class=\"c-user\">\n",
              "<div class=\"c-score\">\n",
              "<!--googleoff: index--><span class=\"c-score-title\">Оценка <span id=\"Comment33482\">1</span></span><!--googleon: index--><span id=\"CommentBtn33482\"><a href=\"?returnto=Кафедра_высшей_математики\" rel=\"nofollow\"><img alt=\"+\" border=\"0\" src=\"/extensions/Comments/images/thumbs-up.gif\"/></a><a href=\"?returnto=Кафедра_высшей_математики\" rel=\"nofollow\"><img alt=\"-\" border=\"0\" src=\"/extensions/Comments/images/thumbs-down.gif\"/></a></span></div>\n",
              "<p>Непредставившийся участник #5<span class=\"c-user-level\"></span>\n",
              "</p>\n",
              "<div class=\"c-time\">2015-05-11 07:28:48</div>\n",
              "</div>\n",
              "<div class=\"c-comment f-message\">\n",
              "<p>Отсутствуют данные контактов: номер телефона и электронной почты\n",
              "</p>\n",
              "</div>\n",
              "<div class=\"c-actions\">\n",
              "<p><a href=\"/wiki/%D0%9A%D0%B0%D1%84%D0%B5%D0%B4%D1%80%D0%B0_%D0%B2%D1%8B%D1%81%D1%88%D0%B5%D0%B9_%D0%BC%D0%B0%D1%82%D0%B5%D0%BC%D0%B0%D1%82%D0%B8%D0%BA%D0%B8#comment-33482\" rel=\"nofollow\">Ссылка</a>  | <a class=\"comments-reply-to\" data-comment-id=\"33482\" data-comments-safe-username=\"Непредставившийся участник\" href=\"#end\" rel=\"nofollow\">Ответить</a>\n",
              "</p>\n",
              "</div>\n",
              "</div>\n",
              "<div class=\"cleared\"></div>\n",
              "</div>\n",
              "<div class=\"c-item full\" id=\"comment-33215\" style=\"\">\n",
              "<div class=\"c-avatar\"><img alt=\"\" border=\"0\" height=\"50\" src=\"https://avatars.dicebear.com/api/gridy/dfc2e89e090aebe12288a9b222fc95ad287c6689cdba6d830cbd13b8757801d1.svg\" width=\"50\"/></div>\n",
              "<div class=\"c-container\">\n",
              "<div class=\"c-user\">\n",
              "<div class=\"c-score\">\n",
              "<!--googleoff: index--><span class=\"c-score-title\">Оценка <span id=\"Comment33215\">0</span></span><!--googleon: index--><span id=\"CommentBtn33215\"><a href=\"?returnto=Кафедра_высшей_математики\" rel=\"nofollow\"><img alt=\"+\" border=\"0\" src=\"/extensions/Comments/images/thumbs-up.gif\"/></a><a href=\"?returnto=Кафедра_высшей_математики\" rel=\"nofollow\"><img alt=\"-\" border=\"0\" src=\"/extensions/Comments/images/thumbs-down.gif\"/></a></span></div>\n",
              "<p>Непредставившийся участник #6<span class=\"c-user-level\"></span>\n",
              "</p>\n",
              "<div class=\"c-time\">2015-02-08 07:15:47</div>\n",
              "</div>\n",
              "<div class=\"c-comment f-message\">\n",
              "<p>А почему ничего нет о таких замечательных лекторах как Тиляковский и Павлоцкий?\n",
              "</p>\n",
              "</div>\n",
              "<div class=\"c-actions\">\n",
              "<p><a href=\"/wiki/%D0%9A%D0%B0%D1%84%D0%B5%D0%B4%D1%80%D0%B0_%D0%B2%D1%8B%D1%81%D1%88%D0%B5%D0%B9_%D0%BC%D0%B0%D1%82%D0%B5%D0%BC%D0%B0%D1%82%D0%B8%D0%BA%D0%B8#comment-33215\" rel=\"nofollow\">Ссылка</a>  | <a class=\"comments-reply-to\" data-comment-id=\"33215\" data-comments-safe-username=\"Непредставившийся участник\" href=\"#end\" rel=\"nofollow\">Ответить</a>\n",
              "</p>\n",
              "</div>\n",
              "</div>\n",
              "<div class=\"cleared\"></div>\n",
              "</div>\n",
              "<a id=\"end\" name=\"end\" rel=\"nofollow\"></a><form action=\"\" method=\"post\" name=\"commentform\">\n",
              "<div class=\"c-form-title\"><a name=\"c-form-title\"></a>Добавить комментарий</div>\n",
              "<div class=\"c-form-reply-to\" id=\"replyto\"></div>\n",
              "<div class=\"c-form-message\">На сайте {{SITENAME}} комментарии можно оставлять <b>всем</b>. Если Вы не хотите оставаться анонимным, <a href=\"/wiki/%D0%A1%D0%BB%D1%83%D0%B6%D0%B5%D0%B1%D0%BD%D0%B0%D1%8F:%D0%92%D1%85%D0%BE%D0%B4/signup\">зарегистрируйтесь</a> или <a href=\"/wiki/%D0%A1%D0%BB%D1%83%D0%B6%D0%B5%D0%B1%D0%BD%D0%B0%D1%8F:%D0%92%D1%85%D0%BE%D0%B4\">представьтесь</a>. Это бесплатно.</div>\n",
              "<p><textarea cols=\"64\" id=\"comment\" name=\"comment_text\" rows=\"5\"></textarea>\n",
              "</p>\n",
              "<div class=\"c-form-button\"><input class=\"site-button\" type=\"button\" value=\"Добавить комментарий\"/></div>\n",
              "<p><input name=\"action\" type=\"hidden\" value=\"purge\"/>\n",
              "<input name=\"pid\" type=\"hidden\" value=\"23\"/>\n",
              "<input name=\"commentid\" type=\"hidden\"/>\n",
              "<input name=\"lastcommentid\" type=\"hidden\" value=\"38028\"/>\n",
              "<input name=\"comment_parent_id\" type=\"hidden\"/>\n",
              "</p></form>\n",
              " <div class=\"printfooter\">\n",
              "\t\t\t\t\t\tИсточник — «<a dir=\"ltr\" href=\"http://wikimipt.org/index.php?title=Кафедра_высшей_математики&amp;oldid=12534\">http://wikimipt.org/index.php?title=Кафедра_высшей_математики&amp;oldid=12534</a>»\t\t\t\t\t</div>\n",
              "<div class=\"catlinks\" id=\"catlinks\"><div class=\"mw-normal-catlinks\" id=\"mw-normal-catlinks\"><a href=\"/wiki/%D0%A1%D0%BB%D1%83%D0%B6%D0%B5%D0%B1%D0%BD%D0%B0%D1%8F:%D0%9A%D0%B0%D1%82%D0%B5%D0%B3%D0%BE%D1%80%D0%B8%D0%B8\" title=\"Служебная:Категории\">Категория</a>: <ul><li><a href=\"/wiki/%D0%9A%D0%B0%D1%82%D0%B5%D0%B3%D0%BE%D1%80%D0%B8%D1%8F:%D0%9A%D0%B0%D1%84%D0%B5%D0%B4%D1%80%D1%8B_%D0%BF%D0%BE_%D0%B0%D0%BB%D1%84%D0%B0%D0%B2%D0%B8%D1%82%D1%83\" title=\"Категория:Кафедры по алфавиту\">Кафедры по алфавиту</a></li></ul></div></div> <div class=\"visualClear\"></div>\n",
              "\n",
              "\n",
              "<div id=\"mw-navigation\">\n",
              "<h2>Навигация</h2>\n",
              "<div id=\"mw-head\">\n",
              "<div aria-labelledby=\"p-personal-label\" class=\"\" id=\"p-personal\" role=\"navigation\">\n",
              "<h3 id=\"p-personal-label\">Персональные инструменты</h3>\n",
              "<ul>\n",
              "<li id=\"pt-anonuserpage\"><a accesskey=\".\" class=\"new\" href=\"/wiki/%D0%A3%D1%87%D0%B0%D1%81%D1%82%D0%BD%D0%B8%D0%BA:34.141.201.194\" title=\"Страница участника для моего IP [.]\">34.141.201.194</a></li><li id=\"pt-anontalk\"><a accesskey=\"n\" class=\"new\" href=\"/wiki/%D0%9E%D0%B1%D1%81%D1%83%D0%B6%D0%B4%D0%B5%D0%BD%D0%B8%D0%B5_%D1%83%D1%87%D0%B0%D1%81%D1%82%D0%BD%D0%B8%D0%BA%D0%B0:34.141.201.194\" title=\"Страница обсуждений для моего IP [n]\">Обсуждение для этого IP-адреса</a></li><li id=\"pt-login\"><a accesskey=\"o\" href=\"/index.php?title=%D0%A1%D0%BB%D1%83%D0%B6%D0%B5%D0%B1%D0%BD%D0%B0%D1%8F:%D0%92%D1%85%D0%BE%D0%B4&amp;returnto=%D0%9A%D0%B0%D1%84%D0%B5%D0%B4%D1%80%D0%B0+%D0%B2%D1%8B%D1%81%D1%88%D0%B5%D0%B9+%D0%BC%D0%B0%D1%82%D0%B5%D0%BC%D0%B0%D1%82%D0%B8%D0%BA%D0%B8\" title=\"Здесь можно зарегистрироваться в системе, но это необязательно. [o]\">Войти</a></li> </ul>\n",
              "</div>\n",
              "<div id=\"left-navigation\">\n",
              "<div aria-labelledby=\"p-namespaces-label\" class=\"vectorTabs\" id=\"p-namespaces\" role=\"navigation\">\n",
              "<h3 id=\"p-namespaces-label\">Пространства имён</h3>\n",
              "<ul>\n",
              "<li class=\"selected\" id=\"ca-nstab-main\"><span><a accesskey=\"c\" href=\"/wiki/%D0%9A%D0%B0%D1%84%D0%B5%D0%B4%D1%80%D0%B0_%D0%B2%D1%8B%D1%81%D1%88%D0%B5%D0%B9_%D0%BC%D0%B0%D1%82%D0%B5%D0%BC%D0%B0%D1%82%D0%B8%D0%BA%D0%B8\" title=\"Просмотр основной страницы [c]\">Статья</a></span></li>\n",
              "<li class=\"new\" id=\"ca-talk\"><span><a accesskey=\"t\" href=\"/index.php?title=%D0%9E%D0%B1%D1%81%D1%83%D0%B6%D0%B4%D0%B5%D0%BD%D0%B8%D0%B5:%D0%9A%D0%B0%D1%84%D0%B5%D0%B4%D1%80%D0%B0_%D0%B2%D1%8B%D1%81%D1%88%D0%B5%D0%B9_%D0%BC%D0%B0%D1%82%D0%B5%D0%BC%D0%B0%D1%82%D0%B8%D0%BA%D0%B8&amp;action=edit&amp;redlink=1\" rel=\"discussion\" title=\"Обсуждение основной страницы [t]\">Обсуждение</a></span></li>\n",
              "</ul>\n",
              "</div>\n",
              "<div aria-labelledby=\"p-variants-label\" class=\"vectorMenu emptyPortlet\" id=\"p-variants\" role=\"navigation\">\n",
              "<h3 id=\"p-variants-label\">\n",
              "<span>Варианты</span><a href=\"#\"></a>\n",
              "</h3>\n",
              "<div class=\"menu\">\n",
              "<ul>\n",
              "</ul>\n",
              "</div>\n",
              "</div>\n",
              "</div>\n",
              "<div id=\"right-navigation\">\n",
              "<div aria-labelledby=\"p-views-label\" class=\"vectorTabs\" id=\"p-views\" role=\"navigation\">\n",
              "<h3 id=\"p-views-label\">Просмотры</h3>\n",
              "<ul>\n",
              "<li class=\"selected\" id=\"ca-view\"><span><a href=\"/wiki/%D0%9A%D0%B0%D1%84%D0%B5%D0%B4%D1%80%D0%B0_%D0%B2%D1%8B%D1%81%D1%88%D0%B5%D0%B9_%D0%BC%D0%B0%D1%82%D0%B5%D0%BC%D0%B0%D1%82%D0%B8%D0%BA%D0%B8\">Читать</a></span></li>\n",
              "<li class=\"collapsible\" id=\"ca-formedit\"><span><a accesskey=\"&amp;\" href=\"/index.php?title=%D0%9A%D0%B0%D1%84%D0%B5%D0%B4%D1%80%D0%B0_%D0%B2%D1%8B%D1%81%D1%88%D0%B5%D0%B9_%D0%BC%D0%B0%D1%82%D0%B5%D0%BC%D0%B0%D1%82%D0%B8%D0%BA%D0%B8&amp;action=formedit\" title=\"Edit this page with a form [&amp;]\">Смотреть форму</a></span></li>\n",
              "<li id=\"ca-viewsource\"><span><a accesskey=\"e\" href=\"/index.php?title=%D0%9A%D0%B0%D1%84%D0%B5%D0%B4%D1%80%D0%B0_%D0%B2%D1%8B%D1%81%D1%88%D0%B5%D0%B9_%D0%BC%D0%B0%D1%82%D0%B5%D0%BC%D0%B0%D1%82%D0%B8%D0%BA%D0%B8&amp;action=edit\" title=\"Эта страница защищена от изменений, но вы можете посмотреть и скопировать её исходный текст [e]\">Просмотр</a></span></li>\n",
              "<li class=\"collapsible\" id=\"ca-history\"><span><a accesskey=\"h\" href=\"/index.php?title=%D0%9A%D0%B0%D1%84%D0%B5%D0%B4%D1%80%D0%B0_%D0%B2%D1%8B%D1%81%D1%88%D0%B5%D0%B9_%D0%BC%D0%B0%D1%82%D0%B5%D0%BC%D0%B0%D1%82%D0%B8%D0%BA%D0%B8&amp;action=history\" title=\"Журнал изменений страницы [h]\">История</a></span></li>\n",
              "</ul>\n",
              "</div>\n",
              "<div aria-labelledby=\"p-cactions-label\" class=\"vectorMenu emptyPortlet\" id=\"p-cactions\" role=\"navigation\">\n",
              "<h3 id=\"p-cactions-label\"><span>Ещё</span><a href=\"#\"></a></h3>\n",
              "<div class=\"menu\">\n",
              "<ul>\n",
              "</ul>\n",
              "</div>\n",
              "</div>\n",
              "<div id=\"p-search\" role=\"search\">\n",
              "<h3>\n",
              "<label for=\"searchInput\">Поиск</label>\n",
              "</h3>\n",
              "<form action=\"/index.php\" id=\"searchform\">\n",
              "<div id=\"simpleSearch\">\n",
              "<input accesskey=\"f\" id=\"searchInput\" name=\"search\" placeholder=\"Поиск\" title=\"Искать в викиФизтех [f]\" type=\"search\"/><input name=\"title\" type=\"hidden\" value=\"Служебная:Поиск\"/><input class=\"searchButton mw-fallbackSearchButton\" id=\"mw-searchButton\" name=\"fulltext\" title=\"Найти страницы, содержащие указанный текст\" type=\"submit\" value=\"Найти\"/><input class=\"searchButton\" id=\"searchButton\" name=\"go\" title=\"Перейти к странице, имеющей в точности такое название\" type=\"submit\" value=\"Перейти\"/> </div>\n",
              "</form>\n",
              "</div>\n",
              "</div>\n",
              "</div>\n",
              "<div id=\"mw-panel\">\n",
              "<div id=\"p-logo\" role=\"banner\"><a class=\"mw-wiki-logo\" href=\"/wiki/%D0%97%D0%B0%D0%B3%D0%BB%D0%B0%D0%B2%D0%BD%D0%B0%D1%8F_%D1%81%D1%82%D1%80%D0%B0%D0%BD%D0%B8%D1%86%D0%B0\" title=\"Перейти на заглавную страницу\"></a></div>\n",
              "<div aria-labelledby=\"p-navigation-label\" class=\"portal\" id=\"p-navigation\" role=\"navigation\">\n",
              "<h3 id=\"p-navigation-label\">Навигация</h3>\n",
              "<div class=\"body\">\n",
              "<ul>\n",
              "<li id=\"n-mainpage-description\"><a accesskey=\"z\" href=\"/wiki/%D0%97%D0%B0%D0%B3%D0%BB%D0%B0%D0%B2%D0%BD%D0%B0%D1%8F_%D1%81%D1%82%D1%80%D0%B0%D0%BD%D0%B8%D1%86%D0%B0\" title=\"Перейти на заглавную страницу [z]\">Заглавная страница</a></li><li id=\"n-currentevents\"><a href=\"/wiki/%D0%92%D0%B8%D0%BA%D0%B8%D0%A4%D0%B8%D0%B7%D1%82%D0%B5%D1%85:%D0%A2%D0%B5%D0%BA%D1%83%D1%89%D0%B8%D0%B5_%D1%81%D0%BE%D0%B1%D1%8B%D1%82%D0%B8%D1%8F\" title=\"Информация о текущих событиях\">Текущие события</a></li><li id=\"n-recentchanges\"><a accesskey=\"r\" href=\"/wiki/%D0%A1%D0%BB%D1%83%D0%B6%D0%B5%D0%B1%D0%BD%D0%B0%D1%8F:%D0%A1%D0%B2%D0%B5%D0%B6%D0%B8%D0%B5_%D0%BF%D1%80%D0%B0%D0%B2%D0%BA%D0%B8\" title=\"Список последних изменений [r]\">Свежие правки</a></li><li id=\"n-.D0.9D.D0.BE.D0.B2.D1.8B.D0.B5-.D1.81.D1.82.D1.80.D0.B0.D0.BD.D0.B8.D1.86.D1.8B\"><a href=\"/wiki/%D0%A1%D0%BB%D1%83%D0%B6%D0%B5%D0%B1%D0%BD%D0%B0%D1%8F:%D0%9D%D0%BE%D0%B2%D1%8B%D0%B5_%D1%81%D1%82%D1%80%D0%B0%D0%BD%D0%B8%D1%86%D1%8B\">Новые страницы</a></li><li id=\"n-randompage\"><a accesskey=\"x\" href=\"/wiki/%D0%A1%D0%BB%D1%83%D0%B6%D0%B5%D0%B1%D0%BD%D0%B0%D1%8F:%D0%A1%D0%BB%D1%83%D1%87%D0%B0%D0%B9%D0%BD%D0%B0%D1%8F_%D1%81%D1%82%D1%80%D0%B0%D0%BD%D0%B8%D1%86%D0%B0\" title=\"Посмотреть случайно выбранную страницу [x]\">Случайная статья</a></li> </ul>\n",
              "</div>\n",
              "</div>\n",
              "<div aria-labelledby=\"p-.D0.A1.D0.BE.D0.B4.D0.B5.D1.80.D0.B6.D0.B0.D0.BD.D0.B8.D0.B5-label\" class=\"portal\" id=\"p-.D0.A1.D0.BE.D0.B4.D0.B5.D1.80.D0.B6.D0.B0.D0.BD.D0.B8.D0.B5\" role=\"navigation\">\n",
              "<h3 id=\"p-.D0.A1.D0.BE.D0.B4.D0.B5.D1.80.D0.B6.D0.B0.D0.BD.D0.B8.D0.B5-label\">Содержание</h3>\n",
              "<div class=\"body\">\n",
              "<ul>\n",
              "<li id=\"n-.D0.A4.D0.B0.D0.BA.D1.83.D0.BB.D1.8C.D1.82.D0.B5.D1.82.D1.8B\"><a href=\"/wiki/%D0%9A%D0%B0%D1%82%D0%B5%D0%B3%D0%BE%D1%80%D0%B8%D1%8F:%D0%A4%D0%B0%D0%BA%D1%83%D0%BB%D1%8C%D1%82%D0%B5%D1%82%D1%8B\">Факультеты</a></li><li id=\"n-.D0.9A.D0.B0.D1.84.D0.B5.D0.B4.D1.80.D1.8B\"><a href=\"/wiki/%D0%9A%D0%B0%D1%82%D0%B5%D0%B3%D0%BE%D1%80%D0%B8%D1%8F:%D0%9A%D0%B0%D1%84%D0%B5%D0%B4%D1%80%D1%8B_%D0%BF%D0%BE_%D0%B0%D0%BB%D1%84%D0%B0%D0%B2%D0%B8%D1%82%D1%83\">Кафедры</a></li><li id=\"n-.D0.9F.D1.80.D0.B5.D0.B4.D0.BC.D0.B5.D1.82.D1.8B\"><a href=\"/wiki/%D0%9A%D0%B0%D1%82%D0%B5%D0%B3%D0%BE%D1%80%D0%B8%D1%8F:%D0%9F%D1%80%D0%B5%D0%B4%D0%BC%D0%B5%D1%82%D1%8B_%D0%BF%D0%BE_%D0%B0%D0%BB%D1%84%D0%B0%D0%B2%D0%B8%D1%82%D1%83\">Предметы</a></li><li id=\"n-.D0.9F.D1.80.D0.B5.D0.BF.D0.BE.D0.B4.D0.B0.D0.B2.D0.B0.D1.82.D0.B5.D0.BB.D0.B8\"><a href=\"/wiki/%D0%9A%D0%B0%D1%82%D0%B5%D0%B3%D0%BE%D1%80%D0%B8%D1%8F:%D0%9F%D1%80%D0%B5%D0%BF%D0%BE%D0%B4%D0%B0%D0%B2%D0%B0%D1%82%D0%B5%D0%BB%D0%B8_%D0%BF%D0%BE_%D0%B0%D0%BB%D1%84%D0%B0%D0%B2%D0%B8%D1%82%D1%83\">Преподаватели</a></li><li id=\"n-.D0.A0.D0.B5.D0.B9.D1.82.D0.B8.D0.BD.D0.B3\"><a href=\"/wiki/%D0%92%D0%B8%D0%BA%D0%B8%D0%A4%D0%B8%D0%B7%D1%82%D0%B5%D1%85:%D0%A0%D0%B5%D0%B9%D1%82%D0%B8%D0%BD%D0%B3_%D0%BF%D1%80%D0%B5%D0%BF%D0%BE%D0%B4%D0%B0%D0%B2%D0%B0%D1%82%D0%B5%D0%BB%D0%B5%D0%B9\">Рейтинг</a></li><li id=\"n-.D0.9A.D0.BD.D0.B8.D0.B3.D0.B8\"><a href=\"/wiki/%D0%9A%D0%B0%D1%82%D0%B5%D0%B3%D0%BE%D1%80%D0%B8%D1%8F:%D0%9A%D0%BD%D0%B8%D0%B3%D0%B8\">Книги</a></li><li id=\"n-.D0.A4.D0.BE.D0.BB.D1.8C.D0.BA.D0.BB.D0.BE.D1.80\"><a href=\"/wiki/%D0%9A%D0%B0%D1%82%D0%B5%D0%B3%D0%BE%D1%80%D0%B8%D1%8F:%D0%A4%D0%B8%D0%B7%D1%82%D0%B5%D1%85%D0%BE%D0%B2%D1%81%D0%BA%D0%B8%D0%B9_%D1%84%D0%BE%D0%BB%D1%8C%D0%BA%D0%BB%D0%BE%D1%80\">Фольклор</a></li><li id=\"n-.D0.9E.D1.80.D0.B3.D0.B0.D0.BD.D0.B8.D0.B7.D0.B0.D1.86.D0.B8.D0.B8\"><a href=\"/wiki/%D0%9A%D0%B0%D1%82%D0%B5%D0%B3%D0%BE%D1%80%D0%B8%D1%8F:%D0%9E%D1%80%D0%B3%D0%B0%D0%BD%D0%B8%D0%B7%D0%B0%D1%86%D0%B8%D0%B8\">Организации</a></li><li id=\"n-.D0.9F.D0.B0.D0.BC.D1.8F.D1.82.D0.BA.D0.B8\"><a href=\"/wiki/%D0%9A%D0%B0%D1%82%D0%B5%D0%B3%D0%BE%D1%80%D0%B8%D1%8F:%D0%9F%D0%B0%D0%BC%D1%8F%D1%82%D0%BA%D0%B8_%D0%B8_%D0%B8%D0%BD%D1%81%D1%82%D1%80%D1%83%D0%BA%D1%86%D0%B8%D0%B8\">Памятки</a></li><li id=\"n-.D0.9F.D1.83.D1.82.D0.B5.D0.B2.D0.BE.D0.B4.D0.B8.D1.82.D0.B5.D0.BB.D1.8C\"><a href=\"/wiki/%D0%9A%D0%B0%D1%82%D0%B5%D0%B3%D0%BE%D1%80%D0%B8%D1%8F:%D0%9F%D1%83%D1%82%D0%B5%D0%B2%D0%BE%D0%B4%D0%B8%D1%82%D0%B5%D0%BB%D1%8C\">Путеводитель</a></li> </ul>\n",
              "</div>\n",
              "</div>\n",
              "<div aria-labelledby=\"p-.D0.94.D0.BE.D0.B1.D0.B0.D0.B2.D0.B8.D1.82.D1.8C...-label\" class=\"portal\" id=\"p-.D0.94.D0.BE.D0.B1.D0.B0.D0.B2.D0.B8.D1.82.D1.8C...\" role=\"navigation\">\n",
              "<h3 id=\"p-.D0.94.D0.BE.D0.B1.D0.B0.D0.B2.D0.B8.D1.82.D1.8C...-label\">Добавить...</h3>\n",
              "<div class=\"body\">\n",
              "<ul>\n",
              "<li id=\"n-.D0.94.D0.BE.D0.B1.D0.B0.D0.B2.D0.B8.D1.82.D1.8C-.D1.84.D0.B0.D0.BA.D1.83.D0.BB.D1.8C.D1.82.D0.B5.D1.82\"><a href=\"/wiki/%D0%A4%D0%BE%D1%80%D0%BC%D0%B0:%D0%A4%D0%B0%D0%BA%D1%83%D0%BB%D1%8C%D1%82%D0%B5%D1%82\">Добавить факультет</a></li><li id=\"n-.D0.94.D0.BE.D0.B1.D0.B0.D0.B2.D0.B8.D1.82.D1.8C-.D0.BF.D1.80.D0.B5.D0.BF.D0.BE.D0.B4.D0.B0.D0.B2.D0.B0.D1.82.D0.B5.D0.BB.D1.8F\"><a href=\"/wiki/%D0%A4%D0%BE%D1%80%D0%BC%D0%B0:%D0%9F%D1%80%D0%B5%D0%BF%D0%BE%D0%B4%D0%B0%D0%B2%D0%B0%D1%82%D0%B5%D0%BB%D1%8C\">Добавить преподавателя</a></li><li id=\"n-.D0.94.D0.BE.D0.B1.D0.B0.D0.B2.D0.B8.D1.82.D1.8C-.D0.BA.D0.B0.D1.84.D0.B5.D0.B4.D1.80.D1.83\"><a href=\"/wiki/%D0%A4%D0%BE%D1%80%D0%BC%D0%B0:%D0%9A%D0%B0%D1%84%D0%B5%D0%B4%D1%80%D0%B0\">Добавить кафедру</a></li><li id=\"n-.D0.94.D0.BE.D0.B1.D0.B0.D0.B2.D0.B8.D1.82.D1.8C-.D0.BF.D1.80.D0.B5.D0.B4.D0.BC.D0.B5.D1.82\"><a href=\"/wiki/%D0%A4%D0%BE%D1%80%D0%BC%D0%B0:%D0%9F%D1%80%D0%B5%D0%B4%D0%BC%D0%B5%D1%82\">Добавить предмет</a></li><li id=\"n-.D0.94.D0.BE.D0.B1.D0.B0.D0.B2.D0.B8.D1.82.D1.8C-.D0.BA.D0.BD.D0.B8.D0.B3.D1.83\"><a href=\"/wiki/%D0%A4%D0%BE%D1%80%D0%BC%D0%B0:%D0%9A%D0%BD%D0%B8%D0%B3%D0%B0\">Добавить книгу</a></li><li id=\"n-.D0.94.D0.BE.D0.B1.D0.B0.D0.B2.D0.B8.D1.82.D1.8C-.D1.84.D0.B8.D0.B7.D1.82.D0.B5.D1.85.D0.B0\"><a href=\"/wiki/%D0%A4%D0%BE%D1%80%D0%BC%D0%B0:%D0%A4%D0%B8%D0%B7%D1%82%D0%B5%D1%85\">Добавить физтеха</a></li> </ul>\n",
              "</div>\n",
              "</div>\n",
              "<div aria-labelledby=\"p-tb-label\" class=\"portal\" id=\"p-tb\" role=\"navigation\">\n",
              "<h3 id=\"p-tb-label\">Инструменты</h3>\n",
              "<div class=\"body\">\n",
              "<ul>\n",
              "<li id=\"t-whatlinkshere\"><a accesskey=\"j\" href=\"/wiki/%D0%A1%D0%BB%D1%83%D0%B6%D0%B5%D0%B1%D0%BD%D0%B0%D1%8F:%D0%A1%D1%81%D1%8B%D0%BB%D0%BA%D0%B8_%D1%81%D1%8E%D0%B4%D0%B0/%D0%9A%D0%B0%D1%84%D0%B5%D0%B4%D1%80%D0%B0_%D0%B2%D1%8B%D1%81%D1%88%D0%B5%D0%B9_%D0%BC%D0%B0%D1%82%D0%B5%D0%BC%D0%B0%D1%82%D0%B8%D0%BA%D0%B8\" title=\"Список всех страниц, ссылающихся на данную [j]\">Ссылки сюда</a></li><li id=\"t-recentchangeslinked\"><a accesskey=\"k\" href=\"/wiki/%D0%A1%D0%BB%D1%83%D0%B6%D0%B5%D0%B1%D0%BD%D0%B0%D1%8F:%D0%A1%D0%B2%D1%8F%D0%B7%D0%B0%D0%BD%D0%BD%D1%8B%D0%B5_%D0%BF%D1%80%D0%B0%D0%B2%D0%BA%D0%B8/%D0%9A%D0%B0%D1%84%D0%B5%D0%B4%D1%80%D0%B0_%D0%B2%D1%8B%D1%81%D1%88%D0%B5%D0%B9_%D0%BC%D0%B0%D1%82%D0%B5%D0%BC%D0%B0%D1%82%D0%B8%D0%BA%D0%B8\" title=\"Последние изменения в страницах, на которые ссылается эта страница [k]\">Связанные правки</a></li><li id=\"t-specialpages\"><a accesskey=\"q\" href=\"/wiki/%D0%A1%D0%BB%D1%83%D0%B6%D0%B5%D0%B1%D0%BD%D0%B0%D1%8F:%D0%A1%D0%BF%D0%B5%D1%86%D1%81%D1%82%D1%80%D0%B0%D0%BD%D0%B8%D1%86%D1%8B\" title=\"Список служебных страниц [q]\">Спецстраницы</a></li><li id=\"t-print\"><a accesskey=\"p\" href=\"/index.php?title=%D0%9A%D0%B0%D1%84%D0%B5%D0%B4%D1%80%D0%B0_%D0%B2%D1%8B%D1%81%D1%88%D0%B5%D0%B9_%D0%BC%D0%B0%D1%82%D0%B5%D0%BC%D0%B0%D1%82%D0%B8%D0%BA%D0%B8&amp;printable=yes\" rel=\"alternate\" title=\"Версия этой страницы для печати [p]\">Версия для печати</a></li><li id=\"t-permalink\"><a href=\"/index.php?title=%D0%9A%D0%B0%D1%84%D0%B5%D0%B4%D1%80%D0%B0_%D0%B2%D1%8B%D1%81%D1%88%D0%B5%D0%B9_%D0%BC%D0%B0%D1%82%D0%B5%D0%BC%D0%B0%D1%82%D0%B8%D0%BA%D0%B8&amp;oldid=12534\" title=\"Постоянная ссылка на эту версию страницы\">Постоянная ссылка</a></li><li id=\"t-info\"><a href=\"/index.php?title=%D0%9A%D0%B0%D1%84%D0%B5%D0%B4%D1%80%D0%B0_%D0%B2%D1%8B%D1%81%D1%88%D0%B5%D0%B9_%D0%BC%D0%B0%D1%82%D0%B5%D0%BC%D0%B0%D1%82%D0%B8%D0%BA%D0%B8&amp;action=info\" title=\"Подробнее об этой странице\">Сведения о странице</a></li><li id=\"t-smwbrowselink\"><a href=\"/wiki/%D0%A1%D0%BB%D1%83%D0%B6%D0%B5%D0%B1%D0%BD%D0%B0%D1%8F:Browse/%D0%9A%D0%B0%D1%84%D0%B5%D0%B4%D1%80%D0%B0_%D0%B2%D1%8B%D1%81%D1%88%D0%B5%D0%B9_%D0%BC%D0%B0%D1%82%D0%B5%D0%BC%D0%B0%D1%82%D0%B8%D0%BA%D0%B8\" rel=\"smw-browse\">Просмотреть свойства</a></li> </ul>\n",
              "</div>\n",
              "</div>\n",
              "</div>\n",
              "</div>\n",
              "<div id=\"footer\" role=\"contentinfo\">\n",
              "<ul id=\"footer-info\">\n",
              "<li id=\"footer-info-lastmod\"> Последнее изменение этой страницы: 15:12, 28 июля 2021.</li>\n",
              "<li id=\"footer-info-copyright\">Содержимое доступно по лицензии <a class=\"external\" href=\"http://creativecommons.org/licenses/by-sa/3.0/\" rel=\"nofollow\">Creative Commons Attribution Share Alike</a> (если не указано иное).</li>\n",
              "</ul>\n",
              "<ul id=\"footer-places\">\n",
              "<li id=\"footer-places-privacy\"><a href=\"/wiki/%D0%92%D0%B8%D0%BA%D0%B8%D0%A4%D0%B8%D0%B7%D1%82%D0%B5%D1%85:%D0%9F%D0%BE%D0%BB%D0%B8%D1%82%D0%B8%D0%BA%D0%B0_%D0%BA%D0%BE%D0%BD%D1%84%D0%B8%D0%B4%D0%B5%D0%BD%D1%86%D0%B8%D0%B0%D0%BB%D1%8C%D0%BD%D0%BE%D1%81%D1%82%D0%B8\" title=\"ВикиФизтех:Политика конфиденциальности\">Политика конфиденциальности</a></li>\n",
              "<li id=\"footer-places-about\"><a href=\"/wiki/%D0%92%D0%B8%D0%BA%D0%B8%D0%A4%D0%B8%D0%B7%D1%82%D0%B5%D1%85:%D0%9E%D0%BF%D0%B8%D1%81%D0%B0%D0%BD%D0%B8%D0%B5\" title=\"ВикиФизтех:Описание\">Описание викиФизтех</a></li>\n",
              "<li id=\"footer-places-disclaimer\"><a href=\"/wiki/%D0%92%D0%B8%D0%BA%D0%B8%D0%A4%D0%B8%D0%B7%D1%82%D0%B5%D1%85:%D0%9E%D1%82%D0%BA%D0%B0%D0%B7_%D0%BE%D1%82_%D0%BE%D1%82%D0%B2%D0%B5%D1%82%D1%81%D1%82%D0%B2%D0%B5%D0%BD%D0%BD%D0%BE%D1%81%D1%82%D0%B8\" title=\"ВикиФизтех:Отказ от ответственности\">Отказ от ответственности</a></li>\n",
              "<li id=\"footer-places-contactus\"><a href=\"/wiki/%D0%92%D0%B8%D0%BA%D0%B8%D0%A4%D0%B8%D0%B7%D1%82%D0%B5%D1%85:%D0%A1%D0%B2%D1%8F%D0%B7%D0%B0%D1%82%D1%8C%D1%81%D1%8F_%D1%81_%D1%80%D0%B5%D0%B4%D0%B0%D0%BA%D1%86%D0%B8%D0%B5%D0%B9\" title=\"ВикиФизтех:Связаться с редакцией\">Связаться с редакцией</a></li>\n",
              "</ul>\n",
              "<ul class=\"noprint\" id=\"footer-icons\">\n",
              "<li id=\"footer-copyrightico\">\n",
              "<a href=\"http://creativecommons.org/licenses/by-sa/3.0/\"><img alt=\"Creative Commons Attribution Share Alike\" height=\"31\" src=\"/resources/assets/licenses/cc-by-sa.png\" width=\"88\"/></a> </li>\n",
              "<li id=\"footer-poweredbyico\">\n",
              "<a href=\"//www.mediawiki.org/\"><img alt=\"Powered by MediaWiki\" height=\"31\" src=\"/resources/assets/poweredby_mediawiki_88x31.png\" srcset=\"/resources/assets/poweredby_mediawiki_132x47.png 1.5x, /resources/assets/poweredby_mediawiki_176x62.png 2x\" width=\"88\"/></a><a href=\"https://www.semantic-mediawiki.org/wiki/Semantic_MediaWiki\"><img alt=\"Powered by Semantic MediaWiki\" height=\"31\" src=\"/extensions/SemanticMediaWiki/includes/../res/images/smw_button.png\" width=\"88\"/></a> </li>\n",
              "</ul>\n",
              "<div style=\"clear:both\"></div>\n",
              "</div>\n",
              "<script>window.RLQ = window.RLQ || []; window.RLQ.push( function () {\n",
              "mw.loader.state({\"user\":\"ready\",\"user.groups\":\"ready\"});mw.loader.load([\"ext.smw.tooltips\",\"mediawiki.action.view.postEdit\",\"site\",\"mediawiki.user\",\"mediawiki.hidpi\",\"mediawiki.page.ready\",\"mediawiki.searchSuggest\"]);\n",
              "} );</script><script>\n",
              "  (function(i,s,o,g,r,a,m){i['GoogleAnalyticsObject']=r;i[r]=i[r]||function(){\n",
              "  (i[r].q=i[r].q||[]).push(arguments)},i[r].l=1*new Date();a=s.createElement(o),\n",
              "  m=s.getElementsByTagName(o)[0];a.async=1;a.src=g;m.parentNode.insertBefore(a,m)\n",
              "  })(window,document,'script','//www.google-analytics.com/analytics.js','ga');\n",
              "\n",
              "  ga('create', 'UA-37102015-1', 'auto');\n",
              "  ga('send', 'pageview');\n",
              "\n",
              "</script><script>window.RLQ = window.RLQ || []; window.RLQ.push( function () {\n",
              "mw.config.set({\"wgBackendResponseTime\":183});\n",
              "} );</script>\n",
              "\n"
            ]
          },
          "metadata": {},
          "execution_count": 2
        }
      ]
    },
    {
      "cell_type": "markdown",
      "source": [
        "## Обратимся к функционалу Selenium"
      ],
      "metadata": {
        "id": "4inKXhuHA07A"
      }
    },
    {
      "cell_type": "markdown",
      "source": [
        "### Устанавливаем нужные модули"
      ],
      "metadata": {
        "id": "HYomNe9VBDYd"
      }
    },
    {
      "cell_type": "code",
      "source": [
        "!pip install selenium"
      ],
      "metadata": {
        "colab": {
          "base_uri": "https://localhost:8080/",
          "height": 0
        },
        "id": "O2sixaLTrHDU",
        "outputId": "53efd71e-23d8-468d-a9ad-70225eda667c"
      },
      "execution_count": 3,
      "outputs": [
        {
          "output_type": "stream",
          "name": "stdout",
          "text": [
            "Collecting selenium\n",
            "  Downloading selenium-4.1.0-py3-none-any.whl (958 kB)\n",
            "\u001b[?25l\r\u001b[K     |▍                               | 10 kB 25.1 MB/s eta 0:00:01\r\u001b[K     |▊                               | 20 kB 32.0 MB/s eta 0:00:01\r\u001b[K     |█                               | 30 kB 33.0 MB/s eta 0:00:01\r\u001b[K     |█▍                              | 40 kB 36.3 MB/s eta 0:00:01\r\u001b[K     |█▊                              | 51 kB 15.7 MB/s eta 0:00:01\r\u001b[K     |██                              | 61 kB 14.1 MB/s eta 0:00:01\r\u001b[K     |██▍                             | 71 kB 12.4 MB/s eta 0:00:01\r\u001b[K     |██▊                             | 81 kB 13.8 MB/s eta 0:00:01\r\u001b[K     |███                             | 92 kB 14.9 MB/s eta 0:00:01\r\u001b[K     |███▍                            | 102 kB 11.4 MB/s eta 0:00:01\r\u001b[K     |███▊                            | 112 kB 11.4 MB/s eta 0:00:01\r\u001b[K     |████                            | 122 kB 11.4 MB/s eta 0:00:01\r\u001b[K     |████▍                           | 133 kB 11.4 MB/s eta 0:00:01\r\u001b[K     |████▉                           | 143 kB 11.4 MB/s eta 0:00:01\r\u001b[K     |█████▏                          | 153 kB 11.4 MB/s eta 0:00:01\r\u001b[K     |█████▌                          | 163 kB 11.4 MB/s eta 0:00:01\r\u001b[K     |█████▉                          | 174 kB 11.4 MB/s eta 0:00:01\r\u001b[K     |██████▏                         | 184 kB 11.4 MB/s eta 0:00:01\r\u001b[K     |██████▌                         | 194 kB 11.4 MB/s eta 0:00:01\r\u001b[K     |██████▉                         | 204 kB 11.4 MB/s eta 0:00:01\r\u001b[K     |███████▏                        | 215 kB 11.4 MB/s eta 0:00:01\r\u001b[K     |███████▌                        | 225 kB 11.4 MB/s eta 0:00:01\r\u001b[K     |███████▉                        | 235 kB 11.4 MB/s eta 0:00:01\r\u001b[K     |████████▏                       | 245 kB 11.4 MB/s eta 0:00:01\r\u001b[K     |████████▌                       | 256 kB 11.4 MB/s eta 0:00:01\r\u001b[K     |████████▉                       | 266 kB 11.4 MB/s eta 0:00:01\r\u001b[K     |█████████▎                      | 276 kB 11.4 MB/s eta 0:00:01\r\u001b[K     |█████████▋                      | 286 kB 11.4 MB/s eta 0:00:01\r\u001b[K     |██████████                      | 296 kB 11.4 MB/s eta 0:00:01\r\u001b[K     |██████████▎                     | 307 kB 11.4 MB/s eta 0:00:01\r\u001b[K     |██████████▋                     | 317 kB 11.4 MB/s eta 0:00:01\r\u001b[K     |███████████                     | 327 kB 11.4 MB/s eta 0:00:01\r\u001b[K     |███████████▎                    | 337 kB 11.4 MB/s eta 0:00:01\r\u001b[K     |███████████▋                    | 348 kB 11.4 MB/s eta 0:00:01\r\u001b[K     |████████████                    | 358 kB 11.4 MB/s eta 0:00:01\r\u001b[K     |████████████▎                   | 368 kB 11.4 MB/s eta 0:00:01\r\u001b[K     |████████████▋                   | 378 kB 11.4 MB/s eta 0:00:01\r\u001b[K     |█████████████                   | 389 kB 11.4 MB/s eta 0:00:01\r\u001b[K     |█████████████▎                  | 399 kB 11.4 MB/s eta 0:00:01\r\u001b[K     |█████████████▊                  | 409 kB 11.4 MB/s eta 0:00:01\r\u001b[K     |██████████████                  | 419 kB 11.4 MB/s eta 0:00:01\r\u001b[K     |██████████████▍                 | 430 kB 11.4 MB/s eta 0:00:01\r\u001b[K     |██████████████▊                 | 440 kB 11.4 MB/s eta 0:00:01\r\u001b[K     |███████████████                 | 450 kB 11.4 MB/s eta 0:00:01\r\u001b[K     |███████████████▍                | 460 kB 11.4 MB/s eta 0:00:01\r\u001b[K     |███████████████▊                | 471 kB 11.4 MB/s eta 0:00:01\r\u001b[K     |████████████████                | 481 kB 11.4 MB/s eta 0:00:01\r\u001b[K     |████████████████▍               | 491 kB 11.4 MB/s eta 0:00:01\r\u001b[K     |████████████████▊               | 501 kB 11.4 MB/s eta 0:00:01\r\u001b[K     |█████████████████               | 512 kB 11.4 MB/s eta 0:00:01\r\u001b[K     |█████████████████▍              | 522 kB 11.4 MB/s eta 0:00:01\r\u001b[K     |█████████████████▊              | 532 kB 11.4 MB/s eta 0:00:01\r\u001b[K     |██████████████████▏             | 542 kB 11.4 MB/s eta 0:00:01\r\u001b[K     |██████████████████▌             | 552 kB 11.4 MB/s eta 0:00:01\r\u001b[K     |██████████████████▉             | 563 kB 11.4 MB/s eta 0:00:01\r\u001b[K     |███████████████████▏            | 573 kB 11.4 MB/s eta 0:00:01\r\u001b[K     |███████████████████▌            | 583 kB 11.4 MB/s eta 0:00:01\r\u001b[K     |███████████████████▉            | 593 kB 11.4 MB/s eta 0:00:01\r\u001b[K     |████████████████████▏           | 604 kB 11.4 MB/s eta 0:00:01\r\u001b[K     |████████████████████▌           | 614 kB 11.4 MB/s eta 0:00:01\r\u001b[K     |████████████████████▉           | 624 kB 11.4 MB/s eta 0:00:01\r\u001b[K     |█████████████████████▏          | 634 kB 11.4 MB/s eta 0:00:01\r\u001b[K     |█████████████████████▌          | 645 kB 11.4 MB/s eta 0:00:01\r\u001b[K     |█████████████████████▉          | 655 kB 11.4 MB/s eta 0:00:01\r\u001b[K     |██████████████████████▏         | 665 kB 11.4 MB/s eta 0:00:01\r\u001b[K     |██████████████████████▋         | 675 kB 11.4 MB/s eta 0:00:01\r\u001b[K     |███████████████████████         | 686 kB 11.4 MB/s eta 0:00:01\r\u001b[K     |███████████████████████▎        | 696 kB 11.4 MB/s eta 0:00:01\r\u001b[K     |███████████████████████▋        | 706 kB 11.4 MB/s eta 0:00:01\r\u001b[K     |████████████████████████        | 716 kB 11.4 MB/s eta 0:00:01\r\u001b[K     |████████████████████████▎       | 727 kB 11.4 MB/s eta 0:00:01\r\u001b[K     |████████████████████████▋       | 737 kB 11.4 MB/s eta 0:00:01\r\u001b[K     |█████████████████████████       | 747 kB 11.4 MB/s eta 0:00:01\r\u001b[K     |█████████████████████████▎      | 757 kB 11.4 MB/s eta 0:00:01\r\u001b[K     |█████████████████████████▋      | 768 kB 11.4 MB/s eta 0:00:01\r\u001b[K     |██████████████████████████      | 778 kB 11.4 MB/s eta 0:00:01\r\u001b[K     |██████████████████████████▎     | 788 kB 11.4 MB/s eta 0:00:01\r\u001b[K     |██████████████████████████▋     | 798 kB 11.4 MB/s eta 0:00:01\r\u001b[K     |███████████████████████████     | 808 kB 11.4 MB/s eta 0:00:01\r\u001b[K     |███████████████████████████▍    | 819 kB 11.4 MB/s eta 0:00:01\r\u001b[K     |███████████████████████████▊    | 829 kB 11.4 MB/s eta 0:00:01\r\u001b[K     |████████████████████████████    | 839 kB 11.4 MB/s eta 0:00:01\r\u001b[K     |████████████████████████████▍   | 849 kB 11.4 MB/s eta 0:00:01\r\u001b[K     |████████████████████████████▊   | 860 kB 11.4 MB/s eta 0:00:01\r\u001b[K     |█████████████████████████████   | 870 kB 11.4 MB/s eta 0:00:01\r\u001b[K     |█████████████████████████████▍  | 880 kB 11.4 MB/s eta 0:00:01\r\u001b[K     |█████████████████████████████▊  | 890 kB 11.4 MB/s eta 0:00:01\r\u001b[K     |██████████████████████████████  | 901 kB 11.4 MB/s eta 0:00:01\r\u001b[K     |██████████████████████████████▍ | 911 kB 11.4 MB/s eta 0:00:01\r\u001b[K     |██████████████████████████████▊ | 921 kB 11.4 MB/s eta 0:00:01\r\u001b[K     |███████████████████████████████ | 931 kB 11.4 MB/s eta 0:00:01\r\u001b[K     |███████████████████████████████▍| 942 kB 11.4 MB/s eta 0:00:01\r\u001b[K     |███████████████████████████████▉| 952 kB 11.4 MB/s eta 0:00:01\r\u001b[K     |████████████████████████████████| 958 kB 11.4 MB/s \n",
            "\u001b[?25hCollecting trio~=0.17\n",
            "  Downloading trio-0.19.0-py3-none-any.whl (356 kB)\n",
            "\u001b[K     |████████████████████████████████| 356 kB 74.2 MB/s \n",
            "\u001b[?25hCollecting trio-websocket~=0.9\n",
            "  Downloading trio_websocket-0.9.2-py3-none-any.whl (16 kB)\n",
            "Collecting urllib3[secure]~=1.26\n",
            "  Downloading urllib3-1.26.7-py2.py3-none-any.whl (138 kB)\n",
            "\u001b[K     |████████████████████████████████| 138 kB 58.8 MB/s \n",
            "\u001b[?25hCollecting sniffio\n",
            "  Downloading sniffio-1.2.0-py3-none-any.whl (10 kB)\n",
            "Requirement already satisfied: attrs>=19.2.0 in /usr/local/lib/python3.7/dist-packages (from trio~=0.17->selenium) (21.2.0)\n",
            "Requirement already satisfied: idna in /usr/local/lib/python3.7/dist-packages (from trio~=0.17->selenium) (2.10)\n",
            "Requirement already satisfied: sortedcontainers in /usr/local/lib/python3.7/dist-packages (from trio~=0.17->selenium) (2.4.0)\n",
            "Collecting outcome\n",
            "  Downloading outcome-1.1.0-py2.py3-none-any.whl (9.7 kB)\n",
            "Collecting async-generator>=1.9\n",
            "  Downloading async_generator-1.10-py3-none-any.whl (18 kB)\n",
            "Collecting wsproto>=0.14\n",
            "  Downloading wsproto-1.0.0-py3-none-any.whl (24 kB)\n",
            "Requirement already satisfied: certifi in /usr/local/lib/python3.7/dist-packages (from urllib3[secure]~=1.26->selenium) (2021.10.8)\n",
            "Collecting cryptography>=1.3.4\n",
            "  Downloading cryptography-36.0.0-cp36-abi3-manylinux_2_24_x86_64.whl (3.6 MB)\n",
            "\u001b[K     |████████████████████████████████| 3.6 MB 33.8 MB/s \n",
            "\u001b[?25hCollecting pyOpenSSL>=0.14\n",
            "  Downloading pyOpenSSL-21.0.0-py2.py3-none-any.whl (55 kB)\n",
            "\u001b[K     |████████████████████████████████| 55 kB 3.0 MB/s \n",
            "\u001b[?25hRequirement already satisfied: cffi>=1.12 in /usr/local/lib/python3.7/dist-packages (from cryptography>=1.3.4->urllib3[secure]~=1.26->selenium) (1.15.0)\n",
            "Requirement already satisfied: pycparser in /usr/local/lib/python3.7/dist-packages (from cffi>=1.12->cryptography>=1.3.4->urllib3[secure]~=1.26->selenium) (2.21)\n",
            "Requirement already satisfied: six>=1.5.2 in /usr/local/lib/python3.7/dist-packages (from pyOpenSSL>=0.14->urllib3[secure]~=1.26->selenium) (1.15.0)\n",
            "Collecting h11<1,>=0.9.0\n",
            "  Downloading h11-0.12.0-py3-none-any.whl (54 kB)\n",
            "\u001b[K     |████████████████████████████████| 54 kB 3.3 MB/s \n",
            "\u001b[?25hInstalling collected packages: sniffio, outcome, h11, cryptography, async-generator, wsproto, urllib3, trio, pyOpenSSL, trio-websocket, selenium\n",
            "  Attempting uninstall: urllib3\n",
            "    Found existing installation: urllib3 1.24.3\n",
            "    Uninstalling urllib3-1.24.3:\n",
            "      Successfully uninstalled urllib3-1.24.3\n",
            "\u001b[31mERROR: pip's dependency resolver does not currently take into account all the packages that are installed. This behaviour is the source of the following dependency conflicts.\n",
            "requests 2.23.0 requires urllib3!=1.25.0,!=1.25.1,<1.26,>=1.21.1, but you have urllib3 1.26.7 which is incompatible.\n",
            "datascience 0.10.6 requires folium==0.2.1, but you have folium 0.8.3 which is incompatible.\u001b[0m\n",
            "Successfully installed async-generator-1.10 cryptography-36.0.0 h11-0.12.0 outcome-1.1.0 pyOpenSSL-21.0.0 selenium-4.1.0 sniffio-1.2.0 trio-0.19.0 trio-websocket-0.9.2 urllib3-1.26.7 wsproto-1.0.0\n"
          ]
        },
        {
          "output_type": "display_data",
          "data": {
            "application/vnd.colab-display-data+json": {
              "pip_warning": {
                "packages": [
                  "urllib3"
                ]
              }
            }
          },
          "metadata": {}
        }
      ]
    },
    {
      "cell_type": "code",
      "source": [
        "!pip install webdriver-manager"
      ],
      "metadata": {
        "colab": {
          "base_uri": "https://localhost:8080/",
          "height": 0
        },
        "id": "M_rv9YXxrLOh",
        "outputId": "ff1bf330-af65-42e2-b524-d9f2ded30b59"
      },
      "execution_count": 4,
      "outputs": [
        {
          "output_type": "stream",
          "name": "stdout",
          "text": [
            "Collecting webdriver-manager\n",
            "  Downloading webdriver_manager-3.5.2-py2.py3-none-any.whl (17 kB)\n",
            "Collecting crayons\n",
            "  Downloading crayons-0.4.0-py2.py3-none-any.whl (4.6 kB)\n",
            "Collecting configparser\n",
            "  Downloading configparser-5.2.0-py3-none-any.whl (19 kB)\n",
            "Requirement already satisfied: requests in /usr/local/lib/python3.7/dist-packages (from webdriver-manager) (2.23.0)\n",
            "Collecting colorama\n",
            "  Downloading colorama-0.4.4-py2.py3-none-any.whl (16 kB)\n",
            "Requirement already satisfied: chardet<4,>=3.0.2 in /usr/local/lib/python3.7/dist-packages (from requests->webdriver-manager) (3.0.4)\n",
            "Requirement already satisfied: certifi>=2017.4.17 in /usr/local/lib/python3.7/dist-packages (from requests->webdriver-manager) (2021.10.8)\n",
            "Collecting urllib3!=1.25.0,!=1.25.1,<1.26,>=1.21.1\n",
            "  Downloading urllib3-1.25.11-py2.py3-none-any.whl (127 kB)\n",
            "\u001b[K     |████████████████████████████████| 127 kB 22.0 MB/s \n",
            "\u001b[?25hRequirement already satisfied: idna<3,>=2.5 in /usr/local/lib/python3.7/dist-packages (from requests->webdriver-manager) (2.10)\n",
            "Installing collected packages: urllib3, colorama, crayons, configparser, webdriver-manager\n",
            "  Attempting uninstall: urllib3\n",
            "    Found existing installation: urllib3 1.26.7\n",
            "    Uninstalling urllib3-1.26.7:\n",
            "      Successfully uninstalled urllib3-1.26.7\n",
            "\u001b[31mERROR: pip's dependency resolver does not currently take into account all the packages that are installed. This behaviour is the source of the following dependency conflicts.\n",
            "selenium 4.1.0 requires urllib3[secure]~=1.26, but you have urllib3 1.25.11 which is incompatible.\n",
            "datascience 0.10.6 requires folium==0.2.1, but you have folium 0.8.3 which is incompatible.\u001b[0m\n",
            "Successfully installed colorama-0.4.4 configparser-5.2.0 crayons-0.4.0 urllib3-1.25.11 webdriver-manager-3.5.2\n"
          ]
        },
        {
          "output_type": "display_data",
          "data": {
            "application/vnd.colab-display-data+json": {
              "pip_warning": {
                "packages": [
                  "urllib3"
                ]
              }
            }
          },
          "metadata": {}
        }
      ]
    },
    {
      "cell_type": "code",
      "source": [
        "!pip install --upgrade ChromeDriver"
      ],
      "metadata": {
        "colab": {
          "base_uri": "https://localhost:8080/"
        },
        "id": "QmrUpdb4rOed",
        "outputId": "dd0022d1-be69-457a-80da-5cfa3e669b9f"
      },
      "execution_count": 5,
      "outputs": [
        {
          "output_type": "stream",
          "name": "stdout",
          "text": [
            "Collecting ChromeDriver\n",
            "  Downloading chromedriver-2.24.1-py2.py3-none-any.whl (14.3 MB)\n",
            "\u001b[K     |████████████████████████████████| 14.3 MB 9.7 MB/s \n",
            "\u001b[?25hInstalling collected packages: ChromeDriver\n",
            "Successfully installed ChromeDriver-2.24.1\n"
          ]
        }
      ]
    },
    {
      "cell_type": "markdown",
      "source": [
        "### Проблемы с webdriver'ом в Google Colab"
      ],
      "metadata": {
        "id": "0UgjXtVoBM9q"
      }
    },
    {
      "cell_type": "code",
      "source": [
        "from selenium import webdriver\n",
        "from webdriver_manager.chrome import ChromeDriverManager"
      ],
      "metadata": {
        "id": "RYNYjWnLMW6h",
        "colab": {
          "base_uri": "https://localhost:8080/"
        },
        "outputId": "10073739-2640-4d47-fe33-e11c230ebca4"
      },
      "execution_count": null,
      "outputs": [
        {
          "output_type": "stream",
          "name": "stderr",
          "text": [
            "/usr/local/lib/python3.7/dist-packages/requests/__init__.py:91: RequestsDependencyWarning: urllib3 (1.26.7) or chardet (3.0.4) doesn't match a supported version!\n",
            "  RequestsDependencyWarning)\n"
          ]
        }
      ]
    },
    {
      "cell_type": "code",
      "source": [
        "from google.colab import drive\n",
        "drive.mount(\"/content/drive\")"
      ],
      "metadata": {
        "colab": {
          "base_uri": "https://localhost:8080/"
        },
        "id": "300lti8EFTE0",
        "outputId": "0525052a-f5cf-4640-83ab-480ff63ea966"
      },
      "execution_count": null,
      "outputs": [
        {
          "output_type": "stream",
          "name": "stdout",
          "text": [
            "Mounted at /content/drive\n"
          ]
        }
      ]
    },
    {
      "cell_type": "code",
      "source": [
        "path_CDM"
      ],
      "metadata": {
        "colab": {
          "base_uri": "https://localhost:8080/"
        },
        "id": "hVPOu0fBFifr",
        "outputId": "f862db8e-683b-4450-cb46-1bd248792463"
      },
      "execution_count": null,
      "outputs": [
        {
          "output_type": "execute_result",
          "data": {
            "application/vnd.google.colaboratory.intrinsic+json": {
              "type": "string"
            },
            "text/plain": [
              "'/content/drive/My Drive/data/chromedriver'"
            ]
          },
          "metadata": {},
          "execution_count": 23
        }
      ]
    },
    {
      "cell_type": "code",
      "source": [
        "path_CDM = '/content/drive/My Drive/Data/chromedriver.exe'  # Загрузка в колаб исполнительных файлов разных версий не помогла\n",
        "CDM = webdriver.Chrome(path_CDM) \n",
        "\n",
        "URL = 'http://wikimipt.org/wiki/'\n",
        "CDM.get(URL)"
      ],
      "metadata": {
        "colab": {
          "base_uri": "https://localhost:8080/"
        },
        "id": "Jn5RgKzWBnOY",
        "outputId": "11552261-52f3-405a-a480-58cfb9663bbb"
      },
      "execution_count": null,
      "outputs": [
        {
          "output_type": "stream",
          "name": "stderr",
          "text": [
            "/usr/local/lib/python3.7/dist-packages/ipykernel_launcher.py:2: DeprecationWarning: executable_path has been deprecated, please pass in a Service object\n",
            "  \n"
          ]
        },
        {
          "output_type": "error",
          "ename": "WebDriverException",
          "evalue": "ignored",
          "traceback": [
            "\u001b[0;31m---------------------------------------------------------------------------\u001b[0m",
            "\u001b[0;31mPermissionError\u001b[0m                           Traceback (most recent call last)",
            "\u001b[0;32m/usr/local/lib/python3.7/dist-packages/selenium/webdriver/common/service.py\u001b[0m in \u001b[0;36mstart\u001b[0;34m(self)\u001b[0m\n\u001b[1;32m     75\u001b[0m                                             \u001b[0mstdin\u001b[0m\u001b[0;34m=\u001b[0m\u001b[0mPIPE\u001b[0m\u001b[0;34m,\u001b[0m\u001b[0;34m\u001b[0m\u001b[0;34m\u001b[0m\u001b[0m\n\u001b[0;32m---> 76\u001b[0;31m                                             creationflags=self.creationflags)\n\u001b[0m\u001b[1;32m     77\u001b[0m         \u001b[0;32mexcept\u001b[0m \u001b[0mTypeError\u001b[0m\u001b[0;34m:\u001b[0m\u001b[0;34m\u001b[0m\u001b[0;34m\u001b[0m\u001b[0m\n",
            "\u001b[0;32m/usr/lib/python3.7/subprocess.py\u001b[0m in \u001b[0;36m__init__\u001b[0;34m(self, args, bufsize, executable, stdin, stdout, stderr, preexec_fn, close_fds, shell, cwd, env, universal_newlines, startupinfo, creationflags, restore_signals, start_new_session, pass_fds, encoding, errors, text)\u001b[0m\n\u001b[1;32m    799\u001b[0m                                 \u001b[0merrread\u001b[0m\u001b[0;34m,\u001b[0m \u001b[0merrwrite\u001b[0m\u001b[0;34m,\u001b[0m\u001b[0;34m\u001b[0m\u001b[0;34m\u001b[0m\u001b[0m\n\u001b[0;32m--> 800\u001b[0;31m                                 restore_signals, start_new_session)\n\u001b[0m\u001b[1;32m    801\u001b[0m         \u001b[0;32mexcept\u001b[0m\u001b[0;34m:\u001b[0m\u001b[0;34m\u001b[0m\u001b[0;34m\u001b[0m\u001b[0m\n",
            "\u001b[0;32m/usr/lib/python3.7/subprocess.py\u001b[0m in \u001b[0;36m_execute_child\u001b[0;34m(self, args, executable, preexec_fn, close_fds, pass_fds, cwd, env, startupinfo, creationflags, shell, p2cread, p2cwrite, c2pread, c2pwrite, errread, errwrite, restore_signals, start_new_session)\u001b[0m\n\u001b[1;32m   1550\u001b[0m                             \u001b[0merr_msg\u001b[0m \u001b[0;34m+=\u001b[0m \u001b[0;34m': '\u001b[0m \u001b[0;34m+\u001b[0m \u001b[0mrepr\u001b[0m\u001b[0;34m(\u001b[0m\u001b[0merr_filename\u001b[0m\u001b[0;34m)\u001b[0m\u001b[0;34m\u001b[0m\u001b[0;34m\u001b[0m\u001b[0m\n\u001b[0;32m-> 1551\u001b[0;31m                     \u001b[0;32mraise\u001b[0m \u001b[0mchild_exception_type\u001b[0m\u001b[0;34m(\u001b[0m\u001b[0merrno_num\u001b[0m\u001b[0;34m,\u001b[0m \u001b[0merr_msg\u001b[0m\u001b[0;34m,\u001b[0m \u001b[0merr_filename\u001b[0m\u001b[0;34m)\u001b[0m\u001b[0;34m\u001b[0m\u001b[0;34m\u001b[0m\u001b[0m\n\u001b[0m\u001b[1;32m   1552\u001b[0m                 \u001b[0;32mraise\u001b[0m \u001b[0mchild_exception_type\u001b[0m\u001b[0;34m(\u001b[0m\u001b[0merr_msg\u001b[0m\u001b[0;34m)\u001b[0m\u001b[0;34m\u001b[0m\u001b[0;34m\u001b[0m\u001b[0m\n",
            "\u001b[0;31mPermissionError\u001b[0m: [Errno 13] Permission denied: '/content/drive/My Drive/Data/chromedriver.exe'",
            "\nDuring handling of the above exception, another exception occurred:\n",
            "\u001b[0;31mWebDriverException\u001b[0m                        Traceback (most recent call last)",
            "\u001b[0;32m<ipython-input-26-ee6c5a98f909>\u001b[0m in \u001b[0;36m<module>\u001b[0;34m()\u001b[0m\n\u001b[1;32m      1\u001b[0m \u001b[0mpath_CDM\u001b[0m \u001b[0;34m=\u001b[0m \u001b[0;34m'/content/drive/My Drive/Data/chromedriver.exe'\u001b[0m\u001b[0;34m\u001b[0m\u001b[0;34m\u001b[0m\u001b[0m\n\u001b[0;32m----> 2\u001b[0;31m \u001b[0mCDM\u001b[0m \u001b[0;34m=\u001b[0m \u001b[0mwebdriver\u001b[0m\u001b[0;34m.\u001b[0m\u001b[0mChrome\u001b[0m\u001b[0;34m(\u001b[0m\u001b[0mpath_CDM\u001b[0m\u001b[0;34m)\u001b[0m\u001b[0;34m\u001b[0m\u001b[0;34m\u001b[0m\u001b[0m\n\u001b[0m\u001b[1;32m      3\u001b[0m \u001b[0;34m\u001b[0m\u001b[0m\n\u001b[1;32m      4\u001b[0m \u001b[0mURL\u001b[0m \u001b[0;34m=\u001b[0m \u001b[0;34m'http://wikimipt.org/wiki/'\u001b[0m\u001b[0;34m\u001b[0m\u001b[0;34m\u001b[0m\u001b[0m\n\u001b[1;32m      5\u001b[0m \u001b[0mCDM\u001b[0m\u001b[0;34m.\u001b[0m\u001b[0mget\u001b[0m\u001b[0;34m(\u001b[0m\u001b[0mURL\u001b[0m\u001b[0;34m)\u001b[0m\u001b[0;34m\u001b[0m\u001b[0;34m\u001b[0m\u001b[0m\n",
            "\u001b[0;32m/usr/local/lib/python3.7/dist-packages/selenium/webdriver/chrome/webdriver.py\u001b[0m in \u001b[0;36m__init__\u001b[0;34m(self, executable_path, port, options, service_args, desired_capabilities, service_log_path, chrome_options, service, keep_alive)\u001b[0m\n\u001b[1;32m     71\u001b[0m                                         \u001b[0mport\u001b[0m\u001b[0;34m,\u001b[0m \u001b[0moptions\u001b[0m\u001b[0;34m,\u001b[0m\u001b[0;34m\u001b[0m\u001b[0;34m\u001b[0m\u001b[0m\n\u001b[1;32m     72\u001b[0m                                         \u001b[0mservice_args\u001b[0m\u001b[0;34m,\u001b[0m \u001b[0mdesired_capabilities\u001b[0m\u001b[0;34m,\u001b[0m\u001b[0;34m\u001b[0m\u001b[0;34m\u001b[0m\u001b[0m\n\u001b[0;32m---> 73\u001b[0;31m                                         service_log_path, service, keep_alive)\n\u001b[0m",
            "\u001b[0;32m/usr/local/lib/python3.7/dist-packages/selenium/webdriver/chromium/webdriver.py\u001b[0m in \u001b[0;36m__init__\u001b[0;34m(self, browser_name, vendor_prefix, port, options, service_args, desired_capabilities, service_log_path, service, keep_alive)\u001b[0m\n\u001b[1;32m     88\u001b[0m \u001b[0;34m\u001b[0m\u001b[0m\n\u001b[1;32m     89\u001b[0m         \u001b[0mself\u001b[0m\u001b[0;34m.\u001b[0m\u001b[0mservice\u001b[0m \u001b[0;34m=\u001b[0m \u001b[0mservice\u001b[0m\u001b[0;34m\u001b[0m\u001b[0;34m\u001b[0m\u001b[0m\n\u001b[0;32m---> 90\u001b[0;31m         \u001b[0mself\u001b[0m\u001b[0;34m.\u001b[0m\u001b[0mservice\u001b[0m\u001b[0;34m.\u001b[0m\u001b[0mstart\u001b[0m\u001b[0;34m(\u001b[0m\u001b[0;34m)\u001b[0m\u001b[0;34m\u001b[0m\u001b[0;34m\u001b[0m\u001b[0m\n\u001b[0m\u001b[1;32m     91\u001b[0m \u001b[0;34m\u001b[0m\u001b[0m\n\u001b[1;32m     92\u001b[0m         \u001b[0;32mtry\u001b[0m\u001b[0;34m:\u001b[0m\u001b[0;34m\u001b[0m\u001b[0;34m\u001b[0m\u001b[0m\n",
            "\u001b[0;32m/usr/local/lib/python3.7/dist-packages/selenium/webdriver/common/service.py\u001b[0m in \u001b[0;36mstart\u001b[0;34m(self)\u001b[0m\n\u001b[1;32m     86\u001b[0m                 raise WebDriverException(\n\u001b[1;32m     87\u001b[0m                     \"'%s' executable may have wrong permissions. %s\" % (\n\u001b[0;32m---> 88\u001b[0;31m                         os.path.basename(self.path), self.start_error_message)\n\u001b[0m\u001b[1;32m     89\u001b[0m                 )\n\u001b[1;32m     90\u001b[0m             \u001b[0;32melse\u001b[0m\u001b[0;34m:\u001b[0m\u001b[0;34m\u001b[0m\u001b[0;34m\u001b[0m\u001b[0m\n",
            "\u001b[0;31mWebDriverException\u001b[0m: Message: 'chromedriver.exe' executable may have wrong permissions. Please see https://chromedriver.chromium.org/home\n"
          ]
        }
      ]
    },
    {
      "cell_type": "markdown",
      "source": [
        "### Решение проблем с webdriver'ом"
      ],
      "metadata": {
        "id": "NpJl245pHwJS"
      }
    },
    {
      "cell_type": "code",
      "source": [
        "!pip install kora -q  # Библиотека для решения данной как раз проблемы (https://stackoverflow.com/questions/51046454/how-can-we-use-selenium-webdriver-in-colab-research-google-com)\n",
        "from kora.selenium import wd\n"
      ],
      "metadata": {
        "id": "3mqvyCvAG5hT",
        "colab": {
          "base_uri": "https://localhost:8080/"
        },
        "outputId": "315d1ddc-3ef3-435e-f049-e5cab3d260c5"
      },
      "execution_count": 6,
      "outputs": [
        {
          "output_type": "stream",
          "name": "stdout",
          "text": [
            "\u001b[?25l\r\u001b[K     |█████▊                          | 10 kB 24.0 MB/s eta 0:00:01\r\u001b[K     |███████████▍                    | 20 kB 31.2 MB/s eta 0:00:01\r\u001b[K     |█████████████████               | 30 kB 38.2 MB/s eta 0:00:01\r\u001b[K     |██████████████████████▊         | 40 kB 31.2 MB/s eta 0:00:01\r\u001b[K     |████████████████████████████▍   | 51 kB 20.4 MB/s eta 0:00:01\r\u001b[K     |████████████████████████████████| 57 kB 4.7 MB/s \n",
            "\u001b[?25h\u001b[?25l\r\u001b[K     |█████▊                          | 10 kB 23.7 MB/s eta 0:00:01\r\u001b[K     |███████████▌                    | 20 kB 34.5 MB/s eta 0:00:01\r\u001b[K     |█████████████████▎              | 30 kB 40.5 MB/s eta 0:00:01\r\u001b[K     |███████████████████████         | 40 kB 43.5 MB/s eta 0:00:01\r\u001b[K     |████████████████████████████▉   | 51 kB 43.1 MB/s eta 0:00:01\r\u001b[K     |████████████████████████████████| 56 kB 4.9 MB/s \n",
            "\u001b[?25h"
          ]
        }
      ]
    },
    {
      "cell_type": "code",
      "source": [
        "URL = 'http://wikimipt.org/wiki/'\n",
        "wd.get(URL)\n",
        "wd.implicitly_wait(3)"
      ],
      "metadata": {
        "id": "I07r_WyxFnEW"
      },
      "execution_count": 7,
      "outputs": []
    },
    {
      "cell_type": "markdown",
      "source": [
        "### Обработка кода страницы"
      ],
      "metadata": {
        "id": "EHW_o9OPMKmL"
      }
    },
    {
      "cell_type": "code",
      "source": [
        "from tqdm import tqdm\n",
        "import time\n",
        "import pandas as pd"
      ],
      "metadata": {
        "id": "8c6A3zg8H73g"
      },
      "execution_count": 8,
      "outputs": []
    },
    {
      "cell_type": "code",
      "source": [
        "from selenium.webdriver.common.by import By\n",
        "from selenium.webdriver.support.ui import WebDriverWait\n",
        "from selenium.webdriver.support import expected_conditions as EC"
      ],
      "metadata": {
        "id": "OAgVDH4WOFSe"
      },
      "execution_count": 9,
      "outputs": []
    },
    {
      "cell_type": "code",
      "source": [
        "departments = wd.find_elements(By.PARTIAL_LINK_TEXT, 'Кафедра')\n",
        "time.sleep(1)\n",
        "departments.append(wd.find_element(By.PARTIAL_LINK_TEXT, 'кафедра'))\n",
        "time.sleep(1)\n",
        "departments.append(wd.find_element(By.PARTIAL_LINK_TEXT, 'школа'))\n",
        "time.sleep(1) "
      ],
      "metadata": {
        "id": "hR-3mOZUH76b"
      },
      "execution_count": 10,
      "outputs": []
    },
    {
      "cell_type": "code",
      "source": [
        "departments"
      ],
      "metadata": {
        "colab": {
          "base_uri": "https://localhost:8080/"
        },
        "id": "Tc4gt-xYOt3M",
        "outputId": "c2a31fe5-7bf9-42bf-f6b3-bb593f72d951"
      },
      "execution_count": 11,
      "outputs": [
        {
          "output_type": "execute_result",
          "data": {
            "text/plain": [
              "[<a href=\"/wiki/%D0%9A%D0%B0%D1%84%D0%B5%D0%B4%D1%80%D0%B0_%D0%B2%D1%8B%D1%81%D1%88%D0%B5%D0%B9_%D0%BC%D0%B0%D1%82%D0%B5%D0%BC%D0%B0%D1%82%D0%B8%D0%BA%D0%B8\" title=\"Кафедра высшей математики\">Кафедра высшей математики</a>,\n",
              " <a href=\"/wiki/%D0%9A%D0%B0%D1%84%D0%B5%D0%B4%D1%80%D0%B0_%D0%BE%D0%B1%D1%89%D0%B5%D0%B9_%D1%84%D0%B8%D0%B7%D0%B8%D0%BA%D0%B8\" title=\"Кафедра общей физики\">Кафедра общей физики</a>,\n",
              " <a href=\"/wiki/%D0%9A%D0%B0%D1%84%D0%B5%D0%B4%D1%80%D0%B0_%D0%BE%D0%B1%D1%89%D0%B5%D0%B9_%D1%85%D0%B8%D0%BC%D0%B8%D0%B8\" title=\"Кафедра общей химии\">Кафедра общей химии</a>,\n",
              " <a href=\"/wiki/%D0%9A%D0%B0%D1%84%D0%B5%D0%B4%D1%80%D0%B0_%D0%B8%D0%BD%D1%84%D0%BE%D1%80%D0%BC%D0%B0%D1%82%D0%B8%D0%BA%D0%B8\" title=\"Кафедра информатики\">Кафедра информатики</a>,\n",
              " <a href=\"/wiki/%D0%9A%D0%B0%D1%84%D0%B5%D0%B4%D1%80%D0%B0_%D0%B8%D0%BD%D0%BE%D1%81%D1%82%D1%80%D0%B0%D0%BD%D0%BD%D1%8B%D1%85_%D1%8F%D0%B7%D1%8B%D0%BA%D0%BE%D0%B2\" title=\"Кафедра иностранных языков\">Кафедра иностранных языков</a>,\n",
              " <a href=\"/wiki/%D0%9A%D0%B0%D1%84%D0%B5%D0%B4%D1%80%D0%B0_%D0%B2%D1%8B%D1%87%D0%B8%D1%81%D0%BB%D0%B8%D1%82%D0%B5%D0%BB%D1%8C%D0%BD%D0%BE%D0%B9_%D0%BC%D0%B0%D1%82%D0%B5%D0%BC%D0%B0%D1%82%D0%B8%D0%BA%D0%B8\" title=\"Кафедра вычислительной математики\" class=\"mw-redirect\">Кафедра вычислительной математики</a>,\n",
              " <a href=\"/wiki/%D0%9A%D0%B0%D1%84%D0%B5%D0%B4%D1%80%D0%B0_%D1%82%D0%B5%D0%BE%D1%80%D0%B5%D1%82%D0%B8%D1%87%D0%B5%D1%81%D0%BA%D0%BE%D0%B9_%D1%84%D0%B8%D0%B7%D0%B8%D0%BA%D0%B8\" title=\"Кафедра теоретической физики\">Кафедра теоретической физики</a>,\n",
              " <a href=\"/wiki/%D0%9A%D0%B0%D1%84%D0%B5%D0%B4%D1%80%D0%B0_%D1%82%D0%B5%D0%BE%D1%80%D0%B5%D1%82%D0%B8%D1%87%D0%B5%D1%81%D0%BA%D0%BE%D0%B9_%D0%BC%D0%B5%D1%85%D0%B0%D0%BD%D0%B8%D0%BA%D0%B8\" title=\"Кафедра теоретической механики\">Кафедра теоретической механики</a>,\n",
              " <a href=\"/wiki/%D0%9A%D0%B0%D1%84%D0%B5%D0%B4%D1%80%D0%B0_%D1%80%D0%B0%D0%B4%D0%B8%D0%BE%D1%82%D0%B5%D1%85%D0%BD%D0%B8%D0%BA%D0%B8_%D0%B8_%D1%82%D0%B5%D0%BB%D0%B5%D0%BA%D0%BE%D0%BC%D0%BC%D1%83%D0%BD%D0%B8%D0%BA%D0%B0%D1%86%D0%B8%D0%B9\" title=\"Кафедра радиотехники и телекоммуникаций\" class=\"mw-redirect\">Кафедра радиотехники и телекоммуникаций</a>,\n",
              " <a href=\"/wiki/%D0%9A%D0%B0%D1%84%D0%B5%D0%B4%D1%80%D0%B0_%D0%BF%D1%80%D0%B8%D0%BA%D0%BB%D0%B0%D0%B4%D0%BD%D0%BE%D0%B9_%D0%BC%D0%B5%D1%85%D0%B0%D0%BD%D0%B8%D0%BA%D0%B8\" title=\"Кафедра прикладной механики\">Кафедра прикладной механики</a>,\n",
              " <a href=\"/wiki/%D0%9A%D0%B0%D1%84%D0%B5%D0%B4%D1%80%D0%B0_%D0%BF%D1%80%D0%B0%D0%B2%D0%B0\" title=\"Кафедра права\">Кафедра права</a>,\n",
              " <a href=\"/wiki/%D0%9A%D0%B0%D1%84%D0%B5%D0%B4%D1%80%D0%B0_%D1%84%D0%B8%D0%B7%D0%B8%D1%87%D0%B5%D1%81%D0%BA%D0%BE%D0%B3%D0%BE_%D0%B2%D0%BE%D1%81%D0%BF%D0%B8%D1%82%D0%B0%D0%BD%D0%B8%D1%8F_%D0%B8_%D1%81%D0%BF%D0%BE%D1%80%D1%82%D0%B0\" title=\"Кафедра физического воспитания и спорта\">Кафедра физического воспитания и спорта</a>,\n",
              " <a href=\"/wiki/%D0%A1%D0%BB%D1%83%D0%B6%D0%B5%D0%B1%D0%BD%D0%B0%D1%8F:FormEdit/Кафедра/%D0%9A%D0%B0%D1%84%D0%B5%D0%B4%D1%80%D0%B0_%D0%B1%D0%B8%D0%BE%D1%84%D0%B8%D0%B7%D0%B8%D0%BA%D0%B8_%D0%B8_%D1%8D%D0%BA%D0%BE%D0%BB%D0%BE%D0%B3%D0%B8%D0%B8?redlink=1\" class=\"new\" title=\"Кафедра биофизики и экологии (страница не существует)\">Кафедра биофизики и экологии</a>,\n",
              " <a href=\"/wiki/%D0%9A%D0%B0%D1%84%D0%B5%D0%B4%D1%80%D0%B0_%D1%81%D0%B8%D1%81%D1%82%D0%B5%D0%BC%D0%BD%D0%BE%D0%B3%D0%BE_%D0%B0%D0%BD%D0%B0%D0%BB%D0%B8%D0%B7%D0%B0_%D1%8D%D0%BA%D0%BE%D0%BD%D0%BE%D0%BC%D0%B8%D0%BA%D0%B8\" title=\"Кафедра системного анализа экономики\">Кафедра системного анализа экономики</a>,\n",
              " <a href=\"/wiki/%D0%9A%D0%B0%D1%84%D0%B5%D0%B4%D1%80%D0%B0_%D1%84%D0%B8%D0%BB%D0%BE%D1%81%D0%BE%D1%84%D0%B8%D0%B8\" title=\"Кафедра философии\">Кафедра философии</a>,\n",
              " <a href=\"/wiki/%D0%9A%D0%B0%D1%84%D0%B5%D0%B4%D1%80%D0%B0_%D1%84%D0%B8%D0%B7%D0%B8%D0%BA%D0%B8_%D1%82%D0%B2%D1%91%D1%80%D0%B4%D0%BE%D0%B3%D0%BE_%D1%82%D0%B5%D0%BB%D0%B0\" title=\"Кафедра физики твёрдого тела\">Кафедра физики твёрдого тела</a>,\n",
              " <a href=\"/wiki/%D0%9A%D0%B0%D1%84%D0%B5%D0%B4%D1%80%D0%B0_%D1%84%D0%B8%D0%B7%D0%B8%D0%BA%D0%B8_%D0%B2%D1%8B%D1%81%D0%BE%D0%BA%D0%BE%D1%82%D0%B5%D0%BC%D0%BF%D0%B5%D1%80%D0%B0%D1%82%D1%83%D1%80%D0%BD%D1%8B%D1%85_%D0%BF%D1%80%D0%BE%D1%86%D0%B5%D1%81%D1%81%D0%BE%D0%B2\" title=\"Кафедра физики высокотемпературных процессов\">Кафедра физики высокотемпературных процессов</a>,\n",
              " <a href=\"/wiki/%D0%92%D0%BE%D0%B5%D0%BD%D0%BD%D0%B0%D1%8F_%D0%BA%D0%B0%D1%84%D0%B5%D0%B4%D1%80%D0%B0\" title=\"Военная кафедра\">Военная кафедра</a>,\n",
              " <a href=\"/wiki/%D0%92%D1%8B%D1%81%D1%88%D0%B0%D1%8F_%D1%88%D0%BA%D0%BE%D0%BB%D0%B0_%D1%81%D0%B8%D1%81%D1%82%D0%B5%D0%BC%D0%BD%D0%BE%D0%B3%D0%BE_%D0%B8%D0%BD%D0%B6%D0%B8%D0%BD%D0%B8%D1%80%D0%B8%D0%BD%D0%B3%D0%B0\" title=\"Высшая школа системного инжиниринга\">Высшая школа системного инжиниринга</a>]"
            ]
          },
          "metadata": {},
          "execution_count": 11
        }
      ]
    },
    {
      "cell_type": "markdown",
      "source": [
        "#### Избавимся от лишних кафедр\n",
        "\n",
        "Лишнимим можно считать кафедру ***биофизики и экологии*** (страница отсутсвтует) и кафедры ***физики твёрдого тела*** и **физики высокотемпературных процессов**: они отсутствуют в основной таблице кафедр, а попались нам из дополнительных списков внизу страницы. Последние 2 кафедры можно и не удалять, но никакой полезной нам информации на их страницах почти нет.\n",
        "\n",
        "UPD: Решил всё-таки пока последние 2 кафедры не удалять."
      ],
      "metadata": {
        "id": "179hgh7KUP6m"
      }
    },
    {
      "cell_type": "code",
      "source": [
        "departments.pop(12)"
      ],
      "metadata": {
        "colab": {
          "base_uri": "https://localhost:8080/"
        },
        "id": "nKf66cZxUOEe",
        "outputId": "906d6f09-1efd-4523-aecf-5715cdeb4ac3"
      },
      "execution_count": 12,
      "outputs": [
        {
          "output_type": "execute_result",
          "data": {
            "text/plain": [
              "<a href=\"/wiki/%D0%A1%D0%BB%D1%83%D0%B6%D0%B5%D0%B1%D0%BD%D0%B0%D1%8F:FormEdit/Кафедра/%D0%9A%D0%B0%D1%84%D0%B5%D0%B4%D1%80%D0%B0_%D0%B1%D0%B8%D0%BE%D1%84%D0%B8%D0%B7%D0%B8%D0%BA%D0%B8_%D0%B8_%D1%8D%D0%BA%D0%BE%D0%BB%D0%BE%D0%B3%D0%B8%D0%B8?redlink=1\" class=\"new\" title=\"Кафедра биофизики и экологии (страница не существует)\">Кафедра биофизики и экологии</a>"
            ]
          },
          "metadata": {},
          "execution_count": 12
        }
      ]
    },
    {
      "cell_type": "markdown",
      "source": [
        "### Напишем код для сбора информации"
      ],
      "metadata": {
        "id": "w7qAQwK0XMfw"
      }
    },
    {
      "cell_type": "code",
      "source": [
        "departments_text = [i.text for i in departments]\n",
        "print(departments_text)"
      ],
      "metadata": {
        "colab": {
          "base_uri": "https://localhost:8080/"
        },
        "id": "AjTCi0kGNMdM",
        "outputId": "84c80069-bf92-493c-8bfa-42c0d4e0445d"
      },
      "execution_count": 13,
      "outputs": [
        {
          "output_type": "stream",
          "name": "stdout",
          "text": [
            "['Кафедра высшей математики', 'Кафедра общей физики', 'Кафедра общей химии', 'Кафедра информатики', 'Кафедра иностранных языков', 'Кафедра вычислительной математики', 'Кафедра теоретической физики', 'Кафедра теоретической механики', 'Кафедра радиотехники и телекоммуникаций', 'Кафедра прикладной механики', 'Кафедра права', 'Кафедра физического воспитания и спорта', 'Кафедра системного анализа экономики', 'Кафедра философии', 'Кафедра физики твёрдого тела', 'Кафедра физики высокотемпературных процессов', 'Военная кафедра', 'Высшая школа системного инжиниринга']\n"
          ]
        }
      ]
    },
    {
      "cell_type": "code",
      "source": [
        "departments_num = len(departments)\n",
        "departments_num"
      ],
      "metadata": {
        "id": "sYCAKwOvQwQo",
        "colab": {
          "base_uri": "https://localhost:8080/"
        },
        "outputId": "2560f066-83ae-459e-f8a9-114c300aa22c"
      },
      "execution_count": 14,
      "outputs": [
        {
          "output_type": "execute_result",
          "data": {
            "text/plain": [
              "18"
            ]
          },
          "metadata": {},
          "execution_count": 14
        }
      ]
    },
    {
      "cell_type": "markdown",
      "source": [
        "#### Опишем пути к преподавателям\n",
        "\n",
        "К сожалению, не на разнах стараницах пути к преподавателям могут отличаться."
      ],
      "metadata": {
        "id": "BljgJ4-0Yb2O"
      }
    },
    {
      "cell_type": "code",
      "source": [
        "teach_paths = ['']*departments_num\n",
        "different_paths_1 = {12, 14, 16}\n",
        "different_paths_2 = {0, 1}\n",
        "for i in range(departments_num):\n",
        "  if i in different_paths_1:\n",
        "    teach_paths[i] = '/html/body/div[3]/div[2]/div[4]/div[5]/ul/li'\n",
        "  else:\n",
        "    teach_paths[i] = '/html/body/div[3]/div[2]/div[4]/div[3]/ul/li'"
      ],
      "metadata": {
        "id": "Bv8N6_JfYWpV"
      },
      "execution_count": 15,
      "outputs": []
    },
    {
      "cell_type": "code",
      "source": [
        "2     /html/body/div[3]/div[2]/div[4]/div[3]/ul/li[1]   /div/div[2]\n",
        "      /html/body/div[3]/div[2]/div[4]/div[3]/ul/li[1]   /div/div[2]/p/a\n",
        "      /html/body/div[3]/div[2]/div[4]/div[3]/ul/li[1]/div/div[2]/p/a\n",
        "      /html/body/div[3]/div[2]/div[4]/div[3]/ul/li[1]/div/div[2]/p\n",
        "      /html/body/div[3]/div[2]/div[4]/div[3]/ul/li[1]/div/div[2]/p\n",
        "      /html/body/div[3]/div[2]/div[4]/div[3]/ul/li[1]/div/div[2]/p/a\n",
        "      /html/body/div[3]/div[2]/div[4]/div[3]/ul/li[1]/div/div[2]/p\n",
        "      /html/body/div[3]/div[2]/div[4]/div[3]/ul/li[1]/div/div[2]/p\n",
        "      /html/body/div[3]/div[2]/div[4]/div[3]/ul/li[1]/div/div[2]/p\n",
        "11    /html/body/div[3]/div[2]/div[4]/div[3]/ul/li[1]/div/div[2]/p/a\n",
        "13    /html/body/div[3]/div[2]/div[4]/div[3]/ul/li[1]/div/div[2]/p/a\n",
        "15    /html/body/div[3]/div[2]/div[4]/div[3]/ul/li[1]/div/div[2]/p/a\n",
        "17    /html/body/div[3]/div[2]/div[4]/div[3]/ul/li/div/div[2]/p/a\n",
        "\n",
        "12    /html/body/div[3]/div[2]/div[4]/div[5]/ul/li[1]   /div/div[2]/p/a\n",
        "14    /html/body/div[3]/div[2]/div[4]/div[5]/ul/li/div    /div[2]/p/a\n",
        "16    /html/body/div[3]/div[2]/div[4]/div[5]/ul/li[1]   /div/div[2]/p/a\n",
        "\n",
        "/html/body/div[3]/div[2]/div[4]/div[3]/ul/li[1]/div/div[2]/p/a"
      ],
      "metadata": {
        "id": "7BsLUp2CtZR7"
      },
      "execution_count": null,
      "outputs": []
    },
    {
      "cell_type": "code",
      "source": [
        "teach_paths"
      ],
      "metadata": {
        "colab": {
          "base_uri": "https://localhost:8080/"
        },
        "id": "UQ38dxFleCt2",
        "outputId": "4fe3c7ac-df2e-44e6-ce3f-176e296d68e1"
      },
      "execution_count": 16,
      "outputs": [
        {
          "output_type": "execute_result",
          "data": {
            "text/plain": [
              "['/html/body/div[3]/div[2]/div[4]/div[3]/ul/li',\n",
              " '/html/body/div[3]/div[2]/div[4]/div[3]/ul/li',\n",
              " '/html/body/div[3]/div[2]/div[4]/div[3]/ul/li',\n",
              " '/html/body/div[3]/div[2]/div[4]/div[3]/ul/li',\n",
              " '/html/body/div[3]/div[2]/div[4]/div[3]/ul/li',\n",
              " '/html/body/div[3]/div[2]/div[4]/div[3]/ul/li',\n",
              " '/html/body/div[3]/div[2]/div[4]/div[3]/ul/li',\n",
              " '/html/body/div[3]/div[2]/div[4]/div[3]/ul/li',\n",
              " '/html/body/div[3]/div[2]/div[4]/div[3]/ul/li',\n",
              " '/html/body/div[3]/div[2]/div[4]/div[3]/ul/li',\n",
              " '/html/body/div[3]/div[2]/div[4]/div[3]/ul/li',\n",
              " '/html/body/div[3]/div[2]/div[4]/div[3]/ul/li',\n",
              " '/html/body/div[3]/div[2]/div[4]/div[5]/ul/li',\n",
              " '/html/body/div[3]/div[2]/div[4]/div[3]/ul/li',\n",
              " '/html/body/div[3]/div[2]/div[4]/div[5]/ul/li',\n",
              " '/html/body/div[3]/div[2]/div[4]/div[3]/ul/li',\n",
              " '/html/body/div[3]/div[2]/div[4]/div[5]/ul/li',\n",
              " '/html/body/div[3]/div[2]/div[4]/div[3]/ul/li']"
            ]
          },
          "metadata": {},
          "execution_count": 16
        }
      ]
    },
    {
      "cell_type": "markdown",
      "source": [
        "#### Основной цикл"
      ],
      "metadata": {
        "id": "FmMM6wBWedo5"
      }
    },
    {
      "cell_type": "code",
      "source": [
        "import numpy as np\n",
        "import pandas as pd"
      ],
      "metadata": {
        "id": "qP0FiqeyMNW-"
      },
      "execution_count": 17,
      "outputs": []
    },
    {
      "cell_type": "code",
      "source": [
        " def find_teachers(j):  # Находим преподавателей в пределах одной кафедры и собираем информацию о них с помощью функции take_info(teacher)  \n",
        "  i = 1\n",
        "  while i:\n",
        "    try:\n",
        "      teach_path = teach_paths[j] + '[{number}]'.format(number=i)\n",
        "      if j in different_paths_2:\n",
        "        teach_path = teach_path + '/a'\n",
        "      else:\n",
        "        teach_path = teach_path + '/div/div[2]/p/a'\n",
        "      teacher = wd.find_element(By.XPATH, teach_path)\n",
        "      time.sleep(1)\n",
        "      take_info(teacher)  # Собираем информацию об определённом преподавателе\n",
        "    except:\n",
        "      break\n",
        "    finally:\n",
        "      i += 1"
      ],
      "metadata": {
        "id": "vrfNSRqt-95K"
      },
      "execution_count": 37,
      "outputs": []
    },
    {
      "cell_type": "code",
      "source": [
        "def toFloat(value_taken):  # У некоторых преподавателей нет оценок в той или иной категории, поэтому для успешного перевода\n",
        "    try:                   # строки в число в любом случае прибегаем к такому ухищрению\n",
        "        value = float(value_taken)\n",
        "    except ValueError:\n",
        "        value = np.nan\n",
        "    return value"
      ],
      "metadata": {
        "id": "-qn9J-qlGhcv"
      },
      "execution_count": 19,
      "outputs": []
    },
    {
      "cell_type": "code",
      "source": [
        "def take_info(teacher):  # Собираем информацию о преподавателе\n",
        "  global full_names_\n",
        "  full_names_ = np.append(full_names_, teacher.text)\n",
        "  \n",
        "  teacher.click()\n",
        "  table =  wd.find_elements(By.XPATH, '//*[@id=\"mw-content-text\"]/table')\n",
        "  time.sleep(1)\n",
        "  df = pd.read_html(table[0].get_attribute('outerHTML'))[0]\n",
        "  time.sleep(1)\n",
        "\n",
        "  teach_place = df[df[0] == \"Работает\"][1].values\n",
        "  degree = df[df[0] == \"Учёная степень\"][1].values\n",
        "  if len(degree) == 0:\n",
        "    degree = np.nan\n",
        "  knowledge = round(toFloat(df[df[0] == \"Знания\"][1].values[0].split()[0]) - 12340, 2)\n",
        "  teaching_skill = round(toFloat(df[df[0] == \"Умение преподавать\"][1].values[0].split()[0]) - 12340, 2)\n",
        "  communication_skill = round(toFloat(df[df[0] == \"В общении\"][1].values[0].split()[0]) - 12340, 2)\n",
        "  easy_exam = round(toFloat(df[df[0] == \"«Халявность»\"][1].values[0].split()[0]) - 12340, 2)\n",
        "  overall_score = round(toFloat(df[df[0] == \"Общая оценка\"][1].values[0].split()[0]) - 12340, 2)\n",
        "\n",
        "  global teach_places_\n",
        "  teach_places_ = np.append(teach_places_, teach_place)\n",
        "  global degrees_\n",
        "  degrees_ = np.append(degrees_, degree)\n",
        "  global knowledges_\n",
        "  knowledges_ = np.append(knowledges_, knowledge)\n",
        "  global teaching_skills_\n",
        "  teaching_skills_ = np.append(teaching_skills_, teaching_skill)\n",
        "  global communication_skills_\n",
        "  communication_skills_ = np.append(communication_skills_, communication_skill)\n",
        "  global easy_exams_\n",
        "  easy_exams_ = np.append(easy_exams_, easy_exam)\n",
        "  global overall_scores_\n",
        "  overall_scores_ = np.append(overall_scores_, overall_score)\n",
        "  \n",
        "  wd.back()"
      ],
      "metadata": {
        "id": "s4y3pt3d6fel"
      },
      "execution_count": 38,
      "outputs": []
    },
    {
      "cell_type": "code",
      "source": [
        "full_names_ = ['']\n",
        "teach_places_ = ['']\n",
        "degrees_ = ['']\n",
        "knowledges_ = [0]\n",
        "teaching_skills_ = [0]\n",
        "communication_skills_ = [0]\n",
        "easy_exams_ = [0]\n",
        "overall_scores_ = [0]\n",
        "\n",
        "for i in range(departments_num):\n",
        "  departments = wd.find_elements(By.PARTIAL_LINK_TEXT, 'Кафедра')  # Объяснение, почему каждый раз нужно переискивать ссылки, нашёл в решении следующий проблемы: https://automated-testing.info/t/obshhij-algoritm-resheniya-element-is-not-attached-to-page-document/13003\n",
        "  time.sleep(1)\n",
        "  departments.append(wd.find_element(By.PARTIAL_LINK_TEXT, 'кафедра'))\n",
        "  time.sleep(1)\n",
        "  departments.append(wd.find_element(By.PARTIAL_LINK_TEXT, 'школа'))\n",
        "  time.sleep(1)\n",
        "  del departments[12]\n",
        "  #print(departments[i])\n",
        "   \n",
        "  departments[i].click()\n",
        "  find_teachers(i)\n",
        "  wd.back()\n",
        "\n",
        "data = pd.DataFrame({'full_name': full_names_, 'teach_place': teach_places_, 'degree': degrees_, 'knowledge': knowledges_, 'teaching_skill': teaching_skills_, 'commication_skill': communication_skills_, 'easy_exam': easy_exams_, 'overall_score': overall_scores_})"
      ],
      "metadata": {
        "id": "psbnU8A6QIGp"
      },
      "execution_count": 45,
      "outputs": []
    },
    {
      "cell_type": "code",
      "source": [
        "full_names_"
      ],
      "metadata": {
        "colab": {
          "base_uri": "https://localhost:8080/"
        },
        "id": "LxhHEJebov3D",
        "outputId": "a9f61a60-59c0-4dbd-bc6e-dac61bf03725"
      },
      "execution_count": 46,
      "outputs": [
        {
          "output_type": "execute_result",
          "data": {
            "text/plain": [
              "array(['', 'Агаханов Назар Хангельдыевич', 'Агаханова Яна Сергеевна',\n",
              "       'Алексеев Василий Антонович', 'Амосов Григорий Геннадьевич',\n",
              "       'Андреев Михаил Юрьевич', 'Арутюнов Андроник Арамович',\n",
              "       'Арутюнов Арам Владимирович', 'Астафуров Глеб Олегович',\n",
              "       'Балабанов Юрий Вячеславович', 'Балицкий Алексей Михайлович',\n",
              "       'Беляев Виссарион Викторович', 'Беляев Сергей Анатольевич',\n",
              "       'Бесов Олег Владимирович', 'Беспорточный Александр Иванович',\n",
              "       'Бишаев Александр Михайлович', 'Богданов Илья Игоревич',\n",
              "       'Боговский Михаил Евгеньевич', 'Браницкая Лидия Леонидовна',\n",
              "       'Булинский Андрей Вадимович', 'Бунаков Андрей Эрикович',\n",
              "       'Бурмистров Александр Николаевич', 'Бурский Владимир Петрович',\n",
              "       'Бурцев Алексей Анатольевич', 'Бычков Алексей Станиславович',\n",
              "       'Висков Олег Викторович', 'Волков Борис Олегович',\n",
              "       'Габдурафикова (Кочерова) Анна Сергеевна',\n",
              "       'Гарбер Алексей Игоревич', 'Гимадеев Ренат Айратович',\n",
              "       'Глухов Илья Викторович', 'Голованов Юрий Вячеславович',\n",
              "       'Головко Андрей Юрьевич', 'Голубев Максим Олегович',\n",
              "       'Голубов Борис Иванович', 'Городецкий Сергей Евгеньевич',\n",
              "       'Горяйнов Виктор Владимирович', 'Гриневич Алексей Иванович',\n",
              "       'Гриценко Сергей Александрович', 'Гульдарья Шамбилова',\n",
              "       'Гусев Николай Анатольевич', 'Гусятников Пётр Борисович',\n",
              "       'Гущин Валентин Анатольевич', 'Гущин Дмитрий Денисович',\n",
              "       'Днестрян Андрей Игоревич', 'Домышева Людмила Николаевна',\n",
              "       'Дубинская Вера Юльевна', 'Дымарский Яков Михайлович',\n",
              "       'Дьячков Александр Михайлович', 'Егоров Александр Иванович',\n",
              "       'Ершов Андрей Владимирович', 'Ждановский Илья Юрьевич',\n",
              "       'Жестков Сергей Андреевич', 'Животов Сергей Дмитриевич',\n",
              "       'Завадский Дмитрий Викторович', 'Загрядский Олег Александрович',\n",
              "       'Здор Александр Геннадьевич', 'Знаменская Людмила Николаевна',\n",
              "       'Зубов Владимир Иванович', 'Зухба Расим Даурович',\n",
              "       'Иванов Григорий Евгеньевич', 'Иванов Григорий Михайлович',\n",
              "       'Иванова Светлана Владимировна', 'Калашников Сергей Владимирович',\n",
              "       'Калиниченко Артём Александрович', 'Кальметьев Рустем Шайнурович',\n",
              "       'Капралов Кирилл Николаевич', 'Карасёв Роман Николаевич',\n",
              "       'Каржеманов Илья Вячеславович', 'Карлов Михаил Иванович',\n",
              "       'Киреенков Алексей Альбертович', 'Ковалёв Виталий Петрович',\n",
              "       'Кожевников Павел Александрович', 'Козицин Иван Владимирович',\n",
              "       'Кондрашов Олег Васильевич', 'Коновалов Сергей Петрович',\n",
              "       'Константинов Роман Викторович', 'Королёв Николай Юрьевич',\n",
              "       'Коротеев Максим Валерьевич', 'Крымов Роман Алексеевич',\n",
              "       'Кузнецов Александр Алексеевич', 'Кузовкин Дмитрий Петрович',\n",
              "       'Кузьменко Юрий Владимирович', 'Куликов Александр Владимирович',\n",
              "       'Курочкина Лиана Васильевна', 'Лапик Мария Александровна',\n",
              "       'Лапко Сергей Вениаминович', 'Леонтьева Лариса Алексеевна',\n",
              "       'Лизунов Антон Юрьевич', 'Лопушански Мариана Сергеевна',\n",
              "       'Лукашов Алексей Леонидович', 'Лунина Мария Александровна',\n",
              "       'Лысов Владимир Генрихович', 'Маркашева Вера Алексеевна',\n",
              "       'Марковцев Денис Анатольевич', 'Мартынов Владимир Владимирович',\n",
              "       'Мельников Артем Андреевич', 'Минеев Михаил Петрович',\n",
              "       'Мироненко Павел Павлович', 'Михайлова Татьяна Валентиновна',\n",
              "       'Молчанов Евгений Геннадьевич', 'Мухин Геннадий Валентинович',\n",
              "       'Никитчук Богдан Ярославович', 'Николаев Владимир Степанович',\n",
              "       'Николаенко Станислав Сергеевич', 'Ноаров Александр Игоревич',\n",
              "       'Нохрина Елена Евгеньевна', 'Огарков Станислав Леонидович',\n",
              "       'Олейник Роман Дмитриевич', 'Орлов Юрий Николаевич',\n",
              "       'Орёл Ольга Евгеньевна', 'Останин Павел Антонович',\n",
              "       'Панкратов Леонид Сергеевич', 'Петрова Татьяна Юрьевна',\n",
              "       'Петрович Александр Юрьевич', 'Петрович Анна Александровна',\n",
              "       'Петухова Наталья Юрьевна', 'Пиголкина Татьяна Сергеевна',\n",
              "       'Подлипская Ольга Геннадьевна', 'Подлипский Олег Константинович',\n",
              "       'Половинкин Алексей Евгениевич', 'Половинкин Евгений Сергеевич',\n",
              "       'Полянский Александр Андреевич', 'Пыркова Ольга Анатольевна',\n",
              "       'Рассоха Анастасия Владимировна', 'Редкозубов Вадим Витальевич',\n",
              "       'Редкозубова Елена Юрьевна', 'Резниченко Сергей Васильевич',\n",
              "       'Родин Михаил Максимович', 'Румянцев Борис Николаевич',\n",
              "       'Сакбаев Всеволод Жанович', 'Самарова Светлана Сергеевна',\n",
              "       'Саулин Сергей Михайлович', 'Свирщевский Сергей Ростиславович',\n",
              "       'Седов Валерий Николаевич', 'Семёнов Андрей Юрьевич',\n",
              "       'Скубачевский Антон Александрович',\n",
              "       'Стародубцев Дмитрий Евгеньевич', 'Степанов Андрей Леонидович',\n",
              "       'Сысоев Олег Юрьевич', 'Тер-Крикоров Александр Мартынович',\n",
              "       'Терёшин Дмитрий Александрович', 'Трошин Алексей Игоревич',\n",
              "       'Трушин Борис Викторович', 'Трушин Виктор Борисович',\n",
              "       'Тумайкин Илья Николаевич', 'Тюленев Александр Иванович',\n",
              "       'Умнов Александр Евгеньевич', 'Умнов Егор Александрович',\n",
              "       'Фастовец Нинель Олеговна', 'Филимонов Дмитрий Андреевич',\n",
              "       'Хасанов Адам Агзамович', 'Хизгияев Семен Владимирович',\n",
              "       'Хохлов Михаил Александрович', 'Цветков Егор Александрович',\n",
              "       'Целоусова Анастасия Александровна', 'Чекарев Денис Анатольевич',\n",
              "       'Чекменёв Александр Анатольевич', 'Черняев Александр Петрович',\n",
              "       'Чубаров Игорь Андреевич', 'Чувилин Кирилл Владимирович',\n",
              "       'Чурбанов Дмитрий Владимирович', 'Шамаров Николай Николаевич',\n",
              "       'Шаньков Владимир Владимирович', 'Шароватова Юлия Игоревна',\n",
              "       'Шеверов Владимир Григорьевич', 'Шибзухов Заур Мухадинович',\n",
              "       'Широков Максим Евгеньевич', 'Шитов Ярослав Николаевич',\n",
              "       'Шляхов Николай Михайлович', 'Шомполов Игорь Григорьевич',\n",
              "       'Штепин Вадим Владимирович', 'Юденкова Мария Алексеевна',\n",
              "       'Аветисов Ашот Аршавирович', 'Агеев Никита Дмитриевич',\n",
              "       'Аланакян Юрий Робертович', 'Александров Дмитрий Анатольевич',\n",
              "       'Алескеров Имран Арифович', 'Алябьева Людмила Николаевна',\n",
              "       'Аникин Юрий Александрович', 'Антропов Александр Сергеевич',\n",
              "       'Арсеньев Андрей Романович', 'Атаулин Виталий Эдуардович',\n",
              "       'Бабинцев Владимир Александрович', 'Беляков Владимир Алексеевич',\n",
              "       'Берюлёва Нина Степановна', 'Бродский Андрей Юрьевич',\n",
              "       'Булыгин Владимир Семёнович', 'Бурков Владимир Иванович',\n",
              "       'Бурлуцкая Елена Васильевна', 'Быков Александр Андреевич',\n",
              "       'Вановский Владимир Валерьевич', 'Васильев Борис Иванович',\n",
              "       'Вахитов Руслан Ришатович', 'Веревочкин Юрий Георгиевич',\n",
              "       'Виноградов Станислав Владиленович',\n",
              "       'Воробьев Александр Семенович', 'Ворона Назар Александрович',\n",
              "       'Воронов Артем Анатольевич', 'Выборов Андрей Константинович',\n",
              "       'Гавриков Андрей Владимирович', 'Гижа Анастасия Сергеевна',\n",
              "       'Гладуш Максим Геннадьевич', 'Глазков Василий Николаевич',\n",
              "       'Гоголин Андрей Анатольевич', 'Гуденко Алексей Викторович',\n",
              "       'Гуденко Станислав Викторович', 'Данилин Валерий Алексеевич',\n",
              "       'Дербенев Иван Николаевич', 'Долгих Виктор Александрович',\n",
              "       'Долгих Елена Александровна', 'Дьяков Анатолий Степанович',\n",
              "       'Дьячков Николай Владимирович', 'Елисеев Станислав Петрович',\n",
              "       'Ескин Николай Иванович', 'Жабин Сергей Николаевич',\n",
              "       'Желтоухов Андрей Александрович', 'Жотиков Вадим Геннадьевич',\n",
              "       'Заболотных Андрей Александрович', 'Зелёная Анна Владимировна',\n",
              "       'Зелёный Михаил Евгеньевич', 'Зубович Наталья Юрьевна',\n",
              "       'Игуменов Александр Юрьевич', 'Извекова Юлия Николаевна',\n",
              "       'Инжечик Лев Владиславович', 'Иоголевич Иван Александрович',\n",
              "       'Ипатов Дмитрий Евгеньевич', 'Ипатов Евгений Борисович',\n",
              "       'Казимиров Александр Александрович', 'Каменец Фёдор Фёдорович',\n",
              "       'Капустин Михаил Анатольевич', 'Карташёв Александр Леонидович',\n",
              "       'Касьянова Надежда Викторовна', 'Квашнин Александр Александрович',\n",
              "       'Кириллов Вячеслав Петрович', 'Киркинский Александр Иннокентьевич',\n",
              "       'Клименок Кирилл Леонидович', 'Клёнов Сергей Львович',\n",
              "       'Князев Дмитрий Владимирович', 'Кобякин Александр Сергеевич',\n",
              "       'Козлов Виталий Фёдорович', 'Колдунов Леонид Модестович',\n",
              "       'Колдунов Модест Фёдорович', 'Колесов Юрий Иванович',\n",
              "       'Кологривов Виктор Николаевич', 'Колотова Лада Николаевна',\n",
              "       'Конев Юрий Борисович', 'Константин Павлович Щукин',\n",
              "       'Копнин Сергей Игоревич', 'Коротков Павел Фёдорович',\n",
              "       'Коршунов Сергей Михайлович', 'Корявов Владимир Павлович',\n",
              "       'Криштоп Владимир Григорьевич', 'Крымский Кирилл Михайлович',\n",
              "       'Кубышкин Александр Владимирович', 'Кудров Максим Александрович',\n",
              "       'Кузнецов Владислав Борисович', 'Кузьмичёв Сергей Дмитриевич',\n",
              "       'Кулешов Павел Сергеевич', 'Курлович Александра Сергеевна',\n",
              "       'Лапицкий, Дмитрий Сергеевич', 'Лапушкин Георгий Иванович',\n",
              "       'Лев Николаевич Астраханцев', 'Лейман Владимир Георгиевич',\n",
              "       'Лобачёв Владимир Валентинович', 'Локшин Геннадий Рафаилович',\n",
              "       'Лукьянов Андрей Александрович', 'Максимычев Александр Витальевич',\n",
              "       'Мальцев Максим Александрович', 'Махмутов Владимир Салимгереевич',\n",
              "       'Медведев Антон Сергеевич', 'Мейлихов Евгений Залманович',\n",
              "       'Миллер Алексей Борисович', 'Мирончук Елена Сергеевна',\n",
              "       'Миславский Владимир Владимирович', 'Михайлов Юрий Анатольевич',\n",
              "       'Морозов Евгений Николаевич', 'Моршнев Сергей Константинович',\n",
              "       'Муравьёв Валентин Фёдорович', 'Мушенкова Светлана Борисовна',\n",
              "       'Мясников Евгений Владимирович', 'Никитаев Юрий Александрович',\n",
              "       'Николаев Владислав Сергеевич', 'Никулин Михаил Григорьевич',\n",
              "       'Нитишинский Михаил Сергеевич', 'Нозик Александр Аркадьевич',\n",
              "       'Нухов Азим Кадимович', 'Овчинкин Владимир Александрович',\n",
              "       'Овчинников Константин Алексеевич', 'Остриков Николай Николаевич',\n",
              "       'Певгов Вячеслав Геннадьевич', 'Пенкин Михаил Александрович',\n",
              "       'Петров Александр Сергеевич', 'Петухов Владимир Андреевич',\n",
              "       'Плис Валерий Иванович', 'Покотило Ирина Леонидовна',\n",
              "       'Попель Сергей Игоревич', 'Попов Игорь Алексеевич',\n",
              "       'Попов Павел Владимирович', 'Потапов Вячеслав Александрович',\n",
              "       'Почернин Игорь Геннадиевич', 'Приходько Иван Владимирович',\n",
              "       'Прут Эдуард Вениаминович', 'Пырков Валентин Валентинович',\n",
              "       'Раевский Александр Осипович', 'Рухленко Алексей Сергеевич',\n",
              "       'Рыков Игорь', 'Савинов Сергей Юрьевич',\n",
              "       'Савров Михаил Анатольевич', 'Сандуляну Штефан Васильевич',\n",
              "       'Сафонов Александр Игоревич', 'Светличный Александр Олегович',\n",
              "       'Свинцов Дмитрий Александрович', 'Седельников Евгений Викторович',\n",
              "       'Семененко Вячеслав Леонович', 'Серохвостов Сергей Владимирович',\n",
              "       'Ситников Михаил Геннадьевич', 'Скворцов Владимир Анатольевич',\n",
              "       'Склизков Глеб Владимирович', 'Скороваров Александр Юрьевич',\n",
              "       'Слободянин Валерий Павлович', 'Смирнова Ольга Ивановна',\n",
              "       'Стариков Сергей Валерьевич', 'Стасенко Альберт Леонидович',\n",
              "       'Стожков Владимир Юрьевич', 'Струминский Алексей Борисович',\n",
              "       'Судаков Олег Александрович', 'Сухоруков Михаил Владимирович',\n",
              "       'Теврюков Алексей Андреевич', 'Тимирханов Ринат Асхатович',\n",
              "       'Тимофеев Алексей Владимирович', 'Траньков Сергей Вячеславович',\n",
              "       'Троценко Василий Геннадиевич', 'Тулайкова Марина Анатольевна',\n",
              "       'Турусов Роберт Алексеевич', 'Тявин Павел Олегович',\n",
              "       'Уваров Андрей Владимирович', 'Ульянов Сергей Александрович',\n",
              "       'Усков Владимир Владимирович', 'Усманов Равиль Анатольевич',\n",
              "       'Федоров Александр Витальевич', 'Федоров Георгий Евгеньевич',\n",
              "       'Филатов Юрий Николаевич', 'Фрейберг Геннадий Николаевич',\n",
              "       'Холин Дмитрий Игоревич', 'Хохлов Эдуард Михайлович',\n",
              "       'Храпач Иван Николаевич', 'Черкасова Елена Константиновна',\n",
              "       'Чешев Юрий Викторович', 'Чивилёв Виктор Иванович',\n",
              "       'Чубич Дмитрий Анатольевич', 'Чуриков Дмитрий Викторович',\n",
              "       'Шаулов Сергей Борисович', 'Шелагин Анатолий Васильевич',\n",
              "       'Шеронов Александр Анатольевич', 'Шкуренко Юрий Павлович',\n",
              "       'Шурупов Михаил Алексеевич', 'Щербаков Алексей Александрович',\n",
              "       'Юдин Иван Сергеевич', 'Юрьев Юрий Вячеславович',\n",
              "       'Якубовский Дмитрий Игоревич', 'Болейко Гелена Михайловна',\n",
              "       'Васильева Татьяна Михайловна', 'Вечерук Георгий Викторович',\n",
              "       'Гнатко Надежда Николаевна', 'Киреев Виктор Борисович',\n",
              "       'Николаева Тамара Борисовна', 'Стожков Владимир Юрьевич',\n",
              "       'Талисманов Владимир Сергеевич', 'Фесенко Татьяна Николаевна',\n",
              "       'Алексеев Василий Антонович', 'Бабичев Сергей Леонидович',\n",
              "       'Бабичева Татьяна Сергеевна', 'Барский Евгений Яковлевич',\n",
              "       'Беклемышева Катерина Алексеевна', 'Васюков Алексей Викторович',\n",
              "       'Винокуров Никита Алексеевич', 'Владимиров Константин Игоревич',\n",
              "       'Ворожцов Артём Викторович', 'Воронцов Игорь Андреевич',\n",
              "       'Ворощук Денис Николаевич', 'Вязовик Николай Александрович',\n",
              "       'Ганин Геннадий Васильевич', 'Гетьман Александр Олегович',\n",
              "       'Горшков Тимофей Владимирович', 'Грицуляк Роман Тарасович',\n",
              "       'Дединский Илья Рудольфович', 'Дербакова Елена Павловна',\n",
              "       'Дербышева Татьяна Николаевна', 'Ефанов Николай Николаевич',\n",
              "       'Захаренков Алексей Сергеевич', 'Исходжанов Тимур Равилевич',\n",
              "       'Казеннов Иван Максимович', 'Квасов Игорь Евгеньевич',\n",
              "       'Кобец Алексей Леонидович', 'Коваленко Игорь Викторович',\n",
              "       'Коротин Павел Николаевич', 'Красильников Николай Иванович',\n",
              "       'Кудинова Марина Викторовна', 'Лунёв Денис Владимирович',\n",
              "       'Макаров Иван Сергеевич', 'Маркин Владимир Дмитриевич',\n",
              "       'Миркин Андрей Леонидович', 'Миряха Владислав Андреевич',\n",
              "       'Михайлов Михаил Евгеньевич', 'Нижник Екатерина Игоревна',\n",
              "       'Петров Виктор Анатольевич', 'Петров Игорь Борисович',\n",
              "       'Подлесных Дмитрий Артурович', 'Потапов Антон Павлович',\n",
              "       'Пудгородский Юрий Андреевич', 'Рыков Владимир Васильевич',\n",
              "       'Скороваров Константин Владимирович',\n",
              "       'Скубачевский Антон Александрович', 'Солопов Николай Николаевич',\n",
              "       'Субботина Анна Юрьевна', 'Третьяков Андрей Вадимович',\n",
              "       'Устюжанин Андрей Евгеньевич', 'Хайруллин Егор Михайлович',\n",
              "       'Хирьянов Тимофей Федорович', 'Хохлов Владимир Константинович',\n",
              "       'Хохлов Николай Игоревич', 'Цымбой Ольга Александровна',\n",
              "       'Чуканова Ольга Владимировна', 'Шалаев Владимир Иванович',\n",
              "       'Эрлих Игорь Александрович', 'Абрамова Ксения Борисовна',\n",
              "       'Абубакирова Наталия Петровна', 'Аленькина Татьяна Борисовна',\n",
              "       'Артамонова Екатерина Александровна', 'Артюхина Тамара Ивановна',\n",
              "       'Бажина Таисия Александровна', 'Барли Надежда Константиновна',\n",
              "       'Бартницкая Людмила Ричардовна', 'Бирюкова Елена Викторовна',\n",
              "       'Борисова Галина Ивановна', 'Булдакова Надежда Николаевна',\n",
              "       'Бурмистрова Надежда Степановна', 'Владимирова Евгения Олеговна',\n",
              "       'Гудкова Ольга Владимировна', 'Денисова Анна Юрьевна',\n",
              "       'Довгяло Елена Евгеньевна', 'Есакова Светлана Викторовна',\n",
              "       'Зарецкая Вера Михайловна', 'Зотова Евгения Александровна',\n",
              "       'Кабанова Надежда Валерьевна', 'Казеннова Екатерина Георгиевна',\n",
              "       'Камчатнова Ольга Александровна',\n",
              "       'Караваева Надежда Александровна', 'Карцева Ольга Вячеславовна',\n",
              "       'Кирилова Людмила Ивановна', 'Кислова Ольга Геннадьевна',\n",
              "       'Климова Марина Анатольевна', 'Кольцова Алена Сергеевна',\n",
              "       'Космодемьянская Ольга Валерьевна',\n",
              "       'Кравченко Анастасия Николаевна', 'Краснова Надежда Сергеевна',\n",
              "       'Красноцветова Маргарита Михайловна',\n",
              "       'Красноцветова Ольга Андреевна', 'Кузнецова Наталья Валерьевна',\n",
              "       'Курапова Мария Евгеньевна', 'Кустиков Михаил Михайлович',\n",
              "       'Кучина Людмила Васильевна', 'Ламзина Анна Владиславовна',\n",
              "       'Ларина Анна Юрьевна', 'Леонтьева Нина Михайловна',\n",
              "       'Леснова Мария Александровна', 'Ломакина Марина Петровна',\n",
              "       'Майорова Лариса Сергеевна', 'Мальцева Ксения Сергеевна',\n",
              "       'Мамаладзе Елена Владимировна', 'Манойленко Наталья Александровна',\n",
              "       'Маргарита Васильевна Переслыцких', 'Маркова Ирина Сергеевна',\n",
              "       'Мельникова Нина Васильевна', 'Мильгоф Иветта Николаевна',\n",
              "       'Морданова Ольга Борисовна', 'Мыльникова Наталья Александровна',\n",
              "       'Ощепкова Екатерина Сергеевна', 'Падерина Оксана Анатольевна',\n",
              "       'Пиняева Елена Вячеславовна', 'Плосковитова Анастасия Юрьевна',\n",
              "       'Плотицина Марина Игоревна', 'Подгорецкая Елена Владимировна',\n",
              "       'Позолотина Людмила Геннадьевна', 'Поливанова Галина Георгиевна',\n",
              "       'Селиванова Оксана Владимировна', 'Семёнова Юлия Борисовна',\n",
              "       'Сметкина Елена Робертовна', 'Сребродольская Лидия Васильевна',\n",
              "       'Старицина Марина Игоревна', 'Судакова Виктория Владимировна',\n",
              "       'Тархова Татьяна Владимировна', 'Тельнова Алевтина Анатольевна',\n",
              "       'Ткаченко Наталья Владимировна', 'Трибунская Елена Николаевна',\n",
              "       'Туранская Татьяна Ивановна', 'Фельснер Ирина Вячеславовна',\n",
              "       'Фомина Наталья Владимировна', 'Хижнякова Татьяна Дмитриевна',\n",
              "       'Хохлачева Наталья Николаевна', 'Чернышева Валентина Владимировна',\n",
              "       'Чувиляева Татьяна Павловна', 'Шевелёва Майя Николаевна',\n",
              "       'Шепилова Дарья Александровна', 'Шлёнская Наталья Анатольевна',\n",
              "       'Шумилина Тамара Ивановна', 'Шуркевич Динара Уллубиевна',\n",
              "       'Янковская Екатерина Александровна', 'Аристова Елена Николаевна',\n",
              "       'Барабанщиков Александр Владимирович',\n",
              "       'Богатов Андрей Валентинович', 'Брагин Михаил Дмитриевич',\n",
              "       'Бухаров Константин Борисович', 'Васильев Михаил Олегович',\n",
              "       'Гойман Гордей Сергеевич', 'Демченко Владимир Владимирович',\n",
              "       'Демьянов Александр Юрьевич', 'Евдокимов Алексей Витальевич',\n",
              "       'Завьялова Наталья Александровна', 'Кончаков Александр Михайлович',\n",
              "       'Корытник Сергей Андреевич', 'Косарев Виталий Иванович',\n",
              "       'Кравченко Наталья Михайловна', 'Куракин Вячеслав Александрович',\n",
              "       'Кучеренко Владимир Иванович', 'Лобанов Алексей Иванович',\n",
              "       'Панов Владимир Александрович', 'Петров Игорь Борисович',\n",
              "       'Пирогов Вячеслав Борисович', 'Прут Вениамин Вениаминович',\n",
              "       'Старожилова Татьяна Константиновна',\n",
              "       'Тирский Григорий Александрович', 'Толстых Андрей Игоревич',\n",
              "       'Тормасов Александр Геннадьевич', 'Уткин Павел Сергеевич',\n",
              "       'Хирьянова Александра Игоревна', 'Цыбулин Иван Владимирович',\n",
              "       'Цымбой Ольга Александровна', 'Абаимов Сергей Германович',\n",
              "       'Аврутский Всеволод Игоревич', 'Ахмедов Эмиль Тофикович',\n",
              "       'Барабанов Алексей Леонидович', 'Белемук Александр Михайлович',\n",
              "       'Белоусов Юрий Михайлович', 'Бурмистров Игорь Сергеевич',\n",
              "       'Бурмистров Сергей Николаевич', 'Вагнер Сергей Александрович',\n",
              "       'Вайнберг Владимир Маркович', 'Валиулин Валерий Эрижанович',\n",
              "       'Вергелес Сергей Никитович', 'Вергелес Сергей Сергеевич',\n",
              "       'Воронов Николай Александрович', 'Герштейн Семён Соломонович',\n",
              "       'Гец Артем Викторович', 'Гешкенбейн Борис Владимирович',\n",
              "       'Гозман Михаил Игоревич', 'Домарецкий Даниил Рубикович',\n",
              "       'Дорофеев Евгений Александрович',\n",
              "       'Дорофеенко Александр Викторович', 'Дубовский Леонид Борисович',\n",
              "       'Загороднев Игорь Витальевич', 'Зайцев Рагдай Олегович',\n",
              "       'Зябловский Александр Андреевич', 'Иванов Михаил Геннадьевич',\n",
              "       'Ирошников Георгий Саввич', 'Киселёв Валерий Валерьевич',\n",
              "       'Козлов Николай Александрович', 'Котова Леонора Петровна',\n",
              "       'Крайнов Владимир Павлович', 'Кузнецов Владимир Петрович',\n",
              "       'Манько Владимир Иванович', 'Мельниковский Лев Александрович',\n",
              "       'Мисуна Никита Георгиевич', 'Михайлова Юлия Владимировна',\n",
              "       'Михеенков Андрей Витальевич', 'Нохрина Елена Евгеньевна',\n",
              "       'Огарков Станислав Леонидович', 'Орлов Валерий Георгиевич',\n",
              "       'Осипов Дмитрий Львович', 'Полищук Илья Яковлевич',\n",
              "       'Пухов Александр Александрович', 'Сибатов Ренат Тимергалиевич',\n",
              "       'Суровцев Евгений Владимирович', 'Суслов Михаил Васильевич',\n",
              "       'Суханов Леонид Павлович', 'Тернов Алексей Игоревич',\n",
              "       'Толоконников Сергей Владимирович', 'Толстихин Олег Исаакович',\n",
              "       'Федичкин Леонид Евгеньевич', 'Филиппов Сергей Николаевич',\n",
              "       'Фоминов Яков Викторович', 'Фомичев Сергей Венедиктович',\n",
              "       'Черноусов Игорь Владимирович', 'Чернягин Сергей Александрович',\n",
              "       'Шварцберг Александр Владимирович', 'Щелкачёв Николай Михайлович',\n",
              "       'Амелькин Николай Иванович', 'Батхин Александр Борисович',\n",
              "       'Зараменских Ирина Евгеньевна', 'Иванов Александр Павлович',\n",
              "       'Иванов Данил Сергеевич', 'Козьминых Валерий Аркадьевич',\n",
              "       'Кузнецов Александр Михайлович', 'Куприянова Надежда Валерьевна',\n",
              "       'Маркеев Анатолий Павлович', 'Маштаков Ярослав Владимирович',\n",
              "       'Монахова Ульяна Владимировна', 'Муницына Мария Александровна',\n",
              "       'Нунупаров Армен Мартынович', 'Овчинников Михаил Юрьевич',\n",
              "       'Притыкин Дмитрий Аркадьевич', 'Сахаров Александр Вадимович',\n",
              "       'Семендяев Сергей Вячеславович', 'Сидоренко Владислав Викторович',\n",
              "       'Синев Александр Николаевич', 'Скороход Сергей Анатольевич',\n",
              "       'Соколов Сергей Викторович', 'Соловьев Анатолий Алексеевич',\n",
              "       'Ткачёв Степан Сергеевич', 'Трухан Надежда Михайловна',\n",
              "       'Фомичев Александр Владимирович', 'Ханукаев Юрий Исламович',\n",
              "       'Холостова Ольга Владимировна', 'Щелик Герман Сергеевич',\n",
              "       'Яковенко Геннадий Николаевич',\n",
              "       'Абдулгамидов Низами Абдулгамидович', 'Арумов Георгий Петрович',\n",
              "       'Болтарь Константин Олегович', 'Воронов Евгений Валентинович',\n",
              "       'Григорьев Александр Алексеевич', 'Донов Геннадий Иннокентьевич',\n",
              "       'Дубовецкий Андрей Зигмундович', 'Дудкин Павел Валентинович',\n",
              "       'Елохин Роман Юрьевич', 'Иващенко Олег Игоревич',\n",
              "       'Колыбельников Александр Иванович',\n",
              "       'Красавин Александр Алексеевич', 'Ларин Анатолий Леонидович',\n",
              "       'Медова Луиза Руслановна', 'Поляков Андрей Евгеньевич',\n",
              "       'Русскин Сергей Олегович', 'Семака Вадим Юрьевич',\n",
              "       'Стрыгин Леонид Васильевич', 'Суханов Александр Алексеевич',\n",
              "       'Сысоев Игорь Юрьевич', 'Тужилкин Владимир Алексеевич',\n",
              "       'Тужилкин Евгений Владимирович', 'Филатов Иван Васильевич',\n",
              "       'Шаповалов Александр Николаевич', 'Автайкин Сергей Владимирович',\n",
              "       'Алипов Сергей Владимирович', 'Баранов Артём Александрович',\n",
              "       'Березникова Марина Владимировна', 'Быков Александр Андреевич',\n",
              "       'Завьялов Иван Николаевич', 'Извеков Олег Ярославович',\n",
              "       'Кузьменко Вера Михайловна', 'Кучук Александр Александрович',\n",
              "       'Молчанов Владимир Сергеевич', 'Негодяев Сергей Серафимович',\n",
              "       'Попов Леонид Леонидович', 'Рыжак Евгений Измайлович',\n",
              "       'Рыжаков Михаил Викторович', 'Скорик Герта Игоревна',\n",
              "       'Скрылев Александр Витальевич', 'Терентьев Максим Владимирович',\n",
              "       'Титаров Сергей Иванович', 'Щербаков Владимир Николаевич',\n",
              "       'Аминов Владимир Алексеевич', 'Жиляков Михаил Николаевич',\n",
              "       'Киреева Анастасия Викторовна', 'Клещевская Ирина Геннадьевна',\n",
              "       'Кожура Руслан Вячеславович', 'Надеждин Борис Борисович',\n",
              "       'Анна Викторовна Маркова', 'Безделов Эдуард Анатольевич',\n",
              "       'Белокринкина Валентина Алексеевна',\n",
              "       'Бодунова Анастасия Андреевна', 'Бортневская Любовь Александровна',\n",
              "       'Бунин Анатолий Яковлевич', 'Бунин Денис Анатольевич',\n",
              "       'Волков Николай Петрович', 'Гаранина Светлана Васильевна',\n",
              "       'Гусев Роман Анатольевич', 'Давыдов Алексей Викторович',\n",
              "       'Ермолаева Светлана Максимовна', 'Заболотская Любовь Сергеевна',\n",
              "       'Калинина Олеся Геннадьевна', 'Коломников Денис Александрович',\n",
              "       'Кондин Александр Александрович', 'Матвеев Владимир Александрович',\n",
              "       'Меликидзе Шота Акакиевич', 'Митрофанов Анатолий Владимирович',\n",
              "       'Мухаметова Надежда Львовна', 'Мякишев Владислав Александрович',\n",
              "       'Несчастнов Михаил Константинович',\n",
              "       'Никишкин Владимир Александрович', 'Панжин Алексей Леонидович',\n",
              "       'Поляков Владимир Васильевич', 'Попова Анна Сергеевна',\n",
              "       'Поспелов Дмитрий Анатольевич', 'Пугаев Ярослав Викторович',\n",
              "       'Пыжов Михаил Владимирович', 'Рыбаков Алексей Анатольевич',\n",
              "       'Рыбаков Виталий Анатольевич', 'Рыбакова Татьяна Анатольевна',\n",
              "       'Сазонов Владимир Сергеевич', 'Селуянов Виктор Николаевич',\n",
              "       'Ситник Андрей Павлович', 'Терентьев Игорь Владимирович',\n",
              "       'Торопов Валентин Николаевич', 'Хлебникова Марина Олеговна',\n",
              "       'Шиняева Нина Владимировна', 'Юрманова Людмила Александровна',\n",
              "       'Ястребков Вадим Сергеевич', 'Бойков Андрей Вячеславович',\n",
              "       'Волков Юрий Николаевич', 'Гордеев Дмитрий Сергеевич',\n",
              "       'Григоров Владислав Эдуардович', 'Деяшкин Александр Витальевич',\n",
              "       'Зорин Андрей Юрьевич', 'Касьян Геннадий Александрович',\n",
              "       'Киреев Виктор Борисович', 'Клочков Владислав Валерьевич',\n",
              "       'Копылов Сергей Анатольевич', 'Кудрявцев Денис Борисович',\n",
              "       'Маслов Алексей Юрьевич', 'Николаенко Вячеслав Анатольевич',\n",
              "       'Озол Дмитрий Игоревич', 'Пекарский Сергей Эдмундович',\n",
              "       'Перепелкин Сергей Петрович', 'Покатович Елена Викторовна',\n",
              "       'Полежаев Алексей Васильевич', 'Ахтырский Дмитрий Константинович',\n",
              "       'Кобзев Артём Игоревич', 'Коцюба Вячеслав Иванович',\n",
              "       'Лаврова Алла Анатольевна', 'Лупандин Иван Владимирович',\n",
              "       'Петров Алексей Алексеевич', 'Семёнов Юрий Иванович',\n",
              "       'Скворчевский Константин Анатольевич', 'Трунин Михаил Рюрикович',\n",
              "       'Захаров Степан Алексеевич', 'Норман Генри Эдгарович',\n",
              "       'Иванов Юрий Григорьевич', 'Кваченко Андрей Владимирович',\n",
              "       'Корнеев Виктор Александрович', 'Летуновский Сергей Владимирович',\n",
              "       'Бубнов Григорий Георгиевич'], dtype='<U39')"
            ]
          },
          "metadata": {},
          "execution_count": 46
        }
      ]
    },
    {
      "cell_type": "code",
      "source": [
        "data"
      ],
      "metadata": {
        "colab": {
          "base_uri": "https://localhost:8080/",
          "height": 0
        },
        "id": "dtTopPt8OiI6",
        "outputId": "a1cbc0ec-68eb-43f3-c0ef-6d209be8baf0"
      },
      "execution_count": 50,
      "outputs": [
        {
          "output_type": "execute_result",
          "data": {
            "text/html": [
              "<div>\n",
              "<style scoped>\n",
              "    .dataframe tbody tr th:only-of-type {\n",
              "        vertical-align: middle;\n",
              "    }\n",
              "\n",
              "    .dataframe tbody tr th {\n",
              "        vertical-align: top;\n",
              "    }\n",
              "\n",
              "    .dataframe thead th {\n",
              "        text-align: right;\n",
              "    }\n",
              "</style>\n",
              "<table border=\"1\" class=\"dataframe\">\n",
              "  <thead>\n",
              "    <tr style=\"text-align: right;\">\n",
              "      <th></th>\n",
              "      <th>full_name</th>\n",
              "      <th>teach_place</th>\n",
              "      <th>degree</th>\n",
              "      <th>knowledge</th>\n",
              "      <th>teaching_skill</th>\n",
              "      <th>commication_skill</th>\n",
              "      <th>easy_exam</th>\n",
              "      <th>overall_score</th>\n",
              "    </tr>\n",
              "  </thead>\n",
              "  <tbody>\n",
              "    <tr>\n",
              "      <th>0</th>\n",
              "      <td></td>\n",
              "      <td></td>\n",
              "      <td></td>\n",
              "      <td>0.00</td>\n",
              "      <td>0.00</td>\n",
              "      <td>0.00</td>\n",
              "      <td>0.00</td>\n",
              "      <td>0.00</td>\n",
              "    </tr>\n",
              "    <tr>\n",
              "      <th>1</th>\n",
              "      <td>Агаханов Назар Хангельдыевич</td>\n",
              "      <td>Кафедра высшей математики</td>\n",
              "      <td>Кандидат физико-математических наук (1988)</td>\n",
              "      <td>4.86</td>\n",
              "      <td>4.77</td>\n",
              "      <td>4.79</td>\n",
              "      <td>4.25</td>\n",
              "      <td>4.79</td>\n",
              "    </tr>\n",
              "    <tr>\n",
              "      <th>2</th>\n",
              "      <td>Агаханова Яна Сергеевна</td>\n",
              "      <td>Кафедра высшей математики</td>\n",
              "      <td>Кандидат физико-математических наук (2007)</td>\n",
              "      <td>4.51</td>\n",
              "      <td>4.63</td>\n",
              "      <td>4.85</td>\n",
              "      <td>4.81</td>\n",
              "      <td>4.81</td>\n",
              "    </tr>\n",
              "    <tr>\n",
              "      <th>3</th>\n",
              "      <td>Алексеев Василий Антонович</td>\n",
              "      <td>Кафедра высшей математики  Кафедра информатики</td>\n",
              "      <td>NaN</td>\n",
              "      <td>4.67</td>\n",
              "      <td>4.33</td>\n",
              "      <td>4.50</td>\n",
              "      <td>4.17</td>\n",
              "      <td>4.67</td>\n",
              "    </tr>\n",
              "    <tr>\n",
              "      <th>4</th>\n",
              "      <td>Амосов Григорий Геннадьевич</td>\n",
              "      <td>Кафедра высшей математики</td>\n",
              "      <td>Доктор физико-математических наук</td>\n",
              "      <td>4.42</td>\n",
              "      <td>3.42</td>\n",
              "      <td>4.33</td>\n",
              "      <td>4.44</td>\n",
              "      <td>4.00</td>\n",
              "    </tr>\n",
              "    <tr>\n",
              "      <th>...</th>\n",
              "      <td>...</td>\n",
              "      <td>...</td>\n",
              "      <td>...</td>\n",
              "      <td>...</td>\n",
              "      <td>...</td>\n",
              "      <td>...</td>\n",
              "      <td>...</td>\n",
              "      <td>...</td>\n",
              "    </tr>\n",
              "    <tr>\n",
              "      <th>745</th>\n",
              "      <td>Иванов Юрий Григорьевич</td>\n",
              "      <td>Военная кафедра</td>\n",
              "      <td>NaN</td>\n",
              "      <td>5.00</td>\n",
              "      <td>5.00</td>\n",
              "      <td>5.00</td>\n",
              "      <td>5.00</td>\n",
              "      <td>5.00</td>\n",
              "    </tr>\n",
              "    <tr>\n",
              "      <th>746</th>\n",
              "      <td>Кваченко Андрей Владимирович</td>\n",
              "      <td>Военная кафедра</td>\n",
              "      <td>кандидат технических наук</td>\n",
              "      <td>3.50</td>\n",
              "      <td>3.00</td>\n",
              "      <td>2.50</td>\n",
              "      <td>3.50</td>\n",
              "      <td>3.50</td>\n",
              "    </tr>\n",
              "    <tr>\n",
              "      <th>747</th>\n",
              "      <td>Корнеев Виктор Александрович</td>\n",
              "      <td>Военная кафедра</td>\n",
              "      <td>NaN</td>\n",
              "      <td>5.00</td>\n",
              "      <td>5.00</td>\n",
              "      <td>5.00</td>\n",
              "      <td>4.00</td>\n",
              "      <td>5.00</td>\n",
              "    </tr>\n",
              "    <tr>\n",
              "      <th>748</th>\n",
              "      <td>Летуновский Сергей Владимирович</td>\n",
              "      <td>Военная кафедра</td>\n",
              "      <td>NaN</td>\n",
              "      <td>3.00</td>\n",
              "      <td>3.00</td>\n",
              "      <td>3.00</td>\n",
              "      <td>2.00</td>\n",
              "      <td>3.00</td>\n",
              "    </tr>\n",
              "    <tr>\n",
              "      <th>749</th>\n",
              "      <td>Бубнов Григорий Георгиевич</td>\n",
              "      <td>Высшая школа системного инжиниринга</td>\n",
              "      <td>Доктор экономических наук</td>\n",
              "      <td>3.00</td>\n",
              "      <td>3.00</td>\n",
              "      <td>3.00</td>\n",
              "      <td>3.00</td>\n",
              "      <td>3.00</td>\n",
              "    </tr>\n",
              "  </tbody>\n",
              "</table>\n",
              "<p>750 rows × 8 columns</p>\n",
              "</div>"
            ],
            "text/plain": [
              "                           full_name  ... overall_score\n",
              "0                                     ...          0.00\n",
              "1       Агаханов Назар Хангельдыевич  ...          4.79\n",
              "2            Агаханова Яна Сергеевна  ...          4.81\n",
              "3         Алексеев Василий Антонович  ...          4.67\n",
              "4        Амосов Григорий Геннадьевич  ...          4.00\n",
              "..                               ...  ...           ...\n",
              "745          Иванов Юрий Григорьевич  ...          5.00\n",
              "746     Кваченко Андрей Владимирович  ...          3.50\n",
              "747     Корнеев Виктор Александрович  ...          5.00\n",
              "748  Летуновский Сергей Владимирович  ...          3.00\n",
              "749       Бубнов Григорий Георгиевич  ...          3.00\n",
              "\n",
              "[750 rows x 8 columns]"
            ]
          },
          "metadata": {},
          "execution_count": 50
        }
      ]
    },
    {
      "cell_type": "code",
      "source": [
        "data1 = data"
      ],
      "metadata": {
        "id": "Y3naRt27BqXP"
      },
      "execution_count": 51,
      "outputs": []
    },
    {
      "cell_type": "code",
      "source": [
        "data1 = data1.drop(labels=0, axis=0)"
      ],
      "metadata": {
        "id": "Sf7ipidbB56w"
      },
      "execution_count": 68,
      "outputs": []
    },
    {
      "cell_type": "code",
      "source": [
        "data1.to_csv('data.csv')"
      ],
      "metadata": {
        "id": "R_SgqpGOE82p"
      },
      "execution_count": 71,
      "outputs": []
    },
    {
      "cell_type": "code",
      "source": [
        "from google.colab import drive\n",
        "drive.mount(\"/content/drive\")"
      ],
      "metadata": {
        "colab": {
          "base_uri": "https://localhost:8080/"
        },
        "id": "5Af9VZvZFjyV",
        "outputId": "9638c636-9d33-45e2-d69c-ca15fb958ceb"
      },
      "execution_count": 55,
      "outputs": [
        {
          "output_type": "stream",
          "name": "stdout",
          "text": [
            "Mounted at /content/drive\n"
          ]
        }
      ]
    },
    {
      "cell_type": "code",
      "source": [
        "!cp data.csv \"/content/drive/My Drive/Data\""
      ],
      "metadata": {
        "id": "zYwJzLEvFO11"
      },
      "execution_count": 72,
      "outputs": []
    },
    {
      "cell_type": "markdown",
      "source": [
        "## Попробуем выделить кластеры"
      ],
      "metadata": {
        "id": "Z1fuJKx4HLYa"
      }
    },
    {
      "cell_type": "code",
      "source": [
        "from scipy.cluster.hierarchy import dendrogram, linkage"
      ],
      "metadata": {
        "id": "0Bt31moZHRh8"
      },
      "execution_count": 57,
      "outputs": []
    },
    {
      "cell_type": "code",
      "source": [
        "data4clust = data1"
      ],
      "metadata": {
        "id": "Fqi5aQ_2HpFU"
      },
      "execution_count": 73,
      "outputs": []
    },
    {
      "cell_type": "code",
      "source": [
        "data4clust = data4clust.drop(['full_name', 'teach_place', 'degree'], axis=1)"
      ],
      "metadata": {
        "id": "Ku9vCHy5JLdz"
      },
      "execution_count": 79,
      "outputs": []
    },
    {
      "cell_type": "code",
      "source": [
        "data4clust = data4clust.fillna(0)"
      ],
      "metadata": {
        "id": "YNmFD0h9LEHP"
      },
      "execution_count": 84,
      "outputs": []
    },
    {
      "cell_type": "code",
      "source": [
        "import matplotlib.pyplot as plt "
      ],
      "metadata": {
        "id": "MbKfpn1sLZiI"
      },
      "execution_count": 86,
      "outputs": []
    },
    {
      "cell_type": "code",
      "source": [
        "Z = linkage(data4clust, 'ward')\n",
        "plt.figure(figsize=(20,12))\n",
        "dendrogram(Z)\n",
        "plt.show()"
      ],
      "metadata": {
        "colab": {
          "base_uri": "https://localhost:8080/",
          "height": 0
        },
        "id": "XfGfMINjHdRl",
        "outputId": "33127a1a-6727-44c7-e033-2895af027bff"
      },
      "execution_count": 87,
      "outputs": [
        {
          "output_type": "display_data",
          "data": {
            "image/png": "[encoded data removed]",
            "text/plain": [
              "<Figure size 1440x864 with 1 Axes>"
            ]
          },
          "metadata": {
            "needs_background": "light"
          }
        }
      ]
    },
    {
      "cell_type": "code",
      "source": [
        "from sklearn.cluster import KMeans\n",
        "\n",
        "clusterer = KMeans(n_clusters=6, max_iter=50000)\n",
        "cluster_labels = clusterer.fit_predict(data4clust)"
      ],
      "metadata": {
        "id": "maY0MpaxU38O"
      },
      "execution_count": 95,
      "outputs": []
    },
    {
      "cell_type": "code",
      "source": [
        "from sklearn.manifold import TSNE\n",
        "\n",
        "data4clust1 = TSNE(n_components=2, learning_rate='auto', n_jobs=-1, \n",
        "                 init='random').fit_transform(data4clust)"
      ],
      "metadata": {
        "id": "k0L3uLgzHkA6"
      },
      "execution_count": 89,
      "outputs": []
    },
    {
      "cell_type": "code",
      "source": [
        "data4clust1"
      ],
      "metadata": {
        "colab": {
          "base_uri": "https://localhost:8080/"
        },
        "id": "fkq-oirJNkDR",
        "outputId": "5dbbf6a9-8576-44e3-c076-313a0b33820b"
      },
      "execution_count": 90,
      "outputs": [
        {
          "output_type": "execute_result",
          "data": {
            "text/plain": [
              "array([[31.371735  , -2.8296566 ],\n",
              "       [30.897604  , -8.732463  ],\n",
              "       [24.524813  , -4.3780065 ],\n",
              "       ...,\n",
              "       [33.720665  , -0.49204573],\n",
              "       [-8.003166  ,  6.942056  ],\n",
              "       [-8.179613  ,  4.0910587 ]], dtype=float32)"
            ]
          },
          "metadata": {},
          "execution_count": 90
        }
      ]
    },
    {
      "cell_type": "code",
      "source": [
        "plt.figure(figsize=(12,9))\n",
        "plt.scatter(data4clust1[:,0], data4clust1[:,1], c=cluster_labels, cmap ='Set3', s=5)\n",
        "plt.scatter(data4clust1[:,0], data4clust1[:,1], c=cluster_labels, s=3, cmap ='Set3')\n",
        "plt.legend(cluster_labels)\n",
        "plt.show()"
      ],
      "metadata": {
        "colab": {
          "base_uri": "https://localhost:8080/",
          "height": 0
        },
        "id": "5-ss4iGJRHPd",
        "outputId": "d92d9849-50de-4030-b3ef-d2d8bb75c943"
      },
      "execution_count": 97,
      "outputs": [
        {
          "output_type": "display_data",
          "data": {
            "image/png": "[encoded data removed]",
            "text/plain": [
              "<Figure size 864x648 with 1 Axes>"
            ]
          },
          "metadata": {
            "needs_background": "light"
          }
        }
      ]
    }
  ],
  "metadata": {
    "kernelspec": {
      "display_name": "Python 3",
      "language": "python",
      "name": "python3"
    },
    "language_info": {
      "codemirror_mode": {
        "name": "ipython",
        "version": 3
      },
      "file_extension": ".py",
      "mimetype": "text/x-python",
      "name": "python",
      "nbconvert_exporter": "python",
      "pygments_lexer": "ipython3",
      "version": "3.8.5"
    },
    "toc": {
      "base_numbering": 1,
      "nav_menu": {},
      "number_sections": true,
      "sideBar": true,
      "skip_h1_title": false,
      "title_cell": "Table of Contents",
      "title_sidebar": "Contents",
      "toc_cell": false,
      "toc_position": {},
      "toc_section_display": true,
      "toc_window_display": false
    },
    "colab": {
      "name": "HW_2_GerasimovKS.ipynb\"",
      "provenance": [],
      "collapsed_sections": [
        "_0Wc6pTvAsiZ",
        "OlSNtQU2Z2gg",
        "4inKXhuHA07A",
        "HYomNe9VBDYd",
        "0UgjXtVoBM9q",
        "NpJl245pHwJS",
        "EHW_o9OPMKmL",
        "179hgh7KUP6m",
        "w7qAQwK0XMfw",
        "BljgJ4-0Yb2O",
        "FmMM6wBWedo5",
        "Z1fuJKx4HLYa"
      ]
    }
  },
  "nbformat": 4,
  "nbformat_minor": 0
}