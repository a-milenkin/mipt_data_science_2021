{
 "cells": [
  {
   "cell_type": "markdown",
   "metadata": {
    "id": "FXIqVFamdXD7"
   },
   "source": [
    "# MIPT Data Science, домашнее задание 1\n",
    "\n",
    "**Автор:** Миленькин Александр\n",
    "\n",
    "**Решил:** Дмитрий Кочетков"
   ]
  },
  {
   "cell_type": "code",
   "execution_count": 776,
   "metadata": {
    "colab": {
     "base_uri": "https://localhost:8080/"
    },
    "id": "3VVVyeoMdXEF",
    "outputId": "fab9e89e-f4a3-4a44-e4fe-023800dcdc6f"
   },
   "outputs": [
    {
     "name": "stdout",
     "output_type": "stream",
     "text": [
      "Requirement already satisfied: umap in /usr/local/lib/python3.7/dist-packages (0.1.1)\n"
     ]
    }
   ],
   "source": [
    "import numpy as np\n",
    "import pandas as pd\n",
    "\n",
    "import scipy\n",
    "\n",
    "import matplotlib.pyplot as plt\n",
    "import seaborn as sns; sns.set_theme()"
   ]
  },
  {
   "cell_type": "code",
   "execution_count": 777,
   "metadata": {
    "colab": {
     "base_uri": "https://localhost:8080/",
     "height": 223
    },
    "id": "JPc8wKaVdXEJ",
    "outputId": "08e6997a-af19-433d-b9c8-5f66da2005a5"
   },
   "outputs": [
    {
     "name": "stdout",
     "output_type": "stream",
     "text": [
      "Размеры (6000, 9)\n"
     ]
    },
    {
     "data": {
      "text/html": [
       "<div>\n",
       "<style scoped>\n",
       "    .dataframe tbody tr th:only-of-type {\n",
       "        vertical-align: middle;\n",
       "    }\n",
       "\n",
       "    .dataframe tbody tr th {\n",
       "        vertical-align: top;\n",
       "    }\n",
       "\n",
       "    .dataframe thead th {\n",
       "        text-align: right;\n",
       "    }\n",
       "</style>\n",
       "<table border=\"1\" class=\"dataframe\">\n",
       "  <thead>\n",
       "    <tr style=\"text-align: right;\">\n",
       "      <th></th>\n",
       "      <th>id</th>\n",
       "      <th>was_married</th>\n",
       "      <th>childrens</th>\n",
       "      <th>salary</th>\n",
       "      <th>sex</th>\n",
       "      <th>age</th>\n",
       "      <th>profession</th>\n",
       "      <th>home_cost</th>\n",
       "      <th>drive_info</th>\n",
       "    </tr>\n",
       "  </thead>\n",
       "  <tbody>\n",
       "    <tr>\n",
       "      <th>0</th>\n",
       "      <td>0</td>\n",
       "      <td>1</td>\n",
       "      <td>4.0</td>\n",
       "      <td>45032.40</td>\n",
       "      <td>1</td>\n",
       "      <td>82.0</td>\n",
       "      <td>Engineer</td>\n",
       "      <td>1.003674e+07</td>\n",
       "      <td>NaN</td>\n",
       "    </tr>\n",
       "    <tr>\n",
       "      <th>1</th>\n",
       "      <td>1</td>\n",
       "      <td>1</td>\n",
       "      <td>2.0</td>\n",
       "      <td>202004.64</td>\n",
       "      <td>1</td>\n",
       "      <td>32.0</td>\n",
       "      <td>Doctor</td>\n",
       "      <td>1.014051e+07</td>\n",
       "      <td>0.0</td>\n",
       "    </tr>\n",
       "    <tr>\n",
       "      <th>2</th>\n",
       "      <td>2</td>\n",
       "      <td>1</td>\n",
       "      <td>6.0</td>\n",
       "      <td>213158.75</td>\n",
       "      <td>1</td>\n",
       "      <td>14.0</td>\n",
       "      <td>Entertainment</td>\n",
       "      <td>1.043318e+07</td>\n",
       "      <td>NaN</td>\n",
       "    </tr>\n",
       "    <tr>\n",
       "      <th>3</th>\n",
       "      <td>3</td>\n",
       "      <td>0</td>\n",
       "      <td>1.0</td>\n",
       "      <td>185692.78</td>\n",
       "      <td>0</td>\n",
       "      <td>10.0</td>\n",
       "      <td>Lawyer</td>\n",
       "      <td>1.004299e+07</td>\n",
       "      <td>NaN</td>\n",
       "    </tr>\n",
       "    <tr>\n",
       "      <th>4</th>\n",
       "      <td>4</td>\n",
       "      <td>1</td>\n",
       "      <td>9.0</td>\n",
       "      <td>132067.32</td>\n",
       "      <td>1</td>\n",
       "      <td>99.0</td>\n",
       "      <td>Artist</td>\n",
       "      <td>1.021908e+07</td>\n",
       "      <td>NaN</td>\n",
       "    </tr>\n",
       "  </tbody>\n",
       "</table>\n",
       "</div>"
      ],
      "text/plain": [
       "   id  was_married  childrens  ...     profession     home_cost  drive_info\n",
       "0   0            1        4.0  ...       Engineer  1.003674e+07         NaN\n",
       "1   1            1        2.0  ...         Doctor  1.014051e+07         0.0\n",
       "2   2            1        6.0  ...  Entertainment  1.043318e+07         NaN\n",
       "3   3            0        1.0  ...         Lawyer  1.004299e+07         NaN\n",
       "4   4            1        9.0  ...         Artist  1.021908e+07         NaN\n",
       "\n",
       "[5 rows x 9 columns]"
      ]
     },
     "execution_count": 777,
     "metadata": {},
     "output_type": "execute_result"
    }
   ],
   "source": [
    "df = pd.read_csv('./people_data_clustering.csv', index_col=0)\n",
    "print('Размеры',df.shape)\n",
    "df.head()"
   ]
  },
  {
   "cell_type": "markdown",
   "metadata": {
    "id": "ST73XJBgdXEL"
   },
   "source": [
    "Смотрим на типы данных"
   ]
  },
  {
   "cell_type": "code",
   "execution_count": 778,
   "metadata": {
    "colab": {
     "base_uri": "https://localhost:8080/"
    },
    "id": "ZdvcLmPidXEM",
    "outputId": "d284a44b-1002-46ac-f3b9-f90230487e7a"
   },
   "outputs": [
    {
     "data": {
      "text/plain": [
       "id               int64\n",
       "was_married      int64\n",
       "childrens      float64\n",
       "salary         float64\n",
       "sex              int64\n",
       "age            float64\n",
       "profession      object\n",
       "home_cost      float64\n",
       "drive_info     float64\n",
       "dtype: object"
      ]
     },
     "execution_count": 778,
     "metadata": {},
     "output_type": "execute_result"
    }
   ],
   "source": [
    "df.dtypes"
   ]
  },
  {
   "cell_type": "markdown",
   "metadata": {
    "id": "cOExWeRadXEN"
   },
   "source": [
    "Поле Profession необходимо преобразовать в числовой формат. Используем `pd.get_dummies(df)` (one hot encoding)."
   ]
  },
  {
   "cell_type": "code",
   "execution_count": 779,
   "metadata": {
    "colab": {
     "base_uri": "https://localhost:8080/",
     "height": 226
    },
    "id": "SAY4RkcSdXEO",
    "outputId": "82c5ea51-256a-4e44-fb80-908eeee3f07e"
   },
   "outputs": [
    {
     "data": {
      "text/html": [
       "<div>\n",
       "<style scoped>\n",
       "    .dataframe tbody tr th:only-of-type {\n",
       "        vertical-align: middle;\n",
       "    }\n",
       "\n",
       "    .dataframe tbody tr th {\n",
       "        vertical-align: top;\n",
       "    }\n",
       "\n",
       "    .dataframe thead th {\n",
       "        text-align: right;\n",
       "    }\n",
       "</style>\n",
       "<table border=\"1\" class=\"dataframe\">\n",
       "  <thead>\n",
       "    <tr style=\"text-align: right;\">\n",
       "      <th></th>\n",
       "      <th>id</th>\n",
       "      <th>was_married</th>\n",
       "      <th>childrens</th>\n",
       "      <th>salary</th>\n",
       "      <th>sex</th>\n",
       "      <th>age</th>\n",
       "      <th>home_cost</th>\n",
       "      <th>drive_info</th>\n",
       "      <th>profession_Artist</th>\n",
       "      <th>profession_Doctor</th>\n",
       "      <th>profession_Engineer</th>\n",
       "      <th>profession_Entertainment</th>\n",
       "      <th>profession_Executive</th>\n",
       "      <th>profession_Healthcare</th>\n",
       "      <th>profession_Homemaker</th>\n",
       "      <th>profession_Lawyer</th>\n",
       "      <th>profession_Marketing</th>\n",
       "    </tr>\n",
       "  </thead>\n",
       "  <tbody>\n",
       "    <tr>\n",
       "      <th>0</th>\n",
       "      <td>0</td>\n",
       "      <td>1</td>\n",
       "      <td>4.0</td>\n",
       "      <td>45032.40</td>\n",
       "      <td>1</td>\n",
       "      <td>82.0</td>\n",
       "      <td>1.003674e+07</td>\n",
       "      <td>NaN</td>\n",
       "      <td>0</td>\n",
       "      <td>0</td>\n",
       "      <td>1</td>\n",
       "      <td>0</td>\n",
       "      <td>0</td>\n",
       "      <td>0</td>\n",
       "      <td>0</td>\n",
       "      <td>0</td>\n",
       "      <td>0</td>\n",
       "    </tr>\n",
       "    <tr>\n",
       "      <th>1</th>\n",
       "      <td>1</td>\n",
       "      <td>1</td>\n",
       "      <td>2.0</td>\n",
       "      <td>202004.64</td>\n",
       "      <td>1</td>\n",
       "      <td>32.0</td>\n",
       "      <td>1.014051e+07</td>\n",
       "      <td>0.0</td>\n",
       "      <td>0</td>\n",
       "      <td>1</td>\n",
       "      <td>0</td>\n",
       "      <td>0</td>\n",
       "      <td>0</td>\n",
       "      <td>0</td>\n",
       "      <td>0</td>\n",
       "      <td>0</td>\n",
       "      <td>0</td>\n",
       "    </tr>\n",
       "    <tr>\n",
       "      <th>2</th>\n",
       "      <td>2</td>\n",
       "      <td>1</td>\n",
       "      <td>6.0</td>\n",
       "      <td>213158.75</td>\n",
       "      <td>1</td>\n",
       "      <td>14.0</td>\n",
       "      <td>1.043318e+07</td>\n",
       "      <td>NaN</td>\n",
       "      <td>0</td>\n",
       "      <td>0</td>\n",
       "      <td>0</td>\n",
       "      <td>1</td>\n",
       "      <td>0</td>\n",
       "      <td>0</td>\n",
       "      <td>0</td>\n",
       "      <td>0</td>\n",
       "      <td>0</td>\n",
       "    </tr>\n",
       "    <tr>\n",
       "      <th>3</th>\n",
       "      <td>3</td>\n",
       "      <td>0</td>\n",
       "      <td>1.0</td>\n",
       "      <td>185692.78</td>\n",
       "      <td>0</td>\n",
       "      <td>10.0</td>\n",
       "      <td>1.004299e+07</td>\n",
       "      <td>NaN</td>\n",
       "      <td>0</td>\n",
       "      <td>0</td>\n",
       "      <td>0</td>\n",
       "      <td>0</td>\n",
       "      <td>0</td>\n",
       "      <td>0</td>\n",
       "      <td>0</td>\n",
       "      <td>1</td>\n",
       "      <td>0</td>\n",
       "    </tr>\n",
       "    <tr>\n",
       "      <th>4</th>\n",
       "      <td>4</td>\n",
       "      <td>1</td>\n",
       "      <td>9.0</td>\n",
       "      <td>132067.32</td>\n",
       "      <td>1</td>\n",
       "      <td>99.0</td>\n",
       "      <td>1.021908e+07</td>\n",
       "      <td>NaN</td>\n",
       "      <td>1</td>\n",
       "      <td>0</td>\n",
       "      <td>0</td>\n",
       "      <td>0</td>\n",
       "      <td>0</td>\n",
       "      <td>0</td>\n",
       "      <td>0</td>\n",
       "      <td>0</td>\n",
       "      <td>0</td>\n",
       "    </tr>\n",
       "  </tbody>\n",
       "</table>\n",
       "</div>"
      ],
      "text/plain": [
       "   id  was_married  ...  profession_Lawyer  profession_Marketing\n",
       "0   0            1  ...                  0                     0\n",
       "1   1            1  ...                  0                     0\n",
       "2   2            1  ...                  0                     0\n",
       "3   3            0  ...                  1                     0\n",
       "4   4            1  ...                  0                     0\n",
       "\n",
       "[5 rows x 17 columns]"
      ]
     },
     "execution_count": 779,
     "metadata": {},
     "output_type": "execute_result"
    }
   ],
   "source": [
    "df = pd.get_dummies(df)\n",
    "df.head()"
   ]
  },
  {
   "cell_type": "markdown",
   "metadata": {
    "id": "lujxRaLgdXEQ"
   },
   "source": [
    "<div class=\"alert alert-info\">\n",
    "<b>Про Датасет</b>\n",
    "    \n",
    "Датасет представляет собой информацию по жителям некоторого города.\n",
    "\n",
    "* `was_married` - Был ли когда-либо женат/замужем\n",
    "* `childrens` - Количество детей\n",
    "* `salary` - Уровень зарплаты\n",
    "* `sex` - Пол\n",
    "* `age` - Возраст\n",
    "* `home_cost` - Стоимость жилья\n",
    "* `Professon` - Профессия\n",
    "* `drive_info` - Есть ли водительские права\n",
    "    \n",
    "</div>"
   ]
  },
  {
   "cell_type": "markdown",
   "metadata": {
    "id": "ndNAcGfrdXES"
   },
   "source": [
    "<div class=\"alert alert-info\">\n",
    "<b>Задание</b>\n",
    "\n",
    "Изучить датасет и, используя класстерный анализ, разбить пользователей на сегменты. Сделать выводы о причинах такой кластеризации."
   ]
  },
  {
   "cell_type": "markdown",
   "metadata": {
    "id": "YnB5zqRfdXEU"
   },
   "source": [
    "# Изучение датасета (5 баллов)\n",
    "* Какие признаки численные?\n",
    "* Какие признаки категориальные?\n",
    "* Какие признаки бинарные?\n",
    "* Какие признаки имеют нормальное распределение?\n",
    "* Какие признаки бессмысленные?"
   ]
  },
  {
   "cell_type": "markdown",
   "metadata": {
    "id": "JsV99CY8dXEV"
   },
   "source": [
    "Бессмысленные признаки:\n",
    "\n",
    "- id - бессмысленный признак, никак не описывающий объекты выборки\n",
    "- drive_info тоже сомнителен в качестве описания человека. К тому же, как выяснится позже, в нем довольно много пропусков."
   ]
  },
  {
   "cell_type": "markdown",
   "metadata": {
    "id": "ISxyTyimdXEX"
   },
   "source": [
    "Профессия, очевидно, категориальный признак, но в данном случае после применения one hot encoding я поместил полученный набор признаков в бинарные."
   ]
  },
  {
   "cell_type": "code",
   "execution_count": 780,
   "metadata": {
    "id": "STn1gzm0dXEY"
   },
   "outputs": [],
   "source": [
    "# Численные признаки\n",
    "num_cols = ['childrens', 'salary', 'age', 'home_cost']\n",
    "\n",
    "# Категориальные признаки\n",
    "cat_cols = [] # profession был категориальным до one hot encoding\n",
    "\n",
    "# Бинарные признаки\n",
    "bin_cols = [\n",
    "    'sex',\n",
    "    'was_married',\n",
    "    'drive_info',\n",
    "    'profession_Artist', \n",
    "    'profession_Doctor', \n",
    "    'profession_Engineer', \n",
    "    'profession_Entertainment',\n",
    "    'profession_Executive',\n",
    "    'profession_Healthcare',\n",
    "    'profession_Homemaker',\n",
    "    'profession_Lawyer',\n",
    "    'profession_Marketing'\n",
    "]\n",
    "\n",
    "learning_cols = num_cols + cat_cols + ['sex', 'was_married'] # колонки, на которых будем обучаться\n",
    "\n",
    "features = num_cols + cat_cols + bin_cols"
   ]
  },
  {
   "cell_type": "code",
   "execution_count": 781,
   "metadata": {
    "colab": {
     "base_uri": "https://localhost:8080/",
     "height": 1000
    },
    "id": "sl78ONSsdXEZ",
    "outputId": "ce7403e8-beee-4d6d-88d1-610bad832062"
   },
   "outputs": [
    {
     "data": {
      "image/png": "[encoded data removed]",
      "text/plain": [
       "<Figure size 432x288 with 1 Axes>"
      ]
     },
     "metadata": {},
     "output_type": "display_data"
    },
    {
     "data": {
      "image/png": "[encoded data removed]",
      "text/plain": [
       "<Figure size 432x288 with 1 Axes>"
      ]
     },
     "metadata": {},
     "output_type": "display_data"
    },
    {
     "data": {
      "image/png": "[encoded data removed]",
      "text/plain": [
       "<Figure size 432x288 with 1 Axes>"
      ]
     },
     "metadata": {},
     "output_type": "display_data"
    },
    {
     "data": {
      "image/png": "[encoded data removed]",
      "text/plain": [
       "<Figure size 432x288 with 1 Axes>"
      ]
     },
     "metadata": {},
     "output_type": "display_data"
    }
   ],
   "source": [
    "normally_distributed_features = []\n",
    "\n",
    "for feature in num_cols:\n",
    "    plt.hist(df[feature], bins=30)\n",
    "    plt.title(feature)\n",
    "    plt.show()\n",
    "\n",
    "    # Тестируем на нормальное распределение\n",
    "    k2, p = scipy.stats.normaltest(df['age'])\n",
    "    if p < 1e-3:\n",
    "        normally_distributed_features.append(feature)\n",
    "    "
   ]
  },
  {
   "cell_type": "code",
   "execution_count": 782,
   "metadata": {
    "colab": {
     "base_uri": "https://localhost:8080/",
     "height": 285
    },
    "id": "avJ9wPfgdXEa",
    "outputId": "4fd4e854-b73d-42ff-9e76-c03f3f3f020f"
   },
   "outputs": [
    {
     "data": {
      "text/plain": [
       "<matplotlib.axes._subplots.AxesSubplot at 0x7fe3946cb790>"
      ]
     },
     "execution_count": 782,
     "metadata": {},
     "output_type": "execute_result"
    },
    {
     "data": {
      "image/png": "[encoded data removed]",
      "text/plain": [
       "<Figure size 432x288 with 1 Axes>"
      ]
     },
     "metadata": {},
     "output_type": "display_data"
    }
   ],
   "source": [
    "df[df['age'] < 40]['age'].hist(bins=50)"
   ]
  },
  {
   "cell_type": "markdown",
   "metadata": {
    "id": "xqfWMNc_dXEb"
   },
   "source": [
    "Нормально распределенные признаки"
   ]
  },
  {
   "cell_type": "code",
   "execution_count": 783,
   "metadata": {
    "colab": {
     "base_uri": "https://localhost:8080/"
    },
    "id": "vBsw8t3hdXEc",
    "outputId": "7e3295da-f4e8-44b3-97f7-ca614df828fa"
   },
   "outputs": [
    {
     "name": "stdout",
     "output_type": "stream",
     "text": [
      "childrens\n",
      "salary\n",
      "age\n",
      "home_cost\n"
     ]
    }
   ],
   "source": [
    "for feature in normally_distributed_features:\n",
    "    print(feature)"
   ]
  },
  {
   "cell_type": "markdown",
   "metadata": {
    "id": "IyxEB4kidXEd"
   },
   "source": [
    "# Чистка датасета (5 баллов)\n",
    "* Есть ли дубли в данных? \n",
    "* Есть ли пропуски в данных? \n",
    "* Как стоит поступить с выбросами? (удалить или заменить \\ `dropna()` или `fillna()` )\n",
    "* Удалить бесмысленные признаки (`drop()`)\n",
    "* Найти и удалить выбросы по признаку `home_cost`. Сколько их?"
   ]
  },
  {
   "cell_type": "code",
   "execution_count": 784,
   "metadata": {
    "colab": {
     "base_uri": "https://localhost:8080/"
    },
    "id": "_9sRV_FpdXEe",
    "outputId": "1108ada5-3056-48cf-f064-0c60079efc98"
   },
   "outputs": [
    {
     "name": "stdout",
     "output_type": "stream",
     "text": [
      "Shape before removing duplicates: (6000, 17)\n",
      "Shape after removing duplicates: (5500, 17)\n"
     ]
    }
   ],
   "source": [
    "# Удалено 500 дубликатов\n",
    "\n",
    "print('Shape before removing duplicates: {}'.format(df.shape))\n",
    "df = df.drop_duplicates()\n",
    "print('Shape after removing duplicates: {}'.format(df.shape))"
   ]
  },
  {
   "cell_type": "code",
   "execution_count": 785,
   "metadata": {
    "colab": {
     "base_uri": "https://localhost:8080/"
    },
    "id": "Adj2MA-EdXEe",
    "outputId": "1a283afa-cd88-4a0c-a0e5-de7a6d6b5cb8"
   },
   "outputs": [
    {
     "name": "stdout",
     "output_type": "stream",
     "text": [
      "drive_info\n"
     ]
    }
   ],
   "source": [
    "# пропуски только в колонке drive_info\n",
    "\n",
    "for feature in features:\n",
    "    if any(df[feature].isnull()):\n",
    "        print(feature)"
   ]
  },
  {
   "cell_type": "code",
   "execution_count": 786,
   "metadata": {
    "id": "kJuaiLsTdXEf"
   },
   "outputs": [],
   "source": [
    "df = df.drop(['id', 'drive_info'], axis=1)"
   ]
  },
  {
   "cell_type": "code",
   "execution_count": 787,
   "metadata": {
    "colab": {
     "base_uri": "https://localhost:8080/",
     "height": 284
    },
    "id": "MPnqXauydXEg",
    "outputId": "0bda197e-7482-44cf-890e-b4a3e5fb642f"
   },
   "outputs": [
    {
     "data": {
      "image/png": "[encoded data removed]",
      "text/plain": [
       "<Figure size 432x288 with 1 Axes>"
      ]
     },
     "metadata": {},
     "output_type": "display_data"
    }
   ],
   "source": [
    "# Смотрим на выбросы в home_cost\n",
    "\n",
    "plt.boxplot(df['home_cost'])\n",
    "plt.title('home_cost')\n",
    "plt.show()"
   ]
  },
  {
   "cell_type": "markdown",
   "metadata": {
    "id": "lZS1DGYLdXEh"
   },
   "source": [
    "На диаграмме \"ящик с усами\" (boxplot) видим три выброса. Они все расположены в районе 2.0 * 1e7. Более того, остальная часть данных лежит в диапазоне от 0 до 1.2 * 1e7, это видно и на гистограмме:"
   ]
  },
  {
   "cell_type": "code",
   "execution_count": 788,
   "metadata": {
    "colab": {
     "base_uri": "https://localhost:8080/",
     "height": 299
    },
    "id": "t7uEM86kdXEh",
    "outputId": "f5036181-5db7-4a7b-e9b7-724ff90159b9"
   },
   "outputs": [
    {
     "data": {
      "text/plain": [
       "<matplotlib.axes._subplots.AxesSubplot at 0x7fe3945ba910>"
      ]
     },
     "execution_count": 788,
     "metadata": {},
     "output_type": "execute_result"
    },
    {
     "data": {
      "image/png": "[encoded data removed]",
      "text/plain": [
       "<Figure size 432x288 with 1 Axes>"
      ]
     },
     "metadata": {},
     "output_type": "display_data"
    }
   ],
   "source": [
    "df[df['home_cost'] < 1.3 * 1e7]['home_cost'].hist(bins=50)"
   ]
  },
  {
   "cell_type": "markdown",
   "metadata": {
    "id": "46BG4Fx1dXEi"
   },
   "source": [
    "Убираем выбросы"
   ]
  },
  {
   "cell_type": "code",
   "execution_count": 789,
   "metadata": {
    "id": "YjAJffUudXEi"
   },
   "outputs": [],
   "source": [
    "df = df[df['home_cost'] < 1.3 * 1e7]"
   ]
  },
  {
   "cell_type": "markdown",
   "metadata": {
    "id": "ZmyiGo18dXEj"
   },
   "source": [
    "# Изучение зависимых признаков (5 балла). \n",
    "* Построить матрицу корреляций\n",
    "* Визуализировать матрицу корреляции с помощью heatmap\n",
    "* Сделать выводы по самым скоррелированные признакам\n",
    "* Построить график зависимости между двумя самыми зависимыми признаками\n",
    "\n"
   ]
  },
  {
   "cell_type": "markdown",
   "metadata": {
    "id": "f4X9aaGmdXEj"
   },
   "source": [
    "Считаем корреляцию по Пирсону. Я исключил поля Profession, так как если строить Heat Map без One Hot Encoding, то наиболее скоррелированные признаки не меняются, а смотреть удобнее на маленький Heat Map."
   ]
  },
  {
   "cell_type": "code",
   "execution_count": 790,
   "metadata": {
    "colab": {
     "base_uri": "https://localhost:8080/",
     "height": 291
    },
    "id": "l4TdkJOhdXEj",
    "outputId": "3b6c08b4-5d99-4b20-e397-e35c2acd3711"
   },
   "outputs": [
    {
     "data": {
      "text/plain": [
       "<matplotlib.axes._subplots.AxesSubplot at 0x7fe394440650>"
      ]
     },
     "execution_count": 790,
     "metadata": {},
     "output_type": "execute_result"
    },
    {
     "data": {
      "image/png": "[encoded data removed]",
      "text/plain": [
       "<Figure size 432x288 with 2 Axes>"
      ]
     },
     "metadata": {},
     "output_type": "display_data"
    }
   ],
   "source": [
    "corr_matrix = df[num_cols + cat_cols].corr(method='pearson')\n",
    "sns.heatmap(corr_matrix, annot=True)"
   ]
  },
  {
   "cell_type": "markdown",
   "metadata": {
    "id": "aMeYWRI2dXEk"
   },
   "source": [
    "**Наиболее скоррелированные признаки** - возраст и количество детей."
   ]
  },
  {
   "cell_type": "code",
   "execution_count": 791,
   "metadata": {
    "colab": {
     "base_uri": "https://localhost:8080/",
     "height": 285
    },
    "id": "4_cSA5Y5dXEk",
    "outputId": "ce303152-63d2-4380-a7d7-380ac3d132be"
   },
   "outputs": [
    {
     "data": {
      "text/plain": [
       "<matplotlib.collections.PathCollection at 0x7fe394393250>"
      ]
     },
     "execution_count": 791,
     "metadata": {},
     "output_type": "execute_result"
    },
    {
     "data": {
      "image/png": "[encoded data removed]",
      "text/plain": [
       "<Figure size 432x288 with 1 Axes>"
      ]
     },
     "metadata": {},
     "output_type": "display_data"
    }
   ],
   "source": [
    "plt.scatter(df['age'], df['childrens'])"
   ]
  },
  {
   "cell_type": "markdown",
   "metadata": {
    "id": "KgQAsIkNdXEl"
   },
   "source": [
    "# Нормировка признаков (3 балла)\n",
    "* Отнормировать данные\n",
    "* Обосновать выбор нормировки"
   ]
  },
  {
   "cell_type": "code",
   "execution_count": 792,
   "metadata": {
    "id": "rBpNfhbFdXEl"
   },
   "outputs": [],
   "source": [
    "from sklearn.preprocessing import StandardScaler, MinMaxScaler, RobustScaler \n",
    "\n",
    "norm_df = df.copy()\n",
    "norm_df = norm_df[learning_cols] # включаем в нормировку только те признаки, по которым производим обучение\n",
    "\n",
    "for column in num_cols:\n",
    "    norm_df[column] = MinMaxScaler().fit_transform(np.array(norm_df[column].values).reshape(-1, 1))"
   ]
  },
  {
   "cell_type": "code",
   "execution_count": 793,
   "metadata": {
    "colab": {
     "base_uri": "https://localhost:8080/",
     "height": 206
    },
    "id": "XiafeJsrdXEl",
    "outputId": "33bd2f91-ee71-4fa7-aafa-05036e36f2d4"
   },
   "outputs": [
    {
     "data": {
      "text/html": [
       "<div>\n",
       "<style scoped>\n",
       "    .dataframe tbody tr th:only-of-type {\n",
       "        vertical-align: middle;\n",
       "    }\n",
       "\n",
       "    .dataframe tbody tr th {\n",
       "        vertical-align: top;\n",
       "    }\n",
       "\n",
       "    .dataframe thead th {\n",
       "        text-align: right;\n",
       "    }\n",
       "</style>\n",
       "<table border=\"1\" class=\"dataframe\">\n",
       "  <thead>\n",
       "    <tr style=\"text-align: right;\">\n",
       "      <th></th>\n",
       "      <th>childrens</th>\n",
       "      <th>salary</th>\n",
       "      <th>age</th>\n",
       "      <th>home_cost</th>\n",
       "      <th>sex</th>\n",
       "      <th>was_married</th>\n",
       "    </tr>\n",
       "  </thead>\n",
       "  <tbody>\n",
       "    <tr>\n",
       "      <th>0</th>\n",
       "      <td>0.444444</td>\n",
       "      <td>0.203134</td>\n",
       "      <td>0.816327</td>\n",
       "      <td>0.293560</td>\n",
       "      <td>1</td>\n",
       "      <td>1</td>\n",
       "    </tr>\n",
       "    <tr>\n",
       "      <th>1</th>\n",
       "      <td>0.222222</td>\n",
       "      <td>0.927245</td>\n",
       "      <td>0.306122</td>\n",
       "      <td>0.437003</td>\n",
       "      <td>1</td>\n",
       "      <td>1</td>\n",
       "    </tr>\n",
       "    <tr>\n",
       "      <th>2</th>\n",
       "      <td>0.666667</td>\n",
       "      <td>0.978699</td>\n",
       "      <td>0.122449</td>\n",
       "      <td>0.841566</td>\n",
       "      <td>1</td>\n",
       "      <td>1</td>\n",
       "    </tr>\n",
       "    <tr>\n",
       "      <th>3</th>\n",
       "      <td>0.111111</td>\n",
       "      <td>0.851998</td>\n",
       "      <td>0.081633</td>\n",
       "      <td>0.302187</td>\n",
       "      <td>0</td>\n",
       "      <td>0</td>\n",
       "    </tr>\n",
       "    <tr>\n",
       "      <th>4</th>\n",
       "      <td>1.000000</td>\n",
       "      <td>0.604625</td>\n",
       "      <td>0.989796</td>\n",
       "      <td>0.545610</td>\n",
       "      <td>1</td>\n",
       "      <td>1</td>\n",
       "    </tr>\n",
       "  </tbody>\n",
       "</table>\n",
       "</div>"
      ],
      "text/plain": [
       "   childrens    salary       age  home_cost  sex  was_married\n",
       "0   0.444444  0.203134  0.816327   0.293560    1            1\n",
       "1   0.222222  0.927245  0.306122   0.437003    1            1\n",
       "2   0.666667  0.978699  0.122449   0.841566    1            1\n",
       "3   0.111111  0.851998  0.081633   0.302187    0            0\n",
       "4   1.000000  0.604625  0.989796   0.545610    1            1"
      ]
     },
     "execution_count": 793,
     "metadata": {},
     "output_type": "execute_result"
    }
   ],
   "source": [
    "norm_df.head()"
   ]
  },
  {
   "cell_type": "markdown",
   "metadata": {
    "id": "HIrYB757dXEm"
   },
   "source": [
    "# Выделить кластеры (6 баллов)\n",
    "* Определить оптимальное количество кластеров с помощью правила локтя/осыпи\n",
    "* Получить номера класстеров для каждого пользователя. "
   ]
  },
  {
   "cell_type": "code",
   "execution_count": 794,
   "metadata": {
    "colab": {
     "base_uri": "https://localhost:8080/",
     "height": 285
    },
    "id": "8h9rvbHxdXEn",
    "outputId": "c069c40c-899e-4747-db84-c1462e79b33e"
   },
   "outputs": [
    {
     "data": {
      "image/png": "[encoded data removed]",
      "text/plain": [
       "<Figure size 432x288 with 1 Axes>"
      ]
     },
     "metadata": {},
     "output_type": "display_data"
    }
   ],
   "source": [
    "from sklearn.cluster import KMeans\n",
    "\n",
    "# Используем Elbow Rule для определения оптимального числа кластеров\n",
    "\n",
    "sse = {}\n",
    "for k in range(1, 10):\n",
    "    kmeans = KMeans(n_clusters=k, max_iter=1000).fit(norm_df)\n",
    "    sse[k] = kmeans.inertia_\n",
    "plt.figure()\n",
    "plt.plot(list(sse.keys()), list(sse.values()))\n",
    "plt.xlabel(\"Number of cluster\")\n",
    "plt.ylabel(\"SSE\")\n",
    "plt.show()"
   ]
  },
  {
   "cell_type": "code",
   "execution_count": 795,
   "metadata": {
    "colab": {
     "base_uri": "https://localhost:8080/"
    },
    "id": "vmi31mwPj8YU",
    "outputId": "745fb621-028b-47bc-9e9f-0e6cd9a15664"
   },
   "outputs": [
    {
     "name": "stdout",
     "output_type": "stream",
     "text": [
      "For n_clusters=2, The Silhouette Coefficient is 0.4197656211204912\n",
      "For n_clusters=3, The Silhouette Coefficient is 0.494647578906071\n",
      "For n_clusters=4, The Silhouette Coefficient is 0.5828426313390083\n",
      "For n_clusters=5, The Silhouette Coefficient is 0.6873806141772263\n",
      "For n_clusters=6, The Silhouette Coefficient is 0.7340931428680203\n",
      "For n_clusters=7, The Silhouette Coefficient is 0.7870404790796853\n",
      "For n_clusters=8, The Silhouette Coefficient is 0.7958594833863525\n",
      "For n_clusters=9, The Silhouette Coefficient is 0.7712063350636176\n",
      "For n_clusters=10, The Silhouette Coefficient is 0.6771113818905606\n"
     ]
    }
   ],
   "source": [
    "from sklearn.metrics import silhouette_score\n",
    "from sklearn.cluster import KMeans\n",
    "   \n",
    "for n_cluster in range(2, 11):\n",
    "    kmeans = KMeans(n_clusters=n_cluster).fit(norm_df)\n",
    "    label = kmeans.labels_\n",
    "    sil_coeff = silhouette_score(norm_df, label, metric='euclidean')\n",
    "    print(\"For n_clusters={}, The Silhouette Coefficient is {}\".format(n_cluster, sil_coeff))"
   ]
  },
  {
   "cell_type": "markdown",
   "metadata": {
    "id": "d8-F0u3FqZ-o"
   },
   "source": [
    "Silhoutte Coefficient максимален для n_clusters=8. Однако, в представленном датасете 9 профессий. Скорее всего, кластеризация производится именно по профессии, поэтому выберем `n_clusters=9`."
   ]
  },
  {
   "cell_type": "code",
   "execution_count": 796,
   "metadata": {
    "id": "ORbx7Pv9lifV"
   },
   "outputs": [],
   "source": [
    "clusterer = KMeans(n_clusters=9, max_iter=1000)\n",
    "cluster_labels = clusterer.fit_predict(norm_df)"
   ]
  },
  {
   "cell_type": "markdown",
   "metadata": {
    "id": "Wcjthkn1dXEn"
   },
   "source": [
    "# Снизить размерность (6 баллов)\n",
    "\n",
    "Воспользуйтесь методом `t-SNE ()` (или `PCA`, `U-MAP`)\n",
    "\n",
    "ссылка на документацию:\n",
    "https://scikit-learn.org/stable/modules/generated/sklearn.manifold.TSNE.html"
   ]
  },
  {
   "cell_type": "code",
   "execution_count": 797,
   "metadata": {
    "id": "V9VUfWTxdXEo"
   },
   "outputs": [],
   "source": [
    "from sklearn.decomposition import PCA\n",
    "reducer = PCA(n_components=2)\n",
    "data_x_y = reducer.fit_transform(norm_df)\n",
    "data_x = data_x_y[:, 0]\n",
    "data_y = data_x_y[:, 1]"
   ]
  },
  {
   "cell_type": "code",
   "execution_count": 798,
   "metadata": {
    "id": "6dfOq9OmdXEo"
   },
   "outputs": [],
   "source": [
    "import sklearn"
   ]
  },
  {
   "cell_type": "markdown",
   "metadata": {
    "id": "7ho0YmEDdXEp"
   },
   "source": [
    "# Нарисовать полученные кластеры (10 баллов)"
   ]
  },
  {
   "cell_type": "code",
   "execution_count": 799,
   "metadata": {
    "colab": {
     "base_uri": "https://localhost:8080/",
     "height": 540
    },
    "id": "dkGx-mGhdXEp",
    "outputId": "0a0a9f38-737f-4677-90f8-8ab87a9df817"
   },
   "outputs": [
    {
     "data": {
      "image/png": "[encoded data removed]",
      "text/plain": [
       "<Figure size 864x648 with 1 Axes>"
      ]
     },
     "metadata": {},
     "output_type": "display_data"
    }
   ],
   "source": [
    "import matplotlib.pyplot as plt\n",
    "\n",
    "plt.figure(figsize=(12,9))\n",
    "plt.scatter(data_x, data_y, c=cluster_labels, cmap ='Set3', s=5)\n",
    "plt.legend(cluster_labels)\n",
    "plt.show()"
   ]
  },
  {
   "cell_type": "code",
   "execution_count": 799,
   "metadata": {
    "id": "9XYyEgh0dXEq"
   },
   "outputs": [],
   "source": []
  },
  {
   "cell_type": "markdown",
   "metadata": {
    "id": "2LeK07I6dXEq"
   },
   "source": [
    "# Дополнительные баллы (+10 баллов)\n",
    "* Аккуратный и понятный код **+5 баллов**\n",
    "* Присутствуют лаконичные и понятные комментарии **+5 балов**"
   ]
  },
  {
   "cell_type": "code",
   "execution_count": 799,
   "metadata": {
    "id": "1iYVoCNXdXEq"
   },
   "outputs": [],
   "source": []
  }
 ],
 "metadata": {
  "colab": {
   "collapsed_sections": [],
   "name": "HW_1.ipynb",
   "provenance": []
  },
  "interpreter": {
   "hash": "cb6379b8b7577161aa18638ebe768932c951d71bf468a98e7ca6c24ee0b82852"
  },
  "kernelspec": {
   "display_name": "Python 3",
   "language": "python",
   "name": "python3"
  },
  "language_info": {
   "codemirror_mode": {
    "name": "ipython",
    "version": 3
   },
   "file_extension": ".py",
   "mimetype": "text/x-python",
   "name": "python",
   "nbconvert_exporter": "python",
   "pygments_lexer": "ipython3",
   "version": "3.8.5"
  },
  "toc": {
   "base_numbering": 1,
   "nav_menu": {},
   "number_sections": true,
   "sideBar": true,
   "skip_h1_title": false,
   "title_cell": "Table of Contents",
   "title_sidebar": "Contents",
   "toc_cell": false,
   "toc_position": {},
   "toc_section_display": true,
   "toc_window_display": false
  }
 },
 "nbformat": 4,
 "nbformat_minor": 1
}
