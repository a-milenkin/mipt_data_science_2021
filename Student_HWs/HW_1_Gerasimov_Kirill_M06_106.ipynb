{
 "cells": [
  {
   "cell_type": "code",
   "execution_count": 2,
   "metadata": {
    "id": "TqVTG2oNZJbz"
   },
   "outputs": [],
   "source": [
    "import numpy as np\n",
    "import pandas as pd\n",
    "\n",
    "import scipy\n",
    "\n",
    "import matplotlib.pyplot as plt\n",
    "import seaborn as sns; sns.set_theme()"
   ]
  },
  {
   "cell_type": "markdown",
   "metadata": {
    "id": "8v3aQerTZJb4"
   },
   "source": [
    "# Домашнее задание по курсу анализа данных\n",
    "Версия от 12.10.2021\n",
    "\n",
    "Всего 50 баллов = 40 основных + 10 дополнительных\n",
    "\n",
    "**Оценка**  = (Количество баллов за работу*2 + 20)/10\n",
    "\n",
    "**Мягкий дедлайн: 30.10.2021  23:59**\n",
    "\n",
    "**Жесткий дедлайн: 6.11.2021  23:59**\n",
    "\n",
    "Присылать решение ссылкой на ваш **github** в телеграмм **@Aleron75** или на почту **milenkin.aa@phystech.edu**\n",
    "\n",
    "**Автор:** Миленькин Александр"
   ]
  },
  {
   "cell_type": "code",
   "execution_count": 7,
   "metadata": {
    "colab": {
     "base_uri": "https://localhost:8080/",
     "height": 538
    },
    "id": "LrUUYFGRZJb6",
    "outputId": "7c515e57-323e-47c6-ce4c-2bad3708bb47"
   },
   "outputs": [
    {
     "name": "stdout",
     "output_type": "stream",
     "text": [
      "Размеры (6000, 10)\n"
     ]
    },
    {
     "data": {
      "text/html": [
       "<div>\n",
       "<style scoped>\n",
       "    .dataframe tbody tr th:only-of-type {\n",
       "        vertical-align: middle;\n",
       "    }\n",
       "\n",
       "    .dataframe tbody tr th {\n",
       "        vertical-align: top;\n",
       "    }\n",
       "\n",
       "    .dataframe thead th {\n",
       "        text-align: right;\n",
       "    }\n",
       "</style>\n",
       "<table border=\"1\" class=\"dataframe\">\n",
       "  <thead>\n",
       "    <tr style=\"text-align: right;\">\n",
       "      <th></th>\n",
       "      <th>id</th>\n",
       "      <th>was_married</th>\n",
       "      <th>children</th>\n",
       "      <th>salary</th>\n",
       "      <th>sex</th>\n",
       "      <th>age</th>\n",
       "      <th>profession</th>\n",
       "      <th>home_cost</th>\n",
       "      <th>drive_info</th>\n",
       "      <th>happyness</th>\n",
       "    </tr>\n",
       "  </thead>\n",
       "  <tbody>\n",
       "    <tr>\n",
       "      <th>0</th>\n",
       "      <td>0</td>\n",
       "      <td>1</td>\n",
       "      <td>4.0</td>\n",
       "      <td>4.420530e+07</td>\n",
       "      <td>1</td>\n",
       "      <td>82.0</td>\n",
       "      <td>Engineer</td>\n",
       "      <td>1.003674e+07</td>\n",
       "      <td>NaN</td>\n",
       "      <td>0.727499</td>\n",
       "    </tr>\n",
       "    <tr>\n",
       "      <th>1</th>\n",
       "      <td>1</td>\n",
       "      <td>1</td>\n",
       "      <td>2.0</td>\n",
       "      <td>1.737490e+08</td>\n",
       "      <td>1</td>\n",
       "      <td>32.0</td>\n",
       "      <td>Doctor</td>\n",
       "      <td>1.014051e+07</td>\n",
       "      <td>0.0</td>\n",
       "      <td>0.383234</td>\n",
       "    </tr>\n",
       "    <tr>\n",
       "      <th>2</th>\n",
       "      <td>2</td>\n",
       "      <td>1</td>\n",
       "      <td>6.0</td>\n",
       "      <td>2.489055e+08</td>\n",
       "      <td>1</td>\n",
       "      <td>14.0</td>\n",
       "      <td>Entertainment</td>\n",
       "      <td>1.043318e+07</td>\n",
       "      <td>NaN</td>\n",
       "      <td>0.432142</td>\n",
       "    </tr>\n",
       "    <tr>\n",
       "      <th>3</th>\n",
       "      <td>3</td>\n",
       "      <td>0</td>\n",
       "      <td>1.0</td>\n",
       "      <td>1.268718e+08</td>\n",
       "      <td>0</td>\n",
       "      <td>10.0</td>\n",
       "      <td>Lawyer</td>\n",
       "      <td>1.004299e+07</td>\n",
       "      <td>NaN</td>\n",
       "      <td>0.377987</td>\n",
       "    </tr>\n",
       "    <tr>\n",
       "      <th>4</th>\n",
       "      <td>4</td>\n",
       "      <td>1</td>\n",
       "      <td>9.0</td>\n",
       "      <td>8.596042e+07</td>\n",
       "      <td>1</td>\n",
       "      <td>99.0</td>\n",
       "      <td>Artist</td>\n",
       "      <td>1.021908e+07</td>\n",
       "      <td>NaN</td>\n",
       "      <td>0.657579</td>\n",
       "    </tr>\n",
       "  </tbody>\n",
       "</table>\n",
       "</div>"
      ],
      "text/plain": [
       "   id  was_married  children        salary  sex   age     profession  \\\n",
       "0   0            1       4.0  4.420530e+07    1  82.0       Engineer   \n",
       "1   1            1       2.0  1.737490e+08    1  32.0         Doctor   \n",
       "2   2            1       6.0  2.489055e+08    1  14.0  Entertainment   \n",
       "3   3            0       1.0  1.268718e+08    0  10.0         Lawyer   \n",
       "4   4            1       9.0  8.596042e+07    1  99.0         Artist   \n",
       "\n",
       "      home_cost  drive_info  happyness  \n",
       "0  1.003674e+07         NaN   0.727499  \n",
       "1  1.014051e+07         0.0   0.383234  \n",
       "2  1.043318e+07         NaN   0.432142  \n",
       "3  1.004299e+07         NaN   0.377987  \n",
       "4  1.021908e+07         NaN   0.657579  "
      ]
     },
     "execution_count": 7,
     "metadata": {},
     "output_type": "execute_result"
    }
   ],
   "source": [
    "# Что-то обновлённый 02.11.21 csv-файл не хотел читаться\n",
    "\n",
    "df = pd.read_csv('https://raw.githubusercontent.com/a-milenkin/mipt_data_science_2021/main/data/people_data_clustering.csv')\n",
    "print('Размеры',df.shape)\n",
    "df.head()"
   ]
  },
  {
   "cell_type": "code",
   "execution_count": 6,
   "metadata": {
    "colab": {
     "base_uri": "https://localhost:8080/",
     "height": 270
    },
    "id": "dDDQOPy3jxlj",
    "outputId": "44bb7226-09fb-4b20-8b16-f6cf14867035"
   },
   "outputs": [
    {
     "name": "stdout",
     "output_type": "stream",
     "text": [
      "Размеры (78978, 0)\n"
     ]
    },
    {
     "name": "stderr",
     "output_type": "stream",
     "text": [
      "b'Skipping line 120: expected 1 fields, saw 2\\nSkipping line 139: expected 1 fields, saw 355\\nSkipping line 140: expected 1 fields, saw 2\\nSkipping line 155: expected 1 fields, saw 2\\nSkipping line 208: expected 1 fields, saw 3\\nSkipping line 222: expected 1 fields, saw 6\\nSkipping line 259: expected 1 fields, saw 4\\nSkipping line 263: expected 1 fields, saw 2\\nSkipping line 280: expected 1 fields, saw 2\\nSkipping line 281: expected 1 fields, saw 2\\nSkipping line 287: expected 1 fields, saw 2\\nSkipping line 290: expected 1 fields, saw 2\\nSkipping line 298: expected 1 fields, saw 4\\nSkipping line 304: expected 1 fields, saw 2\\nSkipping line 309: expected 1 fields, saw 2\\nSkipping line 310: expected 1 fields, saw 2\\nSkipping line 311: expected 1 fields, saw 2\\nSkipping line 312: expected 1 fields, saw 2\\nSkipping line 313: expected 1 fields, saw 2\\nSkipping line 319: expected 1 fields, saw 2\\nSkipping line 320: expected 1 fields, saw 2\\nSkipping line 321: expected 1 fields, saw 2\\nSkipping line 322: expected 1 fields, saw 2\\nSkipping line 329: expected 1 fields, saw 2\\nSkipping line 337: expected 1 fields, saw 4\\nSkipping line 342: expected 1 fields, saw 2\\nSkipping line 345: expected 1 fields, saw 2\\nSkipping line 346: expected 1 fields, saw 2\\nSkipping line 350: expected 1 fields, saw 2\\nSkipping line 371: expected 1 fields, saw 2\\nSkipping line 570: expected 1 fields, saw 6\\nSkipping line 571: expected 1 fields, saw 3\\nSkipping line 578: expected 1 fields, saw 6\\nSkipping line 579: expected 1 fields, saw 8\\nSkipping line 667: expected 1 fields, saw 6\\nSkipping line 682: expected 1 fields, saw 6\\nSkipping line 706: expected 1 fields, saw 6\\nSkipping line 744: expected 1 fields, saw 3\\nSkipping line 756: expected 1 fields, saw 3\\nSkipping line 768: expected 1 fields, saw 3\\nSkipping line 780: expected 1 fields, saw 3\\nSkipping line 792: expected 1 fields, saw 3\\nSkipping line 804: expected 1 fields, saw 3\\nSkipping line 816: expected 1 fields, saw 3\\nSkipping line 827: expected 1 fields, saw 3\\nSkipping line 1088: expected 1 fields, saw 7\\nSkipping line 1182: expected 1 fields, saw 2\\nSkipping line 1185: expected 1 fields, saw 2\\nSkipping line 1218: expected 1 fields, saw 2\\nSkipping line 1220: expected 1 fields, saw 2\\nSkipping line 1260: expected 1 fields, saw 2\\nSkipping line 79330: expected 1 fields, saw 2\\nSkipping line 79331: expected 1 fields, saw 8\\nSkipping line 79332: expected 1 fields, saw 8\\nSkipping line 79333: expected 1 fields, saw 8\\nSkipping line 79334: expected 1 fields, saw 8\\nSkipping line 79335: expected 1 fields, saw 3\\nSkipping line 79344: expected 1 fields, saw 8\\nSkipping line 79345: expected 1 fields, saw 8\\nSkipping line 79346: expected 1 fields, saw 8\\nSkipping line 79347: expected 1 fields, saw 8\\nSkipping line 79348: expected 1 fields, saw 8\\nSkipping line 79349: expected 1 fields, saw 3\\n'\n"
     ]
    },
    {
     "data": {
      "text/html": [
       "<div>\n",
       "<style scoped>\n",
       "    .dataframe tbody tr th:only-of-type {\n",
       "        vertical-align: middle;\n",
       "    }\n",
       "\n",
       "    .dataframe tbody tr th {\n",
       "        vertical-align: top;\n",
       "    }\n",
       "\n",
       "    .dataframe thead th {\n",
       "        text-align: right;\n",
       "    }\n",
       "</style>\n",
       "<table border=\"1\" class=\"dataframe\">\n",
       "  <thead>\n",
       "    <tr style=\"text-align: right;\">\n",
       "      <th></th>\n",
       "    </tr>\n",
       "    <tr>\n",
       "      <th>&lt;!DOCTYPE html&gt;</th>\n",
       "    </tr>\n",
       "  </thead>\n",
       "  <tbody>\n",
       "    <tr>\n",
       "      <th>&lt;html lang=\"en\" data-color-mode=\"auto\" data-light-theme=\"light\" data-dark-theme=\"dark\"&gt;</th>\n",
       "    </tr>\n",
       "    <tr>\n",
       "      <th>&lt;head&gt;</th>\n",
       "    </tr>\n",
       "    <tr>\n",
       "      <th>&lt;meta charset=\"utf-8\"&gt;</th>\n",
       "    </tr>\n",
       "    <tr>\n",
       "      <th>&lt;link rel=\"dns-prefetch\" href=\"https://github.githubassets.com\"&gt;</th>\n",
       "    </tr>\n",
       "    <tr>\n",
       "      <th>&lt;link rel=\"dns-prefetch\" href=\"https://avatars.githubusercontent.com\"&gt;</th>\n",
       "    </tr>\n",
       "  </tbody>\n",
       "</table>\n",
       "</div>"
      ],
      "text/plain": [
       "Empty DataFrame\n",
       "Columns: []\n",
       "Index: [<html lang=\"en\" data-color-mode=\"auto\" data-light-theme=\"light\" data-dark-theme=\"dark\">,   <head>,     <meta charset=\"utf-8\">,   <link rel=\"dns-prefetch\" href=\"https://github.githubassets.com\">,   <link rel=\"dns-prefetch\" href=\"https://avatars.githubusercontent.com\">]"
      ]
     },
     "execution_count": 6,
     "metadata": {},
     "output_type": "execute_result"
    }
   ],
   "source": [
    "# Поптыка отбросить плохие строки ни к чему не привела\n",
    "\n",
    "df = pd.read_csv('https://github.com/a-milenkin/mipt_data_science_2021/tree/main/data/people_data_clustering.csv', header=0, index_col=0, error_bad_lines=False)\n",
    "print('Размеры',df.shape)\n",
    "df.head()"
   ]
  },
  {
   "cell_type": "code",
   "execution_count": 7,
   "metadata": {
    "colab": {
     "base_uri": "https://localhost:8080/",
     "height": 56,
     "resources": {
      "http://localhost:8080/nbextensions/google.colab/files.js": {
       "data": "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",
       "headers": [
        [
         "content-type",
         "application/javascript"
        ]
       ],
       "ok": true,
       "status": 200,
       "status_text": ""
      }
     }
    },
    "id": "60_YZRr8ZJb7",
    "outputId": "f517a3b9-3189-47cb-9a8d-18a02613ff60"
   },
   "outputs": [
    {
     "data": {
      "text/html": [
       "\n",
       "     <input type=\"file\" id=\"files-2d2f23d5-ad24-4dfa-bf57-d8bc2d4865dc\" name=\"files[]\" multiple disabled\n",
       "        style=\"border:none\" />\n",
       "     <output id=\"result-2d2f23d5-ad24-4dfa-bf57-d8bc2d4865dc\">\n",
       "      Upload widget is only available when the cell has been executed in the\n",
       "      current browser session. Please rerun this cell to enable.\n",
       "      </output>\n",
       "      <script src=\"/nbextensions/google.colab/files.js\"></script> "
      ],
      "text/plain": [
       "<IPython.core.display.HTML object>"
      ]
     },
     "metadata": {},
     "output_type": "display_data"
    },
    {
     "name": "stdout",
     "output_type": "stream",
     "text": [
      "Saving people_data_clustering_(old_one).csv to people_data_clustering_(old_one).csv\n"
     ]
    }
   ],
   "source": [
    "from google.colab import files\n",
    "uploaded = files.upload()"
   ]
  },
  {
   "cell_type": "code",
   "execution_count": 8,
   "metadata": {
    "colab": {
     "base_uri": "https://localhost:8080/",
     "height": 220
    },
    "id": "BEJI5M0xj_3V",
    "outputId": "c42758a9-1784-4de9-a7f5-fa1098fc2cec"
   },
   "outputs": [
    {
     "name": "stdout",
     "output_type": "stream",
     "text": [
      "Размеры (6000, 9)\n"
     ]
    },
    {
     "data": {
      "text/html": [
       "<div>\n",
       "<style scoped>\n",
       "    .dataframe tbody tr th:only-of-type {\n",
       "        vertical-align: middle;\n",
       "    }\n",
       "\n",
       "    .dataframe tbody tr th {\n",
       "        vertical-align: top;\n",
       "    }\n",
       "\n",
       "    .dataframe thead th {\n",
       "        text-align: right;\n",
       "    }\n",
       "</style>\n",
       "<table border=\"1\" class=\"dataframe\">\n",
       "  <thead>\n",
       "    <tr style=\"text-align: right;\">\n",
       "      <th></th>\n",
       "      <th>id</th>\n",
       "      <th>was_married</th>\n",
       "      <th>childrens</th>\n",
       "      <th>salary</th>\n",
       "      <th>sex</th>\n",
       "      <th>age</th>\n",
       "      <th>profession</th>\n",
       "      <th>home_cost</th>\n",
       "      <th>drive_info</th>\n",
       "    </tr>\n",
       "  </thead>\n",
       "  <tbody>\n",
       "    <tr>\n",
       "      <th>0</th>\n",
       "      <td>0</td>\n",
       "      <td>1</td>\n",
       "      <td>4.0</td>\n",
       "      <td>45032.40</td>\n",
       "      <td>1</td>\n",
       "      <td>82.0</td>\n",
       "      <td>Engineer</td>\n",
       "      <td>1.003674e+07</td>\n",
       "      <td>NaN</td>\n",
       "    </tr>\n",
       "    <tr>\n",
       "      <th>1</th>\n",
       "      <td>1</td>\n",
       "      <td>1</td>\n",
       "      <td>2.0</td>\n",
       "      <td>202004.64</td>\n",
       "      <td>1</td>\n",
       "      <td>32.0</td>\n",
       "      <td>Doctor</td>\n",
       "      <td>1.014051e+07</td>\n",
       "      <td>0.0</td>\n",
       "    </tr>\n",
       "    <tr>\n",
       "      <th>2</th>\n",
       "      <td>2</td>\n",
       "      <td>1</td>\n",
       "      <td>6.0</td>\n",
       "      <td>213158.75</td>\n",
       "      <td>1</td>\n",
       "      <td>14.0</td>\n",
       "      <td>Entertainment</td>\n",
       "      <td>1.043318e+07</td>\n",
       "      <td>NaN</td>\n",
       "    </tr>\n",
       "    <tr>\n",
       "      <th>3</th>\n",
       "      <td>3</td>\n",
       "      <td>0</td>\n",
       "      <td>1.0</td>\n",
       "      <td>185692.78</td>\n",
       "      <td>0</td>\n",
       "      <td>10.0</td>\n",
       "      <td>Lawyer</td>\n",
       "      <td>1.004299e+07</td>\n",
       "      <td>NaN</td>\n",
       "    </tr>\n",
       "    <tr>\n",
       "      <th>4</th>\n",
       "      <td>4</td>\n",
       "      <td>1</td>\n",
       "      <td>9.0</td>\n",
       "      <td>132067.32</td>\n",
       "      <td>1</td>\n",
       "      <td>99.0</td>\n",
       "      <td>Artist</td>\n",
       "      <td>1.021908e+07</td>\n",
       "      <td>NaN</td>\n",
       "    </tr>\n",
       "  </tbody>\n",
       "</table>\n",
       "</div>"
      ],
      "text/plain": [
       "   id  was_married  childrens  ...     profession     home_cost  drive_info\n",
       "0   0            1        4.0  ...       Engineer  1.003674e+07         NaN\n",
       "1   1            1        2.0  ...         Doctor  1.014051e+07         0.0\n",
       "2   2            1        6.0  ...  Entertainment  1.043318e+07         NaN\n",
       "3   3            0        1.0  ...         Lawyer  1.004299e+07         NaN\n",
       "4   4            1        9.0  ...         Artist  1.021908e+07         NaN\n",
       "\n",
       "[5 rows x 9 columns]"
      ]
     },
     "execution_count": 8,
     "metadata": {},
     "output_type": "execute_result"
    }
   ],
   "source": [
    "# Пришлось взять \"старую\" версию датасета у одногруппника\n",
    "\n",
    "df = pd.read_csv('people_data_clustering_(old_one).csv', index_col=0)\n",
    "print('Размеры',df.shape)\n",
    "df.head()"
   ]
  },
  {
   "cell_type": "markdown",
   "metadata": {
    "id": "QgPxEWECZJb8"
   },
   "source": [
    "<div class=\"alert alert-info\">\n",
    "<b>Про Датасет</b>\n",
    "    \n",
    "Датасет представляет собой информацию по жителям некоторого города.\n",
    "\n",
    "* `was_married` - Был ли когда-либо женат/замужем\n",
    "* `childrens` - Количество детей\n",
    "* `salary` - Уровень зарплаты\n",
    "* `sex` - Пол\n",
    "* `age` - Возраст\n",
    "* `home_cost` - Стоимость жилья\n",
    "* `Professon` - Профессия\n",
    "* `drive_info` - Есть ли водительские права\n",
    "    \n",
    "</div>"
   ]
  },
  {
   "cell_type": "markdown",
   "metadata": {
    "id": "7igTeMGRZJb9"
   },
   "source": [
    "<div class=\"alert alert-info\">\n",
    "<b>Задание</b>\n",
    "\n",
    "Изучить датасет и, используя класстерный анализ, разбить пользователей на сегменты. Сделать выводы о причинах такой кластеризации."
   ]
  },
  {
   "cell_type": "markdown",
   "metadata": {
    "id": "dmjFZW_qCnEa"
   },
   "source": [
    "\n",
    "\n",
    "---\n",
    "\n",
    "\n",
    "\n",
    "---\n",
    "\n"
   ]
  },
  {
   "cell_type": "markdown",
   "metadata": {
    "id": "sk7tNQzZZJb9"
   },
   "source": [
    "# Изучение датасета (5 баллов)\n",
    "* Какие признаки численные?\n",
    "* Какие признаки категориальные?\n",
    "* Какие признаки бинарные?\n",
    "* Какие признаки имеют нормальное распределение?\n",
    "* Какие признаки бессмысленные?"
   ]
  },
  {
   "cell_type": "code",
   "execution_count": 9,
   "metadata": {
    "colab": {
     "base_uri": "https://localhost:8080/"
    },
    "id": "5Ztfso6XZJb-",
    "outputId": "b18a7a09-f9f1-47b9-d9a7-48478550af59"
   },
   "outputs": [
    {
     "name": "stdout",
     "output_type": "stream",
     "text": [
      "id               int64\n",
      "was_married      int64\n",
      "childrens      float64\n",
      "salary         float64\n",
      "sex              int64\n",
      "age            float64\n",
      "profession      object\n",
      "home_cost      float64\n",
      "drive_info     float64\n",
      "dtype: object\n"
     ]
    }
   ],
   "source": [
    "print(df.dtypes)"
   ]
  },
  {
   "cell_type": "markdown",
   "metadata": {
    "id": "zOzK3oxB4sLe"
   },
   "source": [
    "###Делаем вывод, что\n",
    "* *численные признаки:* childrens, salary, age, home_cost\n",
    "* *категориальные признаки:* profession\n",
    "* *бинарные признаки:* was_married, sex, driver_info\n",
    "\n",
    "\n",
    "---\n",
    "\n"
   ]
  },
  {
   "cell_type": "markdown",
   "metadata": {
    "id": "4t84nftv-DrJ"
   },
   "source": [
    "###Проверим теперь численные признаки на нормальность:"
   ]
  },
  {
   "cell_type": "code",
   "execution_count": 10,
   "metadata": {
    "colab": {
     "base_uri": "https://localhost:8080/",
     "height": 288
    },
    "id": "T7qpoa1l6dk0",
    "outputId": "a14a4eda-a5bb-4b6d-875b-3e0f1a349f90"
   },
   "outputs": [
    {
     "data": {
      "text/plain": [
       "<matplotlib.axes._subplots.AxesSubplot at 0x7f44b76e4fd0>"
      ]
     },
     "execution_count": 10,
     "metadata": {},
     "output_type": "execute_result"
    },
    {
     "data": {
      "image/png": "[encoded data removed]",
      "text/plain": [
       "<Figure size 432x288 with 1 Axes>"
      ]
     },
     "metadata": {},
     "output_type": "display_data"
    }
   ],
   "source": [
    "df['childrens'].hist()"
   ]
  },
  {
   "cell_type": "code",
   "execution_count": 11,
   "metadata": {
    "colab": {
     "base_uri": "https://localhost:8080/",
     "height": 286
    },
    "id": "t_RxQjVj6t0w",
    "outputId": "434c915b-5bb0-4768-f1fc-d11fb3fa0769"
   },
   "outputs": [
    {
     "data": {
      "text/plain": [
       "<matplotlib.axes._subplots.AxesSubplot at 0x7f44b66d9e50>"
      ]
     },
     "execution_count": 11,
     "metadata": {},
     "output_type": "execute_result"
    },
    {
     "data": {
      "image/png": "[encoded data removed]",
      "text/plain": [
       "<Figure size 432x288 with 1 Axes>"
      ]
     },
     "metadata": {},
     "output_type": "display_data"
    }
   ],
   "source": [
    "df['salary'].hist(bins=60)"
   ]
  },
  {
   "cell_type": "code",
   "execution_count": 12,
   "metadata": {
    "colab": {
     "base_uri": "https://localhost:8080/",
     "height": 286
    },
    "id": "Gxydluom6_3d",
    "outputId": "8f37aafd-9a47-4047-92f5-f2613ecd756e"
   },
   "outputs": [
    {
     "data": {
      "text/plain": [
       "<matplotlib.axes._subplots.AxesSubplot at 0x7f44b5c84910>"
      ]
     },
     "execution_count": 12,
     "metadata": {},
     "output_type": "execute_result"
    },
    {
     "data": {
      "image/png": "[encoded data removed]",
      "text/plain": [
       "<Figure size 432x288 with 1 Axes>"
      ]
     },
     "metadata": {},
     "output_type": "display_data"
    }
   ],
   "source": [
    "df['age'].hist(bins=50)"
   ]
  },
  {
   "cell_type": "code",
   "execution_count": 13,
   "metadata": {
    "colab": {
     "base_uri": "https://localhost:8080/",
     "height": 298
    },
    "id": "aNKib9vH7SXW",
    "outputId": "aacec58d-af66-45a6-c184-b6352fbcf459"
   },
   "outputs": [
    {
     "data": {
      "text/plain": [
       "<matplotlib.axes._subplots.AxesSubplot at 0x7f44b5b91e90>"
      ]
     },
     "execution_count": 13,
     "metadata": {},
     "output_type": "execute_result"
    },
    {
     "data": {
      "image/png": "[encoded data removed]",
      "text/plain": [
       "<Figure size 432x288 with 1 Axes>"
      ]
     },
     "metadata": {},
     "output_type": "display_data"
    }
   ],
   "source": [
    "df['home_cost'].hist(bins=1000)"
   ]
  },
  {
   "cell_type": "code",
   "execution_count": 14,
   "metadata": {
    "colab": {
     "base_uri": "https://localhost:8080/"
    },
    "id": "fuzpJQ8F7iU0",
    "outputId": "590ef2e9-d217-4816-fd85-d8f1f31e23d1"
   },
   "outputs": [
    {
     "data": {
      "text/plain": [
       "20657915.51438855"
      ]
     },
     "execution_count": 14,
     "metadata": {},
     "output_type": "execute_result"
    }
   ],
   "source": [
    "df['home_cost'].max()"
   ]
  },
  {
   "cell_type": "code",
   "execution_count": 15,
   "metadata": {
    "colab": {
     "base_uri": "https://localhost:8080/"
    },
    "id": "aCK74Wza7nyB",
    "outputId": "7f6b5bf9-362d-459b-c0bd-d8ea96437b5e"
   },
   "outputs": [
    {
     "data": {
      "text/plain": [
       "10191838.633263767"
      ]
     },
     "execution_count": 15,
     "metadata": {},
     "output_type": "execute_result"
    }
   ],
   "source": [
    "df['home_cost'].mean()"
   ]
  },
  {
   "cell_type": "markdown",
   "metadata": {
    "id": "1s2VvkNh9ekd"
   },
   "source": [
    "###Вывод:\n",
    "*Похоже, нормальное распределение имеет только* ***home_cost***\n",
    "\n",
    "\n",
    "---\n",
    "\n"
   ]
  },
  {
   "cell_type": "markdown",
   "metadata": {
    "id": "MJHfEV7y_EIA"
   },
   "source": [
    "###Бессмысленные признаки:\n",
    "Как мы увидим дальше, информация о наличии водительских прав отсутсвует у половины записей. В таком случае, если удалять половину строк из датасета, распределение стоимости домов может серьёзно измениться и скорее всего уже не будет нормальным. Кроме того, мы не знаем, откуда были взяты данные и по какой причине в некоторых отсутвует какая-либо информация. Может случиться, что, удалив эти строки, мы потеряем какую-то важную группу объектов. Да и сама мысль удаления половины датасета выглядит смущающей. Поэтому правильным кажется вариент удаления столбца ***drive_info***\n",
    "\n",
    "\n",
    "\n",
    "---\n",
    "\n",
    "\n",
    "\n",
    "---\n",
    "\n",
    "\n"
   ]
  },
  {
   "cell_type": "markdown",
   "metadata": {
    "id": "b5gBfk6fZJb-"
   },
   "source": [
    "# Чистка датасета (5 баллов)\n",
    "* Есть ли дубли в данных? \n",
    "* Есть ли пропуски в данных? \n",
    "* Как стоит поступить с выбросами? (удалить или заменить \\ `dropna()` или `fillna()` )\n",
    "* Удалить бесмысленные признаки (`drop()`)\n",
    "* Найти и удалить выбросы по признаку `home_cost`. Сколько их?"
   ]
  },
  {
   "cell_type": "code",
   "execution_count": 16,
   "metadata": {
    "colab": {
     "base_uri": "https://localhost:8080/",
     "height": 417
    },
    "id": "npO9VB-87Q15",
    "outputId": "d3f575d5-bef9-4418-fd45-e8eb5cb9824a"
   },
   "outputs": [
    {
     "data": {
      "text/html": [
       "<div>\n",
       "<style scoped>\n",
       "    .dataframe tbody tr th:only-of-type {\n",
       "        vertical-align: middle;\n",
       "    }\n",
       "\n",
       "    .dataframe tbody tr th {\n",
       "        vertical-align: top;\n",
       "    }\n",
       "\n",
       "    .dataframe thead th {\n",
       "        text-align: right;\n",
       "    }\n",
       "</style>\n",
       "<table border=\"1\" class=\"dataframe\">\n",
       "  <thead>\n",
       "    <tr style=\"text-align: right;\">\n",
       "      <th></th>\n",
       "      <th>id</th>\n",
       "      <th>was_married</th>\n",
       "      <th>childrens</th>\n",
       "      <th>salary</th>\n",
       "      <th>sex</th>\n",
       "      <th>age</th>\n",
       "      <th>profession</th>\n",
       "      <th>home_cost</th>\n",
       "      <th>drive_info</th>\n",
       "    </tr>\n",
       "  </thead>\n",
       "  <tbody>\n",
       "    <tr>\n",
       "      <th>5500</th>\n",
       "      <td>0</td>\n",
       "      <td>1</td>\n",
       "      <td>4.0</td>\n",
       "      <td>45032.40</td>\n",
       "      <td>1</td>\n",
       "      <td>82.0</td>\n",
       "      <td>Engineer</td>\n",
       "      <td>1.003674e+07</td>\n",
       "      <td>NaN</td>\n",
       "    </tr>\n",
       "    <tr>\n",
       "      <th>5501</th>\n",
       "      <td>1</td>\n",
       "      <td>1</td>\n",
       "      <td>2.0</td>\n",
       "      <td>202004.64</td>\n",
       "      <td>1</td>\n",
       "      <td>32.0</td>\n",
       "      <td>Doctor</td>\n",
       "      <td>1.014051e+07</td>\n",
       "      <td>0.0</td>\n",
       "    </tr>\n",
       "    <tr>\n",
       "      <th>5502</th>\n",
       "      <td>2</td>\n",
       "      <td>1</td>\n",
       "      <td>6.0</td>\n",
       "      <td>213158.75</td>\n",
       "      <td>1</td>\n",
       "      <td>14.0</td>\n",
       "      <td>Entertainment</td>\n",
       "      <td>1.043318e+07</td>\n",
       "      <td>NaN</td>\n",
       "    </tr>\n",
       "    <tr>\n",
       "      <th>5503</th>\n",
       "      <td>3</td>\n",
       "      <td>0</td>\n",
       "      <td>1.0</td>\n",
       "      <td>185692.78</td>\n",
       "      <td>0</td>\n",
       "      <td>10.0</td>\n",
       "      <td>Lawyer</td>\n",
       "      <td>1.004299e+07</td>\n",
       "      <td>NaN</td>\n",
       "    </tr>\n",
       "    <tr>\n",
       "      <th>5504</th>\n",
       "      <td>4</td>\n",
       "      <td>1</td>\n",
       "      <td>9.0</td>\n",
       "      <td>132067.32</td>\n",
       "      <td>1</td>\n",
       "      <td>99.0</td>\n",
       "      <td>Artist</td>\n",
       "      <td>1.021908e+07</td>\n",
       "      <td>NaN</td>\n",
       "    </tr>\n",
       "    <tr>\n",
       "      <th>...</th>\n",
       "      <td>...</td>\n",
       "      <td>...</td>\n",
       "      <td>...</td>\n",
       "      <td>...</td>\n",
       "      <td>...</td>\n",
       "      <td>...</td>\n",
       "      <td>...</td>\n",
       "      <td>...</td>\n",
       "      <td>...</td>\n",
       "    </tr>\n",
       "    <tr>\n",
       "      <th>5995</th>\n",
       "      <td>495</td>\n",
       "      <td>1</td>\n",
       "      <td>0.0</td>\n",
       "      <td>37023.38</td>\n",
       "      <td>1</td>\n",
       "      <td>3.0</td>\n",
       "      <td>Executive</td>\n",
       "      <td>1.007038e+07</td>\n",
       "      <td>1.0</td>\n",
       "    </tr>\n",
       "    <tr>\n",
       "      <th>5996</th>\n",
       "      <td>496</td>\n",
       "      <td>1</td>\n",
       "      <td>3.0</td>\n",
       "      <td>999.66</td>\n",
       "      <td>0</td>\n",
       "      <td>20.0</td>\n",
       "      <td>Homemaker</td>\n",
       "      <td>1.009348e+07</td>\n",
       "      <td>1.0</td>\n",
       "    </tr>\n",
       "    <tr>\n",
       "      <th>5997</th>\n",
       "      <td>497</td>\n",
       "      <td>1</td>\n",
       "      <td>0.0</td>\n",
       "      <td>2042.76</td>\n",
       "      <td>0</td>\n",
       "      <td>17.0</td>\n",
       "      <td>Healthcare</td>\n",
       "      <td>1.016696e+07</td>\n",
       "      <td>0.0</td>\n",
       "    </tr>\n",
       "    <tr>\n",
       "      <th>5998</th>\n",
       "      <td>498</td>\n",
       "      <td>0</td>\n",
       "      <td>1.0</td>\n",
       "      <td>186560.45</td>\n",
       "      <td>0</td>\n",
       "      <td>10.0</td>\n",
       "      <td>Lawyer</td>\n",
       "      <td>1.025544e+07</td>\n",
       "      <td>NaN</td>\n",
       "    </tr>\n",
       "    <tr>\n",
       "      <th>5999</th>\n",
       "      <td>499</td>\n",
       "      <td>1</td>\n",
       "      <td>3.0</td>\n",
       "      <td>1000.71</td>\n",
       "      <td>0</td>\n",
       "      <td>21.0</td>\n",
       "      <td>Homemaker</td>\n",
       "      <td>1.027476e+07</td>\n",
       "      <td>NaN</td>\n",
       "    </tr>\n",
       "  </tbody>\n",
       "</table>\n",
       "<p>500 rows × 9 columns</p>\n",
       "</div>"
      ],
      "text/plain": [
       "       id  was_married  childrens  ...     profession     home_cost  drive_info\n",
       "5500    0            1        4.0  ...       Engineer  1.003674e+07         NaN\n",
       "5501    1            1        2.0  ...         Doctor  1.014051e+07         0.0\n",
       "5502    2            1        6.0  ...  Entertainment  1.043318e+07         NaN\n",
       "5503    3            0        1.0  ...         Lawyer  1.004299e+07         NaN\n",
       "5504    4            1        9.0  ...         Artist  1.021908e+07         NaN\n",
       "...   ...          ...        ...  ...            ...           ...         ...\n",
       "5995  495            1        0.0  ...      Executive  1.007038e+07         1.0\n",
       "5996  496            1        3.0  ...      Homemaker  1.009348e+07         1.0\n",
       "5997  497            1        0.0  ...     Healthcare  1.016696e+07         0.0\n",
       "5998  498            0        1.0  ...         Lawyer  1.025544e+07         NaN\n",
       "5999  499            1        3.0  ...      Homemaker  1.027476e+07         NaN\n",
       "\n",
       "[500 rows x 9 columns]"
      ]
     },
     "execution_count": 16,
     "metadata": {},
     "output_type": "execute_result"
    }
   ],
   "source": [
    "df.loc[df.duplicated()]"
   ]
  },
  {
   "cell_type": "code",
   "execution_count": 45,
   "metadata": {
    "id": "L9Wf07mvZJcA"
   },
   "outputs": [],
   "source": [
    "df = df.drop_duplicates()"
   ]
  },
  {
   "cell_type": "code",
   "execution_count": 46,
   "metadata": {
    "colab": {
     "base_uri": "https://localhost:8080/",
     "height": 417
    },
    "id": "sDOROc7W2mXX",
    "outputId": "6ab7eae2-6437-458a-fc70-99a191eedfd6"
   },
   "outputs": [
    {
     "data": {
      "text/html": [
       "<div>\n",
       "<style scoped>\n",
       "    .dataframe tbody tr th:only-of-type {\n",
       "        vertical-align: middle;\n",
       "    }\n",
       "\n",
       "    .dataframe tbody tr th {\n",
       "        vertical-align: top;\n",
       "    }\n",
       "\n",
       "    .dataframe thead th {\n",
       "        text-align: right;\n",
       "    }\n",
       "</style>\n",
       "<table border=\"1\" class=\"dataframe\">\n",
       "  <thead>\n",
       "    <tr style=\"text-align: right;\">\n",
       "      <th></th>\n",
       "      <th>id</th>\n",
       "      <th>was_married</th>\n",
       "      <th>childrens</th>\n",
       "      <th>salary</th>\n",
       "      <th>sex</th>\n",
       "      <th>age</th>\n",
       "      <th>profession</th>\n",
       "      <th>home_cost</th>\n",
       "      <th>drive_info</th>\n",
       "    </tr>\n",
       "  </thead>\n",
       "  <tbody>\n",
       "    <tr>\n",
       "      <th>0</th>\n",
       "      <td>0</td>\n",
       "      <td>1</td>\n",
       "      <td>4.0</td>\n",
       "      <td>45032.40</td>\n",
       "      <td>1</td>\n",
       "      <td>82.0</td>\n",
       "      <td>Engineer</td>\n",
       "      <td>1.003674e+07</td>\n",
       "      <td>NaN</td>\n",
       "    </tr>\n",
       "    <tr>\n",
       "      <th>1</th>\n",
       "      <td>1</td>\n",
       "      <td>1</td>\n",
       "      <td>2.0</td>\n",
       "      <td>202004.64</td>\n",
       "      <td>1</td>\n",
       "      <td>32.0</td>\n",
       "      <td>Doctor</td>\n",
       "      <td>1.014051e+07</td>\n",
       "      <td>0.0</td>\n",
       "    </tr>\n",
       "    <tr>\n",
       "      <th>2</th>\n",
       "      <td>2</td>\n",
       "      <td>1</td>\n",
       "      <td>6.0</td>\n",
       "      <td>213158.75</td>\n",
       "      <td>1</td>\n",
       "      <td>14.0</td>\n",
       "      <td>Entertainment</td>\n",
       "      <td>1.043318e+07</td>\n",
       "      <td>NaN</td>\n",
       "    </tr>\n",
       "    <tr>\n",
       "      <th>3</th>\n",
       "      <td>3</td>\n",
       "      <td>0</td>\n",
       "      <td>1.0</td>\n",
       "      <td>185692.78</td>\n",
       "      <td>0</td>\n",
       "      <td>10.0</td>\n",
       "      <td>Lawyer</td>\n",
       "      <td>1.004299e+07</td>\n",
       "      <td>NaN</td>\n",
       "    </tr>\n",
       "    <tr>\n",
       "      <th>4</th>\n",
       "      <td>4</td>\n",
       "      <td>1</td>\n",
       "      <td>9.0</td>\n",
       "      <td>132067.32</td>\n",
       "      <td>1</td>\n",
       "      <td>99.0</td>\n",
       "      <td>Artist</td>\n",
       "      <td>1.021908e+07</td>\n",
       "      <td>NaN</td>\n",
       "    </tr>\n",
       "    <tr>\n",
       "      <th>...</th>\n",
       "      <td>...</td>\n",
       "      <td>...</td>\n",
       "      <td>...</td>\n",
       "      <td>...</td>\n",
       "      <td>...</td>\n",
       "      <td>...</td>\n",
       "      <td>...</td>\n",
       "      <td>...</td>\n",
       "      <td>...</td>\n",
       "    </tr>\n",
       "    <tr>\n",
       "      <th>5495</th>\n",
       "      <td>5495</td>\n",
       "      <td>1</td>\n",
       "      <td>1.0</td>\n",
       "      <td>12676.77</td>\n",
       "      <td>1</td>\n",
       "      <td>9.0</td>\n",
       "      <td>Marketing</td>\n",
       "      <td>1.027045e+07</td>\n",
       "      <td>0.0</td>\n",
       "    </tr>\n",
       "    <tr>\n",
       "      <th>5496</th>\n",
       "      <td>5496</td>\n",
       "      <td>1</td>\n",
       "      <td>6.0</td>\n",
       "      <td>215570.69</td>\n",
       "      <td>1</td>\n",
       "      <td>13.0</td>\n",
       "      <td>Entertainment</td>\n",
       "      <td>1.032767e+07</td>\n",
       "      <td>1.0</td>\n",
       "    </tr>\n",
       "    <tr>\n",
       "      <th>5497</th>\n",
       "      <td>5497</td>\n",
       "      <td>1</td>\n",
       "      <td>0.0</td>\n",
       "      <td>34734.29</td>\n",
       "      <td>1</td>\n",
       "      <td>3.0</td>\n",
       "      <td>Executive</td>\n",
       "      <td>1.010075e+07</td>\n",
       "      <td>NaN</td>\n",
       "    </tr>\n",
       "    <tr>\n",
       "      <th>5498</th>\n",
       "      <td>5498</td>\n",
       "      <td>1</td>\n",
       "      <td>1.0</td>\n",
       "      <td>12667.06</td>\n",
       "      <td>1</td>\n",
       "      <td>9.0</td>\n",
       "      <td>Marketing</td>\n",
       "      <td>1.011321e+07</td>\n",
       "      <td>1.0</td>\n",
       "    </tr>\n",
       "    <tr>\n",
       "      <th>5499</th>\n",
       "      <td>5499</td>\n",
       "      <td>0</td>\n",
       "      <td>2.0</td>\n",
       "      <td>201840.19</td>\n",
       "      <td>1</td>\n",
       "      <td>33.0</td>\n",
       "      <td>Doctor</td>\n",
       "      <td>1.022512e+07</td>\n",
       "      <td>NaN</td>\n",
       "    </tr>\n",
       "  </tbody>\n",
       "</table>\n",
       "<p>5500 rows × 9 columns</p>\n",
       "</div>"
      ],
      "text/plain": [
       "        id  was_married  childrens  ...     profession     home_cost  drive_info\n",
       "0        0            1        4.0  ...       Engineer  1.003674e+07         NaN\n",
       "1        1            1        2.0  ...         Doctor  1.014051e+07         0.0\n",
       "2        2            1        6.0  ...  Entertainment  1.043318e+07         NaN\n",
       "3        3            0        1.0  ...         Lawyer  1.004299e+07         NaN\n",
       "4        4            1        9.0  ...         Artist  1.021908e+07         NaN\n",
       "...    ...          ...        ...  ...            ...           ...         ...\n",
       "5495  5495            1        1.0  ...      Marketing  1.027045e+07         0.0\n",
       "5496  5496            1        6.0  ...  Entertainment  1.032767e+07         1.0\n",
       "5497  5497            1        0.0  ...      Executive  1.010075e+07         NaN\n",
       "5498  5498            1        1.0  ...      Marketing  1.011321e+07         1.0\n",
       "5499  5499            0        2.0  ...         Doctor  1.022512e+07         NaN\n",
       "\n",
       "[5500 rows x 9 columns]"
      ]
     },
     "execution_count": 46,
     "metadata": {},
     "output_type": "execute_result"
    }
   ],
   "source": [
    "df"
   ]
  },
  {
   "cell_type": "markdown",
   "metadata": {
    "id": "vCGGIwuhB4tI"
   },
   "source": [
    "## Вывод:\n",
    "В датасете присуствовало ровно 500 дупликатов строк\n",
    "\n",
    "---\n",
    "\n"
   ]
  },
  {
   "cell_type": "code",
   "execution_count": 47,
   "metadata": {
    "colab": {
     "base_uri": "https://localhost:8080/"
    },
    "id": "eas2S3Q5DLTm",
    "outputId": "da0ff864-9fbd-4e20-b75e-cdca16847747"
   },
   "outputs": [
    {
     "data": {
      "text/plain": [
       "id                0\n",
       "was_married       0\n",
       "childrens         0\n",
       "salary            0\n",
       "sex               0\n",
       "age               0\n",
       "profession        0\n",
       "home_cost         0\n",
       "drive_info     2524\n",
       "dtype: int64"
      ]
     },
     "execution_count": 47,
     "metadata": {},
     "output_type": "execute_result"
    }
   ],
   "source": [
    "df.isnull().sum()"
   ]
  },
  {
   "cell_type": "markdown",
   "metadata": {
    "id": "QzmvhyqGEd61"
   },
   "source": [
    "Видно, что примерно половина строк имеет пропуски в поле **drive_info**\n",
    "\n",
    "---\n",
    "\n",
    "Если посчитать информацию о наличии прав существенной, то заполнить пропуски сами мы не можем, а если считать её не существенной, то можно смело удалять этот столбец (он будет удалён чуть ниже).\n",
    "\n",
    "---\n"
   ]
  },
  {
   "cell_type": "code",
   "execution_count": 48,
   "metadata": {
    "colab": {
     "base_uri": "https://localhost:8080/",
     "height": 280
    },
    "id": "KzYWze0DE77c",
    "outputId": "c541aa3a-249b-4829-895c-11e50e8cab96"
   },
   "outputs": [
    {
     "data": {
      "image/png": "[encoded data removed]",
      "text/plain": [
       "<Figure size 432x288 with 1 Axes>"
      ]
     },
     "metadata": {},
     "output_type": "display_data"
    }
   ],
   "source": [
    "bp = df.home_cost.plot.box()\n",
    "#plt.boxplot(df['home_cost']);"
   ]
  },
  {
   "cell_type": "code",
   "execution_count": 61,
   "metadata": {
    "colab": {
     "base_uri": "https://localhost:8080/"
    },
    "id": "yN8uTWcWzCAp",
    "outputId": "af31d9c1-39d9-411a-bc4f-16279dfe9ce2"
   },
   "outputs": [
    {
     "data": {
      "text/plain": [
       "173     9.824378e+06\n",
       "714     1.054213e+07\n",
       "1140    2.032128e+07\n",
       "1779    2.031197e+07\n",
       "1825    1.054779e+07\n",
       "2070    9.824841e+06\n",
       "2966    1.053073e+07\n",
       "3307    1.979488e+07\n",
       "3380    1.979532e+07\n",
       "3912    1.054311e+07\n",
       "4014    9.827240e+06\n",
       "4727    2.065792e+07\n",
       "Name: home_cost, dtype: float64"
      ]
     },
     "execution_count": 61,
     "metadata": {},
     "output_type": "execute_result"
    }
   ],
   "source": [
    "ql = df['home_cost'].quantile(0.05)\n",
    "qu = df['home_cost'].quantile(0.95)\n",
    "q1 = df['home_cost'].quantile(0.25)\n",
    "q3 = df['home_cost'].quantile(0.75)\n",
    "iqr = q3 - q1\n",
    "df[(df['home_cost'] < q1-1.5*iqr ) | (df['home_cost'] > q3+1.5*iqr)]['home_cost']"
   ]
  },
  {
   "cell_type": "code",
   "execution_count": 62,
   "metadata": {
    "colab": {
     "base_uri": "https://localhost:8080/"
    },
    "id": "qAv2xxAQ0bbq",
    "outputId": "b85db0ce-f8ef-4b01-ead0-e2d0d255cdbd"
   },
   "outputs": [
    {
     "data": {
      "text/plain": [
       "12"
      ]
     },
     "execution_count": 62,
     "metadata": {},
     "output_type": "execute_result"
    }
   ],
   "source": [
    "df[(df['home_cost'] < q1-1.5*iqr ) | (df['home_cost'] > q3+1.5*iqr)]['home_cost'].count()"
   ]
  },
  {
   "cell_type": "markdown",
   "metadata": {
    "id": "5OFz0a5U0cja"
   },
   "source": [
    "###Вывод:\n",
    "Имеем 12 выбросов"
   ]
  },
  {
   "cell_type": "code",
   "execution_count": 71,
   "metadata": {
    "id": "TKsCPfOH1Tc2"
   },
   "outputs": [],
   "source": [
    "df1 = df[(df['home_cost'] >= q1-1.5*iqr) & (df['home_cost'] <= q3+1.5*iqr)]"
   ]
  },
  {
   "cell_type": "code",
   "execution_count": 72,
   "metadata": {
    "colab": {
     "base_uri": "https://localhost:8080/"
    },
    "id": "W-Za1QXl3LkO",
    "outputId": "679148e4-b0e3-4971-98a0-0f520c83f5bc"
   },
   "outputs": [
    {
     "data": {
      "text/plain": [
       "(5488, 9)"
      ]
     },
     "execution_count": 72,
     "metadata": {},
     "output_type": "execute_result"
    }
   ],
   "source": [
    "df1.shape"
   ]
  },
  {
   "cell_type": "code",
   "execution_count": 74,
   "metadata": {
    "colab": {
     "base_uri": "https://localhost:8080/"
    },
    "id": "YExOI8P-_JTi",
    "outputId": "c7d89133-e364-414b-b487-886b2db12630"
   },
   "outputs": [
    {
     "data": {
      "text/plain": [
       "(5500, 8)"
      ]
     },
     "execution_count": 74,
     "metadata": {},
     "output_type": "execute_result"
    }
   ],
   "source": [
    "df1 = df.dropna(axis=1)\n",
    "df1.shape"
   ]
  },
  {
   "cell_type": "markdown",
   "metadata": {
    "id": "4dwfHo1549IR"
   },
   "source": [
    "\n",
    "\n",
    "---\n",
    "\n",
    "\n",
    "\n",
    "---\n",
    "\n"
   ]
  },
  {
   "cell_type": "markdown",
   "metadata": {
    "id": "y122mbixZJcA"
   },
   "source": [
    "# Изучение зависимых признаков (5 балла). \n",
    "* Построить матрицу корреляций\n",
    "* Визуализировать матрицу корреляции с помощью heatmap\n",
    "* Сделать выводы по самым скоррелированные признакам\n",
    "* Построить график зависимости между двумя самыми зависимыми признаками\n",
    "\n"
   ]
  },
  {
   "cell_type": "code",
   "execution_count": 79,
   "metadata": {
    "colab": {
     "base_uri": "https://localhost:8080/"
    },
    "id": "K1DvEedBZJcA",
    "outputId": "9718384b-0b36-4219-8549-b31149d638d6"
   },
   "outputs": [
    {
     "name": "stdout",
     "output_type": "stream",
     "text": [
      "             was_married  childrens    salary       sex       age  home_cost\n",
      "was_married     1.000000   0.242439 -0.500360  0.337564  0.200417  -0.113610\n",
      "childrens       0.242439   1.000000  0.393879  0.385415  0.742417   0.092056\n",
      "salary         -0.500360   0.393879  1.000000  0.244868  0.076125   0.238794\n",
      "sex             0.337564   0.385415  0.244868  1.000000  0.340071   0.074349\n",
      "age             0.200417   0.742417  0.076125  0.340071  1.000000   0.013346\n",
      "home_cost      -0.113610   0.092056  0.238794  0.074349  0.013346   1.000000\n"
     ]
    }
   ],
   "source": [
    "df2 = df1.drop(columns=['id'])\n",
    "cm = df2.corr()\n",
    "print(cm)"
   ]
  },
  {
   "cell_type": "code",
   "execution_count": 80,
   "metadata": {
    "colab": {
     "base_uri": "https://localhost:8080/",
     "height": 332
    },
    "id": "W9NE2A5aBih6",
    "outputId": "b9e221db-c8d2-4a96-a552-3abf2dc7167b"
   },
   "outputs": [
    {
     "data": {
      "image/png": "[encoded data removed]",
      "text/plain": [
       "<Figure size 432x288 with 2 Axes>"
      ]
     },
     "metadata": {},
     "output_type": "display_data"
    }
   ],
   "source": [
    "ax = sns.heatmap(cm)"
   ]
  },
  {
   "cell_type": "markdown",
   "metadata": {
    "id": "O-Kt_97wDEuD"
   },
   "source": [
    "* Как видно, самыми скоррелированными признаками являются \"возраст\" и \"количество детей\", что логично.\n",
    "* Следом за этой парой идёт пара \"зарплата\" и \"состял(-а) в браке\". В среднем, возраст людей, состоявших когда-либо в браке, должен быть выше возраста тех, кто никогда не состоял. По этой причине они должны иметь уже более развитую карьеру и, как следствие, более высокую зарплату. Ну и кроме того, брак, по идее, должен мотивировать людей к поиску путей получения более высокой заработной платы. В этом смысле, результаты кажутся логичными.\n",
    "\n",
    "---\n",
    "\n",
    "\n",
    "\n",
    "---\n",
    "\n"
   ]
  },
  {
   "cell_type": "markdown",
   "metadata": {
    "id": "uiAoH2sKZJcB"
   },
   "source": [
    "# Нормировка признаков (3 балла)\n",
    "* Отнормировать данные\n",
    "* Обосновать выбор нормировки"
   ]
  },
  {
   "cell_type": "markdown",
   "metadata": {
    "id": "CFNu_JbAKl4S"
   },
   "source": [
    "Выбросы мы удалили, так что RobustScaler не стоит использовать. Кроме того, все количественные признаки имеют положительные значения, поэтому я не вижу причин не использовать MinMaxScaler.\n",
    "\n"
   ]
  },
  {
   "cell_type": "code",
   "execution_count": null,
   "metadata": {
    "id": "1hcpJujmKlUk"
   },
   "outputs": [],
   "source": [
    "from sklearn.preprocessing import StandardScaler, MinMaxScaler, RobustScaler \n",
    "\n",
    "scaler = MinMaxScaler()\n",
    "normal_data = "
   ]
  },
  {
   "cell_type": "markdown",
   "metadata": {
    "id": "NMh6iHnWZJcC"
   },
   "source": [
    "# Выделить кластеры (6 баллов)\n",
    "* Определить оптимальное количество кластеров с помощью правила локтя/осыпи\n",
    "* Получить номера класстеров для каждого пользователя. "
   ]
  },
  {
   "cell_type": "code",
   "execution_count": null,
   "metadata": {
    "id": "6aOjBOXoZJcC"
   },
   "outputs": [],
   "source": [
    "# Вспомогательные код\n",
    "\n",
    "# from sklearn.cluster import KMeans\n",
    "\n",
    "# clusterer = KMeans(n_clusters=n_clusters, random_state=42, max_iter=500)\n",
    "# cluster_labels = clusterer.fit_predict(data)"
   ]
  },
  {
   "cell_type": "markdown",
   "metadata": {
    "id": "qVEgaSb4ZJcC"
   },
   "source": [
    "# Снизить разерность (6 баллов)\n",
    "\n",
    "Воспользуйтесь методом `t-SNE ()` (или `PCA`, `U-MAP`)\n",
    "\n",
    "ссылка на документацию:\n",
    "https://scikit-learn.org/stable/modules/generated/sklearn.manifold.TSNE.html"
   ]
  },
  {
   "cell_type": "code",
   "execution_count": null,
   "metadata": {
    "id": "MOke6HXvZJcD"
   },
   "outputs": [],
   "source": [
    "# Вспомогательные код\n",
    "\n",
    "# from sklearn.manifold import TSNE\n",
    "\n",
    "# data_x_y = TSNE(n_components=2, learning_rate='auto',\n",
    "#                 random_state=22, n_jobs=-1, \n",
    "#                 init='random').fit_transform(df)"
   ]
  },
  {
   "cell_type": "markdown",
   "metadata": {
    "id": "9CcEwFVJZJcD"
   },
   "source": [
    "# Нарисовать полученные кластеры (10 баллов)"
   ]
  },
  {
   "cell_type": "code",
   "execution_count": null,
   "metadata": {
    "id": "gzg84ft2ZJcE",
    "outputId": "c93187f6-bbd9-448e-b183-b90695f72b25"
   },
   "outputs": [
    {
     "data": {
      "image/png": "[encoded data removed]",
      "text/plain": [
       "<Figure size 864x648 with 1 Axes>"
      ]
     },
     "metadata": {},
     "output_type": "display_data"
    }
   ],
   "source": [
    "# Вспомогательные код\n",
    "\n",
    "# import matplotlib.pyplot as plt\n",
    "\n",
    "# plt.figure(figsize=(12,9))\n",
    "# plt.scatter(data_x, data_y, c=cluster_labels, cmap ='Set3', s=5)\n",
    "# plt.scatter(data_x, data_y, c=y_blobs, s=1, cmap ='Set3')\n",
    "# # plt.legend(cluster_labels)\n",
    "# plt.show()"
   ]
  },
  {
   "cell_type": "code",
   "execution_count": null,
   "metadata": {
    "id": "0rEjobkcZJcE"
   },
   "outputs": [],
   "source": []
  },
  {
   "cell_type": "markdown",
   "metadata": {
    "id": "gJV-a1_GZJcF"
   },
   "source": [
    "# Дополнительные баллы (+10 баллов)\n",
    "* Аккуратный и понятный код **+5 баллов**\n",
    "* Присутствуют лаконичные и понятные комментарии **+5 балов**"
   ]
  },
  {
   "cell_type": "code",
   "execution_count": null,
   "metadata": {
    "id": "PgWQ-HRJZJcF"
   },
   "outputs": [],
   "source": []
  }
 ],
 "metadata": {
  "colab": {
   "collapsed_sections": [],
   "name": "HW_1_Gerasimov_Kirill_M06-106.ipynb",
   "provenance": []
  },
  "kernelspec": {
   "display_name": "Python 3",
   "language": "python",
   "name": "python3"
  },
  "language_info": {
   "codemirror_mode": {
    "name": "ipython",
    "version": 3
   },
   "file_extension": ".py",
   "mimetype": "text/x-python",
   "name": "python",
   "nbconvert_exporter": "python",
   "pygments_lexer": "ipython3",
   "version": "3.8.5"
  },
  "toc": {
   "base_numbering": 1,
   "nav_menu": {},
   "number_sections": true,
   "sideBar": true,
   "skip_h1_title": false,
   "title_cell": "Table of Contents",
   "title_sidebar": "Contents",
   "toc_cell": false,
   "toc_position": {},
   "toc_section_display": true,
   "toc_window_display": false
  }
 },
 "nbformat": 4,
 "nbformat_minor": 1
}
