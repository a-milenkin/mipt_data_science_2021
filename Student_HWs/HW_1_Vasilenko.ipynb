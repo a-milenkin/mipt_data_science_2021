{
  "nbformat": 4,
  "nbformat_minor": 0,
  "metadata": {
    "kernelspec": {
      "display_name": "Python 3",
      "language": "python",
      "name": "python3"
    },
    "language_info": {
      "codemirror_mode": {
        "name": "ipython",
        "version": 3
      },
      "file_extension": ".py",
      "mimetype": "text/x-python",
      "name": "python",
      "nbconvert_exporter": "python",
      "pygments_lexer": "ipython3",
      "version": "3.8.5"
    },
    "toc": {
      "base_numbering": 1,
      "nav_menu": {},
      "number_sections": true,
      "sideBar": true,
      "skip_h1_title": false,
      "title_cell": "Table of Contents",
      "title_sidebar": "Contents",
      "toc_cell": false,
      "toc_position": {},
      "toc_section_display": true,
      "toc_window_display": false
    },
    "colab": {
      "name": "HW_1_Vasilenko.ipynb",
      "provenance": []
    }
  },
  "cells": [
    {
      "cell_type": "code",
      "metadata": {
        "id": "83ty4Wib_R9l"
      },
      "source": [
        "import numpy as np\n",
        "import pandas as pd\n",
        "\n",
        "import scipy\n",
        "\n",
        "import matplotlib.pyplot as plt\n",
        "import seaborn as sns; sns.set_theme()"
      ],
      "execution_count": 1,
      "outputs": []
    },
    {
      "cell_type": "markdown",
      "metadata": {
        "id": "_ZDK2xmH_R9p"
      },
      "source": [
        "# Домашнее задание по курсу анализа данных\n",
        "Версия от 12.10.2021\n",
        "\n",
        "Всего 50 баллов = 40 основных + 10 дополнительных\n",
        "\n",
        "**Оценка**  = (Количество баллов за работу*2 + 20)/10\n",
        "\n",
        "**Мягкий дедлайн: 30.10.2021  23:59**\n",
        "\n",
        "**Жесткий дедлайн: 6.11.2021  23:59**\n",
        "\n",
        "Присылать решение ссылкой на ваш **github** в телеграмм **@Aleron75** или на почту **milenkin.aa@phystech.edu**\n",
        "\n",
        "**Автор:** Миленькин Александр"
      ]
    },
    {
      "cell_type": "code",
      "metadata": {
        "colab": {
          "base_uri": "https://localhost:8080/",
          "height": 380
        },
        "id": "aydy7AlF_R9s",
        "outputId": "2a223b08-5c77-4800-dc9b-6c082cc2488c"
      },
      "source": [
        "df = pd.read_csv('people_data_clustering.csv', index_col=0)\n",
        "print('Размеры',df.shape)\n",
        "df.head(10)"
      ],
      "execution_count": 2,
      "outputs": [
        {
          "output_type": "stream",
          "name": "stdout",
          "text": [
            "Размеры (6000, 9)\n"
          ]
        },
        {
          "output_type": "execute_result",
          "data": {
            "text/html": [
              "<div>\n",
              "<style scoped>\n",
              "    .dataframe tbody tr th:only-of-type {\n",
              "        vertical-align: middle;\n",
              "    }\n",
              "\n",
              "    .dataframe tbody tr th {\n",
              "        vertical-align: top;\n",
              "    }\n",
              "\n",
              "    .dataframe thead th {\n",
              "        text-align: right;\n",
              "    }\n",
              "</style>\n",
              "<table border=\"1\" class=\"dataframe\">\n",
              "  <thead>\n",
              "    <tr style=\"text-align: right;\">\n",
              "      <th></th>\n",
              "      <th>id</th>\n",
              "      <th>was_married</th>\n",
              "      <th>childrens</th>\n",
              "      <th>salary</th>\n",
              "      <th>sex</th>\n",
              "      <th>age</th>\n",
              "      <th>profession</th>\n",
              "      <th>home_cost</th>\n",
              "      <th>drive_info</th>\n",
              "    </tr>\n",
              "  </thead>\n",
              "  <tbody>\n",
              "    <tr>\n",
              "      <th>0</th>\n",
              "      <td>0</td>\n",
              "      <td>1</td>\n",
              "      <td>4.0</td>\n",
              "      <td>45032.40</td>\n",
              "      <td>1</td>\n",
              "      <td>82.0</td>\n",
              "      <td>Engineer</td>\n",
              "      <td>1.003674e+07</td>\n",
              "      <td>NaN</td>\n",
              "    </tr>\n",
              "    <tr>\n",
              "      <th>1</th>\n",
              "      <td>1</td>\n",
              "      <td>1</td>\n",
              "      <td>2.0</td>\n",
              "      <td>202004.64</td>\n",
              "      <td>1</td>\n",
              "      <td>32.0</td>\n",
              "      <td>Doctor</td>\n",
              "      <td>1.014051e+07</td>\n",
              "      <td>0.0</td>\n",
              "    </tr>\n",
              "    <tr>\n",
              "      <th>2</th>\n",
              "      <td>2</td>\n",
              "      <td>1</td>\n",
              "      <td>6.0</td>\n",
              "      <td>213158.75</td>\n",
              "      <td>1</td>\n",
              "      <td>14.0</td>\n",
              "      <td>Entertainment</td>\n",
              "      <td>1.043318e+07</td>\n",
              "      <td>NaN</td>\n",
              "    </tr>\n",
              "    <tr>\n",
              "      <th>3</th>\n",
              "      <td>3</td>\n",
              "      <td>0</td>\n",
              "      <td>1.0</td>\n",
              "      <td>185692.78</td>\n",
              "      <td>0</td>\n",
              "      <td>10.0</td>\n",
              "      <td>Lawyer</td>\n",
              "      <td>1.004299e+07</td>\n",
              "      <td>NaN</td>\n",
              "    </tr>\n",
              "    <tr>\n",
              "      <th>4</th>\n",
              "      <td>4</td>\n",
              "      <td>1</td>\n",
              "      <td>9.0</td>\n",
              "      <td>132067.32</td>\n",
              "      <td>1</td>\n",
              "      <td>99.0</td>\n",
              "      <td>Artist</td>\n",
              "      <td>1.021908e+07</td>\n",
              "      <td>NaN</td>\n",
              "    </tr>\n",
              "    <tr>\n",
              "      <th>5</th>\n",
              "      <td>5</td>\n",
              "      <td>1</td>\n",
              "      <td>3.0</td>\n",
              "      <td>999.61</td>\n",
              "      <td>0</td>\n",
              "      <td>21.0</td>\n",
              "      <td>Homemaker</td>\n",
              "      <td>1.001654e+07</td>\n",
              "      <td>1.0</td>\n",
              "    </tr>\n",
              "    <tr>\n",
              "      <th>6</th>\n",
              "      <td>6</td>\n",
              "      <td>1</td>\n",
              "      <td>3.0</td>\n",
              "      <td>999.45</td>\n",
              "      <td>0</td>\n",
              "      <td>21.0</td>\n",
              "      <td>Homemaker</td>\n",
              "      <td>9.980108e+06</td>\n",
              "      <td>NaN</td>\n",
              "    </tr>\n",
              "    <tr>\n",
              "      <th>7</th>\n",
              "      <td>7</td>\n",
              "      <td>1</td>\n",
              "      <td>2.0</td>\n",
              "      <td>201589.78</td>\n",
              "      <td>1</td>\n",
              "      <td>32.0</td>\n",
              "      <td>Doctor</td>\n",
              "      <td>1.022668e+07</td>\n",
              "      <td>1.0</td>\n",
              "    </tr>\n",
              "    <tr>\n",
              "      <th>8</th>\n",
              "      <td>8</td>\n",
              "      <td>1</td>\n",
              "      <td>1.0</td>\n",
              "      <td>12912.69</td>\n",
              "      <td>1</td>\n",
              "      <td>9.0</td>\n",
              "      <td>Marketing</td>\n",
              "      <td>1.017361e+07</td>\n",
              "      <td>1.0</td>\n",
              "    </tr>\n",
              "    <tr>\n",
              "      <th>9</th>\n",
              "      <td>9</td>\n",
              "      <td>1</td>\n",
              "      <td>9.0</td>\n",
              "      <td>132369.86</td>\n",
              "      <td>1</td>\n",
              "      <td>100.0</td>\n",
              "      <td>Artist</td>\n",
              "      <td>1.018443e+07</td>\n",
              "      <td>NaN</td>\n",
              "    </tr>\n",
              "  </tbody>\n",
              "</table>\n",
              "</div>"
            ],
            "text/plain": [
              "   id  was_married  childrens  ...     profession     home_cost  drive_info\n",
              "0   0            1        4.0  ...       Engineer  1.003674e+07         NaN\n",
              "1   1            1        2.0  ...         Doctor  1.014051e+07         0.0\n",
              "2   2            1        6.0  ...  Entertainment  1.043318e+07         NaN\n",
              "3   3            0        1.0  ...         Lawyer  1.004299e+07         NaN\n",
              "4   4            1        9.0  ...         Artist  1.021908e+07         NaN\n",
              "5   5            1        3.0  ...      Homemaker  1.001654e+07         1.0\n",
              "6   6            1        3.0  ...      Homemaker  9.980108e+06         NaN\n",
              "7   7            1        2.0  ...         Doctor  1.022668e+07         1.0\n",
              "8   8            1        1.0  ...      Marketing  1.017361e+07         1.0\n",
              "9   9            1        9.0  ...         Artist  1.018443e+07         NaN\n",
              "\n",
              "[10 rows x 9 columns]"
            ]
          },
          "metadata": {},
          "execution_count": 2
        }
      ]
    },
    {
      "cell_type": "markdown",
      "metadata": {
        "id": "_cZRRC_0_R9u"
      },
      "source": [
        "<div class=\"alert alert-info\">\n",
        "<b>Про Датасет</b>\n",
        "    \n",
        "Датасет представляет собой информацию по жителям некоторого города.\n",
        "\n",
        "* `was_married` - Был ли когда-либо женат/замужем\n",
        "* `childrens` - Количество детей\n",
        "* `salary` - Уровень зарплаты\n",
        "* `sex` - Пол\n",
        "* `age` - Возраст\n",
        "* `home_cost` - Стоимость жилья\n",
        "* `Professon` - Профессия\n",
        "* `drive_info` - Есть ли водительские права\n",
        "    \n",
        "</div>"
      ]
    },
    {
      "cell_type": "markdown",
      "metadata": {
        "id": "VNpoSAaD_R9v"
      },
      "source": [
        "<div class=\"alert alert-info\">\n",
        "<b>Задание</b>\n",
        "\n",
        "Изучить датасет и, используя класстерный анализ, разбить пользователей на сегменты. Сделать выводы о причинах такой кластеризации."
      ]
    },
    {
      "cell_type": "markdown",
      "metadata": {
        "id": "m_BnO6_w_R9v"
      },
      "source": [
        "# Изучение датасета (5 баллов)\n",
        "* Какие признаки численные?\n",
        "* Какие признаки категориальные?\n",
        "* Какие признаки бинарные?\n",
        "* Какие признаки имеют нормальное распределение?\n",
        "* Какие признаки бессмысленные?"
      ]
    },
    {
      "cell_type": "code",
      "metadata": {
        "colab": {
          "base_uri": "https://localhost:8080/"
        },
        "id": "wNi5eEvaSPYe",
        "outputId": "4d49151b-c6ab-42ca-ff11-65a548e97992"
      },
      "source": [
        "df.info()"
      ],
      "execution_count": 3,
      "outputs": [
        {
          "output_type": "stream",
          "name": "stdout",
          "text": [
            "<class 'pandas.core.frame.DataFrame'>\n",
            "Int64Index: 6000 entries, 0 to 5999\n",
            "Data columns (total 9 columns):\n",
            " #   Column       Non-Null Count  Dtype  \n",
            "---  ------       --------------  -----  \n",
            " 0   id           6000 non-null   int64  \n",
            " 1   was_married  6000 non-null   int64  \n",
            " 2   childrens    6000 non-null   float64\n",
            " 3   salary       6000 non-null   float64\n",
            " 4   sex          6000 non-null   int64  \n",
            " 5   age          6000 non-null   float64\n",
            " 6   profession   6000 non-null   object \n",
            " 7   home_cost    6000 non-null   float64\n",
            " 8   drive_info   3230 non-null   float64\n",
            "dtypes: float64(5), int64(3), object(1)\n",
            "memory usage: 468.8+ KB\n"
          ]
        }
      ]
    },
    {
      "cell_type": "markdown",
      "metadata": {
        "id": "YloKyrzKO56W"
      },
      "source": [
        "Численные признаки:\n",
        "- id\n",
        "- childrens\n",
        "- salary\n",
        "- age\n",
        "- home_cost"
      ]
    },
    {
      "cell_type": "markdown",
      "metadata": {
        "id": "Yw6g5MxbO2Ot"
      },
      "source": [
        "Категориальные признаки:\n",
        "- profession"
      ]
    },
    {
      "cell_type": "markdown",
      "metadata": {
        "id": "icSE1CxLPRCT"
      },
      "source": [
        "Бинарные признаки:\n",
        "- was_married\n",
        "- sex\n",
        "- drive_info"
      ]
    },
    {
      "cell_type": "markdown",
      "metadata": {
        "id": "kzhu0f8XQO47"
      },
      "source": [
        "Нормальное распределение имеют признаки:\n",
        "- home_cost\n",
        "- age (если рассматривать промежуток до 60 лет, то похоже на нормальное)"
      ]
    },
    {
      "cell_type": "code",
      "metadata": {
        "colab": {
          "base_uri": "https://localhost:8080/",
          "height": 296
        },
        "id": "EGwUxhAUTpmN",
        "outputId": "41fb2501-3fcc-4811-89ef-782d979acd77"
      },
      "source": [
        "# Home_cost, но пока видно, что тут есть выбросы, построим тот же график, когда удалим выбросы\n",
        "snsplot = sns.kdeplot(df['home_cost'], shade=True)\n",
        "fig = snsplot.get_figure()"
      ],
      "execution_count": 4,
      "outputs": [
        {
          "output_type": "display_data",
          "data": {
            "image/png": "[encoded data removed]",
            "text/plain": [
              "<Figure size 432x288 with 1 Axes>"
            ]
          },
          "metadata": {
            "needs_background": "light"
          }
        }
      ]
    },
    {
      "cell_type": "code",
      "metadata": {
        "colab": {
          "base_uri": "https://localhost:8080/",
          "height": 285
        },
        "id": "zRwNs5dRSHZ4",
        "outputId": "54c4870e-72ca-4113-d28e-02624445147c"
      },
      "source": [
        "# Age\n",
        "snsplot = sns.kdeplot(df['age'], shade=True)\n",
        "fig = snsplot.get_figure()"
      ],
      "execution_count": 5,
      "outputs": [
        {
          "output_type": "display_data",
          "data": {
            "image/png": "[encoded data removed]",
            "text/plain": [
              "<Figure size 432x288 with 1 Axes>"
            ]
          },
          "metadata": {
            "needs_background": "light"
          }
        }
      ]
    },
    {
      "cell_type": "markdown",
      "metadata": {
        "id": "xqhoH8X_U4nh"
      },
      "source": [
        "Бессмысленные признаки:\n",
        "- id\n",
        "- drive_info\n"
      ]
    },
    {
      "cell_type": "markdown",
      "metadata": {
        "id": "qrVUezfC_R9w"
      },
      "source": [
        "# Чистка датасета (5 баллов)\n",
        "* Есть ли дубли в данных? \n",
        "* Есть ли пропуски в данных? \n",
        "* Как стоит поступить с выбросами? (удалить или заменить \\ `dropna()` или `fillna()` )\n",
        "* Удалить бесмысленные признаки (`drop()`)\n",
        "* Найти и удалить выбросы по признаку `home_cost`. Сколько их?"
      ]
    },
    {
      "cell_type": "markdown",
      "metadata": {
        "id": "quqZoRihZLAo"
      },
      "source": [
        "В данных есть дубли, 500 строк из 6000:"
      ]
    },
    {
      "cell_type": "code",
      "metadata": {
        "colab": {
          "base_uri": "https://localhost:8080/",
          "height": 423
        },
        "id": "yE5_giGXWpLu",
        "outputId": "da7b072b-9f39-490b-fe1a-a503401fe001"
      },
      "source": [
        "df.loc[df.duplicated(subset=['was_married','childrens', 'salary', 'sex', 'age', 'profession', 'home_cost', 'drive_info'])]"
      ],
      "execution_count": 6,
      "outputs": [
        {
          "output_type": "execute_result",
          "data": {
            "text/html": [
              "<div>\n",
              "<style scoped>\n",
              "    .dataframe tbody tr th:only-of-type {\n",
              "        vertical-align: middle;\n",
              "    }\n",
              "\n",
              "    .dataframe tbody tr th {\n",
              "        vertical-align: top;\n",
              "    }\n",
              "\n",
              "    .dataframe thead th {\n",
              "        text-align: right;\n",
              "    }\n",
              "</style>\n",
              "<table border=\"1\" class=\"dataframe\">\n",
              "  <thead>\n",
              "    <tr style=\"text-align: right;\">\n",
              "      <th></th>\n",
              "      <th>id</th>\n",
              "      <th>was_married</th>\n",
              "      <th>childrens</th>\n",
              "      <th>salary</th>\n",
              "      <th>sex</th>\n",
              "      <th>age</th>\n",
              "      <th>profession</th>\n",
              "      <th>home_cost</th>\n",
              "      <th>drive_info</th>\n",
              "    </tr>\n",
              "  </thead>\n",
              "  <tbody>\n",
              "    <tr>\n",
              "      <th>5500</th>\n",
              "      <td>0</td>\n",
              "      <td>1</td>\n",
              "      <td>4.0</td>\n",
              "      <td>45032.40</td>\n",
              "      <td>1</td>\n",
              "      <td>82.0</td>\n",
              "      <td>Engineer</td>\n",
              "      <td>1.003674e+07</td>\n",
              "      <td>NaN</td>\n",
              "    </tr>\n",
              "    <tr>\n",
              "      <th>5501</th>\n",
              "      <td>1</td>\n",
              "      <td>1</td>\n",
              "      <td>2.0</td>\n",
              "      <td>202004.64</td>\n",
              "      <td>1</td>\n",
              "      <td>32.0</td>\n",
              "      <td>Doctor</td>\n",
              "      <td>1.014051e+07</td>\n",
              "      <td>0.0</td>\n",
              "    </tr>\n",
              "    <tr>\n",
              "      <th>5502</th>\n",
              "      <td>2</td>\n",
              "      <td>1</td>\n",
              "      <td>6.0</td>\n",
              "      <td>213158.75</td>\n",
              "      <td>1</td>\n",
              "      <td>14.0</td>\n",
              "      <td>Entertainment</td>\n",
              "      <td>1.043318e+07</td>\n",
              "      <td>NaN</td>\n",
              "    </tr>\n",
              "    <tr>\n",
              "      <th>5503</th>\n",
              "      <td>3</td>\n",
              "      <td>0</td>\n",
              "      <td>1.0</td>\n",
              "      <td>185692.78</td>\n",
              "      <td>0</td>\n",
              "      <td>10.0</td>\n",
              "      <td>Lawyer</td>\n",
              "      <td>1.004299e+07</td>\n",
              "      <td>NaN</td>\n",
              "    </tr>\n",
              "    <tr>\n",
              "      <th>5504</th>\n",
              "      <td>4</td>\n",
              "      <td>1</td>\n",
              "      <td>9.0</td>\n",
              "      <td>132067.32</td>\n",
              "      <td>1</td>\n",
              "      <td>99.0</td>\n",
              "      <td>Artist</td>\n",
              "      <td>1.021908e+07</td>\n",
              "      <td>NaN</td>\n",
              "    </tr>\n",
              "    <tr>\n",
              "      <th>...</th>\n",
              "      <td>...</td>\n",
              "      <td>...</td>\n",
              "      <td>...</td>\n",
              "      <td>...</td>\n",
              "      <td>...</td>\n",
              "      <td>...</td>\n",
              "      <td>...</td>\n",
              "      <td>...</td>\n",
              "      <td>...</td>\n",
              "    </tr>\n",
              "    <tr>\n",
              "      <th>5995</th>\n",
              "      <td>495</td>\n",
              "      <td>1</td>\n",
              "      <td>0.0</td>\n",
              "      <td>37023.38</td>\n",
              "      <td>1</td>\n",
              "      <td>3.0</td>\n",
              "      <td>Executive</td>\n",
              "      <td>1.007038e+07</td>\n",
              "      <td>1.0</td>\n",
              "    </tr>\n",
              "    <tr>\n",
              "      <th>5996</th>\n",
              "      <td>496</td>\n",
              "      <td>1</td>\n",
              "      <td>3.0</td>\n",
              "      <td>999.66</td>\n",
              "      <td>0</td>\n",
              "      <td>20.0</td>\n",
              "      <td>Homemaker</td>\n",
              "      <td>1.009348e+07</td>\n",
              "      <td>1.0</td>\n",
              "    </tr>\n",
              "    <tr>\n",
              "      <th>5997</th>\n",
              "      <td>497</td>\n",
              "      <td>1</td>\n",
              "      <td>0.0</td>\n",
              "      <td>2042.76</td>\n",
              "      <td>0</td>\n",
              "      <td>17.0</td>\n",
              "      <td>Healthcare</td>\n",
              "      <td>1.016696e+07</td>\n",
              "      <td>0.0</td>\n",
              "    </tr>\n",
              "    <tr>\n",
              "      <th>5998</th>\n",
              "      <td>498</td>\n",
              "      <td>0</td>\n",
              "      <td>1.0</td>\n",
              "      <td>186560.45</td>\n",
              "      <td>0</td>\n",
              "      <td>10.0</td>\n",
              "      <td>Lawyer</td>\n",
              "      <td>1.025544e+07</td>\n",
              "      <td>NaN</td>\n",
              "    </tr>\n",
              "    <tr>\n",
              "      <th>5999</th>\n",
              "      <td>499</td>\n",
              "      <td>1</td>\n",
              "      <td>3.0</td>\n",
              "      <td>1000.71</td>\n",
              "      <td>0</td>\n",
              "      <td>21.0</td>\n",
              "      <td>Homemaker</td>\n",
              "      <td>1.027476e+07</td>\n",
              "      <td>NaN</td>\n",
              "    </tr>\n",
              "  </tbody>\n",
              "</table>\n",
              "<p>500 rows × 9 columns</p>\n",
              "</div>"
            ],
            "text/plain": [
              "       id  was_married  childrens  ...     profession     home_cost  drive_info\n",
              "5500    0            1        4.0  ...       Engineer  1.003674e+07         NaN\n",
              "5501    1            1        2.0  ...         Doctor  1.014051e+07         0.0\n",
              "5502    2            1        6.0  ...  Entertainment  1.043318e+07         NaN\n",
              "5503    3            0        1.0  ...         Lawyer  1.004299e+07         NaN\n",
              "5504    4            1        9.0  ...         Artist  1.021908e+07         NaN\n",
              "...   ...          ...        ...  ...            ...           ...         ...\n",
              "5995  495            1        0.0  ...      Executive  1.007038e+07         1.0\n",
              "5996  496            1        3.0  ...      Homemaker  1.009348e+07         1.0\n",
              "5997  497            1        0.0  ...     Healthcare  1.016696e+07         0.0\n",
              "5998  498            0        1.0  ...         Lawyer  1.025544e+07         NaN\n",
              "5999  499            1        3.0  ...      Homemaker  1.027476e+07         NaN\n",
              "\n",
              "[500 rows x 9 columns]"
            ]
          },
          "metadata": {},
          "execution_count": 6
        }
      ]
    },
    {
      "cell_type": "markdown",
      "metadata": {
        "id": "mo_KcZ1OZU50"
      },
      "source": [
        "Удалим дублированные данные"
      ]
    },
    {
      "cell_type": "code",
      "metadata": {
        "colab": {
          "base_uri": "https://localhost:8080/",
          "height": 423
        },
        "id": "yxJjLWKLY6oG",
        "outputId": "717f2ae8-9911-446d-9818-6d551748688c"
      },
      "source": [
        "df = df.drop_duplicates(subset=['was_married','childrens', 'salary', 'sex', 'age', 'profession', 'home_cost', 'drive_info'])\n",
        "df"
      ],
      "execution_count": 7,
      "outputs": [
        {
          "output_type": "execute_result",
          "data": {
            "text/html": [
              "<div>\n",
              "<style scoped>\n",
              "    .dataframe tbody tr th:only-of-type {\n",
              "        vertical-align: middle;\n",
              "    }\n",
              "\n",
              "    .dataframe tbody tr th {\n",
              "        vertical-align: top;\n",
              "    }\n",
              "\n",
              "    .dataframe thead th {\n",
              "        text-align: right;\n",
              "    }\n",
              "</style>\n",
              "<table border=\"1\" class=\"dataframe\">\n",
              "  <thead>\n",
              "    <tr style=\"text-align: right;\">\n",
              "      <th></th>\n",
              "      <th>id</th>\n",
              "      <th>was_married</th>\n",
              "      <th>childrens</th>\n",
              "      <th>salary</th>\n",
              "      <th>sex</th>\n",
              "      <th>age</th>\n",
              "      <th>profession</th>\n",
              "      <th>home_cost</th>\n",
              "      <th>drive_info</th>\n",
              "    </tr>\n",
              "  </thead>\n",
              "  <tbody>\n",
              "    <tr>\n",
              "      <th>0</th>\n",
              "      <td>0</td>\n",
              "      <td>1</td>\n",
              "      <td>4.0</td>\n",
              "      <td>45032.40</td>\n",
              "      <td>1</td>\n",
              "      <td>82.0</td>\n",
              "      <td>Engineer</td>\n",
              "      <td>1.003674e+07</td>\n",
              "      <td>NaN</td>\n",
              "    </tr>\n",
              "    <tr>\n",
              "      <th>1</th>\n",
              "      <td>1</td>\n",
              "      <td>1</td>\n",
              "      <td>2.0</td>\n",
              "      <td>202004.64</td>\n",
              "      <td>1</td>\n",
              "      <td>32.0</td>\n",
              "      <td>Doctor</td>\n",
              "      <td>1.014051e+07</td>\n",
              "      <td>0.0</td>\n",
              "    </tr>\n",
              "    <tr>\n",
              "      <th>2</th>\n",
              "      <td>2</td>\n",
              "      <td>1</td>\n",
              "      <td>6.0</td>\n",
              "      <td>213158.75</td>\n",
              "      <td>1</td>\n",
              "      <td>14.0</td>\n",
              "      <td>Entertainment</td>\n",
              "      <td>1.043318e+07</td>\n",
              "      <td>NaN</td>\n",
              "    </tr>\n",
              "    <tr>\n",
              "      <th>3</th>\n",
              "      <td>3</td>\n",
              "      <td>0</td>\n",
              "      <td>1.0</td>\n",
              "      <td>185692.78</td>\n",
              "      <td>0</td>\n",
              "      <td>10.0</td>\n",
              "      <td>Lawyer</td>\n",
              "      <td>1.004299e+07</td>\n",
              "      <td>NaN</td>\n",
              "    </tr>\n",
              "    <tr>\n",
              "      <th>4</th>\n",
              "      <td>4</td>\n",
              "      <td>1</td>\n",
              "      <td>9.0</td>\n",
              "      <td>132067.32</td>\n",
              "      <td>1</td>\n",
              "      <td>99.0</td>\n",
              "      <td>Artist</td>\n",
              "      <td>1.021908e+07</td>\n",
              "      <td>NaN</td>\n",
              "    </tr>\n",
              "    <tr>\n",
              "      <th>...</th>\n",
              "      <td>...</td>\n",
              "      <td>...</td>\n",
              "      <td>...</td>\n",
              "      <td>...</td>\n",
              "      <td>...</td>\n",
              "      <td>...</td>\n",
              "      <td>...</td>\n",
              "      <td>...</td>\n",
              "      <td>...</td>\n",
              "    </tr>\n",
              "    <tr>\n",
              "      <th>5495</th>\n",
              "      <td>5495</td>\n",
              "      <td>1</td>\n",
              "      <td>1.0</td>\n",
              "      <td>12676.77</td>\n",
              "      <td>1</td>\n",
              "      <td>9.0</td>\n",
              "      <td>Marketing</td>\n",
              "      <td>1.027045e+07</td>\n",
              "      <td>0.0</td>\n",
              "    </tr>\n",
              "    <tr>\n",
              "      <th>5496</th>\n",
              "      <td>5496</td>\n",
              "      <td>1</td>\n",
              "      <td>6.0</td>\n",
              "      <td>215570.69</td>\n",
              "      <td>1</td>\n",
              "      <td>13.0</td>\n",
              "      <td>Entertainment</td>\n",
              "      <td>1.032767e+07</td>\n",
              "      <td>1.0</td>\n",
              "    </tr>\n",
              "    <tr>\n",
              "      <th>5497</th>\n",
              "      <td>5497</td>\n",
              "      <td>1</td>\n",
              "      <td>0.0</td>\n",
              "      <td>34734.29</td>\n",
              "      <td>1</td>\n",
              "      <td>3.0</td>\n",
              "      <td>Executive</td>\n",
              "      <td>1.010075e+07</td>\n",
              "      <td>NaN</td>\n",
              "    </tr>\n",
              "    <tr>\n",
              "      <th>5498</th>\n",
              "      <td>5498</td>\n",
              "      <td>1</td>\n",
              "      <td>1.0</td>\n",
              "      <td>12667.06</td>\n",
              "      <td>1</td>\n",
              "      <td>9.0</td>\n",
              "      <td>Marketing</td>\n",
              "      <td>1.011321e+07</td>\n",
              "      <td>1.0</td>\n",
              "    </tr>\n",
              "    <tr>\n",
              "      <th>5499</th>\n",
              "      <td>5499</td>\n",
              "      <td>0</td>\n",
              "      <td>2.0</td>\n",
              "      <td>201840.19</td>\n",
              "      <td>1</td>\n",
              "      <td>33.0</td>\n",
              "      <td>Doctor</td>\n",
              "      <td>1.022512e+07</td>\n",
              "      <td>NaN</td>\n",
              "    </tr>\n",
              "  </tbody>\n",
              "</table>\n",
              "<p>5500 rows × 9 columns</p>\n",
              "</div>"
            ],
            "text/plain": [
              "        id  was_married  childrens  ...     profession     home_cost  drive_info\n",
              "0        0            1        4.0  ...       Engineer  1.003674e+07         NaN\n",
              "1        1            1        2.0  ...         Doctor  1.014051e+07         0.0\n",
              "2        2            1        6.0  ...  Entertainment  1.043318e+07         NaN\n",
              "3        3            0        1.0  ...         Lawyer  1.004299e+07         NaN\n",
              "4        4            1        9.0  ...         Artist  1.021908e+07         NaN\n",
              "...    ...          ...        ...  ...            ...           ...         ...\n",
              "5495  5495            1        1.0  ...      Marketing  1.027045e+07         0.0\n",
              "5496  5496            1        6.0  ...  Entertainment  1.032767e+07         1.0\n",
              "5497  5497            1        0.0  ...      Executive  1.010075e+07         NaN\n",
              "5498  5498            1        1.0  ...      Marketing  1.011321e+07         1.0\n",
              "5499  5499            0        2.0  ...         Doctor  1.022512e+07         NaN\n",
              "\n",
              "[5500 rows x 9 columns]"
            ]
          },
          "metadata": {},
          "execution_count": 7
        }
      ]
    },
    {
      "cell_type": "markdown",
      "metadata": {
        "id": "1Wh9aWOrGxYv"
      },
      "source": [
        "Теперь размер нашего датафрейма 5500 * 9"
      ]
    },
    {
      "cell_type": "markdown",
      "metadata": {
        "id": "7t9iikaPZghu"
      },
      "source": [
        "В данных есть пропуски:\n",
        "\n",
        "2524 пропуска в признаке drive_info"
      ]
    },
    {
      "cell_type": "code",
      "metadata": {
        "colab": {
          "base_uri": "https://localhost:8080/"
        },
        "id": "gaBm5jMWZf5c",
        "outputId": "7aba0122-7c15-4163-9180-3bd3cfa4992d"
      },
      "source": [
        "df.isnull().sum()"
      ],
      "execution_count": 8,
      "outputs": [
        {
          "output_type": "execute_result",
          "data": {
            "text/plain": [
              "id                0\n",
              "was_married       0\n",
              "childrens         0\n",
              "salary            0\n",
              "sex               0\n",
              "age               0\n",
              "profession        0\n",
              "home_cost         0\n",
              "drive_info     2524\n",
              "dtype: int64"
            ]
          },
          "metadata": {},
          "execution_count": 8
        }
      ]
    },
    {
      "cell_type": "markdown",
      "metadata": {
        "id": "3UwfKUt5Z-BQ"
      },
      "source": [
        "Наверно, лучше будет заполнить пропуски рандомным значением 0 или 1"
      ]
    },
    {
      "cell_type": "code",
      "metadata": {
        "colab": {
          "base_uri": "https://localhost:8080/"
        },
        "id": "PpnGSMHpaLAL",
        "outputId": "456d517c-d6f2-4812-fa4f-793181206644"
      },
      "source": [
        "from random import randint\n",
        "a = randint(0, 1)\n",
        "\n",
        "df = df.fillna(a)\n",
        "print(df)"
      ],
      "execution_count": 9,
      "outputs": [
        {
          "output_type": "stream",
          "name": "stdout",
          "text": [
            "        id  was_married  childrens  ...     profession     home_cost  drive_info\n",
            "0        0            1        4.0  ...       Engineer  1.003674e+07         0.0\n",
            "1        1            1        2.0  ...         Doctor  1.014051e+07         0.0\n",
            "2        2            1        6.0  ...  Entertainment  1.043318e+07         0.0\n",
            "3        3            0        1.0  ...         Lawyer  1.004299e+07         0.0\n",
            "4        4            1        9.0  ...         Artist  1.021908e+07         0.0\n",
            "...    ...          ...        ...  ...            ...           ...         ...\n",
            "5495  5495            1        1.0  ...      Marketing  1.027045e+07         0.0\n",
            "5496  5496            1        6.0  ...  Entertainment  1.032767e+07         1.0\n",
            "5497  5497            1        0.0  ...      Executive  1.010075e+07         0.0\n",
            "5498  5498            1        1.0  ...      Marketing  1.011321e+07         1.0\n",
            "5499  5499            0        2.0  ...         Doctor  1.022512e+07         0.0\n",
            "\n",
            "[5500 rows x 9 columns]\n"
          ]
        }
      ]
    },
    {
      "cell_type": "markdown",
      "metadata": {
        "id": "mBKDZeWi7Xj3"
      },
      "source": [
        "(Но дальше мы все равно удалим этот признак, так что можно было не заполнять)"
      ]
    },
    {
      "cell_type": "markdown",
      "metadata": {
        "id": "WpHkVv6mdlUZ"
      },
      "source": [
        "Удалим бессмысленные признаки:\n",
        "- id\n",
        "- drive_info"
      ]
    },
    {
      "cell_type": "code",
      "metadata": {
        "id": "3RyjW-Bma9vD"
      },
      "source": [
        "df.drop('id', inplace=True, axis=1)\n",
        "df.drop('drive_info', inplace=True, axis=1)"
      ],
      "execution_count": 10,
      "outputs": []
    },
    {
      "cell_type": "code",
      "metadata": {
        "colab": {
          "base_uri": "https://localhost:8080/"
        },
        "id": "64zazO1eg4nK",
        "outputId": "093402cd-ffe4-4d3b-c44e-41f9ffb512e4"
      },
      "source": [
        "print(df)"
      ],
      "execution_count": 11,
      "outputs": [
        {
          "output_type": "stream",
          "name": "stdout",
          "text": [
            "      was_married  childrens     salary  sex   age     profession     home_cost\n",
            "0               1        4.0   45032.40    1  82.0       Engineer  1.003674e+07\n",
            "1               1        2.0  202004.64    1  32.0         Doctor  1.014051e+07\n",
            "2               1        6.0  213158.75    1  14.0  Entertainment  1.043318e+07\n",
            "3               0        1.0  185692.78    0  10.0         Lawyer  1.004299e+07\n",
            "4               1        9.0  132067.32    1  99.0         Artist  1.021908e+07\n",
            "...           ...        ...        ...  ...   ...            ...           ...\n",
            "5495            1        1.0   12676.77    1   9.0      Marketing  1.027045e+07\n",
            "5496            1        6.0  215570.69    1  13.0  Entertainment  1.032767e+07\n",
            "5497            1        0.0   34734.29    1   3.0      Executive  1.010075e+07\n",
            "5498            1        1.0   12667.06    1   9.0      Marketing  1.011321e+07\n",
            "5499            0        2.0  201840.19    1  33.0         Doctor  1.022512e+07\n",
            "\n",
            "[5500 rows x 7 columns]\n"
          ]
        }
      ]
    },
    {
      "cell_type": "markdown",
      "metadata": {
        "id": "IdEU9NznHOEj"
      },
      "source": [
        "Теперь размер датафрейма стал 5500 * 7"
      ]
    },
    {
      "cell_type": "markdown",
      "metadata": {
        "id": "2oqideTkfmc_"
      },
      "source": [
        "Удалим выбросы по признаку home_cost:\n",
        "\n",
        "Визуализируем выбросы с помощью boxplot"
      ]
    },
    {
      "cell_type": "code",
      "metadata": {
        "colab": {
          "base_uri": "https://localhost:8080/",
          "height": 297
        },
        "id": "ob1KhJ6wu4P3",
        "outputId": "2397f84c-d8a6-4a3d-ee81-1644964fbc2f"
      },
      "source": [
        "numeric_col = ['home_cost']\n",
        "df.boxplot(numeric_col)"
      ],
      "execution_count": 12,
      "outputs": [
        {
          "output_type": "execute_result",
          "data": {
            "text/plain": [
              "<matplotlib.axes._subplots.AxesSubplot at 0x7f26681f8b90>"
            ]
          },
          "metadata": {},
          "execution_count": 12
        },
        {
          "output_type": "display_data",
          "data": {
            "image/png": "[encoded data removed]",
            "text/plain": [
              "<Figure size 432x288 with 1 Axes>"
            ]
          },
          "metadata": {
            "needs_background": "light"
          }
        }
      ]
    },
    {
      "cell_type": "code",
      "metadata": {
        "colab": {
          "base_uri": "https://localhost:8080/"
        },
        "id": "wp1mVMjcUWmy",
        "outputId": "a2517aa5-66ea-4909-f99a-034d884fe037"
      },
      "source": [
        "#Найдем выбросы и удалим из датафрейма\n",
        "low_kv = df['home_cost'] > 1.1e7\n",
        "high_kv = df['home_cost'] < 0.985e7\n",
        "df[low_kv | high_kv].index"
      ],
      "execution_count": 13,
      "outputs": [
        {
          "output_type": "execute_result",
          "data": {
            "text/plain": [
              "Int64Index([173, 1140, 1779, 2070, 3307, 3380, 4014, 4365, 4727], dtype='int64')"
            ]
          },
          "metadata": {},
          "execution_count": 13
        }
      ]
    },
    {
      "cell_type": "code",
      "metadata": {
        "id": "DIwJ64TUUako"
      },
      "source": [
        "df = df.drop(df[low_kv | high_kv].index, axis=0)"
      ],
      "execution_count": 14,
      "outputs": []
    },
    {
      "cell_type": "code",
      "metadata": {
        "colab": {
          "base_uri": "https://localhost:8080/",
          "height": 423
        },
        "id": "G4wjiK05TDER",
        "outputId": "902be13a-0623-424f-9d0f-4406c053836c"
      },
      "source": [
        "df"
      ],
      "execution_count": 15,
      "outputs": [
        {
          "output_type": "execute_result",
          "data": {
            "text/html": [
              "<div>\n",
              "<style scoped>\n",
              "    .dataframe tbody tr th:only-of-type {\n",
              "        vertical-align: middle;\n",
              "    }\n",
              "\n",
              "    .dataframe tbody tr th {\n",
              "        vertical-align: top;\n",
              "    }\n",
              "\n",
              "    .dataframe thead th {\n",
              "        text-align: right;\n",
              "    }\n",
              "</style>\n",
              "<table border=\"1\" class=\"dataframe\">\n",
              "  <thead>\n",
              "    <tr style=\"text-align: right;\">\n",
              "      <th></th>\n",
              "      <th>was_married</th>\n",
              "      <th>childrens</th>\n",
              "      <th>salary</th>\n",
              "      <th>sex</th>\n",
              "      <th>age</th>\n",
              "      <th>profession</th>\n",
              "      <th>home_cost</th>\n",
              "    </tr>\n",
              "  </thead>\n",
              "  <tbody>\n",
              "    <tr>\n",
              "      <th>0</th>\n",
              "      <td>1</td>\n",
              "      <td>4.0</td>\n",
              "      <td>45032.40</td>\n",
              "      <td>1</td>\n",
              "      <td>82.0</td>\n",
              "      <td>Engineer</td>\n",
              "      <td>1.003674e+07</td>\n",
              "    </tr>\n",
              "    <tr>\n",
              "      <th>1</th>\n",
              "      <td>1</td>\n",
              "      <td>2.0</td>\n",
              "      <td>202004.64</td>\n",
              "      <td>1</td>\n",
              "      <td>32.0</td>\n",
              "      <td>Doctor</td>\n",
              "      <td>1.014051e+07</td>\n",
              "    </tr>\n",
              "    <tr>\n",
              "      <th>2</th>\n",
              "      <td>1</td>\n",
              "      <td>6.0</td>\n",
              "      <td>213158.75</td>\n",
              "      <td>1</td>\n",
              "      <td>14.0</td>\n",
              "      <td>Entertainment</td>\n",
              "      <td>1.043318e+07</td>\n",
              "    </tr>\n",
              "    <tr>\n",
              "      <th>3</th>\n",
              "      <td>0</td>\n",
              "      <td>1.0</td>\n",
              "      <td>185692.78</td>\n",
              "      <td>0</td>\n",
              "      <td>10.0</td>\n",
              "      <td>Lawyer</td>\n",
              "      <td>1.004299e+07</td>\n",
              "    </tr>\n",
              "    <tr>\n",
              "      <th>4</th>\n",
              "      <td>1</td>\n",
              "      <td>9.0</td>\n",
              "      <td>132067.32</td>\n",
              "      <td>1</td>\n",
              "      <td>99.0</td>\n",
              "      <td>Artist</td>\n",
              "      <td>1.021908e+07</td>\n",
              "    </tr>\n",
              "    <tr>\n",
              "      <th>...</th>\n",
              "      <td>...</td>\n",
              "      <td>...</td>\n",
              "      <td>...</td>\n",
              "      <td>...</td>\n",
              "      <td>...</td>\n",
              "      <td>...</td>\n",
              "      <td>...</td>\n",
              "    </tr>\n",
              "    <tr>\n",
              "      <th>5495</th>\n",
              "      <td>1</td>\n",
              "      <td>1.0</td>\n",
              "      <td>12676.77</td>\n",
              "      <td>1</td>\n",
              "      <td>9.0</td>\n",
              "      <td>Marketing</td>\n",
              "      <td>1.027045e+07</td>\n",
              "    </tr>\n",
              "    <tr>\n",
              "      <th>5496</th>\n",
              "      <td>1</td>\n",
              "      <td>6.0</td>\n",
              "      <td>215570.69</td>\n",
              "      <td>1</td>\n",
              "      <td>13.0</td>\n",
              "      <td>Entertainment</td>\n",
              "      <td>1.032767e+07</td>\n",
              "    </tr>\n",
              "    <tr>\n",
              "      <th>5497</th>\n",
              "      <td>1</td>\n",
              "      <td>0.0</td>\n",
              "      <td>34734.29</td>\n",
              "      <td>1</td>\n",
              "      <td>3.0</td>\n",
              "      <td>Executive</td>\n",
              "      <td>1.010075e+07</td>\n",
              "    </tr>\n",
              "    <tr>\n",
              "      <th>5498</th>\n",
              "      <td>1</td>\n",
              "      <td>1.0</td>\n",
              "      <td>12667.06</td>\n",
              "      <td>1</td>\n",
              "      <td>9.0</td>\n",
              "      <td>Marketing</td>\n",
              "      <td>1.011321e+07</td>\n",
              "    </tr>\n",
              "    <tr>\n",
              "      <th>5499</th>\n",
              "      <td>0</td>\n",
              "      <td>2.0</td>\n",
              "      <td>201840.19</td>\n",
              "      <td>1</td>\n",
              "      <td>33.0</td>\n",
              "      <td>Doctor</td>\n",
              "      <td>1.022512e+07</td>\n",
              "    </tr>\n",
              "  </tbody>\n",
              "</table>\n",
              "<p>5491 rows × 7 columns</p>\n",
              "</div>"
            ],
            "text/plain": [
              "      was_married  childrens     salary  sex   age     profession     home_cost\n",
              "0               1        4.0   45032.40    1  82.0       Engineer  1.003674e+07\n",
              "1               1        2.0  202004.64    1  32.0         Doctor  1.014051e+07\n",
              "2               1        6.0  213158.75    1  14.0  Entertainment  1.043318e+07\n",
              "3               0        1.0  185692.78    0  10.0         Lawyer  1.004299e+07\n",
              "4               1        9.0  132067.32    1  99.0         Artist  1.021908e+07\n",
              "...           ...        ...        ...  ...   ...            ...           ...\n",
              "5495            1        1.0   12676.77    1   9.0      Marketing  1.027045e+07\n",
              "5496            1        6.0  215570.69    1  13.0  Entertainment  1.032767e+07\n",
              "5497            1        0.0   34734.29    1   3.0      Executive  1.010075e+07\n",
              "5498            1        1.0   12667.06    1   9.0      Marketing  1.011321e+07\n",
              "5499            0        2.0  201840.19    1  33.0         Doctor  1.022512e+07\n",
              "\n",
              "[5491 rows x 7 columns]"
            ]
          },
          "metadata": {},
          "execution_count": 15
        }
      ]
    },
    {
      "cell_type": "markdown",
      "metadata": {
        "id": "wacjEzqDTErI"
      },
      "source": [
        "Размер нашего датафрейма стал 5491*7. \n",
        "\n",
        "Выбросов было 9"
      ]
    },
    {
      "cell_type": "code",
      "metadata": {
        "colab": {
          "base_uri": "https://localhost:8080/",
          "height": 297
        },
        "id": "3Mv3PhB7wJuz",
        "outputId": "76de9abc-fe17-4941-9dde-9a8fd7cc3f75"
      },
      "source": [
        "numeric_col = ['home_cost']\n",
        "df.boxplot(numeric_col)"
      ],
      "execution_count": 16,
      "outputs": [
        {
          "output_type": "execute_result",
          "data": {
            "text/plain": [
              "<matplotlib.axes._subplots.AxesSubplot at 0x7f26681eb190>"
            ]
          },
          "metadata": {},
          "execution_count": 16
        },
        {
          "output_type": "display_data",
          "data": {
            "image/png": "[encoded data removed]",
            "text/plain": [
              "<Figure size 432x288 with 1 Axes>"
            ]
          },
          "metadata": {
            "needs_background": "light"
          }
        }
      ]
    },
    {
      "cell_type": "code",
      "metadata": {
        "colab": {
          "base_uri": "https://localhost:8080/",
          "height": 296
        },
        "id": "zpelr6D0Tl-G",
        "outputId": "98d4668c-550e-4444-b19d-4a2407c2fdfe"
      },
      "source": [
        "# Home_cost, после удаления выбросов - действительно, похоже на нормальное распределение\n",
        "snsplot = sns.kdeplot(df['home_cost'], shade=True)\n",
        "fig = snsplot.get_figure()"
      ],
      "execution_count": 17,
      "outputs": [
        {
          "output_type": "display_data",
          "data": {
            "image/png": "[encoded data removed]",
            "text/plain": [
              "<Figure size 432x288 with 1 Axes>"
            ]
          },
          "metadata": {
            "needs_background": "light"
          }
        }
      ]
    },
    {
      "cell_type": "markdown",
      "metadata": {
        "id": "peRyVhkT_R9x"
      },
      "source": [
        "# Изучение зависимых признаков (5 балла). \n",
        "* Построить матрицу корреляций\n",
        "* Визуализировать матрицу корреляции с помощью heatmap\n",
        "* Сделать выводы по самым скоррелированные признакам\n",
        "* Построить график зависимости между двумя самыми зависимыми признаками\n",
        "\n"
      ]
    },
    {
      "cell_type": "markdown",
      "metadata": {
        "id": "ZQJoWcOPiRqj"
      },
      "source": [
        "Матрица корреляций"
      ]
    },
    {
      "cell_type": "code",
      "metadata": {
        "colab": {
          "base_uri": "https://localhost:8080/",
          "height": 237
        },
        "id": "r6s8BRrFY6HG",
        "outputId": "a4e1a79e-8338-493e-fb2b-8510d5913d3b"
      },
      "source": [
        "df.corr()"
      ],
      "execution_count": 18,
      "outputs": [
        {
          "output_type": "execute_result",
          "data": {
            "text/html": [
              "<div>\n",
              "<style scoped>\n",
              "    .dataframe tbody tr th:only-of-type {\n",
              "        vertical-align: middle;\n",
              "    }\n",
              "\n",
              "    .dataframe tbody tr th {\n",
              "        vertical-align: top;\n",
              "    }\n",
              "\n",
              "    .dataframe thead th {\n",
              "        text-align: right;\n",
              "    }\n",
              "</style>\n",
              "<table border=\"1\" class=\"dataframe\">\n",
              "  <thead>\n",
              "    <tr style=\"text-align: right;\">\n",
              "      <th></th>\n",
              "      <th>was_married</th>\n",
              "      <th>childrens</th>\n",
              "      <th>salary</th>\n",
              "      <th>sex</th>\n",
              "      <th>age</th>\n",
              "      <th>home_cost</th>\n",
              "    </tr>\n",
              "  </thead>\n",
              "  <tbody>\n",
              "    <tr>\n",
              "      <th>was_married</th>\n",
              "      <td>1.000000</td>\n",
              "      <td>0.242873</td>\n",
              "      <td>-0.500144</td>\n",
              "      <td>0.338104</td>\n",
              "      <td>0.200798</td>\n",
              "      <td>-0.342455</td>\n",
              "    </tr>\n",
              "    <tr>\n",
              "      <th>childrens</th>\n",
              "      <td>0.242873</td>\n",
              "      <td>1.000000</td>\n",
              "      <td>0.393691</td>\n",
              "      <td>0.386080</td>\n",
              "      <td>0.742385</td>\n",
              "      <td>0.284430</td>\n",
              "    </tr>\n",
              "    <tr>\n",
              "      <th>salary</th>\n",
              "      <td>-0.500144</td>\n",
              "      <td>0.393691</td>\n",
              "      <td>1.000000</td>\n",
              "      <td>0.244657</td>\n",
              "      <td>0.075623</td>\n",
              "      <td>0.710077</td>\n",
              "    </tr>\n",
              "    <tr>\n",
              "      <th>sex</th>\n",
              "      <td>0.338104</td>\n",
              "      <td>0.386080</td>\n",
              "      <td>0.244657</td>\n",
              "      <td>1.000000</td>\n",
              "      <td>0.340387</td>\n",
              "      <td>0.179874</td>\n",
              "    </tr>\n",
              "    <tr>\n",
              "      <th>age</th>\n",
              "      <td>0.200798</td>\n",
              "      <td>0.742385</td>\n",
              "      <td>0.075623</td>\n",
              "      <td>0.340387</td>\n",
              "      <td>1.000000</td>\n",
              "      <td>0.054570</td>\n",
              "    </tr>\n",
              "    <tr>\n",
              "      <th>home_cost</th>\n",
              "      <td>-0.342455</td>\n",
              "      <td>0.284430</td>\n",
              "      <td>0.710077</td>\n",
              "      <td>0.179874</td>\n",
              "      <td>0.054570</td>\n",
              "      <td>1.000000</td>\n",
              "    </tr>\n",
              "  </tbody>\n",
              "</table>\n",
              "</div>"
            ],
            "text/plain": [
              "             was_married  childrens    salary       sex       age  home_cost\n",
              "was_married     1.000000   0.242873 -0.500144  0.338104  0.200798  -0.342455\n",
              "childrens       0.242873   1.000000  0.393691  0.386080  0.742385   0.284430\n",
              "salary         -0.500144   0.393691  1.000000  0.244657  0.075623   0.710077\n",
              "sex             0.338104   0.386080  0.244657  1.000000  0.340387   0.179874\n",
              "age             0.200798   0.742385  0.075623  0.340387  1.000000   0.054570\n",
              "home_cost      -0.342455   0.284430  0.710077  0.179874  0.054570   1.000000"
            ]
          },
          "metadata": {},
          "execution_count": 18
        }
      ]
    },
    {
      "cell_type": "markdown",
      "metadata": {
        "id": "qMU8RNNsicrm"
      },
      "source": [
        "С помощью heatmap"
      ]
    },
    {
      "cell_type": "code",
      "metadata": {
        "colab": {
          "base_uri": "https://localhost:8080/",
          "height": 507
        },
        "id": "F7geXxas_R9y",
        "outputId": "dcf0baf7-f6e8-46c9-8bd2-bdfcf9c38659"
      },
      "source": [
        "plt.figure(figsize=(10, 8))\n",
        "sns.heatmap(df.corr(), annot=True)"
      ],
      "execution_count": 19,
      "outputs": [
        {
          "output_type": "execute_result",
          "data": {
            "text/plain": [
              "<matplotlib.axes._subplots.AxesSubplot at 0x7f266ba455d0>"
            ]
          },
          "metadata": {},
          "execution_count": 19
        },
        {
          "output_type": "display_data",
          "data": {
            "image/png": "[encoded data removed]",
            "text/plain": [
              "<Figure size 720x576 with 2 Axes>"
            ]
          },
          "metadata": {
            "needs_background": "light"
          }
        }
      ]
    },
    {
      "cell_type": "markdown",
      "metadata": {
        "id": "aCvaJ8Udif8P"
      },
      "source": [
        "Самыми скореллированными признаками являются age и childrens, salary и home_cost\n",
        "\n",
        "Еще стоит отметить, что небольшую антизависимость имеют признаки salary и was_married"
      ]
    },
    {
      "cell_type": "code",
      "metadata": {
        "colab": {
          "base_uri": "https://localhost:8080/",
          "height": 612
        },
        "id": "hvwOXt4WmmWq",
        "outputId": "a56a1467-85d5-45b4-f1be-4b592e081ce6"
      },
      "source": [
        "def plotting_corr_features():\n",
        "    x = df['age']\n",
        "    y = df['childrens']\n",
        "    fig, ax = plt.subplots(figsize=(12,8), dpi= 80) \n",
        "    pd.DataFrame(np.array([x, y]).T).plot.scatter(0, 1, s=40, grid=True, ax=ax)\n",
        "    plt.xlabel('Age')\n",
        "    plt.ylabel('Childrens')\n",
        "    plt.title('Зависимость колличества детей от возраста', fontsize=14)\n",
        "\n",
        "    N = df['age'].max()\n",
        "    mx = x.sum()/N\n",
        "    my = y.sum()/N\n",
        "    a2 = np.dot(x.T, x)/N\n",
        "    a11 = np.dot(x.T, y)/N\n",
        "    \n",
        "    kk = (a11 - mx*my)/(a2 - mx**2)\n",
        "    bb = my - kk*mx\n",
        "    ff = np.array([kk*z+bb for z in range(int(N))])\n",
        "    plt.plot(ff, c='red')\n",
        "    plt.show()\n",
        "\n",
        "plotting_corr_features()"
      ],
      "execution_count": 20,
      "outputs": [
        {
          "output_type": "stream",
          "name": "stderr",
          "text": [
            "*c* argument looks like a single numeric RGB or RGBA sequence, which should be avoided as value-mapping will have precedence in case its length matches with *x* & *y*.  Please use the *color* keyword-argument or provide a 2-D array with a single row if you intend to specify the same RGB or RGBA value for all points.\n"
          ]
        },
        {
          "output_type": "display_data",
          "data": {
            "image/png": "[encoded data removed]",
            "text/plain": [
              "<Figure size 960x640 with 1 Axes>"
            ]
          },
          "metadata": {
            "needs_background": "light"
          }
        }
      ]
    },
    {
      "cell_type": "markdown",
      "metadata": {
        "id": "RP7Rh196BCvj"
      },
      "source": [
        "Нарисовала еще прямую, чтобы показать, что признаки линейно зависимы"
      ]
    },
    {
      "cell_type": "markdown",
      "metadata": {
        "id": "h-cyc7I9_R9y"
      },
      "source": [
        "# Нормировка признаков (3 балла)\n",
        "* Отнормировать данные\n",
        "* Обосновать выбор нормировки"
      ]
    },
    {
      "cell_type": "markdown",
      "metadata": {
        "id": "ZGqNG_6vZTA7"
      },
      "source": [
        "В нормировке нуждаются только численные признаки:\n",
        "'childrens', 'salary', 'age', 'home_cost'"
      ]
    },
    {
      "cell_type": "code",
      "metadata": {
        "colab": {
          "base_uri": "https://localhost:8080/"
        },
        "id": "2DOyUbrtWzfH",
        "outputId": "5451aaa0-eb03-4f53-8c5f-94d74cd07b6f"
      },
      "source": [
        "from sklearn.preprocessing import StandardScaler, MinMaxScaler, RobustScaler \n",
        "from sklearn import preprocessing \n",
        "\n",
        "names = ['childrens', 'salary', 'age', 'home_cost'] \n",
        "ms = MinMaxScaler()\n",
        "normal_data = df\n",
        "normal_data[names] = ms.fit_transform(df[names])\n",
        "normal_data[names]\n",
        "\n",
        "print(normal_data)"
      ],
      "execution_count": 21,
      "outputs": [
        {
          "output_type": "stream",
          "name": "stdout",
          "text": [
            "      was_married  childrens    salary  sex       age     profession  home_cost\n",
            "0               1   0.444444  0.203134    1  0.816327       Engineer   0.265805\n",
            "1               1   0.222222  0.927245    1  0.306122         Doctor   0.414884\n",
            "2               1   0.666667  0.978699    1  0.122449  Entertainment   0.835341\n",
            "3               0   0.111111  0.851998    0  0.081633         Lawyer   0.274771\n",
            "4               1   1.000000  0.604625    1  0.989796         Artist   0.527758\n",
            "...           ...        ...       ...  ...       ...            ...        ...\n",
            "5495            1   0.111111  0.053878    1  0.071429      Marketing   0.601553\n",
            "5496            1   0.666667  0.989825    1  0.112245  Entertainment   0.683764\n",
            "5497            1   0.000000  0.155629    1  0.010204      Executive   0.357761\n",
            "5498            1   0.111111  0.053833    1  0.071429      Marketing   0.375654\n",
            "5499            0   0.222222  0.926486    1  0.316327         Doctor   0.536439\n",
            "\n",
            "[5491 rows x 7 columns]\n"
          ]
        }
      ]
    },
    {
      "cell_type": "markdown",
      "metadata": {
        "id": "p6_wvbxDSXJa"
      },
      "source": [
        "Понравился MinMaxScaler, он нормирует значения от 0 до 1"
      ]
    },
    {
      "cell_type": "markdown",
      "metadata": {
        "id": "JbNDsZoeR-nE"
      },
      "source": [
        "Теперь выведем наш датафрейм без таргет-колонки"
      ]
    },
    {
      "cell_type": "code",
      "metadata": {
        "colab": {
          "base_uri": "https://localhost:8080/"
        },
        "id": "ENBGB3b0aYOa",
        "outputId": "ab687a30-90d0-4445-854b-4ba3ca9364e2"
      },
      "source": [
        "features = ['childrens', 'salary', 'age', 'home_cost', 'was_married', 'sex']\n",
        "print(normal_data[features])"
      ],
      "execution_count": 22,
      "outputs": [
        {
          "output_type": "stream",
          "name": "stdout",
          "text": [
            "      childrens    salary       age  home_cost  was_married  sex\n",
            "0      0.444444  0.203134  0.816327   0.265805            1    1\n",
            "1      0.222222  0.927245  0.306122   0.414884            1    1\n",
            "2      0.666667  0.978699  0.122449   0.835341            1    1\n",
            "3      0.111111  0.851998  0.081633   0.274771            0    0\n",
            "4      1.000000  0.604625  0.989796   0.527758            1    1\n",
            "...         ...       ...       ...        ...          ...  ...\n",
            "5495   0.111111  0.053878  0.071429   0.601553            1    1\n",
            "5496   0.666667  0.989825  0.112245   0.683764            1    1\n",
            "5497   0.000000  0.155629  0.010204   0.357761            1    1\n",
            "5498   0.111111  0.053833  0.071429   0.375654            1    1\n",
            "5499   0.222222  0.926486  0.316327   0.536439            0    1\n",
            "\n",
            "[5491 rows x 6 columns]\n"
          ]
        }
      ]
    },
    {
      "cell_type": "markdown",
      "metadata": {
        "id": "MZiUrUOsa8mn"
      },
      "source": [
        "Выделим таргет фичу - профессию"
      ]
    },
    {
      "cell_type": "code",
      "metadata": {
        "colab": {
          "base_uri": "https://localhost:8080/"
        },
        "id": "C7hElKQQa0of",
        "outputId": "8783419c-d3ff-4986-ce59-bb7f778656b6"
      },
      "source": [
        "target = df['profession']\n",
        "target"
      ],
      "execution_count": 23,
      "outputs": [
        {
          "output_type": "execute_result",
          "data": {
            "text/plain": [
              "0            Engineer\n",
              "1              Doctor\n",
              "2       Entertainment\n",
              "3              Lawyer\n",
              "4              Artist\n",
              "            ...      \n",
              "5495        Marketing\n",
              "5496    Entertainment\n",
              "5497        Executive\n",
              "5498        Marketing\n",
              "5499           Doctor\n",
              "Name: profession, Length: 5491, dtype: object"
            ]
          },
          "metadata": {},
          "execution_count": 23
        }
      ]
    },
    {
      "cell_type": "markdown",
      "metadata": {
        "id": "Eke6p_YQ_R9z"
      },
      "source": [
        "# Выделить кластеры (6 баллов)\n",
        "* Определить оптимальное количество кластеров с помощью правила локтя/осыпи\n",
        "* Получить номера класстеров для каждого пользователя. "
      ]
    },
    {
      "cell_type": "code",
      "metadata": {
        "colab": {
          "base_uri": "https://localhost:8080/",
          "height": 297
        },
        "id": "nLv3YMhw78QW",
        "outputId": "66f3215b-76c8-4ede-f805-be3648e9211b"
      },
      "source": [
        "#Правило локтя\n",
        "from sklearn.cluster import KMeans\n",
        "\n",
        "s = {}\n",
        "for k in range(1, 15):\n",
        "    kmeans = KMeans(n_clusters=k, max_iter=1000).fit(normal_data[features])\n",
        "    s[k] = kmeans.inertia_ # Сумма расстояний до центров кластеров\n",
        "\n",
        "plt.figure()\n",
        "plt.plot(list(s.keys()), list(s.values()))\n",
        "plt.xlabel(\"Number of cluster\")\n",
        "plt.ylabel(\"Sum of ditances to their center\")\n",
        "plt.tight_layout()\n",
        "plt.show()"
      ],
      "execution_count": 24,
      "outputs": [
        {
          "output_type": "display_data",
          "data": {
            "image/png": "[encoded data removed]",
            "text/plain": [
              "<Figure size 432x288 with 1 Axes>"
            ]
          },
          "metadata": {
            "needs_background": "light"
          }
        }
      ]
    },
    {
      "cell_type": "markdown",
      "metadata": {
        "id": "Wj4moRUgb94Z"
      },
      "source": [
        "Пока неочевидно, какое число кластеров является оптимальным. Попробуем посмотреть на коэффициенты силуэта"
      ]
    },
    {
      "cell_type": "code",
      "metadata": {
        "colab": {
          "base_uri": "https://localhost:8080/",
          "height": 297
        },
        "id": "unZoJGVBb5lb",
        "outputId": "7304cfb6-ef9c-4c9a-cc6e-6483eff6b9c0"
      },
      "source": [
        "from sklearn.metrics import silhouette_samples\n",
        "\n",
        "silhouette = []\n",
        "X = normal_data[features].values\n",
        "\n",
        "for i in range(2, 15):\n",
        "    km = KMeans(n_clusters=i, max_iter=1000)\n",
        "    y_km = km.fit_predict(X)    \n",
        "    silhouette.append(np.mean(silhouette_samples(X, y_km, metric='euclidean')))\n",
        "\n",
        "plt.plot(range(2, 15), silhouette)\n",
        "plt.ylabel('Silhouette koef')\n",
        "plt.xlabel(\"Number of cluster\")\n",
        "plt.title(\"Зависимость числа кластеров от коэффициента силуэта\")\n",
        "plt.tight_layout()\n",
        "plt.show()"
      ],
      "execution_count": 25,
      "outputs": [
        {
          "output_type": "display_data",
          "data": {
            "image/png": "[encoded data removed]",
            "text/plain": [
              "<Figure size 432x288 with 1 Axes>"
            ]
          },
          "metadata": {
            "needs_background": "light"
          }
        }
      ]
    },
    {
      "cell_type": "markdown",
      "metadata": {
        "id": "SBs_rYi4dmdp"
      },
      "source": [
        "По графику видно, что оптимальное число кластеров в данном случае - 8"
      ]
    },
    {
      "cell_type": "markdown",
      "metadata": {
        "id": "9qf1T61zeMz6"
      },
      "source": [
        "# Снизить разерность (6 баллов)\n",
        "*  Снизить разерность (6 баллов)\n",
        "Воспользуйтесь методом t-SNE () (или PCA, U-MAP)\n",
        "* ссылка на документацию:\n",
        "https://scikit-learn.org/stable/modules/generated/sklearn.manifold.TSNE.html"
      ]
    },
    {
      "cell_type": "markdown",
      "metadata": {
        "id": "KsuuiUxjfCIe"
      },
      "source": [
        "Воспользуюсь PCA, так как до этого с ним уже работала"
      ]
    },
    {
      "cell_type": "code",
      "metadata": {
        "id": "N6xJpQTn_R90"
      },
      "source": [
        "from sklearn.decomposition import PCA\n",
        "\n",
        "pca = PCA(n_components=None)\n",
        "X_pca = pca.fit_transform(normal_data[features])"
      ],
      "execution_count": 26,
      "outputs": []
    },
    {
      "cell_type": "code",
      "metadata": {
        "colab": {
          "base_uri": "https://localhost:8080/"
        },
        "id": "onmIgkROf1xs",
        "outputId": "2bedff0d-f5dd-40f0-a44b-69960e73e486"
      },
      "source": [
        "var_rat = pca.explained_variance_ratio_\n",
        "print('Explained variation per principal component: {}'.format(var_rat))"
      ],
      "execution_count": 27,
      "outputs": [
        {
          "output_type": "stream",
          "name": "stdout",
          "text": [
            "Explained variation per principal component: [0.42743181 0.30796203 0.16287103 0.06919979 0.01877488 0.01376047]\n"
          ]
        }
      ]
    },
    {
      "cell_type": "code",
      "metadata": {
        "colab": {
          "base_uri": "https://localhost:8080/"
        },
        "id": "RC66Mh0Cf6xn",
        "outputId": "31426db3-d168-46fc-a621-7fdc106fac56"
      },
      "source": [
        "print(pca.singular_values_)"
      ],
      "execution_count": 28,
      "outputs": [
        {
          "output_type": "stream",
          "name": "stdout",
          "text": [
            "[41.96243908 35.61852138 25.90294946 16.8841692   8.7945956   7.52911411]\n"
          ]
        }
      ]
    },
    {
      "cell_type": "code",
      "metadata": {
        "colab": {
          "base_uri": "https://localhost:8080/"
        },
        "id": "tb5cgSEdgsyc",
        "outputId": "32d4db2e-928c-4e3e-d42b-af02ce5e5daf"
      },
      "source": [
        "comp = pca.n_components_\n",
        "comp"
      ],
      "execution_count": 29,
      "outputs": [
        {
          "output_type": "execute_result",
          "data": {
            "text/plain": [
              "6"
            ]
          },
          "metadata": {},
          "execution_count": 29
        }
      ]
    },
    {
      "cell_type": "code",
      "metadata": {
        "colab": {
          "base_uri": "https://localhost:8080/",
          "height": 488
        },
        "id": "EdXUWuUfgyMC",
        "outputId": "319099e3-d0a3-4c9b-bcfc-0c4b0a774332"
      },
      "source": [
        "fig, ax = plt.subplots(figsize=(8,6), dpi= 80) \n",
        "plt.xlabel('Индекс главного компонента')\n",
        "plt.ylabel(\"Дисперсия\")\n",
        "plt.title(\"Зависимость индекса главного компонента от коэффициента дисперсии\")\n",
        "plt.tight_layout()\n",
        "plt.plot(range(1, comp + 1), pca.explained_variance_ratio_)\n",
        "plt.show()"
      ],
      "execution_count": 30,
      "outputs": [
        {
          "output_type": "display_data",
          "data": {
            "image/png": "[encoded data removed]",
            "text/plain": [
              "<Figure size 640x480 with 1 Axes>"
            ]
          },
          "metadata": {
            "needs_background": "light"
          }
        }
      ]
    },
    {
      "cell_type": "code",
      "metadata": {
        "id": "KYay9bL2iAv8"
      },
      "source": [
        "pca = PCA(n_components=2)\n",
        "X_pca = pca.fit_transform(normal_data[features])"
      ],
      "execution_count": 31,
      "outputs": []
    },
    {
      "cell_type": "markdown",
      "metadata": {
        "id": "LB8s4SVA_R90"
      },
      "source": [
        "# Нарисовать полученные кластеры (10 баллов)"
      ]
    },
    {
      "cell_type": "code",
      "metadata": {
        "id": "zDLsQhBYEq4q"
      },
      "source": [
        "#Обучим KMeans с 8 кластерами\n",
        "km = KMeans(n_clusters=8,\n",
        "            max_iter=1000)\n",
        "\n",
        "y_km = km.fit_predict(normal_data[features].values)"
      ],
      "execution_count": 32,
      "outputs": []
    },
    {
      "cell_type": "code",
      "metadata": {
        "colab": {
          "base_uri": "https://localhost:8080/"
        },
        "id": "ECax9SqtGcgY",
        "outputId": "356a2d74-9d5d-4c70-8eed-0928f3f9ea83"
      },
      "source": [
        "labels = normal_data['profession'].unique()\n",
        "labels"
      ],
      "execution_count": 33,
      "outputs": [
        {
          "output_type": "execute_result",
          "data": {
            "text/plain": [
              "array(['Engineer', 'Doctor', 'Entertainment', 'Lawyer', 'Artist',\n",
              "       'Homemaker', 'Marketing', 'Healthcare', 'Executive'], dtype=object)"
            ]
          },
          "metadata": {},
          "execution_count": 33
        }
      ]
    },
    {
      "cell_type": "code",
      "metadata": {
        "colab": {
          "base_uri": "https://localhost:8080/"
        },
        "id": "KWTthRgVT3WR",
        "outputId": "4ffc12a6-5cc0-4289-b95e-51885e8169a3"
      },
      "source": [
        "normal_data['profession'].value_counts()"
      ],
      "execution_count": 34,
      "outputs": [
        {
          "output_type": "execute_result",
          "data": {
            "text/plain": [
              "Entertainment    611\n",
              "Doctor           611\n",
              "Artist           611\n",
              "Lawyer           611\n",
              "Healthcare       610\n",
              "Engineer         610\n",
              "Executive        609\n",
              "Homemaker        609\n",
              "Marketing        609\n",
              "Name: profession, dtype: int64"
            ]
          },
          "metadata": {},
          "execution_count": 34
        }
      ]
    },
    {
      "cell_type": "markdown",
      "metadata": {
        "id": "wyRjQpZgKs6m"
      },
      "source": [
        "Видим, что уникальных значений профессий 9. А кластеров 8"
      ]
    },
    {
      "cell_type": "markdown",
      "metadata": {
        "id": "ZVCXJ7q1LaLz"
      },
      "source": [
        "Для начала построим для 8 кластеров, и посмотрим, насколько хорошо KMeans отделил их"
      ]
    },
    {
      "cell_type": "code",
      "metadata": {
        "colab": {
          "base_uri": "https://localhost:8080/",
          "height": 625
        },
        "id": "yR0tREGtMJR-",
        "outputId": "65c1f199-16dc-4e04-f5a8-e1ca30ae81fc"
      },
      "source": [
        "plt.figure(figsize=(12,9))\n",
        "\n",
        "for i in range(8):\n",
        "  colours = ['r', 'g', 'b', 'y', 'brown', 'black', 'orange', 'lightgreen']\n",
        "  plt.scatter(X_pca[y_km == i, 0], X_pca[y_km == i, 1], c=colours[i], s=10, label=labels[i])\n",
        "  \n",
        "plt.legend(fontsize='medium')  \n",
        "plt.title(\"Изображение 8 кластеров профессий\")\n",
        "plt.tight_layout()\n",
        "plt.show()"
      ],
      "execution_count": 35,
      "outputs": [
        {
          "output_type": "display_data",
          "data": {
            "image/png": "[encoded data removed]",
            "text/plain": [
              "<Figure size 864x648 with 1 Axes>"
            ]
          },
          "metadata": {
            "needs_background": "light"
          }
        }
      ]
    },
    {
      "cell_type": "markdown",
      "metadata": {
        "id": "BKtkBd45PHg9"
      },
      "source": [
        "Попробуем обучить KMeans на 9 кластерах"
      ]
    },
    {
      "cell_type": "code",
      "metadata": {
        "id": "T6fqM0yRPLuF"
      },
      "source": [
        "#Обучим KMeans с 9 кластерами\n",
        "km = KMeans(n_clusters=9,\n",
        "            max_iter=1000)\n",
        "\n",
        "y_km = km.fit_predict(normal_data[features].values)"
      ],
      "execution_count": 36,
      "outputs": []
    },
    {
      "cell_type": "code",
      "metadata": {
        "colab": {
          "base_uri": "https://localhost:8080/",
          "height": 625
        },
        "id": "1E2j_VxePL7u",
        "outputId": "4169d59d-a843-4797-84d0-3dd47b689fa4"
      },
      "source": [
        "plt.figure(figsize=(12,9))\n",
        "\n",
        "for i in range(9):\n",
        "  colours = ['r', 'g', 'b', 'y', 'brown', 'black', 'orange', 'lightgreen', 'violet']\n",
        "  plt.scatter(X_pca[y_km == i, 0], X_pca[y_km == i, 1], c=colours[i], s=10, label= labels[i])\n",
        "  \n",
        "plt.legend(fontsize='medium')  \n",
        "plt.legend(labels)\n",
        "plt.title(\"Изображение 9 кластеров профессий\")\n",
        "plt.tight_layout()\n",
        "plt.show()"
      ],
      "execution_count": 37,
      "outputs": [
        {
          "output_type": "display_data",
          "data": {
            "image/png": "[encoded data removed]",
            "text/plain": [
              "<Figure size 864x648 with 1 Axes>"
            ]
          },
          "metadata": {
            "needs_background": "light"
          }
        }
      ]
    },
    {
      "cell_type": "markdown",
      "metadata": {
        "id": "YV8twLkKGWIx"
      },
      "source": [
        "Попробуем еще обучить DBSCAN"
      ]
    },
    {
      "cell_type": "markdown",
      "metadata": {
        "id": "9IFmP0eSGpiu"
      },
      "source": [
        "Используем RobustScaler для нормализации"
      ]
    },
    {
      "cell_type": "code",
      "metadata": {
        "colab": {
          "base_uri": "https://localhost:8080/",
          "height": 423
        },
        "id": "bM-E3xbUDYjQ",
        "outputId": "5b95f035-4b58-4d2d-aeaa-81d5e6457dff"
      },
      "source": [
        "rs = RobustScaler()\n",
        "\n",
        "normal_data = df\n",
        "normal_data[features] = rs.fit_transform(df[features])\n",
        "normal_data[features]"
      ],
      "execution_count": 38,
      "outputs": [
        {
          "output_type": "execute_result",
          "data": {
            "text/html": [
              "<div>\n",
              "<style scoped>\n",
              "    .dataframe tbody tr th:only-of-type {\n",
              "        vertical-align: middle;\n",
              "    }\n",
              "\n",
              "    .dataframe tbody tr th {\n",
              "        vertical-align: top;\n",
              "    }\n",
              "\n",
              "    .dataframe thead th {\n",
              "        text-align: right;\n",
              "    }\n",
              "</style>\n",
              "<table border=\"1\" class=\"dataframe\">\n",
              "  <thead>\n",
              "    <tr style=\"text-align: right;\">\n",
              "      <th></th>\n",
              "      <th>childrens</th>\n",
              "      <th>salary</th>\n",
              "      <th>age</th>\n",
              "      <th>home_cost</th>\n",
              "      <th>was_married</th>\n",
              "      <th>sex</th>\n",
              "    </tr>\n",
              "  </thead>\n",
              "  <tbody>\n",
              "    <tr>\n",
              "      <th>0</th>\n",
              "      <td>0.666667</td>\n",
              "      <td>-0.001207</td>\n",
              "      <td>2.954545</td>\n",
              "      <td>-0.812893</td>\n",
              "      <td>0.0</td>\n",
              "      <td>0.0</td>\n",
              "    </tr>\n",
              "    <tr>\n",
              "      <th>1</th>\n",
              "      <td>0.000000</td>\n",
              "      <td>0.901602</td>\n",
              "      <td>0.681818</td>\n",
              "      <td>-0.213667</td>\n",
              "      <td>0.0</td>\n",
              "      <td>0.0</td>\n",
              "    </tr>\n",
              "    <tr>\n",
              "      <th>2</th>\n",
              "      <td>1.333333</td>\n",
              "      <td>0.965754</td>\n",
              "      <td>-0.136364</td>\n",
              "      <td>1.476366</td>\n",
              "      <td>0.0</td>\n",
              "      <td>0.0</td>\n",
              "    </tr>\n",
              "    <tr>\n",
              "      <th>3</th>\n",
              "      <td>-0.333333</td>\n",
              "      <td>0.807786</td>\n",
              "      <td>-0.318182</td>\n",
              "      <td>-0.776853</td>\n",
              "      <td>-1.0</td>\n",
              "      <td>-1.0</td>\n",
              "    </tr>\n",
              "    <tr>\n",
              "      <th>4</th>\n",
              "      <td>2.333333</td>\n",
              "      <td>0.499365</td>\n",
              "      <td>3.727273</td>\n",
              "      <td>0.240031</td>\n",
              "      <td>0.0</td>\n",
              "      <td>0.0</td>\n",
              "    </tr>\n",
              "    <tr>\n",
              "      <th>...</th>\n",
              "      <td>...</td>\n",
              "      <td>...</td>\n",
              "      <td>...</td>\n",
              "      <td>...</td>\n",
              "      <td>...</td>\n",
              "      <td>...</td>\n",
              "    </tr>\n",
              "    <tr>\n",
              "      <th>5495</th>\n",
              "      <td>-0.333333</td>\n",
              "      <td>-0.187297</td>\n",
              "      <td>-0.363636</td>\n",
              "      <td>0.536649</td>\n",
              "      <td>0.0</td>\n",
              "      <td>0.0</td>\n",
              "    </tr>\n",
              "    <tr>\n",
              "      <th>5496</th>\n",
              "      <td>1.333333</td>\n",
              "      <td>0.979626</td>\n",
              "      <td>-0.181818</td>\n",
              "      <td>0.867099</td>\n",
              "      <td>0.0</td>\n",
              "      <td>0.0</td>\n",
              "    </tr>\n",
              "    <tr>\n",
              "      <th>5497</th>\n",
              "      <td>-0.666667</td>\n",
              "      <td>-0.060436</td>\n",
              "      <td>-0.636364</td>\n",
              "      <td>-0.443276</td>\n",
              "      <td>0.0</td>\n",
              "      <td>0.0</td>\n",
              "    </tr>\n",
              "    <tr>\n",
              "      <th>5498</th>\n",
              "      <td>-0.333333</td>\n",
              "      <td>-0.187353</td>\n",
              "      <td>-0.363636</td>\n",
              "      <td>-0.371354</td>\n",
              "      <td>0.0</td>\n",
              "      <td>0.0</td>\n",
              "    </tr>\n",
              "    <tr>\n",
              "      <th>5499</th>\n",
              "      <td>0.000000</td>\n",
              "      <td>0.900656</td>\n",
              "      <td>0.727273</td>\n",
              "      <td>0.274925</td>\n",
              "      <td>-1.0</td>\n",
              "      <td>0.0</td>\n",
              "    </tr>\n",
              "  </tbody>\n",
              "</table>\n",
              "<p>5491 rows × 6 columns</p>\n",
              "</div>"
            ],
            "text/plain": [
              "      childrens    salary       age  home_cost  was_married  sex\n",
              "0      0.666667 -0.001207  2.954545  -0.812893          0.0  0.0\n",
              "1      0.000000  0.901602  0.681818  -0.213667          0.0  0.0\n",
              "2      1.333333  0.965754 -0.136364   1.476366          0.0  0.0\n",
              "3     -0.333333  0.807786 -0.318182  -0.776853         -1.0 -1.0\n",
              "4      2.333333  0.499365  3.727273   0.240031          0.0  0.0\n",
              "...         ...       ...       ...        ...          ...  ...\n",
              "5495  -0.333333 -0.187297 -0.363636   0.536649          0.0  0.0\n",
              "5496   1.333333  0.979626 -0.181818   0.867099          0.0  0.0\n",
              "5497  -0.666667 -0.060436 -0.636364  -0.443276          0.0  0.0\n",
              "5498  -0.333333 -0.187353 -0.363636  -0.371354          0.0  0.0\n",
              "5499   0.000000  0.900656  0.727273   0.274925         -1.0  0.0\n",
              "\n",
              "[5491 rows x 6 columns]"
            ]
          },
          "metadata": {},
          "execution_count": 38
        }
      ]
    },
    {
      "cell_type": "markdown",
      "metadata": {
        "id": "5xqjZCYcGySe"
      },
      "source": [
        "Снизим размерность"
      ]
    },
    {
      "cell_type": "code",
      "metadata": {
        "id": "ysBEhWV6DtYA"
      },
      "source": [
        "pca = PCA(n_components=2)\n",
        "X_pca = pca.fit_transform(normal_data[features])"
      ],
      "execution_count": 39,
      "outputs": []
    },
    {
      "cell_type": "markdown",
      "metadata": {
        "id": "0JsKOZEeHdP9"
      },
      "source": [
        "И импортируем DBSCAN"
      ]
    },
    {
      "cell_type": "code",
      "metadata": {
        "id": "s7TCLTj0D3Kv"
      },
      "source": [
        "from sklearn.cluster import DBSCAN\n",
        "\n",
        "db = DBSCAN(metric='euclidean').fit(normal_data[features])\n",
        "y_db = db.labels_"
      ],
      "execution_count": 40,
      "outputs": []
    },
    {
      "cell_type": "markdown",
      "metadata": {
        "id": "1ZQc1iXSHjnt"
      },
      "source": [
        "Он кластеризует данные на 9 кластеров"
      ]
    },
    {
      "cell_type": "code",
      "metadata": {
        "id": "xJbbFkFXD-8X"
      },
      "source": [
        "labels = ['Engineer', 'Doctor', 'Entertainment', 'Artist', 'Homemaker', 'Marketing', 'Lawyer', 'Healthcare', 'Executive']"
      ],
      "execution_count": 41,
      "outputs": []
    },
    {
      "cell_type": "code",
      "metadata": {
        "colab": {
          "base_uri": "https://localhost:8080/",
          "height": 625
        },
        "id": "2tqlkr2BELYu",
        "outputId": "1a0b76b4-650b-4d5e-97c4-dbdd1131ad5f"
      },
      "source": [
        "plt.figure(figsize=(12,9))\n",
        "\n",
        "for i in range(9):\n",
        "  colours = ['r', 'g', 'b', 'y', 'white', 'black', 'violet', 'lightgreen', 'brown', 'pink']\n",
        "  plt.scatter(X_pca[y_db == i, 0], X_pca[y_db == i, 1], c=colours[i], s=10, label= labels[i])\n",
        "  \n",
        "plt.legend(fontsize='medium')  \n",
        "plt.legend(labels)\n",
        "plt.title(\"Изображение 9 кластеров профессий\")\n",
        "plt.tight_layout()\n",
        "plt.show()"
      ],
      "execution_count": 42,
      "outputs": [
        {
          "output_type": "display_data",
          "data": {
            "image/png": "[encoded data removed]",
            "text/plain": [
              "<Figure size 864x648 with 1 Axes>"
            ]
          },
          "metadata": {
            "needs_background": "light"
          }
        }
      ]
    },
    {
      "cell_type": "markdown",
      "metadata": {
        "id": "zxu9ShrD_R92"
      },
      "source": [
        "# Дополнительные баллы (+10 баллов)\n",
        "* Аккуратный и понятный код **+5 баллов**\n",
        "* Присутствуют лаконичные и понятные комментарии **+5 балов**"
      ]
    }
  ]
}
