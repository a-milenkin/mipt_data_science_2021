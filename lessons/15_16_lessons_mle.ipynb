{
 "cells": [
  {
   "cell_type": "markdown",
   "metadata": {},
   "source": [
    "#  Максимально правдоподобный вебинар"
   ]
  },
  {
   "cell_type": "markdown",
   "metadata": {},
   "source": [
    "<div class=\"alert alert-info\">\n",
    "\n",
    "<b>Сегодня</b>\n",
    "    \n",
    "<b>Программа семинара № 15: </b>\n",
    "\n",
    "Смысл метода максимального правдоподобия.\n",
    "ММП и распределение Бернулли.\n",
    "ММП и нормальное распределение.\n",
    "Информация Фишера и свойства ММП-оценок.\n",
    "Распределение ММП-оценок для нормальной случайной величины.\n",
    "Тест отношения правдоподобий.\n",
    "Дельта-метод.\n",
    "ММП в python для разных распределений.\n",
    "----------------------------------\n",
    "    \n",
    "<b>Программа семинара № 16: </b>    \n",
    "    \n",
    "    \n",
    "Линейный регрессионный анализ. Модель, интерпретация оценок коэффициентов, множественный коэффициент детерминации. Интерпретация множественного. \n",
    "коэффициента детерминации, ограничения на область его применения. Выявление наиболее значимых предикторов и оценка вклада каждого предиктора. Алгоритмы. \n",
    "корректировки построенных моделей. Коллинеарность"
   ]
  },
  {
   "cell_type": "code",
   "execution_count": 45,
   "metadata": {},
   "outputs": [],
   "source": [
    "import numpy as np\n",
    "import pandas as pd\n",
    "\n",
    "from scipy import stats \n",
    "from scipy.optimize import minimize\n",
    "\n",
    "import seaborn as sns\n",
    "import matplotlib.pyplot as plt\n",
    "\n",
    "plt.style.use('ggplot')  # more style :) \n",
    "%matplotlib inline"
   ]
  },
  {
   "cell_type": "markdown",
   "metadata": {},
   "source": [
    "# 1. Фрекен Бок\n",
    "\n",
    "<center>\n",
    "<img src=\"http://semyarf.com/UPLOAD/2016/01/21/frekenbok-216_700_0.jpg\" height=\"200\" width=\"350\"> \n",
    "</center>\n",
    "\n",
    "[Как известно](https://www.livelib.ru/quote/305456-malysh-i-karlson-kotoryj-zhivet-na-kryshe-astrid-lindgren), Фрекен Бок пьёт коньяк по утрам. У нас даже есть дневные данные (в граммах):"
   ]
  },
  {
   "cell_type": "code",
   "execution_count": 2,
   "metadata": {},
   "outputs": [],
   "source": [
    "x = [3.2, 7.9, 5.4, 4.9, 6.2, 4.3]"
   ]
  },
  {
   "cell_type": "markdown",
   "metadata": {},
   "source": [
    "__а)__ Предполагая, что $x_i$ независимы и нормальны $N(\\mu, \\sigma^2)$ выпишем функцию правдоподобия.\n",
    "\n",
    "\n",
    "$$\n",
    "f(x) = \\frac{1}{\\sqrt{2 \\pi \\sigma^2}} \\cdot e^{-\\frac{(x - \\mu)^2}{2 \\sigma^2}}\n",
    "$$\n",
    "\n",
    "\n"
   ]
  },
  {
   "cell_type": "markdown",
   "metadata": {},
   "source": [
    "$$\n",
    "L(\\mu, \\sigma^2 \\mid x_1, \\ldots, x_n) =  \\frac{1}{(2 \\pi \\sigma^2)^{\\frac{n}{2}}} \\cdot e^{- \\sum_{i=1}^n \\frac{(x_i - \\mu)^2}{2 \\sigma^2}}\n",
    "$$"
   ]
  },
  {
   "cell_type": "markdown",
   "metadata": {},
   "source": [
    "$$\n",
    "\\ln L(\\mu, \\sigma^2 \\mid x_1, \\ldots, x_n) \\propto  -0.5 \\cdot n \\cdot \\ln  \\sigma^2 - \\sum_{i=1}^n \\frac{(x_i - \\mu)^2}{2 \\sigma^2} \\to \\max_{\\mu, \\sigma^2}\n",
    "$$"
   ]
  },
  {
   "cell_type": "markdown",
   "metadata": {},
   "source": [
    "$\\propto$ - равенство с точностью до константы"
   ]
  },
  {
   "cell_type": "markdown",
   "metadata": {},
   "source": [
    "Чтобы гарантировать положительность параметра $\\sigma^2$ функция у нас будет зависеть от вектора параметров $\\theta$, причем $\\theta_1 = \\mu$, а $\\theta_2 = \\ln \\sigma^2$."
   ]
  },
  {
   "cell_type": "code",
   "execution_count": 46,
   "metadata": {},
   "outputs": [
    {
     "data": {
      "text/plain": [
       "10.240554617493236"
      ]
     },
     "execution_count": 46,
     "metadata": {},
     "output_type": "execute_result"
    }
   ],
   "source": [
    "def lnL(theta, x):\n",
    "    mu = theta[0]\n",
    "    s2 = np.exp(theta[1])\n",
    "    \n",
    "    x = np.array(x)\n",
    "    n = x.size\n",
    "    \n",
    "    l = -0.5*n*np.log(s2) - 0.5/s2*np.sum((x-mu)**2)\n",
    "    return -l\n",
    "    \n",
    "lnL([4, 0.2], x)"
   ]
  },
  {
   "cell_type": "markdown",
   "metadata": {},
   "source": [
    "__б)__ Оценим неизвестные параметры."
   ]
  },
  {
   "cell_type": "code",
   "execution_count": 47,
   "metadata": {},
   "outputs": [
    {
     "data": {
      "text/plain": [
       "      fun: 5.353606615954044\n",
       " hess_inv: array([[0.35268761, 0.01306079],\n",
       "       [0.01306079, 0.31987723]])\n",
       "      jac: array([-1.90734863e-06,  2.02655792e-06])\n",
       "  message: 'Optimization terminated successfully.'\n",
       "     nfev: 51\n",
       "      nit: 14\n",
       "     njev: 17\n",
       "   status: 0\n",
       "  success: True\n",
       "        x: array([5.31666596, 0.78453622])"
      ]
     },
     "execution_count": 47,
     "metadata": {},
     "output_type": "execute_result"
    }
   ],
   "source": [
    "theta_init = [0, 0]\n",
    "res = minimize(lnL, theta_init, args=x)\n",
    "res"
   ]
  },
  {
   "cell_type": "code",
   "execution_count": 48,
   "metadata": {},
   "outputs": [
    {
     "data": {
      "text/plain": [
       "(5.316665963208802, 1.4803345526634897)"
      ]
     },
     "execution_count": 48,
     "metadata": {},
     "output_type": "execute_result"
    }
   ],
   "source": [
    "mu, s2 = res.x\n",
    "s2 = np.sqrt(np.exp(s2))\n",
    "mu, s2"
   ]
  },
  {
   "cell_type": "markdown",
   "metadata": {},
   "source": [
    "__в)__ Получим тот же результат используя встроенный метод `stats.norm.fit`:"
   ]
  },
  {
   "cell_type": "code",
   "execution_count": 49,
   "metadata": {
    "scrolled": true
   },
   "outputs": [
    {
     "data": {
      "text/plain": [
       "(5.316666666666666, 1.4803340463857775)"
      ]
     },
     "execution_count": 49,
     "metadata": {},
     "output_type": "execute_result"
    }
   ],
   "source": [
    "mu, s = stats.norm.fit(x)\n",
    "mu, s"
   ]
  },
  {
   "cell_type": "markdown",
   "metadata": {},
   "source": [
    "__г)__ Построим $95\\%$ доверительный интервал для $\\mu$"
   ]
  },
  {
   "cell_type": "code",
   "execution_count": 7,
   "metadata": {},
   "outputs": [
    {
     "data": {
      "text/plain": [
       "array([[0.35268761, 0.01306079],\n",
       "       [0.01306079, 0.31987723]])"
      ]
     },
     "execution_count": 7,
     "metadata": {},
     "output_type": "execute_result"
    }
   ],
   "source": [
    "res.hess_inv"
   ]
  },
  {
   "cell_type": "code",
   "execution_count": 8,
   "metadata": {},
   "outputs": [
    {
     "data": {
      "text/plain": [
       "0.3652314814814815"
      ]
     },
     "execution_count": 8,
     "metadata": {},
     "output_type": "execute_result"
    }
   ],
   "source": [
    "np.var(x)/len(x)"
   ]
  },
  {
   "cell_type": "code",
   "execution_count": 50,
   "metadata": {},
   "outputs": [
    {
     "name": "stdout",
     "output_type": "stream",
     "text": [
      "Доверительный интервал [4.153; 6.481] ширины 2.328\n"
     ]
    }
   ],
   "source": [
    "alpha = 0.05\n",
    "z = stats.norm().ppf(1 - alpha/2)\n",
    "\n",
    "left = res.x[0] - z*np.sqrt(res.hess_inv[0,0])\n",
    "right = res.x[0] + z*np.sqrt(res.hess_inv[0,0])\n",
    "\n",
    "print(\"Доверительный интервал [{:.4}; {:.4}] ширины {:.4}\".format(left, right, right - left))"
   ]
  },
  {
   "cell_type": "markdown",
   "metadata": {},
   "source": [
    "__д)__ Проверим гипотезу о том, что $\\mu = 1$ с помощью теста отношения правдоподобий. "
   ]
  },
  {
   "cell_type": "code",
   "execution_count": 51,
   "metadata": {},
   "outputs": [
    {
     "data": {
      "text/plain": [
       "51.75020379854693"
      ]
     },
     "execution_count": 51,
     "metadata": {},
     "output_type": "execute_result"
    }
   ],
   "source": [
    "def lnL_r(theta, x):\n",
    "    mu = 1\n",
    "    s2 = np.exp(theta)\n",
    "    \n",
    "    x =np.array(x)\n",
    "    n = x.size\n",
    "    \n",
    "    l = -0.5*n*np.log(s2) - 0.5/s2*np.sum((x-mu)**2)\n",
    "    return -l\n",
    "    \n",
    "lnL_r(0.2, x)"
   ]
  },
  {
   "cell_type": "code",
   "execution_count": 52,
   "metadata": {},
   "outputs": [
    {
     "data": {
      "text/plain": [
       "      fun: 12.108462564158728\n",
       " hess_inv: array([[0.3327759]])\n",
       "      jac: array([-2.38418579e-07])\n",
       "  message: 'Optimization terminated successfully.'\n",
       "     nfev: 20\n",
       "      nit: 9\n",
       "     njev: 10\n",
       "   status: 0\n",
       "  success: True\n",
       "        x: array([3.03615412])"
      ]
     },
     "execution_count": 52,
     "metadata": {},
     "output_type": "execute_result"
    }
   ],
   "source": [
    "theta_init = 0\n",
    "res_r = minimize(lnL_r, theta_init, args=x)\n",
    "res_r"
   ]
  },
  {
   "cell_type": "code",
   "execution_count": 12,
   "metadata": {},
   "outputs": [],
   "source": [
    "lnL_r = res_r.fun\n",
    "lnL_ur = res.fun"
   ]
  },
  {
   "cell_type": "code",
   "execution_count": 13,
   "metadata": {},
   "outputs": [
    {
     "data": {
      "text/plain": [
       "13.509711896409367"
      ]
     },
     "execution_count": 13,
     "metadata": {},
     "output_type": "execute_result"
    }
   ],
   "source": [
    "2*(lnL_r - lnL_ur)"
   ]
  },
  {
   "cell_type": "code",
   "execution_count": 53,
   "metadata": {},
   "outputs": [
    {
     "data": {
      "text/plain": [
       "3.841458820694124"
      ]
     },
     "execution_count": 53,
     "metadata": {},
     "output_type": "execute_result"
    }
   ],
   "source": [
    "stats.chi2(df=1).ppf(0.95)"
   ]
  },
  {
   "cell_type": "markdown",
   "metadata": {},
   "source": [
    "Гипотеза отвергается! "
   ]
  },
  {
   "cell_type": "markdown",
   "metadata": {},
   "source": [
    "__е)__ Проверим гипотезу о том, что $\\mu = 1$, а $\\sigma^2 = 2$ с помощью теста отношения правдоподобий."
   ]
  },
  {
   "cell_type": "code",
   "execution_count": 54,
   "metadata": {},
   "outputs": [],
   "source": [
    "lnL_ur = res.fun\n",
    "lnL_r = lnL([5,2.5], x)"
   ]
  },
  {
   "cell_type": "code",
   "execution_count": 55,
   "metadata": {},
   "outputs": [
    {
     "data": {
      "text/plain": [
       "5.42145549917052"
      ]
     },
     "execution_count": 55,
     "metadata": {},
     "output_type": "execute_result"
    }
   ],
   "source": [
    "2*(lnL_r - lnL_ur)"
   ]
  },
  {
   "cell_type": "code",
   "execution_count": 56,
   "metadata": {},
   "outputs": [
    {
     "data": {
      "text/plain": [
       "5.991464547107979"
      ]
     },
     "execution_count": 56,
     "metadata": {},
     "output_type": "execute_result"
    }
   ],
   "source": [
    "stats.chi2(df=2).ppf(0.95)"
   ]
  },
  {
   "cell_type": "markdown",
   "metadata": {},
   "source": [
    "Гипотеза отвергается. "
   ]
  },
  {
   "cell_type": "markdown",
   "metadata": {},
   "source": [
    "# 2. Призраки\n",
    "\n",
    "<center>\n",
    "<img src=\"https://pbs.twimg.com/media/DqWmCg9X4AAkl0n.jpg\" height=\"200\" width=\"350\"> \n",
    "</center>\n",
    "\n",
    "А ещё Фрекен-Бок иногда видит привидения! Данные по количеству привидений у нас тоже есть :)"
   ]
  },
  {
   "cell_type": "code",
   "execution_count": 18,
   "metadata": {},
   "outputs": [],
   "source": [
    "y =  [1, 2, 0, 0, 2, 0]"
   ]
  },
  {
   "cell_type": "markdown",
   "metadata": {},
   "source": [
    "Предположим, что количество привидений имеет пуассоновское распределение с параметром $\\lambda$. \n",
    "\n",
    "__а)__ Оцените $\\lambda$ с помощью ММП:\n",
    "\n",
    "Вероятность, что случайная величина $X$ примет значение $k$: \n",
    "\n",
    "$$\n",
    "\\mathbb{P}(X = k) = \\frac{e^{-\\lambda} \\cdot \\lambda^k}{k!}\n",
    "$$"
   ]
  },
  {
   "cell_type": "markdown",
   "metadata": {},
   "source": [
    "$$\n",
    "L(\\lambda \\mid x_1, \\ldots x_n) = \\frac{e^{-\\lambda} \\cdot \\lambda^{\n",
    "x_1}}{x_1!} \\cdot \\ldots \\cdot \\frac{e^{-\\lambda} \\cdot \\lambda^{x_n}}{x_n!}\n",
    "$$"
   ]
  },
  {
   "cell_type": "markdown",
   "metadata": {},
   "source": [
    "$$\n",
    "\\ln L(\\lambda \\mid x_1, \\ldots x_n) = \\cdot n + \\ln \\lambda \\cdot \\sum_{i=1}^n x_i - \\sum_{i=1}^n x_i!  \\propto - \\lambda \\cdot n + \\ln \\lambda \\cdot \\sum_{i=1}^n x_i \\to \\max_{\\lambda}\n",
    "$$\n",
    "\n",
    "$\\propto$ - равенство с точностью до константы"
   ]
  },
  {
   "cell_type": "markdown",
   "metadata": {},
   "source": [
    "\n",
    "$$\n",
    "\\ln L(\\lambda \\mid x_1, \\ldots x_n)  \\propto  \\sum_{i=1}^n [- \\lambda + \\ln \\lambda \\cdot x_i] \\to \\max_{\\lambda}\n",
    "$$"
   ]
  },
  {
   "cell_type": "code",
   "execution_count": 58,
   "metadata": {},
   "outputs": [
    {
     "data": {
      "text/plain": [
       "307.5889001988654"
      ]
     },
     "execution_count": 58,
     "metadata": {},
     "output_type": "execute_result"
    }
   ],
   "source": [
    "def lnL(theta, y):\n",
    "    rate = np.exp(theta)\n",
    "    y = np.array(y)\n",
    "    l = -rate + np.log(rate)*y\n",
    "    return -1*np.sum(l)\n",
    "\n",
    "lnL(4, y)"
   ]
  },
  {
   "cell_type": "code",
   "execution_count": 59,
   "metadata": {},
   "outputs": [
    {
     "data": {
      "text/plain": [
       "      fun: 5.91160778397651\n",
       " hess_inv: array([[0.2006664]])\n",
       "      jac: array([8.34465027e-06])\n",
       "  message: 'Optimization terminated successfully.'\n",
       "     nfev: 10\n",
       "      nit: 3\n",
       "     njev: 5\n",
       "   status: 0\n",
       "  success: True\n",
       "        x: array([-0.18231992])"
      ]
     },
     "execution_count": 59,
     "metadata": {},
     "output_type": "execute_result"
    }
   ],
   "source": [
    "theta_init = 0\n",
    "res = minimize(lnL, theta_init, args=y)\n",
    "res"
   ]
  },
  {
   "cell_type": "markdown",
   "metadata": {},
   "source": [
    "Предположим, что в $i$-й день интенсивность пуассоновского распределения $\\lambda_i$ связана с количеством выпитого коньяка формулой $\\lambda_i = e^{a + b \\cdot x_i}$. То есть, возможно, что Фрекен Бок видит призраков из-за коньяка. \n",
    "\n",
    "__б)__ Оценим параметры $a$ и $b$, выписав функцию правдоподобия. "
   ]
  },
  {
   "cell_type": "markdown",
   "metadata": {},
   "source": [
    "$$\n",
    "\\ln L(\\lambda \\mid x_1, \\ldots x_n)  \\propto  \\sum_{i=1}^n [- \\lambda_i + \\ln \\lambda_i \\cdot x_i] \\to \\max_{a, b}\n",
    "$$\n",
    "\n",
    "$$\n",
    "\\lambda_i = \\exp(a + b y_i)\n",
    "$$"
   ]
  },
  {
   "cell_type": "code",
   "execution_count": 60,
   "metadata": {},
   "outputs": [],
   "source": [
    "fbock = pd.DataFrame({\n",
    "    'x': [3.2, 7.9, 5.4, 4.9, 6.2, 4.3], \n",
    "    'y': [1, 2, 0, 0, 2, 0]\n",
    "})"
   ]
  },
  {
   "cell_type": "code",
   "execution_count": 22,
   "metadata": {},
   "outputs": [
    {
     "data": {
      "text/plain": [
       "20635012.00334143"
      ]
     },
     "execution_count": 22,
     "metadata": {},
     "output_type": "execute_result"
    }
   ],
   "source": [
    "def lnL(theta, fbock):\n",
    "    x = np.array(fbock['x'])\n",
    "    y = np.array(fbock['y'])\n",
    "    \n",
    "    a = theta[0]\n",
    "    b = theta[1]\n",
    "\n",
    "    rate = np.exp(a + b*x)\n",
    "    l = -rate + np.log(rate)*y\n",
    "    return -1*np.sum(l)\n",
    "\n",
    "lnL([1, 2], fbock)"
   ]
  },
  {
   "cell_type": "code",
   "execution_count": 61,
   "metadata": {},
   "outputs": [
    {
     "data": {
      "text/plain": [
       "      fun: -15.488396859981759\n",
       " hess_inv: array([[3.13108315e-02, 1.03359942e-04],\n",
       "       [1.03359942e-04, 1.99875491e-01]])\n",
       "      jac: array([ 0.0000000e+00, -1.1920929e-07])\n",
       "  message: 'Optimization terminated successfully.'\n",
       "     nfev: 30\n",
       "      nit: 6\n",
       "     njev: 10\n",
       "   status: 0\n",
       "  success: True\n",
       "        x: array([ 1.67084654, -0.18232156])"
      ]
     },
     "execution_count": 61,
     "metadata": {},
     "output_type": "execute_result"
    }
   ],
   "source": [
    "theta_init = [0, 0]\n",
    "res = minimize(lnL, theta_init, args=fbock)\n",
    "res"
   ]
  },
  {
   "cell_type": "markdown",
   "metadata": {},
   "source": [
    "__в)__ Построим прогнозы для парметра лямбда при разном объёме выпитого коньяка."
   ]
  },
  {
   "cell_type": "code",
   "execution_count": 64,
   "metadata": {},
   "outputs": [
    {
     "data": {
      "text/plain": [
       "array([4.43055553, 3.69212958])"
      ]
     },
     "execution_count": 64,
     "metadata": {},
     "output_type": "execute_result"
    }
   ],
   "source": [
    "x_test = np.array([1, 2])\n",
    "lam_hat = np.exp(res.x[0] + res.x[1]*x_test)\n",
    "lam_hat"
   ]
  },
  {
   "cell_type": "code",
   "execution_count": 65,
   "metadata": {},
   "outputs": [
    {
     "data": {
      "text/plain": [
       "array([0.05275849, 0.09200373])"
      ]
     },
     "execution_count": 65,
     "metadata": {},
     "output_type": "execute_result"
    }
   ],
   "source": [
    "# ФБ увидит 1 призрака \n",
    "np.exp(-lam_hat)*lam_hat"
   ]
  },
  {
   "cell_type": "markdown",
   "metadata": {},
   "source": [
    "По аналогии можем вычислить все интересующие нас вероятности. "
   ]
  },
  {
   "cell_type": "markdown",
   "metadata": {},
   "source": [
    "__в)__  Данная модель является довольно популярной и реализована в `statsmodels`. Она называется Пуассоновской регрессией. Оценим её. "
   ]
  },
  {
   "cell_type": "code",
   "execution_count": 66,
   "metadata": {},
   "outputs": [],
   "source": [
    "# !pip install statsmodels"
   ]
  },
  {
   "cell_type": "code",
   "execution_count": 67,
   "metadata": {},
   "outputs": [],
   "source": [
    "import statsmodels.formula.api as smf"
   ]
  },
  {
   "cell_type": "code",
   "execution_count": 69,
   "metadata": {},
   "outputs": [
    {
     "name": "stdout",
     "output_type": "stream",
     "text": [
      "Optimization terminated successfully.\n",
      "         Current function value: 1.047945\n",
      "         Iterations 6\n"
     ]
    },
    {
     "data": {
      "text/html": [
       "<table class=\"simpletable\">\n",
       "<caption>Poisson Regression Results</caption>\n",
       "<tr>\n",
       "  <th>Dep. Variable:</th>           <td>y</td>        <th>  No. Observations:  </th>  <td>     6</td> \n",
       "</tr>\n",
       "<tr>\n",
       "  <th>Model:</th>                <td>Poisson</td>     <th>  Df Residuals:      </th>  <td>     4</td> \n",
       "</tr>\n",
       "<tr>\n",
       "  <th>Method:</th>                 <td>MLE</td>       <th>  Df Model:          </th>  <td>     1</td> \n",
       "</tr>\n",
       "<tr>\n",
       "  <th>Date:</th>            <td>Sat, 04 Dec 2021</td> <th>  Pseudo R-squ.:     </th>  <td>0.1384</td> \n",
       "</tr>\n",
       "<tr>\n",
       "  <th>Time:</th>                <td>10:16:11</td>     <th>  Log-Likelihood:    </th> <td> -6.2877</td>\n",
       "</tr>\n",
       "<tr>\n",
       "  <th>converged:</th>             <td>True</td>       <th>  LL-Null:           </th> <td> -7.2979</td>\n",
       "</tr>\n",
       "<tr>\n",
       "  <th>Covariance Type:</th>     <td>nonrobust</td>    <th>  LLR p-value:       </th>  <td>0.1552</td> \n",
       "</tr>\n",
       "</table>\n",
       "<table class=\"simpletable\">\n",
       "<tr>\n",
       "      <td></td>         <th>coef</th>     <th>std err</th>      <th>z</th>      <th>P>|z|</th>  <th>[0.025</th>    <th>0.975]</th>  \n",
       "</tr>\n",
       "<tr>\n",
       "  <th>Intercept</th> <td>   -2.5988</td> <td>    1.918</td> <td>   -1.355</td> <td> 0.175</td> <td>   -6.358</td> <td>    1.161</td>\n",
       "</tr>\n",
       "<tr>\n",
       "  <th>x</th>         <td>    0.4170</td> <td>    0.297</td> <td>    1.404</td> <td> 0.160</td> <td>   -0.165</td> <td>    0.999</td>\n",
       "</tr>\n",
       "</table>"
      ],
      "text/plain": [
       "<class 'statsmodels.iolib.summary.Summary'>\n",
       "\"\"\"\n",
       "                          Poisson Regression Results                          \n",
       "==============================================================================\n",
       "Dep. Variable:                      y   No. Observations:                    6\n",
       "Model:                        Poisson   Df Residuals:                        4\n",
       "Method:                           MLE   Df Model:                            1\n",
       "Date:                Sat, 04 Dec 2021   Pseudo R-squ.:                  0.1384\n",
       "Time:                        10:16:11   Log-Likelihood:                -6.2877\n",
       "converged:                       True   LL-Null:                       -7.2979\n",
       "Covariance Type:            nonrobust   LLR p-value:                    0.1552\n",
       "==============================================================================\n",
       "                 coef    std err          z      P>|z|      [0.025      0.975]\n",
       "------------------------------------------------------------------------------\n",
       "Intercept     -2.5988      1.918     -1.355      0.175      -6.358       1.161\n",
       "x              0.4170      0.297      1.404      0.160      -0.165       0.999\n",
       "==============================================================================\n",
       "\"\"\""
      ]
     },
     "execution_count": 69,
     "metadata": {},
     "output_type": "execute_result"
    }
   ],
   "source": [
    "model = smf.poisson(data=fbock, formula=\"y ~ 1 + x\")\n",
    "model.fit().summary()"
   ]
  },
  {
   "cell_type": "markdown",
   "metadata": {},
   "source": [
    "__г)__ C помощью полученного протокола, проверим гипотезу о взаимосвязи призраков и выпитого коньяка.\n",
    "\n",
    "- Точечная оценка коэффицента перед коньяком равна $0.4170$. ММП даёт нам асимптотически нормальные оценки, то есть мы можем для проверки гипотез для коэффициента использовать $z-$тест. \n",
    "- В колонке $z$ посчитана статистика для гипотезы о равенстве коэффициента нулю (гипотеза о значимости коэффициента). Она оказалась равна $1.404$. Также для неё найдено p_value, оно оказалось равно $0.160$. То есть гипотеза о равенстве коэффициента нулю не отвергается. \n",
    "\n",
    "> Если все наши предпосылки выполнены и данные действительно имеют распределение Пуассона, коньяк никак не влияет на число увиденных приведений. \n"
   ]
  },
  {
   "cell_type": "markdown",
   "metadata": {},
   "source": [
    "# 3. Гифка с накоплением \n",
    "\n",
    "На гифке нарисовано как пуасоновская функция правдоподобия постепенно накапливается из отдельных наблюдений и становится более выраженной: \n",
    "\n",
    "![ ](./images/animation_likelihood.gif)\n"
   ]
  },
  {
   "cell_type": "code",
   "execution_count": null,
   "metadata": {},
   "outputs": [],
   "source": []
  },
  {
   "cell_type": "markdown",
   "metadata": {},
   "source": [
    "\n",
    "#  Регрессия - моя профессия\n",
    "\n",
    "В этой тетрадке мы попробуем найте BLUE-оценки и проверить пару гипотез. "
   ]
  },
  {
   "cell_type": "code",
   "execution_count": 79,
   "metadata": {},
   "outputs": [],
   "source": [
    "import numpy as np\n",
    "import pandas as pd\n",
    "\n",
    "from scipy import stats \n",
    "\n",
    "import seaborn as sns\n",
    "import matplotlib.pyplot as plt\n",
    "\n",
    "plt.style.use('ggplot')\n",
    "%matplotlib inline"
   ]
  },
  {
   "cell_type": "markdown",
   "metadata": {},
   "source": [
    "## Данные"
   ]
  },
  {
   "cell_type": "markdown",
   "metadata": {},
   "source": [
    "  "
   ]
  },
  {
   "cell_type": "code",
   "execution_count": 80,
   "metadata": {},
   "outputs": [
    {
     "name": "stdout",
     "output_type": "stream",
     "text": [
      "(200, 4)\n"
     ]
    },
    {
     "data": {
      "text/html": [
       "<div>\n",
       "<style scoped>\n",
       "    .dataframe tbody tr th:only-of-type {\n",
       "        vertical-align: middle;\n",
       "    }\n",
       "\n",
       "    .dataframe tbody tr th {\n",
       "        vertical-align: top;\n",
       "    }\n",
       "\n",
       "    .dataframe thead th {\n",
       "        text-align: right;\n",
       "    }\n",
       "</style>\n",
       "<table border=\"1\" class=\"dataframe\">\n",
       "  <thead>\n",
       "    <tr style=\"text-align: right;\">\n",
       "      <th></th>\n",
       "      <th>TV</th>\n",
       "      <th>Radio</th>\n",
       "      <th>Newspaper</th>\n",
       "      <th>Sales</th>\n",
       "    </tr>\n",
       "  </thead>\n",
       "  <tbody>\n",
       "    <tr>\n",
       "      <th>1</th>\n",
       "      <td>230.1</td>\n",
       "      <td>37.8</td>\n",
       "      <td>69.2</td>\n",
       "      <td>22.1</td>\n",
       "    </tr>\n",
       "    <tr>\n",
       "      <th>2</th>\n",
       "      <td>44.5</td>\n",
       "      <td>39.3</td>\n",
       "      <td>45.1</td>\n",
       "      <td>10.4</td>\n",
       "    </tr>\n",
       "    <tr>\n",
       "      <th>3</th>\n",
       "      <td>17.2</td>\n",
       "      <td>45.9</td>\n",
       "      <td>69.3</td>\n",
       "      <td>9.3</td>\n",
       "    </tr>\n",
       "    <tr>\n",
       "      <th>4</th>\n",
       "      <td>151.5</td>\n",
       "      <td>41.3</td>\n",
       "      <td>58.5</td>\n",
       "      <td>18.5</td>\n",
       "    </tr>\n",
       "    <tr>\n",
       "      <th>5</th>\n",
       "      <td>180.8</td>\n",
       "      <td>10.8</td>\n",
       "      <td>58.4</td>\n",
       "      <td>12.9</td>\n",
       "    </tr>\n",
       "  </tbody>\n",
       "</table>\n",
       "</div>"
      ],
      "text/plain": [
       "      TV  Radio  Newspaper  Sales\n",
       "1  230.1   37.8       69.2   22.1\n",
       "2   44.5   39.3       45.1   10.4\n",
       "3   17.2   45.9       69.3    9.3\n",
       "4  151.5   41.3       58.5   18.5\n",
       "5  180.8   10.8       58.4   12.9"
      ]
     },
     "execution_count": 80,
     "metadata": {},
     "output_type": "execute_result"
    }
   ],
   "source": [
    "df = pd.read_csv('../data/Advertising.csv', index_col=0)\n",
    "print(df.shape)\n",
    "df.head()"
   ]
  },
  {
   "cell_type": "markdown",
   "metadata": {},
   "source": [
    "__Описание колонок:__ \n",
    "\n",
    "- `Sales` - продажи продукта на данном рынке (в тысячах штук) \n",
    "- `TV` -  доллары, потраченные на ТВ рекламу для одного продукта на данном рынке (в тысячах долларов)\n",
    "- `Radio` - доллары, потраченные на радио рекламу\n",
    "- `Newspaper` - доллары, потраченные на рекламу в газетах\n",
    "\n",
    "В нашей выборке мы имеем 200 **наблюдений** (200 разных рынков с разным объёмом рекламы)"
   ]
  },
  {
   "cell_type": "markdown",
   "metadata": {},
   "source": [
    "## Вопросы\n",
    "\n",
    "Давайте представим, что мы работаем на компанию, которая производит и продает этот товар. Компания может задать нам вопрос: как мы должны тратить наши рекламные деньги в будущем?\n",
    "\n",
    "Этот общий вопрос может привести вас к более конкретным вопросам:\n",
    "\n",
    "1. Существует ли связь между рекламой и продажами?\n",
    "2. Насколько сильны эти отношения?\n",
    "3. Какие типы рекламы способствуют росту продаж?\n",
    "4. Зная расходы на рекламу на конкретном рынке, можем ли мы предсказать продажи?"
   ]
  },
  {
   "cell_type": "markdown",
   "metadata": {},
   "source": [
    "# 1. Парная регрессия в уровнях\n",
    "\n",
    "Взглянем как продажи зависят от типов рекламы."
   ]
  },
  {
   "cell_type": "code",
   "execution_count": 81,
   "metadata": {},
   "outputs": [
    {
     "name": "stderr",
     "output_type": "stream",
     "text": [
      "C:\\Users\\sasha\\anaconda3\\lib\\site-packages\\seaborn\\axisgrid.py:1912: UserWarning: The `size` parameter has been renamed to `height`; please update your code.\n",
      "  warnings.warn(msg, UserWarning)\n"
     ]
    },
    {
     "data": {
      "image/png": "[encoded data removed]",
      "text/plain": [
       "<Figure size 1080x360 with 3 Axes>"
      ]
     },
     "metadata": {
      "needs_background": "light"
     },
     "output_type": "display_data"
    }
   ],
   "source": [
    "sns.pairplot(\n",
    "    df, \n",
    "    y_vars='Sales', \n",
    "    x_vars=['Radio', 'Newspaper', 'TV'], \n",
    "    size=5,\n",
    "    kind='reg',\n",
    "    diag_kind=None\n",
    ");"
   ]
  },
  {
   "cell_type": "markdown",
   "metadata": {},
   "source": [
    "Для начала давайте поговорим только про рекламу на TV. Оценим параметры модели \n",
    "\n",
    "$$\n",
    "Sales_i = \\beta_0 + \\beta_1 \\cdot TV_i + \\varepsilon_i\n",
    "$$"
   ]
  },
  {
   "cell_type": "code",
   "execution_count": 82,
   "metadata": {},
   "outputs": [
    {
     "name": "stdout",
     "output_type": "stream",
     "text": [
      "                            OLS Regression Results                            \n",
      "==============================================================================\n",
      "Dep. Variable:                  Sales   R-squared:                       0.612\n",
      "Model:                            OLS   Adj. R-squared:                  0.610\n",
      "Method:                 Least Squares   F-statistic:                     312.1\n",
      "Date:                Sat, 04 Dec 2021   Prob (F-statistic):           1.47e-42\n",
      "Time:                        10:37:24   Log-Likelihood:                -519.05\n",
      "No. Observations:                 200   AIC:                             1042.\n",
      "Df Residuals:                     198   BIC:                             1049.\n",
      "Df Model:                           1                                         \n",
      "Covariance Type:            nonrobust                                         \n",
      "==============================================================================\n",
      "                 coef    std err          t      P>|t|      [0.025      0.975]\n",
      "------------------------------------------------------------------------------\n",
      "Intercept      7.0326      0.458     15.360      0.000       6.130       7.935\n",
      "TV             0.0475      0.003     17.668      0.000       0.042       0.053\n",
      "==============================================================================\n",
      "Omnibus:                        0.531   Durbin-Watson:                   1.935\n",
      "Prob(Omnibus):                  0.767   Jarque-Bera (JB):                0.669\n",
      "Skew:                          -0.089   Prob(JB):                        0.716\n",
      "Kurtosis:                       2.779   Cond. No.                         338.\n",
      "==============================================================================\n",
      "\n",
      "Notes:\n",
      "[1] Standard Errors assume that the covariance matrix of the errors is correctly specified.\n"
     ]
    }
   ],
   "source": [
    "import statsmodels.formula.api as smf\n",
    "\n",
    "model = smf.ols('Sales ~ TV', data=df)\n",
    "res = model.fit()\n",
    "print(res.summary())"
   ]
  },
  {
   "cell_type": "code",
   "execution_count": 83,
   "metadata": {},
   "outputs": [
    {
     "data": {
      "text/plain": [
       "Intercept    7.032594\n",
       "TV           0.047537\n",
       "dtype: float64"
      ]
     },
     "execution_count": 83,
     "metadata": {},
     "output_type": "execute_result"
    }
   ],
   "source": [
    "res.params"
   ]
  },
  {
   "cell_type": "markdown",
   "metadata": {},
   "source": [
    "- Переменная $TV$ значима, так как $p$-значение для проверки гипотезы о том, что она равна нулю оказалось очень маленьким, наблюдаемое значение статистики $17.668$. Оно лежит глубоко в хвосте нашего распределения. \n",
    "- Получившееся уравнение \n",
    "\n",
    "$$\n",
    "Sales_i = 7.033 + 0.047 \\cdot TV_i\n",
    "$$\n",
    "\n",
    "можно проинтерпретировать так, что каждые дополнительные $1000$ долларов, потраченные на рекламу по телевизору, увеличивают продажы на $47.537$ товаров.\n",
    "\n",
    "> Мы можем так интерпретировать значение коэффициента, если выполняются предпослыки линейной регрессии. Например, первая предпослыка говорит о том, что мы должны были верно специфицировать модель. \n",
    "\n",
    "Если модель специфицирована неверно, у нас есть проблемы. \n",
    "\n",
    "> Мы получаем корректные оценки стандартных ошибок в ситуации, когда ошибки независимо одинаково распределены с одинаковой дисперсией. Если это не так, оценки ошибок искажены. "
   ]
  },
  {
   "cell_type": "markdown",
   "metadata": {},
   "source": [
    "# 2. Парная регрессия в логарифмах"
   ]
  },
  {
   "cell_type": "markdown",
   "metadata": {},
   "source": [
    "У нашей модели явно есть проблемы со спецификацией. Давайте попробуем их исправить. Если взглянуть на график того, как между собой взаимосвязаны реклама по TV и продажи, можно заметить нелинейную зависимость, похожую на логарифмическую. "
   ]
  },
  {
   "cell_type": "code",
   "execution_count": 84,
   "metadata": {},
   "outputs": [
    {
     "name": "stderr",
     "output_type": "stream",
     "text": [
      "C:\\Users\\sasha\\anaconda3\\lib\\site-packages\\seaborn\\axisgrid.py:1912: UserWarning: The `size` parameter has been renamed to `height`; please update your code.\n",
      "  warnings.warn(msg, UserWarning)\n"
     ]
    },
    {
     "data": {
      "image/png": "[encoded data removed]",
      "text/plain": [
       "<Figure size 720x720 with 4 Axes>"
      ]
     },
     "metadata": {
      "needs_background": "light"
     },
     "output_type": "display_data"
    }
   ],
   "source": [
    "df['ln_TV'] = df['TV'].apply(np.log)\n",
    "df['ln_Sales'] = df['Sales'].apply(np.log)\n",
    "\n",
    "sns.pairplot(\n",
    "    df, \n",
    "    y_vars=['Sales', 'ln_Sales'], \n",
    "    x_vars=['TV', 'ln_TV'], \n",
    "    size=5,\n",
    "    diag_kind=None\n",
    ");\n"
   ]
  },
  {
   "cell_type": "markdown",
   "metadata": {},
   "source": [
    "Очистим данные от выбросов. "
   ]
  },
  {
   "cell_type": "code",
   "execution_count": 85,
   "metadata": {},
   "outputs": [],
   "source": [
    "df = df[df.Sales > df.Sales.quantile(0.01)]"
   ]
  },
  {
   "cell_type": "markdown",
   "metadata": {},
   "source": [
    "Оценим параметры модели \n",
    "\n",
    "$$\n",
    "\\ln Sales_i = \\beta_0 + \\beta_1 \\cdot \\ln TV_i + \\varepsilon_i\n",
    "$$"
   ]
  },
  {
   "cell_type": "code",
   "execution_count": 86,
   "metadata": {},
   "outputs": [
    {
     "name": "stdout",
     "output_type": "stream",
     "text": [
      "                            OLS Regression Results                            \n",
      "==============================================================================\n",
      "Dep. Variable:               ln_Sales   R-squared:                       0.689\n",
      "Model:                            OLS   Adj. R-squared:                  0.688\n",
      "Method:                 Least Squares   F-statistic:                     435.1\n",
      "Date:                Sat, 04 Dec 2021   Prob (F-statistic):           1.16e-51\n",
      "Time:                        10:37:25   Log-Likelihood:                 29.332\n",
      "No. Observations:                 198   AIC:                            -54.66\n",
      "Df Residuals:                     196   BIC:                            -48.09\n",
      "Df Model:                           1                                         \n",
      "Covariance Type:            nonrobust                                         \n",
      "==============================================================================\n",
      "                 coef    std err          t      P>|t|      [0.025      0.975]\n",
      "------------------------------------------------------------------------------\n",
      "Intercept      0.9757      0.078     12.443      0.000       0.821       1.130\n",
      "ln_TV          0.3407      0.016     20.859      0.000       0.308       0.373\n",
      "==============================================================================\n",
      "Omnibus:                       29.778   Durbin-Watson:                   1.987\n",
      "Prob(Omnibus):                  0.000   Jarque-Bera (JB):                7.992\n",
      "Skew:                          -0.077   Prob(JB):                       0.0184\n",
      "Kurtosis:                       2.028   Cond. No.                         26.3\n",
      "==============================================================================\n",
      "\n",
      "Notes:\n",
      "[1] Standard Errors assume that the covariance matrix of the errors is correctly specified.\n"
     ]
    }
   ],
   "source": [
    "import statsmodels.formula.api as smf\n",
    "\n",
    "model = smf.ols('ln_Sales ~ ln_TV', data=df)\n",
    "res = model.fit()\n",
    "print(res.summary())"
   ]
  },
  {
   "cell_type": "markdown",
   "metadata": {},
   "source": [
    "Переменная снова значима. $R^2$ подрос. Все коэффициенты в моделях, где целевые и объясняющие переменные взяты в логарифмах, интерпретируются в процентных изменениях. Например, коэффициент $0.3550$ можно проинтерпретировать как то, на сколько процентов увеличутся продажи, при изменении трат на рекламу по телевизору на $1\\%$. "
   ]
  },
  {
   "cell_type": "markdown",
   "metadata": {},
   "source": [
    "# 3. Множественная регрессия"
   ]
  },
  {
   "cell_type": "markdown",
   "metadata": {},
   "source": [
    "Оценим уравнение \n",
    "\n",
    "$$\n",
    "\\ln Sales_i = \\beta_0 + \\beta_1 \\cdot \\ln TV_i + \\beta_2 \\cdot Radio_i + \\beta_3 \\cdot Newspaper_i + \\varepsilon_i\n",
    "$$"
   ]
  },
  {
   "cell_type": "code",
   "execution_count": 87,
   "metadata": {},
   "outputs": [
    {
     "name": "stdout",
     "output_type": "stream",
     "text": [
      "                            OLS Regression Results                            \n",
      "==============================================================================\n",
      "Dep. Variable:               ln_Sales   R-squared:                       0.979\n",
      "Model:                            OLS   Adj. R-squared:                  0.978\n",
      "Method:                 Least Squares   F-statistic:                     2959.\n",
      "Date:                Sat, 04 Dec 2021   Prob (F-statistic):          1.17e-161\n",
      "Time:                        10:39:18   Log-Likelihood:                 294.22\n",
      "No. Observations:                 198   AIC:                            -580.4\n",
      "Df Residuals:                     194   BIC:                            -567.3\n",
      "Df Model:                           3                                         \n",
      "Covariance Type:            nonrobust                                         \n",
      "==============================================================================\n",
      "                 coef    std err          t      P>|t|      [0.025      0.975]\n",
      "------------------------------------------------------------------------------\n",
      "Intercept      0.6661      0.022     30.446      0.000       0.623       0.709\n",
      "ln_TV          0.3397      0.004     78.844      0.000       0.331       0.348\n",
      "Radio          0.0136      0.000     47.947      0.000       0.013       0.014\n",
      "Newspaper  -7.896e-05      0.000     -0.407      0.685      -0.000       0.000\n",
      "==============================================================================\n",
      "Omnibus:                        3.843   Durbin-Watson:                   2.075\n",
      "Prob(Omnibus):                  0.146   Jarque-Bera (JB):                3.540\n",
      "Skew:                          -0.241   Prob(JB):                        0.170\n",
      "Kurtosis:                       3.444   Cond. No.                         253.\n",
      "==============================================================================\n",
      "\n",
      "Notes:\n",
      "[1] Standard Errors assume that the covariance matrix of the errors is correctly specified.\n"
     ]
    }
   ],
   "source": [
    "model = smf.ols('ln_Sales ~ ln_TV + Radio + Newspaper', data=df)\n",
    "res = model.fit()\n",
    "print(res.summary())"
   ]
  },
  {
   "cell_type": "markdown",
   "metadata": {},
   "source": [
    "- Уравнение значимо в целом, значение F-статистики попадает глубоко в хвост \n",
    "- Коэффициент перед `Newspaper` отрицательный и незначимый\n",
    "\n",
    "> Если модель специфицирована верно и выполнены все предпосылки, мы можем сделать вывод, что траты на рекламу в газетах никак не повышают продажи и от них можно отказаться "
   ]
  },
  {
   "cell_type": "markdown",
   "metadata": {},
   "source": [
    "# 4. Проверка предпосылок модели\n",
    "\n",
    "- Есть ли мультиколинеарность? "
   ]
  },
  {
   "cell_type": "code",
   "execution_count": 41,
   "metadata": {},
   "outputs": [
    {
     "data": {
      "text/html": [
       "<div>\n",
       "<style scoped>\n",
       "    .dataframe tbody tr th:only-of-type {\n",
       "        vertical-align: middle;\n",
       "    }\n",
       "\n",
       "    .dataframe tbody tr th {\n",
       "        vertical-align: top;\n",
       "    }\n",
       "\n",
       "    .dataframe thead th {\n",
       "        text-align: right;\n",
       "    }\n",
       "</style>\n",
       "<table border=\"1\" class=\"dataframe\">\n",
       "  <thead>\n",
       "    <tr style=\"text-align: right;\">\n",
       "      <th></th>\n",
       "      <th>ln_TV</th>\n",
       "      <th>Radio</th>\n",
       "      <th>Newspaper</th>\n",
       "    </tr>\n",
       "  </thead>\n",
       "  <tbody>\n",
       "    <tr>\n",
       "      <th>ln_TV</th>\n",
       "      <td>1.000000</td>\n",
       "      <td>0.004521</td>\n",
       "      <td>-0.004387</td>\n",
       "    </tr>\n",
       "    <tr>\n",
       "      <th>Radio</th>\n",
       "      <td>0.004521</td>\n",
       "      <td>1.000000</td>\n",
       "      <td>0.358916</td>\n",
       "    </tr>\n",
       "    <tr>\n",
       "      <th>Newspaper</th>\n",
       "      <td>-0.004387</td>\n",
       "      <td>0.358916</td>\n",
       "      <td>1.000000</td>\n",
       "    </tr>\n",
       "  </tbody>\n",
       "</table>\n",
       "</div>"
      ],
      "text/plain": [
       "              ln_TV     Radio  Newspaper\n",
       "ln_TV      1.000000  0.004521  -0.004387\n",
       "Radio      0.004521  1.000000   0.358916\n",
       "Newspaper -0.004387  0.358916   1.000000"
      ]
     },
     "execution_count": 41,
     "metadata": {},
     "output_type": "execute_result"
    }
   ],
   "source": [
    "df[['ln_TV', 'Radio', 'Newspaper']].corr()"
   ]
  },
  {
   "cell_type": "markdown",
   "metadata": {},
   "source": [
    "Между переменными нет высокой корреляции. Значит у нас получится корректно оценить нашу модель. Есть другие, более формальне критерии для поиска проблем, связанных с мультиколинеарностью, но мы про них говорить не будем. "
   ]
  },
  {
   "cell_type": "markdown",
   "metadata": {},
   "source": [
    "- Корректны ли данные, с которыми мы работаем, для решения поставленной задачи? \n",
    "- Корректна ли спецификация модели? \n",
    "- Есть ли выборосы? \n",
    "\n",
    "Про всё это мы поговорили выше. Судя по всему, оценки коэффициентов, которые мы получили - несмещённые и состоятельные. \n",
    "\n",
    "- Есть ли в остатках __автокоррелированность__?\n",
    "\n",
    "Для проверки этой предпосылки нам достаточно посмотреть в протокол оценивания и найти там строчку `Durbin-Watson`. Это статистика Дарбина-Уотсона. Если она оказывается в районе двух, то автокоррелированности в остатках нет. На самом деле это тоже статистика и для неё есть формальные критические значения, но мы в это углубляться не будем. Есть и другие критерии для проверки этой предпосылки. \n",
    "\n",
    "- Есть ли в остатках __гетероскедастичность__?\n",
    "\n",
    "Для гетероскедастичности построим картинку и воспользуемся каким-нибудь критерием. "
   ]
  },
  {
   "cell_type": "code",
   "execution_count": 42,
   "metadata": {},
   "outputs": [
    {
     "name": "stderr",
     "output_type": "stream",
     "text": [
      "C:\\Users\\sasha\\anaconda3\\lib\\site-packages\\seaborn\\axisgrid.py:1912: UserWarning: The `size` parameter has been renamed to `height`; please update your code.\n",
      "  warnings.warn(msg, UserWarning)\n"
     ]
    },
    {
     "data": {
      "image/png": "[encoded data removed]",
      "text/plain": [
       "<Figure size 1080x360 with 3 Axes>"
      ]
     },
     "metadata": {
      "needs_background": "light"
     },
     "output_type": "display_data"
    }
   ],
   "source": [
    "df['residuals'] = res.resid\n",
    "\n",
    "sns.pairplot(\n",
    "    df, \n",
    "    y_vars='residuals', \n",
    "    x_vars=['Radio', 'Newspaper', 'ln_TV'], \n",
    "    size=5,\n",
    "    diag_kind=None\n",
    ");"
   ]
  },
  {
   "cell_type": "markdown",
   "metadata": {},
   "source": [
    "Судя по графику, дисперсия ошибок зависит от объёма рекламы по радио. Причём квадратично. Выходит, что оценки дисперсий коэффициентов искажены и доверительные интервалы оказываются смещёнными. Можно провести формальный тест на гомоскедастичность. Таких тестов есть довольно много. "
   ]
  },
  {
   "cell_type": "code",
   "execution_count": 43,
   "metadata": {},
   "outputs": [
    {
     "data": {
      "text/plain": [
       "(51.35841835091481,\n",
       " 7.041434689088952e-12,\n",
       " 22.765010819359823,\n",
       " 1.1142274879382572e-12)"
      ]
     },
     "execution_count": 43,
     "metadata": {},
     "output_type": "execute_result"
    }
   ],
   "source": [
    "from statsmodels.stats.diagnostic import het_breuschpagan\n",
    "het_breuschpagan(res.resid, df[['ln_TV', 'Radio', 'Newspaper']].values)"
   ]
  },
  {
   "cell_type": "markdown",
   "metadata": {},
   "source": [
    "Видим, что `pvalue` (последнее значение) сильно ниже уровня значимости. Гипотеза о гомоскедастичности отвергается. Можно ввести корректировку и исправить значения ошибок прямо при оценивании модели. "
   ]
  },
  {
   "cell_type": "code",
   "execution_count": 44,
   "metadata": {},
   "outputs": [
    {
     "name": "stdout",
     "output_type": "stream",
     "text": [
      "                            OLS Regression Results                            \n",
      "==============================================================================\n",
      "Dep. Variable:               ln_Sales   R-squared:                       0.979\n",
      "Model:                            OLS   Adj. R-squared:                  0.978\n",
      "Method:                 Least Squares   F-statistic:                     1807.\n",
      "Date:                Sat, 04 Dec 2021   Prob (F-statistic):          1.85e-141\n",
      "Time:                        08:49:41   Log-Likelihood:                 294.22\n",
      "No. Observations:                 198   AIC:                            -580.4\n",
      "Df Residuals:                     194   BIC:                            -567.3\n",
      "Df Model:                           3                                         \n",
      "Covariance Type:                  HC3                                         \n",
      "==============================================================================\n",
      "                 coef    std err          z      P>|z|      [0.025      0.975]\n",
      "------------------------------------------------------------------------------\n",
      "Intercept      0.6661      0.029     23.108      0.000       0.610       0.723\n",
      "ln_TV          0.3397      0.005     63.393      0.000       0.329       0.350\n",
      "Radio          0.0136      0.000     37.356      0.000       0.013       0.014\n",
      "Newspaper  -7.896e-05      0.000     -0.374      0.709      -0.000       0.000\n",
      "==============================================================================\n",
      "Omnibus:                        3.843   Durbin-Watson:                   2.075\n",
      "Prob(Omnibus):                  0.146   Jarque-Bera (JB):                3.540\n",
      "Skew:                          -0.241   Prob(JB):                        0.170\n",
      "Kurtosis:                       3.444   Cond. No.                         253.\n",
      "==============================================================================\n",
      "\n",
      "Notes:\n",
      "[1] Standard Errors are heteroscedasticity robust (HC3)\n"
     ]
    }
   ],
   "source": [
    "model = smf.ols('ln_Sales ~ ln_TV + Radio + Newspaper', data=df)\n",
    "res = model.fit(cov_type='HC3')\n",
    "print(res.summary())"
   ]
  },
  {
   "cell_type": "markdown",
   "metadata": {},
   "source": [
    "Значения стандартных ошибок довольно сильно изменились. Теперь мы можем использовать их для проверки гипотез. \n",
    "\n",
    "> Нормальность остатков нам не нужна. Из-за корректировки ошибок мы можем пользоваться только асимптотическими результатами. В данных нет выбросов, поэтому предельные теоремы тут работают. "
   ]
  },
  {
   "cell_type": "markdown",
   "metadata": {},
   "source": [
    "# 4. Выводы: \n",
    "\n",
    "1. Тратить деньги на рекламу в газетах неэффективно. Гипотеза о том, что коэффициент перед этой переменной равен нулю, не отвергается. \n",
    "2. Реклама по телевидению обладает убывающей отдачей от масштаба. Коэффициент перед логарифмом получился меньше единицы. Этот канал оказывается в плане рекламы самым эффективным. \n",
    "3. Канал, связанный с радио, судя по всему, недоиспользуется. Здравый смысл и микроэкономика подсказывают, что от него тоже логично ожидать убывающую от масштаба отдачу. Однако в данных мы видим, что она линейная. "
   ]
  },
  {
   "cell_type": "code",
   "execution_count": null,
   "metadata": {},
   "outputs": [],
   "source": []
  }
 ],
 "metadata": {
  "kernelspec": {
   "display_name": "Python 3",
   "language": "python",
   "name": "python3"
  },
  "language_info": {
   "codemirror_mode": {
    "name": "ipython",
    "version": 3
   },
   "file_extension": ".py",
   "mimetype": "text/x-python",
   "name": "python",
   "nbconvert_exporter": "python",
   "pygments_lexer": "ipython3",
   "version": "3.8.5"
  },
  "toc": {
   "base_numbering": 1,
   "nav_menu": {},
   "number_sections": true,
   "sideBar": true,
   "skip_h1_title": false,
   "title_cell": "Table of Contents",
   "title_sidebar": "Contents",
   "toc_cell": false,
   "toc_position": {},
   "toc_section_display": true,
   "toc_window_display": false
  }
 },
 "nbformat": 4,
 "nbformat_minor": 4
}
