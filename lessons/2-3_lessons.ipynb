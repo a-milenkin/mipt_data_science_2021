{
 "cells": [
  {
   "cell_type": "code",
   "execution_count": 1,
   "metadata": {
    "ExecuteTime": {
     "end_time": "2022-09-21T07:08:29.066706Z",
     "start_time": "2022-09-21T07:08:28.205030Z"
    }
   },
   "outputs": [
    {
     "name": "stderr",
     "output_type": "stream",
     "text": [
      "C:\\Users\\sasha\\anaconda3\\lib\\site-packages\\numpy\\_distributor_init.py:30: UserWarning: loaded more than 1 DLL from .libs:\n",
      "C:\\Users\\sasha\\anaconda3\\lib\\site-packages\\numpy\\.libs\\libopenblas.EL2C6PLE4ZYW3ECEVIV3OXXGRN2NRFM2.gfortran-win_amd64.dll\n",
      "C:\\Users\\sasha\\anaconda3\\lib\\site-packages\\numpy\\.libs\\libopenblas.QVLO2T66WEPI7JZ63PS3HMOHFEY472BC.gfortran-win_amd64.dll\n",
      "  warnings.warn(\"loaded more than 1 DLL from .libs:\"\n"
     ]
    }
   ],
   "source": [
    "import numpy as np\n",
    "import pandas as pd # Для работы с табличными данными\n",
    "\n",
    "import scipy\n",
    "\n",
    "import matplotlib.pyplot as plt"
   ]
  },
  {
   "cell_type": "markdown",
   "metadata": {},
   "source": [
    "<div class=\"alert alert-info\">\n",
    "\n",
    "<b>Программа семинара (две части сразу): </b>\n",
    "    \n",
    "\n",
    "\n",
    "* Что такое случайность. Случайная величина и ее распределение.\n",
    "Характеристики случайных величин.\n",
    "Какими бывают случайные величины (примеры распределений)\n",
    "\n",
    "\n",
    "* Генерация случайных велечин в Python.\n",
    "Расчет описательных статистик.\n",
    "Гистограмма и эмпирическая функция распределения: расчет.\n",
    "Эмпирическое распределение в Python.\n",
    "Описательные статистики в pandas.\n",
    "pandas: группировка и простые методы визуализации.\n",
    "\n",
    "\n",
    "</div>\n"
   ]
  },
  {
   "cell_type": "markdown",
   "metadata": {},
   "source": [
    "**Случайной** называется величина, численное значение которой\n",
    "может меняться в зависимости от результата стохастического\n",
    "эксперимента\n"
   ]
  },
  {
   "cell_type": "code",
   "execution_count": 57,
   "metadata": {
    "ExecuteTime": {
     "end_time": "2022-09-21T07:46:56.311595Z",
     "start_time": "2022-09-21T07:46:56.304594Z"
    }
   },
   "outputs": [
    {
     "data": {
      "text/plain": [
       "0.706271387498195"
      ]
     },
     "execution_count": 57,
     "metadata": {},
     "output_type": "execute_result"
    }
   ],
   "source": [
    "np.random.sample()"
   ]
  },
  {
   "cell_type": "markdown",
   "metadata": {},
   "source": [
    "\n",
    "<div class=\"alert alert-info\">\n",
    "\n",
    "\n",
    "В зависимости от возможных значений все случайные величины можно\n",
    "разбить на два класса – **дискретные** и **непрерывные**.\n",
    "\n",
    "**Дискретной** назовѐм случайную величину, возможные значения\n",
    "которой образуют или конечное множество, или счѐтное\n",
    "(бесконечное множество, элементы которого можно\n",
    "пронумеровать). Пример дискретной величины\n",
    "\n",
    "\n",
    "\n",
    "</div>\n"
   ]
  },
  {
   "cell_type": "markdown",
   "metadata": {},
   "source": [
    "| $\\xi$ | 1 | 2 | 3 | 2 |\n",
    "| --- | ----------- |----------- |----------- |----------- |"
   ]
  },
  {
   "cell_type": "code",
   "execution_count": 61,
   "metadata": {
    "ExecuteTime": {
     "end_time": "2022-09-21T07:48:42.566359Z",
     "start_time": "2022-09-21T07:48:42.553573Z"
    }
   },
   "outputs": [
    {
     "data": {
      "text/plain": [
       "array([5, 2, 9, 4, 1])"
      ]
     },
     "execution_count": 61,
     "metadata": {},
     "output_type": "execute_result"
    }
   ],
   "source": [
    "np.random.randint(1, 11, 5) # Для генерации случайного целочисленного числа в диапазоне [min, max) "
   ]
  },
  {
   "cell_type": "code",
   "execution_count": 62,
   "metadata": {
    "ExecuteTime": {
     "end_time": "2022-09-21T07:48:48.690532Z",
     "start_time": "2022-09-21T07:48:48.633751Z"
    }
   },
   "outputs": [
    {
     "data": {
      "text/plain": [
       "array([0.22420471, 0.80274727, 0.16055352, 0.03103053, 0.64514443,\n",
       "       0.9710331 , 0.73034856, 0.30886397, 0.97949061, 0.13095201])"
      ]
     },
     "execution_count": 62,
     "metadata": {},
     "output_type": "execute_result"
    }
   ],
   "source": [
    "np.random.sample(10) # от 0 до 1"
   ]
  },
  {
   "cell_type": "markdown",
   "metadata": {},
   "source": [
    "\n",
    "\n",
    "<div class=\"alert alert-info\">\n",
    "\n",
    "Назовѐм **законом распределения** дискретной случайной величины правило, по которому каждому возможному значению ставится в\n",
    "соответствие вероятность, с которой случайная величина может\n",
    "принять это значение\n",
    "\n",
    "\n",
    "</div>\n"
   ]
  },
  {
   "cell_type": "markdown",
   "metadata": {},
   "source": [
    "| $\\xi$ | 1 | 2 | 3 |\n",
    "| --- | ----------- | ----------- | ----------- |\n",
    "| **p** | 0.04 | 0.44 | 0.48 |"
   ]
  },
  {
   "cell_type": "markdown",
   "metadata": {},
   "source": [
    "Назовѐм функцией распределения\n",
    "**F(x)** функцию, равную вероятности того, что случайная величина **$\\xi$** примет значение, меньшее x."
   ]
  },
  {
   "cell_type": "markdown",
   "metadata": {},
   "source": [
    "$$F(x)=p(\\xi < x)$$"
   ]
  },
  {
   "cell_type": "markdown",
   "metadata": {},
   "source": [
    "$$F(x)=p(\\xi < x) = \\sum_{x_i<x} p_i$$"
   ]
  },
  {
   "cell_type": "markdown",
   "metadata": {},
   "source": [
    "<div class=\"alert alert-info\">\n",
    "\n",
    "где $(x_i < x)$ означает, что суммирование ведѐтся по всем индексам i, для которых это неравенство выполняется. \n",
    "\n",
    "Функция распределения **F(x)** дискретной случайной величины $\\xi$ является ступенчатой, сохраняющей постоянное значение на каждом интервале, не содержащем точек $x_i$, и терпящей в этих точках скачок, равный $p_i$. Для примера 1 функция распределения и еѐ график представлены на рисунке ниже\n",
    "\n",
    "\n",
    "</div>\n"
   ]
  },
  {
   "cell_type": "markdown",
   "metadata": {},
   "source": [
    "<p style=\"align: center;\"><img align=center src=\"images/funco_distrib_F.PNG\"  width=640></p>"
   ]
  },
  {
   "cell_type": "markdown",
   "metadata": {},
   "source": [
    "# Примеры распределений"
   ]
  },
  {
   "cell_type": "markdown",
   "metadata": {},
   "source": [
    "<p style=\"align: center;\"><img align=center src=\"https://lh3.googleusercontent.com/proxy/FtGWCtRt9mlDYNFFPWNvtuWCh4S-utft_LFUjhxVQLaGV8wQiCW4CN66NBxMLiixs-IMS4ld1G8-HX8nPRTqJ5oYjeeeCob9z-jrRZZECRQa393c2B0C2WQ7VC5c_zZ60Q\"  width=640></p>"
   ]
  },
  {
   "cell_type": "markdown",
   "metadata": {
    "ExecuteTime": {
     "end_time": "2022-09-21T07:42:55.701422Z",
     "start_time": "2022-09-21T07:42:55.590708Z"
    }
   },
   "source": [
    "<p style=\"align: center;\"><img align=center src=\"http://www.ievbras.ru/ecostat/Kiril/Library/Book1/Content350/Image290.gif\"  width=640></p>"
   ]
  },
  {
   "cell_type": "code",
   "execution_count": 63,
   "metadata": {
    "ExecuteTime": {
     "end_time": "2022-09-21T07:54:53.219322Z",
     "start_time": "2022-09-21T07:54:52.888646Z"
    }
   },
   "outputs": [
    {
     "data": {
      "text/plain": [
       "array([7.62929232, 2.9229732 , 4.54882439, 3.15066669, 7.29093447,\n",
       "       3.29561449, 2.929552  , 4.52495145, 2.23866985, 6.43801594])"
      ]
     },
     "execution_count": 63,
     "metadata": {},
     "output_type": "execute_result"
    }
   ],
   "source": [
    "# Для генерации из равномерного распределения диапазон значений от 2 до 8,\n",
    "np.random.uniform(2, 8, 10)"
   ]
  },
  {
   "cell_type": "code",
   "execution_count": 67,
   "metadata": {
    "ExecuteTime": {
     "end_time": "2022-09-21T07:55:29.336011Z",
     "start_time": "2022-09-21T07:55:29.326977Z"
    }
   },
   "outputs": [],
   "source": [
    "# plt.hist(np.random.uniform(2, 8, 10000));"
   ]
  },
  {
   "cell_type": "code",
   "execution_count": 68,
   "metadata": {
    "ExecuteTime": {
     "end_time": "2022-09-21T07:55:42.057935Z",
     "start_time": "2022-09-21T07:55:42.011486Z"
    }
   },
   "outputs": [
    {
     "data": {
      "text/plain": [
       "array([ 0.95587204,  5.44144093, 10.02279424, -1.17199696,  1.94352572,\n",
       "       -1.02028421, -6.10456173,  3.65427708,  2.42795828,  5.7117899 ])"
      ]
     },
     "execution_count": 68,
     "metadata": {},
     "output_type": "execute_result"
    }
   ],
   "source": [
    "# Для генерации числа из нормального распределения (Гаусса) при среднем значении μ = 1.5 и стандартной девиации σ = 4.0:\n",
    "np.random.normal(1.5, 4.0, 10)"
   ]
  },
  {
   "cell_type": "code",
   "execution_count": 71,
   "metadata": {
    "ExecuteTime": {
     "end_time": "2022-09-21T07:56:07.162228Z",
     "start_time": "2022-09-21T07:56:07.152235Z"
    }
   },
   "outputs": [],
   "source": [
    "# plt.hist(np.random.normal(1.5, 1.0, 1000), bins=30);"
   ]
  },
  {
   "cell_type": "code",
   "execution_count": 72,
   "metadata": {
    "ExecuteTime": {
     "end_time": "2022-09-21T07:56:11.906785Z",
     "start_time": "2022-09-21T07:56:11.898786Z"
    }
   },
   "outputs": [
    {
     "data": {
      "text/plain": [
       "array([9, 9, 4, 8, 9, 4, 3, 4, 8, 7])"
      ]
     },
     "execution_count": 72,
     "metadata": {},
     "output_type": "execute_result"
    }
   ],
   "source": [
    "# Для генерации из дискретного распределения Пуассона при λ = 6.0,\n",
    "np.random.poisson(6.0, 10)"
   ]
  },
  {
   "cell_type": "code",
   "execution_count": 73,
   "metadata": {
    "ExecuteTime": {
     "end_time": "2022-09-21T07:56:33.490393Z",
     "start_time": "2022-09-21T07:56:33.247440Z"
    }
   },
   "outputs": [
    {
     "data": {
      "image/png": "[encoded data removed]",
      "text/plain": [
       "<Figure size 432x288 with 1 Axes>"
      ]
     },
     "metadata": {
      "needs_background": "light"
     },
     "output_type": "display_data"
    }
   ],
   "source": [
    "plt.hist(np.random.poisson(5, 1000), bins=30);"
   ]
  },
  {
   "cell_type": "markdown",
   "metadata": {},
   "source": [
    "# И многие другие распределения"
   ]
  },
  {
   "cell_type": "markdown",
   "metadata": {},
   "source": [
    "<div class=\"alert alert-info\">\n",
    "\n",
    "\n",
    "В каждом нашем примере, мы генерировали числа из непрерывного распределения. NumPy также включает генераторы для других распределений, таких как: \n",
    "* Бета\n",
    "* биномиальное\n",
    "* хи-квадрат\n",
    "* Дирихле\n",
    "* экспоненциальное\n",
    "* Фишера\n",
    "* Гамма\n",
    "* геометрическое\n",
    "* Гамбала\n",
    "* гипергеометрическое многие другие (Лапласа, логистическое, логнормальное, логарифмическое, мультиномиальное, многомерное нормальное, отрицательное биномиальное, нецентральное хи-квадрат, нецентральное Фишера, нормальное (Гаусса), Парето, Пуассона, степенное, Рэлея, Коши, Стьюдента, треугольное, Фон-Миса, Вальда, Вейбулла и Ципфа).\n",
    "\n",
    "Рассмотрим два примера.\n",
    "Для генерации из дискретного распределения Пуассона при λ = 6.0\n",
    "</div>\n",
    "\n"
   ]
  },
  {
   "cell_type": "code",
   "execution_count": 10,
   "metadata": {
    "ExecuteTime": {
     "end_time": "2022-09-21T07:08:29.208654Z",
     "start_time": "2022-09-21T07:08:29.194619Z"
    }
   },
   "outputs": [
    {
     "data": {
      "text/plain": [
       "8"
      ]
     },
     "execution_count": 10,
     "metadata": {},
     "output_type": "execute_result"
    }
   ],
   "source": [
    "np.random.poisson(6) "
   ]
  },
  {
   "cell_type": "markdown",
   "metadata": {},
   "source": [
    "# Генерация случайных величин в Python"
   ]
  },
  {
   "cell_type": "code",
   "execution_count": 76,
   "metadata": {
    "ExecuteTime": {
     "end_time": "2022-09-21T07:58:01.916704Z",
     "start_time": "2022-09-21T07:58:01.896666Z"
    }
   },
   "outputs": [
    {
     "data": {
      "text/plain": [
       "array([0.07312154, 0.59016632, 0.31030086, 0.10704698, 0.95939442,\n",
       "       0.54797447, 0.92492108, 0.25856877, 0.23676288, 0.35621452])"
      ]
     },
     "execution_count": 76,
     "metadata": {},
     "output_type": "execute_result"
    }
   ],
   "source": [
    "np.random.sample(100)"
   ]
  },
  {
   "cell_type": "code",
   "execution_count": 75,
   "metadata": {
    "ExecuteTime": {
     "end_time": "2022-09-21T07:57:44.474071Z",
     "start_time": "2022-09-21T07:57:44.452364Z"
    }
   },
   "outputs": [
    {
     "data": {
      "text/plain": [
       "array([0.95899697, 0.58058609, 0.13642686, 0.94716625, 0.06818333])"
      ]
     },
     "execution_count": 75,
     "metadata": {},
     "output_type": "execute_result"
    }
   ],
   "source": [
    "np.random.sample(5)"
   ]
  },
  {
   "cell_type": "code",
   "execution_count": 77,
   "metadata": {
    "ExecuteTime": {
     "end_time": "2022-09-21T07:58:13.062216Z",
     "start_time": "2022-09-21T07:58:13.047486Z"
    }
   },
   "outputs": [],
   "source": [
    "np.random.sample((2, 5));"
   ]
  },
  {
   "cell_type": "code",
   "execution_count": 79,
   "metadata": {
    "ExecuteTime": {
     "end_time": "2022-09-21T07:59:29.691279Z",
     "start_time": "2022-09-21T07:59:29.521204Z"
    }
   },
   "outputs": [
    {
     "data": {
      "image/png": "[encoded data removed]",
      "text/plain": [
       "<Figure size 432x288 with 1 Axes>"
      ]
     },
     "metadata": {
      "needs_background": "light"
     },
     "output_type": "display_data"
    }
   ],
   "source": [
    "values = np.random.sample(500)\n",
    "plt.hist(values);"
   ]
  },
  {
   "cell_type": "markdown",
   "metadata": {},
   "source": [
    "# Дискретные значения"
   ]
  },
  {
   "cell_type": "code",
   "execution_count": 15,
   "metadata": {
    "ExecuteTime": {
     "end_time": "2022-09-21T07:08:29.447495Z",
     "start_time": "2022-09-21T07:08:29.433460Z"
    }
   },
   "outputs": [
    {
     "data": {
      "text/plain": [
       "array([[6, 5, 5, 9, 9, 6],\n",
       "       [6, 6, 6, 6, 9, 6],\n",
       "       [5, 9, 7, 5, 9, 8],\n",
       "       [7, 5, 7, 9, 8, 5],\n",
       "       [7, 8, 8, 5, 6, 9]])"
      ]
     },
     "execution_count": 15,
     "metadata": {},
     "output_type": "execute_result"
    }
   ],
   "source": [
    "np.random.randint(5, 10, (5, 6)) # Для генерации случайного целочисленного числа в диапазоне [min, max) "
   ]
  },
  {
   "cell_type": "code",
   "execution_count": 16,
   "metadata": {
    "ExecuteTime": {
     "end_time": "2022-09-21T07:08:29.463465Z",
     "start_time": "2022-09-21T07:08:29.449462Z"
    }
   },
   "outputs": [
    {
     "data": {
      "text/plain": [
       "array([1, 0, 1, 2, 1, 0, 1, 0, 2, 2])"
      ]
     },
     "execution_count": 16,
     "metadata": {},
     "output_type": "execute_result"
    }
   ],
   "source": [
    "np.random.randint(0, 3, 10) # Для генерации случайного целочисленного числа в диапазоне [min, max) "
   ]
  },
  {
   "cell_type": "code",
   "execution_count": null,
   "metadata": {},
   "outputs": [],
   "source": []
  },
  {
   "cell_type": "markdown",
   "metadata": {},
   "source": [
    " "
   ]
  },
  {
   "cell_type": "markdown",
   "metadata": {},
   "source": [
    "# Что если нам этого всего мало?"
   ]
  },
  {
   "cell_type": "markdown",
   "metadata": {},
   "source": [
    "Рассмотрим способоны генерации/моделерования любого задуманного распределения"
   ]
  },
  {
   "cell_type": "markdown",
   "metadata": {},
   "source": [
    "# Немного теории - способы моделирования случайных величин"
   ]
  },
  {
   "cell_type": "markdown",
   "metadata": {},
   "source": [
    "* Метод ступенчатой аппроксимации - каждое значение появляется со своей вероятностью\n",
    "* Метод усечения - игнорировать значения, не подходящие под наше расспределение\n",
    "* Метод взятия обратной функции - преобразовать вероятность в число"
   ]
  },
  {
   "cell_type": "markdown",
   "metadata": {},
   "source": [
    "Хороший пример тут: http://stratum.ac.ru/education/textbooks/modelir/lection24.html"
   ]
  },
  {
   "cell_type": "markdown",
   "metadata": {},
   "source": [
    "## Метод ступенчатой аппроксимации "
   ]
  },
  {
   "cell_type": "markdown",
   "metadata": {},
   "source": [
    "<img src='http://stratum.ac.ru/education/textbooks/modelir/lection24/img02.gif'>\n"
   ]
  },
  {
   "cell_type": "code",
   "execution_count": 80,
   "metadata": {
    "ExecuteTime": {
     "end_time": "2022-09-21T08:03:29.562882Z",
     "start_time": "2022-09-21T08:03:27.233454Z"
    }
   },
   "outputs": [
    {
     "data": {
      "image/png": "[encoded data removed]",
      "text/plain": [
       "<Figure size 432x288 with 1 Axes>"
      ]
     },
     "metadata": {
      "needs_background": "light"
     },
     "output_type": "display_data"
    }
   ],
   "source": [
    "def get_value():\n",
    "    x = np.random.randint(1, 11)\n",
    "    \n",
    "    if x > 8:\n",
    "        return 1 # 20% \n",
    "    else:\n",
    "        return 0 # 80%\n",
    "    \n",
    "\n",
    "values = [get_value() for i in range(100)]\n",
    "plt.hist(values);"
   ]
  },
  {
   "cell_type": "code",
   "execution_count": null,
   "metadata": {},
   "outputs": [],
   "source": []
  },
  {
   "cell_type": "markdown",
   "metadata": {},
   "source": [
    "## Метод усечения"
   ]
  },
  {
   "cell_type": "markdown",
   "metadata": {},
   "source": [
    "<img src='http://stratum.ac.ru/education/textbooks/modelir/lection24/img04.gif'>"
   ]
  },
  {
   "cell_type": "markdown",
   "metadata": {},
   "source": [
    "## Алгоритм генерации"
   ]
  },
  {
   "cell_type": "markdown",
   "metadata": {},
   "source": [
    "<img src='http://stratum.ac.ru/education/textbooks/modelir/lection24/img05.gif'>"
   ]
  },
  {
   "cell_type": "markdown",
   "metadata": {},
   "source": [
    "Случай, когда легко можно выразить случайную величину, генерируя p из диапазона [0:1]\n",
    "Представим, что у вас есть функция плотности распредлеления"
   ]
  },
  {
   "cell_type": "markdown",
   "metadata": {},
   "source": [
    "$$f(\\xi=N)=0.28*\\frac{1}{N}$$\n",
    "\n"
   ]
  },
  {
   "cell_type": "code",
   "execution_count": 18,
   "metadata": {
    "ExecuteTime": {
     "end_time": "2022-09-21T07:08:29.795652Z",
     "start_time": "2022-09-21T07:08:29.623460Z"
    }
   },
   "outputs": [
    {
     "data": {
      "image/png": "[encoded data removed]",
      "text/plain": [
       "<Figure size 432x288 with 1 Axes>"
      ]
     },
     "metadata": {
      "needs_background": "light"
     },
     "output_type": "display_data"
    }
   ],
   "source": [
    "def f_dist(x): \n",
    "    p = 0.28/x # Функция плотности распредления \n",
    "    return p\n",
    "\n",
    "x = np.array(range(1, 20))\n",
    "\n",
    "f = f_dist(x) \n",
    "plt.plot(f); # Строим саму функцию плотности распределения"
   ]
  },
  {
   "cell_type": "code",
   "execution_count": null,
   "metadata": {},
   "outputs": [],
   "source": []
  },
  {
   "cell_type": "code",
   "execution_count": 81,
   "metadata": {
    "ExecuteTime": {
     "end_time": "2022-09-21T08:08:01.772961Z",
     "start_time": "2022-09-21T08:08:01.347951Z"
    }
   },
   "outputs": [
    {
     "data": {
      "image/png": "[encoded data removed]",
      "text/plain": [
       "<Figure size 432x288 with 1 Axes>"
      ]
     },
     "metadata": {
      "needs_background": "light"
     },
     "output_type": "display_data"
    }
   ],
   "source": [
    "def f_dist(x): \n",
    "    p = 0.28/x # Функция плотности распредления \n",
    "    return p\n",
    "\n",
    "\n",
    "def get_model_value():\n",
    "    y = 1\n",
    "    f = 0\n",
    "    while y > f:\n",
    "        x = np.random.randint(1, 21)  # Генерим натуральные числа из равномерного распределения\n",
    "        y = np.random.uniform(0, 1.0)  # Берем интервал для значений вероятности от 0 до 1\n",
    "        f = f_dist(x)\n",
    "    return x\n",
    "\n",
    "values = [get_model_value() for i in range(1000)]\n",
    "plt.hist(values, bins=20, density=True);\n",
    "\n",
    "\n",
    "x = np.array(range(1, 20))\n",
    "f = f_dist(x) \n",
    "plt.plot(f); # Строим саму функцию распределения"
   ]
  },
  {
   "cell_type": "markdown",
   "metadata": {},
   "source": [
    "## Метод взятия обратной функции "
   ]
  },
  {
   "cell_type": "markdown",
   "metadata": {},
   "source": [
    "<img src='http://stratum.ac.ru/education/textbooks/modelir/lection24/img06.gif'>"
   ]
  },
  {
   "cell_type": "markdown",
   "metadata": {},
   "source": [
    "## Алгоритм"
   ]
  },
  {
   "cell_type": "markdown",
   "metadata": {},
   "source": [
    "<img src='http://stratum.ac.ru/education/textbooks/modelir/lection24/img07.gif'>"
   ]
  },
  {
   "cell_type": "markdown",
   "metadata": {},
   "source": [
    "Пусть функция распределения имеет вид (экспоненциальное распределение):\n",
    "\n",
    "$$f(x) = \\lambda e^{-\\lambda x}$$"
   ]
  },
  {
   "cell_type": "markdown",
   "metadata": {},
   "source": [
    "Тогда интегральный закон распределения плотности вероятности имеет вид: \n",
    "\n",
    "$$F(x) = 1 – e^{-\\lambda x}$$"
   ]
  },
  {
   "cell_type": "markdown",
   "metadata": {},
   "source": [
    "<img src='https://upload.wikimedia.org/wikipedia/commons/thumb/d/db/Exponential_distribution_pdf.svg/488px-Exponential_distribution_pdf.svg.png'>\n",
    "\n",
    "\n",
    "<img src='https://upload.wikimedia.org/wikipedia/commons/thumb/8/80/Exponential_distribution_cdf.svg/488px-Exponential_distribution_cdf.svg.png'>"
   ]
  },
  {
   "cell_type": "markdown",
   "metadata": {},
   "source": [
    "Тогда выразим от сюда x, заменив F на случайное число получаем:\n",
    "\n",
    "$$ x = -\\frac{1}{\\lambda} · \\ln(1 – r).$$\n",
    " "
   ]
  },
  {
   "cell_type": "code",
   "execution_count": null,
   "metadata": {},
   "outputs": [],
   "source": []
  },
  {
   "cell_type": "code",
   "execution_count": 82,
   "metadata": {
    "ExecuteTime": {
     "end_time": "2022-09-21T08:10:49.040416Z",
     "start_time": "2022-09-21T08:10:49.017802Z"
    }
   },
   "outputs": [
    {
     "data": {
      "text/plain": [
       "0.7183284229649176"
      ]
     },
     "execution_count": 82,
     "metadata": {},
     "output_type": "execute_result"
    }
   ],
   "source": [
    "np.random.sample() # Сгенерирует число от 0 до 1"
   ]
  },
  {
   "cell_type": "code",
   "execution_count": 83,
   "metadata": {
    "ExecuteTime": {
     "end_time": "2022-09-21T08:11:18.246329Z",
     "start_time": "2022-09-21T08:11:17.621912Z"
    }
   },
   "outputs": [
    {
     "data": {
      "image/png": "[encoded data removed]",
      "text/plain": [
       "<Figure size 432x288 with 1 Axes>"
      ]
     },
     "metadata": {
      "needs_background": "light"
     },
     "output_type": "display_data"
    }
   ],
   "source": [
    "lamb = 0.5\n",
    "\n",
    "def get_prob():  # Обратная функция  \n",
    "    r = np.random.sample()\n",
    "    x =  -np.log(1-r)/lamb  # Обратная функция распределения\n",
    "    return x\n",
    "\n",
    "\n",
    "def f_dist(x): # Функция плостности распредления \n",
    "    return lamb*np.exp(-x*lamb)\n",
    "\n",
    "\n",
    "x = np.array(range(22))\n",
    "f = f_dist(x) \n",
    "plt.plot(f) # Строим саму функцию распределения\n",
    "\n",
    "values = np.array([get_prob() for i in range(1000)])\n",
    "plt.hist(values, bins=50, density=True);\n"
   ]
  },
  {
   "cell_type": "markdown",
   "metadata": {},
   "source": [
    "# Теперь ту же распределение, но методом усечения"
   ]
  },
  {
   "cell_type": "code",
   "execution_count": 22,
   "metadata": {
    "ExecuteTime": {
     "end_time": "2022-09-21T07:08:30.510647Z",
     "start_time": "2022-09-21T07:08:30.276803Z"
    }
   },
   "outputs": [
    {
     "data": {
      "image/png": "[encoded data removed]",
      "text/plain": [
       "<Figure size 432x288 with 1 Axes>"
      ]
     },
     "metadata": {
      "needs_background": "light"
     },
     "output_type": "display_data"
    }
   ],
   "source": [
    "x_min, x_max = 0, 15\n",
    "y_min, y_max = 0, 0.5\n",
    "\n",
    "\n",
    "def f_dist(x): # Функция распредления \n",
    "    return lamb*np.exp(-x*lamb)\n",
    "\n",
    "\n",
    "def get_model_value():\n",
    "    y, f = 1, 0\n",
    "    \n",
    "    while y > f:\n",
    "        x = np.random.sample()*x_max  # Генерим натуральные числа из равномерного распределения\n",
    "        y = np.random.uniform(y_min, y_max)  # Берем интервал для значений вероятности от 0 до 1\n",
    "        f = f_dist(x)\n",
    "#         print(y, f)\n",
    "    return x\n",
    "\n",
    "values = [get_model_value() for i in range(1000)]\n",
    "plt.hist(values, bins=20, density=True);\n",
    "\n",
    "\n",
    "values = np.array([get_prob() for i in range(1000)])\n",
    "plt.hist(values, bins=50, density=True, alpha=0.8);\n",
    "\n",
    "\n",
    "\n",
    "x = np.array(range(x_max))\n",
    "f = f_dist(x) \n",
    "plt.plot(f,alpha=0.8); # Строим саму функцию распределения"
   ]
  },
  {
   "cell_type": "code",
   "execution_count": null,
   "metadata": {},
   "outputs": [],
   "source": []
  },
  {
   "cell_type": "markdown",
   "metadata": {},
   "source": [
    "😎✌😎✌😎✌😎✌😎✌😎✌😎✌😎✌😎✌😎✌😎✌😎✌😎✌😎✌😎✌😎✌😎✌😎✌😎✌😎✌😎✌😎✌😎✌😎✌😎✌😎✌😎✌😎✌😎✌😎✌"
   ]
  },
  {
   "cell_type": "markdown",
   "metadata": {},
   "source": [
    "# Гистограмма и эмпирическая функция распределения: расчет"
   ]
  },
  {
   "cell_type": "markdown",
   "metadata": {},
   "source": [
    "Нам встретятся следующие сокращения:\n",
    "\n",
    "* **norm** - normal - нормальное (распределение)\n",
    "* **rv** - random variates (случайные величины)\n",
    "* **pdf** - probability density function (функция плотности вероятности)\n",
    "* **cdf** - cumulative distribution function (функция распределения)\n",
    "\n",
    "https://docs.scipy.org/doc/scipy/reference/generated/scipy.stats.norm.html"
   ]
  },
  {
   "cell_type": "markdown",
   "metadata": {},
   "source": [
    "## Расчет описательных статистик"
   ]
  },
  {
   "cell_type": "code",
   "execution_count": 84,
   "metadata": {
    "ExecuteTime": {
     "end_time": "2022-09-21T08:14:38.592367Z",
     "start_time": "2022-09-21T08:14:38.581426Z"
    }
   },
   "outputs": [],
   "source": [
    "sample = np.random.normal(5, 10, 500)"
   ]
  },
  {
   "cell_type": "code",
   "execution_count": 85,
   "metadata": {
    "ExecuteTime": {
     "end_time": "2022-09-21T08:14:42.701128Z",
     "start_time": "2022-09-21T08:14:42.687166Z"
    }
   },
   "outputs": [
    {
     "data": {
      "text/plain": [
       "(500,)"
      ]
     },
     "execution_count": 85,
     "metadata": {},
     "output_type": "execute_result"
    }
   ],
   "source": [
    "sample.shape  # Увидим размер выборки"
   ]
  },
  {
   "cell_type": "code",
   "execution_count": 88,
   "metadata": {
    "ExecuteTime": {
     "end_time": "2022-09-21T08:14:48.986171Z",
     "start_time": "2022-09-21T08:14:48.976155Z"
    }
   },
   "outputs": [
    {
     "data": {
      "text/plain": [
       "4.961841987555326"
      ]
     },
     "execution_count": 88,
     "metadata": {},
     "output_type": "execute_result"
    }
   ],
   "source": [
    "np.mean(sample)  # Выборочное среднее"
   ]
  },
  {
   "cell_type": "code",
   "execution_count": 90,
   "metadata": {
    "ExecuteTime": {
     "end_time": "2022-09-21T08:14:58.956278Z",
     "start_time": "2022-09-21T08:14:58.946278Z"
    }
   },
   "outputs": [
    {
     "data": {
      "text/plain": [
       "101.68128863357903"
      ]
     },
     "execution_count": 90,
     "metadata": {},
     "output_type": "execute_result"
    }
   ],
   "source": [
    "np.var(sample)  # Выборочная дисперсия "
   ]
  },
  {
   "cell_type": "code",
   "execution_count": 27,
   "metadata": {
    "ExecuteTime": {
     "end_time": "2022-09-21T07:08:30.588507Z",
     "start_time": "2022-09-21T07:08:30.575476Z"
    }
   },
   "outputs": [
    {
     "data": {
      "text/plain": [
       "10.045111436043918"
      ]
     },
     "execution_count": 27,
     "metadata": {},
     "output_type": "execute_result"
    }
   ],
   "source": [
    "np.std(sample) # Выборочное стандартное отклонение"
   ]
  },
  {
   "cell_type": "code",
   "execution_count": 28,
   "metadata": {
    "ExecuteTime": {
     "end_time": "2022-09-21T07:08:30.604474Z",
     "start_time": "2022-09-21T07:08:30.590484Z"
    }
   },
   "outputs": [
    {
     "data": {
      "text/plain": [
       "4.034616110924598"
      ]
     },
     "execution_count": 28,
     "metadata": {},
     "output_type": "execute_result"
    }
   ],
   "source": [
    "np.median(sample) # Выборочная медиана "
   ]
  },
  {
   "cell_type": "code",
   "execution_count": null,
   "metadata": {},
   "outputs": [],
   "source": []
  },
  {
   "cell_type": "markdown",
   "metadata": {},
   "source": [
    "## Вспомним про гистограмму. \n",
    "Гистограмма - это импирическая оценка для плотности распределения"
   ]
  },
  {
   "cell_type": "code",
   "execution_count": 91,
   "metadata": {
    "ExecuteTime": {
     "end_time": "2022-09-21T08:15:31.184515Z",
     "start_time": "2022-09-21T08:15:30.989351Z"
    }
   },
   "outputs": [
    {
     "data": {
      "image/png": "[encoded data removed]",
      "text/plain": [
       "<Figure size 432x288 with 1 Axes>"
      ]
     },
     "metadata": {
      "needs_background": "light"
     },
     "output_type": "display_data"
    }
   ],
   "source": [
    "plt.hist(sample, bins=30);"
   ]
  },
  {
   "cell_type": "markdown",
   "metadata": {},
   "source": [
    " "
   ]
  },
  {
   "cell_type": "code",
   "execution_count": 92,
   "metadata": {
    "ExecuteTime": {
     "end_time": "2022-09-21T08:16:52.353359Z",
     "start_time": "2022-09-21T08:16:52.237352Z"
    }
   },
   "outputs": [],
   "source": [
    "from scipy.stats import norm, uniform"
   ]
  },
  {
   "cell_type": "code",
   "execution_count": 95,
   "metadata": {
    "ExecuteTime": {
     "end_time": "2022-09-21T08:19:12.020947Z",
     "start_time": "2022-09-21T08:19:11.829158Z"
    }
   },
   "outputs": [
    {
     "data": {
      "image/png": "[encoded data removed]",
      "text/plain": [
       "<Figure size 432x288 with 1 Axes>"
      ]
     },
     "metadata": {
      "needs_background": "light"
     },
     "output_type": "display_data"
    }
   ],
   "source": [
    "fig, ax = plt.subplots(1, 1)\n",
    "\n",
    "x = np.linspace(norm.ppf(0.01),\n",
    "                norm.ppf(0.99), 100)\n",
    "\n",
    "rv = norm()\n",
    "ax.plot(x, rv.pdf(x), 'k-', lw=2, label='Эмпирическая ф.р.')\n",
    "\n",
    "\n",
    "r = norm.rvs(size=1000)\n",
    "ax.hist(r, density=True, histtype='stepfilled', alpha=0.2)\n",
    "ax.legend(loc='best', frameon=False)\n",
    "plt.show()"
   ]
  },
  {
   "cell_type": "code",
   "execution_count": null,
   "metadata": {},
   "outputs": [],
   "source": []
  },
  {
   "cell_type": "markdown",
   "metadata": {},
   "source": [
    "Построим по выборке эмпирическую функцию распределения"
   ]
  },
  {
   "cell_type": "code",
   "execution_count": 96,
   "metadata": {
    "ExecuteTime": {
     "end_time": "2022-09-21T08:20:35.522614Z",
     "start_time": "2022-09-21T08:20:35.073271Z"
    }
   },
   "outputs": [
    {
     "data": {
      "text/plain": [
       "Text(0.5, 0, '$x$')"
      ]
     },
     "execution_count": 96,
     "metadata": {},
     "output_type": "execute_result"
    },
    {
     "data": {
      "image/png": "[encoded data removed]",
      "text/plain": [
       "<Figure size 432x288 with 1 Axes>"
      ]
     },
     "metadata": {
      "needs_background": "light"
     },
     "output_type": "display_data"
    }
   ],
   "source": [
    "# для построения ECDF используем библиотеку statsmodels\n",
    "from statsmodels.distributions.empirical_distribution import ECDF\n",
    "\n",
    "ecdf = ECDF(sample)  # Строим эмпирическую функцию по выборке\n",
    "\n",
    "plt.step(ecdf.x, ecdf.y)\n",
    "\n",
    "plt.ylabel('$F(x)$', fontsize=20)\n",
    "plt.xlabel('$x$', fontsize=20)"
   ]
  },
  {
   "cell_type": "markdown",
   "metadata": {},
   "source": [
    "## А что если нарисовать ее на одно картинке с теоретической?"
   ]
  },
  {
   "cell_type": "code",
   "execution_count": 97,
   "metadata": {
    "ExecuteTime": {
     "end_time": "2022-09-21T08:20:44.569821Z",
     "start_time": "2022-09-21T08:20:44.332680Z"
    }
   },
   "outputs": [
    {
     "data": {
      "text/plain": [
       "<matplotlib.legend.Legend at 0x16525946310>"
      ]
     },
     "execution_count": 97,
     "metadata": {},
     "output_type": "execute_result"
    },
    {
     "data": {
      "image/png": "[encoded data removed]",
      "text/plain": [
       "<Figure size 432x288 with 1 Axes>"
      ]
     },
     "metadata": {
      "needs_background": "light"
     },
     "output_type": "display_data"
    }
   ],
   "source": [
    "from scipy.stats import norm\n",
    "\n",
    "\n",
    "x = np.linspace(-20, 30, 10000)\n",
    "\n",
    "# теоретическая cdf\n",
    "cdf = norm.cdf(x, loc=5, scale=10) # Передаем те же параметры, что при гинерации выборки\n",
    "# rv = norm()\n",
    "plt.plot(x, cdf, label='theoretical CDF')\n",
    "\n",
    "\n",
    "# эмпирическая cdf\n",
    "ecdf = ECDF(sample) \n",
    "plt.step(ecdf.x, ecdf.y, label='empirical CDF')\n",
    "\n",
    "\n",
    "plt.ylabel('$F(x)$', fontsize=20)\n",
    "plt.xlabel('$x$', fontsize=20)\n",
    "plt.legend(loc = 'upper left')"
   ]
  },
  {
   "cell_type": "code",
   "execution_count": null,
   "metadata": {},
   "outputs": [],
   "source": [
    " "
   ]
  },
  {
   "cell_type": "markdown",
   "metadata": {},
   "source": [
    "### Еще один пример для наглядности - Бимодальное распределение"
   ]
  },
  {
   "cell_type": "code",
   "execution_count": 98,
   "metadata": {
    "ExecuteTime": {
     "end_time": "2022-09-21T08:22:10.625776Z",
     "start_time": "2022-09-21T08:22:10.386160Z"
    }
   },
   "outputs": [
    {
     "data": {
      "image/png": "[encoded data removed]",
      "text/plain": [
       "<Figure size 432x288 with 1 Axes>"
      ]
     },
     "metadata": {
      "needs_background": "light"
     },
     "output_type": "display_data"
    }
   ],
   "source": [
    "# Генерируем выборку\n",
    "sample1 = np.random.normal(loc=20, scale=5, size=500)\n",
    "sample2 = np.random.normal(loc=40, scale=5, size=700)\n",
    "\n",
    "sample = np.hstack((sample1, sample2))\n",
    "\n",
    "# строим гистограмму \n",
    "plt.hist(sample, bins=50)\n",
    "plt.show()"
   ]
  },
  {
   "cell_type": "code",
   "execution_count": 99,
   "metadata": {
    "ExecuteTime": {
     "end_time": "2022-09-21T08:22:18.985784Z",
     "start_time": "2022-09-21T08:22:18.972659Z"
    }
   },
   "outputs": [],
   "source": [
    "ecdf = ECDF(sample)"
   ]
  },
  {
   "cell_type": "code",
   "execution_count": 100,
   "metadata": {
    "ExecuteTime": {
     "end_time": "2022-09-21T08:22:19.499623Z",
     "start_time": "2022-09-21T08:22:19.370551Z"
    }
   },
   "outputs": [
    {
     "data": {
      "image/png": "[encoded data removed]",
      "text/plain": [
       "<Figure size 432x288 with 1 Axes>"
      ]
     },
     "metadata": {
      "needs_background": "light"
     },
     "output_type": "display_data"
    }
   ],
   "source": [
    "# строим функцию распределения\n",
    "plt.plot(ecdf.x, ecdf.y)\n",
    "plt.show()"
   ]
  },
  {
   "cell_type": "code",
   "execution_count": null,
   "metadata": {
    "ExecuteTime": {
     "end_time": "2022-09-21T08:24:14.362748Z",
     "start_time": "2022-09-21T08:24:14.342893Z"
    }
   },
   "outputs": [],
   "source": []
  },
  {
   "cell_type": "markdown",
   "metadata": {},
   "source": [
    "# Генерация выборок и подвыборок"
   ]
  },
  {
   "cell_type": "code",
   "execution_count": 102,
   "metadata": {
    "ExecuteTime": {
     "end_time": "2022-09-21T08:24:08.040694Z",
     "start_time": "2022-09-21T08:24:08.033775Z"
    }
   },
   "outputs": [
    {
     "data": {
      "text/plain": [
       "array([ 3,  6, 10, 10,  2])"
      ]
     },
     "execution_count": 102,
     "metadata": {},
     "output_type": "execute_result"
    }
   ],
   "source": [
    "np.random.choice(np.arange(1, 11), \n",
    "                 size=5)"
   ]
  },
  {
   "cell_type": "markdown",
   "metadata": {},
   "source": [
    "Можно делать выборки с повторениями с помощью параметра `replace` и его значения `True`"
   ]
  },
  {
   "cell_type": "code",
   "execution_count": 110,
   "metadata": {
    "ExecuteTime": {
     "end_time": "2022-09-21T08:24:59.800203Z",
     "start_time": "2022-09-21T08:24:59.788076Z"
    }
   },
   "outputs": [
    {
     "data": {
      "text/plain": [
       "array([8, 7, 3, 5, 5])"
      ]
     },
     "execution_count": 110,
     "metadata": {},
     "output_type": "execute_result"
    }
   ],
   "source": [
    "np.random.choice(np.arange(1,11),\n",
    "                 size=5, \n",
    "                 replace=True)"
   ]
  },
  {
   "cell_type": "markdown",
   "metadata": {},
   "source": [
    "##### Выбирать можно с разными вероятностями"
   ]
  },
  {
   "cell_type": "code",
   "execution_count": 113,
   "metadata": {
    "ExecuteTime": {
     "end_time": "2022-09-21T08:26:02.745820Z",
     "start_time": "2022-09-21T08:26:02.736248Z"
    }
   },
   "outputs": [
    {
     "data": {
      "text/plain": [
       "array(['Красный', 'Красный', 'Черный', 'Черный', 'Красный', 'Красный',\n",
       "       'Красный', 'Белый', 'Красный', 'Красный'], dtype='<U7')"
      ]
     },
     "execution_count": 113,
     "metadata": {},
     "output_type": "execute_result"
    }
   ],
   "source": [
    "np.random.choice(['Белый', 'Черный', 'Красный'],\n",
    "                 \n",
    "                size=10,\n",
    "                 \n",
    "                p = [0.1, 0.2, 0.7])"
   ]
  },
  {
   "cell_type": "markdown",
   "metadata": {},
   "source": [
    "# Зерна"
   ]
  },
  {
   "cell_type": "code",
   "execution_count": 124,
   "metadata": {
    "ExecuteTime": {
     "end_time": "2022-09-21T08:26:46.268827Z",
     "start_time": "2022-09-21T08:26:46.223652Z"
    }
   },
   "outputs": [
    {
     "data": {
      "text/plain": [
       "array([3.96528872, 3.20168544, 2.59033096, 5.90156314, 2.10915903])"
      ]
     },
     "execution_count": 124,
     "metadata": {},
     "output_type": "execute_result"
    }
   ],
   "source": [
    "scipy.stats.norm(loc=3, scale=2).rvs(5)"
   ]
  },
  {
   "cell_type": "code",
   "execution_count": 134,
   "metadata": {
    "ExecuteTime": {
     "end_time": "2022-09-21T08:27:39.954514Z",
     "start_time": "2022-09-21T08:27:39.937492Z"
    }
   },
   "outputs": [
    {
     "data": {
      "text/plain": [
       "array([2.53172609, 6.15842563, 4.53486946, 2.06105123, 4.08512009])"
      ]
     },
     "execution_count": 134,
     "metadata": {},
     "output_type": "execute_result"
    }
   ],
   "source": [
    "scipy.stats.norm(loc=3, scale=2).rvs(5)"
   ]
  },
  {
   "cell_type": "markdown",
   "metadata": {},
   "source": [
    "# Как же воспроизводить результаты?"
   ]
  },
  {
   "cell_type": "code",
   "execution_count": 132,
   "metadata": {
    "ExecuteTime": {
     "end_time": "2022-09-21T08:27:34.688864Z",
     "start_time": "2022-09-21T08:27:34.674831Z"
    }
   },
   "outputs": [
    {
     "data": {
      "text/plain": [
       "array([3.99342831, 2.7234714 , 4.29537708, 6.04605971, 2.53169325])"
      ]
     },
     "execution_count": 132,
     "metadata": {},
     "output_type": "execute_result"
    }
   ],
   "source": [
    "scipy.stats.norm(loc=3, scale=2).rvs(5, random_state = 42) "
   ]
  },
  {
   "cell_type": "code",
   "execution_count": 140,
   "metadata": {
    "ExecuteTime": {
     "end_time": "2022-09-21T08:28:03.538806Z",
     "start_time": "2022-09-21T08:28:03.534810Z"
    }
   },
   "outputs": [],
   "source": [
    "np.random.seed(42)\n",
    "\n",
    "# scipy.stats.norm(loc=3, scale=2).rvs(5)"
   ]
  },
  {
   "cell_type": "markdown",
   "metadata": {},
   "source": [
    "# Описательные статистики в pandas. pandas: группировка и простые методы визуализации."
   ]
  },
  {
   "cell_type": "code",
   "execution_count": null,
   "metadata": {},
   "outputs": [],
   "source": []
  },
  {
   "cell_type": "markdown",
   "metadata": {},
   "source": [
    "<p style=\"align: center;\"><img align=center src=\"https://i0.wp.com/learnbyinsight.com/wp-content/uploads/2020/08/pandas-cheetsheet2.png?ssl=1_lesson.ipynb\"  width=1000></p>\n",
    "\n"
   ]
  },
  {
   "cell_type": "code",
   "execution_count": null,
   "metadata": {},
   "outputs": [],
   "source": []
  },
  {
   "cell_type": "code",
   "execution_count": 141,
   "metadata": {
    "ExecuteTime": {
     "end_time": "2022-09-21T08:30:50.624720Z",
     "start_time": "2022-09-21T08:30:49.218297Z"
    }
   },
   "outputs": [
    {
     "name": "stdout",
     "output_type": "stream",
     "text": [
      "Размер нашего датасета: (205, 26)\n"
     ]
    },
    {
     "data": {
      "text/html": [
       "<div>\n",
       "<style scoped>\n",
       "    .dataframe tbody tr th:only-of-type {\n",
       "        vertical-align: middle;\n",
       "    }\n",
       "\n",
       "    .dataframe tbody tr th {\n",
       "        vertical-align: top;\n",
       "    }\n",
       "\n",
       "    .dataframe thead th {\n",
       "        text-align: right;\n",
       "    }\n",
       "</style>\n",
       "<table border=\"1\" class=\"dataframe\">\n",
       "  <thead>\n",
       "    <tr style=\"text-align: right;\">\n",
       "      <th></th>\n",
       "      <th>car_ID</th>\n",
       "      <th>symboling</th>\n",
       "      <th>CarName</th>\n",
       "      <th>fueltype</th>\n",
       "      <th>aspiration</th>\n",
       "      <th>doornumber</th>\n",
       "      <th>carbody</th>\n",
       "      <th>drivewheel</th>\n",
       "      <th>enginelocation</th>\n",
       "      <th>wheelbase</th>\n",
       "      <th>...</th>\n",
       "      <th>enginesize</th>\n",
       "      <th>fuelsystem</th>\n",
       "      <th>boreratio</th>\n",
       "      <th>stroke</th>\n",
       "      <th>compressionratio</th>\n",
       "      <th>horsepower</th>\n",
       "      <th>peakrpm</th>\n",
       "      <th>citympg</th>\n",
       "      <th>highwaympg</th>\n",
       "      <th>price</th>\n",
       "    </tr>\n",
       "  </thead>\n",
       "  <tbody>\n",
       "    <tr>\n",
       "      <th>0</th>\n",
       "      <td>1</td>\n",
       "      <td>3</td>\n",
       "      <td>alfa-romero giulia</td>\n",
       "      <td>gas</td>\n",
       "      <td>std</td>\n",
       "      <td>two</td>\n",
       "      <td>convertible</td>\n",
       "      <td>rwd</td>\n",
       "      <td>front</td>\n",
       "      <td>88.6</td>\n",
       "      <td>...</td>\n",
       "      <td>130</td>\n",
       "      <td>mpfi</td>\n",
       "      <td>3.47</td>\n",
       "      <td>2.68</td>\n",
       "      <td>9.0</td>\n",
       "      <td>111</td>\n",
       "      <td>5000</td>\n",
       "      <td>21</td>\n",
       "      <td>27</td>\n",
       "      <td>13495.0</td>\n",
       "    </tr>\n",
       "    <tr>\n",
       "      <th>1</th>\n",
       "      <td>2</td>\n",
       "      <td>3</td>\n",
       "      <td>alfa-romero stelvio</td>\n",
       "      <td>gas</td>\n",
       "      <td>std</td>\n",
       "      <td>two</td>\n",
       "      <td>convertible</td>\n",
       "      <td>rwd</td>\n",
       "      <td>front</td>\n",
       "      <td>88.6</td>\n",
       "      <td>...</td>\n",
       "      <td>130</td>\n",
       "      <td>mpfi</td>\n",
       "      <td>3.47</td>\n",
       "      <td>2.68</td>\n",
       "      <td>9.0</td>\n",
       "      <td>111</td>\n",
       "      <td>5000</td>\n",
       "      <td>21</td>\n",
       "      <td>27</td>\n",
       "      <td>16500.0</td>\n",
       "    </tr>\n",
       "    <tr>\n",
       "      <th>2</th>\n",
       "      <td>3</td>\n",
       "      <td>1</td>\n",
       "      <td>alfa-romero Quadrifoglio</td>\n",
       "      <td>gas</td>\n",
       "      <td>std</td>\n",
       "      <td>two</td>\n",
       "      <td>hatchback</td>\n",
       "      <td>rwd</td>\n",
       "      <td>front</td>\n",
       "      <td>94.5</td>\n",
       "      <td>...</td>\n",
       "      <td>152</td>\n",
       "      <td>mpfi</td>\n",
       "      <td>2.68</td>\n",
       "      <td>3.47</td>\n",
       "      <td>9.0</td>\n",
       "      <td>154</td>\n",
       "      <td>5000</td>\n",
       "      <td>19</td>\n",
       "      <td>26</td>\n",
       "      <td>16500.0</td>\n",
       "    </tr>\n",
       "    <tr>\n",
       "      <th>3</th>\n",
       "      <td>4</td>\n",
       "      <td>2</td>\n",
       "      <td>audi 100 ls</td>\n",
       "      <td>gas</td>\n",
       "      <td>std</td>\n",
       "      <td>four</td>\n",
       "      <td>sedan</td>\n",
       "      <td>fwd</td>\n",
       "      <td>front</td>\n",
       "      <td>99.8</td>\n",
       "      <td>...</td>\n",
       "      <td>109</td>\n",
       "      <td>mpfi</td>\n",
       "      <td>3.19</td>\n",
       "      <td>3.40</td>\n",
       "      <td>10.0</td>\n",
       "      <td>102</td>\n",
       "      <td>5500</td>\n",
       "      <td>24</td>\n",
       "      <td>30</td>\n",
       "      <td>13950.0</td>\n",
       "    </tr>\n",
       "    <tr>\n",
       "      <th>4</th>\n",
       "      <td>5</td>\n",
       "      <td>2</td>\n",
       "      <td>audi 100ls</td>\n",
       "      <td>gas</td>\n",
       "      <td>std</td>\n",
       "      <td>four</td>\n",
       "      <td>sedan</td>\n",
       "      <td>4wd</td>\n",
       "      <td>front</td>\n",
       "      <td>99.4</td>\n",
       "      <td>...</td>\n",
       "      <td>136</td>\n",
       "      <td>mpfi</td>\n",
       "      <td>3.19</td>\n",
       "      <td>3.40</td>\n",
       "      <td>8.0</td>\n",
       "      <td>115</td>\n",
       "      <td>5500</td>\n",
       "      <td>18</td>\n",
       "      <td>22</td>\n",
       "      <td>17450.0</td>\n",
       "    </tr>\n",
       "  </tbody>\n",
       "</table>\n",
       "<p>5 rows × 26 columns</p>\n",
       "</div>"
      ],
      "text/plain": [
       "   car_ID  symboling                   CarName fueltype aspiration doornumber  \\\n",
       "0       1          3        alfa-romero giulia      gas        std        two   \n",
       "1       2          3       alfa-romero stelvio      gas        std        two   \n",
       "2       3          1  alfa-romero Quadrifoglio      gas        std        two   \n",
       "3       4          2               audi 100 ls      gas        std       four   \n",
       "4       5          2                audi 100ls      gas        std       four   \n",
       "\n",
       "       carbody drivewheel enginelocation  wheelbase  ...  enginesize  \\\n",
       "0  convertible        rwd          front       88.6  ...         130   \n",
       "1  convertible        rwd          front       88.6  ...         130   \n",
       "2    hatchback        rwd          front       94.5  ...         152   \n",
       "3        sedan        fwd          front       99.8  ...         109   \n",
       "4        sedan        4wd          front       99.4  ...         136   \n",
       "\n",
       "   fuelsystem  boreratio  stroke compressionratio horsepower  peakrpm citympg  \\\n",
       "0        mpfi       3.47    2.68              9.0        111     5000      21   \n",
       "1        mpfi       3.47    2.68              9.0        111     5000      21   \n",
       "2        mpfi       2.68    3.47              9.0        154     5000      19   \n",
       "3        mpfi       3.19    3.40             10.0        102     5500      24   \n",
       "4        mpfi       3.19    3.40              8.0        115     5500      18   \n",
       "\n",
       "   highwaympg    price  \n",
       "0          27  13495.0  \n",
       "1          27  16500.0  \n",
       "2          26  16500.0  \n",
       "3          30  13950.0  \n",
       "4          22  17450.0  \n",
       "\n",
       "[5 rows x 26 columns]"
      ]
     },
     "execution_count": 141,
     "metadata": {},
     "output_type": "execute_result"
    }
   ],
   "source": [
    "data = pd.read_csv('https://raw.githubusercontent.com/a-milenkin/mipt_data_science_2021/main/data/CarPrice_Assignment.csv')\n",
    "\n",
    "print(\"Размер нашего датасета: {}\".format(data.shape))\n",
    "data.head()"
   ]
  },
  {
   "cell_type": "markdown",
   "metadata": {},
   "source": [
    "<div class=\"alert alert-info\">\n",
    "\n",
    "<b>Про датасет: </b>\n",
    "    \n",
    "В датасет были собраны характеристики по машинами разных марок. Собрано около 26 характеристик машины, в том числе ее рыночная стоимость при продаже или покупке. Первоначальная цель датасета была в предсказании цены автомобиля по его описанию.  \n",
    "\n",
    "\n",
    "</div>\n"
   ]
  },
  {
   "cell_type": "code",
   "execution_count": 142,
   "metadata": {
    "ExecuteTime": {
     "end_time": "2022-09-21T08:31:13.992771Z",
     "start_time": "2022-09-21T08:31:13.850841Z"
    }
   },
   "outputs": [
    {
     "name": "stdout",
     "output_type": "stream",
     "text": [
      "<class 'pandas.core.frame.DataFrame'>\n",
      "RangeIndex: 205 entries, 0 to 204\n",
      "Data columns (total 26 columns):\n",
      " #   Column            Non-Null Count  Dtype  \n",
      "---  ------            --------------  -----  \n",
      " 0   car_ID            205 non-null    int64  \n",
      " 1   symboling         205 non-null    int64  \n",
      " 2   CarName           205 non-null    object \n",
      " 3   fueltype          205 non-null    object \n",
      " 4   aspiration        205 non-null    object \n",
      " 5   doornumber        205 non-null    object \n",
      " 6   carbody           205 non-null    object \n",
      " 7   drivewheel        205 non-null    object \n",
      " 8   enginelocation    205 non-null    object \n",
      " 9   wheelbase         205 non-null    float64\n",
      " 10  carlength         205 non-null    float64\n",
      " 11  carwidth          205 non-null    float64\n",
      " 12  carheight         205 non-null    float64\n",
      " 13  curbweight        205 non-null    int64  \n",
      " 14  enginetype        205 non-null    object \n",
      " 15  cylindernumber    205 non-null    object \n",
      " 16  enginesize        205 non-null    int64  \n",
      " 17  fuelsystem        205 non-null    object \n",
      " 18  boreratio         205 non-null    float64\n",
      " 19  stroke            205 non-null    float64\n",
      " 20  compressionratio  205 non-null    float64\n",
      " 21  horsepower        205 non-null    int64  \n",
      " 22  peakrpm           205 non-null    int64  \n",
      " 23  citympg           205 non-null    int64  \n",
      " 24  highwaympg        205 non-null    int64  \n",
      " 25  price             205 non-null    float64\n",
      "dtypes: float64(8), int64(8), object(10)\n",
      "memory usage: 41.8+ KB\n"
     ]
    }
   ],
   "source": [
    "data.info()"
   ]
  },
  {
   "cell_type": "code",
   "execution_count": null,
   "metadata": {},
   "outputs": [],
   "source": []
  },
  {
   "cell_type": "code",
   "execution_count": 146,
   "metadata": {
    "ExecuteTime": {
     "end_time": "2022-09-21T08:32:26.428606Z",
     "start_time": "2022-09-21T08:32:26.190156Z"
    }
   },
   "outputs": [
    {
     "data": {
      "text/plain": [
       "<AxesSubplot:ylabel='Frequency'>"
      ]
     },
     "execution_count": 146,
     "metadata": {},
     "output_type": "execute_result"
    },
    {
     "data": {
      "image/png": "[encoded data removed]",
      "text/plain": [
       "<Figure size 432x288 with 1 Axes>"
      ]
     },
     "metadata": {
      "needs_background": "light"
     },
     "output_type": "display_data"
    }
   ],
   "source": [
    "data['price'].plot.hist(bins=25, alpha=0.5, density=True)\n",
    "# data['price'].plot.hist(bins=15, alpha=0.5, density=True)"
   ]
  },
  {
   "cell_type": "code",
   "execution_count": 151,
   "metadata": {
    "ExecuteTime": {
     "end_time": "2022-09-21T08:35:48.268346Z",
     "start_time": "2022-09-21T08:35:48.052047Z"
    }
   },
   "outputs": [
    {
     "data": {
      "image/png": "[encoded data removed]",
      "text/plain": [
       "<Figure size 432x288 with 1 Axes>"
      ]
     },
     "metadata": {
      "needs_background": "light"
     },
     "output_type": "display_data"
    }
   ],
   "source": [
    "data.plot.scatter(y='price', x='horsepower', c= 'DarkBlue');\n",
    "\n",
    "# import seaborn as sns\n",
    "# sns.displot(data= data, y='price', x='horsepower', hue = 'fueltype')"
   ]
  },
  {
   "cell_type": "code",
   "execution_count": 147,
   "metadata": {
    "ExecuteTime": {
     "end_time": "2022-09-21T08:34:02.740450Z",
     "start_time": "2022-09-21T08:34:02.502175Z"
    }
   },
   "outputs": [
    {
     "data": {
      "text/html": [
       "<div>\n",
       "<style scoped>\n",
       "    .dataframe tbody tr th:only-of-type {\n",
       "        vertical-align: middle;\n",
       "    }\n",
       "\n",
       "    .dataframe tbody tr th {\n",
       "        vertical-align: top;\n",
       "    }\n",
       "\n",
       "    .dataframe thead th {\n",
       "        text-align: right;\n",
       "    }\n",
       "</style>\n",
       "<table border=\"1\" class=\"dataframe\">\n",
       "  <thead>\n",
       "    <tr style=\"text-align: right;\">\n",
       "      <th></th>\n",
       "      <th>fueltype</th>\n",
       "      <th>price</th>\n",
       "      <th>horsepower</th>\n",
       "    </tr>\n",
       "  </thead>\n",
       "  <tbody>\n",
       "    <tr>\n",
       "      <th>0</th>\n",
       "      <td>diesel</td>\n",
       "      <td>15838.1500</td>\n",
       "      <td>123</td>\n",
       "    </tr>\n",
       "    <tr>\n",
       "      <th>1</th>\n",
       "      <td>gas</td>\n",
       "      <td>12999.7982</td>\n",
       "      <td>288</td>\n",
       "    </tr>\n",
       "  </tbody>\n",
       "</table>\n",
       "</div>"
      ],
      "text/plain": [
       "  fueltype       price  horsepower\n",
       "0   diesel  15838.1500         123\n",
       "1      gas  12999.7982         288"
      ]
     },
     "execution_count": 147,
     "metadata": {},
     "output_type": "execute_result"
    }
   ],
   "source": [
    "def my_func(x):    \n",
    "    return max(x)\n",
    "\n",
    "data.groupby('fueltype', as_index=False).agg({'price':'mean',\n",
    "                                              'horsepower': my_func,\n",
    "                                              })"
   ]
  },
  {
   "cell_type": "markdown",
   "metadata": {},
   "source": [
    "# Личные рекомендации, по полезным штуткам в Pandas:\n",
    "- groupby + count/sum/mean\n",
    "- groupby + agg + count/sum/mean\n",
    "- groupby + agg + functions/lambda\n",
    "- groupby + transform\n",
    "\n",
    "----------------\n",
    "- pivot / pivot_table\n",
    "- melt\n"
   ]
  },
  {
   "cell_type": "code",
   "execution_count": null,
   "metadata": {},
   "outputs": [],
   "source": []
  },
  {
   "cell_type": "code",
   "execution_count": null,
   "metadata": {},
   "outputs": [],
   "source": []
  },
  {
   "cell_type": "markdown",
   "metadata": {},
   "source": [
    "# Литература и ссылки"
   ]
  },
  {
   "cell_type": "markdown",
   "metadata": {},
   "source": [
    "* Методы моделирования случайных величин: http://stratum.ac.ru/education/textbooks/modelir/lection24.html\n",
    "* Полезный курс на Stepik с практикой в `pandas` и не только: https://stepik.org/course/4852/syllabus"
   ]
  },
  {
   "cell_type": "code",
   "execution_count": null,
   "metadata": {},
   "outputs": [],
   "source": []
  }
 ],
 "metadata": {
  "kernelspec": {
   "display_name": "Python 3",
   "language": "python",
   "name": "python3"
  },
  "language_info": {
   "codemirror_mode": {
    "name": "ipython",
    "version": 3
   },
   "file_extension": ".py",
   "mimetype": "text/x-python",
   "name": "python",
   "nbconvert_exporter": "python",
   "pygments_lexer": "ipython3",
   "version": "3.8.5"
  },
  "toc": {
   "base_numbering": 1,
   "nav_menu": {},
   "number_sections": true,
   "sideBar": true,
   "skip_h1_title": false,
   "title_cell": "Table of Contents",
   "title_sidebar": "Contents",
   "toc_cell": false,
   "toc_position": {},
   "toc_section_display": true,
   "toc_window_display": false
  }
 },
 "nbformat": 4,
 "nbformat_minor": 4
}
