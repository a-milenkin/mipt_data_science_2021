{
 "cells": [
  {
   "cell_type": "code",
   "execution_count": 1,
   "metadata": {},
   "outputs": [],
   "source": [
    "import numpy as np\n",
    "import pandas as pd\n",
    "\n",
    "import scipy\n",
    "\n",
    "import matplotlib.pyplot as plt\n",
    "import seaborn as sns; sns.set_theme()"
   ]
  },
  {
   "cell_type": "markdown",
   "metadata": {},
   "source": [
    "<div class=\"alert alert-info\">\n",
    "\n",
    "<b>Программа семинара: </b>\n",
    "    \n",
    "Типы данных, меры и типы переменных. Выборка, ошибки выборки, объем выборки. Пропуски и выбросы. Преобразование Бокса - Кокса. Масштабирование и категориальные переменные"
   ]
  },
  {
   "cell_type": "markdown",
   "metadata": {},
   "source": [
    "# Типы данных и типы переменных\n",
    "\n",
    "В самом общем виде данные можно разделить на 2 типа: количественные и качественные."
   ]
  },
  {
   "cell_type": "markdown",
   "metadata": {},
   "source": [
    "# Количественные переменные\n",
    "\n",
    "Отображают количество чего-то. Здесь цифры имеют математическое значение, они оценивают количество какой-то характеристики, например, сумма дохода — `15 000` рублей.\n",
    "\n",
    "**Количественные данные**, в свою очередь, можно поделить на **дискретные** и **непрерывные**.\n",
    "\n",
    "Данные дискретного типа не могут иметь дробной части, они принимают какие-то отдельные целые значения (их конечное число). Например, число детей в семье — их может быть 1, 2, 3 или 5, но не может быть два с половиной. Примеры **дискретных данных:**\n",
    "* Число посетителей сайта за день / неделю / месяц;\n",
    "* Число больных, поступающих в больницы города ежедневно;\n",
    "* Численность учащихся каждого класса школы на начало учебного года;\n",
    "* Количество страховых компаний, получивших лицензию.\n",
    "\n",
    "**Непрерывные данные** — это та шкала, которая занимает все пространство, может принимать любые значения, от `−∞` до `+∞` и может быть, конечно, дробной. Например, время можно измерять в днях, в часах, в секундах, в миллисекундах (т.е ограничения только на требуемую точность измерений), и это будут **непрерывные данные**, определенные на всем протяжении возможных значений. Примеры **непрерывных переменных:**\n",
    "* Рост и вес человека\n",
    "* Концентрация вещества в растворе \n",
    "* сумма расходов компании"
   ]
  },
  {
   "cell_type": "markdown",
   "metadata": {},
   "source": [
    "<img src='./images/type_data.PNG' >"
   ]
  },
  {
   "cell_type": "markdown",
   "metadata": {},
   "source": [
    "# Качественные переменные\n",
    "Отражают свойство или качество наших объектов. И цифры здесь значат уже не сами себя, как в количественном случае, а они означают какие-то свойства объектов. То есть они служат маркерами каких-то категорий, которые нас интересуют. Например, почтовый индекс — это качественные данные (несмотря на то, что он записывается цифрами).\n",
    "\n",
    "**Качественные данные** тоже можно поделить на 2 подтипа: **номинальные** и **порядковые**.\n",
    "\n",
    "Номинальные переменные применяются для обозначения категорий или признаков, которые **нельзя отсортировать по возрастанию или убыванию**, т.е по сути они только содержат информацию о принадлежности объекта к какому-то классу.\n",
    "Например, у человека могут быть такие признаки: цвет глаз (карие, зеленые, голубые, серые), пол (мужчина\\женщина), город проживания — это все номинальные переменные.\n",
    "\n",
    "Порядковые переменные отличаются от номинальных тем, что в них появляется отношения порядка. То есть здесь у нас значения не только разделяют объекты на классы, но и определенным образом упорядочивают их.\n",
    "\n",
    "К примеру, мы изучаем уровень счастья в разных странах и задаем жителям вопрос «Насколько вы счастливы?», на который нужно ответить в десятибалльной шкале, где 10 — это максимальный уровень счастья (самый счастливый), а 1 — минимальный уровень (самый несчастный). «Уровень счастья» в данном случае — порядковая переменная. Ведь мы совершенно точно можем сказать, что человек, выбравший 9, гораздо счастливей, чем человек, выбравший тройку. При этом мы не можем сказать насколько, потому что нельзя измерить счастье количественно, в каких-то точных единицах."
   ]
  },
  {
   "cell_type": "code",
   "execution_count": 9,
   "metadata": {},
   "outputs": [
    {
     "data": {
      "text/html": [
       "<div>\n",
       "<style scoped>\n",
       "    .dataframe tbody tr th:only-of-type {\n",
       "        vertical-align: middle;\n",
       "    }\n",
       "\n",
       "    .dataframe tbody tr th {\n",
       "        vertical-align: top;\n",
       "    }\n",
       "\n",
       "    .dataframe thead th {\n",
       "        text-align: right;\n",
       "    }\n",
       "</style>\n",
       "<table border=\"1\" class=\"dataframe\">\n",
       "  <thead>\n",
       "    <tr style=\"text-align: right;\">\n",
       "      <th></th>\n",
       "      <th>car_ID</th>\n",
       "      <th>symboling</th>\n",
       "      <th>CarName</th>\n",
       "      <th>fueltype</th>\n",
       "      <th>aspiration</th>\n",
       "      <th>doornumber</th>\n",
       "      <th>carbody</th>\n",
       "      <th>drivewheel</th>\n",
       "      <th>enginelocation</th>\n",
       "      <th>wheelbase</th>\n",
       "      <th>...</th>\n",
       "      <th>enginesize</th>\n",
       "      <th>fuelsystem</th>\n",
       "      <th>boreratio</th>\n",
       "      <th>stroke</th>\n",
       "      <th>compressionratio</th>\n",
       "      <th>horsepower</th>\n",
       "      <th>peakrpm</th>\n",
       "      <th>citympg</th>\n",
       "      <th>highwaympg</th>\n",
       "      <th>price</th>\n",
       "    </tr>\n",
       "  </thead>\n",
       "  <tbody>\n",
       "    <tr>\n",
       "      <th>0</th>\n",
       "      <td>1</td>\n",
       "      <td>3</td>\n",
       "      <td>alfa-romero giulia</td>\n",
       "      <td>gas</td>\n",
       "      <td>std</td>\n",
       "      <td>two</td>\n",
       "      <td>convertible</td>\n",
       "      <td>rwd</td>\n",
       "      <td>front</td>\n",
       "      <td>88.6</td>\n",
       "      <td>...</td>\n",
       "      <td>130</td>\n",
       "      <td>mpfi</td>\n",
       "      <td>3.47</td>\n",
       "      <td>2.68</td>\n",
       "      <td>9.0</td>\n",
       "      <td>111</td>\n",
       "      <td>5000</td>\n",
       "      <td>21</td>\n",
       "      <td>27</td>\n",
       "      <td>13495.0</td>\n",
       "    </tr>\n",
       "    <tr>\n",
       "      <th>1</th>\n",
       "      <td>2</td>\n",
       "      <td>3</td>\n",
       "      <td>alfa-romero stelvio</td>\n",
       "      <td>gas</td>\n",
       "      <td>std</td>\n",
       "      <td>two</td>\n",
       "      <td>convertible</td>\n",
       "      <td>rwd</td>\n",
       "      <td>front</td>\n",
       "      <td>88.6</td>\n",
       "      <td>...</td>\n",
       "      <td>130</td>\n",
       "      <td>mpfi</td>\n",
       "      <td>3.47</td>\n",
       "      <td>2.68</td>\n",
       "      <td>9.0</td>\n",
       "      <td>111</td>\n",
       "      <td>5000</td>\n",
       "      <td>21</td>\n",
       "      <td>27</td>\n",
       "      <td>16500.0</td>\n",
       "    </tr>\n",
       "    <tr>\n",
       "      <th>2</th>\n",
       "      <td>3</td>\n",
       "      <td>1</td>\n",
       "      <td>alfa-romero Quadrifoglio</td>\n",
       "      <td>gas</td>\n",
       "      <td>std</td>\n",
       "      <td>two</td>\n",
       "      <td>hatchback</td>\n",
       "      <td>rwd</td>\n",
       "      <td>front</td>\n",
       "      <td>94.5</td>\n",
       "      <td>...</td>\n",
       "      <td>152</td>\n",
       "      <td>mpfi</td>\n",
       "      <td>2.68</td>\n",
       "      <td>3.47</td>\n",
       "      <td>9.0</td>\n",
       "      <td>154</td>\n",
       "      <td>5000</td>\n",
       "      <td>19</td>\n",
       "      <td>26</td>\n",
       "      <td>16500.0</td>\n",
       "    </tr>\n",
       "    <tr>\n",
       "      <th>3</th>\n",
       "      <td>4</td>\n",
       "      <td>2</td>\n",
       "      <td>audi 100 ls</td>\n",
       "      <td>gas</td>\n",
       "      <td>std</td>\n",
       "      <td>four</td>\n",
       "      <td>sedan</td>\n",
       "      <td>fwd</td>\n",
       "      <td>front</td>\n",
       "      <td>99.8</td>\n",
       "      <td>...</td>\n",
       "      <td>109</td>\n",
       "      <td>mpfi</td>\n",
       "      <td>3.19</td>\n",
       "      <td>3.40</td>\n",
       "      <td>10.0</td>\n",
       "      <td>102</td>\n",
       "      <td>5500</td>\n",
       "      <td>24</td>\n",
       "      <td>30</td>\n",
       "      <td>13950.0</td>\n",
       "    </tr>\n",
       "    <tr>\n",
       "      <th>4</th>\n",
       "      <td>5</td>\n",
       "      <td>2</td>\n",
       "      <td>audi 100ls</td>\n",
       "      <td>gas</td>\n",
       "      <td>std</td>\n",
       "      <td>four</td>\n",
       "      <td>sedan</td>\n",
       "      <td>4wd</td>\n",
       "      <td>front</td>\n",
       "      <td>99.4</td>\n",
       "      <td>...</td>\n",
       "      <td>136</td>\n",
       "      <td>mpfi</td>\n",
       "      <td>3.19</td>\n",
       "      <td>3.40</td>\n",
       "      <td>8.0</td>\n",
       "      <td>115</td>\n",
       "      <td>5500</td>\n",
       "      <td>18</td>\n",
       "      <td>22</td>\n",
       "      <td>17450.0</td>\n",
       "    </tr>\n",
       "  </tbody>\n",
       "</table>\n",
       "<p>5 rows × 26 columns</p>\n",
       "</div>"
      ],
      "text/plain": [
       "   car_ID  symboling                   CarName fueltype aspiration doornumber  \\\n",
       "0       1          3        alfa-romero giulia      gas        std        two   \n",
       "1       2          3       alfa-romero stelvio      gas        std        two   \n",
       "2       3          1  alfa-romero Quadrifoglio      gas        std        two   \n",
       "3       4          2               audi 100 ls      gas        std       four   \n",
       "4       5          2                audi 100ls      gas        std       four   \n",
       "\n",
       "       carbody drivewheel enginelocation  wheelbase  ...  enginesize  \\\n",
       "0  convertible        rwd          front       88.6  ...         130   \n",
       "1  convertible        rwd          front       88.6  ...         130   \n",
       "2    hatchback        rwd          front       94.5  ...         152   \n",
       "3        sedan        fwd          front       99.8  ...         109   \n",
       "4        sedan        4wd          front       99.4  ...         136   \n",
       "\n",
       "   fuelsystem  boreratio  stroke compressionratio horsepower  peakrpm citympg  \\\n",
       "0        mpfi       3.47    2.68              9.0        111     5000      21   \n",
       "1        mpfi       3.47    2.68              9.0        111     5000      21   \n",
       "2        mpfi       2.68    3.47              9.0        154     5000      19   \n",
       "3        mpfi       3.19    3.40             10.0        102     5500      24   \n",
       "4        mpfi       3.19    3.40              8.0        115     5500      18   \n",
       "\n",
       "   highwaympg    price  \n",
       "0          27  13495.0  \n",
       "1          27  16500.0  \n",
       "2          26  16500.0  \n",
       "3          30  13950.0  \n",
       "4          22  17450.0  \n",
       "\n",
       "[5 rows x 26 columns]"
      ]
     },
     "execution_count": 9,
     "metadata": {},
     "output_type": "execute_result"
    }
   ],
   "source": [
    "data = pd.read_csv('./data/CarPrice_Assignment.csv')\n",
    "data.head()"
   ]
  },
  {
   "cell_type": "code",
   "execution_count": 11,
   "metadata": {},
   "outputs": [
    {
     "data": {
      "text/plain": [
       "<AxesSubplot:>"
      ]
     },
     "execution_count": 11,
     "metadata": {},
     "output_type": "execute_result"
    },
    {
     "data": {
      "image/png": "[encoded data removed]",
      "text/plain": [
       "<Figure size 432x288 with 1 Axes>"
      ]
     },
     "metadata": {
      "needs_background": "light"
     },
     "output_type": "display_data"
    }
   ],
   "source": [
    "data['price'].hist()"
   ]
  },
  {
   "cell_type": "code",
   "execution_count": 13,
   "metadata": {},
   "outputs": [
    {
     "data": {
      "text/plain": [
       "0      111\n",
       "1      111\n",
       "2      154\n",
       "3      102\n",
       "4      115\n",
       "      ... \n",
       "200    114\n",
       "201    160\n",
       "202    134\n",
       "203    106\n",
       "204    114\n",
       "Name: horsepower, Length: 205, dtype: int64"
      ]
     },
     "execution_count": 13,
     "metadata": {},
     "output_type": "execute_result"
    }
   ],
   "source": [
    "data['horsepower']#.hist()"
   ]
  },
  {
   "cell_type": "code",
   "execution_count": 15,
   "metadata": {},
   "outputs": [
    {
     "data": {
      "text/plain": [
       "gas       185\n",
       "diesel     20\n",
       "Name: fueltype, dtype: int64"
      ]
     },
     "execution_count": 15,
     "metadata": {},
     "output_type": "execute_result"
    }
   ],
   "source": [
    "data['fueltype'].value_counts()#.hist()"
   ]
  },
  {
   "cell_type": "code",
   "execution_count": null,
   "metadata": {},
   "outputs": [],
   "source": []
  },
  {
   "cell_type": "markdown",
   "metadata": {},
   "source": [
    "# Меры и типы переменных"
   ]
  },
  {
   "cell_type": "markdown",
   "metadata": {},
   "source": [
    "<img src='https://crincum.ru/wp-content/uploads/2017/11/%D0%9C%D0%B5%D1%80%D1%8B_%D0%B8_%D1%82%D0%B8%D0%BF%D1%8B_%D0%BF%D0%B5%D1%80%D0%B5%D0%BC%D0%B5%D0%BD%D0%BD%D1%8B%D1%85__%D1%87%D1%82%D0%BE_%D0%B8_%D0%B3%D0%B4%D0%B5_%D0%BF%D1%80%D0%B8%D0%BC%D0%B5%D0%BD%D0%B8%D0%BC%D0%BE_.png'>"
   ]
  },
  {
   "cell_type": "markdown",
   "metadata": {},
   "source": [
    "* **MAD** – Медианное абсолютное отклонение\n",
    "* **СКО** – Среднеквадратичное отклонение"
   ]
  },
  {
   "cell_type": "markdown",
   "metadata": {},
   "source": [
    "# Выборка, ошибки выборки, объем выборки"
   ]
  },
  {
   "cell_type": "code",
   "execution_count": null,
   "metadata": {},
   "outputs": [],
   "source": []
  },
  {
   "cell_type": "markdown",
   "metadata": {},
   "source": [
    "* https://fdfgroup.ru/poleznaya-informatsiya/stati/vyborka-tipy-vyborok-raschet-oshibki-vyborki/#1_anchor\n",
    "\n",
    "* https://fdfgroup.ru/poleznaya-informatsiya/stati/vyborka-tipy-vyborok-raschet-oshibki-vyborki/#2_anchor"
   ]
  },
  {
   "cell_type": "code",
   "execution_count": null,
   "metadata": {},
   "outputs": [],
   "source": []
  },
  {
   "cell_type": "markdown",
   "metadata": {},
   "source": [
    "# Генеральная совокупность\n",
    "\n",
    "Суммарная численность объектов наблюдения (люди, домохозяйства, предприятия, населенные пункты и т.д.), обладающих определенным набором признаков (пол, возраст, доход, численность, оборот и т.д.), ограниченная в пространстве и времени. Примеры генеральных совокупностей\n",
    "\n",
    "* Все жители Москвы (10,6 млн. человек по данным переписи 2002 года)\n",
    "* Мужчины-Москвичи (4,9 млн. человек по данным переписи 2002 года) \n",
    "* Юридические лица России (2,2 млн. на начало 2005 года)\n",
    "* Розничные торговые точки, осуществляющие продажу продуктов питания (20 тысяч на начало 2008 года) и т.д. \n",
    "\n",
    "# Выборка (Выборочная совокупность)\n",
    "\n",
    "Часть объектов из генеральной совокупности, отобранных для изучения, с тем чтобы сделать заключение обо всей генеральной совокупности. Для того чтобы заключение, полученное путем изучения выборки, можно было распространить на всю генеральную совокупность, выборка должна обладать свойством репрезентативности. \n",
    "\n",
    "# Репрезентативность выборки\n",
    "Свойство выборки корректно отражать генеральную совокупность. Одна и та же выборка может быть репрезентативной и нерепрезентативной для разных генеральных совокупностей.\n",
    "Пример:\n",
    "\n",
    "Выборка, целиком состоящая из москвичей, владеющих автомобилем, не репрезентирует все население Москвы. \n",
    "Выборка из российских предприятий численностью до 100 человек не репрезентирует все предприятия России.\n",
    "Выборка из москвичей, совершающих покупки на рынке, не репрезентирует покупательское поведение всех москвичей.\n",
    "\n",
    "\n",
    "В то же время, указанные выборки (при соблюдении прочих условий) могут отлично репрезентировать москвичей-автовладельцев, небольшие и средние российские предприятия и покупателей, совершающих покупки на рынках соответственно.\n",
    "Важно понимать, что репрезентативность выборки и ошибка выборки – разные явления. Репрезентативность, в отличие от ошибки никак не зависит от размера выборки.\n",
    "Пример:\n",
    "Как бы мы не увеличивали количество опрошенных москвичей-автовладельцев, мы не сможем репрезентировать этой выборкой всех москвичей.\n",
    "\n",
    "# Ошибка выборки (доверительный интервал)\n",
    "Отклонение результатов, полученных с помощью выборочного наблюдения от истинных данных генеральной совокупности.\n",
    "Ошибка выборки бывает двух видов – статистическая и систематическая. Статистическая ошибка зависит от размера выборки. Чем больше размер выборки, тем она ниже.\n",
    "\n",
    "**Пример:**\n",
    "Для простой случайной выборки размером 400 единиц максимальная статистическая ошибка (с 95% доверительной вероятностью) составляет 5%, для выборки в 600 единиц – 4%, для выборки в 1100 единиц – 3% Обычно, когда говорят об ошибке выборки, подразумевают именно статистическую ошибку.\n",
    "Систематическая ошибка зависит от различных факторов, оказывающих постоянное воздействие на исследование и смещающих результаты исследования в определенную сторону.\n",
    "Пример:\n",
    "\n",
    "Использование любых вероятностных выборок занижает долю людей с высоким доходом, ведущих активный образ жизни. Происходит это в силу того, что таких людей гораздо сложней застать в каком-либо определенном месте (например, дома).\n",
    "Проблема респондентов, отказывающихся отвечать на вопросы  анкеты (доля «отказников» в Москве, для разных опросов, колеблется от 50% до 80%)\n",
    "\n",
    "В некоторых случаях, когда известны истинные распределения, систематическую ошибку можно нивелировать введением квот или перевзвешиванием данных, но в большинстве реальных исследований даже оценить ее бывает достаточно проблематично.  \n",
    "\n",
    "# Типы выборок\n",
    "Выборки делятся на два типа:\n",
    "\n",
    "вероятностные\n",
    "невероятностные \n",
    "\n",
    "## 1. Вероятностные выборки\n",
    "### Случайная выборка (простой случайный отбор)\n",
    "Такая выборка предполагает однородность генеральной совокупности, одинаковую вероятность доступности всех элементов, наличие полного списка всех элементов. При отборе элементов, как правило, используется таблица случайных чисел. \n",
    "### Механическая (систематическая) выборка\n",
    "Разновидность случайной выборки, упорядоченная по какому-либо признаку (алфавитный порядок, номер телефона, дата рождения и т.д.). Первый элемент отбирается случайно, затем, с шагом ‘n’ отбирается каждый ‘k’-ый элемент. Размер генеральной совокупности, при этом – N=n*k \n",
    "### Стратифицированная (районированная)\n",
    "Применяется в случае неоднородности генеральной совокупности. Генеральная совокупность разбивается на группы (страты). В каждой страте отбор осуществляется случайным или механическим образом. \n",
    "### Серийная (гнездовая или кластерная) выборка\n",
    "При серийной выборке единицами отбора выступают не сами объекты, а группы (кластеры или гнёзда). Группы отбираются случайным образом. Объекты внутри групп обследуются сплошняком. \n",
    "\n",
    "## 2. Невероятностные выборки\n",
    "Отбор в такой выборке осуществляется не по принципам случайности, а по субъективным критериям – доступности, типичности, равного представительства и т.д.. \n",
    "### Квотная выборка\n",
    "Изначально выделяется некоторое количество групп объектов (например, мужчины в возрасте 20-30 лет, 31-45 лет и 46-60 лет; лица с доходом до 30 тысяч рублей, с доходом от 30 до 60 тысяч рублей и с доходом свыше 60 тысяч рублей) Для каждой группы задается количество объектов, которые должны быть обследованы. Количество объектов, которые должны попасть в каждую из групп, задается, чаще всего, либо пропорционально заранее известной доле группы в генеральной совокупности, либо одинаковым для каждой группы. Внутри групп объекты отбираются произвольно. Квотные выборки используются в маркетинговых исследованиях достаточно часто. \n",
    "### Метод снежного кома\n",
    "Выборка строится следующим образом. У каждого респондента, начиная с первого, просятся контакты его друзей, коллег, знакомых, которые подходили бы под условия отбора и могли бы принять участие в исследовании. Таким образом, за исключением первого шага, выборка формируется с участием самих объектов исследования. Метод часто применяется, когда необходимо найти и опросить труднодоступные группы респондентов (например, респондентов, имеющих высокий доход, респондентов, принадлежащих к одной профессиональной группе, респондентов, имеющих какие-либо схожие хобби/увлечения и т.д.) \n",
    "### Стихийная выборка\n",
    "Опрашиваются наиболее доступные респонденты. Типичные примеры стихийных выборок – опросы в газетах/журналах, анкеты, отданные респондентам на самозаполнение, большинство интернет-опросов. Размер и состав стихийных выборок заранее не известен, и определяется только одним параметром – активностью респондентов. \n",
    "### Выборка типичных случаев\n",
    "Отбираются единицы генеральной совокупности, обладающие средним (типичным) значением признака. При этом возникает проблема выбора признака и определения его типичного значения. "
   ]
  },
  {
   "cell_type": "code",
   "execution_count": null,
   "metadata": {},
   "outputs": [],
   "source": []
  },
  {
   "cell_type": "markdown",
   "metadata": {},
   "source": [
    "# Пропуски и выбросы"
   ]
  },
  {
   "cell_type": "code",
   "execution_count": 16,
   "metadata": {},
   "outputs": [],
   "source": [
    "import pandas as pd\n",
    "import numpy as np\n",
    "import seaborn as sns\n",
    "import matplotlib.pyplot as plt\n",
    "import matplotlib.mlab as mlab\n",
    "import matplotlib\n",
    "plt.style.use('ggplot')\n",
    "from matplotlib.pyplot import figure\n",
    "%matplotlib inline\n",
    "matplotlib.rcParams['figure.figsize'] = (12,8)\n",
    "pd.options.mode.chained_assignment = None"
   ]
  },
  {
   "cell_type": "code",
   "execution_count": 105,
   "metadata": {},
   "outputs": [
    {
     "data": {
      "text/html": [
       "<div>\n",
       "<style scoped>\n",
       "    .dataframe tbody tr th:only-of-type {\n",
       "        vertical-align: middle;\n",
       "    }\n",
       "\n",
       "    .dataframe tbody tr th {\n",
       "        vertical-align: top;\n",
       "    }\n",
       "\n",
       "    .dataframe thead th {\n",
       "        text-align: right;\n",
       "    }\n",
       "</style>\n",
       "<table border=\"1\" class=\"dataframe\">\n",
       "  <thead>\n",
       "    <tr style=\"text-align: right;\">\n",
       "      <th></th>\n",
       "      <th>id</th>\n",
       "      <th>timestamp</th>\n",
       "      <th>full_sq</th>\n",
       "      <th>life_sq</th>\n",
       "      <th>floor</th>\n",
       "      <th>max_floor</th>\n",
       "      <th>material</th>\n",
       "      <th>build_year</th>\n",
       "      <th>num_room</th>\n",
       "      <th>kitch_sq</th>\n",
       "      <th>...</th>\n",
       "      <th>cafe_count_5000_price_2500</th>\n",
       "      <th>cafe_count_5000_price_4000</th>\n",
       "      <th>cafe_count_5000_price_high</th>\n",
       "      <th>big_church_count_5000</th>\n",
       "      <th>church_count_5000</th>\n",
       "      <th>mosque_count_5000</th>\n",
       "      <th>leisure_count_5000</th>\n",
       "      <th>sport_count_5000</th>\n",
       "      <th>market_count_5000</th>\n",
       "      <th>price_doc</th>\n",
       "    </tr>\n",
       "  </thead>\n",
       "  <tbody>\n",
       "    <tr>\n",
       "      <th>0</th>\n",
       "      <td>1</td>\n",
       "      <td>2011-08-20</td>\n",
       "      <td>43</td>\n",
       "      <td>27.0</td>\n",
       "      <td>4.0</td>\n",
       "      <td>NaN</td>\n",
       "      <td>NaN</td>\n",
       "      <td>NaN</td>\n",
       "      <td>NaN</td>\n",
       "      <td>NaN</td>\n",
       "      <td>...</td>\n",
       "      <td>9</td>\n",
       "      <td>4</td>\n",
       "      <td>0</td>\n",
       "      <td>13</td>\n",
       "      <td>22</td>\n",
       "      <td>1</td>\n",
       "      <td>0</td>\n",
       "      <td>52</td>\n",
       "      <td>4</td>\n",
       "      <td>5850000</td>\n",
       "    </tr>\n",
       "    <tr>\n",
       "      <th>1</th>\n",
       "      <td>2</td>\n",
       "      <td>2011-08-23</td>\n",
       "      <td>34</td>\n",
       "      <td>19.0</td>\n",
       "      <td>3.0</td>\n",
       "      <td>NaN</td>\n",
       "      <td>NaN</td>\n",
       "      <td>NaN</td>\n",
       "      <td>NaN</td>\n",
       "      <td>NaN</td>\n",
       "      <td>...</td>\n",
       "      <td>15</td>\n",
       "      <td>3</td>\n",
       "      <td>0</td>\n",
       "      <td>15</td>\n",
       "      <td>29</td>\n",
       "      <td>1</td>\n",
       "      <td>10</td>\n",
       "      <td>66</td>\n",
       "      <td>14</td>\n",
       "      <td>6000000</td>\n",
       "    </tr>\n",
       "    <tr>\n",
       "      <th>2</th>\n",
       "      <td>3</td>\n",
       "      <td>2011-08-27</td>\n",
       "      <td>43</td>\n",
       "      <td>29.0</td>\n",
       "      <td>2.0</td>\n",
       "      <td>NaN</td>\n",
       "      <td>NaN</td>\n",
       "      <td>NaN</td>\n",
       "      <td>NaN</td>\n",
       "      <td>NaN</td>\n",
       "      <td>...</td>\n",
       "      <td>10</td>\n",
       "      <td>3</td>\n",
       "      <td>0</td>\n",
       "      <td>11</td>\n",
       "      <td>27</td>\n",
       "      <td>0</td>\n",
       "      <td>4</td>\n",
       "      <td>67</td>\n",
       "      <td>10</td>\n",
       "      <td>5700000</td>\n",
       "    </tr>\n",
       "    <tr>\n",
       "      <th>3</th>\n",
       "      <td>4</td>\n",
       "      <td>2011-09-01</td>\n",
       "      <td>89</td>\n",
       "      <td>50.0</td>\n",
       "      <td>9.0</td>\n",
       "      <td>NaN</td>\n",
       "      <td>NaN</td>\n",
       "      <td>NaN</td>\n",
       "      <td>NaN</td>\n",
       "      <td>NaN</td>\n",
       "      <td>...</td>\n",
       "      <td>11</td>\n",
       "      <td>2</td>\n",
       "      <td>1</td>\n",
       "      <td>4</td>\n",
       "      <td>4</td>\n",
       "      <td>0</td>\n",
       "      <td>0</td>\n",
       "      <td>26</td>\n",
       "      <td>3</td>\n",
       "      <td>13100000</td>\n",
       "    </tr>\n",
       "    <tr>\n",
       "      <th>4</th>\n",
       "      <td>5</td>\n",
       "      <td>2011-09-05</td>\n",
       "      <td>77</td>\n",
       "      <td>77.0</td>\n",
       "      <td>4.0</td>\n",
       "      <td>NaN</td>\n",
       "      <td>NaN</td>\n",
       "      <td>NaN</td>\n",
       "      <td>NaN</td>\n",
       "      <td>NaN</td>\n",
       "      <td>...</td>\n",
       "      <td>319</td>\n",
       "      <td>108</td>\n",
       "      <td>17</td>\n",
       "      <td>135</td>\n",
       "      <td>236</td>\n",
       "      <td>2</td>\n",
       "      <td>91</td>\n",
       "      <td>195</td>\n",
       "      <td>14</td>\n",
       "      <td>16331452</td>\n",
       "    </tr>\n",
       "  </tbody>\n",
       "</table>\n",
       "<p>5 rows × 292 columns</p>\n",
       "</div>"
      ],
      "text/plain": [
       "   id   timestamp  full_sq  life_sq  floor  max_floor  material  build_year  \\\n",
       "0   1  2011-08-20       43     27.0    4.0        NaN       NaN         NaN   \n",
       "1   2  2011-08-23       34     19.0    3.0        NaN       NaN         NaN   \n",
       "2   3  2011-08-27       43     29.0    2.0        NaN       NaN         NaN   \n",
       "3   4  2011-09-01       89     50.0    9.0        NaN       NaN         NaN   \n",
       "4   5  2011-09-05       77     77.0    4.0        NaN       NaN         NaN   \n",
       "\n",
       "   num_room  kitch_sq  ...  cafe_count_5000_price_2500  \\\n",
       "0       NaN       NaN  ...                           9   \n",
       "1       NaN       NaN  ...                          15   \n",
       "2       NaN       NaN  ...                          10   \n",
       "3       NaN       NaN  ...                          11   \n",
       "4       NaN       NaN  ...                         319   \n",
       "\n",
       "  cafe_count_5000_price_4000 cafe_count_5000_price_high  \\\n",
       "0                          4                          0   \n",
       "1                          3                          0   \n",
       "2                          3                          0   \n",
       "3                          2                          1   \n",
       "4                        108                         17   \n",
       "\n",
       "   big_church_count_5000  church_count_5000  mosque_count_5000  \\\n",
       "0                     13                 22                  1   \n",
       "1                     15                 29                  1   \n",
       "2                     11                 27                  0   \n",
       "3                      4                  4                  0   \n",
       "4                    135                236                  2   \n",
       "\n",
       "   leisure_count_5000  sport_count_5000  market_count_5000  price_doc  \n",
       "0                   0                52                  4    5850000  \n",
       "1                  10                66                 14    6000000  \n",
       "2                   4                67                 10    5700000  \n",
       "3                   0                26                  3   13100000  \n",
       "4                  91               195                 14   16331452  \n",
       "\n",
       "[5 rows x 292 columns]"
      ]
     },
     "execution_count": 105,
     "metadata": {},
     "output_type": "execute_result"
    }
   ],
   "source": [
    "# чтение данных\n",
    "df = pd.read_csv('./data/sberbank.csv')\n",
    "# shape and data types of the data\n",
    "# print(df.shape)\n",
    "# print(df.dtypes)\n",
    "df.head()"
   ]
  },
  {
   "cell_type": "markdown",
   "metadata": {},
   "source": [
    "<div class=\"alert alert-info\">\n",
    "\n",
    "<b>Про датасет: </b>\n",
    "\n",
    "Данные для прогнозирования продажной цены каждого объекта недвижимости. Целевая переменная называется `price_doc` в train.csv.\n",
    "\n",
    "Данные обучения - с августа `2011` года по июнь `2015` года, а набор тестов - с июля `2015` года по май `2016` года. Набор данных также включает информацию об общих условиях в российской экономике и финансовом секторе, поэтому вы можете сосредоточиться на создании точных прогнозов цен для отдельных объектов недвижимости. , без необходимости предугадывать, что будет с бизнес-циклом.\n",
    "    \n",
    "https://www.kaggle.com/c/sberbank-russian-housing-market/data"
   ]
  },
  {
   "cell_type": "code",
   "execution_count": 19,
   "metadata": {},
   "outputs": [
    {
     "name": "stdout",
     "output_type": "stream",
     "text": [
      "['id' 'full_sq' 'life_sq' 'floor' 'max_floor' 'material' 'build_year'\n",
      " 'num_room' 'kitch_sq' 'state']\n",
      "['timestamp' 'product_type' 'sub_area' 'culture_objects_top_25'\n",
      " 'thermal_power_plant_raion' 'incineration_raion' 'oil_chemistry_raion'\n",
      " 'radiation_raion' 'railroad_terminal_raion' 'big_market_raion']\n"
     ]
    }
   ],
   "source": [
    "# отбор числовых колонок\n",
    "df_numeric = df.select_dtypes(include=[np.number])\n",
    "numeric_cols = df_numeric.columns.values\n",
    "print(numeric_cols[:10])\n",
    "\n",
    "# отбор нечисловых колонок\n",
    "df_non_numeric = df.select_dtypes(exclude=[np.number])\n",
    "non_numeric_cols = df_non_numeric.columns.values\n",
    "print(non_numeric_cols[:10])"
   ]
  },
  {
   "cell_type": "code",
   "execution_count": 22,
   "metadata": {},
   "outputs": [],
   "source": [
    "# df['max_floor']"
   ]
  },
  {
   "cell_type": "code",
   "execution_count": 13,
   "metadata": {},
   "outputs": [
    {
     "name": "stdout",
     "output_type": "stream",
     "text": [
      "<class 'pandas.core.frame.DataFrame'>\n",
      "RangeIndex: 30471 entries, 0 to 30470\n",
      "Columns: 292 entries, id to price_doc\n",
      "dtypes: float64(119), int64(157), object(16)\n",
      "memory usage: 67.9+ MB\n"
     ]
    }
   ],
   "source": [
    "df.info()"
   ]
  },
  {
   "cell_type": "code",
   "execution_count": 26,
   "metadata": {},
   "outputs": [],
   "source": [
    "# df[cols].isnull()"
   ]
  },
  {
   "cell_type": "code",
   "execution_count": 24,
   "metadata": {},
   "outputs": [
    {
     "data": {
      "text/plain": [
       "<AxesSubplot:>"
      ]
     },
     "execution_count": 24,
     "metadata": {},
     "output_type": "execute_result"
    },
    {
     "data": {
      "image/png": "[encoded data removed]",
      "text/plain": [
       "<Figure size 864x576 with 2 Axes>"
      ]
     },
     "metadata": {
      "needs_background": "light"
     },
     "output_type": "display_data"
    }
   ],
   "source": [
    "cols = df.columns[:30] # первые 30 колонок\n",
    "# определяем цвета \n",
    "# желтый - пропущенные данные, синий - не пропущенные\n",
    "colours = ['#000099', '#ffff00'] \n",
    "\n",
    "sns.heatmap(df[cols].isnull(), cmap=sns.color_palette(colours))"
   ]
  },
  {
   "cell_type": "code",
   "execution_count": 32,
   "metadata": {},
   "outputs": [],
   "source": [
    "# df.info()"
   ]
  },
  {
   "cell_type": "code",
   "execution_count": 27,
   "metadata": {},
   "outputs": [
    {
     "name": "stdout",
     "output_type": "stream",
     "text": [
      "id - 0%\n",
      "timestamp - 0%\n",
      "full_sq - 0%\n",
      "life_sq - 21%\n",
      "floor - 1%\n",
      "max_floor - 31%\n",
      "material - 31%\n",
      "build_year - 45%\n",
      "num_room - 31%\n",
      "kitch_sq - 31%\n",
      "state - 44%\n",
      "product_type - 0%\n",
      "sub_area - 0%\n",
      "area_m - 0%\n",
      "raion_popul - 0%\n",
      "green_zone_part - 0%\n",
      "indust_part - 0%\n",
      "children_preschool - 0%\n",
      "preschool_quota - 22%\n",
      "preschool_education_centers_raion - 0%\n",
      "children_school - 0%\n",
      "school_quota - 22%\n",
      "school_education_centers_raion - 0%\n",
      "school_education_centers_top_20_raion - 0%\n",
      "hospital_beds_raion - 47%\n",
      "healthcare_centers_raion - 0%\n",
      "university_top_20_raion - 0%\n",
      "sport_objects_raion - 0%\n",
      "additional_education_raion - 0%\n",
      "culture_objects_top_25 - 0%\n",
      "culture_objects_top_25_raion - 0%\n",
      "shopping_centers_raion - 0%\n",
      "office_raion - 0%\n",
      "thermal_power_plant_raion - 0%\n",
      "incineration_raion - 0%\n",
      "oil_chemistry_raion - 0%\n",
      "radiation_raion - 0%\n",
      "railroad_terminal_raion - 0%\n",
      "big_market_raion - 0%\n",
      "nuclear_reactor_raion - 0%\n",
      "detention_facility_raion - 0%\n",
      "full_all - 0%\n",
      "male_f - 0%\n",
      "female_f - 0%\n",
      "young_all - 0%\n",
      "young_male - 0%\n",
      "young_female - 0%\n",
      "work_all - 0%\n",
      "work_male - 0%\n",
      "work_female - 0%\n",
      "ekder_all - 0%\n",
      "ekder_male - 0%\n",
      "ekder_female - 0%\n",
      "0_6_all - 0%\n",
      "0_6_male - 0%\n",
      "0_6_female - 0%\n",
      "7_14_all - 0%\n",
      "7_14_male - 0%\n",
      "7_14_female - 0%\n",
      "0_17_all - 0%\n",
      "0_17_male - 0%\n",
      "0_17_female - 0%\n",
      "16_29_all - 0%\n",
      "16_29_male - 0%\n",
      "16_29_female - 0%\n",
      "0_13_all - 0%\n",
      "0_13_male - 0%\n",
      "0_13_female - 0%\n",
      "raion_build_count_with_material_info - 16%\n",
      "build_count_block - 16%\n",
      "build_count_wood - 16%\n",
      "build_count_frame - 16%\n",
      "build_count_brick - 16%\n",
      "build_count_monolith - 16%\n",
      "build_count_panel - 16%\n",
      "build_count_foam - 16%\n",
      "build_count_slag - 16%\n",
      "build_count_mix - 16%\n",
      "raion_build_count_with_builddate_info - 16%\n",
      "build_count_before_1920 - 16%\n",
      "build_count_1921-1945 - 16%\n",
      "build_count_1946-1970 - 16%\n",
      "build_count_1971-1995 - 16%\n",
      "build_count_after_1995 - 16%\n",
      "ID_metro - 0%\n",
      "metro_min_avto - 0%\n",
      "metro_km_avto - 0%\n",
      "metro_min_walk - 0%\n",
      "metro_km_walk - 0%\n",
      "kindergarten_km - 0%\n",
      "school_km - 0%\n",
      "park_km - 0%\n",
      "green_zone_km - 0%\n",
      "industrial_km - 0%\n",
      "water_treatment_km - 0%\n",
      "cemetery_km - 0%\n",
      "incineration_km - 0%\n",
      "railroad_station_walk_km - 0%\n",
      "railroad_station_walk_min - 0%\n",
      "ID_railroad_station_walk - 0%\n",
      "railroad_station_avto_km - 0%\n",
      "railroad_station_avto_min - 0%\n",
      "ID_railroad_station_avto - 0%\n",
      "public_transport_station_km - 0%\n",
      "public_transport_station_min_walk - 0%\n",
      "water_km - 0%\n",
      "water_1line - 0%\n",
      "mkad_km - 0%\n",
      "ttk_km - 0%\n",
      "sadovoe_km - 0%\n",
      "bulvar_ring_km - 0%\n",
      "kremlin_km - 0%\n",
      "big_road1_km - 0%\n",
      "ID_big_road1 - 0%\n",
      "big_road1_1line - 0%\n",
      "big_road2_km - 0%\n",
      "ID_big_road2 - 0%\n",
      "railroad_km - 0%\n",
      "railroad_1line - 0%\n",
      "zd_vokzaly_avto_km - 0%\n",
      "ID_railroad_terminal - 0%\n",
      "bus_terminal_avto_km - 0%\n",
      "ID_bus_terminal - 0%\n",
      "oil_chemistry_km - 0%\n",
      "nuclear_reactor_km - 0%\n",
      "radiation_km - 0%\n",
      "power_transmission_line_km - 0%\n",
      "thermal_power_plant_km - 0%\n",
      "ts_km - 0%\n",
      "big_market_km - 0%\n",
      "market_shop_km - 0%\n",
      "fitness_km - 0%\n",
      "swim_pool_km - 0%\n",
      "ice_rink_km - 0%\n",
      "stadium_km - 0%\n",
      "basketball_km - 0%\n",
      "hospice_morgue_km - 0%\n",
      "detention_facility_km - 0%\n",
      "public_healthcare_km - 0%\n",
      "university_km - 0%\n",
      "workplaces_km - 0%\n",
      "shopping_centers_km - 0%\n",
      "office_km - 0%\n",
      "additional_education_km - 0%\n",
      "preschool_km - 0%\n",
      "big_church_km - 0%\n",
      "church_synagogue_km - 0%\n",
      "mosque_km - 0%\n",
      "theater_km - 0%\n",
      "museum_km - 0%\n",
      "exhibition_km - 0%\n",
      "catering_km - 0%\n",
      "ecology - 0%\n",
      "green_part_500 - 0%\n",
      "prom_part_500 - 0%\n",
      "office_count_500 - 0%\n",
      "office_sqm_500 - 0%\n",
      "trc_count_500 - 0%\n",
      "trc_sqm_500 - 0%\n",
      "cafe_count_500 - 0%\n",
      "cafe_sum_500_min_price_avg - 44%\n",
      "cafe_sum_500_max_price_avg - 44%\n",
      "cafe_avg_price_500 - 44%\n",
      "cafe_count_500_na_price - 0%\n",
      "cafe_count_500_price_500 - 0%\n",
      "cafe_count_500_price_1000 - 0%\n",
      "cafe_count_500_price_1500 - 0%\n",
      "cafe_count_500_price_2500 - 0%\n",
      "cafe_count_500_price_4000 - 0%\n",
      "cafe_count_500_price_high - 0%\n",
      "big_church_count_500 - 0%\n",
      "church_count_500 - 0%\n",
      "mosque_count_500 - 0%\n",
      "leisure_count_500 - 0%\n",
      "sport_count_500 - 0%\n",
      "market_count_500 - 0%\n",
      "green_part_1000 - 0%\n",
      "prom_part_1000 - 0%\n",
      "office_count_1000 - 0%\n",
      "office_sqm_1000 - 0%\n",
      "trc_count_1000 - 0%\n",
      "trc_sqm_1000 - 0%\n",
      "cafe_count_1000 - 0%\n",
      "cafe_sum_1000_min_price_avg - 21%\n",
      "cafe_sum_1000_max_price_avg - 21%\n",
      "cafe_avg_price_1000 - 21%\n",
      "cafe_count_1000_na_price - 0%\n",
      "cafe_count_1000_price_500 - 0%\n",
      "cafe_count_1000_price_1000 - 0%\n",
      "cafe_count_1000_price_1500 - 0%\n",
      "cafe_count_1000_price_2500 - 0%\n",
      "cafe_count_1000_price_4000 - 0%\n",
      "cafe_count_1000_price_high - 0%\n",
      "big_church_count_1000 - 0%\n",
      "church_count_1000 - 0%\n",
      "mosque_count_1000 - 0%\n",
      "leisure_count_1000 - 0%\n",
      "sport_count_1000 - 0%\n",
      "market_count_1000 - 0%\n",
      "green_part_1500 - 0%\n",
      "prom_part_1500 - 0%\n",
      "office_count_1500 - 0%\n",
      "office_sqm_1500 - 0%\n",
      "trc_count_1500 - 0%\n",
      "trc_sqm_1500 - 0%\n",
      "cafe_count_1500 - 0%\n",
      "cafe_sum_1500_min_price_avg - 14%\n",
      "cafe_sum_1500_max_price_avg - 14%\n",
      "cafe_avg_price_1500 - 14%\n",
      "cafe_count_1500_na_price - 0%\n",
      "cafe_count_1500_price_500 - 0%\n",
      "cafe_count_1500_price_1000 - 0%\n",
      "cafe_count_1500_price_1500 - 0%\n",
      "cafe_count_1500_price_2500 - 0%\n",
      "cafe_count_1500_price_4000 - 0%\n",
      "cafe_count_1500_price_high - 0%\n",
      "big_church_count_1500 - 0%\n",
      "church_count_1500 - 0%\n",
      "mosque_count_1500 - 0%\n",
      "leisure_count_1500 - 0%\n",
      "sport_count_1500 - 0%\n",
      "market_count_1500 - 0%\n",
      "green_part_2000 - 0%\n",
      "prom_part_2000 - 0%\n",
      "office_count_2000 - 0%\n",
      "office_sqm_2000 - 0%\n",
      "trc_count_2000 - 0%\n",
      "trc_sqm_2000 - 0%\n",
      "cafe_count_2000 - 0%\n",
      "cafe_sum_2000_min_price_avg - 6%\n",
      "cafe_sum_2000_max_price_avg - 6%\n",
      "cafe_avg_price_2000 - 6%\n",
      "cafe_count_2000_na_price - 0%\n",
      "cafe_count_2000_price_500 - 0%\n",
      "cafe_count_2000_price_1000 - 0%\n",
      "cafe_count_2000_price_1500 - 0%\n",
      "cafe_count_2000_price_2500 - 0%\n",
      "cafe_count_2000_price_4000 - 0%\n",
      "cafe_count_2000_price_high - 0%\n",
      "big_church_count_2000 - 0%\n",
      "church_count_2000 - 0%\n",
      "mosque_count_2000 - 0%\n",
      "leisure_count_2000 - 0%\n",
      "sport_count_2000 - 0%\n",
      "market_count_2000 - 0%\n",
      "green_part_3000 - 0%\n",
      "prom_part_3000 - 0%\n",
      "office_count_3000 - 0%\n",
      "office_sqm_3000 - 0%\n",
      "trc_count_3000 - 0%\n",
      "trc_sqm_3000 - 0%\n",
      "cafe_count_3000 - 0%\n",
      "cafe_sum_3000_min_price_avg - 3%\n",
      "cafe_sum_3000_max_price_avg - 3%\n",
      "cafe_avg_price_3000 - 3%\n",
      "cafe_count_3000_na_price - 0%\n",
      "cafe_count_3000_price_500 - 0%\n",
      "cafe_count_3000_price_1000 - 0%\n",
      "cafe_count_3000_price_1500 - 0%\n",
      "cafe_count_3000_price_2500 - 0%\n",
      "cafe_count_3000_price_4000 - 0%\n",
      "cafe_count_3000_price_high - 0%\n",
      "big_church_count_3000 - 0%\n",
      "church_count_3000 - 0%\n",
      "mosque_count_3000 - 0%\n",
      "leisure_count_3000 - 0%\n",
      "sport_count_3000 - 0%\n",
      "market_count_3000 - 0%\n",
      "green_part_5000 - 0%\n",
      "prom_part_5000 - 1%\n",
      "office_count_5000 - 0%\n",
      "office_sqm_5000 - 0%\n",
      "trc_count_5000 - 0%\n",
      "trc_sqm_5000 - 0%\n",
      "cafe_count_5000 - 0%\n",
      "cafe_sum_5000_min_price_avg - 1%\n",
      "cafe_sum_5000_max_price_avg - 1%\n",
      "cafe_avg_price_5000 - 1%\n",
      "cafe_count_5000_na_price - 0%\n",
      "cafe_count_5000_price_500 - 0%\n",
      "cafe_count_5000_price_1000 - 0%\n",
      "cafe_count_5000_price_1500 - 0%\n",
      "cafe_count_5000_price_2500 - 0%\n",
      "cafe_count_5000_price_4000 - 0%\n",
      "cafe_count_5000_price_high - 0%\n",
      "big_church_count_5000 - 0%\n",
      "church_count_5000 - 0%\n",
      "mosque_count_5000 - 0%\n",
      "leisure_count_5000 - 0%\n",
      "sport_count_5000 - 0%\n",
      "market_count_5000 - 0%\n",
      "price_doc - 0%\n"
     ]
    }
   ],
   "source": [
    "for col in df.columns:\n",
    "    pct_missing = np.mean(df[col].isnull())\n",
    "    print('{} - {}%'.format(col, round(pct_missing*100)))"
   ]
  },
  {
   "cell_type": "markdown",
   "metadata": {},
   "source": [
    "# Что делать с пропущенными значениями?"
   ]
  },
  {
   "cell_type": "markdown",
   "metadata": {},
   "source": [
    "Первая техника в статистике называется методом удаления по списку и заключается в простом отбрасывании записи, содержащей пропущенные значения. Это решение подходит только в том случае, если недостающие данные не являются информативными.\n",
    "\n",
    "Для отбрасывания можно использовать и другие критерии. Например, из гистограммы, построенной в предыдущем разделе, мы узнали, что лишь небольшое количество строк содержат более 35 пропусков. Мы можем создать новый набор данных `df_less_missing_rows`, в котором отбросим эти строки."
   ]
  },
  {
   "cell_type": "markdown",
   "metadata": {},
   "source": [
    "## Отбрасывание записей"
   ]
  },
  {
   "cell_type": "markdown",
   "metadata": {},
   "source": [
    "Как и предыдущая техника, отбрасывание признаков может применяться только для неинформативных признаков.\n",
    "\n",
    "В процентном списке, построенном ранее, мы увидели, что признак `hospital_beds_raion` имеет высокий процент недостающих значений – 47%. Мы можем полностью отказаться от этого признака:"
   ]
  },
  {
   "cell_type": "code",
   "execution_count": 34,
   "metadata": {},
   "outputs": [
    {
     "ename": "KeyError",
     "evalue": "'num_missing'",
     "output_type": "error",
     "traceback": [
      "\u001b[1;31m---------------------------------------------------------------------------\u001b[0m",
      "\u001b[1;31mKeyError\u001b[0m                                  Traceback (most recent call last)",
      "\u001b[1;32m~\\anaconda3\\lib\\site-packages\\pandas\\core\\indexes\\base.py\u001b[0m in \u001b[0;36mget_loc\u001b[1;34m(self, key, method, tolerance)\u001b[0m\n\u001b[0;32m   2894\u001b[0m             \u001b[1;32mtry\u001b[0m\u001b[1;33m:\u001b[0m\u001b[1;33m\u001b[0m\u001b[1;33m\u001b[0m\u001b[0m\n\u001b[1;32m-> 2895\u001b[1;33m                 \u001b[1;32mreturn\u001b[0m \u001b[0mself\u001b[0m\u001b[1;33m.\u001b[0m\u001b[0m_engine\u001b[0m\u001b[1;33m.\u001b[0m\u001b[0mget_loc\u001b[0m\u001b[1;33m(\u001b[0m\u001b[0mcasted_key\u001b[0m\u001b[1;33m)\u001b[0m\u001b[1;33m\u001b[0m\u001b[1;33m\u001b[0m\u001b[0m\n\u001b[0m\u001b[0;32m   2896\u001b[0m             \u001b[1;32mexcept\u001b[0m \u001b[0mKeyError\u001b[0m \u001b[1;32mas\u001b[0m \u001b[0merr\u001b[0m\u001b[1;33m:\u001b[0m\u001b[1;33m\u001b[0m\u001b[1;33m\u001b[0m\u001b[0m\n",
      "\u001b[1;32mpandas\\_libs\\index.pyx\u001b[0m in \u001b[0;36mpandas._libs.index.IndexEngine.get_loc\u001b[1;34m()\u001b[0m\n",
      "\u001b[1;32mpandas\\_libs\\index.pyx\u001b[0m in \u001b[0;36mpandas._libs.index.IndexEngine.get_loc\u001b[1;34m()\u001b[0m\n",
      "\u001b[1;32mpandas\\_libs\\hashtable_class_helper.pxi\u001b[0m in \u001b[0;36mpandas._libs.hashtable.PyObjectHashTable.get_item\u001b[1;34m()\u001b[0m\n",
      "\u001b[1;32mpandas\\_libs\\hashtable_class_helper.pxi\u001b[0m in \u001b[0;36mpandas._libs.hashtable.PyObjectHashTable.get_item\u001b[1;34m()\u001b[0m\n",
      "\u001b[1;31mKeyError\u001b[0m: 'num_missing'",
      "\nThe above exception was the direct cause of the following exception:\n",
      "\u001b[1;31mKeyError\u001b[0m                                  Traceback (most recent call last)",
      "\u001b[1;32m<ipython-input-34-6a81111cd469>\u001b[0m in \u001b[0;36m<module>\u001b[1;34m\u001b[0m\n\u001b[0;32m      1\u001b[0m \u001b[1;31m# отбрасываем строки с большим количеством пропусков\u001b[0m\u001b[1;33m\u001b[0m\u001b[1;33m\u001b[0m\u001b[1;33m\u001b[0m\u001b[0m\n\u001b[1;32m----> 2\u001b[1;33m \u001b[0mind_missing\u001b[0m \u001b[1;33m=\u001b[0m \u001b[0mdf\u001b[0m\u001b[1;33m[\u001b[0m\u001b[0mdf\u001b[0m\u001b[1;33m[\u001b[0m\u001b[1;34m'num_missing'\u001b[0m\u001b[1;33m]\u001b[0m \u001b[1;33m>\u001b[0m \u001b[1;36m35\u001b[0m\u001b[1;33m]\u001b[0m\u001b[1;33m.\u001b[0m\u001b[0mindex\u001b[0m\u001b[1;33m\u001b[0m\u001b[1;33m\u001b[0m\u001b[0m\n\u001b[0m\u001b[0;32m      3\u001b[0m \u001b[0mdf_less_missing_rows\u001b[0m \u001b[1;33m=\u001b[0m \u001b[0mdf\u001b[0m\u001b[1;33m.\u001b[0m\u001b[0mdrop\u001b[0m\u001b[1;33m(\u001b[0m\u001b[0mind_missing\u001b[0m\u001b[1;33m,\u001b[0m \u001b[0maxis\u001b[0m\u001b[1;33m=\u001b[0m\u001b[1;36m0\u001b[0m\u001b[1;33m)\u001b[0m\u001b[1;33m\u001b[0m\u001b[1;33m\u001b[0m\u001b[0m\n",
      "\u001b[1;32m~\\anaconda3\\lib\\site-packages\\pandas\\core\\frame.py\u001b[0m in \u001b[0;36m__getitem__\u001b[1;34m(self, key)\u001b[0m\n\u001b[0;32m   2900\u001b[0m             \u001b[1;32mif\u001b[0m \u001b[0mself\u001b[0m\u001b[1;33m.\u001b[0m\u001b[0mcolumns\u001b[0m\u001b[1;33m.\u001b[0m\u001b[0mnlevels\u001b[0m \u001b[1;33m>\u001b[0m \u001b[1;36m1\u001b[0m\u001b[1;33m:\u001b[0m\u001b[1;33m\u001b[0m\u001b[1;33m\u001b[0m\u001b[0m\n\u001b[0;32m   2901\u001b[0m                 \u001b[1;32mreturn\u001b[0m \u001b[0mself\u001b[0m\u001b[1;33m.\u001b[0m\u001b[0m_getitem_multilevel\u001b[0m\u001b[1;33m(\u001b[0m\u001b[0mkey\u001b[0m\u001b[1;33m)\u001b[0m\u001b[1;33m\u001b[0m\u001b[1;33m\u001b[0m\u001b[0m\n\u001b[1;32m-> 2902\u001b[1;33m             \u001b[0mindexer\u001b[0m \u001b[1;33m=\u001b[0m \u001b[0mself\u001b[0m\u001b[1;33m.\u001b[0m\u001b[0mcolumns\u001b[0m\u001b[1;33m.\u001b[0m\u001b[0mget_loc\u001b[0m\u001b[1;33m(\u001b[0m\u001b[0mkey\u001b[0m\u001b[1;33m)\u001b[0m\u001b[1;33m\u001b[0m\u001b[1;33m\u001b[0m\u001b[0m\n\u001b[0m\u001b[0;32m   2903\u001b[0m             \u001b[1;32mif\u001b[0m \u001b[0mis_integer\u001b[0m\u001b[1;33m(\u001b[0m\u001b[0mindexer\u001b[0m\u001b[1;33m)\u001b[0m\u001b[1;33m:\u001b[0m\u001b[1;33m\u001b[0m\u001b[1;33m\u001b[0m\u001b[0m\n\u001b[0;32m   2904\u001b[0m                 \u001b[0mindexer\u001b[0m \u001b[1;33m=\u001b[0m \u001b[1;33m[\u001b[0m\u001b[0mindexer\u001b[0m\u001b[1;33m]\u001b[0m\u001b[1;33m\u001b[0m\u001b[1;33m\u001b[0m\u001b[0m\n",
      "\u001b[1;32m~\\anaconda3\\lib\\site-packages\\pandas\\core\\indexes\\base.py\u001b[0m in \u001b[0;36mget_loc\u001b[1;34m(self, key, method, tolerance)\u001b[0m\n\u001b[0;32m   2895\u001b[0m                 \u001b[1;32mreturn\u001b[0m \u001b[0mself\u001b[0m\u001b[1;33m.\u001b[0m\u001b[0m_engine\u001b[0m\u001b[1;33m.\u001b[0m\u001b[0mget_loc\u001b[0m\u001b[1;33m(\u001b[0m\u001b[0mcasted_key\u001b[0m\u001b[1;33m)\u001b[0m\u001b[1;33m\u001b[0m\u001b[1;33m\u001b[0m\u001b[0m\n\u001b[0;32m   2896\u001b[0m             \u001b[1;32mexcept\u001b[0m \u001b[0mKeyError\u001b[0m \u001b[1;32mas\u001b[0m \u001b[0merr\u001b[0m\u001b[1;33m:\u001b[0m\u001b[1;33m\u001b[0m\u001b[1;33m\u001b[0m\u001b[0m\n\u001b[1;32m-> 2897\u001b[1;33m                 \u001b[1;32mraise\u001b[0m \u001b[0mKeyError\u001b[0m\u001b[1;33m(\u001b[0m\u001b[0mkey\u001b[0m\u001b[1;33m)\u001b[0m \u001b[1;32mfrom\u001b[0m \u001b[0merr\u001b[0m\u001b[1;33m\u001b[0m\u001b[1;33m\u001b[0m\u001b[0m\n\u001b[0m\u001b[0;32m   2898\u001b[0m \u001b[1;33m\u001b[0m\u001b[0m\n\u001b[0;32m   2899\u001b[0m         \u001b[1;32mif\u001b[0m \u001b[0mtolerance\u001b[0m \u001b[1;32mis\u001b[0m \u001b[1;32mnot\u001b[0m \u001b[1;32mNone\u001b[0m\u001b[1;33m:\u001b[0m\u001b[1;33m\u001b[0m\u001b[1;33m\u001b[0m\u001b[0m\n",
      "\u001b[1;31mKeyError\u001b[0m: 'num_missing'"
     ]
    }
   ],
   "source": [
    "# отбрасываем строки с большим количеством пропусков\n",
    "ind_missing = df[df['num_missing'] > 35].index\n",
    "df_less_missing_rows = df.drop(ind_missing, axis=0)"
   ]
  },
  {
   "cell_type": "markdown",
   "metadata": {},
   "source": [
    "## Отбрасывание признаков"
   ]
  },
  {
   "cell_type": "markdown",
   "metadata": {},
   "source": [
    "Как и предыдущая техника, отбрасывание признаков может применяться только для неинформативных признаков.\n",
    "\n",
    "В процентном списке, построенном ранее, мы увидели, что признак hospital_beds_raion имеет высокий процент недостающих значений – 47%. Мы можем полностью отказаться от этого признака:"
   ]
  },
  {
   "cell_type": "code",
   "execution_count": null,
   "metadata": {},
   "outputs": [],
   "source": [
    "cols_to_drop = ['hospital_beds_raion']\n",
    "df_less_hos_beds_raion = df.drop(cols_to_drop, axis=1)"
   ]
  },
  {
   "cell_type": "markdown",
   "metadata": {},
   "source": [
    "# Внесение недостающих значений"
   ]
  },
  {
   "cell_type": "markdown",
   "metadata": {},
   "source": [
    "Для численных признаков можно воспользоваться методом принудительного заполнения пропусков. Например, на место пропуска можно записать среднее или медианное значение, полученное из остальных записей.\n",
    "\n",
    "Для категориальных признаков можно использовать в качестве заполнителя наиболее часто встречающееся значение.\n",
    "\n",
    "Возьмем для примера признак `life_sq` и заменим все недостающие значения медианой этого признака:"
   ]
  },
  {
   "cell_type": "code",
   "execution_count": 49,
   "metadata": {},
   "outputs": [
    {
     "data": {
      "text/plain": [
       "6383"
      ]
     },
     "execution_count": 49,
     "metadata": {},
     "output_type": "execute_result"
    }
   ],
   "source": [
    "df['life_sq'].isnull().sum()"
   ]
  },
  {
   "cell_type": "code",
   "execution_count": 50,
   "metadata": {},
   "outputs": [
    {
     "name": "stdout",
     "output_type": "stream",
     "text": [
      "30.0\n"
     ]
    }
   ],
   "source": [
    "med = df['life_sq'].median()\n",
    "print(med)\n",
    "df['life_sq'] = df['life_sq'].fillna(med)"
   ]
  },
  {
   "cell_type": "code",
   "execution_count": 53,
   "metadata": {},
   "outputs": [],
   "source": [
    "# df['life_sq']#.isnull().sum()"
   ]
  },
  {
   "cell_type": "markdown",
   "metadata": {},
   "source": [
    "Одну и ту же стратегию принудительного заполнения можно применить сразу для всех числовых признаков:"
   ]
  },
  {
   "cell_type": "code",
   "execution_count": 22,
   "metadata": {},
   "outputs": [
    {
     "name": "stdout",
     "output_type": "stream",
     "text": [
      "imputing missing values for: life_sq\n",
      "imputing missing values for: floor\n",
      "imputing missing values for: max_floor\n",
      "imputing missing values for: material\n",
      "imputing missing values for: build_year\n",
      "imputing missing values for: num_room\n",
      "imputing missing values for: kitch_sq\n",
      "imputing missing values for: state\n",
      "imputing missing values for: preschool_quota\n",
      "imputing missing values for: school_quota\n",
      "imputing missing values for: hospital_beds_raion\n",
      "imputing missing values for: raion_build_count_with_material_info\n",
      "imputing missing values for: build_count_block\n",
      "imputing missing values for: build_count_wood\n",
      "imputing missing values for: build_count_frame\n",
      "imputing missing values for: build_count_brick\n",
      "imputing missing values for: build_count_monolith\n",
      "imputing missing values for: build_count_panel\n",
      "imputing missing values for: build_count_foam\n",
      "imputing missing values for: build_count_slag\n",
      "imputing missing values for: build_count_mix\n",
      "imputing missing values for: raion_build_count_with_builddate_info\n",
      "imputing missing values for: build_count_before_1920\n",
      "imputing missing values for: build_count_1921-1945\n",
      "imputing missing values for: build_count_1946-1970\n",
      "imputing missing values for: build_count_1971-1995\n",
      "imputing missing values for: build_count_after_1995\n",
      "imputing missing values for: metro_min_walk\n",
      "imputing missing values for: metro_km_walk\n",
      "imputing missing values for: railroad_station_walk_km\n",
      "imputing missing values for: railroad_station_walk_min\n",
      "imputing missing values for: ID_railroad_station_walk\n",
      "imputing missing values for: cafe_sum_500_min_price_avg\n",
      "imputing missing values for: cafe_sum_500_max_price_avg\n",
      "imputing missing values for: cafe_avg_price_500\n",
      "imputing missing values for: cafe_sum_1000_min_price_avg\n",
      "imputing missing values for: cafe_sum_1000_max_price_avg\n",
      "imputing missing values for: cafe_avg_price_1000\n",
      "imputing missing values for: cafe_sum_1500_min_price_avg\n",
      "imputing missing values for: cafe_sum_1500_max_price_avg\n",
      "imputing missing values for: cafe_avg_price_1500\n",
      "imputing missing values for: cafe_sum_2000_min_price_avg\n",
      "imputing missing values for: cafe_sum_2000_max_price_avg\n",
      "imputing missing values for: cafe_avg_price_2000\n",
      "imputing missing values for: cafe_sum_3000_min_price_avg\n",
      "imputing missing values for: cafe_sum_3000_max_price_avg\n",
      "imputing missing values for: cafe_avg_price_3000\n",
      "imputing missing values for: prom_part_5000\n",
      "imputing missing values for: cafe_sum_5000_min_price_avg\n",
      "imputing missing values for: cafe_sum_5000_max_price_avg\n",
      "imputing missing values for: cafe_avg_price_5000\n"
     ]
    }
   ],
   "source": [
    "# impute the missing values and create the missing value indicator variables for each numeric column.\n",
    "df_numeric = df.select_dtypes(include=[np.number])\n",
    "numeric_cols = df_numeric.columns.values\n",
    "for col in numeric_cols:\n",
    "    missing = df[col].isnull()\n",
    "    num_missing = np.sum(missing)\n",
    "    \n",
    "    if num_missing > 0:  # only do the imputation for the columns that have missing values.\n",
    "        print('imputing missing values for: {}'.format(col))\n",
    "        df['{}_ismissing'.format(col)] = missing\n",
    "        med = df[col].median()\n",
    "        df[col] = df[col].fillna(med)"
   ]
  },
  {
   "cell_type": "markdown",
   "metadata": {},
   "source": [
    "К счастью, в нашем наборе не нашлось пропусков в категориальных признаках. Но это не мешает нам продемонстрировать использование той же стратегии:"
   ]
  },
  {
   "cell_type": "code",
   "execution_count": 56,
   "metadata": {},
   "outputs": [
    {
     "data": {
      "text/plain": [
       "0           Investment\n",
       "1                  NaN\n",
       "2           Investment\n",
       "3           Investment\n",
       "4           Investment\n",
       "             ...      \n",
       "30466       Investment\n",
       "30467       Investment\n",
       "30468    OwnerOccupier\n",
       "30469       Investment\n",
       "30470       Investment\n",
       "Name: product_type, Length: 30471, dtype: object"
      ]
     },
     "execution_count": 56,
     "metadata": {},
     "output_type": "execute_result"
    }
   ],
   "source": [
    "df['product_type']#.iloc[1] = np.nan"
   ]
  },
  {
   "cell_type": "code",
   "execution_count": 57,
   "metadata": {},
   "outputs": [
    {
     "data": {
      "text/plain": [
       "Investment       19447\n",
       "OwnerOccupier    11023\n",
       "Name: product_type, dtype: int64"
      ]
     },
     "execution_count": 57,
     "metadata": {},
     "output_type": "execute_result"
    }
   ],
   "source": [
    "df['product_type'].value_counts()"
   ]
  },
  {
   "cell_type": "code",
   "execution_count": null,
   "metadata": {},
   "outputs": [],
   "source": []
  },
  {
   "cell_type": "code",
   "execution_count": 23,
   "metadata": {},
   "outputs": [],
   "source": [
    "df_non_numeric = df.select_dtypes(exclude=[np.number])\n",
    "non_numeric_cols = df_non_numeric.columns.values\n",
    "for col in non_numeric_cols:\n",
    "    missing = df[col].isnull()\n",
    "    num_missing = np.sum(missing)\n",
    "    \n",
    "    if num_missing > 0:  # only do the imputation for the columns that have missing values.\n",
    "        print('imputing missing values for: {}'.format(col))\n",
    "        df['{}_ismissing'.format(col)] = missing\n",
    "        \n",
    "        top = df[col].describe()['top'] # impute with the most frequent value.\n",
    "        df[col] = df[col].fillna(top)"
   ]
  },
  {
   "cell_type": "markdown",
   "metadata": {},
   "source": [
    "# Замена недостающих значений"
   ]
  },
  {
   "cell_type": "markdown",
   "metadata": {},
   "source": [
    "Можно использовать некоторый дефолтный плейсхолдер для пропусков, например, новую категорию _MISSING_ для категориальных признаков или число -999 для числовых.\n",
    "\n",
    "Таким образом, мы сохраняем данные о пропущенных значениях, что тоже может быть ценной информацией."
   ]
  },
  {
   "cell_type": "code",
   "execution_count": 24,
   "metadata": {},
   "outputs": [],
   "source": [
    "# категориальные признаки\n",
    "df['sub_area'] = df['sub_area'].fillna('_MISSING_')\n",
    "# численные признаки\n",
    "df['life_sq'] = df['life_sq'].fillna(-999)"
   ]
  },
  {
   "cell_type": "markdown",
   "metadata": {},
   "source": [
    "# Нетипичные данные (выбросы)"
   ]
  },
  {
   "cell_type": "markdown",
   "metadata": {},
   "source": [
    "**Выбросы** – это данные, которые существенно отличаются от других наблюдений. Они могут соответствовать реальным отклонениям, но могут быть и просто ошибками."
   ]
  },
  {
   "cell_type": "markdown",
   "metadata": {},
   "source": [
    "<img src='https://miro.medium.com/max/697/1*O3lOgPwuHP7Vfc1T6NDRrQ.png'>"
   ]
  },
  {
   "cell_type": "markdown",
   "metadata": {},
   "source": [
    "# Как обнаружить выбросы?"
   ]
  },
  {
   "cell_type": "markdown",
   "metadata": {},
   "source": [
    "* Гистограмма\n",
    "* Коробчатая диаграмма (бокс-плот)"
   ]
  },
  {
   "cell_type": "markdown",
   "metadata": {},
   "source": [
    "Если признак численный, можно построить гистограмму или коробчатую диаграмму (ящик с усами). Посмотрим на примере уже знакомого нам признака life_sq."
   ]
  },
  {
   "cell_type": "code",
   "execution_count": 26,
   "metadata": {},
   "outputs": [
    {
     "data": {
      "text/plain": [
       "<AxesSubplot:>"
      ]
     },
     "execution_count": 26,
     "metadata": {},
     "output_type": "execute_result"
    },
    {
     "data": {
      "image/png": "[encoded data removed]",
      "text/plain": [
       "<Figure size 864x576 with 1 Axes>"
      ]
     },
     "metadata": {
      "needs_background": "light"
     },
     "output_type": "display_data"
    }
   ],
   "source": [
    "df['life_sq'].hist(bins=100)"
   ]
  },
  {
   "cell_type": "code",
   "execution_count": null,
   "metadata": {},
   "outputs": [],
   "source": []
  },
  {
   "cell_type": "code",
   "execution_count": 27,
   "metadata": {},
   "outputs": [
    {
     "data": {
      "text/plain": [
       "<AxesSubplot:>"
      ]
     },
     "execution_count": 27,
     "metadata": {},
     "output_type": "execute_result"
    },
    {
     "data": {
      "image/png": "[encoded data removed]",
      "text/plain": [
       "<Figure size 864x576 with 1 Axes>"
      ]
     },
     "metadata": {
      "needs_background": "light"
     },
     "output_type": "display_data"
    }
   ],
   "source": [
    "df.boxplot(column=['life_sq'])"
   ]
  },
  {
   "cell_type": "code",
   "execution_count": null,
   "metadata": {},
   "outputs": [],
   "source": [
    " "
   ]
  },
  {
   "cell_type": "code",
   "execution_count": null,
   "metadata": {},
   "outputs": [],
   "source": []
  },
  {
   "cell_type": "markdown",
   "metadata": {},
   "source": [
    "# Что делать?"
   ]
  },
  {
   "cell_type": "markdown",
   "metadata": {},
   "source": [
    "Выбросы довольно просто обнаружить, но выбор способа их устранения слишком существенно зависит от специфики набора данных и целей проекта. Их обработка во многом похожа на обработку пропущенных данных, которую мы разбирали в предыдущем разделе. Можно удалить записи или признаки с выбросами, либо скорректировать их, либо оставить без изменений."
   ]
  },
  {
   "cell_type": "code",
   "execution_count": 70,
   "metadata": {},
   "outputs": [
    {
     "data": {
      "text/plain": [
       "<AxesSubplot:>"
      ]
     },
     "execution_count": 70,
     "metadata": {},
     "output_type": "execute_result"
    },
    {
     "data": {
      "image/png": "[encoded data removed]",
      "text/plain": [
       "<Figure size 864x576 with 1 Axes>"
      ]
     },
     "metadata": {
      "needs_background": "light"
     },
     "output_type": "display_data"
    }
   ],
   "source": [
    "df[df['price_doc'] < 15*10**6]['price_doc'].hist(bins=50)"
   ]
  },
  {
   "cell_type": "code",
   "execution_count": 67,
   "metadata": {},
   "outputs": [
    {
     "data": {
      "text/plain": [
       "<AxesSubplot:>"
      ]
     },
     "execution_count": 67,
     "metadata": {},
     "output_type": "execute_result"
    },
    {
     "data": {
      "image/png": "[encoded data removed]",
      "text/plain": [
       "<Figure size 864x576 with 1 Axes>"
      ]
     },
     "metadata": {
      "needs_background": "light"
     },
     "output_type": "display_data"
    }
   ],
   "source": [
    "df['price_doc'].hist(bins=50)"
   ]
  },
  {
   "cell_type": "code",
   "execution_count": 69,
   "metadata": {},
   "outputs": [
    {
     "data": {
      "text/plain": [
       "<AxesSubplot:>"
      ]
     },
     "execution_count": 69,
     "metadata": {},
     "output_type": "execute_result"
    },
    {
     "data": {
      "image/png": "[encoded data removed]",
      "text/plain": [
       "<Figure size 864x576 with 1 Axes>"
      ]
     },
     "metadata": {
      "needs_background": "light"
     },
     "output_type": "display_data"
    }
   ],
   "source": [
    "np.log(df['price_doc']).hist(bins=60)"
   ]
  },
  {
   "cell_type": "code",
   "execution_count": null,
   "metadata": {},
   "outputs": [],
   "source": []
  },
  {
   "cell_type": "markdown",
   "metadata": {},
   "source": [
    "# Преобразование Бокса - Кокса. "
   ]
  },
  {
   "cell_type": "markdown",
   "metadata": {},
   "source": [
    "<img src='./images/box_cox.PNG'>"
   ]
  },
  {
   "cell_type": "code",
   "execution_count": null,
   "metadata": {},
   "outputs": [],
   "source": [
    " "
   ]
  },
  {
   "cell_type": "code",
   "execution_count": 43,
   "metadata": {},
   "outputs": [
    {
     "data": {
      "image/png": "[encoded data removed]",
      "text/plain": [
       "<Figure size 864x576 with 1 Axes>"
      ]
     },
     "metadata": {
      "needs_background": "light"
     },
     "output_type": "display_data"
    }
   ],
   "source": [
    "prices = df[df['price_doc'] < 15*10**6]['price_doc']\n",
    "\n",
    "prices_l = np.log(prices)\n",
    "\n",
    "plt.hist(prices_l);"
   ]
  },
  {
   "cell_type": "markdown",
   "metadata": {},
   "source": [
    "<img src='https://lh3.googleusercontent.com/proxy/ELFmv7PM0KBWF0GGeGxkU5A438DxI9efuh2yCoTimMrs2F5b5oDUH3hHMvYc9057scSCbYKhUw6ErSus_r6TlSFqfuubYos'>\n",
    "\n"
   ]
  },
  {
   "cell_type": "code",
   "execution_count": 79,
   "metadata": {},
   "outputs": [
    {
     "data": {
      "text/plain": [
       "<AxesSubplot:>"
      ]
     },
     "execution_count": 79,
     "metadata": {},
     "output_type": "execute_result"
    },
    {
     "data": {
      "image/png": "[encoded data removed]",
      "text/plain": [
       "<Figure size 864x576 with 1 Axes>"
      ]
     },
     "metadata": {
      "needs_background": "light"
     },
     "output_type": "display_data"
    }
   ],
   "source": [
    "df['price_doc'].hist(bins=50)"
   ]
  },
  {
   "cell_type": "code",
   "execution_count": 80,
   "metadata": {},
   "outputs": [
    {
     "name": "stdout",
     "output_type": "stream",
     "text": [
      "fitted_lambda 0.21963574771308522\n"
     ]
    },
    {
     "data": {
      "text/plain": [
       "array([ 5850000.        ,  6000000.        ,  5700000.        , ...,\n",
       "        6970958.99999999, 13500000.00000002,  5600000.        ])"
      ]
     },
     "execution_count": 80,
     "metadata": {},
     "output_type": "execute_result"
    }
   ],
   "source": [
    "from scipy.stats import boxcox\n",
    "from scipy.special import inv_boxcox\n",
    "\n",
    "y = df['price_doc'].values\n",
    "y, fitted_lambda= boxcox(y, lmbda=None)\n",
    "print('fitted_lambda', fitted_lambda)\n",
    "\n",
    "new_y = inv_boxcox(y, fitted_lambda)\n",
    "new_y"
   ]
  },
  {
   "cell_type": "code",
   "execution_count": 81,
   "metadata": {},
   "outputs": [
    {
     "data": {
      "image/png": "[encoded data removed]",
      "text/plain": [
       "<Figure size 864x576 with 1 Axes>"
      ]
     },
     "metadata": {
      "needs_background": "light"
     },
     "output_type": "display_data"
    }
   ],
   "source": [
    "plt.hist(new_y, bins=50);"
   ]
  },
  {
   "cell_type": "markdown",
   "metadata": {},
   "source": [
    "# Масштабирование и категориальные переменные"
   ]
  },
  {
   "cell_type": "markdown",
   "metadata": {},
   "source": [
    " Переменные имею разных диапазон значений. "
   ]
  },
  {
   "cell_type": "code",
   "execution_count": 82,
   "metadata": {},
   "outputs": [
    {
     "data": {
      "text/html": [
       "<div>\n",
       "<style scoped>\n",
       "    .dataframe tbody tr th:only-of-type {\n",
       "        vertical-align: middle;\n",
       "    }\n",
       "\n",
       "    .dataframe tbody tr th {\n",
       "        vertical-align: top;\n",
       "    }\n",
       "\n",
       "    .dataframe thead th {\n",
       "        text-align: right;\n",
       "    }\n",
       "</style>\n",
       "<table border=\"1\" class=\"dataframe\">\n",
       "  <thead>\n",
       "    <tr style=\"text-align: right;\">\n",
       "      <th></th>\n",
       "      <th>id</th>\n",
       "      <th>timestamp</th>\n",
       "      <th>full_sq</th>\n",
       "      <th>life_sq</th>\n",
       "      <th>floor</th>\n",
       "      <th>max_floor</th>\n",
       "      <th>material</th>\n",
       "      <th>build_year</th>\n",
       "      <th>num_room</th>\n",
       "      <th>kitch_sq</th>\n",
       "      <th>...</th>\n",
       "      <th>cafe_count_5000_price_2500</th>\n",
       "      <th>cafe_count_5000_price_4000</th>\n",
       "      <th>cafe_count_5000_price_high</th>\n",
       "      <th>big_church_count_5000</th>\n",
       "      <th>church_count_5000</th>\n",
       "      <th>mosque_count_5000</th>\n",
       "      <th>leisure_count_5000</th>\n",
       "      <th>sport_count_5000</th>\n",
       "      <th>market_count_5000</th>\n",
       "      <th>price_doc</th>\n",
       "    </tr>\n",
       "  </thead>\n",
       "  <tbody>\n",
       "    <tr>\n",
       "      <th>0</th>\n",
       "      <td>1</td>\n",
       "      <td>2011-08-20</td>\n",
       "      <td>43</td>\n",
       "      <td>27.0</td>\n",
       "      <td>4.0</td>\n",
       "      <td>NaN</td>\n",
       "      <td>NaN</td>\n",
       "      <td>NaN</td>\n",
       "      <td>NaN</td>\n",
       "      <td>NaN</td>\n",
       "      <td>...</td>\n",
       "      <td>9</td>\n",
       "      <td>4</td>\n",
       "      <td>0</td>\n",
       "      <td>13</td>\n",
       "      <td>22</td>\n",
       "      <td>1</td>\n",
       "      <td>0</td>\n",
       "      <td>52</td>\n",
       "      <td>4</td>\n",
       "      <td>5850000</td>\n",
       "    </tr>\n",
       "    <tr>\n",
       "      <th>1</th>\n",
       "      <td>2</td>\n",
       "      <td>2011-08-23</td>\n",
       "      <td>34</td>\n",
       "      <td>19.0</td>\n",
       "      <td>3.0</td>\n",
       "      <td>NaN</td>\n",
       "      <td>NaN</td>\n",
       "      <td>NaN</td>\n",
       "      <td>NaN</td>\n",
       "      <td>NaN</td>\n",
       "      <td>...</td>\n",
       "      <td>15</td>\n",
       "      <td>3</td>\n",
       "      <td>0</td>\n",
       "      <td>15</td>\n",
       "      <td>29</td>\n",
       "      <td>1</td>\n",
       "      <td>10</td>\n",
       "      <td>66</td>\n",
       "      <td>14</td>\n",
       "      <td>6000000</td>\n",
       "    </tr>\n",
       "    <tr>\n",
       "      <th>2</th>\n",
       "      <td>3</td>\n",
       "      <td>2011-08-27</td>\n",
       "      <td>43</td>\n",
       "      <td>29.0</td>\n",
       "      <td>2.0</td>\n",
       "      <td>NaN</td>\n",
       "      <td>NaN</td>\n",
       "      <td>NaN</td>\n",
       "      <td>NaN</td>\n",
       "      <td>NaN</td>\n",
       "      <td>...</td>\n",
       "      <td>10</td>\n",
       "      <td>3</td>\n",
       "      <td>0</td>\n",
       "      <td>11</td>\n",
       "      <td>27</td>\n",
       "      <td>0</td>\n",
       "      <td>4</td>\n",
       "      <td>67</td>\n",
       "      <td>10</td>\n",
       "      <td>5700000</td>\n",
       "    </tr>\n",
       "    <tr>\n",
       "      <th>3</th>\n",
       "      <td>4</td>\n",
       "      <td>2011-09-01</td>\n",
       "      <td>89</td>\n",
       "      <td>50.0</td>\n",
       "      <td>9.0</td>\n",
       "      <td>NaN</td>\n",
       "      <td>NaN</td>\n",
       "      <td>NaN</td>\n",
       "      <td>NaN</td>\n",
       "      <td>NaN</td>\n",
       "      <td>...</td>\n",
       "      <td>11</td>\n",
       "      <td>2</td>\n",
       "      <td>1</td>\n",
       "      <td>4</td>\n",
       "      <td>4</td>\n",
       "      <td>0</td>\n",
       "      <td>0</td>\n",
       "      <td>26</td>\n",
       "      <td>3</td>\n",
       "      <td>13100000</td>\n",
       "    </tr>\n",
       "    <tr>\n",
       "      <th>4</th>\n",
       "      <td>5</td>\n",
       "      <td>2011-09-05</td>\n",
       "      <td>77</td>\n",
       "      <td>77.0</td>\n",
       "      <td>4.0</td>\n",
       "      <td>NaN</td>\n",
       "      <td>NaN</td>\n",
       "      <td>NaN</td>\n",
       "      <td>NaN</td>\n",
       "      <td>NaN</td>\n",
       "      <td>...</td>\n",
       "      <td>319</td>\n",
       "      <td>108</td>\n",
       "      <td>17</td>\n",
       "      <td>135</td>\n",
       "      <td>236</td>\n",
       "      <td>2</td>\n",
       "      <td>91</td>\n",
       "      <td>195</td>\n",
       "      <td>14</td>\n",
       "      <td>16331452</td>\n",
       "    </tr>\n",
       "    <tr>\n",
       "      <th>...</th>\n",
       "      <td>...</td>\n",
       "      <td>...</td>\n",
       "      <td>...</td>\n",
       "      <td>...</td>\n",
       "      <td>...</td>\n",
       "      <td>...</td>\n",
       "      <td>...</td>\n",
       "      <td>...</td>\n",
       "      <td>...</td>\n",
       "      <td>...</td>\n",
       "      <td>...</td>\n",
       "      <td>...</td>\n",
       "      <td>...</td>\n",
       "      <td>...</td>\n",
       "      <td>...</td>\n",
       "      <td>...</td>\n",
       "      <td>...</td>\n",
       "      <td>...</td>\n",
       "      <td>...</td>\n",
       "      <td>...</td>\n",
       "      <td>...</td>\n",
       "    </tr>\n",
       "    <tr>\n",
       "      <th>30466</th>\n",
       "      <td>30469</td>\n",
       "      <td>2015-06-30</td>\n",
       "      <td>44</td>\n",
       "      <td>27.0</td>\n",
       "      <td>7.0</td>\n",
       "      <td>9.0</td>\n",
       "      <td>1.0</td>\n",
       "      <td>1975.0</td>\n",
       "      <td>2.0</td>\n",
       "      <td>6.0</td>\n",
       "      <td>...</td>\n",
       "      <td>15</td>\n",
       "      <td>5</td>\n",
       "      <td>0</td>\n",
       "      <td>15</td>\n",
       "      <td>26</td>\n",
       "      <td>1</td>\n",
       "      <td>2</td>\n",
       "      <td>84</td>\n",
       "      <td>6</td>\n",
       "      <td>7400000</td>\n",
       "    </tr>\n",
       "    <tr>\n",
       "      <th>30467</th>\n",
       "      <td>30470</td>\n",
       "      <td>2015-06-30</td>\n",
       "      <td>86</td>\n",
       "      <td>59.0</td>\n",
       "      <td>3.0</td>\n",
       "      <td>9.0</td>\n",
       "      <td>2.0</td>\n",
       "      <td>1935.0</td>\n",
       "      <td>4.0</td>\n",
       "      <td>10.0</td>\n",
       "      <td>...</td>\n",
       "      <td>313</td>\n",
       "      <td>128</td>\n",
       "      <td>24</td>\n",
       "      <td>98</td>\n",
       "      <td>182</td>\n",
       "      <td>1</td>\n",
       "      <td>82</td>\n",
       "      <td>171</td>\n",
       "      <td>15</td>\n",
       "      <td>25000000</td>\n",
       "    </tr>\n",
       "    <tr>\n",
       "      <th>30468</th>\n",
       "      <td>30471</td>\n",
       "      <td>2015-06-30</td>\n",
       "      <td>45</td>\n",
       "      <td>30.0</td>\n",
       "      <td>10.0</td>\n",
       "      <td>20.0</td>\n",
       "      <td>1.0</td>\n",
       "      <td>NaN</td>\n",
       "      <td>1.0</td>\n",
       "      <td>1.0</td>\n",
       "      <td>...</td>\n",
       "      <td>1</td>\n",
       "      <td>1</td>\n",
       "      <td>0</td>\n",
       "      <td>2</td>\n",
       "      <td>12</td>\n",
       "      <td>0</td>\n",
       "      <td>1</td>\n",
       "      <td>11</td>\n",
       "      <td>1</td>\n",
       "      <td>6970959</td>\n",
       "    </tr>\n",
       "    <tr>\n",
       "      <th>30469</th>\n",
       "      <td>30472</td>\n",
       "      <td>2015-06-30</td>\n",
       "      <td>64</td>\n",
       "      <td>32.0</td>\n",
       "      <td>5.0</td>\n",
       "      <td>15.0</td>\n",
       "      <td>1.0</td>\n",
       "      <td>2003.0</td>\n",
       "      <td>2.0</td>\n",
       "      <td>11.0</td>\n",
       "      <td>...</td>\n",
       "      <td>22</td>\n",
       "      <td>1</td>\n",
       "      <td>1</td>\n",
       "      <td>6</td>\n",
       "      <td>31</td>\n",
       "      <td>1</td>\n",
       "      <td>4</td>\n",
       "      <td>65</td>\n",
       "      <td>7</td>\n",
       "      <td>13500000</td>\n",
       "    </tr>\n",
       "    <tr>\n",
       "      <th>30470</th>\n",
       "      <td>30473</td>\n",
       "      <td>2015-06-30</td>\n",
       "      <td>43</td>\n",
       "      <td>28.0</td>\n",
       "      <td>1.0</td>\n",
       "      <td>9.0</td>\n",
       "      <td>1.0</td>\n",
       "      <td>1968.0</td>\n",
       "      <td>2.0</td>\n",
       "      <td>6.0</td>\n",
       "      <td>...</td>\n",
       "      <td>5</td>\n",
       "      <td>2</td>\n",
       "      <td>0</td>\n",
       "      <td>7</td>\n",
       "      <td>16</td>\n",
       "      <td>0</td>\n",
       "      <td>9</td>\n",
       "      <td>54</td>\n",
       "      <td>10</td>\n",
       "      <td>5600000</td>\n",
       "    </tr>\n",
       "  </tbody>\n",
       "</table>\n",
       "<p>30471 rows × 292 columns</p>\n",
       "</div>"
      ],
      "text/plain": [
       "          id   timestamp  full_sq  life_sq  floor  max_floor  material  \\\n",
       "0          1  2011-08-20       43     27.0    4.0        NaN       NaN   \n",
       "1          2  2011-08-23       34     19.0    3.0        NaN       NaN   \n",
       "2          3  2011-08-27       43     29.0    2.0        NaN       NaN   \n",
       "3          4  2011-09-01       89     50.0    9.0        NaN       NaN   \n",
       "4          5  2011-09-05       77     77.0    4.0        NaN       NaN   \n",
       "...      ...         ...      ...      ...    ...        ...       ...   \n",
       "30466  30469  2015-06-30       44     27.0    7.0        9.0       1.0   \n",
       "30467  30470  2015-06-30       86     59.0    3.0        9.0       2.0   \n",
       "30468  30471  2015-06-30       45     30.0   10.0       20.0       1.0   \n",
       "30469  30472  2015-06-30       64     32.0    5.0       15.0       1.0   \n",
       "30470  30473  2015-06-30       43     28.0    1.0        9.0       1.0   \n",
       "\n",
       "       build_year  num_room  kitch_sq  ...  cafe_count_5000_price_2500  \\\n",
       "0             NaN       NaN       NaN  ...                           9   \n",
       "1             NaN       NaN       NaN  ...                          15   \n",
       "2             NaN       NaN       NaN  ...                          10   \n",
       "3             NaN       NaN       NaN  ...                          11   \n",
       "4             NaN       NaN       NaN  ...                         319   \n",
       "...           ...       ...       ...  ...                         ...   \n",
       "30466      1975.0       2.0       6.0  ...                          15   \n",
       "30467      1935.0       4.0      10.0  ...                         313   \n",
       "30468         NaN       1.0       1.0  ...                           1   \n",
       "30469      2003.0       2.0      11.0  ...                          22   \n",
       "30470      1968.0       2.0       6.0  ...                           5   \n",
       "\n",
       "      cafe_count_5000_price_4000 cafe_count_5000_price_high  \\\n",
       "0                              4                          0   \n",
       "1                              3                          0   \n",
       "2                              3                          0   \n",
       "3                              2                          1   \n",
       "4                            108                         17   \n",
       "...                          ...                        ...   \n",
       "30466                          5                          0   \n",
       "30467                        128                         24   \n",
       "30468                          1                          0   \n",
       "30469                          1                          1   \n",
       "30470                          2                          0   \n",
       "\n",
       "       big_church_count_5000  church_count_5000  mosque_count_5000  \\\n",
       "0                         13                 22                  1   \n",
       "1                         15                 29                  1   \n",
       "2                         11                 27                  0   \n",
       "3                          4                  4                  0   \n",
       "4                        135                236                  2   \n",
       "...                      ...                ...                ...   \n",
       "30466                     15                 26                  1   \n",
       "30467                     98                182                  1   \n",
       "30468                      2                 12                  0   \n",
       "30469                      6                 31                  1   \n",
       "30470                      7                 16                  0   \n",
       "\n",
       "       leisure_count_5000  sport_count_5000  market_count_5000  price_doc  \n",
       "0                       0                52                  4    5850000  \n",
       "1                      10                66                 14    6000000  \n",
       "2                       4                67                 10    5700000  \n",
       "3                       0                26                  3   13100000  \n",
       "4                      91               195                 14   16331452  \n",
       "...                   ...               ...                ...        ...  \n",
       "30466                   2                84                  6    7400000  \n",
       "30467                  82               171                 15   25000000  \n",
       "30468                   1                11                  1    6970959  \n",
       "30469                   4                65                  7   13500000  \n",
       "30470                   9                54                 10    5600000  \n",
       "\n",
       "[30471 rows x 292 columns]"
      ]
     },
     "execution_count": 82,
     "metadata": {},
     "output_type": "execute_result"
    }
   ],
   "source": [
    "df"
   ]
  },
  {
   "cell_type": "code",
   "execution_count": null,
   "metadata": {},
   "outputs": [],
   "source": []
  },
  {
   "cell_type": "markdown",
   "metadata": {},
   "source": [
    "## Зачем?"
   ]
  },
  {
   "cell_type": "markdown",
   "metadata": {},
   "source": [
    "- Нарушаются условия для статистических методов (PCA)\n",
    "- Ломаются ML алгоритмы (KNN, NN)\n"
   ]
  },
  {
   "cell_type": "markdown",
   "metadata": {},
   "source": [
    "## Как?"
   ]
  },
  {
   "cell_type": "markdown",
   "metadata": {},
   "source": [
    "* Нормализация\n",
    "* Масштабирование на отрезок `[0:1]`\n",
    "* Робастная нормализация (устойчивая к выбросам)"
   ]
  },
  {
   "cell_type": "code",
   "execution_count": 88,
   "metadata": {},
   "outputs": [
    {
     "data": {
      "text/plain": [
       "<AxesSubplot:>"
      ]
     },
     "execution_count": 88,
     "metadata": {},
     "output_type": "execute_result"
    },
    {
     "data": {
      "image/png": "[encoded data removed]",
      "text/plain": [
       "<Figure size 864x576 with 1 Axes>"
      ]
     },
     "metadata": {
      "needs_background": "light"
     },
     "output_type": "display_data"
    }
   ],
   "source": [
    "new_price = (df['price_doc'] - df['price_doc'].mean())/df['price_doc'].std()\n",
    "# new_price.hist()"
   ]
  },
  {
   "cell_type": "markdown",
   "metadata": {},
   "source": [
    "<img src='https://miro.medium.com/max/1326/0*w3wZvnUfVMmXwlzr.png'>"
   ]
  },
  {
   "cell_type": "code",
   "execution_count": 8,
   "metadata": {},
   "outputs": [
    {
     "name": "stdout",
     "output_type": "stream",
     "text": [
      "Dimension of our data set is: \n",
      "(205, 26)\n"
     ]
    },
    {
     "data": {
      "text/html": [
       "<div>\n",
       "<style scoped>\n",
       "    .dataframe tbody tr th:only-of-type {\n",
       "        vertical-align: middle;\n",
       "    }\n",
       "\n",
       "    .dataframe tbody tr th {\n",
       "        vertical-align: top;\n",
       "    }\n",
       "\n",
       "    .dataframe thead th {\n",
       "        text-align: right;\n",
       "    }\n",
       "</style>\n",
       "<table border=\"1\" class=\"dataframe\">\n",
       "  <thead>\n",
       "    <tr style=\"text-align: right;\">\n",
       "      <th></th>\n",
       "      <th>car_ID</th>\n",
       "      <th>symboling</th>\n",
       "      <th>CarName</th>\n",
       "      <th>fueltype</th>\n",
       "      <th>aspiration</th>\n",
       "      <th>doornumber</th>\n",
       "      <th>carbody</th>\n",
       "      <th>drivewheel</th>\n",
       "      <th>enginelocation</th>\n",
       "      <th>wheelbase</th>\n",
       "      <th>...</th>\n",
       "      <th>enginesize</th>\n",
       "      <th>fuelsystem</th>\n",
       "      <th>boreratio</th>\n",
       "      <th>stroke</th>\n",
       "      <th>compressionratio</th>\n",
       "      <th>horsepower</th>\n",
       "      <th>peakrpm</th>\n",
       "      <th>citympg</th>\n",
       "      <th>highwaympg</th>\n",
       "      <th>price</th>\n",
       "    </tr>\n",
       "  </thead>\n",
       "  <tbody>\n",
       "    <tr>\n",
       "      <th>0</th>\n",
       "      <td>1</td>\n",
       "      <td>3</td>\n",
       "      <td>alfa-romero giulia</td>\n",
       "      <td>gas</td>\n",
       "      <td>std</td>\n",
       "      <td>two</td>\n",
       "      <td>convertible</td>\n",
       "      <td>rwd</td>\n",
       "      <td>front</td>\n",
       "      <td>88.6</td>\n",
       "      <td>...</td>\n",
       "      <td>130</td>\n",
       "      <td>mpfi</td>\n",
       "      <td>3.47</td>\n",
       "      <td>2.68</td>\n",
       "      <td>9.0</td>\n",
       "      <td>111</td>\n",
       "      <td>5000</td>\n",
       "      <td>21</td>\n",
       "      <td>27</td>\n",
       "      <td>13495.0</td>\n",
       "    </tr>\n",
       "    <tr>\n",
       "      <th>1</th>\n",
       "      <td>2</td>\n",
       "      <td>3</td>\n",
       "      <td>alfa-romero stelvio</td>\n",
       "      <td>gas</td>\n",
       "      <td>std</td>\n",
       "      <td>two</td>\n",
       "      <td>convertible</td>\n",
       "      <td>rwd</td>\n",
       "      <td>front</td>\n",
       "      <td>88.6</td>\n",
       "      <td>...</td>\n",
       "      <td>130</td>\n",
       "      <td>mpfi</td>\n",
       "      <td>3.47</td>\n",
       "      <td>2.68</td>\n",
       "      <td>9.0</td>\n",
       "      <td>111</td>\n",
       "      <td>5000</td>\n",
       "      <td>21</td>\n",
       "      <td>27</td>\n",
       "      <td>16500.0</td>\n",
       "    </tr>\n",
       "    <tr>\n",
       "      <th>2</th>\n",
       "      <td>3</td>\n",
       "      <td>1</td>\n",
       "      <td>alfa-romero Quadrifoglio</td>\n",
       "      <td>gas</td>\n",
       "      <td>std</td>\n",
       "      <td>two</td>\n",
       "      <td>hatchback</td>\n",
       "      <td>rwd</td>\n",
       "      <td>front</td>\n",
       "      <td>94.5</td>\n",
       "      <td>...</td>\n",
       "      <td>152</td>\n",
       "      <td>mpfi</td>\n",
       "      <td>2.68</td>\n",
       "      <td>3.47</td>\n",
       "      <td>9.0</td>\n",
       "      <td>154</td>\n",
       "      <td>5000</td>\n",
       "      <td>19</td>\n",
       "      <td>26</td>\n",
       "      <td>16500.0</td>\n",
       "    </tr>\n",
       "    <tr>\n",
       "      <th>3</th>\n",
       "      <td>4</td>\n",
       "      <td>2</td>\n",
       "      <td>audi 100 ls</td>\n",
       "      <td>gas</td>\n",
       "      <td>std</td>\n",
       "      <td>four</td>\n",
       "      <td>sedan</td>\n",
       "      <td>fwd</td>\n",
       "      <td>front</td>\n",
       "      <td>99.8</td>\n",
       "      <td>...</td>\n",
       "      <td>109</td>\n",
       "      <td>mpfi</td>\n",
       "      <td>3.19</td>\n",
       "      <td>3.40</td>\n",
       "      <td>10.0</td>\n",
       "      <td>102</td>\n",
       "      <td>5500</td>\n",
       "      <td>24</td>\n",
       "      <td>30</td>\n",
       "      <td>13950.0</td>\n",
       "    </tr>\n",
       "    <tr>\n",
       "      <th>4</th>\n",
       "      <td>5</td>\n",
       "      <td>2</td>\n",
       "      <td>audi 100ls</td>\n",
       "      <td>gas</td>\n",
       "      <td>std</td>\n",
       "      <td>four</td>\n",
       "      <td>sedan</td>\n",
       "      <td>4wd</td>\n",
       "      <td>front</td>\n",
       "      <td>99.4</td>\n",
       "      <td>...</td>\n",
       "      <td>136</td>\n",
       "      <td>mpfi</td>\n",
       "      <td>3.19</td>\n",
       "      <td>3.40</td>\n",
       "      <td>8.0</td>\n",
       "      <td>115</td>\n",
       "      <td>5500</td>\n",
       "      <td>18</td>\n",
       "      <td>22</td>\n",
       "      <td>17450.0</td>\n",
       "    </tr>\n",
       "  </tbody>\n",
       "</table>\n",
       "<p>5 rows × 26 columns</p>\n",
       "</div>"
      ],
      "text/plain": [
       "   car_ID  symboling                   CarName fueltype aspiration doornumber  \\\n",
       "0       1          3        alfa-romero giulia      gas        std        two   \n",
       "1       2          3       alfa-romero stelvio      gas        std        two   \n",
       "2       3          1  alfa-romero Quadrifoglio      gas        std        two   \n",
       "3       4          2               audi 100 ls      gas        std       four   \n",
       "4       5          2                audi 100ls      gas        std       four   \n",
       "\n",
       "       carbody drivewheel enginelocation  wheelbase  ...  enginesize  \\\n",
       "0  convertible        rwd          front       88.6  ...         130   \n",
       "1  convertible        rwd          front       88.6  ...         130   \n",
       "2    hatchback        rwd          front       94.5  ...         152   \n",
       "3        sedan        fwd          front       99.8  ...         109   \n",
       "4        sedan        4wd          front       99.4  ...         136   \n",
       "\n",
       "   fuelsystem  boreratio  stroke compressionratio horsepower  peakrpm citympg  \\\n",
       "0        mpfi       3.47    2.68              9.0        111     5000      21   \n",
       "1        mpfi       3.47    2.68              9.0        111     5000      21   \n",
       "2        mpfi       2.68    3.47              9.0        154     5000      19   \n",
       "3        mpfi       3.19    3.40             10.0        102     5500      24   \n",
       "4        mpfi       3.19    3.40              8.0        115     5500      18   \n",
       "\n",
       "   highwaympg    price  \n",
       "0          27  13495.0  \n",
       "1          27  16500.0  \n",
       "2          26  16500.0  \n",
       "3          30  13950.0  \n",
       "4          22  17450.0  \n",
       "\n",
       "[5 rows x 26 columns]"
      ]
     },
     "execution_count": 8,
     "metadata": {},
     "output_type": "execute_result"
    }
   ],
   "source": [
    "data = pd.read_csv('./data/CarPrice_Assignment.csv')\n",
    "print(\"Dimension of our data set is: \")\n",
    "print(data.shape)\n",
    "data.head()"
   ]
  },
  {
   "cell_type": "markdown",
   "metadata": {},
   "source": [
    "# StandardScaler"
   ]
  },
  {
   "cell_type": "code",
   "execution_count": null,
   "metadata": {},
   "outputs": [],
   "source": [
    "from sklearn.preprocessing import StandardScaler"
   ]
  },
  {
   "cell_type": "code",
   "execution_count": 90,
   "metadata": {},
   "outputs": [
    {
     "name": "stdout",
     "output_type": "stream",
     "text": [
      "Mean: 7123035.277739, StandardDeviation: 4780032.891930\n"
     ]
    }
   ],
   "source": [
    "col = 'price_doc'\n",
    "values = df[col].values\n",
    "values = values.reshape((len(values), 1))\n",
    "# train the standardization\n",
    "scaler = StandardScaler()\n",
    "scaler = scaler.fit(values)\n",
    "print('Mean: %f, StandardDeviation: %f' % (scaler.mean_, sqrt(scaler.var_)))"
   ]
  },
  {
   "cell_type": "code",
   "execution_count": 92,
   "metadata": {},
   "outputs": [
    {
     "name": "stdout",
     "output_type": "stream",
     "text": [
      "[-0.26632354]\n",
      "[-0.234943]\n",
      "[-0.29770408]\n",
      "[1.25040243]\n",
      "[1.92643376]\n",
      "[5850000.]\n",
      "[6000000.]\n",
      "[5700000.]\n",
      "[13100000.]\n",
      "[16331452.]\n"
     ]
    }
   ],
   "source": [
    "# нормализация данных и распечатать первые 5 строк\n",
    "normalized = scaler.transform(values)\n",
    "for i in range(5):\n",
    "    print(normalized[i])\n",
    "    \n",
    "# обратное преобразование и печать первых 5 строк\n",
    "inversed = scaler.inverse_transform(normalized)\n",
    "for i in range(5):\n",
    "    print(inversed[i])"
   ]
  },
  {
   "cell_type": "code",
   "execution_count": null,
   "metadata": {},
   "outputs": [],
   "source": []
  },
  {
   "cell_type": "markdown",
   "metadata": {},
   "source": [
    "# MinMaxScaler"
   ]
  },
  {
   "cell_type": "code",
   "execution_count": 2,
   "metadata": {},
   "outputs": [],
   "source": [
    "from sklearn.preprocessing import MinMaxScaler"
   ]
  },
  {
   "cell_type": "code",
   "execution_count": 94,
   "metadata": {},
   "outputs": [
    {
     "name": "stdout",
     "output_type": "stream",
     "text": [
      "Min: 100000.000000, Max: 111111112.000000\n"
     ]
    }
   ],
   "source": [
    "col = 'price_doc'\n",
    "values = df[col].values\n",
    "values = values.reshape((len(values), 1))\n",
    "\n",
    "\n",
    "scaler = MinMaxScaler(feature_range=(0, 1))\n",
    "scaler = scaler.fit(values)\n",
    "\n",
    "print('Min: %f, Max: %f' % (scaler.data_min_, scaler.data_max_))"
   ]
  },
  {
   "cell_type": "code",
   "execution_count": 95,
   "metadata": {},
   "outputs": [
    {
     "name": "stdout",
     "output_type": "stream",
     "text": [
      "[0.05179662]\n",
      "[0.05314783]\n",
      "[0.0504454]\n",
      "[0.11710539]\n",
      "[0.14621466]\n",
      "[5850000.]\n",
      "[6000000.]\n",
      "[5700000.]\n",
      "[13100000.]\n",
      "[16331452.]\n"
     ]
    }
   ],
   "source": [
    "# нормализация данных и распечатать первые 5 строк\n",
    "normalized = scaler.transform(values)\n",
    "for i in range(5):\n",
    "    print(normalized[i])\n",
    "\n",
    "# обратное преобразование и печать первых 5 строк\n",
    "inversed = scaler.inverse_transform(normalized)\n",
    "for i in range(5):\n",
    "    print(inversed[i])"
   ]
  },
  {
   "cell_type": "code",
   "execution_count": null,
   "metadata": {},
   "outputs": [],
   "source": [
    " "
   ]
  },
  {
   "cell_type": "markdown",
   "metadata": {},
   "source": [
    "# RobustScaler"
   ]
  },
  {
   "cell_type": "code",
   "execution_count": 6,
   "metadata": {},
   "outputs": [],
   "source": [
    "from sklearn.preprocessing import RobustScaler"
   ]
  },
  {
   "cell_type": "code",
   "execution_count": 96,
   "metadata": {},
   "outputs": [
    {
     "name": "stdout",
     "output_type": "stream",
     "text": [
      "Mean: 7123035.277739, StandardDeviation: 4780032.891930\n"
     ]
    }
   ],
   "source": [
    "col = 'price_doc'\n",
    "values = df[col].values\n",
    "values = values.reshape((len(values), 1))\n",
    "# train the standardization\n",
    "scaler = StandardScaler()\n",
    "scaler = scaler.fit(values)\n",
    "print('Mean: %f, StandardDeviation: %f' % (scaler.mean_, sqrt(scaler.var_)))"
   ]
  },
  {
   "cell_type": "code",
   "execution_count": 97,
   "metadata": {},
   "outputs": [
    {
     "name": "stdout",
     "output_type": "stream",
     "text": [
      "[-0.26632354]\n",
      "[-0.234943]\n",
      "[-0.29770408]\n",
      "[1.25040243]\n",
      "[1.92643376]\n",
      "[5850000.]\n",
      "[6000000.]\n",
      "[5700000.]\n",
      "[13100000.]\n",
      "[16331452.]\n"
     ]
    }
   ],
   "source": [
    "# нормализация данных и распечатать первые 5 строк\n",
    "normalized = scaler.transform(values)\n",
    "\n",
    "for i in range(5):\n",
    "    print(normalized[i])\n",
    "\n",
    "\n",
    "# обратное преобразование и печать первых 5 строк\n",
    "inversed = scaler.inverse_transform(normalized)\n",
    "\n",
    "for i in range(5):\n",
    "    print(inversed[i])"
   ]
  },
  {
   "cell_type": "markdown",
   "metadata": {},
   "source": [
    "<img src='https://encrypted-tbn0.gstatic.com/images?q=tbn:ANd9GcQUjmCHNfWOP0w3QRSEpulFdOeCPTdLPrw-qvN0x14fylAgiKwSiH9WT5td9OjjwanXTu4&usqp=CAU' width=600>\n"
   ]
  },
  {
   "cell_type": "markdown",
   "metadata": {},
   "source": [
    "# А что делать с категориальными переменными?"
   ]
  },
  {
   "cell_type": "code",
   "execution_count": null,
   "metadata": {},
   "outputs": [],
   "source": [
    "# from sklearn.preprocessing import OneHotEncoder"
   ]
  },
  {
   "cell_type": "code",
   "execution_count": 100,
   "metadata": {},
   "outputs": [
    {
     "data": {
      "text/plain": [
       "0           Investment\n",
       "1           Investment\n",
       "2           Investment\n",
       "3           Investment\n",
       "4           Investment\n",
       "             ...      \n",
       "30466       Investment\n",
       "30467       Investment\n",
       "30468    OwnerOccupier\n",
       "30469       Investment\n",
       "30470       Investment\n",
       "Name: product_type, Length: 30471, dtype: object"
      ]
     },
     "execution_count": 100,
     "metadata": {},
     "output_type": "execute_result"
    }
   ],
   "source": [
    "col = 'product_type'\n",
    "df[col].fillna('Investment', inplace=True)\n",
    "df[col]"
   ]
  },
  {
   "cell_type": "code",
   "execution_count": 109,
   "metadata": {},
   "outputs": [
    {
     "data": {
      "text/html": [
       "<div>\n",
       "<style scoped>\n",
       "    .dataframe tbody tr th:only-of-type {\n",
       "        vertical-align: middle;\n",
       "    }\n",
       "\n",
       "    .dataframe tbody tr th {\n",
       "        vertical-align: top;\n",
       "    }\n",
       "\n",
       "    .dataframe thead th {\n",
       "        text-align: right;\n",
       "    }\n",
       "</style>\n",
       "<table border=\"1\" class=\"dataframe\">\n",
       "  <thead>\n",
       "    <tr style=\"text-align: right;\">\n",
       "      <th></th>\n",
       "      <th>Investment</th>\n",
       "      <th>OwnerOccupier</th>\n",
       "    </tr>\n",
       "  </thead>\n",
       "  <tbody>\n",
       "    <tr>\n",
       "      <th>0</th>\n",
       "      <td>1</td>\n",
       "      <td>0</td>\n",
       "    </tr>\n",
       "    <tr>\n",
       "      <th>1</th>\n",
       "      <td>1</td>\n",
       "      <td>0</td>\n",
       "    </tr>\n",
       "    <tr>\n",
       "      <th>2</th>\n",
       "      <td>1</td>\n",
       "      <td>0</td>\n",
       "    </tr>\n",
       "    <tr>\n",
       "      <th>3</th>\n",
       "      <td>1</td>\n",
       "      <td>0</td>\n",
       "    </tr>\n",
       "    <tr>\n",
       "      <th>4</th>\n",
       "      <td>1</td>\n",
       "      <td>0</td>\n",
       "    </tr>\n",
       "  </tbody>\n",
       "</table>\n",
       "</div>"
      ],
      "text/plain": [
       "   Investment  OwnerOccupier\n",
       "0           1              0\n",
       "1           1              0\n",
       "2           1              0\n",
       "3           1              0\n",
       "4           1              0"
      ]
     },
     "execution_count": 109,
     "metadata": {},
     "output_type": "execute_result"
    }
   ],
   "source": [
    "import pandas as pd\n",
    "        \n",
    "col = 'product_type'\n",
    "one_hot = pd.get_dummies(df[col])\n",
    "one_hot.head()"
   ]
  },
  {
   "cell_type": "code",
   "execution_count": 110,
   "metadata": {},
   "outputs": [],
   "source": [
    "# Удаляем теперь перекодированные столбец\n",
    "df = df.drop(col, axis = 1)\n",
    "# Собираем в идиный столбец\n",
    "df = df.join(one_hot)"
   ]
  },
  {
   "cell_type": "code",
   "execution_count": 112,
   "metadata": {},
   "outputs": [
    {
     "data": {
      "text/html": [
       "<div>\n",
       "<style scoped>\n",
       "    .dataframe tbody tr th:only-of-type {\n",
       "        vertical-align: middle;\n",
       "    }\n",
       "\n",
       "    .dataframe tbody tr th {\n",
       "        vertical-align: top;\n",
       "    }\n",
       "\n",
       "    .dataframe thead th {\n",
       "        text-align: right;\n",
       "    }\n",
       "</style>\n",
       "<table border=\"1\" class=\"dataframe\">\n",
       "  <thead>\n",
       "    <tr style=\"text-align: right;\">\n",
       "      <th></th>\n",
       "      <th>id</th>\n",
       "      <th>timestamp</th>\n",
       "      <th>full_sq</th>\n",
       "      <th>life_sq</th>\n",
       "      <th>floor</th>\n",
       "      <th>max_floor</th>\n",
       "      <th>material</th>\n",
       "      <th>build_year</th>\n",
       "      <th>num_room</th>\n",
       "      <th>kitch_sq</th>\n",
       "      <th>...</th>\n",
       "      <th>cafe_count_5000_price_high</th>\n",
       "      <th>big_church_count_5000</th>\n",
       "      <th>church_count_5000</th>\n",
       "      <th>mosque_count_5000</th>\n",
       "      <th>leisure_count_5000</th>\n",
       "      <th>sport_count_5000</th>\n",
       "      <th>market_count_5000</th>\n",
       "      <th>price_doc</th>\n",
       "      <th>Investment</th>\n",
       "      <th>OwnerOccupier</th>\n",
       "    </tr>\n",
       "  </thead>\n",
       "  <tbody>\n",
       "    <tr>\n",
       "      <th>0</th>\n",
       "      <td>1</td>\n",
       "      <td>2011-08-20</td>\n",
       "      <td>43</td>\n",
       "      <td>27.0</td>\n",
       "      <td>4.0</td>\n",
       "      <td>NaN</td>\n",
       "      <td>NaN</td>\n",
       "      <td>NaN</td>\n",
       "      <td>NaN</td>\n",
       "      <td>NaN</td>\n",
       "      <td>...</td>\n",
       "      <td>0</td>\n",
       "      <td>13</td>\n",
       "      <td>22</td>\n",
       "      <td>1</td>\n",
       "      <td>0</td>\n",
       "      <td>52</td>\n",
       "      <td>4</td>\n",
       "      <td>5850000</td>\n",
       "      <td>1</td>\n",
       "      <td>0</td>\n",
       "    </tr>\n",
       "    <tr>\n",
       "      <th>1</th>\n",
       "      <td>2</td>\n",
       "      <td>2011-08-23</td>\n",
       "      <td>34</td>\n",
       "      <td>19.0</td>\n",
       "      <td>3.0</td>\n",
       "      <td>NaN</td>\n",
       "      <td>NaN</td>\n",
       "      <td>NaN</td>\n",
       "      <td>NaN</td>\n",
       "      <td>NaN</td>\n",
       "      <td>...</td>\n",
       "      <td>0</td>\n",
       "      <td>15</td>\n",
       "      <td>29</td>\n",
       "      <td>1</td>\n",
       "      <td>10</td>\n",
       "      <td>66</td>\n",
       "      <td>14</td>\n",
       "      <td>6000000</td>\n",
       "      <td>1</td>\n",
       "      <td>0</td>\n",
       "    </tr>\n",
       "    <tr>\n",
       "      <th>2</th>\n",
       "      <td>3</td>\n",
       "      <td>2011-08-27</td>\n",
       "      <td>43</td>\n",
       "      <td>29.0</td>\n",
       "      <td>2.0</td>\n",
       "      <td>NaN</td>\n",
       "      <td>NaN</td>\n",
       "      <td>NaN</td>\n",
       "      <td>NaN</td>\n",
       "      <td>NaN</td>\n",
       "      <td>...</td>\n",
       "      <td>0</td>\n",
       "      <td>11</td>\n",
       "      <td>27</td>\n",
       "      <td>0</td>\n",
       "      <td>4</td>\n",
       "      <td>67</td>\n",
       "      <td>10</td>\n",
       "      <td>5700000</td>\n",
       "      <td>1</td>\n",
       "      <td>0</td>\n",
       "    </tr>\n",
       "    <tr>\n",
       "      <th>3</th>\n",
       "      <td>4</td>\n",
       "      <td>2011-09-01</td>\n",
       "      <td>89</td>\n",
       "      <td>50.0</td>\n",
       "      <td>9.0</td>\n",
       "      <td>NaN</td>\n",
       "      <td>NaN</td>\n",
       "      <td>NaN</td>\n",
       "      <td>NaN</td>\n",
       "      <td>NaN</td>\n",
       "      <td>...</td>\n",
       "      <td>1</td>\n",
       "      <td>4</td>\n",
       "      <td>4</td>\n",
       "      <td>0</td>\n",
       "      <td>0</td>\n",
       "      <td>26</td>\n",
       "      <td>3</td>\n",
       "      <td>13100000</td>\n",
       "      <td>1</td>\n",
       "      <td>0</td>\n",
       "    </tr>\n",
       "    <tr>\n",
       "      <th>4</th>\n",
       "      <td>5</td>\n",
       "      <td>2011-09-05</td>\n",
       "      <td>77</td>\n",
       "      <td>77.0</td>\n",
       "      <td>4.0</td>\n",
       "      <td>NaN</td>\n",
       "      <td>NaN</td>\n",
       "      <td>NaN</td>\n",
       "      <td>NaN</td>\n",
       "      <td>NaN</td>\n",
       "      <td>...</td>\n",
       "      <td>17</td>\n",
       "      <td>135</td>\n",
       "      <td>236</td>\n",
       "      <td>2</td>\n",
       "      <td>91</td>\n",
       "      <td>195</td>\n",
       "      <td>14</td>\n",
       "      <td>16331452</td>\n",
       "      <td>1</td>\n",
       "      <td>0</td>\n",
       "    </tr>\n",
       "    <tr>\n",
       "      <th>...</th>\n",
       "      <td>...</td>\n",
       "      <td>...</td>\n",
       "      <td>...</td>\n",
       "      <td>...</td>\n",
       "      <td>...</td>\n",
       "      <td>...</td>\n",
       "      <td>...</td>\n",
       "      <td>...</td>\n",
       "      <td>...</td>\n",
       "      <td>...</td>\n",
       "      <td>...</td>\n",
       "      <td>...</td>\n",
       "      <td>...</td>\n",
       "      <td>...</td>\n",
       "      <td>...</td>\n",
       "      <td>...</td>\n",
       "      <td>...</td>\n",
       "      <td>...</td>\n",
       "      <td>...</td>\n",
       "      <td>...</td>\n",
       "      <td>...</td>\n",
       "    </tr>\n",
       "    <tr>\n",
       "      <th>30466</th>\n",
       "      <td>30469</td>\n",
       "      <td>2015-06-30</td>\n",
       "      <td>44</td>\n",
       "      <td>27.0</td>\n",
       "      <td>7.0</td>\n",
       "      <td>9.0</td>\n",
       "      <td>1.0</td>\n",
       "      <td>1975.0</td>\n",
       "      <td>2.0</td>\n",
       "      <td>6.0</td>\n",
       "      <td>...</td>\n",
       "      <td>0</td>\n",
       "      <td>15</td>\n",
       "      <td>26</td>\n",
       "      <td>1</td>\n",
       "      <td>2</td>\n",
       "      <td>84</td>\n",
       "      <td>6</td>\n",
       "      <td>7400000</td>\n",
       "      <td>1</td>\n",
       "      <td>0</td>\n",
       "    </tr>\n",
       "    <tr>\n",
       "      <th>30467</th>\n",
       "      <td>30470</td>\n",
       "      <td>2015-06-30</td>\n",
       "      <td>86</td>\n",
       "      <td>59.0</td>\n",
       "      <td>3.0</td>\n",
       "      <td>9.0</td>\n",
       "      <td>2.0</td>\n",
       "      <td>1935.0</td>\n",
       "      <td>4.0</td>\n",
       "      <td>10.0</td>\n",
       "      <td>...</td>\n",
       "      <td>24</td>\n",
       "      <td>98</td>\n",
       "      <td>182</td>\n",
       "      <td>1</td>\n",
       "      <td>82</td>\n",
       "      <td>171</td>\n",
       "      <td>15</td>\n",
       "      <td>25000000</td>\n",
       "      <td>1</td>\n",
       "      <td>0</td>\n",
       "    </tr>\n",
       "    <tr>\n",
       "      <th>30468</th>\n",
       "      <td>30471</td>\n",
       "      <td>2015-06-30</td>\n",
       "      <td>45</td>\n",
       "      <td>NaN</td>\n",
       "      <td>10.0</td>\n",
       "      <td>20.0</td>\n",
       "      <td>1.0</td>\n",
       "      <td>NaN</td>\n",
       "      <td>1.0</td>\n",
       "      <td>1.0</td>\n",
       "      <td>...</td>\n",
       "      <td>0</td>\n",
       "      <td>2</td>\n",
       "      <td>12</td>\n",
       "      <td>0</td>\n",
       "      <td>1</td>\n",
       "      <td>11</td>\n",
       "      <td>1</td>\n",
       "      <td>6970959</td>\n",
       "      <td>0</td>\n",
       "      <td>1</td>\n",
       "    </tr>\n",
       "    <tr>\n",
       "      <th>30469</th>\n",
       "      <td>30472</td>\n",
       "      <td>2015-06-30</td>\n",
       "      <td>64</td>\n",
       "      <td>32.0</td>\n",
       "      <td>5.0</td>\n",
       "      <td>15.0</td>\n",
       "      <td>1.0</td>\n",
       "      <td>2003.0</td>\n",
       "      <td>2.0</td>\n",
       "      <td>11.0</td>\n",
       "      <td>...</td>\n",
       "      <td>1</td>\n",
       "      <td>6</td>\n",
       "      <td>31</td>\n",
       "      <td>1</td>\n",
       "      <td>4</td>\n",
       "      <td>65</td>\n",
       "      <td>7</td>\n",
       "      <td>13500000</td>\n",
       "      <td>1</td>\n",
       "      <td>0</td>\n",
       "    </tr>\n",
       "    <tr>\n",
       "      <th>30470</th>\n",
       "      <td>30473</td>\n",
       "      <td>2015-06-30</td>\n",
       "      <td>43</td>\n",
       "      <td>28.0</td>\n",
       "      <td>1.0</td>\n",
       "      <td>9.0</td>\n",
       "      <td>1.0</td>\n",
       "      <td>1968.0</td>\n",
       "      <td>2.0</td>\n",
       "      <td>6.0</td>\n",
       "      <td>...</td>\n",
       "      <td>0</td>\n",
       "      <td>7</td>\n",
       "      <td>16</td>\n",
       "      <td>0</td>\n",
       "      <td>9</td>\n",
       "      <td>54</td>\n",
       "      <td>10</td>\n",
       "      <td>5600000</td>\n",
       "      <td>1</td>\n",
       "      <td>0</td>\n",
       "    </tr>\n",
       "  </tbody>\n",
       "</table>\n",
       "<p>30471 rows × 293 columns</p>\n",
       "</div>"
      ],
      "text/plain": [
       "          id   timestamp  full_sq  life_sq  floor  max_floor  material  \\\n",
       "0          1  2011-08-20       43     27.0    4.0        NaN       NaN   \n",
       "1          2  2011-08-23       34     19.0    3.0        NaN       NaN   \n",
       "2          3  2011-08-27       43     29.0    2.0        NaN       NaN   \n",
       "3          4  2011-09-01       89     50.0    9.0        NaN       NaN   \n",
       "4          5  2011-09-05       77     77.0    4.0        NaN       NaN   \n",
       "...      ...         ...      ...      ...    ...        ...       ...   \n",
       "30466  30469  2015-06-30       44     27.0    7.0        9.0       1.0   \n",
       "30467  30470  2015-06-30       86     59.0    3.0        9.0       2.0   \n",
       "30468  30471  2015-06-30       45      NaN   10.0       20.0       1.0   \n",
       "30469  30472  2015-06-30       64     32.0    5.0       15.0       1.0   \n",
       "30470  30473  2015-06-30       43     28.0    1.0        9.0       1.0   \n",
       "\n",
       "       build_year  num_room  kitch_sq  ...  cafe_count_5000_price_high  \\\n",
       "0             NaN       NaN       NaN  ...                           0   \n",
       "1             NaN       NaN       NaN  ...                           0   \n",
       "2             NaN       NaN       NaN  ...                           0   \n",
       "3             NaN       NaN       NaN  ...                           1   \n",
       "4             NaN       NaN       NaN  ...                          17   \n",
       "...           ...       ...       ...  ...                         ...   \n",
       "30466      1975.0       2.0       6.0  ...                           0   \n",
       "30467      1935.0       4.0      10.0  ...                          24   \n",
       "30468         NaN       1.0       1.0  ...                           0   \n",
       "30469      2003.0       2.0      11.0  ...                           1   \n",
       "30470      1968.0       2.0       6.0  ...                           0   \n",
       "\n",
       "      big_church_count_5000  church_count_5000  mosque_count_5000  \\\n",
       "0                        13                 22                  1   \n",
       "1                        15                 29                  1   \n",
       "2                        11                 27                  0   \n",
       "3                         4                  4                  0   \n",
       "4                       135                236                  2   \n",
       "...                     ...                ...                ...   \n",
       "30466                    15                 26                  1   \n",
       "30467                    98                182                  1   \n",
       "30468                     2                 12                  0   \n",
       "30469                     6                 31                  1   \n",
       "30470                     7                 16                  0   \n",
       "\n",
       "       leisure_count_5000  sport_count_5000  market_count_5000  price_doc  \\\n",
       "0                       0                52                  4    5850000   \n",
       "1                      10                66                 14    6000000   \n",
       "2                       4                67                 10    5700000   \n",
       "3                       0                26                  3   13100000   \n",
       "4                      91               195                 14   16331452   \n",
       "...                   ...               ...                ...        ...   \n",
       "30466                   2                84                  6    7400000   \n",
       "30467                  82               171                 15   25000000   \n",
       "30468                   1                11                  1    6970959   \n",
       "30469                   4                65                  7   13500000   \n",
       "30470                   9                54                 10    5600000   \n",
       "\n",
       "       Investment  OwnerOccupier  \n",
       "0               1              0  \n",
       "1               1              0  \n",
       "2               1              0  \n",
       "3               1              0  \n",
       "4               1              0  \n",
       "...           ...            ...  \n",
       "30466           1              0  \n",
       "30467           1              0  \n",
       "30468           0              1  \n",
       "30469           1              0  \n",
       "30470           1              0  \n",
       "\n",
       "[30471 rows x 293 columns]"
      ]
     },
     "execution_count": 112,
     "metadata": {},
     "output_type": "execute_result"
    }
   ],
   "source": [
    "df"
   ]
  },
  {
   "cell_type": "markdown",
   "metadata": {},
   "source": [
    "# Проблемы\n",
    "\n",
    "- Dummies ловушка\n",
    "- Проклятие размерности"
   ]
  },
  {
   "cell_type": "code",
   "execution_count": null,
   "metadata": {},
   "outputs": [],
   "source": []
  }
 ],
 "metadata": {
  "kernelspec": {
   "display_name": "Python 3",
   "language": "python",
   "name": "python3"
  },
  "language_info": {
   "codemirror_mode": {
    "name": "ipython",
    "version": 3
   },
   "file_extension": ".py",
   "mimetype": "text/x-python",
   "name": "python",
   "nbconvert_exporter": "python",
   "pygments_lexer": "ipython3",
   "version": "3.8.5"
  },
  "toc": {
   "base_numbering": 1,
   "nav_menu": {},
   "number_sections": true,
   "sideBar": true,
   "skip_h1_title": false,
   "title_cell": "Table of Contents",
   "title_sidebar": "Contents",
   "toc_cell": false,
   "toc_position": {},
   "toc_section_display": true,
   "toc_window_display": false
  }
 },
 "nbformat": 4,
 "nbformat_minor": 4
}
